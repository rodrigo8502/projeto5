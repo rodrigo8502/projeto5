{
 "cells": [
  {
   "cell_type": "markdown",
   "metadata": {
    "application/vnd.databricks.v1+cell": {
     "cellMetadata": {
      "byteLimit": 2048000,
      "rowLimit": 10000
     },
     "inputWidgets": {},
     "nuid": "82434286-debf-48c9-80b7-a3988a050fe1",
     "showTitle": false,
     "tableResultSettingsMap": {},
     "title": ""
    }
   },
   "source": [
    "## 1. Objetivo\n",
    "\n",
    "\n",
    "\n",
    "Objetivo do MVP: Analisar os produtos da plataforma de e-commerce Amazon, com foco na relação entre preço, desconto e avaliação dos usuários, para identificar os produtos mais vantajosos para os consumidores.\n",
    "\n",
    "Perguntas de Negócio:\n",
    "Qual é a relação entre o preço atual e o preço com desconto? Produtos com grandes descontos têm melhor avaliação?\n",
    "Quais categorias de produtos possuem os maiores descontos e as melhores avaliações?\n",
    "Qual é a média de avaliações por categoria?\n",
    "Como o desconto impacta a avaliação do produto? \n",
    "Quais são os produtos mais populares, baseados no número de avaliações e no rating?\n"
   ]
  },
  {
   "cell_type": "code",
   "execution_count": 0,
   "metadata": {
    "application/vnd.databricks.v1+cell": {
     "cellMetadata": {
      "byteLimit": 2048000,
      "rowLimit": 10000
     },
     "inputWidgets": {},
     "nuid": "abf5a1af-d1ed-480a-b33c-759738cb42a6",
     "showTitle": false,
     "tableResultSettingsMap": {},
     "title": ""
    }
   },
   "outputs": [
    {
     "output_type": "stream",
     "name": "stdout",
     "output_type": "stream",
     "text": [
      "Requirement already satisfied: pandas in /databricks/python3/lib/python3.9/site-packages (1.4.2)\r\nRequirement already satisfied: python-dateutil>=2.8.1 in /databricks/python3/lib/python3.9/site-packages (from pandas) (2.8.2)\r\nRequirement already satisfied: numpy>=1.18.5 in /databricks/python3/lib/python3.9/site-packages (from pandas) (1.21.5)\r\nRequirement already satisfied: pytz>=2020.1 in /databricks/python3/lib/python3.9/site-packages (from pandas) (2021.3)\r\nRequirement already satisfied: six>=1.5 in /databricks/python3/lib/python3.9/site-packages (from python-dateutil>=2.8.1->pandas) (1.16.0)\r\n\u001B[33mWARNING: You are using pip version 21.2.4; however, version 25.0.1 is available.\r\nYou should consider upgrading via the '/local_disk0/.ephemeral_nfs/envs/pythonEnv-2423f55c-5b2d-4f82-9fd8-77042e1aa3cd/bin/python -m pip install --upgrade pip' command.\u001B[0m\r\n"
     ]
    },
    {
     "output_type": "display_data",
     "data": {
      "application/vnd.databricks.v1+bamboolib_hint": "{\"pd.DataFrames\": [], \"version\": \"0.0.1\"}",
      "text/plain": []
     },
     "metadata": {},
     "output_type": "display_data"
    }
   ],
   "source": [
    "# configuração para não exibir os warnings\n",
    "import warnings\n",
    "warnings.filterwarnings(\"ignore\")\n",
    "\n",
    "!pip install pandas\n",
    "\n",
    "\n",
    "\n",
    "# Imports necessários\n",
    "import pandas as pd\n",
    "import numpy as np\n",
    "import matplotlib.pyplot as plt\n",
    "from pyspark.sql import SparkSession\n",
    "from pyspark.sql.functions import col"
   ]
  },
  {
   "cell_type": "markdown",
   "metadata": {
    "application/vnd.databricks.v1+cell": {
     "cellMetadata": {
      "byteLimit": 2048000,
      "rowLimit": 10000
     },
     "inputWidgets": {},
     "nuid": "b22f7f7d-13a2-424a-b556-0c1ffbaa7d57",
     "showTitle": false,
     "tableResultSettingsMap": {},
     "title": ""
    }
   },
   "source": [
    "## 2 - COLETA"
   ]
  },
  {
   "cell_type": "markdown",
   "metadata": {
    "application/vnd.databricks.v1+cell": {
     "cellMetadata": {
      "byteLimit": 2048000,
      "rowLimit": 10000
     },
     "inputWidgets": {},
     "nuid": "575827aa-b196-438b-bd88-0f5db5df063b",
     "showTitle": false,
     "tableResultSettingsMap": {},
     "title": ""
    }
   },
   "source": [
    "A coleta do conjunto de dados foi feita do site Kaggle e foi utilizado o Amazon Sales Dataset."
   ]
  },
  {
   "cell_type": "code",
   "execution_count": 0,
   "metadata": {
    "application/vnd.databricks.v1+cell": {
     "cellMetadata": {
      "byteLimit": 2048000,
      "rowLimit": 10000
     },
     "inputWidgets": {},
     "nuid": "810ebbe9-b7a2-4ea5-8262-4bd6d7df5c78",
     "showTitle": false,
     "tableResultSettingsMap": {},
     "title": ""
    }
   },
   "outputs": [],
   "source": [
    "# Informa a URL de importação do dataset\n",
    "url = \"https://raw.githubusercontent.com/rodrigo8502/projeto5/refs/heads/main/amazon.csv\"\n",
    "\n",
    "# Lê o arquivo\n",
    "dataset = pd.read_csv(url, delimiter=',')"
   ]
  },
  {
   "cell_type": "code",
   "execution_count": 0,
   "metadata": {
    "application/vnd.databricks.v1+cell": {
     "cellMetadata": {
      "byteLimit": 2048000,
      "rowLimit": 10000
     },
     "inputWidgets": {},
     "nuid": "f6ac470d-d687-4f95-b14d-0b94a0258fbc",
     "showTitle": false,
     "tableResultSettingsMap": {},
     "title": ""
    }
   },
   "outputs": [
    {
     "output_type": "display_data",
     "data": {
      "text/html": [
       "<div>\n",
       "<style scoped>\n",
       "    .dataframe tbody tr th:only-of-type {\n",
       "        vertical-align: middle;\n",
       "    }\n",
       "\n",
       "    .dataframe tbody tr th {\n",
       "        vertical-align: top;\n",
       "    }\n",
       "\n",
       "    .dataframe thead th {\n",
       "        text-align: right;\n",
       "    }\n",
       "</style>\n",
       "<table border=\"1\" class=\"dataframe\">\n",
       "  <thead>\n",
       "    <tr style=\"text-align: right;\">\n",
       "      <th></th>\n",
       "      <th>product_id</th>\n",
       "      <th>product_name</th>\n",
       "      <th>category</th>\n",
       "      <th>discounted_price</th>\n",
       "      <th>actual_price</th>\n",
       "      <th>discount_percentage</th>\n",
       "      <th>rating</th>\n",
       "      <th>rating_count</th>\n",
       "      <th>about_product</th>\n",
       "      <th>user_id</th>\n",
       "      <th>user_name</th>\n",
       "      <th>review_id</th>\n",
       "      <th>review_title</th>\n",
       "      <th>review_content</th>\n",
       "      <th>img_link</th>\n",
       "      <th>product_link</th>\n",
       "    </tr>\n",
       "  </thead>\n",
       "  <tbody>\n",
       "    <tr>\n",
       "      <th>0</th>\n",
       "      <td>B07JW9H4J1</td>\n",
       "      <td>Wayona Nylon Braided USB to Lightning Fast Cha...</td>\n",
       "      <td>Computers&amp;Accessories|Accessories&amp;Peripherals|...</td>\n",
       "      <td>₹399</td>\n",
       "      <td>₹1,099</td>\n",
       "      <td>64%</td>\n",
       "      <td>4.2</td>\n",
       "      <td>24,269</td>\n",
       "      <td>High Compatibility : Compatible With iPhone 12...</td>\n",
       "      <td>AG3D6O4STAQKAY2UVGEUV46KN35Q,AHMY5CWJMMK5BJRBB...</td>\n",
       "      <td>Manav,Adarsh gupta,Sundeep,S.Sayeed Ahmed,jasp...</td>\n",
       "      <td>R3HXWT0LRP0NMF,R2AJM3LFTLZHFO,R6AQJGUP6P86,R1K...</td>\n",
       "      <td>Satisfied,Charging is really fast,Value for mo...</td>\n",
       "      <td>Looks durable Charging is fine tooNo complains...</td>\n",
       "      <td>https://m.media-amazon.com/images/W/WEBP_40237...</td>\n",
       "      <td>https://www.amazon.in/Wayona-Braided-WN3LG1-Sy...</td>\n",
       "    </tr>\n",
       "    <tr>\n",
       "      <th>1</th>\n",
       "      <td>B098NS6PVG</td>\n",
       "      <td>Ambrane Unbreakable 60W / 3A Fast Charging 1.5...</td>\n",
       "      <td>Computers&amp;Accessories|Accessories&amp;Peripherals|...</td>\n",
       "      <td>₹199</td>\n",
       "      <td>₹349</td>\n",
       "      <td>43%</td>\n",
       "      <td>4.0</td>\n",
       "      <td>43,994</td>\n",
       "      <td>Compatible with all Type C enabled devices, be...</td>\n",
       "      <td>AECPFYFQVRUWC3KGNLJIOREFP5LQ,AGYYVPDD7YG7FYNBX...</td>\n",
       "      <td>ArdKn,Nirbhay kumar,Sagar Viswanathan,Asp,Plac...</td>\n",
       "      <td>RGIQEG07R9HS2,R1SMWZQ86XIN8U,R2J3Y1WL29GWDE,RY...</td>\n",
       "      <td>A Good Braided Cable for Your Type C Device,Go...</td>\n",
       "      <td>I ordered this cable to connect my phone to An...</td>\n",
       "      <td>https://m.media-amazon.com/images/W/WEBP_40237...</td>\n",
       "      <td>https://www.amazon.in/Ambrane-Unbreakable-Char...</td>\n",
       "    </tr>\n",
       "    <tr>\n",
       "      <th>2</th>\n",
       "      <td>B096MSW6CT</td>\n",
       "      <td>Sounce Fast Phone Charging Cable &amp; Data Sync U...</td>\n",
       "      <td>Computers&amp;Accessories|Accessories&amp;Peripherals|...</td>\n",
       "      <td>₹199</td>\n",
       "      <td>₹1,899</td>\n",
       "      <td>90%</td>\n",
       "      <td>3.9</td>\n",
       "      <td>7,928</td>\n",
       "      <td>【 Fast Charger&amp; Data Sync】-With built-in safet...</td>\n",
       "      <td>AGU3BBQ2V2DDAMOAKGFAWDDQ6QHA,AESFLDV2PT363T2AQ...</td>\n",
       "      <td>Kunal,Himanshu,viswanath,sai niharka,saqib mal...</td>\n",
       "      <td>R3J3EQQ9TZI5ZJ,R3E7WBGK7ID0KV,RWU79XKQ6I1QF,R2...</td>\n",
       "      <td>Good speed for earlier versions,Good Product,W...</td>\n",
       "      <td>Not quite durable and sturdy,https://m.media-a...</td>\n",
       "      <td>https://m.media-amazon.com/images/W/WEBP_40237...</td>\n",
       "      <td>https://www.amazon.in/Sounce-iPhone-Charging-C...</td>\n",
       "    </tr>\n",
       "    <tr>\n",
       "      <th>3</th>\n",
       "      <td>B08HDJ86NZ</td>\n",
       "      <td>boAt Deuce USB 300 2 in 1 Type-C &amp; Micro USB S...</td>\n",
       "      <td>Computers&amp;Accessories|Accessories&amp;Peripherals|...</td>\n",
       "      <td>₹329</td>\n",
       "      <td>₹699</td>\n",
       "      <td>53%</td>\n",
       "      <td>4.2</td>\n",
       "      <td>94,363</td>\n",
       "      <td>The boAt Deuce USB 300 2 in 1 cable is compati...</td>\n",
       "      <td>AEWAZDZZJLQUYVOVGBEUKSLXHQ5A,AG5HTSFRRE6NL3M5S...</td>\n",
       "      <td>Omkar dhale,JD,HEMALATHA,Ajwadh a.,amar singh ...</td>\n",
       "      <td>R3EEUZKKK9J36I,R3HJVYCLYOY554,REDECAZ7AMPQC,R1...</td>\n",
       "      <td>Good product,Good one,Nice,Really nice product...</td>\n",
       "      <td>Good product,long wire,Charges good,Nice,I bou...</td>\n",
       "      <td>https://m.media-amazon.com/images/I/41V5FtEWPk...</td>\n",
       "      <td>https://www.amazon.in/Deuce-300-Resistant-Tang...</td>\n",
       "    </tr>\n",
       "    <tr>\n",
       "      <th>4</th>\n",
       "      <td>B08CF3B7N1</td>\n",
       "      <td>Portronics Konnect L 1.2M Fast Charging 3A 8 P...</td>\n",
       "      <td>Computers&amp;Accessories|Accessories&amp;Peripherals|...</td>\n",
       "      <td>₹154</td>\n",
       "      <td>₹399</td>\n",
       "      <td>61%</td>\n",
       "      <td>4.2</td>\n",
       "      <td>16,905</td>\n",
       "      <td>[CHARGE &amp; SYNC FUNCTION]- This cable comes wit...</td>\n",
       "      <td>AE3Q6KSUK5P75D5HFYHCRAOLODSA,AFUGIFH5ZAFXRDSZH...</td>\n",
       "      <td>rahuls6099,Swasat Borah,Ajay Wadke,Pranali,RVK...</td>\n",
       "      <td>R1BP4L2HH9TFUP,R16PVJEXKV6QZS,R2UPDB81N66T4P,R...</td>\n",
       "      <td>As good as original,Decent,Good one for second...</td>\n",
       "      <td>Bought this instead of original apple, does th...</td>\n",
       "      <td>https://m.media-amazon.com/images/W/WEBP_40237...</td>\n",
       "      <td>https://www.amazon.in/Portronics-Konnect-POR-1...</td>\n",
       "    </tr>\n",
       "  </tbody>\n",
       "</table>\n",
       "</div>"
      ]
     },
     "metadata": {
      "application/vnd.databricks.v1+output": {
       "addedWidgets": {},
       "arguments": {},
       "data": "<div>\n<style scoped>\n    .dataframe tbody tr th:only-of-type {\n        vertical-align: middle;\n    }\n\n    .dataframe tbody tr th {\n        vertical-align: top;\n    }\n\n    .dataframe thead th {\n        text-align: right;\n    }\n</style>\n<table border=\"1\" class=\"dataframe\">\n  <thead>\n    <tr style=\"text-align: right;\">\n      <th></th>\n      <th>product_id</th>\n      <th>product_name</th>\n      <th>category</th>\n      <th>discounted_price</th>\n      <th>actual_price</th>\n      <th>discount_percentage</th>\n      <th>rating</th>\n      <th>rating_count</th>\n      <th>about_product</th>\n      <th>user_id</th>\n      <th>user_name</th>\n      <th>review_id</th>\n      <th>review_title</th>\n      <th>review_content</th>\n      <th>img_link</th>\n      <th>product_link</th>\n    </tr>\n  </thead>\n  <tbody>\n    <tr>\n      <th>0</th>\n      <td>B07JW9H4J1</td>\n      <td>Wayona Nylon Braided USB to Lightning Fast Cha...</td>\n      <td>Computers&amp;Accessories|Accessories&amp;Peripherals|...</td>\n      <td>₹399</td>\n      <td>₹1,099</td>\n      <td>64%</td>\n      <td>4.2</td>\n      <td>24,269</td>\n      <td>High Compatibility : Compatible With iPhone 12...</td>\n      <td>AG3D6O4STAQKAY2UVGEUV46KN35Q,AHMY5CWJMMK5BJRBB...</td>\n      <td>Manav,Adarsh gupta,Sundeep,S.Sayeed Ahmed,jasp...</td>\n      <td>R3HXWT0LRP0NMF,R2AJM3LFTLZHFO,R6AQJGUP6P86,R1K...</td>\n      <td>Satisfied,Charging is really fast,Value for mo...</td>\n      <td>Looks durable Charging is fine tooNo complains...</td>\n      <td>https://m.media-amazon.com/images/W/WEBP_40237...</td>\n      <td>https://www.amazon.in/Wayona-Braided-WN3LG1-Sy...</td>\n    </tr>\n    <tr>\n      <th>1</th>\n      <td>B098NS6PVG</td>\n      <td>Ambrane Unbreakable 60W / 3A Fast Charging 1.5...</td>\n      <td>Computers&amp;Accessories|Accessories&amp;Peripherals|...</td>\n      <td>₹199</td>\n      <td>₹349</td>\n      <td>43%</td>\n      <td>4.0</td>\n      <td>43,994</td>\n      <td>Compatible with all Type C enabled devices, be...</td>\n      <td>AECPFYFQVRUWC3KGNLJIOREFP5LQ,AGYYVPDD7YG7FYNBX...</td>\n      <td>ArdKn,Nirbhay kumar,Sagar Viswanathan,Asp,Plac...</td>\n      <td>RGIQEG07R9HS2,R1SMWZQ86XIN8U,R2J3Y1WL29GWDE,RY...</td>\n      <td>A Good Braided Cable for Your Type C Device,Go...</td>\n      <td>I ordered this cable to connect my phone to An...</td>\n      <td>https://m.media-amazon.com/images/W/WEBP_40237...</td>\n      <td>https://www.amazon.in/Ambrane-Unbreakable-Char...</td>\n    </tr>\n    <tr>\n      <th>2</th>\n      <td>B096MSW6CT</td>\n      <td>Sounce Fast Phone Charging Cable &amp; Data Sync U...</td>\n      <td>Computers&amp;Accessories|Accessories&amp;Peripherals|...</td>\n      <td>₹199</td>\n      <td>₹1,899</td>\n      <td>90%</td>\n      <td>3.9</td>\n      <td>7,928</td>\n      <td>【 Fast Charger&amp; Data Sync】-With built-in safet...</td>\n      <td>AGU3BBQ2V2DDAMOAKGFAWDDQ6QHA,AESFLDV2PT363T2AQ...</td>\n      <td>Kunal,Himanshu,viswanath,sai niharka,saqib mal...</td>\n      <td>R3J3EQQ9TZI5ZJ,R3E7WBGK7ID0KV,RWU79XKQ6I1QF,R2...</td>\n      <td>Good speed for earlier versions,Good Product,W...</td>\n      <td>Not quite durable and sturdy,https://m.media-a...</td>\n      <td>https://m.media-amazon.com/images/W/WEBP_40237...</td>\n      <td>https://www.amazon.in/Sounce-iPhone-Charging-C...</td>\n    </tr>\n    <tr>\n      <th>3</th>\n      <td>B08HDJ86NZ</td>\n      <td>boAt Deuce USB 300 2 in 1 Type-C &amp; Micro USB S...</td>\n      <td>Computers&amp;Accessories|Accessories&amp;Peripherals|...</td>\n      <td>₹329</td>\n      <td>₹699</td>\n      <td>53%</td>\n      <td>4.2</td>\n      <td>94,363</td>\n      <td>The boAt Deuce USB 300 2 in 1 cable is compati...</td>\n      <td>AEWAZDZZJLQUYVOVGBEUKSLXHQ5A,AG5HTSFRRE6NL3M5S...</td>\n      <td>Omkar dhale,JD,HEMALATHA,Ajwadh a.,amar singh ...</td>\n      <td>R3EEUZKKK9J36I,R3HJVYCLYOY554,REDECAZ7AMPQC,R1...</td>\n      <td>Good product,Good one,Nice,Really nice product...</td>\n      <td>Good product,long wire,Charges good,Nice,I bou...</td>\n      <td>https://m.media-amazon.com/images/I/41V5FtEWPk...</td>\n      <td>https://www.amazon.in/Deuce-300-Resistant-Tang...</td>\n    </tr>\n    <tr>\n      <th>4</th>\n      <td>B08CF3B7N1</td>\n      <td>Portronics Konnect L 1.2M Fast Charging 3A 8 P...</td>\n      <td>Computers&amp;Accessories|Accessories&amp;Peripherals|...</td>\n      <td>₹154</td>\n      <td>₹399</td>\n      <td>61%</td>\n      <td>4.2</td>\n      <td>16,905</td>\n      <td>[CHARGE &amp; SYNC FUNCTION]- This cable comes wit...</td>\n      <td>AE3Q6KSUK5P75D5HFYHCRAOLODSA,AFUGIFH5ZAFXRDSZH...</td>\n      <td>rahuls6099,Swasat Borah,Ajay Wadke,Pranali,RVK...</td>\n      <td>R1BP4L2HH9TFUP,R16PVJEXKV6QZS,R2UPDB81N66T4P,R...</td>\n      <td>As good as original,Decent,Good one for second...</td>\n      <td>Bought this instead of original apple, does th...</td>\n      <td>https://m.media-amazon.com/images/W/WEBP_40237...</td>\n      <td>https://www.amazon.in/Portronics-Konnect-POR-1...</td>\n    </tr>\n  </tbody>\n</table>\n</div>",
       "datasetInfos": [],
       "metadata": {},
       "removedWidgets": [],
       "textData": null,
       "type": "htmlSandbox"
      }
     },
     "output_type": "display_data"
    }
   ],
   "source": [
    "# Mostra as primeiras linhas do dataset\n",
    "dataset.head()\n",
    "\n"
   ]
  },
  {
   "cell_type": "code",
   "execution_count": 0,
   "metadata": {
    "application/vnd.databricks.v1+cell": {
     "cellMetadata": {
      "byteLimit": 2048000,
      "rowLimit": 10000
     },
     "inputWidgets": {},
     "nuid": "fc5983d9-a172-4c94-9768-f5f7c4e8019e",
     "showTitle": false,
     "tableResultSettingsMap": {},
     "title": ""
    }
   },
   "outputs": [
    {
     "output_type": "stream",
     "name": "stdout",
     "output_type": "stream",
     "text": [
      "Out[4]: (1465, 16)"
     ]
    }
   ],
   "source": [
    "dataset.shape # Mostra o número de linhas e colunas\n"
   ]
  },
  {
   "cell_type": "code",
   "execution_count": 0,
   "metadata": {
    "application/vnd.databricks.v1+cell": {
     "cellMetadata": {
      "byteLimit": 2048000,
      "implicitDf": true,
      "rowLimit": 10000
     },
     "inputWidgets": {},
     "nuid": "3d5fc038-bab9-446a-a976-134c190721ab",
     "showTitle": false,
     "tableResultSettingsMap": {},
     "title": ""
    }
   },
   "outputs": [
    {
     "output_type": "display_data",
     "data": {
      "text/html": [
       "<style scoped>\n",
       "  .table-result-container {\n",
       "    max-height: 300px;\n",
       "    overflow: auto;\n",
       "  }\n",
       "  table, th, td {\n",
       "    border: 1px solid black;\n",
       "    border-collapse: collapse;\n",
       "  }\n",
       "  th, td {\n",
       "    padding: 5px;\n",
       "  }\n",
       "  th {\n",
       "    text-align: left;\n",
       "  }\n",
       "</style><div class='table-result-container'><table class='table-result'><thead style='background-color: white'><tr></tr></thead><tbody></tbody></table></div>"
      ]
     },
     "metadata": {
      "application/vnd.databricks.v1+output": {
       "addedWidgets": {},
       "aggData": [],
       "aggError": "",
       "aggOverflow": false,
       "aggSchema": [],
       "aggSeriesLimitReached": false,
       "aggType": "",
       "arguments": {},
       "columnCustomDisplayInfos": {},
       "data": [],
       "datasetInfos": [],
       "dbfsResultPath": null,
       "isJsonSchema": true,
       "metadata": {},
       "overflow": false,
       "plotOptions": {
        "customPlotOptions": {},
        "displayType": "table",
        "pivotAggregation": null,
        "pivotColumns": null,
        "xColumns": null,
        "yColumns": null
       },
       "removedWidgets": [],
       "schema": [],
       "type": "table"
      }
     },
     "output_type": "display_data"
    }
   ],
   "source": [
    "%sql CREATE DATABASE IF NOT EXISTS bronze;"
   ]
  },
  {
   "cell_type": "markdown",
   "metadata": {
    "application/vnd.databricks.v1+cell": {
     "cellMetadata": {},
     "inputWidgets": {},
     "nuid": "90a98772-a55a-428a-bedf-e4220bb0ac0f",
     "showTitle": false,
     "tableResultSettingsMap": {},
     "title": ""
    }
   },
   "source": []
  },
  {
   "cell_type": "code",
   "execution_count": 0,
   "metadata": {
    "application/vnd.databricks.v1+cell": {
     "cellMetadata": {
      "byteLimit": 2048000,
      "rowLimit": 10000
     },
     "inputWidgets": {},
     "nuid": "714b118a-d8eb-4664-9d27-33c5cc874160",
     "showTitle": false,
     "tableResultSettingsMap": {},
     "title": ""
    }
   },
   "outputs": [],
   "source": [
    "#Criação de um dataframe spark a partir de um dataset e esse dataframe é salvo em uma tabela bronze.name_basics. \n",
    "# Esse código trata de dados brutos com pouca transformação \n",
    "spark_df = spark.createDataFrame(dataset)\n",
    "spark_df.write.mode(\"overwrite\").saveAsTable(\"bronze.name_basics\")"
   ]
  },
  {
   "cell_type": "code",
   "execution_count": 0,
   "metadata": {
    "application/vnd.databricks.v1+cell": {
     "cellMetadata": {
      "byteLimit": 2048000,
      "implicitDf": true,
      "rowLimit": 10000
     },
     "inputWidgets": {},
     "nuid": "1facaf33-c69f-4623-bba7-8b8253efa3dd",
     "showTitle": false,
     "tableResultSettingsMap": {},
     "title": ""
    }
   },
   "outputs": [
    {
     "output_type": "display_data",
     "data": {
      "text/html": [
       "<style scoped>\n",
       "  .table-result-container {\n",
       "    max-height: 300px;\n",
       "    overflow: auto;\n",
       "  }\n",
       "  table, th, td {\n",
       "    border: 1px solid black;\n",
       "    border-collapse: collapse;\n",
       "  }\n",
       "  th, td {\n",
       "    padding: 5px;\n",
       "  }\n",
       "  th {\n",
       "    text-align: left;\n",
       "  }\n",
       "</style><div class='table-result-container'><table class='table-result'><thead style='background-color: white'><tr><th>product_id</th><th>product_name</th><th>category</th><th>discounted_price</th><th>actual_price</th><th>discount_percentage</th><th>rating</th><th>rating_count</th><th>about_product</th><th>user_id</th><th>user_name</th><th>review_id</th><th>review_title</th><th>review_content</th><th>img_link</th><th>product_link</th></tr></thead><tbody><tr><td>B07JW9H4J1</td><td>Wayona Nylon Braided USB to Lightning Fast Charging and Data Sync Cable Compatible for iPhone 13, 12,11, X, 8, 7, 6, 5, iPad Air, Pro, Mini (3 FT Pack of 1, Grey)</td><td>Computers&Accessories|Accessories&Peripherals|Cables&Accessories|Cables|USBCables</td><td>399.0</td><td>1099.0</td><td>64.0</td><td>4.2</td><td>null</td><td>High Compatibility : Compatible With iPhone 12, 11, X/XsMax/Xr ,iPhone 8/8 Plus,iPhone 7/7 Plus,iPhone 6s/6s Plus,iPhone 6/6 Plus,iPhone 5/5s/5c/se,iPad Pro,iPad Air 1/2,iPad mini 1/2/3,iPod nano7,iPod touch and more apple devices.|Fast Charge&Data Sync : It can charge and sync simultaneously at a rapid speed, Compatible with any charging adaptor, multi-port charging station or power bank.|Durability : Durable nylon braided design with premium aluminum housing and toughened nylon fiber wound tightly around the cord lending it superior durability and adding a bit to its flexibility.|High Security Level : It is designed to fully protect your device from damaging excessive current.Copper core thick+Multilayer shielding, Anti-interference, Protective circuit equipment.|WARRANTY: 12 months warranty and friendly customer services, ensures the long-time enjoyment of your purchase. If you meet any question or problem, please don't hesitate to contact us.</td><td>AG3D6O4STAQKAY2UVGEUV46KN35Q,AHMY5CWJMMK5BJRBBSNLYT3ONILA,AHCTC6ULH4XB6YHDY6PCH2R772LQ,AGYHHIERNXKA6P5T7CZLXKVPT7IQ,AG4OGOFWXJZTQ2HKYIOCOY3KXF2Q,AENGU523SXMOS7JPDTW52PNNVWGQ,AEQJHCVTNINBS4FKTBGQRQTGTE5Q,AFC3FFC5PKFF5PMA52S3VCHOZ5FQ</td><td>Manav,Adarsh gupta,Sundeep,S.Sayeed Ahmed,jaspreet singh,Khaja moin,Anand,S.ARUMUGAM</td><td>R3HXWT0LRP0NMF,R2AJM3LFTLZHFO,R6AQJGUP6P86,R1KD19VHEDV0OR,R3C02RMYQMK6FC,R39GQRVBUZBWGY,R2K9EDOE15QIRJ,R3OI7YT648TL8I</td><td>Satisfied,Charging is really fast,Value for money,Product review,Good quality,Good product,Good Product,As of now seems good</td><td>Looks durable Charging is fine tooNo complains,Charging is really fast, good product.,Till now satisfied with the quality.,This is a good product . The charging speed is slower than the original iPhone cable,Good quality, would recommend,https://m.media-amazon.com/images/W/WEBP_402378-T1/images/I/81---F1ZgHL._SY88.jpg,Product had worked well till date and was having no issue.Cable is also sturdy enough...Have asked for replacement and company is doing the same...,Value for money</td><td>https://m.media-amazon.com/images/W/WEBP_402378-T1/images/I/51UsScvHQNL._SX300_SY300_QL70_FMwebp_.jpg</td><td>https://www.amazon.in/Wayona-Braided-WN3LG1-Syncing-Charging/dp/B07JW9H4J1/ref=sr_1_1?qid=1672909124&s=electronics&sr=1-1</td></tr><tr><td>B098NS6PVG</td><td>Ambrane Unbreakable 60W / 3A Fast Charging 1.5m Braided Type C Cable for Smartphones, Tablets, Laptops & other Type C devices, PD Technology, 480Mbps Data Sync, Quick Charge 3.0 (RCT15A, Black)</td><td>Computers&Accessories|Accessories&Peripherals|Cables&Accessories|Cables|USBCables</td><td>199.0</td><td>349.0</td><td>43.0</td><td>4.0</td><td>null</td><td>Compatible with all Type C enabled devices, be it an android smartphone (Mi, Samsung, Oppo, Vivo, Realme, OnePlus, etc), tablet, laptop (Macbook, Chromebook, etc)|Supports Quick Charging (2.0/3.0)|Unbreakable – Made of special braided outer with rugged interior bindings, it is ultra-durable cable that won’t be affected by daily rough usage|Ideal Length – It has ideal length of 1.5 meters which is neither too short like your typical 1meter cable or too long like a 2meters cable|Supports maximum 3A fast charging and 480 Mbps data transfer speed|6 months manufacturer warranty from the date of purchase</td><td>AECPFYFQVRUWC3KGNLJIOREFP5LQ,AGYYVPDD7YG7FYNBXNGXZJT525AQ,AHONIZU3ICIEHQIGQ6R2VFRSBXOQ,AFPHD2CRPDZMWMBL7WXRSVYWS5JA,AEZ346GX3HJ4O4XNRPHCNHXQURMQ,AEPSWFPNECKO34PUC7I56ITGXR6Q,AHWVEHR5DYLVFTO2KF3IZATFQSWQ,AH4QT33M55677I7ISQOAKEQWACYQ</td><td>ArdKn,Nirbhay kumar,Sagar Viswanathan,Asp,Placeholder,BharanI,sonia,Niam</td><td>RGIQEG07R9HS2,R1SMWZQ86XIN8U,R2J3Y1WL29GWDE,RYGGS0M09S3KY,R17KQRUTAN5DKS,R3AAQGS6HP2QUK,R1HDNOG6TO2CCA,R3PHKXYA5AFEOU</td><td>A Good Braided Cable for Your Type C Device,Good quality product from ambrane,Super cable,As,Good quality,Good product,its good,Good quality for the price but one issue with my unit</td><td>I ordered this cable to connect my phone to Android Auto of car. The cable is really strong and the connection ports are really well made. I already has a Micro USB cable from Ambrane and it's still in good shape. I connected my phone to the car using the cable and it got connected well and no issues. I also connected it to the charging port and yes it has Fast Charging support.,It quality is good at this price and the main thing is that i didn't ever thought that this cable will be so long it's good one and charging power is too good and also supports fast charging,Value for money, with extra length👍,Good, working fine,Product quality is good,Good,very good,Bought for my daughter's old phone.Brand new cable it was not charging, I already repacked and requested for replacement.I checked again, and there was some green colour paste/fungus inside the micro USB connector. I cleaned with an alcoholic and starts working again.Checked the ampere of charging speed got around 1400ma-1500ma - not bad, came with braided 1.5m long cable, pretty impressive for the price.Can't blame the manufacturer.But quality issues by the distributor, they might have stored in very humid place.</td><td>https://m.media-amazon.com/images/W/WEBP_402378-T2/images/I/31zOsqQOAOL._SY445_SX342_QL70_FMwebp_.jpg</td><td>https://www.amazon.in/Ambrane-Unbreakable-Charging-Braided-Cable/dp/B098NS6PVG/ref=sr_1_2?qid=1672909124&s=electronics&sr=1-2</td></tr><tr><td>B096MSW6CT</td><td>Sounce Fast Phone Charging Cable & Data Sync USB Cable Compatible for iPhone 13, 12,11, X, 8, 7, 6, 5, iPad Air, Pro, Mini & iOS Devices</td><td>Computers&Accessories|Accessories&Peripherals|Cables&Accessories|Cables|USBCables</td><td>199.0</td><td>1899.0</td><td>90.0</td><td>3.9</td><td>null</td><td>【 Fast Charger& Data Sync】-With built-in safety proctections and four-core copper wires promote maximum signal quality and strength and enhance charging & data transfer speed with up to 480 mb/s transferring speed.|【 Compatibility】-Compatible with iPhone 13, 12,11, X, 8, 7, 6, 5, iPad Air, Pro, Mini & iOS devices.|【 Sturdy & Durable】-The jacket and enforced connector made of TPE and premium copper, are resistant to repeatedly bending and coiling.|【 Ultra High Quality】: According to the experimental results, the fishbone design can accept at least 20,000 bending and insertion tests for extra protection and durability. Upgraded 3D aluminum connector and exclusive laser welding technology, which to ensure the metal part won't break and also have a tighter connection which fits well even with a protective case on and will never loose connection.|【 Good After Sales Service】-Our friendly and reliable customer service will respond to you within 24 hours ! you can purchase with confidence,and every sale includes a 365-day worry-free Service to prove the importance we set on quality.</td><td>AGU3BBQ2V2DDAMOAKGFAWDDQ6QHA,AESFLDV2PT363T2AQLWQOWZ4N3OA,AHTPQRIMGUD4BYR5YIHBH3CCGEFQ,AEUVWXYP5LT7PZLLZENEO2NODPBQ,AHC7MPW55DOO6WNCOQVA2VHOD26A,AFDI6FRPFBTNBG7BAEB7JDJSMKDQ,AFQKCEEEKXCOHTDG4WUN3XPPHJQQ,AHKUUFNMBZIDLSSPA4FEHIO2EC7Q</td><td>Kunal,Himanshu,viswanath,sai niharka,saqib malik,Aashiq,Ramu Challa,Sanjay gupta</td><td>R3J3EQQ9TZI5ZJ,R3E7WBGK7ID0KV,RWU79XKQ6I1QF,R25X4TBMPY91LX,R27OK7G99VK0TR,R207CYDCHJJTCJ,R3PCU8XMU173BT,R1IMONDOWRNU5V</td><td>Good speed for earlier versions,Good Product,Working good,Good for the price,Good,Worth for money,Working nice,it's a really nice product</td><td>Not quite durable and sturdy,https://m.media-amazon.com/images/W/WEBP_402378-T1/images/I/71rIggrbUCL._SY88.jpg,Working good,https://m.media-amazon.com/images/W/WEBP_402378-T1/images/I/61bKp9YO6wL._SY88.jpg,Product,Very nice product,Working well,It's a really nice product</td><td>https://m.media-amazon.com/images/W/WEBP_402378-T1/images/I/31IvNJZnmdL._SY445_SX342_QL70_FMwebp_.jpg</td><td>https://www.amazon.in/Sounce-iPhone-Charging-Compatible-Devices/dp/B096MSW6CT/ref=sr_1_3?qid=1672909124&s=electronics&sr=1-3</td></tr><tr><td>B08HDJ86NZ</td><td>boAt Deuce USB 300 2 in 1 Type-C & Micro USB Stress Resistant, Tangle-Free, Sturdy Cable with 3A Fast Charging & 480mbps Data Transmission, 10000+ Bends Lifespan and Extended 1.5m Length(Martian Red)</td><td>Computers&Accessories|Accessories&Peripherals|Cables&Accessories|Cables|USBCables</td><td>329.0</td><td>699.0</td><td>53.0</td><td>4.2</td><td>null</td><td>The boAt Deuce USB 300 2 in 1 cable is compatible with smartphones, tablets, PC peripherals, Bluetooth speakers, power banks and all other devices with Type-C as well as Micro USB port|It ensures 3A fast charging and data transmissions with rapid sync at 480 mbps|The premium Nylon braided skin makes it sturdy and invincible against external damage|Its Aluminium alloy shell housing makes it last longer with 10000+ Bends Lifespan with extended frame protection for strain relief|The resilient and flexible design offers a tangle free experience seamlessly|Deuce USB 300 cable offers a perfect 1.5 meters in length for smooth & hassle-free user experience|2 years warranty from the date of purchase</td><td>AEWAZDZZJLQUYVOVGBEUKSLXHQ5A,AG5HTSFRRE6NL3M5SGCUQBP7YSCA,AH725ST5NW2Y4JZPKUNTIJCUK2BA,AHV3TXIFCJPMS4D5JATCEUR266MQ,AGWIGDEMFIIUAOXYY2QATNBSUGHA,AFSTSLQUV4EVEXWKBOLEFHL2H5YQ,AGAKDNBHY2FKX7I4ACRGILU7QL7A,AFNWJUWJRHCC6HN52KMG5AKZY37Q</td><td>Omkar dhale,JD,HEMALATHA,Ajwadh a.,amar singh chouhan,Ravi Siddan,Himanshu Goel,Udaykumar</td><td>R3EEUZKKK9J36I,R3HJVYCLYOY554,REDECAZ7AMPQC,R1CLH2ULIVG5U3,R2DMKIBGFKBD6R,RC89B5IAJUTR5,R3B3DDON5FH8DS,R13WAEJDI5RS36</td><td>Good product,Good one,Nice,Really nice product,Very first time change,Good,Fine product but could be better,Very nice it's charging like jet</td><td>Good product,long wire,Charges good,Nice,I bought this cable for Rs.339 worthy product for this price, i tested it in various charger adapters 33w and 18w it supports fast charging as well.,Good,Ok,I had got this at good price on sale on Amazon and product is useful with warranty but for warranty you need to go very far not practical for such a cost and mine micro to type c connector stopped working after few days only.,I like this product</td><td>https://m.media-amazon.com/images/I/41V5FtEWPkL._SX300_SY300_QL70_FMwebp_.jpg</td><td>https://www.amazon.in/Deuce-300-Resistant-Tangle-Free-Transmission/dp/B08HDJ86NZ/ref=sr_1_4?qid=1672909124&s=electronics&sr=1-4</td></tr><tr><td>B08CF3B7N1</td><td>Portronics Konnect L 1.2M Fast Charging 3A 8 Pin USB Cable with Charge & Sync Function for iPhone, iPad (Grey)</td><td>Computers&Accessories|Accessories&Peripherals|Cables&Accessories|Cables|USBCables</td><td>154.0</td><td>399.0</td><td>61.0</td><td>4.2</td><td>null</td><td>[CHARGE & SYNC FUNCTION]- This cable comes with charging & Data sync function|[HIGH QUALITY MATERIAL]- TPE + Nylon Material to make sure that the life of the cable is enhanced significantly|[LONG CORD]- The Cable is extra thick 1.2 meter long, optimized for an easy use for your comfort at home or office|[MORE DURABLE]-This cable is unique interms of design and multi-use and is positioned to provide the best comfort and performance while using|[UNIVERSAL COMPATIBILITY]- Compatible with all devices like iPhone XS, X, XR, 8, 7, 6S, 6, 5S, iPad Pro, iPad mini and iPad Air</td><td>AE3Q6KSUK5P75D5HFYHCRAOLODSA,AFUGIFH5ZAFXRDSZHM4QB2KPKFUQ,AFK4NJOLFSJGWLOJIUIAROJF6YVA,AFUOTYRFUXVPEBGIXVZZ7DR3CZUA,AFDLRSXKDZ6U3U3KD46SQLFGZQRA,AH5VLM66SIK7J3IRG4NY7XVOQ55A,AE3MQNNHHLUHXURL5S7IAR7JTGNQ,AFSEOFZY67MYC7UAJU264Z5NFTLA</td><td>rahuls6099,Swasat Borah,Ajay Wadke,Pranali,RVK,Bhargav,Durai Vignesh,Amazon Customer</td><td>R1BP4L2HH9TFUP,R16PVJEXKV6QZS,R2UPDB81N66T4P,R3KK4GT934ST3I,RCFHMWUSBIJO,RDO7DACXMAJ84,R3A6MEZL3LY66Z,R1ESIEKPGAYA29</td><td>As good as original,Decent,Good one for secondary use,Best quality,GOOD,Amazing product at a mind blowing price!,Nice Quality,Good product</td><td>Bought this instead of original apple, does the work for 150rs, not as fast as apple charger but its a good option if you want cheap and good product, bought it for iPad pro 10.5 and it's working flawlessly, build quality is ok, its not like i am gonna hang my clothes on it and i want a very strong cable, even a braided cable stop working after a year, i have used both Anker and Apple store strong braided cable they all stop working after a year so please don't buy high end cables just for that instead choose a this one and even if it's stops working withing a year you only loose 150rs compares to 2000rs.UPDATE------------------------------------pin has stopped charging from one side, now i have to slip the pin to charge from other side, but i will update and let know for how long does it work,,It’s good. Not sure about durability as the pin area feels a bit fragile,Does not support apple carplaySo was little disappointed about thatOther than that cable is made up of very good quality,Best to buy,100% NOT FATHFUL,Writing this review post 10 months and 3 orders of the same product.Honestly Portronics Konnect L lightning cable works like magic with the original Apple charging brick.Seeing the price of the cable I initially hesitated buying as it was as low as ₹99/- with the offers and so I wasn’t sure if it would work well with my iPhone 12 or whether it would impact my iPhone’s battery health because all the other lightning cable brands were costing over ₹350/- like Wayona, Amazon Basics, etc.Earlier I was using Wayona Brand lightning cable with eventually frayed and stopped working.Charging Speed:Charges my iPhone fast enough almost similar compared to the original cable level when used with 12W Original Apple power adapter.Quality and Durability:Great quality braided cable and doesn’t tangle easily and can withstand day-to-day usage.L-Shaped pin:This is very innovative by Portronics and it makes sure the cable doesn’t get damaged even if used while charging.CarPlay and Data Sync:Works smoothly with CarPlay and syncs data effortlessly.PS: I have used this cable only with the Original Apple Charging Brick and extremely satisfied with its performance.,Better than I expect the product I like that Quality and I plan to buy same type cable come with usb C to Lighting cable for emergency purpose that much I love this cable. Buy for this cable only emergency uses only since Good one,Good product and value for money</td><td>https://m.media-amazon.com/images/W/WEBP_402378-T2/images/I/31VzNhhqifL._SX300_SY300_QL70_FMwebp_.jpg</td><td>https://www.amazon.in/Portronics-Konnect-POR-1080-Charging-Function/dp/B08CF3B7N1/ref=sr_1_5?qid=1672909124&s=electronics&sr=1-5</td></tr><tr><td>B08Y1TFSP6</td><td>pTron Solero TB301 3A Type-C Data and Fast Charging Cable, Made in India, 480Mbps Data Sync, Strong and Durable 1.5-Meter Nylon Braided USB Cable for Type-C Devices for Charging Adapter (Black)</td><td>Computers&Accessories|Accessories&Peripherals|Cables&Accessories|Cables|USBCables</td><td>149.0</td><td>1000.0</td><td>85.0</td><td>3.9</td><td>null</td><td>Fast Charging & Data Sync: Solero TB301 Type-C cable supports fast charge up to 5V/3A for devices and data syncing speed up to 480Mbps.|Universal Compatibility: This USB charging cable connects USB Type-C devices with standard USB devices like laptops, hard drives, power banks, wall and car chargers, etc..Connector One: Reversible Type C|Connector Two: USB A Type|Rough & Tough Type-C Cable: Charging cable with a double-braided exterior, premium aramid fiber core and metal plugs. It has passed 10,000 bending tests and can easily withstand daily use.|Extended Length: 1.5-meter long c-type cable uses nylon material to protect the wire and avoid knots.|Perfect Fit Connectors: pTron Soler USB-C has passed the 5KG load test, swing test, 5000+ times connect & disconnect to ensure that there are no loose connections.</td><td>AEQ2YMXSZWEOHK2EHTNLOS56YTZQ,AGRVINWECNY7323CWFXZYYIZOFTQ,AHBAT6VLOXWGYDL57KHCNCLPXAKA,AF7NDY2H6JVYTSQOZP76GCATQ34Q,AFV7ZA733ZLME4KNLZPMPCBUNPPA,AHFAAPSY2MJ5HYOU2VQDJ7AQY4NQ,AH2WGV2PEBUTICRPBEEVKF24G5LA,AEP4MK3EKOBDKTGPJTRN5RBDIODA</td><td>Jayesh,Rajesh k.,Soopy,amazon customer,Aman,Shankar,dinesh,Chitra,Ajaybabu.O.M</td><td>R7S8ANNSDPR40,R3CLZFLHVJU26P,RFF7U7MPQFUGR,R1MV1NKC23DWPI,R11D3U0V2XKDKF,R18MP1KLUE18PC,RWGJNVEH5ZQME,R1XN72FU6Q37IH</td><td>It's pretty good,Average quality,very good and useful usb cable,Good USB cable. My experience was very good it is long lasting,Good,Nice product and useful,-,Sturdy but does not support 33w charging</td><td>It's a good product.,Like,Very good item strong and useful USB cableValue for moneyThanks to amazon and producer,https://m.media-amazon.com/images/I/51112ZRE-1L._SY88.jpg,Good,Nice product and useful product,-,Sturdy but does not support 33w charging</td><td>https://m.media-amazon.com/images/I/31wOPjcSxlL._SX300_SY300_QL70_FMwebp_.jpg</td><td>https://www.amazon.in/Solero-TB301-Charging-480Mbps-1-5-Meter/dp/B08Y1TFSP6/ref=sr_1_6?qid=1672909124&s=electronics&sr=1-6</td></tr><tr><td>B08WRWPM22</td><td>boAt Micro USB 55 Tangle-free, Sturdy Micro USB Cable with 3A Fast Charging & 480mbps Data Transmission (Black)</td><td>Computers&Accessories|Accessories&Peripherals|Cables&Accessories|Cables|USBCables</td><td>176.63</td><td>499.0</td><td>65.0</td><td>4.1</td><td>null</td><td>It Ensures High Speed Transmission And Charging By Offering 3A Fast Charging And Data Transmissions With Rapid Sync At 480 Mbps|The Braided Skin Makes It Durable And Invincible Against External Damage So You Can Have An Absolute Hassle-Free & Tangle Free Experience|Its Durable Pvc Housing And The Flexible Design Makes It Last 6 Times Longer Than Other Cables|Usb Cable Offers A Perfect 1.5 Meters In Length For Smooth & Hassle-Free User Experience For Superior Charging & Data Transfer Tasks|The Compact And Smooth Aluminium Connector Fits Most Cases Seamlessly And Resists Corrosion For Signal Purity|Micro Usb 55 Cable Offers Universal Compatibility As It Is Compatible With Most Android Smartphones, Tablets, Pc Peripherals, Bluetooth Speakers, Power Banks, Game Consoles & All Micro-Usb Enabled Devices|2 years warranty from the date of purchase</td><td>AG7C6DAADCTRQJG2BRS3RIKDT52Q,AFU7BOMPVJ7Q3TTA4G67RASTGYIQ,AER5ZGIXXVYG3AWZTRZT7M2BYCEA,AHE76XQSOLGOP5ZEKTIW6KUPDWBQ,AGXTMB2XHZBEWZ2UIX7ODZ4XTU6Q,AHNM2XVU745EDPNGUOAG74PTSNRA,AH5RWQ4S72IVLZD6O75OPCFIVDXQ,AG322TYKVPLPBDXE7ABEUK5QTALQ</td><td>Vivek kumar,Amazon Customer,SARTHAK,Chiranjeevi,V V GIRI KUMAR,Rajnandini,Akshay Talla,sudhanshu chaubey</td><td>R8E73K2KWJRDS,RSD0JTIIWQQL8,R64CRSTE9SLW1,R2FRTNIIUFJE1F,RWGNX3W7UOJ7W,R32TYHHODHTF5D,RQL9ZMQUTY7P2,R280XJ5VZUBOXV</td><td>Long durable.,good,Does not charge Lenovo m8 tab,Best charging cable,good,Boat,Product was good,1.5 m का केबल मेरे लिए बहुत ही लाभदायक है ।</td><td>Build quality is good and it is comes with 2 year warranty.,Good Product,Bought it for charging my mobile & tab but it doesn't work for Lenovo m8 tab,Guys this cable is is best compare of everyone over heat protection, quickly charging, but chance to shock circuit,good,Nice,Good quality,1.5एम का डाटा केबल मेरे लिए बहुत ही लाभदायक है ।  मैं इस केबल को लाइन में चार्ज करते समय फोन बहुत आराम से उपयोग  कर पा रहा हु । आप इस केबल से 15watt का  चार्जर उसे कर सकते है (इससे जड़ा नही) । लोकल बाजार में इसका दाम 150 है ,  अमेजन पे ये केबल मुझे 67 में मिला । गर्व से कहो हम हिंदू है , जय हिंद जय भारत ,</td><td>https://m.media-amazon.com/images/W/WEBP_402378-T2/images/I/41jlwEZpa5L._SX300_SY300_QL70_FMwebp_.jpg</td><td>https://www.amazon.in/boAt-Micro-USB-Tangle-Free-Transmission/dp/B08WRWPM22/ref=sr_1_8?qid=1672909124&s=electronics&sr=1-8</td></tr><tr><td>B08DDRGWTJ</td><td>MI Usb Type-C Cable Smartphone (Black)</td><td>Computers&Accessories|Accessories&Peripherals|Cables&Accessories|Cables|USBCables</td><td>229.0</td><td>299.0</td><td>23.0</td><td>4.3</td><td>null</td><td>1m long Type-C USB Cable|Sturdy and Durable. With USB cable you can transfer data with speeds of upto 480 Mbps|Upto 3A output|6months warranty|Sturdy and Durable. With USB cable you can transfer data with speeds of upto 480 Mbps|6months warranty|Up To 3A Output</td><td>AHW6E5LQ2BDYOIVLAJGDH45J5V5Q,AF74RSGCHPZITVFSZN76K6GKPICA,AHDD7ZNB47QA2JLYU53HD4ML3VNQ,AHV3ELGDSOWBYUQLXSPDCSHBQRHQ,AEJU4L3ZM2GTILSJZZSNSF6VUOIA,AFVD66VQMSHPDT3A6HBBBGKRXBZA,AELKHQXVSSG6NHXLFJLLNEFRQQUQ,AGYSMAC6V6RFJJOHG2FIRPOZ6CSQ</td><td>Pavan A H,Jayesh bagad,Shridhar,rajendran,karuppu k,Akshay wani,Abbimaniu Singh,VISHAL H BADSHE</td><td>R2X090D1YHACKR,R32ZCIH9AFNJ60,R3N57EVVG0EHAF,R3QWLE8JHROKC1,R2VTSDOOUTSQ5X,R3E6FZ75Q074KH,R1SYBQLTPFCW20,RYQT96J8HPIXE</td><td>Worth for money - suitable for Android auto,Good Product,Length,Nice,Original,Very good quay Cable support fast charging.,Original MI cable for charging upto 33 watt,I am veri happy with this product as it provide turbo charging.</td><td>Worth for money - suitable for Android auto... my purpose served in car....got it for Rs.150,Everything is Okay. But packaging is not good feeling like seller gave is used cable.,Good product,Good product but cost is more.,Original cable,I bought this cable at 129. Using this cable for Android auto in my car. Perfectly works without any glitch.,Original MI cable. Will charge upto 33 watts. Got it for Rs 150.  I have 67 watt charger and I want a cable for my car so I went for it. I checked the performance with battery charging app. The charging speed is exactly half of my 67 watt original cable. Go for it.,It provided me turbo charging. I recommend for all Redmi note 10s mobile phones. As it provide turbo charging. I am veri happy with this product.</td><td>https://m.media-amazon.com/images/I/31XO-wfGGGL._SX300_SY300_QL70_FMwebp_.jpg</td><td>https://www.amazon.in/MI-MTCY001IN-USB-Type-C-Cable/dp/B08DDRGWTJ/ref=sr_1_9?qid=1672909124&s=electronics&sr=1-9</td></tr><tr><td>B008IFXQFU</td><td>TP-Link USB WiFi Adapter for PC(TL-WN725N), N150 Wireless Network Adapter for Desktop - Nano Size WiFi Dongle Compatible with Windows 11/10/7/8/8.1/XP/ Mac OS 10.9-10.15 Linux Kernel 2.6.18-4.4.3</td><td>Computers&Accessories|NetworkingDevices|NetworkAdapters|WirelessUSBAdapters</td><td>499.0</td><td>999.0</td><td>50.0</td><td>4.2</td><td>null</td><td>USB WiFi Adapter —— Speedy wireless transmission at up to 150Mbps ideal for video streaming or internet calls|Mini Design —— Sleek miniature design so small that once plugged in, can be left in a Laptop’s USB port|Advanced Security —— Supports 64/128 WEP, WPA, PA2/WPA-PSK/WPA2-PSK(TKIP/AES)|Compatibility —— Windows 11/10/8.1/8/7/XP, Mac OS 10.15 and earlier, Linux|Easy Setup —— Connect in no time with easy setup utility in 14 languages|In an unlikely case of product quality related issue, we may ask you to reach out to brand’s customer service support and seek resolution. We will require brand proof of issue to process replacement request</td><td>AGV3IEFANZCKECFGUM42MRH5FNOA,AEBO7NWCNXKT4AESAN443HQH35FQ,AE7GD3VRRYQEAHDR7FXJIR23INYA,AHPAW24BI5X2GCX5M2LHI72VSJJQ,AE2VXY4CFO36MDSIMPG43XHNF4GA,AHHQEKUNVETALN7DTRHUQ2WAWEKQ,AFMIFTNTUD5PIHGONWOTRMMZ5EBA,AHOJBIZVVIIFJKRREY4B6ESVA4KA</td><td>Azhar JuMan,Anirudh Sood,Hari Krishnan PS,Akash Jindal,PRADEEP,Rajesh,Divya Kothari,abhijit</td><td>R1LW6NWSVTVZ2H,R3VR5WFKUS15C5,R2F6GC79OYWUKQ,R3QZ19MECGWG9A,R2MPU42MYK7GPO,R33DVXFB4VYPZZ,R1SQ7OGFR4JRUR,R1S5F9QI0M1VBZ</td><td>Works on linux for me. Get the model with antenna.,Does what it say but other brands available at lesser price,Easy Handle,Great product,Perfect working,Speed is perfect,Great Design, Build, Connectivity Range, Packaging and other features but no linux support since v2,Very good</td><td>I use this to connect an old PC to internet. I tried lubuntu 20 and ubuntu 22, it worked out of the box in both, didn't have to do any setup. There's an extender cable so you can place this in a comfortable place. Get the model with antenna because otherwise you'll have range problems if you're not directly in line of sight from your wifi router.,The wifi dongle is a simple plug & play device, will start catching available networks right after you plug it into your USB port, no additional installations/ softwares requires. Signal strength is good.... just wonder what would be different in other adapters of lesser known brands which are available at a much more competitive pricing, hence a star less.,Pros:*Easy to use & Portable*Can be connected to Mobile Hotspot and used in PC( Budget Friendly)*Less installation process*No heating issues & Good Coverage*Best alternative for USB Tethering (phone's battery may get damaged for long term run with Tethering)Cons:*Internet connection speed varies at times, also depends on your modem or cellular connection*Issues occur while installing via CD, which is available along with the product( Installation driver can be downloaded from TP-Link site)*Needed to reconnect the adapter every time system is turned ON*Will not work if your software has some issues, so encountered any just update your system(worked for me)*Support Center is worse, calls are unattended most of the times or just visit nearby storeConclusion:Brought this @499/-Ideal for users who don't need very high speed internet usage,a good alternative for USB Tethering and are on Budge(1080p Youtube videos can be easily played with this without any interruptions),wifi connectivity is a great good result for me. however, some jitter problems did exist.,This is perfect device to connect wifi. Go for it.,This wifi adopter is good working,(Pictures attached)Size/Design:  ★ ★ ★ ★ ★Build Quality: ★ ★ ★ ★ ★Packaging:  ★ ★ ★ ★ ★Software:  ★ ★ ★ ★Speed:  ★ ★ ★ ★ ★Connectivity:  ★ ★ ★ ★ ★Experience:  ★ ★ ★ ★ ★Warranty:  ★ ★ ★ ★ ★Size and Design:The best part about this is that it is very compact in size and very sober and elegant in design. This is a big plus as it is easy plug in and use, add to it the good sober design.Build Quality:The build quality is undoubtedly superb. Just no qualms about that, at all. When held, it doesnt give off that cheap and flimsy product-like feeling. It is good sturdy with its build quality.Packaging:This part is also a big plus as the item was well cushioned and packaged with all the necessary items that ensured that no damage could have been caused to the product during transportation. This ensures that I as a customer have received something not damaged internally already.Software:This is actually good but not great part with the product.The good part is that a CD has been provided with it along with a manual.The not great part is that NO LINUX SUPPORT has been given from Version 2 onwards. This is bad, really.Speed:It easily supports net speeds upto 300 Mbps. Practically speaking, I have tested it at my home and it easily supports net speed of over 100-150 Mbps without a sigh.On testing I found that it did connect to 5GHz network, without any issue.Connectivity:Please mark its not feet its metres. Multiply metres x 3 to get the distance in feet.It easily connects to my laptop or phone from 7 metres across one room. So thats 21 feet. I mean even our old bluetooth used to connect to about 15 ft.So 20-25 feet is not at all an issue with this. This is the big plus I found with the product.Experience:From this point of view, so far except the linux non-compatibility issue, I found no other flaws with this product.So overall its a great product.Warranty:Its 3 years so I am assured that atleast for 3 years I am tension-free and not just 1 year, contrary to most electronic items today that only provide 1 year warranty with their items.,Best adapter I have bought ever. Works nicely seemless connectivity</td><td>https://m.media-amazon.com/images/W/WEBP_402378-T2/images/I/31e6ElWRymL._SX300_SY300_QL70_FMwebp_.jpg</td><td>https://www.amazon.in/TP-Link-TL-WN725N-150Mbps-Wireless-Adapter/dp/B008IFXQFU/ref=sr_1_10?qid=1672909124&s=electronics&sr=1-10</td></tr><tr><td>B082LZGK39</td><td>Ambrane Unbreakable 60W / 3A Fast Charging 1.5m Braided Micro USB Cable for Smartphones, Tablets, Laptops & Other Micro USB Devices, 480Mbps Data Sync, Quick Charge 3.0 (RCM15, Black)</td><td>Computers&Accessories|Accessories&Peripherals|Cables&Accessories|Cables|USBCables</td><td>199.0</td><td>299.0</td><td>33.0</td><td>4.0</td><td>null</td><td>Universal Compatibility – It is compatible with all Micro USB enabled devices, be it an android smartphone, tablet, PC peripheral or any other micro USB compatible device|Unbreakable – Made of special braided outer with rugged interior bindings, it is ultra-durable cable that won’t be affected by daily rough usage|Ideal Length – It has ideal length of 1.5 meters which is neither too short like your typical 1meter cable or too long like a 2meters cable|Supports maximum 3A fast charging and 480 Mbps data transfer speed|6 Months manufacturer warranty from the date of purchase.</td><td>AECPFYFQVRUWC3KGNLJIOREFP5LQ,AGYYVPDD7YG7FYNBXNGXZJT525AQ,AHONIZU3ICIEHQIGQ6R2VFRSBXOQ,AFPHD2CRPDZMWMBL7WXRSVYWS5JA,AEZ346GX3HJ4O4XNRPHCNHXQURMQ,AEPSWFPNECKO34PUC7I56ITGXR6Q,AHWVEHR5DYLVFTO2KF3IZATFQSWQ,AH4QT33M55677I7ISQOAKEQWACYQ</td><td>ArdKn,Nirbhay kumar,Sagar Viswanathan,Asp,Placeholder,BharanI,sonia,Niam</td><td>RGIQEG07R9HS2,R1SMWZQ86XIN8U,R2J3Y1WL29GWDE,RYGGS0M09S3KY,R17KQRUTAN5DKS,R3AAQGS6HP2QUK,R1HDNOG6TO2CCA,R3PHKXYA5AFEOU</td><td>A Good Braided Cable for Your Type C Device,Good quality product from ambrane,Super cable,As,Good quality,Good product,its good,Good quality for the price but one issue with my unit</td><td>I ordered this cable to connect my phone to Android Auto of car. The cable is really strong and the connection ports are really well made. I already has a Micro USB cable from Ambrane and it's still in good shape. I connected my phone to the car using the cable and it got connected well and no issues. I also connected it to the charging port and yes it has Fast Charging support.,It quality is good at this price and the main thing is that i didn't ever thought that this cable will be so long it's good one and charging power is too good and also supports fast charging,Value for money, with extra length👍,Good, working fine,Product quality is good,Good,very good,Bought for my daughter's old phone.Brand new cable it was not charging, I already repacked and requested for replacement.I checked again, and there was some green colour paste/fungus inside the micro USB connector. I cleaned with an alcoholic and starts working again.Checked the ampere of charging speed got around 1400ma-1500ma - not bad, came with braided 1.5m long cable, pretty impressive for the price.Can't blame the manufacturer.But quality issues by the distributor, they might have stored in very humid place.</td><td>https://m.media-amazon.com/images/W/WEBP_402378-T2/images/I/31kj3q4SepL._SY445_SX342_QL70_FMwebp_.jpg</td><td>https://www.amazon.in/Ambrane-Unbreakable-Charging-Braided-Android/dp/B082LZGK39/ref=sr_1_11?qid=1672909124&s=electronics&sr=1-11</td></tr></tbody></table></div>"
      ]
     },
     "metadata": {
      "application/vnd.databricks.v1+output": {
       "addedWidgets": {},
       "aggData": [],
       "aggError": "",
       "aggOverflow": false,
       "aggSchema": [],
       "aggSeriesLimitReached": false,
       "aggType": "",
       "arguments": {},
       "columnCustomDisplayInfos": {},
       "data": [
        [
         "B07JW9H4J1",
         "Wayona Nylon Braided USB to Lightning Fast Charging and Data Sync Cable Compatible for iPhone 13, 12,11, X, 8, 7, 6, 5, iPad Air, Pro, Mini (3 FT Pack of 1, Grey)",
         "Computers&Accessories|Accessories&Peripherals|Cables&Accessories|Cables|USBCables",
         399.0,
         1099.0,
         64.0,
         4.2,
         null,
         "High Compatibility : Compatible With iPhone 12, 11, X/XsMax/Xr ,iPhone 8/8 Plus,iPhone 7/7 Plus,iPhone 6s/6s Plus,iPhone 6/6 Plus,iPhone 5/5s/5c/se,iPad Pro,iPad Air 1/2,iPad mini 1/2/3,iPod nano7,iPod touch and more apple devices.|Fast Charge&Data Sync : It can charge and sync simultaneously at a rapid speed, Compatible with any charging adaptor, multi-port charging station or power bank.|Durability : Durable nylon braided design with premium aluminum housing and toughened nylon fiber wound tightly around the cord lending it superior durability and adding a bit to its flexibility.|High Security Level : It is designed to fully protect your device from damaging excessive current.Copper core thick+Multilayer shielding, Anti-interference, Protective circuit equipment.|WARRANTY: 12 months warranty and friendly customer services, ensures the long-time enjoyment of your purchase. If you meet any question or problem, please don't hesitate to contact us.",
         "AG3D6O4STAQKAY2UVGEUV46KN35Q,AHMY5CWJMMK5BJRBBSNLYT3ONILA,AHCTC6ULH4XB6YHDY6PCH2R772LQ,AGYHHIERNXKA6P5T7CZLXKVPT7IQ,AG4OGOFWXJZTQ2HKYIOCOY3KXF2Q,AENGU523SXMOS7JPDTW52PNNVWGQ,AEQJHCVTNINBS4FKTBGQRQTGTE5Q,AFC3FFC5PKFF5PMA52S3VCHOZ5FQ",
         "Manav,Adarsh gupta,Sundeep,S.Sayeed Ahmed,jaspreet singh,Khaja moin,Anand,S.ARUMUGAM",
         "R3HXWT0LRP0NMF,R2AJM3LFTLZHFO,R6AQJGUP6P86,R1KD19VHEDV0OR,R3C02RMYQMK6FC,R39GQRVBUZBWGY,R2K9EDOE15QIRJ,R3OI7YT648TL8I",
         "Satisfied,Charging is really fast,Value for money,Product review,Good quality,Good product,Good Product,As of now seems good",
         "Looks durable Charging is fine tooNo complains,Charging is really fast, good product.,Till now satisfied with the quality.,This is a good product . The charging speed is slower than the original iPhone cable,Good quality, would recommend,https://m.media-amazon.com/images/W/WEBP_402378-T1/images/I/81---F1ZgHL._SY88.jpg,Product had worked well till date and was having no issue.Cable is also sturdy enough...Have asked for replacement and company is doing the same...,Value for money",
         "https://m.media-amazon.com/images/W/WEBP_402378-T1/images/I/51UsScvHQNL._SX300_SY300_QL70_FMwebp_.jpg",
         "https://www.amazon.in/Wayona-Braided-WN3LG1-Syncing-Charging/dp/B07JW9H4J1/ref=sr_1_1?qid=1672909124&s=electronics&sr=1-1"
        ],
        [
         "B098NS6PVG",
         "Ambrane Unbreakable 60W / 3A Fast Charging 1.5m Braided Type C Cable for Smartphones, Tablets, Laptops & other Type C devices, PD Technology, 480Mbps Data Sync, Quick Charge 3.0 (RCT15A, Black)",
         "Computers&Accessories|Accessories&Peripherals|Cables&Accessories|Cables|USBCables",
         199.0,
         349.0,
         43.0,
         4.0,
         null,
         "Compatible with all Type C enabled devices, be it an android smartphone (Mi, Samsung, Oppo, Vivo, Realme, OnePlus, etc), tablet, laptop (Macbook, Chromebook, etc)|Supports Quick Charging (2.0/3.0)|Unbreakable – Made of special braided outer with rugged interior bindings, it is ultra-durable cable that won’t be affected by daily rough usage|Ideal Length – It has ideal length of 1.5 meters which is neither too short like your typical 1meter cable or too long like a 2meters cable|Supports maximum 3A fast charging and 480 Mbps data transfer speed|6 months manufacturer warranty from the date of purchase",
         "AECPFYFQVRUWC3KGNLJIOREFP5LQ,AGYYVPDD7YG7FYNBXNGXZJT525AQ,AHONIZU3ICIEHQIGQ6R2VFRSBXOQ,AFPHD2CRPDZMWMBL7WXRSVYWS5JA,AEZ346GX3HJ4O4XNRPHCNHXQURMQ,AEPSWFPNECKO34PUC7I56ITGXR6Q,AHWVEHR5DYLVFTO2KF3IZATFQSWQ,AH4QT33M55677I7ISQOAKEQWACYQ",
         "ArdKn,Nirbhay kumar,Sagar Viswanathan,Asp,Placeholder,BharanI,sonia,Niam",
         "RGIQEG07R9HS2,R1SMWZQ86XIN8U,R2J3Y1WL29GWDE,RYGGS0M09S3KY,R17KQRUTAN5DKS,R3AAQGS6HP2QUK,R1HDNOG6TO2CCA,R3PHKXYA5AFEOU",
         "A Good Braided Cable for Your Type C Device,Good quality product from ambrane,Super cable,As,Good quality,Good product,its good,Good quality for the price but one issue with my unit",
         "I ordered this cable to connect my phone to Android Auto of car. The cable is really strong and the connection ports are really well made. I already has a Micro USB cable from Ambrane and it's still in good shape. I connected my phone to the car using the cable and it got connected well and no issues. I also connected it to the charging port and yes it has Fast Charging support.,It quality is good at this price and the main thing is that i didn't ever thought that this cable will be so long it's good one and charging power is too good and also supports fast charging,Value for money, with extra length👍,Good, working fine,Product quality is good,Good,very good,Bought for my daughter's old phone.Brand new cable it was not charging, I already repacked and requested for replacement.I checked again, and there was some green colour paste/fungus inside the micro USB connector. I cleaned with an alcoholic and starts working again.Checked the ampere of charging speed got around 1400ma-1500ma - not bad, came with braided 1.5m long cable, pretty impressive for the price.Can't blame the manufacturer.But quality issues by the distributor, they might have stored in very humid place.",
         "https://m.media-amazon.com/images/W/WEBP_402378-T2/images/I/31zOsqQOAOL._SY445_SX342_QL70_FMwebp_.jpg",
         "https://www.amazon.in/Ambrane-Unbreakable-Charging-Braided-Cable/dp/B098NS6PVG/ref=sr_1_2?qid=1672909124&s=electronics&sr=1-2"
        ],
        [
         "B096MSW6CT",
         "Sounce Fast Phone Charging Cable & Data Sync USB Cable Compatible for iPhone 13, 12,11, X, 8, 7, 6, 5, iPad Air, Pro, Mini & iOS Devices",
         "Computers&Accessories|Accessories&Peripherals|Cables&Accessories|Cables|USBCables",
         199.0,
         1899.0,
         90.0,
         3.9,
         null,
         "【 Fast Charger& Data Sync】-With built-in safety proctections and four-core copper wires promote maximum signal quality and strength and enhance charging & data transfer speed with up to 480 mb/s transferring speed.|【 Compatibility】-Compatible with iPhone 13, 12,11, X, 8, 7, 6, 5, iPad Air, Pro, Mini & iOS devices.|【 Sturdy & Durable】-The jacket and enforced connector made of TPE and premium copper, are resistant to repeatedly bending and coiling.|【 Ultra High Quality】: According to the experimental results, the fishbone design can accept at least 20,000 bending and insertion tests for extra protection and durability. Upgraded 3D aluminum connector and exclusive laser welding technology, which to ensure the metal part won't break and also have a tighter connection which fits well even with a protective case on and will never loose connection.|【 Good After Sales Service】-Our friendly and reliable customer service will respond to you within 24 hours ! you can purchase with confidence,and every sale includes a 365-day worry-free Service to prove the importance we set on quality.",
         "AGU3BBQ2V2DDAMOAKGFAWDDQ6QHA,AESFLDV2PT363T2AQLWQOWZ4N3OA,AHTPQRIMGUD4BYR5YIHBH3CCGEFQ,AEUVWXYP5LT7PZLLZENEO2NODPBQ,AHC7MPW55DOO6WNCOQVA2VHOD26A,AFDI6FRPFBTNBG7BAEB7JDJSMKDQ,AFQKCEEEKXCOHTDG4WUN3XPPHJQQ,AHKUUFNMBZIDLSSPA4FEHIO2EC7Q",
         "Kunal,Himanshu,viswanath,sai niharka,saqib malik,Aashiq,Ramu Challa,Sanjay gupta",
         "R3J3EQQ9TZI5ZJ,R3E7WBGK7ID0KV,RWU79XKQ6I1QF,R25X4TBMPY91LX,R27OK7G99VK0TR,R207CYDCHJJTCJ,R3PCU8XMU173BT,R1IMONDOWRNU5V",
         "Good speed for earlier versions,Good Product,Working good,Good for the price,Good,Worth for money,Working nice,it's a really nice product",
         "Not quite durable and sturdy,https://m.media-amazon.com/images/W/WEBP_402378-T1/images/I/71rIggrbUCL._SY88.jpg,Working good,https://m.media-amazon.com/images/W/WEBP_402378-T1/images/I/61bKp9YO6wL._SY88.jpg,Product,Very nice product,Working well,It's a really nice product",
         "https://m.media-amazon.com/images/W/WEBP_402378-T1/images/I/31IvNJZnmdL._SY445_SX342_QL70_FMwebp_.jpg",
         "https://www.amazon.in/Sounce-iPhone-Charging-Compatible-Devices/dp/B096MSW6CT/ref=sr_1_3?qid=1672909124&s=electronics&sr=1-3"
        ],
        [
         "B08HDJ86NZ",
         "boAt Deuce USB 300 2 in 1 Type-C & Micro USB Stress Resistant, Tangle-Free, Sturdy Cable with 3A Fast Charging & 480mbps Data Transmission, 10000+ Bends Lifespan and Extended 1.5m Length(Martian Red)",
         "Computers&Accessories|Accessories&Peripherals|Cables&Accessories|Cables|USBCables",
         329.0,
         699.0,
         53.0,
         4.2,
         null,
         "The boAt Deuce USB 300 2 in 1 cable is compatible with smartphones, tablets, PC peripherals, Bluetooth speakers, power banks and all other devices with Type-C as well as Micro USB port|It ensures 3A fast charging and data transmissions with rapid sync at 480 mbps|The premium Nylon braided skin makes it sturdy and invincible against external damage|Its Aluminium alloy shell housing makes it last longer with 10000+ Bends Lifespan with extended frame protection for strain relief|The resilient and flexible design offers a tangle free experience seamlessly|Deuce USB 300 cable offers a perfect 1.5 meters in length for smooth & hassle-free user experience|2 years warranty from the date of purchase",
         "AEWAZDZZJLQUYVOVGBEUKSLXHQ5A,AG5HTSFRRE6NL3M5SGCUQBP7YSCA,AH725ST5NW2Y4JZPKUNTIJCUK2BA,AHV3TXIFCJPMS4D5JATCEUR266MQ,AGWIGDEMFIIUAOXYY2QATNBSUGHA,AFSTSLQUV4EVEXWKBOLEFHL2H5YQ,AGAKDNBHY2FKX7I4ACRGILU7QL7A,AFNWJUWJRHCC6HN52KMG5AKZY37Q",
         "Omkar dhale,JD,HEMALATHA,Ajwadh a.,amar singh chouhan,Ravi Siddan,Himanshu Goel,Udaykumar",
         "R3EEUZKKK9J36I,R3HJVYCLYOY554,REDECAZ7AMPQC,R1CLH2ULIVG5U3,R2DMKIBGFKBD6R,RC89B5IAJUTR5,R3B3DDON5FH8DS,R13WAEJDI5RS36",
         "Good product,Good one,Nice,Really nice product,Very first time change,Good,Fine product but could be better,Very nice it's charging like jet",
         "Good product,long wire,Charges good,Nice,I bought this cable for Rs.339 worthy product for this price, i tested it in various charger adapters 33w and 18w it supports fast charging as well.,Good,Ok,I had got this at good price on sale on Amazon and product is useful with warranty but for warranty you need to go very far not practical for such a cost and mine micro to type c connector stopped working after few days only.,I like this product",
         "https://m.media-amazon.com/images/I/41V5FtEWPkL._SX300_SY300_QL70_FMwebp_.jpg",
         "https://www.amazon.in/Deuce-300-Resistant-Tangle-Free-Transmission/dp/B08HDJ86NZ/ref=sr_1_4?qid=1672909124&s=electronics&sr=1-4"
        ],
        [
         "B08CF3B7N1",
         "Portronics Konnect L 1.2M Fast Charging 3A 8 Pin USB Cable with Charge & Sync Function for iPhone, iPad (Grey)",
         "Computers&Accessories|Accessories&Peripherals|Cables&Accessories|Cables|USBCables",
         154.0,
         399.0,
         61.0,
         4.2,
         null,
         "[CHARGE & SYNC FUNCTION]- This cable comes with charging & Data sync function|[HIGH QUALITY MATERIAL]- TPE + Nylon Material to make sure that the life of the cable is enhanced significantly|[LONG CORD]- The Cable is extra thick 1.2 meter long, optimized for an easy use for your comfort at home or office|[MORE DURABLE]-This cable is unique interms of design and multi-use and is positioned to provide the best comfort and performance while using|[UNIVERSAL COMPATIBILITY]- Compatible with all devices like iPhone XS, X, XR, 8, 7, 6S, 6, 5S, iPad Pro, iPad mini and iPad Air",
         "AE3Q6KSUK5P75D5HFYHCRAOLODSA,AFUGIFH5ZAFXRDSZHM4QB2KPKFUQ,AFK4NJOLFSJGWLOJIUIAROJF6YVA,AFUOTYRFUXVPEBGIXVZZ7DR3CZUA,AFDLRSXKDZ6U3U3KD46SQLFGZQRA,AH5VLM66SIK7J3IRG4NY7XVOQ55A,AE3MQNNHHLUHXURL5S7IAR7JTGNQ,AFSEOFZY67MYC7UAJU264Z5NFTLA",
         "rahuls6099,Swasat Borah,Ajay Wadke,Pranali,RVK,Bhargav,Durai Vignesh,Amazon Customer",
         "R1BP4L2HH9TFUP,R16PVJEXKV6QZS,R2UPDB81N66T4P,R3KK4GT934ST3I,RCFHMWUSBIJO,RDO7DACXMAJ84,R3A6MEZL3LY66Z,R1ESIEKPGAYA29",
         "As good as original,Decent,Good one for secondary use,Best quality,GOOD,Amazing product at a mind blowing price!,Nice Quality,Good product",
         "Bought this instead of original apple, does the work for 150rs, not as fast as apple charger but its a good option if you want cheap and good product, bought it for iPad pro 10.5 and it's working flawlessly, build quality is ok, its not like i am gonna hang my clothes on it and i want a very strong cable, even a braided cable stop working after a year, i have used both Anker and Apple store strong braided cable they all stop working after a year so please don't buy high end cables just for that instead choose a this one and even if it's stops working withing a year you only loose 150rs compares to 2000rs.UPDATE------------------------------------pin has stopped charging from one side, now i have to slip the pin to charge from other side, but i will update and let know for how long does it work,,It’s good. Not sure about durability as the pin area feels a bit fragile,Does not support apple carplaySo was little disappointed about thatOther than that cable is made up of very good quality,Best to buy,100% NOT FATHFUL,Writing this review post 10 months and 3 orders of the same product.Honestly Portronics Konnect L lightning cable works like magic with the original Apple charging brick.Seeing the price of the cable I initially hesitated buying as it was as low as ₹99/- with the offers and so I wasn’t sure if it would work well with my iPhone 12 or whether it would impact my iPhone’s battery health because all the other lightning cable brands were costing over ₹350/- like Wayona, Amazon Basics, etc.Earlier I was using Wayona Brand lightning cable with eventually frayed and stopped working.Charging Speed:Charges my iPhone fast enough almost similar compared to the original cable level when used with 12W Original Apple power adapter.Quality and Durability:Great quality braided cable and doesn’t tangle easily and can withstand day-to-day usage.L-Shaped pin:This is very innovative by Portronics and it makes sure the cable doesn’t get damaged even if used while charging.CarPlay and Data Sync:Works smoothly with CarPlay and syncs data effortlessly.PS: I have used this cable only with the Original Apple Charging Brick and extremely satisfied with its performance.,Better than I expect the product I like that Quality and I plan to buy same type cable come with usb C to Lighting cable for emergency purpose that much I love this cable. Buy for this cable only emergency uses only since Good one,Good product and value for money",
         "https://m.media-amazon.com/images/W/WEBP_402378-T2/images/I/31VzNhhqifL._SX300_SY300_QL70_FMwebp_.jpg",
         "https://www.amazon.in/Portronics-Konnect-POR-1080-Charging-Function/dp/B08CF3B7N1/ref=sr_1_5?qid=1672909124&s=electronics&sr=1-5"
        ],
        [
         "B08Y1TFSP6",
         "pTron Solero TB301 3A Type-C Data and Fast Charging Cable, Made in India, 480Mbps Data Sync, Strong and Durable 1.5-Meter Nylon Braided USB Cable for Type-C Devices for Charging Adapter (Black)",
         "Computers&Accessories|Accessories&Peripherals|Cables&Accessories|Cables|USBCables",
         149.0,
         1000.0,
         85.0,
         3.9,
         null,
         "Fast Charging & Data Sync: Solero TB301 Type-C cable supports fast charge up to 5V/3A for devices and data syncing speed up to 480Mbps.|Universal Compatibility: This USB charging cable connects USB Type-C devices with standard USB devices like laptops, hard drives, power banks, wall and car chargers, etc..Connector One: Reversible Type C|Connector Two: USB A Type|Rough & Tough Type-C Cable: Charging cable with a double-braided exterior, premium aramid fiber core and metal plugs. It has passed 10,000 bending tests and can easily withstand daily use.|Extended Length: 1.5-meter long c-type cable uses nylon material to protect the wire and avoid knots.|Perfect Fit Connectors: pTron Soler USB-C has passed the 5KG load test, swing test, 5000+ times connect & disconnect to ensure that there are no loose connections.",
         "AEQ2YMXSZWEOHK2EHTNLOS56YTZQ,AGRVINWECNY7323CWFXZYYIZOFTQ,AHBAT6VLOXWGYDL57KHCNCLPXAKA,AF7NDY2H6JVYTSQOZP76GCATQ34Q,AFV7ZA733ZLME4KNLZPMPCBUNPPA,AHFAAPSY2MJ5HYOU2VQDJ7AQY4NQ,AH2WGV2PEBUTICRPBEEVKF24G5LA,AEP4MK3EKOBDKTGPJTRN5RBDIODA",
         "Jayesh,Rajesh k.,Soopy,amazon customer,Aman,Shankar,dinesh,Chitra,Ajaybabu.O.M",
         "R7S8ANNSDPR40,R3CLZFLHVJU26P,RFF7U7MPQFUGR,R1MV1NKC23DWPI,R11D3U0V2XKDKF,R18MP1KLUE18PC,RWGJNVEH5ZQME,R1XN72FU6Q37IH",
         "It's pretty good,Average quality,very good and useful usb cable,Good USB cable. My experience was very good it is long lasting,Good,Nice product and useful,-,Sturdy but does not support 33w charging",
         "It's a good product.,Like,Very good item strong and useful USB cableValue for moneyThanks to amazon and producer,https://m.media-amazon.com/images/I/51112ZRE-1L._SY88.jpg,Good,Nice product and useful product,-,Sturdy but does not support 33w charging",
         "https://m.media-amazon.com/images/I/31wOPjcSxlL._SX300_SY300_QL70_FMwebp_.jpg",
         "https://www.amazon.in/Solero-TB301-Charging-480Mbps-1-5-Meter/dp/B08Y1TFSP6/ref=sr_1_6?qid=1672909124&s=electronics&sr=1-6"
        ],
        [
         "B08WRWPM22",
         "boAt Micro USB 55 Tangle-free, Sturdy Micro USB Cable with 3A Fast Charging & 480mbps Data Transmission (Black)",
         "Computers&Accessories|Accessories&Peripherals|Cables&Accessories|Cables|USBCables",
         176.63,
         499.0,
         65.0,
         4.1,
         null,
         "It Ensures High Speed Transmission And Charging By Offering 3A Fast Charging And Data Transmissions With Rapid Sync At 480 Mbps|The Braided Skin Makes It Durable And Invincible Against External Damage So You Can Have An Absolute Hassle-Free & Tangle Free Experience|Its Durable Pvc Housing And The Flexible Design Makes It Last 6 Times Longer Than Other Cables|Usb Cable Offers A Perfect 1.5 Meters In Length For Smooth & Hassle-Free User Experience For Superior Charging & Data Transfer Tasks|The Compact And Smooth Aluminium Connector Fits Most Cases Seamlessly And Resists Corrosion For Signal Purity|Micro Usb 55 Cable Offers Universal Compatibility As It Is Compatible With Most Android Smartphones, Tablets, Pc Peripherals, Bluetooth Speakers, Power Banks, Game Consoles & All Micro-Usb Enabled Devices|2 years warranty from the date of purchase",
         "AG7C6DAADCTRQJG2BRS3RIKDT52Q,AFU7BOMPVJ7Q3TTA4G67RASTGYIQ,AER5ZGIXXVYG3AWZTRZT7M2BYCEA,AHE76XQSOLGOP5ZEKTIW6KUPDWBQ,AGXTMB2XHZBEWZ2UIX7ODZ4XTU6Q,AHNM2XVU745EDPNGUOAG74PTSNRA,AH5RWQ4S72IVLZD6O75OPCFIVDXQ,AG322TYKVPLPBDXE7ABEUK5QTALQ",
         "Vivek kumar,Amazon Customer,SARTHAK,Chiranjeevi,V V GIRI KUMAR,Rajnandini,Akshay Talla,sudhanshu chaubey",
         "R8E73K2KWJRDS,RSD0JTIIWQQL8,R64CRSTE9SLW1,R2FRTNIIUFJE1F,RWGNX3W7UOJ7W,R32TYHHODHTF5D,RQL9ZMQUTY7P2,R280XJ5VZUBOXV",
         "Long durable.,good,Does not charge Lenovo m8 tab,Best charging cable,good,Boat,Product was good,1.5 m का केबल मेरे लिए बहुत ही लाभदायक है ।",
         "Build quality is good and it is comes with 2 year warranty.,Good Product,Bought it for charging my mobile & tab but it doesn't work for Lenovo m8 tab,Guys this cable is is best compare of everyone over heat protection, quickly charging, but chance to shock circuit,good,Nice,Good quality,1.5एम का डाटा केबल मेरे लिए बहुत ही लाभदायक है ।  मैं इस केबल को लाइन में चार्ज करते समय फोन बहुत आराम से उपयोग  कर पा रहा हु । आप इस केबल से 15watt का  चार्जर उसे कर सकते है (इससे जड़ा नही) । लोकल बाजार में इसका दाम 150 है ,  अमेजन पे ये केबल मुझे 67 में मिला । गर्व से कहो हम हिंदू है , जय हिंद जय भारत ,",
         "https://m.media-amazon.com/images/W/WEBP_402378-T2/images/I/41jlwEZpa5L._SX300_SY300_QL70_FMwebp_.jpg",
         "https://www.amazon.in/boAt-Micro-USB-Tangle-Free-Transmission/dp/B08WRWPM22/ref=sr_1_8?qid=1672909124&s=electronics&sr=1-8"
        ],
        [
         "B08DDRGWTJ",
         "MI Usb Type-C Cable Smartphone (Black)",
         "Computers&Accessories|Accessories&Peripherals|Cables&Accessories|Cables|USBCables",
         229.0,
         299.0,
         23.0,
         4.3,
         null,
         "1m long Type-C USB Cable|Sturdy and Durable. With USB cable you can transfer data with speeds of upto 480 Mbps|Upto 3A output|6months warranty|Sturdy and Durable. With USB cable you can transfer data with speeds of upto 480 Mbps|6months warranty|Up To 3A Output",
         "AHW6E5LQ2BDYOIVLAJGDH45J5V5Q,AF74RSGCHPZITVFSZN76K6GKPICA,AHDD7ZNB47QA2JLYU53HD4ML3VNQ,AHV3ELGDSOWBYUQLXSPDCSHBQRHQ,AEJU4L3ZM2GTILSJZZSNSF6VUOIA,AFVD66VQMSHPDT3A6HBBBGKRXBZA,AELKHQXVSSG6NHXLFJLLNEFRQQUQ,AGYSMAC6V6RFJJOHG2FIRPOZ6CSQ",
         "Pavan A H,Jayesh bagad,Shridhar,rajendran,karuppu k,Akshay wani,Abbimaniu Singh,VISHAL H BADSHE",
         "R2X090D1YHACKR,R32ZCIH9AFNJ60,R3N57EVVG0EHAF,R3QWLE8JHROKC1,R2VTSDOOUTSQ5X,R3E6FZ75Q074KH,R1SYBQLTPFCW20,RYQT96J8HPIXE",
         "Worth for money - suitable for Android auto,Good Product,Length,Nice,Original,Very good quay Cable support fast charging.,Original MI cable for charging upto 33 watt,I am veri happy with this product as it provide turbo charging.",
         "Worth for money - suitable for Android auto... my purpose served in car....got it for Rs.150,Everything is Okay. But packaging is not good feeling like seller gave is used cable.,Good product,Good product but cost is more.,Original cable,I bought this cable at 129. Using this cable for Android auto in my car. Perfectly works without any glitch.,Original MI cable. Will charge upto 33 watts. Got it for Rs 150.  I have 67 watt charger and I want a cable for my car so I went for it. I checked the performance with battery charging app. The charging speed is exactly half of my 67 watt original cable. Go for it.,It provided me turbo charging. I recommend for all Redmi note 10s mobile phones. As it provide turbo charging. I am veri happy with this product.",
         "https://m.media-amazon.com/images/I/31XO-wfGGGL._SX300_SY300_QL70_FMwebp_.jpg",
         "https://www.amazon.in/MI-MTCY001IN-USB-Type-C-Cable/dp/B08DDRGWTJ/ref=sr_1_9?qid=1672909124&s=electronics&sr=1-9"
        ],
        [
         "B008IFXQFU",
         "TP-Link USB WiFi Adapter for PC(TL-WN725N), N150 Wireless Network Adapter for Desktop - Nano Size WiFi Dongle Compatible with Windows 11/10/7/8/8.1/XP/ Mac OS 10.9-10.15 Linux Kernel 2.6.18-4.4.3",
         "Computers&Accessories|NetworkingDevices|NetworkAdapters|WirelessUSBAdapters",
         499.0,
         999.0,
         50.0,
         4.2,
         null,
         "USB WiFi Adapter —— Speedy wireless transmission at up to 150Mbps ideal for video streaming or internet calls|Mini Design —— Sleek miniature design so small that once plugged in, can be left in a Laptop’s USB port|Advanced Security —— Supports 64/128 WEP, WPA, PA2/WPA-PSK/WPA2-PSK(TKIP/AES)|Compatibility —— Windows 11/10/8.1/8/7/XP, Mac OS 10.15 and earlier, Linux|Easy Setup —— Connect in no time with easy setup utility in 14 languages|In an unlikely case of product quality related issue, we may ask you to reach out to brand’s customer service support and seek resolution. We will require brand proof of issue to process replacement request",
         "AGV3IEFANZCKECFGUM42MRH5FNOA,AEBO7NWCNXKT4AESAN443HQH35FQ,AE7GD3VRRYQEAHDR7FXJIR23INYA,AHPAW24BI5X2GCX5M2LHI72VSJJQ,AE2VXY4CFO36MDSIMPG43XHNF4GA,AHHQEKUNVETALN7DTRHUQ2WAWEKQ,AFMIFTNTUD5PIHGONWOTRMMZ5EBA,AHOJBIZVVIIFJKRREY4B6ESVA4KA",
         "Azhar JuMan,Anirudh Sood,Hari Krishnan PS,Akash Jindal,PRADEEP,Rajesh,Divya Kothari,abhijit",
         "R1LW6NWSVTVZ2H,R3VR5WFKUS15C5,R2F6GC79OYWUKQ,R3QZ19MECGWG9A,R2MPU42MYK7GPO,R33DVXFB4VYPZZ,R1SQ7OGFR4JRUR,R1S5F9QI0M1VBZ",
         "Works on linux for me. Get the model with antenna.,Does what it say but other brands available at lesser price,Easy Handle,Great product,Perfect working,Speed is perfect,Great Design, Build, Connectivity Range, Packaging and other features but no linux support since v2,Very good",
         "I use this to connect an old PC to internet. I tried lubuntu 20 and ubuntu 22, it worked out of the box in both, didn't have to do any setup. There's an extender cable so you can place this in a comfortable place. Get the model with antenna because otherwise you'll have range problems if you're not directly in line of sight from your wifi router.,The wifi dongle is a simple plug & play device, will start catching available networks right after you plug it into your USB port, no additional installations/ softwares requires. Signal strength is good.... just wonder what would be different in other adapters of lesser known brands which are available at a much more competitive pricing, hence a star less.,Pros:*Easy to use & Portable*Can be connected to Mobile Hotspot and used in PC( Budget Friendly)*Less installation process*No heating issues & Good Coverage*Best alternative for USB Tethering (phone's battery may get damaged for long term run with Tethering)Cons:*Internet connection speed varies at times, also depends on your modem or cellular connection*Issues occur while installing via CD, which is available along with the product( Installation driver can be downloaded from TP-Link site)*Needed to reconnect the adapter every time system is turned ON*Will not work if your software has some issues, so encountered any just update your system(worked for me)*Support Center is worse, calls are unattended most of the times or just visit nearby storeConclusion:Brought this @499/-Ideal for users who don't need very high speed internet usage,a good alternative for USB Tethering and are on Budge(1080p Youtube videos can be easily played with this without any interruptions),wifi connectivity is a great good result for me. however, some jitter problems did exist.,This is perfect device to connect wifi. Go for it.,This wifi adopter is good working,(Pictures attached)Size/Design:  ★ ★ ★ ★ ★Build Quality: ★ ★ ★ ★ ★Packaging:  ★ ★ ★ ★ ★Software:  ★ ★ ★ ★Speed:  ★ ★ ★ ★ ★Connectivity:  ★ ★ ★ ★ ★Experience:  ★ ★ ★ ★ ★Warranty:  ★ ★ ★ ★ ★Size and Design:The best part about this is that it is very compact in size and very sober and elegant in design. This is a big plus as it is easy plug in and use, add to it the good sober design.Build Quality:The build quality is undoubtedly superb. Just no qualms about that, at all. When held, it doesnt give off that cheap and flimsy product-like feeling. It is good sturdy with its build quality.Packaging:This part is also a big plus as the item was well cushioned and packaged with all the necessary items that ensured that no damage could have been caused to the product during transportation. This ensures that I as a customer have received something not damaged internally already.Software:This is actually good but not great part with the product.The good part is that a CD has been provided with it along with a manual.The not great part is that NO LINUX SUPPORT has been given from Version 2 onwards. This is bad, really.Speed:It easily supports net speeds upto 300 Mbps. Practically speaking, I have tested it at my home and it easily supports net speed of over 100-150 Mbps without a sigh.On testing I found that it did connect to 5GHz network, without any issue.Connectivity:Please mark its not feet its metres. Multiply metres x 3 to get the distance in feet.It easily connects to my laptop or phone from 7 metres across one room. So thats 21 feet. I mean even our old bluetooth used to connect to about 15 ft.So 20-25 feet is not at all an issue with this. This is the big plus I found with the product.Experience:From this point of view, so far except the linux non-compatibility issue, I found no other flaws with this product.So overall its a great product.Warranty:Its 3 years so I am assured that atleast for 3 years I am tension-free and not just 1 year, contrary to most electronic items today that only provide 1 year warranty with their items.,Best adapter I have bought ever. Works nicely seemless connectivity",
         "https://m.media-amazon.com/images/W/WEBP_402378-T2/images/I/31e6ElWRymL._SX300_SY300_QL70_FMwebp_.jpg",
         "https://www.amazon.in/TP-Link-TL-WN725N-150Mbps-Wireless-Adapter/dp/B008IFXQFU/ref=sr_1_10?qid=1672909124&s=electronics&sr=1-10"
        ],
        [
         "B082LZGK39",
         "Ambrane Unbreakable 60W / 3A Fast Charging 1.5m Braided Micro USB Cable for Smartphones, Tablets, Laptops & Other Micro USB Devices, 480Mbps Data Sync, Quick Charge 3.0 (RCM15, Black)",
         "Computers&Accessories|Accessories&Peripherals|Cables&Accessories|Cables|USBCables",
         199.0,
         299.0,
         33.0,
         4.0,
         null,
         "Universal Compatibility – It is compatible with all Micro USB enabled devices, be it an android smartphone, tablet, PC peripheral or any other micro USB compatible device|Unbreakable – Made of special braided outer with rugged interior bindings, it is ultra-durable cable that won’t be affected by daily rough usage|Ideal Length – It has ideal length of 1.5 meters which is neither too short like your typical 1meter cable or too long like a 2meters cable|Supports maximum 3A fast charging and 480 Mbps data transfer speed|6 Months manufacturer warranty from the date of purchase.",
         "AECPFYFQVRUWC3KGNLJIOREFP5LQ,AGYYVPDD7YG7FYNBXNGXZJT525AQ,AHONIZU3ICIEHQIGQ6R2VFRSBXOQ,AFPHD2CRPDZMWMBL7WXRSVYWS5JA,AEZ346GX3HJ4O4XNRPHCNHXQURMQ,AEPSWFPNECKO34PUC7I56ITGXR6Q,AHWVEHR5DYLVFTO2KF3IZATFQSWQ,AH4QT33M55677I7ISQOAKEQWACYQ",
         "ArdKn,Nirbhay kumar,Sagar Viswanathan,Asp,Placeholder,BharanI,sonia,Niam",
         "RGIQEG07R9HS2,R1SMWZQ86XIN8U,R2J3Y1WL29GWDE,RYGGS0M09S3KY,R17KQRUTAN5DKS,R3AAQGS6HP2QUK,R1HDNOG6TO2CCA,R3PHKXYA5AFEOU",
         "A Good Braided Cable for Your Type C Device,Good quality product from ambrane,Super cable,As,Good quality,Good product,its good,Good quality for the price but one issue with my unit",
         "I ordered this cable to connect my phone to Android Auto of car. The cable is really strong and the connection ports are really well made. I already has a Micro USB cable from Ambrane and it's still in good shape. I connected my phone to the car using the cable and it got connected well and no issues. I also connected it to the charging port and yes it has Fast Charging support.,It quality is good at this price and the main thing is that i didn't ever thought that this cable will be so long it's good one and charging power is too good and also supports fast charging,Value for money, with extra length👍,Good, working fine,Product quality is good,Good,very good,Bought for my daughter's old phone.Brand new cable it was not charging, I already repacked and requested for replacement.I checked again, and there was some green colour paste/fungus inside the micro USB connector. I cleaned with an alcoholic and starts working again.Checked the ampere of charging speed got around 1400ma-1500ma - not bad, came with braided 1.5m long cable, pretty impressive for the price.Can't blame the manufacturer.But quality issues by the distributor, they might have stored in very humid place.",
         "https://m.media-amazon.com/images/W/WEBP_402378-T2/images/I/31kj3q4SepL._SY445_SX342_QL70_FMwebp_.jpg",
         "https://www.amazon.in/Ambrane-Unbreakable-Charging-Braided-Android/dp/B082LZGK39/ref=sr_1_11?qid=1672909124&s=electronics&sr=1-11"
        ]
       ],
       "datasetInfos": [],
       "dbfsResultPath": null,
       "isJsonSchema": true,
       "metadata": {},
       "overflow": false,
       "plotOptions": {
        "customPlotOptions": {},
        "displayType": "table",
        "pivotAggregation": null,
        "pivotColumns": null,
        "xColumns": null,
        "yColumns": null
       },
       "removedWidgets": [],
       "schema": [
        {
         "metadata": "{}",
         "name": "product_id",
         "type": "\"string\""
        },
        {
         "metadata": "{}",
         "name": "product_name",
         "type": "\"string\""
        },
        {
         "metadata": "{}",
         "name": "category",
         "type": "\"string\""
        },
        {
         "metadata": "{}",
         "name": "discounted_price",
         "type": "\"double\""
        },
        {
         "metadata": "{}",
         "name": "actual_price",
         "type": "\"double\""
        },
        {
         "metadata": "{}",
         "name": "discount_percentage",
         "type": "\"double\""
        },
        {
         "metadata": "{}",
         "name": "rating",
         "type": "\"double\""
        },
        {
         "metadata": "{}",
         "name": "rating_count",
         "type": "\"double\""
        },
        {
         "metadata": "{}",
         "name": "about_product",
         "type": "\"string\""
        },
        {
         "metadata": "{}",
         "name": "user_id",
         "type": "\"string\""
        },
        {
         "metadata": "{}",
         "name": "user_name",
         "type": "\"string\""
        },
        {
         "metadata": "{}",
         "name": "review_id",
         "type": "\"string\""
        },
        {
         "metadata": "{}",
         "name": "review_title",
         "type": "\"string\""
        },
        {
         "metadata": "{}",
         "name": "review_content",
         "type": "\"string\""
        },
        {
         "metadata": "{}",
         "name": "img_link",
         "type": "\"string\""
        },
        {
         "metadata": "{}",
         "name": "product_link",
         "type": "\"string\""
        }
       ],
       "type": "table"
      }
     },
     "output_type": "display_data"
    }
   ],
   "source": [
    "%sql SELECT * FROM bronze.name_basics LIMIT 10"
   ]
  },
  {
   "cell_type": "markdown",
   "metadata": {
    "application/vnd.databricks.v1+cell": {
     "cellMetadata": {
      "byteLimit": 2048000,
      "rowLimit": 10000
     },
     "inputWidgets": {},
     "nuid": "c420aeb8-ef18-430b-8cee-8885205e3696",
     "showTitle": false,
     "tableResultSettingsMap": {},
     "title": ""
    }
   },
   "source": [
    "#3 - Modelagem de Dados\n",
    "## 3.1 Catálogo de Dados\n",
    "\n",
    "\n",
    "##Tabela de Fato: fact_product_reviews\n",
    "\n",
    "A tabela de fato contém dados quantitativos, ou seja, as métricas que você deseja analisar.\n",
    "\n",
    "Atributo\tTipo de Dado\tDescrição\tValor Esperado\tDomínio de Valores\n",
    "\n",
    "product_id\tVARCHAR(255)\tIdentificador único do produto.\tAlfanumérico\tValor único por produto.\n",
    "\n",
    "user_id\tVARCHAR(255)\tIdentificador único do usuário que fez a avaliação.\tAlfanumérico\tValor único por usuário.\n",
    "\n",
    "discounted_price\tDECIMAL(10,2)\tPreço com desconto do produto.\tNúmero decimal com 2 casas decimais.\tMínimo: 0. Máximo: depende do produto.\n",
    "\n",
    "actual_price\tDECIMAL(10,2)\tPreço original (sem desconto) do produto.\tNúmero decimal com 2 casas decimais.\tMínimo: 0. Máximo: depende do produto.\n",
    "\n",
    "discount_percentage\tDECIMAL(5,2)\tPercentual de desconto aplicado ao produto.\tNúmero decimal com até 2 casas decimais.\tMínimo: 0. Máximo: 100.\n",
    "\n",
    "rating\tDECIMAL(3,2)\tAvaliação média do produto (de 1 a 5 estrelas).\tNúmero decimal entre 1 e 5.\tMínimo: 1. Máximo: 5.\n",
    "\n",
    "rating_count\tINT\tQuantidade de avaliações feitas para o produto.\tNúmero inteiro positivo.\tMínimo: 0.\n",
    "\n",
    "review_id\tVARCHAR(255)\tIdentificador único da avaliação.\tAlfanumérico\tValor único por avaliação.\n",
    "\n",
    "##Tabela de Dimensão: dim_product\n",
    "\n",
    "A tabela de dimensão contém dados descritivos dos produtos.\n",
    "\n",
    "Atributo\tTipo de Dado\tDescrição\tValor Esperado\tDomínio de Valores\n",
    "\n",
    "product_id\tVARCHAR(255)\tIdentificador único do produto (chave primária).\tAlfanumérico\tValor único por produto.\n",
    "\n",
    "product_name\tVARCHAR(1000)\tNome do produto.\tTexto\tString com nome do produto.\n",
    "\n",
    "category\tVARCHAR(255)\tCategoria do produto, incluindo subcategorias.\tTexto\tString representando categoria.\n",
    "\n",
    "about_product\tSTRING\tDescrição detalhada do produto.\tTexto\tString com informações detalhadas do produto.\n",
    "\n",
    "product_link\tVARCHAR(255)\tLink para a página do produto.\tURL\tURL válida do produto.\n",
    "\n",
    "img_link\tVARCHAR(255)\tLink para a imagem do produto.\tURL\tURL válida da imagem do produto.\n",
    "\n",
    "##Tabela de Dimensão: dim_user1\n",
    "\n",
    "A tabela de dimensão contém dados descritivos sobre os usuários.\n",
    "\n",
    "Atributo\tTipo de Dado\tDescrição\tValor Esperado\tDomínio de Valores\n",
    "user_id\tVARCHAR(255)\tIdentificador único do usuário.\tAlfanumérico\tValor único por usuário.\n",
    "\n",
    "user_name\tVARCHAR(255)\tNome do usuário.\tTexto\tNome do usuário.\n",
    "\n",
    "##Tabela de Dimensão: dim_review\n",
    "A tabela de dimensão contém detalhes das avaliações feitas pelos usuários.\n",
    "\n",
    "Atributo\tTipo de Dado\tDescrição\tValor Esperado\tDomínio de Valores\n",
    "\n",
    "review_id\tVARCHAR(255)\tIdentificador único da avaliação.\tAlfanumérico\tValor único por avaliação.\n",
    "\n",
    "review_title\tVARCHAR(1000)\tTítulo da avaliação.\tTexto\tString com título da avaliação.\n",
    "\n",
    "review_content\tSTRING\tConteúdo completo da avaliação.\tTexto\tString com conteúdo da avaliação.\n",
    "\n",
    "Esquema Estrela\n",
    "O modelo do esquema estrela é bem representado aqui:\n",
    "\n",
    "Tabela de Fato: fact_product_reviews\n",
    "\n",
    "Contém medidas como discounted_price, rating, rating_count, entre outras.\n",
    "\n",
    "Tabelas de Dimensão:\n",
    "\n",
    "dim_product: Descrição dos produtos.\n",
    "\n",
    "dim_user1: Informações sobre os usuários.\n",
    "\n",
    "dim_review: Detalhes das avaliações.\n"
   ]
  },
  {
   "cell_type": "markdown",
   "metadata": {
    "application/vnd.databricks.v1+cell": {
     "cellMetadata": {
      "byteLimit": 2048000,
      "rowLimit": 10000
     },
     "inputWidgets": {},
     "nuid": "cecd81c9-1a78-4099-90fd-4869434d05ee",
     "showTitle": false,
     "tableResultSettingsMap": {},
     "title": ""
    }
   },
   "source": [
    "## 3.2 Linhagem dos Dados:\n",
    "\n",
    "A linhagem de dados descreve a origem, o processo de transformação e o destino dos dados. \n",
    "\n",
    "Origem dos Dados:\n",
    "\n",
    "Os dados foram extraídos do conjunto de dados da Amazon do site Kaggle, onde os produtos e as avaliações de usuários são coletados.\n",
    "\n",
    "Processo de Transformação (ETL):\n",
    "\n",
    "- Foram removidos valores nulos ou inválidos,\n",
    "-  Os preços com símbolos monetários foram removidos e convertidos para o tipo float\n",
    "- remoção de duplicados,   \n",
    "- ajuste dos tipos de dados como conversões de string para float64.\n",
    "- filtragem de dados de produtos\n",
    "- Foram agrupados os dados por preço e rating\n",
    "- Agrupamento por categoria e cálculo de preços \n",
    "\n",
    "Carregamento nos Data Warehouses:\n",
    "\n",
    "Os dados transformados são carregados nas tabelas de dimensão (como dim_product, dim_user1, dim_review). As métricas quantitativas (como preços e avaliações) são carregadas na tabela de fato (fact_product_reviews).\n",
    "\n",
    "Consultas e Análises:\n",
    "\n",
    "A linhagem de dados facilita o rastreamento de como os dados foram transformados e de onde vieram. Isso garante que os dados usados nas análises sejam válidos e compreendidos."
   ]
  },
  {
   "cell_type": "markdown",
   "metadata": {
    "application/vnd.databricks.v1+cell": {
     "cellMetadata": {
      "byteLimit": 2048000,
      "rowLimit": 10000
     },
     "inputWidgets": {},
     "nuid": "f5b47bb1-aeda-4b72-8ac9-521c8ea16a01",
     "showTitle": false,
     "tableResultSettingsMap": {},
     "title": ""
    }
   },
   "source": [
    "\n",
    "## 3.3 Criação do modelo Esquema Estrela"
   ]
  },
  {
   "cell_type": "code",
   "execution_count": 0,
   "metadata": {
    "application/vnd.databricks.v1+cell": {
     "cellMetadata": {
      "byteLimit": 2048000,
      "rowLimit": 10000
     },
     "inputWidgets": {},
     "nuid": "f79bab51-6470-433a-8bce-17993cb64819",
     "showTitle": false,
     "tableResultSettingsMap": {},
     "title": ""
    }
   },
   "outputs": [
    {
     "output_type": "stream",
     "name": "stdout",
     "output_type": "stream",
     "text": [
      "Out[8]: True"
     ]
    }
   ],
   "source": [
    "dbutils.fs.rm(\"dbfs:/user/hive/warehouse/fact_product_reviews\", True)\n"
   ]
  },
  {
   "cell_type": "code",
   "execution_count": 0,
   "metadata": {
    "application/vnd.databricks.v1+cell": {
     "cellMetadata": {
      "byteLimit": 2048000,
      "rowLimit": 10000
     },
     "inputWidgets": {},
     "nuid": "80f84ab2-5b7a-4e22-9e27-9481929690ab",
     "showTitle": false,
     "tableResultSettingsMap": {},
     "title": ""
    }
   },
   "outputs": [
    {
     "output_type": "stream",
     "name": "stdout",
     "output_type": "stream",
     "text": [
      "Out[9]: True"
     ]
    }
   ],
   "source": [
    "dbutils.fs.rm(\"dbfs:/user/hive/warehouse/dim_review\", True)\n"
   ]
  },
  {
   "cell_type": "code",
   "execution_count": 0,
   "metadata": {
    "application/vnd.databricks.v1+cell": {
     "cellMetadata": {
      "byteLimit": 2048000,
      "rowLimit": 10000
     },
     "inputWidgets": {},
     "nuid": "a9539c33-13f7-42d7-8399-0f8c2df64cb8",
     "showTitle": false,
     "tableResultSettingsMap": {},
     "title": ""
    }
   },
   "outputs": [
    {
     "output_type": "stream",
     "name": "stdout",
     "output_type": "stream",
     "text": [
      "Out[10]: True"
     ]
    }
   ],
   "source": [
    "dbutils.fs.rm(\"dbfs:/user/hive/warehouse/dim_product\", True)\n"
   ]
  },
  {
   "cell_type": "code",
   "execution_count": 0,
   "metadata": {
    "application/vnd.databricks.v1+cell": {
     "cellMetadata": {
      "byteLimit": 2048000,
      "rowLimit": 10000
     },
     "inputWidgets": {},
     "nuid": "1bbe53b0-e543-4b3c-8b58-4139c8fe5fbf",
     "showTitle": false,
     "tableResultSettingsMap": {},
     "title": ""
    }
   },
   "outputs": [
    {
     "output_type": "stream",
     "name": "stdout",
     "output_type": "stream",
     "text": [
      "Out[11]: True"
     ]
    }
   ],
   "source": [
    "dbutils.fs.rm(\"dbfs:/user/hive/warehouse/dim_user1\", True)\n"
   ]
  },
  {
   "cell_type": "code",
   "execution_count": 0,
   "metadata": {
    "application/vnd.databricks.v1+cell": {
     "cellMetadata": {
      "byteLimit": 2048000,
      "implicitDf": true,
      "rowLimit": 10000
     },
     "inputWidgets": {},
     "nuid": "d97cfbe2-a722-44a8-b4da-41091828b3ff",
     "showTitle": false,
     "tableResultSettingsMap": {},
     "title": ""
    }
   },
   "outputs": [
    {
     "output_type": "display_data",
     "data": {
      "text/html": [
       "<style scoped>\n",
       "  .table-result-container {\n",
       "    max-height: 300px;\n",
       "    overflow: auto;\n",
       "  }\n",
       "  table, th, td {\n",
       "    border: 1px solid black;\n",
       "    border-collapse: collapse;\n",
       "  }\n",
       "  th, td {\n",
       "    padding: 5px;\n",
       "  }\n",
       "  th {\n",
       "    text-align: left;\n",
       "  }\n",
       "</style><div class='table-result-container'><table class='table-result'><thead style='background-color: white'><tr></tr></thead><tbody></tbody></table></div>"
      ]
     },
     "metadata": {
      "application/vnd.databricks.v1+output": {
       "addedWidgets": {},
       "aggData": [],
       "aggError": "",
       "aggOverflow": false,
       "aggSchema": [],
       "aggSeriesLimitReached": false,
       "aggType": "",
       "arguments": {},
       "columnCustomDisplayInfos": {},
       "data": [],
       "datasetInfos": [],
       "dbfsResultPath": null,
       "isJsonSchema": true,
       "metadata": {},
       "overflow": false,
       "plotOptions": {
        "customPlotOptions": {},
        "displayType": "table",
        "pivotAggregation": null,
        "pivotColumns": null,
        "xColumns": null,
        "yColumns": null
       },
       "removedWidgets": [],
       "schema": [],
       "type": "table"
      }
     },
     "output_type": "display_data"
    }
   ],
   "source": [
    "%sql\n",
    "DROP TABLE IF EXISTS fact_product_reviews;\n",
    "CREATE TABLE fact_product_reviews (\n",
    "    product_id VARCHAR(255),\n",
    "    user_id VARCHAR(255),\n",
    "    discounted_price DECIMAL(10,2),\n",
    "    actual_price DECIMAL(10,2),\n",
    "    discount_percentage DECIMAL(5,2),\n",
    "    rating DECIMAL(3,2),\n",
    "    rating_count INT,\n",
    "    review_id VARCHAR(255)\n",
    "    \n",
    ");\n"
   ]
  },
  {
   "cell_type": "code",
   "execution_count": 0,
   "metadata": {
    "application/vnd.databricks.v1+cell": {
     "cellMetadata": {
      "byteLimit": 2048000,
      "implicitDf": true,
      "rowLimit": 10000
     },
     "inputWidgets": {},
     "nuid": "7764f889-99e9-4a8c-9e73-e46a05f06bf4",
     "showTitle": false,
     "tableResultSettingsMap": {},
     "title": ""
    }
   },
   "outputs": [
    {
     "output_type": "display_data",
     "data": {
      "text/html": [
       "<style scoped>\n",
       "  .table-result-container {\n",
       "    max-height: 300px;\n",
       "    overflow: auto;\n",
       "  }\n",
       "  table, th, td {\n",
       "    border: 1px solid black;\n",
       "    border-collapse: collapse;\n",
       "  }\n",
       "  th, td {\n",
       "    padding: 5px;\n",
       "  }\n",
       "  th {\n",
       "    text-align: left;\n",
       "  }\n",
       "</style><div class='table-result-container'><table class='table-result'><thead style='background-color: white'><tr></tr></thead><tbody></tbody></table></div>"
      ]
     },
     "metadata": {
      "application/vnd.databricks.v1+output": {
       "addedWidgets": {},
       "aggData": [],
       "aggError": "",
       "aggOverflow": false,
       "aggSchema": [],
       "aggSeriesLimitReached": false,
       "aggType": "",
       "arguments": {},
       "columnCustomDisplayInfos": {},
       "data": [],
       "datasetInfos": [],
       "dbfsResultPath": null,
       "isJsonSchema": true,
       "metadata": {},
       "overflow": false,
       "plotOptions": {
        "customPlotOptions": {},
        "displayType": "table",
        "pivotAggregation": null,
        "pivotColumns": null,
        "xColumns": null,
        "yColumns": null
       },
       "removedWidgets": [],
       "schema": [],
       "type": "table"
      }
     },
     "output_type": "display_data"
    }
   ],
   "source": [
    "%sql\n",
    "DROP TABLE IF EXISTS dim_product;\n",
    "CREATE TABLE dim_product (\n",
    "    product_id VARCHAR(255),\n",
    "    product_name VARCHAR(1000),\n",
    "    category VARCHAR(255),\n",
    "    about_product STRING,\n",
    "    product_link VARCHAR(255),\n",
    "    img_link VARCHAR(255)\n",
    ");\n"
   ]
  },
  {
   "cell_type": "code",
   "execution_count": 0,
   "metadata": {
    "application/vnd.databricks.v1+cell": {
     "cellMetadata": {
      "byteLimit": 2048000,
      "implicitDf": true,
      "rowLimit": 10000
     },
     "inputWidgets": {},
     "nuid": "53b245d3-eae7-4772-bec3-afacb85341ef",
     "showTitle": false,
     "tableResultSettingsMap": {},
     "title": ""
    }
   },
   "outputs": [
    {
     "output_type": "display_data",
     "data": {
      "text/html": [
       "<style scoped>\n",
       "  .table-result-container {\n",
       "    max-height: 300px;\n",
       "    overflow: auto;\n",
       "  }\n",
       "  table, th, td {\n",
       "    border: 1px solid black;\n",
       "    border-collapse: collapse;\n",
       "  }\n",
       "  th, td {\n",
       "    padding: 5px;\n",
       "  }\n",
       "  th {\n",
       "    text-align: left;\n",
       "  }\n",
       "</style><div class='table-result-container'><table class='table-result'><thead style='background-color: white'><tr></tr></thead><tbody></tbody></table></div>"
      ]
     },
     "metadata": {
      "application/vnd.databricks.v1+output": {
       "addedWidgets": {},
       "aggData": [],
       "aggError": "",
       "aggOverflow": false,
       "aggSchema": [],
       "aggSeriesLimitReached": false,
       "aggType": "",
       "arguments": {},
       "columnCustomDisplayInfos": {},
       "data": [],
       "datasetInfos": [],
       "dbfsResultPath": null,
       "isJsonSchema": true,
       "metadata": {},
       "overflow": false,
       "plotOptions": {
        "customPlotOptions": {},
        "displayType": "table",
        "pivotAggregation": null,
        "pivotColumns": null,
        "xColumns": null,
        "yColumns": null
       },
       "removedWidgets": [],
       "schema": [],
       "type": "table"
      }
     },
     "output_type": "display_data"
    }
   ],
   "source": [
    "%sql\n",
    "DROP TABLE IF EXISTS dim_user1;\n",
    "CREATE TABLE dim_user1 (\n",
    "    user_id VARCHAR(255),\n",
    "    user_name VARCHAR(255)\n",
    ");\n"
   ]
  },
  {
   "cell_type": "code",
   "execution_count": 0,
   "metadata": {
    "application/vnd.databricks.v1+cell": {
     "cellMetadata": {
      "byteLimit": 2048000,
      "implicitDf": true,
      "rowLimit": 10000
     },
     "inputWidgets": {},
     "nuid": "1e4d5598-7baa-4d0b-8b59-b08364092c4d",
     "showTitle": false,
     "tableResultSettingsMap": {},
     "title": ""
    }
   },
   "outputs": [
    {
     "output_type": "display_data",
     "data": {
      "text/html": [
       "<style scoped>\n",
       "  .table-result-container {\n",
       "    max-height: 300px;\n",
       "    overflow: auto;\n",
       "  }\n",
       "  table, th, td {\n",
       "    border: 1px solid black;\n",
       "    border-collapse: collapse;\n",
       "  }\n",
       "  th, td {\n",
       "    padding: 5px;\n",
       "  }\n",
       "  th {\n",
       "    text-align: left;\n",
       "  }\n",
       "</style><div class='table-result-container'><table class='table-result'><thead style='background-color: white'><tr></tr></thead><tbody></tbody></table></div>"
      ]
     },
     "metadata": {
      "application/vnd.databricks.v1+output": {
       "addedWidgets": {},
       "aggData": [],
       "aggError": "",
       "aggOverflow": false,
       "aggSchema": [],
       "aggSeriesLimitReached": false,
       "aggType": "",
       "arguments": {},
       "columnCustomDisplayInfos": {},
       "data": [],
       "datasetInfos": [],
       "dbfsResultPath": null,
       "isJsonSchema": true,
       "metadata": {},
       "overflow": false,
       "plotOptions": {
        "customPlotOptions": {},
        "displayType": "table",
        "pivotAggregation": null,
        "pivotColumns": null,
        "xColumns": null,
        "yColumns": null
       },
       "removedWidgets": [],
       "schema": [],
       "type": "table"
      }
     },
     "output_type": "display_data"
    }
   ],
   "source": [
    "%sql\n",
    "DROP TABLE IF EXISTS dim_review;\n",
    "CREATE TABLE dim_review (\n",
    "    review_id VARCHAR(255),\n",
    "    review_title VARCHAR(1000),\n",
    "    review_content STRING\n",
    ");\n"
   ]
  },
  {
   "cell_type": "markdown",
   "metadata": {
    "application/vnd.databricks.v1+cell": {
     "cellMetadata": {},
     "inputWidgets": {},
     "nuid": "bf16bd99-edf7-4b92-a49b-2a4749c0359b",
     "showTitle": false,
     "tableResultSettingsMap": {},
     "title": ""
    }
   },
   "source": [
    "##ETL - Extração, Transformação e Carga"
   ]
  },
  {
   "cell_type": "markdown",
   "metadata": {
    "application/vnd.databricks.v1+cell": {
     "cellMetadata": {
      "byteLimit": 2048000,
      "rowLimit": 10000
     },
     "inputWidgets": {},
     "nuid": "ce25b153-be81-4920-9d5a-6ad41fa1acbf",
     "showTitle": false,
     "tableResultSettingsMap": {},
     "title": ""
    }
   },
   "source": [
    "1. Extração - Os dados foram extraídos do conjunto de dados da Amazon do site Kaggle.\n",
    "\n",
    "2. Transformação \n",
    "- Foram removidos os valores nulos das colunas 'ratings' e 'ratings_count' que foram tratados com a média\n",
    "- Ajustes dos tipos de dados, com a conversão das colunas numéricas para float\n",
    "- Remoção de caracteres especiais\n",
    "- Filtragem de dados sobre os produtos\n",
    "- Foram ordenados os dados por preço e rating\n",
    "- Agrupamento por categoria e cálculo da média de preço com base na categoria\n",
    "\n",
    "3. Carga\n",
    "- Os dados transformados são carregados nas tabelas de dimensão (como dim_product, dim_user1, dim_review). As métricas quantitativas (como preços e avaliações) são carregadas na tabela de fato (fact_product_reviews).\n"
   ]
  },
  {
   "cell_type": "markdown",
   "metadata": {
    "application/vnd.databricks.v1+cell": {
     "cellMetadata": {
      "byteLimit": 2048000,
      "rowLimit": 10000
     },
     "inputWidgets": {},
     "nuid": "9fe514d4-ce56-4291-bbdc-5425487f4b0b",
     "showTitle": false,
     "tableResultSettingsMap": {},
     "title": ""
    }
   },
   "source": [
    "##Documentação da transformação de dados\n",
    "\n",
    "Algumas colunas numéricas foram tratadas como object o que dificultou a conversão para float. Quando o pandas lê uma coluna como object, ele pode ter dificuldades em tratar valores que contenham tanto texto quanto números ou símbolos. Isso ocorre porque o tipo object no pandas é utilizado para strings ou outros tipos misturados, como listas ou dicionários.Por isso, as colunas foram convertidas para  string (astype(str)) pois o pandas pode lidar melhor com a limpeza de dados, já que ele sabe que os dados são apenas texto.\n",
    "A conversão para string foi uma forma de garantir que o pandas tratasse todas as entradas como strings, o que facilita a aplicação de funções como replace() para limpar os símbolos e vírgulas. Depois que a coluna foi convertida para string e os caracteres indesejados foram removidos, a conversão para float se tornou bem-sucedida porque os dados estavam mais consistentes.\n",
    "\n",
    "Assim, as colunas numéricas que continham valores numericos e texto misturados foram convertidos para string. Usei o replace() com expressões regulares para remover ₹ e as vírgulas nas colunas de preços e rating_count. A função pd.to_numeric() é usada para converter as colunas para numérico. Com errors='coerce', valores que não podem ser convertidos (por exemplo, texto ou valores inválidos) serão convertidos para NaN.Foi realizada a conversão para float para realizar operações numéricas e plotar gráficos de maneira eficaz. Foram plotados histogramas para visualizar a distribuição de dados e também foram gerados gráficos de dispersão. Foram também verificados valores nulos na coluna ratings e rating count e foram tratados utilizando-se a média.\n",
    "Usei dtypes para verificar se as colunas foram convertidas corretamente para float e eu usei pyspark para verificar os valores duplicados.Eu também ordenei os dados por preço e rating e agrupei por categoria para calcular a média de preço com base na categoria para preparar os dados de uma maneira que facilite a visualização e análise. \n"
   ]
  },
  {
   "cell_type": "code",
   "execution_count": 0,
   "metadata": {
    "application/vnd.databricks.v1+cell": {
     "cellMetadata": {
      "byteLimit": 2048000,
      "rowLimit": 10000
     },
     "inputWidgets": {},
     "nuid": "172d85ff-9382-45c5-85de-b5c33c1f0d0f",
     "showTitle": false,
     "tableResultSettingsMap": {},
     "title": ""
    }
   },
   "outputs": [
    {
     "output_type": "stream",
     "name": "stdout",
     "output_type": "stream",
     "text": [
      "product_id              object\nproduct_name            object\ncategory                object\ndiscounted_price       float64\nactual_price           float64\ndiscount_percentage    float64\nrating                 float64\nrating_count           float64\nabout_product           object\nuser_id                 object\nuser_name               object\nreview_id               object\nreview_title            object\nreview_content          object\nimg_link                object\nproduct_link            object\ndtype: object\n"
     ]
    }
   ],
   "source": [
    "print(dataset.dtypes) # Verificar os tipos de dados das colunas"
   ]
  },
  {
   "cell_type": "code",
   "execution_count": 0,
   "metadata": {
    "application/vnd.databricks.v1+cell": {
     "cellMetadata": {
      "byteLimit": 2048000,
      "rowLimit": 10000
     },
     "inputWidgets": {},
     "nuid": "44c6ccd1-b374-4dbd-9ee9-7301aab3f81b",
     "showTitle": false,
     "tableResultSettingsMap": {},
     "title": ""
    }
   },
   "outputs": [
    {
     "output_type": "stream",
     "name": "stdout",
     "output_type": "stream",
     "text": [
      "₹999      120\n₹499       71\n₹1,999     56\n₹1,499     37\n₹399       34\n         ... \n₹931        1\n₹3,599      1\n₹420        1\n₹9,625      1\n₹3,690      1\nName: actual_price, Length: 449, dtype: int64\n"
     ]
    }
   ],
   "source": [
    "# Verificar os valores únicos na coluna 'actual_price'\n",
    "valores_unicos = dataset['actual_price'].value_counts()\n",
    "print(valores_unicos)"
   ]
  },
  {
   "cell_type": "code",
   "execution_count": 0,
   "metadata": {
    "application/vnd.databricks.v1+cell": {
     "cellMetadata": {
      "byteLimit": 2048000,
      "rowLimit": 10000
     },
     "inputWidgets": {},
     "nuid": "dfb09d01-b553-4ce8-b59f-07a5a2597b3b",
     "showTitle": false,
     "tableResultSettingsMap": {},
     "title": ""
    }
   },
   "outputs": [],
   "source": [
    "dataset['actual_price'] = dataset['actual_price'].astype(str) #Faz a conversão da coluna 'actual price' para string"
   ]
  },
  {
   "cell_type": "code",
   "execution_count": 0,
   "metadata": {
    "application/vnd.databricks.v1+cell": {
     "cellMetadata": {
      "byteLimit": 2048000,
      "rowLimit": 10000
     },
     "inputWidgets": {},
     "nuid": "cba6b9bc-6011-429a-9613-f91952834e34",
     "showTitle": false,
     "tableResultSettingsMap": {},
     "title": ""
    }
   },
   "outputs": [],
   "source": [
    "dataset['discount_percentage'] = dataset['discount_percentage'].astype(str) #Faz a conversão da coluna 'discount_percentage' para string"
   ]
  },
  {
   "cell_type": "code",
   "execution_count": 0,
   "metadata": {
    "application/vnd.databricks.v1+cell": {
     "cellMetadata": {
      "byteLimit": 2048000,
      "rowLimit": 10000
     },
     "inputWidgets": {},
     "nuid": "ad1866b9-d51f-4670-a59d-7c8913ae7f35",
     "showTitle": false,
     "tableResultSettingsMap": {},
     "title": ""
    }
   },
   "outputs": [],
   "source": [
    "dataset['discounted_price'] = dataset['discounted_price'].astype(str) #Faz a conversão da coluna 'discounted_price' para string"
   ]
  },
  {
   "cell_type": "code",
   "execution_count": 0,
   "metadata": {
    "application/vnd.databricks.v1+cell": {
     "cellMetadata": {
      "byteLimit": 2048000,
      "rowLimit": 10000
     },
     "inputWidgets": {},
     "nuid": "5c836a24-b8cf-4031-8a90-5899c91d2132",
     "showTitle": false,
     "tableResultSettingsMap": {},
     "title": ""
    }
   },
   "outputs": [],
   "source": [
    "\n",
    "\n",
    "# Remover o símbolo da moeda (₹) e as vírgulas, e converter para float\n",
    "dataset['discount_percentage'] = dataset['discount_percentage'].str.replace('%', '').astype(float)\n"
   ]
  },
  {
   "cell_type": "code",
   "execution_count": 0,
   "metadata": {
    "application/vnd.databricks.v1+cell": {
     "cellMetadata": {
      "byteLimit": 2048000,
      "rowLimit": 10000
     },
     "inputWidgets": {},
     "nuid": "97f80d2d-d040-4f35-966c-306a9b9d2581",
     "showTitle": false,
     "tableResultSettingsMap": {},
     "title": ""
    }
   },
   "outputs": [],
   "source": [
    "\n",
    "\n",
    "# Remover o símbolo da moeda (₹) e as vírgulas, e converter para float\n",
    "dataset['discounted_price'] = dataset['discounted_price'].str.replace(',', '').str.replace('₹', '').astype(float)\n"
   ]
  },
  {
   "cell_type": "code",
   "execution_count": 0,
   "metadata": {
    "application/vnd.databricks.v1+cell": {
     "cellMetadata": {
      "byteLimit": 2048000,
      "rowLimit": 10000
     },
     "inputWidgets": {},
     "nuid": "4e3b4def-4caf-48de-bf30-00e8a9e94c7f",
     "showTitle": false,
     "tableResultSettingsMap": {},
     "title": ""
    }
   },
   "outputs": [],
   "source": [
    "\n",
    "\n",
    "# Remover o símbolo da moeda (₹) e as vírgulas, e converter para float\n",
    "dataset['actual_price'] = dataset['actual_price'].str.replace(',', '').str.replace('₹', '').astype(float)\n"
   ]
  },
  {
   "cell_type": "code",
   "execution_count": 0,
   "metadata": {
    "application/vnd.databricks.v1+cell": {
     "cellMetadata": {
      "byteLimit": 2048000,
      "rowLimit": 10000
     },
     "inputWidgets": {},
     "nuid": "8b2eb726-7bba-4902-9b8d-7bd082da2f6c",
     "showTitle": false,
     "tableResultSettingsMap": {},
     "title": ""
    }
   },
   "outputs": [
    {
     "output_type": "stream",
     "name": "stdout",
     "output_type": "stream",
     "text": [
      "<bound method Series.unique of 0        399.0\n1        199.0\n2        199.0\n3        329.0\n4        154.0\n         ...  \n1460     379.0\n1461    2280.0\n1462    2219.0\n1463    1399.0\n1464    2863.0\nName: discounted_price, Length: 1465, dtype: float64>\n"
     ]
    }
   ],
   "source": [
    "# Verificar os valores únicos da coluna discounted_price\n",
    "print(dataset['discounted_price'].unique)"
   ]
  },
  {
   "cell_type": "code",
   "execution_count": 0,
   "metadata": {
    "application/vnd.databricks.v1+cell": {
     "cellMetadata": {
      "byteLimit": 2048000,
      "rowLimit": 10000
     },
     "inputWidgets": {},
     "nuid": "115542cd-bd3c-476b-80b4-35f122edbd45",
     "showTitle": false,
     "tableResultSettingsMap": {},
     "title": ""
    }
   },
   "outputs": [],
   "source": [
    "# Converter a coluna rating em string\n",
    "dataset['rating'] = dataset['rating'].astype(str)"
   ]
  },
  {
   "cell_type": "code",
   "execution_count": 0,
   "metadata": {
    "application/vnd.databricks.v1+cell": {
     "cellMetadata": {
      "byteLimit": 2048000,
      "rowLimit": 10000
     },
     "inputWidgets": {},
     "nuid": "a223621e-9a9f-48e6-9ae5-9b4a1f66f6db",
     "showTitle": false,
     "tableResultSettingsMap": {},
     "title": ""
    }
   },
   "outputs": [],
   "source": [
    "# Converter a coluna rating_count em string\n",
    "dataset['rating_count'] = dataset['rating_count'].astype(str)"
   ]
  },
  {
   "cell_type": "code",
   "execution_count": 0,
   "metadata": {
    "application/vnd.databricks.v1+cell": {
     "cellMetadata": {
      "byteLimit": 2048000,
      "rowLimit": 10000
     },
     "inputWidgets": {},
     "nuid": "f2875fa6-70d1-43fc-ae5d-e96f7662ba53",
     "showTitle": false,
     "tableResultSettingsMap": {},
     "title": ""
    }
   },
   "outputs": [
    {
     "output_type": "stream",
     "name": "stdout",
     "output_type": "stream",
     "text": [
      "float64\n"
     ]
    }
   ],
   "source": [
    "# 1. Substituir valores vazios (ou valores inválidos) por NaN\n",
    "dataset['rating_count'] = dataset['rating_count'].replace('', None)  # Substitui strings vazias por None\n",
    "\n",
    "# 2. Converter para float e transformar valores inválidos (como strings não numéricas) em NaN\n",
    "dataset['rating_count'] = pd.to_numeric(dataset['rating_count'], errors='coerce')\n",
    "\n",
    "# 3. Agora, a coluna 'rating' está como tipo float e pode ser usada para plotar\n",
    "print(dataset['rating_count'].dtypes)  # Verifique se a coluna 'rating' foi convertida para float"
   ]
  },
  {
   "cell_type": "code",
   "execution_count": 0,
   "metadata": {
    "application/vnd.databricks.v1+cell": {
     "cellMetadata": {
      "byteLimit": 2048000,
      "rowLimit": 10000
     },
     "inputWidgets": {},
     "nuid": "fe64dd14-5f91-4a9b-a09c-877368323840",
     "showTitle": false,
     "tableResultSettingsMap": {},
     "title": ""
    }
   },
   "outputs": [],
   "source": [
    "# 1. Substituir valores vazios (ou valores inválidos) por NaN\n",
    "dataset['rating_count'] = dataset['rating_count'].replace(',', '.').astype(float)  # Substitui strings vazias por None\n"
   ]
  },
  {
   "cell_type": "code",
   "execution_count": 0,
   "metadata": {
    "application/vnd.databricks.v1+cell": {
     "cellMetadata": {
      "byteLimit": 2048000,
      "rowLimit": 10000
     },
     "inputWidgets": {},
     "nuid": "01dcb90a-013a-4497-bbf0-46d078c31faa",
     "showTitle": false,
     "tableResultSettingsMap": {},
     "title": ""
    }
   },
   "outputs": [
    {
     "output_type": "stream",
     "name": "stdout",
     "output_type": "stream",
     "text": [
      "float64\n"
     ]
    }
   ],
   "source": [
    "# 1. Substituir valores vazios (ou valores inválidos) por NaN\n",
    "dataset['rating'] = dataset['rating'].replace('', None)  # Substitui strings vazias por None\n",
    "\n",
    "# 2. Converter para float e transformar valores inválidos (como strings não numéricas) em NaN\n",
    "dataset['rating'] = pd.to_numeric(dataset['rating'], errors='coerce')\n",
    "\n",
    "# 3. Agora, a coluna 'rating' está como tipo float e pode ser usada para plotar\n",
    "print(dataset['rating'].dtypes)  # Verifique se a coluna 'rating' foi convertida para float"
   ]
  },
  {
   "cell_type": "code",
   "execution_count": 0,
   "metadata": {
    "application/vnd.databricks.v1+cell": {
     "cellMetadata": {
      "byteLimit": 2048000,
      "rowLimit": 10000
     },
     "inputWidgets": {},
     "nuid": "e80f038c-9f97-44fc-8ba5-33058beeb23a",
     "showTitle": false,
     "tableResultSettingsMap": {},
     "title": ""
    }
   },
   "outputs": [
    {
     "output_type": "stream",
     "name": "stdout",
     "output_type": "stream",
     "text": [
      "product_id                0\nproduct_name              0\ncategory                  0\ndiscounted_price          0\nactual_price              0\ndiscount_percentage       0\nrating                    1\nrating_count           1139\nabout_product             0\nuser_id                   0\nuser_name                 0\nreview_id                 0\nreview_title              0\nreview_content            0\nimg_link                  0\nproduct_link              0\ndtype: int64\n"
     ]
    }
   ],
   "source": [
    "print(dataset.isnull().sum()) ## Verifica a quantidade de valores nulos em cada coluna"
   ]
  },
  {
   "cell_type": "code",
   "execution_count": 0,
   "metadata": {
    "application/vnd.databricks.v1+cell": {
     "cellMetadata": {
      "byteLimit": 2048000,
      "rowLimit": 10000
     },
     "inputWidgets": {},
     "nuid": "80b27b0e-7e50-47f0-8403-e88bbc983f23",
     "showTitle": false,
     "tableResultSettingsMap": {},
     "title": ""
    }
   },
   "outputs": [],
   "source": [
    "#Preencher os valores nulos da coluna rating com a média dos valores dessa coluna\n",
    "dataset['rating'] = dataset['rating'].fillna(dataset['rating'].mean())\n"
   ]
  },
  {
   "cell_type": "code",
   "execution_count": 0,
   "metadata": {
    "application/vnd.databricks.v1+cell": {
     "cellMetadata": {
      "byteLimit": 2048000,
      "rowLimit": 10000
     },
     "inputWidgets": {},
     "nuid": "9b8132e4-c58c-4484-a2c3-781d245e8347",
     "showTitle": false,
     "tableResultSettingsMap": {},
     "title": ""
    }
   },
   "outputs": [],
   "source": [
    "#Preencher os valores nulos da coluna rating_count com a média dos valores dessa coluna\n",
    "dataset['rating_count'] = dataset['rating_count'].fillna(dataset['rating_count'].mean())"
   ]
  },
  {
   "cell_type": "code",
   "execution_count": 0,
   "metadata": {
    "application/vnd.databricks.v1+cell": {
     "cellMetadata": {},
     "inputWidgets": {},
     "nuid": "867d8844-ecbd-44ca-a5e0-5e85274b1e6c",
     "showTitle": false,
     "tableResultSettingsMap": {},
     "title": ""
    }
   },
   "outputs": [],
   "source": [
    "\n",
    "dataset['rating_count'] = dataset['rating_count'].fillna(dataset['rating'].mean())"
   ]
  },
  {
   "cell_type": "code",
   "execution_count": 0,
   "metadata": {
    "application/vnd.databricks.v1+cell": {
     "cellMetadata": {
      "byteLimit": 2048000,
      "rowLimit": 10000
     },
     "inputWidgets": {},
     "nuid": "b49a1036-4c2d-40cf-8e7a-6f37f4107ccb",
     "showTitle": false,
     "tableResultSettingsMap": {},
     "title": ""
    }
   },
   "outputs": [
    {
     "output_type": "display_data",
     "data": {
      "image/png": "[encoded data removed]"
     },
     "metadata": {
      "application/vnd.databricks.v1+output": {
       "addedWidgets": {},
       "arguments": {},
       "data": "data:image/png;base64,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\n",
       "datasetInfos": [],
       "metadata": {},
       "removedWidgets": [],
       "type": "image"
      }
     },
     "output_type": "display_data"
    }
   ],
   "source": [
    "\n",
    "## Criação de um histograma para visualizar a distribuição dos dados da coluna actual_price\n",
    "\n",
    "from matplotlib import pyplot as plt\n",
    "dataset['actual_price'].plot(kind='hist', bins=20, title='actual_price')\n",
    "plt.gca().spines[['top', 'right',]].set_visible(False)"
   ]
  },
  {
   "cell_type": "code",
   "execution_count": 0,
   "metadata": {
    "application/vnd.databricks.v1+cell": {
     "cellMetadata": {
      "byteLimit": 2048000,
      "rowLimit": 10000
     },
     "inputWidgets": {},
     "nuid": "77e5f420-09a8-4e9c-be21-6b12d877976e",
     "showTitle": false,
     "tableResultSettingsMap": {},
     "title": ""
    }
   },
   "outputs": [
    {
     "output_type": "display_data",
     "data": {
      "image/png": "[encoded data removed]"
     },
     "metadata": {
      "application/vnd.databricks.v1+output": {
       "addedWidgets": {},
       "arguments": {},
       "data": "data:image/png;base64,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\n",
       "datasetInfos": [],
       "metadata": {},
       "removedWidgets": [],
       "type": "image"
      }
     },
     "output_type": "display_data"
    }
   ],
   "source": [
    "\n",
    "## Criação de um histograma para visualizar a distribuição dos dados da coluna discount_percentage\n",
    "\n",
    "from matplotlib import pyplot as plt\n",
    "dataset['discount_percentage'].plot(kind='hist', bins=20, title='discount_percentage')\n",
    "plt.gca().spines[['top', 'right',]].set_visible(False)"
   ]
  },
  {
   "cell_type": "code",
   "execution_count": 0,
   "metadata": {
    "application/vnd.databricks.v1+cell": {
     "cellMetadata": {
      "byteLimit": 2048000,
      "rowLimit": 10000
     },
     "inputWidgets": {},
     "nuid": "e9b62c7e-9b93-424a-b83b-2a50750fa37c",
     "showTitle": false,
     "tableResultSettingsMap": {},
     "title": ""
    }
   },
   "outputs": [
    {
     "output_type": "display_data",
     "data": {
      "image/png": "[encoded data removed]"
     },
     "metadata": {
      "application/vnd.databricks.v1+output": {
       "addedWidgets": {},
       "arguments": {},
       "data": "data:image/png;base64,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\n",
       "datasetInfos": [],
       "metadata": {},
       "removedWidgets": [],
       "type": "image"
      }
     },
     "output_type": "display_data"
    }
   ],
   "source": [
    "\n",
    "## Criação de um histograma para visualizar a distribuição dos dados da coluna discounted_price\n",
    "\n",
    "from matplotlib import pyplot as plt\n",
    "dataset['discounted_price'].plot(kind='hist', bins=20, title='discounted_price')\n",
    "plt.gca().spines[['top', 'right',]].set_visible(False)"
   ]
  },
  {
   "cell_type": "code",
   "execution_count": 0,
   "metadata": {
    "application/vnd.databricks.v1+cell": {
     "cellMetadata": {
      "byteLimit": 2048000,
      "rowLimit": 10000
     },
     "inputWidgets": {},
     "nuid": "e2ca01a9-15e6-4c34-8ddb-08ba651a8925",
     "showTitle": false,
     "tableResultSettingsMap": {},
     "title": ""
    }
   },
   "outputs": [
    {
     "output_type": "display_data",
     "data": {
      "image/png": "[encoded data removed]"
     },
     "metadata": {
      "application/vnd.databricks.v1+output": {
       "addedWidgets": {},
       "arguments": {},
       "data": "data:image/png;base64,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\n",
       "datasetInfos": [],
       "metadata": {},
       "removedWidgets": [],
       "type": "image"
      }
     },
     "output_type": "display_data"
    }
   ],
   "source": [
    "## Criação de um histograma para visualizar a distribuição dos dados da coluna rating\n",
    "\n",
    "from matplotlib import pyplot as plt\n",
    "dataset['rating'].plot(kind='hist', bins=20, title='rating')\n",
    "plt.gca().spines[['top', 'right',]].set_visible(False)\n"
   ]
  },
  {
   "cell_type": "code",
   "execution_count": 0,
   "metadata": {
    "application/vnd.databricks.v1+cell": {
     "cellMetadata": {
      "byteLimit": 2048000,
      "rowLimit": 10000
     },
     "inputWidgets": {},
     "nuid": "193a14a5-f94f-4914-b7f7-6068efa17f4a",
     "showTitle": false,
     "tableResultSettingsMap": {},
     "title": ""
    }
   },
   "outputs": [
    {
     "output_type": "display_data",
     "data": {
      "image/png": "[encoded data removed]"
     },
     "metadata": {
      "application/vnd.databricks.v1+output": {
       "addedWidgets": {},
       "arguments": {},
       "data": "data:image/png;base64,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\n",
       "datasetInfos": [],
       "metadata": {},
       "removedWidgets": [],
       "type": "image"
      }
     },
     "output_type": "display_data"
    }
   ],
   "source": [
    "## Criação de um histograma para visualizar a distribuição dos dados da colunta rating_count\n",
    "\n",
    "from matplotlib import pyplot as plt\n",
    "dataset['rating_count'].plot(kind='hist', bins=20, title='rating_count')\n",
    "plt.gca().spines[['top', 'right',]].set_visible(False)\n"
   ]
  },
  {
   "cell_type": "code",
   "execution_count": 0,
   "metadata": {
    "application/vnd.databricks.v1+cell": {
     "cellMetadata": {
      "byteLimit": 2048000,
      "rowLimit": 10000
     },
     "inputWidgets": {},
     "nuid": "a6890cb1-4d6e-48aa-91c5-94e24299aee8",
     "showTitle": false,
     "tableResultSettingsMap": {},
     "title": ""
    }
   },
   "outputs": [
    {
     "output_type": "stream",
     "name": "stdout",
     "output_type": "stream",
     "text": [
      "count      1465.000000\nmean       5444.990635\nstd       10874.826864\nmin          39.000000\n25%         800.000000\n50%        1650.000000\n75%        4295.000000\nmax      139900.000000\nName: actual_price, dtype: float64\n"
     ]
    }
   ],
   "source": [
    "# Estatísticas descritivas\n",
    "print(dataset['actual_price'].describe())"
   ]
  },
  {
   "cell_type": "code",
   "execution_count": 0,
   "metadata": {
    "application/vnd.databricks.v1+cell": {
     "cellMetadata": {
      "byteLimit": 2048000,
      "rowLimit": 10000
     },
     "inputWidgets": {},
     "nuid": "73ea2310-e4ee-438a-95c2-4eb39ef82feb",
     "showTitle": false,
     "tableResultSettingsMap": {},
     "title": ""
    }
   },
   "outputs": [
    {
     "output_type": "stream",
     "name": "stdout",
     "output_type": "stream",
     "text": [
      "count    1465.000000\nmean       47.691468\nstd        21.635905\nmin         0.000000\n25%        32.000000\n50%        50.000000\n75%        63.000000\nmax        94.000000\nName: discount_percentage, dtype: float64\n"
     ]
    }
   ],
   "source": [
    "# Estatísticas descritivas\n",
    "print(dataset['discount_percentage'].describe())"
   ]
  },
  {
   "cell_type": "code",
   "execution_count": 0,
   "metadata": {
    "application/vnd.databricks.v1+cell": {
     "cellMetadata": {
      "byteLimit": 2048000,
      "rowLimit": 10000
     },
     "inputWidgets": {},
     "nuid": "4aaa3ed0-908b-4f24-a59a-05f387f06951",
     "showTitle": false,
     "tableResultSettingsMap": {},
     "title": ""
    }
   },
   "outputs": [
    {
     "output_type": "stream",
     "name": "stdout",
     "output_type": "stream",
     "text": [
      "                     discounted_price  actual_price  discount_percentage  \\\ndiscounted_price             1.000000      0.961915            -0.242412   \nactual_price                 0.961915      1.000000            -0.118098   \ndiscount_percentage         -0.242412     -0.118098             1.000000   \nrating                       0.120337      0.121639            -0.155261   \nrating_count                -0.002623     -0.004480            -0.008029   \n\n                       rating  rating_count  \ndiscounted_price     0.120337     -0.002623  \nactual_price         0.121639     -0.004480  \ndiscount_percentage -0.155261     -0.008029  \nrating               1.000000      0.072817  \nrating_count         0.072817      1.000000  \n"
     ]
    }
   ],
   "source": [
    "# Calcular a correlação entre as colunas numéricas\n",
    "correlation_matrix = dataset.corr()\n",
    "\n",
    "print(correlation_matrix)"
   ]
  },
  {
   "cell_type": "markdown",
   "metadata": {
    "application/vnd.databricks.v1+cell": {
     "cellMetadata": {
      "byteLimit": 2048000,
      "rowLimit": 10000
     },
     "inputWidgets": {},
     "nuid": "6406ed24-d943-4aef-bf39-a9c798d8df60",
     "showTitle": false,
     "tableResultSettingsMap": {},
     "title": ""
    }
   },
   "source": [
    "O preço com desconto e o preço real estão altamente correlacionados, o que é esperado pois o preço com desconto é uma redução do preço original. A correlação negativa entre o preço com desconto e a porcentagem de desconto é fraca. Um preço mais baixo com desconto não implica diretamente em uma porcentagem de desconto maior e vice-versa. Existe uma correlação fraca entre a avaliação e o número de avaliações. Isso significa que o número de avaliações não tem uma grande influência sobre a avaliação média, indicando que, independentemente de quantas pessoas avaliaram o produto, a média das avaliações pode variar de maneira independente.A correlação entre avaliação e porcentagem de desconto é fraca e negativa. Isso sugere que produtos com descontos maiores não necessariamente têm avaliações mais baixas ou mais altas. \n"
   ]
  },
  {
   "cell_type": "code",
   "execution_count": 0,
   "metadata": {
    "application/vnd.databricks.v1+cell": {
     "cellMetadata": {
      "byteLimit": 2048000,
      "rowLimit": 10000
     },
     "inputWidgets": {},
     "nuid": "ee7f20f8-0448-4013-86d6-dc93748cb730",
     "showTitle": false,
     "tableResultSettingsMap": {},
     "title": ""
    }
   },
   "outputs": [
    {
     "output_type": "display_data",
     "data": {
      "image/png": "[encoded data removed]"
     },
     "metadata": {
      "application/vnd.databricks.v1+output": {
       "addedWidgets": {},
       "arguments": {},
       "data": "data:image/png;base64,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\n",
       "datasetInfos": [],
       "metadata": {},
       "removedWidgets": [],
       "type": "image"
      }
     },
     "output_type": "display_data"
    }
   ],
   "source": [
    "\n",
    "## Gráfico de dispersão gerado com as colunas actual_price e discounted_price\n",
    "\n",
    "from matplotlib import pyplot as plt\n",
    "dataset.plot(kind='scatter', x='actual_price', y='discounted_price', s=32, alpha=.8)\n",
    "plt.gca().spines[['top', 'right',]].set_visible(False)"
   ]
  },
  {
   "cell_type": "code",
   "execution_count": 0,
   "metadata": {
    "application/vnd.databricks.v1+cell": {
     "cellMetadata": {
      "byteLimit": 2048000,
      "implicitDf": true,
      "rowLimit": 10000
     },
     "inputWidgets": {},
     "nuid": "904d0cda-5dec-47cc-833a-239a34196abc",
     "showTitle": false,
     "tableResultSettingsMap": {},
     "title": ""
    }
   },
   "outputs": [
    {
     "output_type": "display_data",
     "data": {
      "text/html": [
       "<style scoped>\n",
       "  .table-result-container {\n",
       "    max-height: 300px;\n",
       "    overflow: auto;\n",
       "  }\n",
       "  table, th, td {\n",
       "    border: 1px solid black;\n",
       "    border-collapse: collapse;\n",
       "  }\n",
       "  th, td {\n",
       "    padding: 5px;\n",
       "  }\n",
       "  th {\n",
       "    text-align: left;\n",
       "  }\n",
       "</style><div class='table-result-container'><table class='table-result'><thead style='background-color: white'><tr></tr></thead><tbody></tbody></table></div>"
      ]
     },
     "metadata": {
      "application/vnd.databricks.v1+output": {
       "addedWidgets": {},
       "aggData": [],
       "aggError": "",
       "aggOverflow": false,
       "aggSchema": [],
       "aggSeriesLimitReached": false,
       "aggType": "",
       "arguments": {},
       "columnCustomDisplayInfos": {},
       "data": [],
       "datasetInfos": [],
       "dbfsResultPath": null,
       "isJsonSchema": true,
       "metadata": {},
       "overflow": false,
       "plotOptions": {
        "customPlotOptions": {},
        "displayType": "table",
        "pivotAggregation": null,
        "pivotColumns": null,
        "xColumns": null,
        "yColumns": null
       },
       "removedWidgets": [],
       "schema": [],
       "type": "table"
      }
     },
     "output_type": "display_data"
    }
   ],
   "source": [
    "%sql CREATE DATABASE silver;"
   ]
  },
  {
   "cell_type": "markdown",
   "metadata": {
    "application/vnd.databricks.v1+cell": {
     "cellMetadata": {
      "byteLimit": 2048000,
      "rowLimit": 10000
     },
     "inputWidgets": {},
     "nuid": "3ece2ee6-19be-4341-abdf-29224c77863b",
     "showTitle": false,
     "tableResultSettingsMap": {},
     "title": ""
    }
   },
   "source": []
  },
  {
   "cell_type": "code",
   "execution_count": 0,
   "metadata": {
    "application/vnd.databricks.v1+cell": {
     "cellMetadata": {
      "byteLimit": 2048000,
      "rowLimit": 10000
     },
     "inputWidgets": {},
     "nuid": "cc522974-51cd-42d8-b326-4a936115ece3",
     "showTitle": false,
     "tableResultSettingsMap": {},
     "title": ""
    }
   },
   "outputs": [
    {
     "output_type": "stream",
     "name": "stdout",
     "output_type": "stream",
     "text": [
      "+----------+--------------------+--------------------+----------------+------------+-------------------+------+-----------------+---------------------+--------------------+--------------------+--------------------+--------------------+--------------------+--------------------+--------------------+\n|product_id|        product_name|            category|discounted_price|actual_price|discount_percentage|rating|     rating_count|        about_product|             user_id|           user_name|           review_id|        review_title|      review_content|            img_link|        product_link|\n+----------+--------------------+--------------------+----------------+------------+-------------------+------+-----------------+---------------------+--------------------+--------------------+--------------------+--------------------+--------------------+--------------------+--------------------+\n|B07JW9H4J1|Wayona Nylon Brai...|Computers&Accesso...|           399.0|      1099.0|               64.0|   4.2|348.2177914110429| High Compatibilit...|AG3D6O4STAQKAY2UV...|Manav,Adarsh gupt...|R3HXWT0LRP0NMF,R2...|Satisfied,Chargin...|Looks durable Cha...|https://m.media-a...|https://www.amazo...|\n|B098NS6PVG|Ambrane Unbreakab...|Computers&Accesso...|           199.0|       349.0|               43.0|   4.0|348.2177914110429| Compatible with a...|AECPFYFQVRUWC3KGN...|ArdKn,Nirbhay kum...|RGIQEG07R9HS2,R1S...|A Good Braided Ca...|I ordered this ca...|https://m.media-a...|https://www.amazo...|\n|B096MSW6CT|Sounce Fast Phone...|Computers&Accesso...|           199.0|      1899.0|               90.0|   3.9|348.2177914110429|【 Fast Charger& D...|AGU3BBQ2V2DDAMOAK...|Kunal,Himanshu,vi...|R3J3EQQ9TZI5ZJ,R3...|Good speed for ea...|Not quite durable...|https://m.media-a...|https://www.amazo...|\n|B08HDJ86NZ|boAt Deuce USB 30...|Computers&Accesso...|           329.0|       699.0|               53.0|   4.2|348.2177914110429| The boAt Deuce US...|AEWAZDZZJLQUYVOVG...|Omkar dhale,JD,HE...|R3EEUZKKK9J36I,R3...|Good product,Good...|Good product,long...|https://m.media-a...|https://www.amazo...|\n|B08CF3B7N1|Portronics Konnec...|Computers&Accesso...|           154.0|       399.0|               61.0|   4.2|348.2177914110429| [CHARGE & SYNC FU...|AE3Q6KSUK5P75D5HF...|rahuls6099,Swasat...|R1BP4L2HH9TFUP,R1...|As good as origin...|Bought this inste...|https://m.media-a...|https://www.amazo...|\n+----------+--------------------+--------------------+----------------+------------+-------------------+------+-----------------+---------------------+--------------------+--------------------+--------------------+--------------------+--------------------+--------------------+--------------------+\nonly showing top 5 rows\n\n"
     ]
    }
   ],
   "source": [
    "\n",
    "# Criando a sessão do Spark\n",
    "spark = SparkSession.builder.appName('PandasToSpark').getOrCreate()\n",
    "\n",
    "# Converter o Pandas DataFrame para Spark DataFrame\n",
    "spark_df1 = spark.createDataFrame(dataset)\n",
    "\n",
    "# Verificar o DataFrame Spark\n",
    "spark_df1.show(5)\n",
    "\n",
    "spark_df1.write.mode(\"overwrite\").saveAsTable(\"silver.name_basics\")"
   ]
  },
  {
   "cell_type": "code",
   "execution_count": 0,
   "metadata": {
    "application/vnd.databricks.v1+cell": {
     "cellMetadata": {
      "byteLimit": 2048000,
      "rowLimit": 10000
     },
     "inputWidgets": {},
     "nuid": "57f12433-88a7-4e1f-a668-e446758af653",
     "showTitle": false,
     "tableResultSettingsMap": {},
     "title": ""
    }
   },
   "outputs": [
    {
     "output_type": "stream",
     "name": "stdout",
     "output_type": "stream",
     "text": [
      "+--------------------+------------+----------------+-----+\n|             user_id|actual_price|discounted_price|count|\n+--------------------+------------+----------------+-----+\n|AF7IXQKBUL6NEIQG4...|       395.0|           199.0|    2|\n|AHVZCQP5SYIVGZJK4...|       700.0|           219.0|    3|\n|AF6SKHWKK53BMAI6U...|       699.0|           263.0|    2|\n|AF477BP57JM7Z4JD4...|       999.0|           199.0|    2|\n|AGH3POHLPXABF3I4A...|      1499.0|           348.0|    2|\n|AF2IRSQZKMBGX44YD...|      1900.0|           899.0|    3|\n|AEQ2YMXSZWEOHK2EH...|      1000.0|           149.0|    2|\n|AFYR53OTBUX2RNAKU...|       399.0|           299.0|    2|\n|AHIKJUDTVJ4T6DV6I...|       249.0|           139.0|    2|\n|AGMJ6TDLOVZIR5ZU6...|       800.0|           269.0|    2|\n|AFNYIBWKJLJQKY4BG...|      1799.0|           970.0|    3|\n|AE3Q6KSUK5P75D5HF...|       399.0|           154.0|    3|\n|AH3ZH5IE4MTFB3T33...|       999.0|           339.0|    2|\n|AF2XXVO7JUBUVAOBT...|       399.0|           159.0|    3|\n|AHBNKB74LGTYUOKPA...|     21990.0|         13490.0|    2|\n|AHEVO4Q5NM4YXMG2H...|     22900.0|         13490.0|    2|\n|AG3D6O4STAQKAY2UV...|      1099.0|           399.0|    5|\n|AGUAYQHARAKR2VZTR...|       899.0|           350.0|    3|\n|AG7C6DAADCTRQJG2B...|       499.0|          176.63|    3|\n|AHL2CPZ63TFC3VB3R...|       999.0|           399.0|    2|\n+--------------------+------------+----------------+-----+\nonly showing top 20 rows\n\n"
     ]
    }
   ],
   "source": [
    "# Identificando duplicados, agrupando por colunas\n",
    "duplicados = spark_df1.groupBy(\"user_id\", \"actual_price\", \"discounted_price\").count().filter(\"count > 1\")\n",
    "\n",
    "# Exibindo os resultados\n",
    "duplicados.show()\n"
   ]
  },
  {
   "cell_type": "code",
   "execution_count": 0,
   "metadata": {
    "application/vnd.databricks.v1+cell": {
     "cellMetadata": {
      "byteLimit": 2048000,
      "rowLimit": 10000
     },
     "inputWidgets": {},
     "nuid": "9238497a-10ce-42a3-94f2-4baa60b148b9",
     "showTitle": false,
     "tableResultSettingsMap": {},
     "title": ""
    }
   },
   "outputs": [
    {
     "output_type": "stream",
     "name": "stdout",
     "output_type": "stream",
     "text": [
      "+----------+--------------------+--------------------+----------------+------------+-------------------+------+-----------------+--------------------+--------------------+--------------------+--------------------+--------------------+--------------------+--------------------+--------------------+\n|product_id|        product_name|            category|discounted_price|actual_price|discount_percentage|rating|     rating_count|       about_product|             user_id|           user_name|           review_id|        review_title|      review_content|            img_link|        product_link|\n+----------+--------------------+--------------------+----------------+------------+-------------------+------+-----------------+--------------------+--------------------+--------------------+--------------------+--------------------+--------------------+--------------------+--------------------+\n|B098NS6PVG|Ambrane Unbreakab...|Computers&Accesso...|           199.0|       349.0|               43.0|   4.0|348.2177914110429|Compatible with a...|AECPFYFQVRUWC3KGN...|ArdKn,Nirbhay kum...|RGIQEG07R9HS2,R1S...|A Good Braided Ca...|I ordered this ca...|https://m.media-a...|https://www.amazo...|\n|B08CF3B7N1|Portronics Konnec...|Computers&Accesso...|           154.0|       399.0|               61.0|   4.2|348.2177914110429|[CHARGE & SYNC FU...|AE3Q6KSUK5P75D5HF...|rahuls6099,Swasat...|R1BP4L2HH9TFUP,R1...|As good as origin...|Bought this inste...|https://m.media-a...|https://www.amazo...|\n|B08WRWPM22|boAt Micro USB 55...|Computers&Accesso...|          176.63|       499.0|               65.0|   4.1|348.2177914110429|It Ensures High S...|AG7C6DAADCTRQJG2B...|Vivek kumar,Amazo...|R8E73K2KWJRDS,RSD...|Long durable.,goo...|Build quality is ...|https://m.media-a...|https://www.amazo...|\n|B08DDRGWTJ|MI Usb Type-C Cab...|Computers&Accesso...|           229.0|       299.0|               23.0|   4.3|348.2177914110429|1m long Type-C US...|AHW6E5LQ2BDYOIVLA...|Pavan A H,Jayesh ...|R2X090D1YHACKR,R3...|Worth for money -...|Worth for money -...|https://m.media-a...|https://www.amazo...|\n|B082LZGK39|Ambrane Unbreakab...|Computers&Accesso...|           199.0|       299.0|               33.0|   4.0|348.2177914110429|Universal Compati...|AECPFYFQVRUWC3KGN...|ArdKn,Nirbhay kum...|RGIQEG07R9HS2,R1S...|A Good Braided Ca...|I ordered this ca...|https://m.media-a...|https://www.amazo...|\n+----------+--------------------+--------------------+----------------+------------+-------------------+------+-----------------+--------------------+--------------------+--------------------+--------------------+--------------------+--------------------+--------------------+--------------------+\nonly showing top 5 rows\n\n"
     ]
    }
   ],
   "source": [
    "# Filtrar produtos com preço abaixo de ₹500\n",
    "spark_df1_filtered = spark_df1.filter(col('actual_price') < 500)\n",
    "\n",
    "spark_df1_filtered.show(5)\n"
   ]
  },
  {
   "cell_type": "code",
   "execution_count": 0,
   "metadata": {
    "application/vnd.databricks.v1+cell": {
     "cellMetadata": {
      "byteLimit": 2048000,
      "rowLimit": 10000
     },
     "inputWidgets": {},
     "nuid": "c5253168-bf83-43d4-b2eb-74e1771c75c8",
     "showTitle": false,
     "tableResultSettingsMap": {},
     "title": ""
    }
   },
   "outputs": [
    {
     "output_type": "stream",
     "name": "stdout",
     "output_type": "stream",
     "text": [
      "+----------+--------------------+--------------------+----------------+------------+-------------------+------+-----------------+---------------------+--------------------+--------------------+--------------------+--------------------+--------------------+--------------------+--------------------+\n|product_id|        product_name|            category|discounted_price|actual_price|discount_percentage|rating|     rating_count|        about_product|             user_id|           user_name|           review_id|        review_title|      review_content|            img_link|        product_link|\n+----------+--------------------+--------------------+----------------+------------+-------------------+------+-----------------+---------------------+--------------------+--------------------+--------------------+--------------------+--------------------+--------------------+--------------------+\n|B07JW9H4J1|Wayona Nylon Brai...|Computers&Accesso...|           399.0|      1099.0|               64.0|   4.2|348.2177914110429| High Compatibilit...|AG3D6O4STAQKAY2UV...|Manav,Adarsh gupt...|R3HXWT0LRP0NMF,R2...|Satisfied,Chargin...|Looks durable Cha...|https://m.media-a...|https://www.amazo...|\n|B096MSW6CT|Sounce Fast Phone...|Computers&Accesso...|           199.0|      1899.0|               90.0|   3.9|348.2177914110429|【 Fast Charger& D...|AGU3BBQ2V2DDAMOAK...|Kunal,Himanshu,vi...|R3J3EQQ9TZI5ZJ,R3...|Good speed for ea...|Not quite durable...|https://m.media-a...|https://www.amazo...|\n|B08HDJ86NZ|boAt Deuce USB 30...|Computers&Accesso...|           329.0|       699.0|               53.0|   4.2|348.2177914110429| The boAt Deuce US...|AEWAZDZZJLQUYVOVG...|Omkar dhale,JD,HE...|R3EEUZKKK9J36I,R3...|Good product,Good...|Good product,long...|https://m.media-a...|https://www.amazo...|\n|B08CF3B7N1|Portronics Konnec...|Computers&Accesso...|           154.0|       399.0|               61.0|   4.2|348.2177914110429| [CHARGE & SYNC FU...|AE3Q6KSUK5P75D5HF...|rahuls6099,Swasat...|R1BP4L2HH9TFUP,R1...|As good as origin...|Bought this inste...|https://m.media-a...|https://www.amazo...|\n|B08Y1TFSP6|pTron Solero TB30...|Computers&Accesso...|           149.0|      1000.0|               85.0|   3.9|348.2177914110429| Fast Charging & D...|AEQ2YMXSZWEOHK2EH...|Jayesh,Rajesh k.,...|R7S8ANNSDPR40,R3C...|It's pretty good,...|It's a good produ...|https://m.media-a...|https://www.amazo...|\n|B08WRWPM22|boAt Micro USB 55...|Computers&Accesso...|          176.63|       499.0|               65.0|   4.1|348.2177914110429| It Ensures High S...|AG7C6DAADCTRQJG2B...|Vivek kumar,Amazo...|R8E73K2KWJRDS,RSD...|Long durable.,goo...|Build quality is ...|https://m.media-a...|https://www.amazo...|\n|B08CF3D7QR|Portronics Konnec...|Computers&Accesso...|           154.0|       339.0|               55.0|   4.3|348.2177914110429| [CHARGE & SYNC FU...|AGYLPKPZHVYKKZHOT...|Tanya,Anu,Akshay,...|R11MQS7WD9C3I0,R2...|Good for fast cha...|The cable is effi...|https://m.media-a...|https://www.amazo...|\n|B0789LZTCJ|boAt Rugged v3 Ex...|Computers&Accesso...|           299.0|       799.0|               63.0|   4.2|348.2177914110429| The boAt rugged c...|AEWAZDZZJLQUYVOVG...|Omkar dhale,JD,HE...|R3EEUZKKK9J36I,R3...|Good product,Good...|Good product,long...|https://m.media-a...|https://www.amazo...|\n|B07KSMBL2H|AmazonBasics Flex...|Electronics|HomeT...|           219.0|       700.0|               69.0|   4.4|348.2177914110429| Flexible, lightwe...|AEYJ5I6JZZPOJB6MG...|Rishav Gossain,Sh...|R1FKOKZ3HHKJBZ,R2...|It's quite good a...|I am using it for...|https://m.media-a...|https://www.amazo...|\n|B085DTN6R2|Portronics Konnec...|Computers&Accesso...|           350.0|       899.0|               61.0|   4.2|348.2177914110429| [20W PD FAST CHAR...|AGUAYQHARAKR2VZTR...|Priya,Mansi,Plaba...|R1QETDIPRCX4S0,RA...|Works,Nice Produc...|Definitely isn’t ...|https://m.media-a...|https://www.amazo...|\n|B09KLVMZ3B|Portronics Konnec...|Computers&Accesso...|           159.0|       399.0|               60.0|   4.1|348.2177914110429| [CHARGE & SYNC FU...|AF2XXVO7JUBUVAOBT...|Deepaak Singh,siv...|R20XIOU25HEX80,R2...|Great but,Worked ...|Loosing charging ...|https://m.media-a...|https://www.amazo...|\n|B08WRBG3XW|boAt Type C A325 ...|Computers&Accesso...|           199.0|       499.0|               60.0|   4.1|348.2177914110429| Type C A 325 Cabl...|AFB5KJR4Q5FICAHBO...|Rohan Narkar,JAGW...|R2BP8Y5OJXKJLF,R2...|Good for charging...|Check for offera ...|https://m.media-a...|https://www.amazo...|\n|B09NHVCHS9|Flix Micro Usb Ca...|Computers&Accesso...|            59.0|       199.0|               70.0|   4.0|348.2177914110429| Micro usb cable i...|AHIKJUDTVJ4T6DV6I...|$@|\\|TO$|-|,Sethu...|R3F4T5TRYPTMIG,R3...|Worked on iPhone ...|Worked on iPhone ...|https://m.media-a...|https://www.amazo...|\n|B01M4GGIVU|Tizum High Speed ...|Electronics|HomeT...|           199.0|       699.0|               72.0|   4.2|348.2177914110429| Latest Standard H...|AGVUE2NFN2MQEOQ4P...|Yashpreet Singh,A...|R2DIHMHOPYEASB,R2...|Cheap product and...|The signal is too...|https://m.media-a...|https://www.amazo...|\n|B09W5XR9RT|Duracell USB C To...|Computers&Accesso...|           970.0|      1999.0|               51.0|   4.4|            184.0| 1.2M Tangle Free ...|AHZWJCVEIEI76H2VG...|Amazon Customer,G...|R1Y30KU04V3QF4,RK...|Very good product...|Fast charging.,Ca...|https://m.media-a...|https://www.amazo...|\n|B077Z65HSD|boAt A400 USB Typ...|Computers&Accesso...|           299.0|       999.0|               70.0|   4.3|348.2177914110429| 2 meter special r...|AFA332YHUPB6I7KMM...|GHOST,Amazon Cust...|R1G4I5FLAHM16P,R1...|Just buy it dont ...|One amazing cable...|https://m.media-a...|https://www.amazo...|\n|B00NH11PEY|AmazonBasics USB ...|Computers&Accesso...|           199.0|       750.0|               73.0|   4.5|348.2177914110429| One 9.8-foot-long...|AGBX233C7B7D7YZEL...|Pravin Kumar,Maes...|R1C8MVU3EIX56Y,R1...|Nice,good,Paisa v...|Sufficient length...|https://m.media-a...|https://www.amazo...|\n|B09CMM3VGK|Ambrane 60W / 3A ...|Computers&Accesso...|           179.0|       499.0|               64.0|   4.0|348.2177914110429| Stay ahead and ne...|AGHYCMV7RJ5D76UEZ...|Rishabh,Amazon Cu...|R223OIZPTZ994S,RA...|Good product,Good...|The cable build q...|https://m.media-a...|https://www.amazo...|\n|B08QSC1XY8|Zoul USB C 60W Fa...|Computers&Accesso...|           389.0|      1099.0|               65.0|   4.3|            974.0| {3A/QC 3.0 FAST C...|AHMKXORT3VNMB75C3...|Pratyush Pahuja,T...|R2S0AYWUV349HP,R3...|Great Cable, Char...|Not charging as f...|https://m.media-a...|https://www.amazo...|\n|B0B4HJNPV4|pTron Solero T351...|Computers&Accesso...|           199.0|       999.0|               80.0|   3.9|348.2177914110429| Universal Compati...|AF477BP57JM7Z4JD4...|Placeholder,श्रीP...|R1Q323BB35OP30,RJ...|The metal pin is ...|It's a good data ...|https://m.media-a...|https://www.amazo...|\n+----------+--------------------+--------------------+----------------+------------+-------------------+------+-----------------+---------------------+--------------------+--------------------+--------------------+--------------------+--------------------+--------------------+--------------------+\nonly showing top 20 rows\n\n"
     ]
    }
   ],
   "source": [
    "# Filtrar produtos com desconto acima de 50%\n",
    "spark_df1_filtered = spark_df1.filter(col('discount_percentage') > 50)\n",
    "spark_df1_filtered.show()"
   ]
  },
  {
   "cell_type": "code",
   "execution_count": 0,
   "metadata": {
    "application/vnd.databricks.v1+cell": {
     "cellMetadata": {
      "byteLimit": 2048000,
      "rowLimit": 10000
     },
     "inputWidgets": {},
     "nuid": "4d4173b2-687e-4a99-8519-2efd372db704",
     "showTitle": false,
     "tableResultSettingsMap": {},
     "title": ""
    }
   },
   "outputs": [
    {
     "output_type": "stream",
     "name": "stdout",
     "output_type": "stream",
     "text": [
      "+----------+--------------------+--------------------+----------------+------------+-------------------+------+-----------------+--------------------+--------------------+--------------------+--------------------+--------------------+--------------------+--------------------+--------------------+\n|product_id|        product_name|            category|discounted_price|actual_price|discount_percentage|rating|     rating_count|       about_product|             user_id|           user_name|           review_id|        review_title|      review_content|            img_link|        product_link|\n+----------+--------------------+--------------------+----------------+------------+-------------------+------+-----------------+--------------------+--------------------+--------------------+--------------------+--------------------+--------------------+--------------------+--------------------+\n|B09WN3SRC7|Sony Bravia 164 c...|Electronics|HomeT...|         77990.0|    139900.0|               44.0|   4.7|348.2177914110429|Resolution: 4K Ul...|AF6Z2OYIXRPZJHVYN...|David P.,Dr. ATUL...|R16HCZ0W1TRSMM,R1...|Product installat...|The delivery peop...|https://m.media-a...|https://www.amazo...|\n|B095JPKPH3|OnePlus 163.8 cm ...|Electronics|HomeT...|         61999.0|     69999.0|               11.0|   4.1|348.2177914110429|Resolution: 4K Ul...|AG3QTVXT2ODRVKOQJ...|Rashmi,Raghvendra...|R2PF9QV9JEQO9K,R2...|Almost Perfect!,R...|Update after 9 mo...|https://m.media-a...|https://www.amazo...|\n|B0BC8BQ432|VU 164 cm (65 inc...|Electronics|HomeT...|         54990.0|     85000.0|               35.0|   4.3|348.2177914110429|Resolution: 4K Ul...|AHY6AK5LXBTGXDDXS...|UtdBuzz,Mukund Na...|R2G4T57OLXDVPL,R3...|Good TV for the p...|,Screen quality i...|https://m.media-a...|https://www.amazo...|\n|B0B15GSPQW|Samsung 138 cm (5...|Electronics|HomeT...|         47990.0|     70900.0|               32.0|   4.3|348.2177914110429|Resolution : Crys...|AHDIDVECFGA6OQRNU...|Binu,Sabjan,Ramka...|R3RUBB6REUGTT,R28...|Best(Branded) Bud...|Before finalizing...|https://m.media-a...|https://www.amazo...|\n|B0B3XXSB1K|LG 139 cm (55 inc...|Electronics|HomeT...|         47990.0|     79990.0|               40.0|   4.3|348.2177914110429|Resolution: 4K Ul...|AFCWL3MX7BP2ZUDD3...|Raj Mohammed,Sams...|RC3ZLDRM8GA9T,RMD...|Love Amazon but l...|There's no magic ...|https://m.media-a...|https://www.amazo...|\n+----------+--------------------+--------------------+----------------+------------+-------------------+------+-----------------+--------------------+--------------------+--------------------+--------------------+--------------------+--------------------+--------------------+--------------------+\nonly showing top 5 rows\n\n"
     ]
    }
   ],
   "source": [
    "# Ordenar os dados por preço e rating\n",
    "sorted_df = spark_df1.orderBy(col('discounted_price').desc(), col('rating').desc())\n",
    "\n",
    "sorted_df.show(5)\n"
   ]
  },
  {
   "cell_type": "code",
   "execution_count": 0,
   "metadata": {
    "application/vnd.databricks.v1+cell": {
     "cellMetadata": {
      "byteLimit": 2048000,
      "rowLimit": 10000
     },
     "inputWidgets": {},
     "nuid": "65167e58-1139-49cd-b5d1-65775a606f5e",
     "showTitle": false,
     "tableResultSettingsMap": {},
     "title": ""
    }
   },
   "outputs": [
    {
     "output_type": "stream",
     "name": "stdout",
     "output_type": "stream",
     "text": [
      "+--------------------+---------------------+\n|            category|avg(discounted_price)|\n+--------------------+---------------------+\n|Electronics|HomeT...|    872.6666666666666|\n|Electronics|HomeT...|   24840.190476190477|\n|Electronics|HomeT...|    663.6666666666666|\n|Computers&Accesso...|    722.1111111111111|\n|Electronics|HomeA...|                349.0|\n+--------------------+---------------------+\nonly showing top 5 rows\n\n"
     ]
    }
   ],
   "source": [
    "# Agrupar por categoria e calcular a média do preço com base na categoria\n",
    "avg_price_by_category = spark_df1.groupBy('category').avg('discounted_price')\n",
    "\n",
    "avg_price_by_category.show(5)\n"
   ]
  },
  {
   "cell_type": "code",
   "execution_count": 0,
   "metadata": {
    "application/vnd.databricks.v1+cell": {
     "cellMetadata": {
      "byteLimit": 2048000,
      "implicitDf": true,
      "rowLimit": 10000
     },
     "inputWidgets": {},
     "nuid": "08606d44-10f7-4542-86bd-58c32fdbcc7d",
     "showTitle": false,
     "tableResultSettingsMap": {},
     "title": ""
    }
   },
   "outputs": [
    {
     "output_type": "display_data",
     "data": {
      "text/html": [
       "<style scoped>\n",
       "  .table-result-container {\n",
       "    max-height: 300px;\n",
       "    overflow: auto;\n",
       "  }\n",
       "  table, th, td {\n",
       "    border: 1px solid black;\n",
       "    border-collapse: collapse;\n",
       "  }\n",
       "  th, td {\n",
       "    padding: 5px;\n",
       "  }\n",
       "  th {\n",
       "    text-align: left;\n",
       "  }\n",
       "</style><div class='table-result-container'><table class='table-result'><thead style='background-color: white'><tr><th>product_id</th><th>product_name</th><th>category</th><th>discounted_price</th><th>actual_price</th><th>discount_percentage</th><th>rating</th><th>rating_count</th><th>about_product</th><th>user_id</th><th>user_name</th><th>review_id</th><th>review_title</th><th>review_content</th><th>img_link</th><th>product_link</th></tr></thead><tbody><tr><td>B07JW9H4J1</td><td>Wayona Nylon Braided USB to Lightning Fast Charging and Data Sync Cable Compatible for iPhone 13, 12,11, X, 8, 7, 6, 5, iPad Air, Pro, Mini (3 FT Pack of 1, Grey)</td><td>Computers&Accessories|Accessories&Peripherals|Cables&Accessories|Cables|USBCables</td><td>399.0</td><td>1099.0</td><td>64.0</td><td>4.2</td><td>348.2177914110429</td><td>High Compatibility : Compatible With iPhone 12, 11, X/XsMax/Xr ,iPhone 8/8 Plus,iPhone 7/7 Plus,iPhone 6s/6s Plus,iPhone 6/6 Plus,iPhone 5/5s/5c/se,iPad Pro,iPad Air 1/2,iPad mini 1/2/3,iPod nano7,iPod touch and more apple devices.|Fast Charge&Data Sync : It can charge and sync simultaneously at a rapid speed, Compatible with any charging adaptor, multi-port charging station or power bank.|Durability : Durable nylon braided design with premium aluminum housing and toughened nylon fiber wound tightly around the cord lending it superior durability and adding a bit to its flexibility.|High Security Level : It is designed to fully protect your device from damaging excessive current.Copper core thick+Multilayer shielding, Anti-interference, Protective circuit equipment.|WARRANTY: 12 months warranty and friendly customer services, ensures the long-time enjoyment of your purchase. If you meet any question or problem, please don't hesitate to contact us.</td><td>AG3D6O4STAQKAY2UVGEUV46KN35Q,AHMY5CWJMMK5BJRBBSNLYT3ONILA,AHCTC6ULH4XB6YHDY6PCH2R772LQ,AGYHHIERNXKA6P5T7CZLXKVPT7IQ,AG4OGOFWXJZTQ2HKYIOCOY3KXF2Q,AENGU523SXMOS7JPDTW52PNNVWGQ,AEQJHCVTNINBS4FKTBGQRQTGTE5Q,AFC3FFC5PKFF5PMA52S3VCHOZ5FQ</td><td>Manav,Adarsh gupta,Sundeep,S.Sayeed Ahmed,jaspreet singh,Khaja moin,Anand,S.ARUMUGAM</td><td>R3HXWT0LRP0NMF,R2AJM3LFTLZHFO,R6AQJGUP6P86,R1KD19VHEDV0OR,R3C02RMYQMK6FC,R39GQRVBUZBWGY,R2K9EDOE15QIRJ,R3OI7YT648TL8I</td><td>Satisfied,Charging is really fast,Value for money,Product review,Good quality,Good product,Good Product,As of now seems good</td><td>Looks durable Charging is fine tooNo complains,Charging is really fast, good product.,Till now satisfied with the quality.,This is a good product . The charging speed is slower than the original iPhone cable,Good quality, would recommend,https://m.media-amazon.com/images/W/WEBP_402378-T1/images/I/81---F1ZgHL._SY88.jpg,Product had worked well till date and was having no issue.Cable is also sturdy enough...Have asked for replacement and company is doing the same...,Value for money</td><td>https://m.media-amazon.com/images/W/WEBP_402378-T1/images/I/51UsScvHQNL._SX300_SY300_QL70_FMwebp_.jpg</td><td>https://www.amazon.in/Wayona-Braided-WN3LG1-Syncing-Charging/dp/B07JW9H4J1/ref=sr_1_1?qid=1672909124&s=electronics&sr=1-1</td></tr><tr><td>B098NS6PVG</td><td>Ambrane Unbreakable 60W / 3A Fast Charging 1.5m Braided Type C Cable for Smartphones, Tablets, Laptops & other Type C devices, PD Technology, 480Mbps Data Sync, Quick Charge 3.0 (RCT15A, Black)</td><td>Computers&Accessories|Accessories&Peripherals|Cables&Accessories|Cables|USBCables</td><td>199.0</td><td>349.0</td><td>43.0</td><td>4.0</td><td>348.2177914110429</td><td>Compatible with all Type C enabled devices, be it an android smartphone (Mi, Samsung, Oppo, Vivo, Realme, OnePlus, etc), tablet, laptop (Macbook, Chromebook, etc)|Supports Quick Charging (2.0/3.0)|Unbreakable – Made of special braided outer with rugged interior bindings, it is ultra-durable cable that won’t be affected by daily rough usage|Ideal Length – It has ideal length of 1.5 meters which is neither too short like your typical 1meter cable or too long like a 2meters cable|Supports maximum 3A fast charging and 480 Mbps data transfer speed|6 months manufacturer warranty from the date of purchase</td><td>AECPFYFQVRUWC3KGNLJIOREFP5LQ,AGYYVPDD7YG7FYNBXNGXZJT525AQ,AHONIZU3ICIEHQIGQ6R2VFRSBXOQ,AFPHD2CRPDZMWMBL7WXRSVYWS5JA,AEZ346GX3HJ4O4XNRPHCNHXQURMQ,AEPSWFPNECKO34PUC7I56ITGXR6Q,AHWVEHR5DYLVFTO2KF3IZATFQSWQ,AH4QT33M55677I7ISQOAKEQWACYQ</td><td>ArdKn,Nirbhay kumar,Sagar Viswanathan,Asp,Placeholder,BharanI,sonia,Niam</td><td>RGIQEG07R9HS2,R1SMWZQ86XIN8U,R2J3Y1WL29GWDE,RYGGS0M09S3KY,R17KQRUTAN5DKS,R3AAQGS6HP2QUK,R1HDNOG6TO2CCA,R3PHKXYA5AFEOU</td><td>A Good Braided Cable for Your Type C Device,Good quality product from ambrane,Super cable,As,Good quality,Good product,its good,Good quality for the price but one issue with my unit</td><td>I ordered this cable to connect my phone to Android Auto of car. The cable is really strong and the connection ports are really well made. I already has a Micro USB cable from Ambrane and it's still in good shape. I connected my phone to the car using the cable and it got connected well and no issues. I also connected it to the charging port and yes it has Fast Charging support.,It quality is good at this price and the main thing is that i didn't ever thought that this cable will be so long it's good one and charging power is too good and also supports fast charging,Value for money, with extra length👍,Good, working fine,Product quality is good,Good,very good,Bought for my daughter's old phone.Brand new cable it was not charging, I already repacked and requested for replacement.I checked again, and there was some green colour paste/fungus inside the micro USB connector. I cleaned with an alcoholic and starts working again.Checked the ampere of charging speed got around 1400ma-1500ma - not bad, came with braided 1.5m long cable, pretty impressive for the price.Can't blame the manufacturer.But quality issues by the distributor, they might have stored in very humid place.</td><td>https://m.media-amazon.com/images/W/WEBP_402378-T2/images/I/31zOsqQOAOL._SY445_SX342_QL70_FMwebp_.jpg</td><td>https://www.amazon.in/Ambrane-Unbreakable-Charging-Braided-Cable/dp/B098NS6PVG/ref=sr_1_2?qid=1672909124&s=electronics&sr=1-2</td></tr><tr><td>B096MSW6CT</td><td>Sounce Fast Phone Charging Cable & Data Sync USB Cable Compatible for iPhone 13, 12,11, X, 8, 7, 6, 5, iPad Air, Pro, Mini & iOS Devices</td><td>Computers&Accessories|Accessories&Peripherals|Cables&Accessories|Cables|USBCables</td><td>199.0</td><td>1899.0</td><td>90.0</td><td>3.9</td><td>348.2177914110429</td><td>【 Fast Charger& Data Sync】-With built-in safety proctections and four-core copper wires promote maximum signal quality and strength and enhance charging & data transfer speed with up to 480 mb/s transferring speed.|【 Compatibility】-Compatible with iPhone 13, 12,11, X, 8, 7, 6, 5, iPad Air, Pro, Mini & iOS devices.|【 Sturdy & Durable】-The jacket and enforced connector made of TPE and premium copper, are resistant to repeatedly bending and coiling.|【 Ultra High Quality】: According to the experimental results, the fishbone design can accept at least 20,000 bending and insertion tests for extra protection and durability. Upgraded 3D aluminum connector and exclusive laser welding technology, which to ensure the metal part won't break and also have a tighter connection which fits well even with a protective case on and will never loose connection.|【 Good After Sales Service】-Our friendly and reliable customer service will respond to you within 24 hours ! you can purchase with confidence,and every sale includes a 365-day worry-free Service to prove the importance we set on quality.</td><td>AGU3BBQ2V2DDAMOAKGFAWDDQ6QHA,AESFLDV2PT363T2AQLWQOWZ4N3OA,AHTPQRIMGUD4BYR5YIHBH3CCGEFQ,AEUVWXYP5LT7PZLLZENEO2NODPBQ,AHC7MPW55DOO6WNCOQVA2VHOD26A,AFDI6FRPFBTNBG7BAEB7JDJSMKDQ,AFQKCEEEKXCOHTDG4WUN3XPPHJQQ,AHKUUFNMBZIDLSSPA4FEHIO2EC7Q</td><td>Kunal,Himanshu,viswanath,sai niharka,saqib malik,Aashiq,Ramu Challa,Sanjay gupta</td><td>R3J3EQQ9TZI5ZJ,R3E7WBGK7ID0KV,RWU79XKQ6I1QF,R25X4TBMPY91LX,R27OK7G99VK0TR,R207CYDCHJJTCJ,R3PCU8XMU173BT,R1IMONDOWRNU5V</td><td>Good speed for earlier versions,Good Product,Working good,Good for the price,Good,Worth for money,Working nice,it's a really nice product</td><td>Not quite durable and sturdy,https://m.media-amazon.com/images/W/WEBP_402378-T1/images/I/71rIggrbUCL._SY88.jpg,Working good,https://m.media-amazon.com/images/W/WEBP_402378-T1/images/I/61bKp9YO6wL._SY88.jpg,Product,Very nice product,Working well,It's a really nice product</td><td>https://m.media-amazon.com/images/W/WEBP_402378-T1/images/I/31IvNJZnmdL._SY445_SX342_QL70_FMwebp_.jpg</td><td>https://www.amazon.in/Sounce-iPhone-Charging-Compatible-Devices/dp/B096MSW6CT/ref=sr_1_3?qid=1672909124&s=electronics&sr=1-3</td></tr><tr><td>B08HDJ86NZ</td><td>boAt Deuce USB 300 2 in 1 Type-C & Micro USB Stress Resistant, Tangle-Free, Sturdy Cable with 3A Fast Charging & 480mbps Data Transmission, 10000+ Bends Lifespan and Extended 1.5m Length(Martian Red)</td><td>Computers&Accessories|Accessories&Peripherals|Cables&Accessories|Cables|USBCables</td><td>329.0</td><td>699.0</td><td>53.0</td><td>4.2</td><td>348.2177914110429</td><td>The boAt Deuce USB 300 2 in 1 cable is compatible with smartphones, tablets, PC peripherals, Bluetooth speakers, power banks and all other devices with Type-C as well as Micro USB port|It ensures 3A fast charging and data transmissions with rapid sync at 480 mbps|The premium Nylon braided skin makes it sturdy and invincible against external damage|Its Aluminium alloy shell housing makes it last longer with 10000+ Bends Lifespan with extended frame protection for strain relief|The resilient and flexible design offers a tangle free experience seamlessly|Deuce USB 300 cable offers a perfect 1.5 meters in length for smooth & hassle-free user experience|2 years warranty from the date of purchase</td><td>AEWAZDZZJLQUYVOVGBEUKSLXHQ5A,AG5HTSFRRE6NL3M5SGCUQBP7YSCA,AH725ST5NW2Y4JZPKUNTIJCUK2BA,AHV3TXIFCJPMS4D5JATCEUR266MQ,AGWIGDEMFIIUAOXYY2QATNBSUGHA,AFSTSLQUV4EVEXWKBOLEFHL2H5YQ,AGAKDNBHY2FKX7I4ACRGILU7QL7A,AFNWJUWJRHCC6HN52KMG5AKZY37Q</td><td>Omkar dhale,JD,HEMALATHA,Ajwadh a.,amar singh chouhan,Ravi Siddan,Himanshu Goel,Udaykumar</td><td>R3EEUZKKK9J36I,R3HJVYCLYOY554,REDECAZ7AMPQC,R1CLH2ULIVG5U3,R2DMKIBGFKBD6R,RC89B5IAJUTR5,R3B3DDON5FH8DS,R13WAEJDI5RS36</td><td>Good product,Good one,Nice,Really nice product,Very first time change,Good,Fine product but could be better,Very nice it's charging like jet</td><td>Good product,long wire,Charges good,Nice,I bought this cable for Rs.339 worthy product for this price, i tested it in various charger adapters 33w and 18w it supports fast charging as well.,Good,Ok,I had got this at good price on sale on Amazon and product is useful with warranty but for warranty you need to go very far not practical for such a cost and mine micro to type c connector stopped working after few days only.,I like this product</td><td>https://m.media-amazon.com/images/I/41V5FtEWPkL._SX300_SY300_QL70_FMwebp_.jpg</td><td>https://www.amazon.in/Deuce-300-Resistant-Tangle-Free-Transmission/dp/B08HDJ86NZ/ref=sr_1_4?qid=1672909124&s=electronics&sr=1-4</td></tr><tr><td>B08CF3B7N1</td><td>Portronics Konnect L 1.2M Fast Charging 3A 8 Pin USB Cable with Charge & Sync Function for iPhone, iPad (Grey)</td><td>Computers&Accessories|Accessories&Peripherals|Cables&Accessories|Cables|USBCables</td><td>154.0</td><td>399.0</td><td>61.0</td><td>4.2</td><td>348.2177914110429</td><td>[CHARGE & SYNC FUNCTION]- This cable comes with charging & Data sync function|[HIGH QUALITY MATERIAL]- TPE + Nylon Material to make sure that the life of the cable is enhanced significantly|[LONG CORD]- The Cable is extra thick 1.2 meter long, optimized for an easy use for your comfort at home or office|[MORE DURABLE]-This cable is unique interms of design and multi-use and is positioned to provide the best comfort and performance while using|[UNIVERSAL COMPATIBILITY]- Compatible with all devices like iPhone XS, X, XR, 8, 7, 6S, 6, 5S, iPad Pro, iPad mini and iPad Air</td><td>AE3Q6KSUK5P75D5HFYHCRAOLODSA,AFUGIFH5ZAFXRDSZHM4QB2KPKFUQ,AFK4NJOLFSJGWLOJIUIAROJF6YVA,AFUOTYRFUXVPEBGIXVZZ7DR3CZUA,AFDLRSXKDZ6U3U3KD46SQLFGZQRA,AH5VLM66SIK7J3IRG4NY7XVOQ55A,AE3MQNNHHLUHXURL5S7IAR7JTGNQ,AFSEOFZY67MYC7UAJU264Z5NFTLA</td><td>rahuls6099,Swasat Borah,Ajay Wadke,Pranali,RVK,Bhargav,Durai Vignesh,Amazon Customer</td><td>R1BP4L2HH9TFUP,R16PVJEXKV6QZS,R2UPDB81N66T4P,R3KK4GT934ST3I,RCFHMWUSBIJO,RDO7DACXMAJ84,R3A6MEZL3LY66Z,R1ESIEKPGAYA29</td><td>As good as original,Decent,Good one for secondary use,Best quality,GOOD,Amazing product at a mind blowing price!,Nice Quality,Good product</td><td>Bought this instead of original apple, does the work for 150rs, not as fast as apple charger but its a good option if you want cheap and good product, bought it for iPad pro 10.5 and it's working flawlessly, build quality is ok, its not like i am gonna hang my clothes on it and i want a very strong cable, even a braided cable stop working after a year, i have used both Anker and Apple store strong braided cable they all stop working after a year so please don't buy high end cables just for that instead choose a this one and even if it's stops working withing a year you only loose 150rs compares to 2000rs.UPDATE------------------------------------pin has stopped charging from one side, now i have to slip the pin to charge from other side, but i will update and let know for how long does it work,,It’s good. Not sure about durability as the pin area feels a bit fragile,Does not support apple carplaySo was little disappointed about thatOther than that cable is made up of very good quality,Best to buy,100% NOT FATHFUL,Writing this review post 10 months and 3 orders of the same product.Honestly Portronics Konnect L lightning cable works like magic with the original Apple charging brick.Seeing the price of the cable I initially hesitated buying as it was as low as ₹99/- with the offers and so I wasn’t sure if it would work well with my iPhone 12 or whether it would impact my iPhone’s battery health because all the other lightning cable brands were costing over ₹350/- like Wayona, Amazon Basics, etc.Earlier I was using Wayona Brand lightning cable with eventually frayed and stopped working.Charging Speed:Charges my iPhone fast enough almost similar compared to the original cable level when used with 12W Original Apple power adapter.Quality and Durability:Great quality braided cable and doesn’t tangle easily and can withstand day-to-day usage.L-Shaped pin:This is very innovative by Portronics and it makes sure the cable doesn’t get damaged even if used while charging.CarPlay and Data Sync:Works smoothly with CarPlay and syncs data effortlessly.PS: I have used this cable only with the Original Apple Charging Brick and extremely satisfied with its performance.,Better than I expect the product I like that Quality and I plan to buy same type cable come with usb C to Lighting cable for emergency purpose that much I love this cable. Buy for this cable only emergency uses only since Good one,Good product and value for money</td><td>https://m.media-amazon.com/images/W/WEBP_402378-T2/images/I/31VzNhhqifL._SX300_SY300_QL70_FMwebp_.jpg</td><td>https://www.amazon.in/Portronics-Konnect-POR-1080-Charging-Function/dp/B08CF3B7N1/ref=sr_1_5?qid=1672909124&s=electronics&sr=1-5</td></tr><tr><td>B08Y1TFSP6</td><td>pTron Solero TB301 3A Type-C Data and Fast Charging Cable, Made in India, 480Mbps Data Sync, Strong and Durable 1.5-Meter Nylon Braided USB Cable for Type-C Devices for Charging Adapter (Black)</td><td>Computers&Accessories|Accessories&Peripherals|Cables&Accessories|Cables|USBCables</td><td>149.0</td><td>1000.0</td><td>85.0</td><td>3.9</td><td>348.2177914110429</td><td>Fast Charging & Data Sync: Solero TB301 Type-C cable supports fast charge up to 5V/3A for devices and data syncing speed up to 480Mbps.|Universal Compatibility: This USB charging cable connects USB Type-C devices with standard USB devices like laptops, hard drives, power banks, wall and car chargers, etc..Connector One: Reversible Type C|Connector Two: USB A Type|Rough & Tough Type-C Cable: Charging cable with a double-braided exterior, premium aramid fiber core and metal plugs. It has passed 10,000 bending tests and can easily withstand daily use.|Extended Length: 1.5-meter long c-type cable uses nylon material to protect the wire and avoid knots.|Perfect Fit Connectors: pTron Soler USB-C has passed the 5KG load test, swing test, 5000+ times connect & disconnect to ensure that there are no loose connections.</td><td>AEQ2YMXSZWEOHK2EHTNLOS56YTZQ,AGRVINWECNY7323CWFXZYYIZOFTQ,AHBAT6VLOXWGYDL57KHCNCLPXAKA,AF7NDY2H6JVYTSQOZP76GCATQ34Q,AFV7ZA733ZLME4KNLZPMPCBUNPPA,AHFAAPSY2MJ5HYOU2VQDJ7AQY4NQ,AH2WGV2PEBUTICRPBEEVKF24G5LA,AEP4MK3EKOBDKTGPJTRN5RBDIODA</td><td>Jayesh,Rajesh k.,Soopy,amazon customer,Aman,Shankar,dinesh,Chitra,Ajaybabu.O.M</td><td>R7S8ANNSDPR40,R3CLZFLHVJU26P,RFF7U7MPQFUGR,R1MV1NKC23DWPI,R11D3U0V2XKDKF,R18MP1KLUE18PC,RWGJNVEH5ZQME,R1XN72FU6Q37IH</td><td>It's pretty good,Average quality,very good and useful usb cable,Good USB cable. My experience was very good it is long lasting,Good,Nice product and useful,-,Sturdy but does not support 33w charging</td><td>It's a good product.,Like,Very good item strong and useful USB cableValue for moneyThanks to amazon and producer,https://m.media-amazon.com/images/I/51112ZRE-1L._SY88.jpg,Good,Nice product and useful product,-,Sturdy but does not support 33w charging</td><td>https://m.media-amazon.com/images/I/31wOPjcSxlL._SX300_SY300_QL70_FMwebp_.jpg</td><td>https://www.amazon.in/Solero-TB301-Charging-480Mbps-1-5-Meter/dp/B08Y1TFSP6/ref=sr_1_6?qid=1672909124&s=electronics&sr=1-6</td></tr><tr><td>B08WRWPM22</td><td>boAt Micro USB 55 Tangle-free, Sturdy Micro USB Cable with 3A Fast Charging & 480mbps Data Transmission (Black)</td><td>Computers&Accessories|Accessories&Peripherals|Cables&Accessories|Cables|USBCables</td><td>176.63</td><td>499.0</td><td>65.0</td><td>4.1</td><td>348.2177914110429</td><td>It Ensures High Speed Transmission And Charging By Offering 3A Fast Charging And Data Transmissions With Rapid Sync At 480 Mbps|The Braided Skin Makes It Durable And Invincible Against External Damage So You Can Have An Absolute Hassle-Free & Tangle Free Experience|Its Durable Pvc Housing And The Flexible Design Makes It Last 6 Times Longer Than Other Cables|Usb Cable Offers A Perfect 1.5 Meters In Length For Smooth & Hassle-Free User Experience For Superior Charging & Data Transfer Tasks|The Compact And Smooth Aluminium Connector Fits Most Cases Seamlessly And Resists Corrosion For Signal Purity|Micro Usb 55 Cable Offers Universal Compatibility As It Is Compatible With Most Android Smartphones, Tablets, Pc Peripherals, Bluetooth Speakers, Power Banks, Game Consoles & All Micro-Usb Enabled Devices|2 years warranty from the date of purchase</td><td>AG7C6DAADCTRQJG2BRS3RIKDT52Q,AFU7BOMPVJ7Q3TTA4G67RASTGYIQ,AER5ZGIXXVYG3AWZTRZT7M2BYCEA,AHE76XQSOLGOP5ZEKTIW6KUPDWBQ,AGXTMB2XHZBEWZ2UIX7ODZ4XTU6Q,AHNM2XVU745EDPNGUOAG74PTSNRA,AH5RWQ4S72IVLZD6O75OPCFIVDXQ,AG322TYKVPLPBDXE7ABEUK5QTALQ</td><td>Vivek kumar,Amazon Customer,SARTHAK,Chiranjeevi,V V GIRI KUMAR,Rajnandini,Akshay Talla,sudhanshu chaubey</td><td>R8E73K2KWJRDS,RSD0JTIIWQQL8,R64CRSTE9SLW1,R2FRTNIIUFJE1F,RWGNX3W7UOJ7W,R32TYHHODHTF5D,RQL9ZMQUTY7P2,R280XJ5VZUBOXV</td><td>Long durable.,good,Does not charge Lenovo m8 tab,Best charging cable,good,Boat,Product was good,1.5 m का केबल मेरे लिए बहुत ही लाभदायक है ।</td><td>Build quality is good and it is comes with 2 year warranty.,Good Product,Bought it for charging my mobile & tab but it doesn't work for Lenovo m8 tab,Guys this cable is is best compare of everyone over heat protection, quickly charging, but chance to shock circuit,good,Nice,Good quality,1.5एम का डाटा केबल मेरे लिए बहुत ही लाभदायक है ।  मैं इस केबल को लाइन में चार्ज करते समय फोन बहुत आराम से उपयोग  कर पा रहा हु । आप इस केबल से 15watt का  चार्जर उसे कर सकते है (इससे जड़ा नही) । लोकल बाजार में इसका दाम 150 है ,  अमेजन पे ये केबल मुझे 67 में मिला । गर्व से कहो हम हिंदू है , जय हिंद जय भारत ,</td><td>https://m.media-amazon.com/images/W/WEBP_402378-T2/images/I/41jlwEZpa5L._SX300_SY300_QL70_FMwebp_.jpg</td><td>https://www.amazon.in/boAt-Micro-USB-Tangle-Free-Transmission/dp/B08WRWPM22/ref=sr_1_8?qid=1672909124&s=electronics&sr=1-8</td></tr><tr><td>B08DDRGWTJ</td><td>MI Usb Type-C Cable Smartphone (Black)</td><td>Computers&Accessories|Accessories&Peripherals|Cables&Accessories|Cables|USBCables</td><td>229.0</td><td>299.0</td><td>23.0</td><td>4.3</td><td>348.2177914110429</td><td>1m long Type-C USB Cable|Sturdy and Durable. With USB cable you can transfer data with speeds of upto 480 Mbps|Upto 3A output|6months warranty|Sturdy and Durable. With USB cable you can transfer data with speeds of upto 480 Mbps|6months warranty|Up To 3A Output</td><td>AHW6E5LQ2BDYOIVLAJGDH45J5V5Q,AF74RSGCHPZITVFSZN76K6GKPICA,AHDD7ZNB47QA2JLYU53HD4ML3VNQ,AHV3ELGDSOWBYUQLXSPDCSHBQRHQ,AEJU4L3ZM2GTILSJZZSNSF6VUOIA,AFVD66VQMSHPDT3A6HBBBGKRXBZA,AELKHQXVSSG6NHXLFJLLNEFRQQUQ,AGYSMAC6V6RFJJOHG2FIRPOZ6CSQ</td><td>Pavan A H,Jayesh bagad,Shridhar,rajendran,karuppu k,Akshay wani,Abbimaniu Singh,VISHAL H BADSHE</td><td>R2X090D1YHACKR,R32ZCIH9AFNJ60,R3N57EVVG0EHAF,R3QWLE8JHROKC1,R2VTSDOOUTSQ5X,R3E6FZ75Q074KH,R1SYBQLTPFCW20,RYQT96J8HPIXE</td><td>Worth for money - suitable for Android auto,Good Product,Length,Nice,Original,Very good quay Cable support fast charging.,Original MI cable for charging upto 33 watt,I am veri happy with this product as it provide turbo charging.</td><td>Worth for money - suitable for Android auto... my purpose served in car....got it for Rs.150,Everything is Okay. But packaging is not good feeling like seller gave is used cable.,Good product,Good product but cost is more.,Original cable,I bought this cable at 129. Using this cable for Android auto in my car. Perfectly works without any glitch.,Original MI cable. Will charge upto 33 watts. Got it for Rs 150.  I have 67 watt charger and I want a cable for my car so I went for it. I checked the performance with battery charging app. The charging speed is exactly half of my 67 watt original cable. Go for it.,It provided me turbo charging. I recommend for all Redmi note 10s mobile phones. As it provide turbo charging. I am veri happy with this product.</td><td>https://m.media-amazon.com/images/I/31XO-wfGGGL._SX300_SY300_QL70_FMwebp_.jpg</td><td>https://www.amazon.in/MI-MTCY001IN-USB-Type-C-Cable/dp/B08DDRGWTJ/ref=sr_1_9?qid=1672909124&s=electronics&sr=1-9</td></tr><tr><td>B008IFXQFU</td><td>TP-Link USB WiFi Adapter for PC(TL-WN725N), N150 Wireless Network Adapter for Desktop - Nano Size WiFi Dongle Compatible with Windows 11/10/7/8/8.1/XP/ Mac OS 10.9-10.15 Linux Kernel 2.6.18-4.4.3</td><td>Computers&Accessories|NetworkingDevices|NetworkAdapters|WirelessUSBAdapters</td><td>499.0</td><td>999.0</td><td>50.0</td><td>4.2</td><td>348.2177914110429</td><td>USB WiFi Adapter —— Speedy wireless transmission at up to 150Mbps ideal for video streaming or internet calls|Mini Design —— Sleek miniature design so small that once plugged in, can be left in a Laptop’s USB port|Advanced Security —— Supports 64/128 WEP, WPA, PA2/WPA-PSK/WPA2-PSK(TKIP/AES)|Compatibility —— Windows 11/10/8.1/8/7/XP, Mac OS 10.15 and earlier, Linux|Easy Setup —— Connect in no time with easy setup utility in 14 languages|In an unlikely case of product quality related issue, we may ask you to reach out to brand’s customer service support and seek resolution. We will require brand proof of issue to process replacement request</td><td>AGV3IEFANZCKECFGUM42MRH5FNOA,AEBO7NWCNXKT4AESAN443HQH35FQ,AE7GD3VRRYQEAHDR7FXJIR23INYA,AHPAW24BI5X2GCX5M2LHI72VSJJQ,AE2VXY4CFO36MDSIMPG43XHNF4GA,AHHQEKUNVETALN7DTRHUQ2WAWEKQ,AFMIFTNTUD5PIHGONWOTRMMZ5EBA,AHOJBIZVVIIFJKRREY4B6ESVA4KA</td><td>Azhar JuMan,Anirudh Sood,Hari Krishnan PS,Akash Jindal,PRADEEP,Rajesh,Divya Kothari,abhijit</td><td>R1LW6NWSVTVZ2H,R3VR5WFKUS15C5,R2F6GC79OYWUKQ,R3QZ19MECGWG9A,R2MPU42MYK7GPO,R33DVXFB4VYPZZ,R1SQ7OGFR4JRUR,R1S5F9QI0M1VBZ</td><td>Works on linux for me. Get the model with antenna.,Does what it say but other brands available at lesser price,Easy Handle,Great product,Perfect working,Speed is perfect,Great Design, Build, Connectivity Range, Packaging and other features but no linux support since v2,Very good</td><td>I use this to connect an old PC to internet. I tried lubuntu 20 and ubuntu 22, it worked out of the box in both, didn't have to do any setup. There's an extender cable so you can place this in a comfortable place. Get the model with antenna because otherwise you'll have range problems if you're not directly in line of sight from your wifi router.,The wifi dongle is a simple plug & play device, will start catching available networks right after you plug it into your USB port, no additional installations/ softwares requires. Signal strength is good.... just wonder what would be different in other adapters of lesser known brands which are available at a much more competitive pricing, hence a star less.,Pros:*Easy to use & Portable*Can be connected to Mobile Hotspot and used in PC( Budget Friendly)*Less installation process*No heating issues & Good Coverage*Best alternative for USB Tethering (phone's battery may get damaged for long term run with Tethering)Cons:*Internet connection speed varies at times, also depends on your modem or cellular connection*Issues occur while installing via CD, which is available along with the product( Installation driver can be downloaded from TP-Link site)*Needed to reconnect the adapter every time system is turned ON*Will not work if your software has some issues, so encountered any just update your system(worked for me)*Support Center is worse, calls are unattended most of the times or just visit nearby storeConclusion:Brought this @499/-Ideal for users who don't need very high speed internet usage,a good alternative for USB Tethering and are on Budge(1080p Youtube videos can be easily played with this without any interruptions),wifi connectivity is a great good result for me. however, some jitter problems did exist.,This is perfect device to connect wifi. Go for it.,This wifi adopter is good working,(Pictures attached)Size/Design:  ★ ★ ★ ★ ★Build Quality: ★ ★ ★ ★ ★Packaging:  ★ ★ ★ ★ ★Software:  ★ ★ ★ ★Speed:  ★ ★ ★ ★ ★Connectivity:  ★ ★ ★ ★ ★Experience:  ★ ★ ★ ★ ★Warranty:  ★ ★ ★ ★ ★Size and Design:The best part about this is that it is very compact in size and very sober and elegant in design. This is a big plus as it is easy plug in and use, add to it the good sober design.Build Quality:The build quality is undoubtedly superb. Just no qualms about that, at all. When held, it doesnt give off that cheap and flimsy product-like feeling. It is good sturdy with its build quality.Packaging:This part is also a big plus as the item was well cushioned and packaged with all the necessary items that ensured that no damage could have been caused to the product during transportation. This ensures that I as a customer have received something not damaged internally already.Software:This is actually good but not great part with the product.The good part is that a CD has been provided with it along with a manual.The not great part is that NO LINUX SUPPORT has been given from Version 2 onwards. This is bad, really.Speed:It easily supports net speeds upto 300 Mbps. Practically speaking, I have tested it at my home and it easily supports net speed of over 100-150 Mbps without a sigh.On testing I found that it did connect to 5GHz network, without any issue.Connectivity:Please mark its not feet its metres. Multiply metres x 3 to get the distance in feet.It easily connects to my laptop or phone from 7 metres across one room. So thats 21 feet. I mean even our old bluetooth used to connect to about 15 ft.So 20-25 feet is not at all an issue with this. This is the big plus I found with the product.Experience:From this point of view, so far except the linux non-compatibility issue, I found no other flaws with this product.So overall its a great product.Warranty:Its 3 years so I am assured that atleast for 3 years I am tension-free and not just 1 year, contrary to most electronic items today that only provide 1 year warranty with their items.,Best adapter I have bought ever. Works nicely seemless connectivity</td><td>https://m.media-amazon.com/images/W/WEBP_402378-T2/images/I/31e6ElWRymL._SX300_SY300_QL70_FMwebp_.jpg</td><td>https://www.amazon.in/TP-Link-TL-WN725N-150Mbps-Wireless-Adapter/dp/B008IFXQFU/ref=sr_1_10?qid=1672909124&s=electronics&sr=1-10</td></tr><tr><td>B082LZGK39</td><td>Ambrane Unbreakable 60W / 3A Fast Charging 1.5m Braided Micro USB Cable for Smartphones, Tablets, Laptops & Other Micro USB Devices, 480Mbps Data Sync, Quick Charge 3.0 (RCM15, Black)</td><td>Computers&Accessories|Accessories&Peripherals|Cables&Accessories|Cables|USBCables</td><td>199.0</td><td>299.0</td><td>33.0</td><td>4.0</td><td>348.2177914110429</td><td>Universal Compatibility – It is compatible with all Micro USB enabled devices, be it an android smartphone, tablet, PC peripheral or any other micro USB compatible device|Unbreakable – Made of special braided outer with rugged interior bindings, it is ultra-durable cable that won’t be affected by daily rough usage|Ideal Length – It has ideal length of 1.5 meters which is neither too short like your typical 1meter cable or too long like a 2meters cable|Supports maximum 3A fast charging and 480 Mbps data transfer speed|6 Months manufacturer warranty from the date of purchase.</td><td>AECPFYFQVRUWC3KGNLJIOREFP5LQ,AGYYVPDD7YG7FYNBXNGXZJT525AQ,AHONIZU3ICIEHQIGQ6R2VFRSBXOQ,AFPHD2CRPDZMWMBL7WXRSVYWS5JA,AEZ346GX3HJ4O4XNRPHCNHXQURMQ,AEPSWFPNECKO34PUC7I56ITGXR6Q,AHWVEHR5DYLVFTO2KF3IZATFQSWQ,AH4QT33M55677I7ISQOAKEQWACYQ</td><td>ArdKn,Nirbhay kumar,Sagar Viswanathan,Asp,Placeholder,BharanI,sonia,Niam</td><td>RGIQEG07R9HS2,R1SMWZQ86XIN8U,R2J3Y1WL29GWDE,RYGGS0M09S3KY,R17KQRUTAN5DKS,R3AAQGS6HP2QUK,R1HDNOG6TO2CCA,R3PHKXYA5AFEOU</td><td>A Good Braided Cable for Your Type C Device,Good quality product from ambrane,Super cable,As,Good quality,Good product,its good,Good quality for the price but one issue with my unit</td><td>I ordered this cable to connect my phone to Android Auto of car. The cable is really strong and the connection ports are really well made. I already has a Micro USB cable from Ambrane and it's still in good shape. I connected my phone to the car using the cable and it got connected well and no issues. I also connected it to the charging port and yes it has Fast Charging support.,It quality is good at this price and the main thing is that i didn't ever thought that this cable will be so long it's good one and charging power is too good and also supports fast charging,Value for money, with extra length👍,Good, working fine,Product quality is good,Good,very good,Bought for my daughter's old phone.Brand new cable it was not charging, I already repacked and requested for replacement.I checked again, and there was some green colour paste/fungus inside the micro USB connector. I cleaned with an alcoholic and starts working again.Checked the ampere of charging speed got around 1400ma-1500ma - not bad, came with braided 1.5m long cable, pretty impressive for the price.Can't blame the manufacturer.But quality issues by the distributor, they might have stored in very humid place.</td><td>https://m.media-amazon.com/images/W/WEBP_402378-T2/images/I/31kj3q4SepL._SY445_SX342_QL70_FMwebp_.jpg</td><td>https://www.amazon.in/Ambrane-Unbreakable-Charging-Braided-Android/dp/B082LZGK39/ref=sr_1_11?qid=1672909124&s=electronics&sr=1-11</td></tr></tbody></table></div>"
      ]
     },
     "metadata": {
      "application/vnd.databricks.v1+output": {
       "addedWidgets": {},
       "aggData": [],
       "aggError": "",
       "aggOverflow": false,
       "aggSchema": [],
       "aggSeriesLimitReached": false,
       "aggType": "",
       "arguments": {},
       "columnCustomDisplayInfos": {},
       "data": [
        [
         "B07JW9H4J1",
         "Wayona Nylon Braided USB to Lightning Fast Charging and Data Sync Cable Compatible for iPhone 13, 12,11, X, 8, 7, 6, 5, iPad Air, Pro, Mini (3 FT Pack of 1, Grey)",
         "Computers&Accessories|Accessories&Peripherals|Cables&Accessories|Cables|USBCables",
         399.0,
         1099.0,
         64.0,
         4.2,
         348.2177914110429,
         "High Compatibility : Compatible With iPhone 12, 11, X/XsMax/Xr ,iPhone 8/8 Plus,iPhone 7/7 Plus,iPhone 6s/6s Plus,iPhone 6/6 Plus,iPhone 5/5s/5c/se,iPad Pro,iPad Air 1/2,iPad mini 1/2/3,iPod nano7,iPod touch and more apple devices.|Fast Charge&Data Sync : It can charge and sync simultaneously at a rapid speed, Compatible with any charging adaptor, multi-port charging station or power bank.|Durability : Durable nylon braided design with premium aluminum housing and toughened nylon fiber wound tightly around the cord lending it superior durability and adding a bit to its flexibility.|High Security Level : It is designed to fully protect your device from damaging excessive current.Copper core thick+Multilayer shielding, Anti-interference, Protective circuit equipment.|WARRANTY: 12 months warranty and friendly customer services, ensures the long-time enjoyment of your purchase. If you meet any question or problem, please don't hesitate to contact us.",
         "AG3D6O4STAQKAY2UVGEUV46KN35Q,AHMY5CWJMMK5BJRBBSNLYT3ONILA,AHCTC6ULH4XB6YHDY6PCH2R772LQ,AGYHHIERNXKA6P5T7CZLXKVPT7IQ,AG4OGOFWXJZTQ2HKYIOCOY3KXF2Q,AENGU523SXMOS7JPDTW52PNNVWGQ,AEQJHCVTNINBS4FKTBGQRQTGTE5Q,AFC3FFC5PKFF5PMA52S3VCHOZ5FQ",
         "Manav,Adarsh gupta,Sundeep,S.Sayeed Ahmed,jaspreet singh,Khaja moin,Anand,S.ARUMUGAM",
         "R3HXWT0LRP0NMF,R2AJM3LFTLZHFO,R6AQJGUP6P86,R1KD19VHEDV0OR,R3C02RMYQMK6FC,R39GQRVBUZBWGY,R2K9EDOE15QIRJ,R3OI7YT648TL8I",
         "Satisfied,Charging is really fast,Value for money,Product review,Good quality,Good product,Good Product,As of now seems good",
         "Looks durable Charging is fine tooNo complains,Charging is really fast, good product.,Till now satisfied with the quality.,This is a good product . The charging speed is slower than the original iPhone cable,Good quality, would recommend,https://m.media-amazon.com/images/W/WEBP_402378-T1/images/I/81---F1ZgHL._SY88.jpg,Product had worked well till date and was having no issue.Cable is also sturdy enough...Have asked for replacement and company is doing the same...,Value for money",
         "https://m.media-amazon.com/images/W/WEBP_402378-T1/images/I/51UsScvHQNL._SX300_SY300_QL70_FMwebp_.jpg",
         "https://www.amazon.in/Wayona-Braided-WN3LG1-Syncing-Charging/dp/B07JW9H4J1/ref=sr_1_1?qid=1672909124&s=electronics&sr=1-1"
        ],
        [
         "B098NS6PVG",
         "Ambrane Unbreakable 60W / 3A Fast Charging 1.5m Braided Type C Cable for Smartphones, Tablets, Laptops & other Type C devices, PD Technology, 480Mbps Data Sync, Quick Charge 3.0 (RCT15A, Black)",
         "Computers&Accessories|Accessories&Peripherals|Cables&Accessories|Cables|USBCables",
         199.0,
         349.0,
         43.0,
         4.0,
         348.2177914110429,
         "Compatible with all Type C enabled devices, be it an android smartphone (Mi, Samsung, Oppo, Vivo, Realme, OnePlus, etc), tablet, laptop (Macbook, Chromebook, etc)|Supports Quick Charging (2.0/3.0)|Unbreakable – Made of special braided outer with rugged interior bindings, it is ultra-durable cable that won’t be affected by daily rough usage|Ideal Length – It has ideal length of 1.5 meters which is neither too short like your typical 1meter cable or too long like a 2meters cable|Supports maximum 3A fast charging and 480 Mbps data transfer speed|6 months manufacturer warranty from the date of purchase",
         "AECPFYFQVRUWC3KGNLJIOREFP5LQ,AGYYVPDD7YG7FYNBXNGXZJT525AQ,AHONIZU3ICIEHQIGQ6R2VFRSBXOQ,AFPHD2CRPDZMWMBL7WXRSVYWS5JA,AEZ346GX3HJ4O4XNRPHCNHXQURMQ,AEPSWFPNECKO34PUC7I56ITGXR6Q,AHWVEHR5DYLVFTO2KF3IZATFQSWQ,AH4QT33M55677I7ISQOAKEQWACYQ",
         "ArdKn,Nirbhay kumar,Sagar Viswanathan,Asp,Placeholder,BharanI,sonia,Niam",
         "RGIQEG07R9HS2,R1SMWZQ86XIN8U,R2J3Y1WL29GWDE,RYGGS0M09S3KY,R17KQRUTAN5DKS,R3AAQGS6HP2QUK,R1HDNOG6TO2CCA,R3PHKXYA5AFEOU",
         "A Good Braided Cable for Your Type C Device,Good quality product from ambrane,Super cable,As,Good quality,Good product,its good,Good quality for the price but one issue with my unit",
         "I ordered this cable to connect my phone to Android Auto of car. The cable is really strong and the connection ports are really well made. I already has a Micro USB cable from Ambrane and it's still in good shape. I connected my phone to the car using the cable and it got connected well and no issues. I also connected it to the charging port and yes it has Fast Charging support.,It quality is good at this price and the main thing is that i didn't ever thought that this cable will be so long it's good one and charging power is too good and also supports fast charging,Value for money, with extra length👍,Good, working fine,Product quality is good,Good,very good,Bought for my daughter's old phone.Brand new cable it was not charging, I already repacked and requested for replacement.I checked again, and there was some green colour paste/fungus inside the micro USB connector. I cleaned with an alcoholic and starts working again.Checked the ampere of charging speed got around 1400ma-1500ma - not bad, came with braided 1.5m long cable, pretty impressive for the price.Can't blame the manufacturer.But quality issues by the distributor, they might have stored in very humid place.",
         "https://m.media-amazon.com/images/W/WEBP_402378-T2/images/I/31zOsqQOAOL._SY445_SX342_QL70_FMwebp_.jpg",
         "https://www.amazon.in/Ambrane-Unbreakable-Charging-Braided-Cable/dp/B098NS6PVG/ref=sr_1_2?qid=1672909124&s=electronics&sr=1-2"
        ],
        [
         "B096MSW6CT",
         "Sounce Fast Phone Charging Cable & Data Sync USB Cable Compatible for iPhone 13, 12,11, X, 8, 7, 6, 5, iPad Air, Pro, Mini & iOS Devices",
         "Computers&Accessories|Accessories&Peripherals|Cables&Accessories|Cables|USBCables",
         199.0,
         1899.0,
         90.0,
         3.9,
         348.2177914110429,
         "【 Fast Charger& Data Sync】-With built-in safety proctections and four-core copper wires promote maximum signal quality and strength and enhance charging & data transfer speed with up to 480 mb/s transferring speed.|【 Compatibility】-Compatible with iPhone 13, 12,11, X, 8, 7, 6, 5, iPad Air, Pro, Mini & iOS devices.|【 Sturdy & Durable】-The jacket and enforced connector made of TPE and premium copper, are resistant to repeatedly bending and coiling.|【 Ultra High Quality】: According to the experimental results, the fishbone design can accept at least 20,000 bending and insertion tests for extra protection and durability. Upgraded 3D aluminum connector and exclusive laser welding technology, which to ensure the metal part won't break and also have a tighter connection which fits well even with a protective case on and will never loose connection.|【 Good After Sales Service】-Our friendly and reliable customer service will respond to you within 24 hours ! you can purchase with confidence,and every sale includes a 365-day worry-free Service to prove the importance we set on quality.",
         "AGU3BBQ2V2DDAMOAKGFAWDDQ6QHA,AESFLDV2PT363T2AQLWQOWZ4N3OA,AHTPQRIMGUD4BYR5YIHBH3CCGEFQ,AEUVWXYP5LT7PZLLZENEO2NODPBQ,AHC7MPW55DOO6WNCOQVA2VHOD26A,AFDI6FRPFBTNBG7BAEB7JDJSMKDQ,AFQKCEEEKXCOHTDG4WUN3XPPHJQQ,AHKUUFNMBZIDLSSPA4FEHIO2EC7Q",
         "Kunal,Himanshu,viswanath,sai niharka,saqib malik,Aashiq,Ramu Challa,Sanjay gupta",
         "R3J3EQQ9TZI5ZJ,R3E7WBGK7ID0KV,RWU79XKQ6I1QF,R25X4TBMPY91LX,R27OK7G99VK0TR,R207CYDCHJJTCJ,R3PCU8XMU173BT,R1IMONDOWRNU5V",
         "Good speed for earlier versions,Good Product,Working good,Good for the price,Good,Worth for money,Working nice,it's a really nice product",
         "Not quite durable and sturdy,https://m.media-amazon.com/images/W/WEBP_402378-T1/images/I/71rIggrbUCL._SY88.jpg,Working good,https://m.media-amazon.com/images/W/WEBP_402378-T1/images/I/61bKp9YO6wL._SY88.jpg,Product,Very nice product,Working well,It's a really nice product",
         "https://m.media-amazon.com/images/W/WEBP_402378-T1/images/I/31IvNJZnmdL._SY445_SX342_QL70_FMwebp_.jpg",
         "https://www.amazon.in/Sounce-iPhone-Charging-Compatible-Devices/dp/B096MSW6CT/ref=sr_1_3?qid=1672909124&s=electronics&sr=1-3"
        ],
        [
         "B08HDJ86NZ",
         "boAt Deuce USB 300 2 in 1 Type-C & Micro USB Stress Resistant, Tangle-Free, Sturdy Cable with 3A Fast Charging & 480mbps Data Transmission, 10000+ Bends Lifespan and Extended 1.5m Length(Martian Red)",
         "Computers&Accessories|Accessories&Peripherals|Cables&Accessories|Cables|USBCables",
         329.0,
         699.0,
         53.0,
         4.2,
         348.2177914110429,
         "The boAt Deuce USB 300 2 in 1 cable is compatible with smartphones, tablets, PC peripherals, Bluetooth speakers, power banks and all other devices with Type-C as well as Micro USB port|It ensures 3A fast charging and data transmissions with rapid sync at 480 mbps|The premium Nylon braided skin makes it sturdy and invincible against external damage|Its Aluminium alloy shell housing makes it last longer with 10000+ Bends Lifespan with extended frame protection for strain relief|The resilient and flexible design offers a tangle free experience seamlessly|Deuce USB 300 cable offers a perfect 1.5 meters in length for smooth & hassle-free user experience|2 years warranty from the date of purchase",
         "AEWAZDZZJLQUYVOVGBEUKSLXHQ5A,AG5HTSFRRE6NL3M5SGCUQBP7YSCA,AH725ST5NW2Y4JZPKUNTIJCUK2BA,AHV3TXIFCJPMS4D5JATCEUR266MQ,AGWIGDEMFIIUAOXYY2QATNBSUGHA,AFSTSLQUV4EVEXWKBOLEFHL2H5YQ,AGAKDNBHY2FKX7I4ACRGILU7QL7A,AFNWJUWJRHCC6HN52KMG5AKZY37Q",
         "Omkar dhale,JD,HEMALATHA,Ajwadh a.,amar singh chouhan,Ravi Siddan,Himanshu Goel,Udaykumar",
         "R3EEUZKKK9J36I,R3HJVYCLYOY554,REDECAZ7AMPQC,R1CLH2ULIVG5U3,R2DMKIBGFKBD6R,RC89B5IAJUTR5,R3B3DDON5FH8DS,R13WAEJDI5RS36",
         "Good product,Good one,Nice,Really nice product,Very first time change,Good,Fine product but could be better,Very nice it's charging like jet",
         "Good product,long wire,Charges good,Nice,I bought this cable for Rs.339 worthy product for this price, i tested it in various charger adapters 33w and 18w it supports fast charging as well.,Good,Ok,I had got this at good price on sale on Amazon and product is useful with warranty but for warranty you need to go very far not practical for such a cost and mine micro to type c connector stopped working after few days only.,I like this product",
         "https://m.media-amazon.com/images/I/41V5FtEWPkL._SX300_SY300_QL70_FMwebp_.jpg",
         "https://www.amazon.in/Deuce-300-Resistant-Tangle-Free-Transmission/dp/B08HDJ86NZ/ref=sr_1_4?qid=1672909124&s=electronics&sr=1-4"
        ],
        [
         "B08CF3B7N1",
         "Portronics Konnect L 1.2M Fast Charging 3A 8 Pin USB Cable with Charge & Sync Function for iPhone, iPad (Grey)",
         "Computers&Accessories|Accessories&Peripherals|Cables&Accessories|Cables|USBCables",
         154.0,
         399.0,
         61.0,
         4.2,
         348.2177914110429,
         "[CHARGE & SYNC FUNCTION]- This cable comes with charging & Data sync function|[HIGH QUALITY MATERIAL]- TPE + Nylon Material to make sure that the life of the cable is enhanced significantly|[LONG CORD]- The Cable is extra thick 1.2 meter long, optimized for an easy use for your comfort at home or office|[MORE DURABLE]-This cable is unique interms of design and multi-use and is positioned to provide the best comfort and performance while using|[UNIVERSAL COMPATIBILITY]- Compatible with all devices like iPhone XS, X, XR, 8, 7, 6S, 6, 5S, iPad Pro, iPad mini and iPad Air",
         "AE3Q6KSUK5P75D5HFYHCRAOLODSA,AFUGIFH5ZAFXRDSZHM4QB2KPKFUQ,AFK4NJOLFSJGWLOJIUIAROJF6YVA,AFUOTYRFUXVPEBGIXVZZ7DR3CZUA,AFDLRSXKDZ6U3U3KD46SQLFGZQRA,AH5VLM66SIK7J3IRG4NY7XVOQ55A,AE3MQNNHHLUHXURL5S7IAR7JTGNQ,AFSEOFZY67MYC7UAJU264Z5NFTLA",
         "rahuls6099,Swasat Borah,Ajay Wadke,Pranali,RVK,Bhargav,Durai Vignesh,Amazon Customer",
         "R1BP4L2HH9TFUP,R16PVJEXKV6QZS,R2UPDB81N66T4P,R3KK4GT934ST3I,RCFHMWUSBIJO,RDO7DACXMAJ84,R3A6MEZL3LY66Z,R1ESIEKPGAYA29",
         "As good as original,Decent,Good one for secondary use,Best quality,GOOD,Amazing product at a mind blowing price!,Nice Quality,Good product",
         "Bought this instead of original apple, does the work for 150rs, not as fast as apple charger but its a good option if you want cheap and good product, bought it for iPad pro 10.5 and it's working flawlessly, build quality is ok, its not like i am gonna hang my clothes on it and i want a very strong cable, even a braided cable stop working after a year, i have used both Anker and Apple store strong braided cable they all stop working after a year so please don't buy high end cables just for that instead choose a this one and even if it's stops working withing a year you only loose 150rs compares to 2000rs.UPDATE------------------------------------pin has stopped charging from one side, now i have to slip the pin to charge from other side, but i will update and let know for how long does it work,,It’s good. Not sure about durability as the pin area feels a bit fragile,Does not support apple carplaySo was little disappointed about thatOther than that cable is made up of very good quality,Best to buy,100% NOT FATHFUL,Writing this review post 10 months and 3 orders of the same product.Honestly Portronics Konnect L lightning cable works like magic with the original Apple charging brick.Seeing the price of the cable I initially hesitated buying as it was as low as ₹99/- with the offers and so I wasn’t sure if it would work well with my iPhone 12 or whether it would impact my iPhone’s battery health because all the other lightning cable brands were costing over ₹350/- like Wayona, Amazon Basics, etc.Earlier I was using Wayona Brand lightning cable with eventually frayed and stopped working.Charging Speed:Charges my iPhone fast enough almost similar compared to the original cable level when used with 12W Original Apple power adapter.Quality and Durability:Great quality braided cable and doesn’t tangle easily and can withstand day-to-day usage.L-Shaped pin:This is very innovative by Portronics and it makes sure the cable doesn’t get damaged even if used while charging.CarPlay and Data Sync:Works smoothly with CarPlay and syncs data effortlessly.PS: I have used this cable only with the Original Apple Charging Brick and extremely satisfied with its performance.,Better than I expect the product I like that Quality and I plan to buy same type cable come with usb C to Lighting cable for emergency purpose that much I love this cable. Buy for this cable only emergency uses only since Good one,Good product and value for money",
         "https://m.media-amazon.com/images/W/WEBP_402378-T2/images/I/31VzNhhqifL._SX300_SY300_QL70_FMwebp_.jpg",
         "https://www.amazon.in/Portronics-Konnect-POR-1080-Charging-Function/dp/B08CF3B7N1/ref=sr_1_5?qid=1672909124&s=electronics&sr=1-5"
        ],
        [
         "B08Y1TFSP6",
         "pTron Solero TB301 3A Type-C Data and Fast Charging Cable, Made in India, 480Mbps Data Sync, Strong and Durable 1.5-Meter Nylon Braided USB Cable for Type-C Devices for Charging Adapter (Black)",
         "Computers&Accessories|Accessories&Peripherals|Cables&Accessories|Cables|USBCables",
         149.0,
         1000.0,
         85.0,
         3.9,
         348.2177914110429,
         "Fast Charging & Data Sync: Solero TB301 Type-C cable supports fast charge up to 5V/3A for devices and data syncing speed up to 480Mbps.|Universal Compatibility: This USB charging cable connects USB Type-C devices with standard USB devices like laptops, hard drives, power banks, wall and car chargers, etc..Connector One: Reversible Type C|Connector Two: USB A Type|Rough & Tough Type-C Cable: Charging cable with a double-braided exterior, premium aramid fiber core and metal plugs. It has passed 10,000 bending tests and can easily withstand daily use.|Extended Length: 1.5-meter long c-type cable uses nylon material to protect the wire and avoid knots.|Perfect Fit Connectors: pTron Soler USB-C has passed the 5KG load test, swing test, 5000+ times connect & disconnect to ensure that there are no loose connections.",
         "AEQ2YMXSZWEOHK2EHTNLOS56YTZQ,AGRVINWECNY7323CWFXZYYIZOFTQ,AHBAT6VLOXWGYDL57KHCNCLPXAKA,AF7NDY2H6JVYTSQOZP76GCATQ34Q,AFV7ZA733ZLME4KNLZPMPCBUNPPA,AHFAAPSY2MJ5HYOU2VQDJ7AQY4NQ,AH2WGV2PEBUTICRPBEEVKF24G5LA,AEP4MK3EKOBDKTGPJTRN5RBDIODA",
         "Jayesh,Rajesh k.,Soopy,amazon customer,Aman,Shankar,dinesh,Chitra,Ajaybabu.O.M",
         "R7S8ANNSDPR40,R3CLZFLHVJU26P,RFF7U7MPQFUGR,R1MV1NKC23DWPI,R11D3U0V2XKDKF,R18MP1KLUE18PC,RWGJNVEH5ZQME,R1XN72FU6Q37IH",
         "It's pretty good,Average quality,very good and useful usb cable,Good USB cable. My experience was very good it is long lasting,Good,Nice product and useful,-,Sturdy but does not support 33w charging",
         "It's a good product.,Like,Very good item strong and useful USB cableValue for moneyThanks to amazon and producer,https://m.media-amazon.com/images/I/51112ZRE-1L._SY88.jpg,Good,Nice product and useful product,-,Sturdy but does not support 33w charging",
         "https://m.media-amazon.com/images/I/31wOPjcSxlL._SX300_SY300_QL70_FMwebp_.jpg",
         "https://www.amazon.in/Solero-TB301-Charging-480Mbps-1-5-Meter/dp/B08Y1TFSP6/ref=sr_1_6?qid=1672909124&s=electronics&sr=1-6"
        ],
        [
         "B08WRWPM22",
         "boAt Micro USB 55 Tangle-free, Sturdy Micro USB Cable with 3A Fast Charging & 480mbps Data Transmission (Black)",
         "Computers&Accessories|Accessories&Peripherals|Cables&Accessories|Cables|USBCables",
         176.63,
         499.0,
         65.0,
         4.1,
         348.2177914110429,
         "It Ensures High Speed Transmission And Charging By Offering 3A Fast Charging And Data Transmissions With Rapid Sync At 480 Mbps|The Braided Skin Makes It Durable And Invincible Against External Damage So You Can Have An Absolute Hassle-Free & Tangle Free Experience|Its Durable Pvc Housing And The Flexible Design Makes It Last 6 Times Longer Than Other Cables|Usb Cable Offers A Perfect 1.5 Meters In Length For Smooth & Hassle-Free User Experience For Superior Charging & Data Transfer Tasks|The Compact And Smooth Aluminium Connector Fits Most Cases Seamlessly And Resists Corrosion For Signal Purity|Micro Usb 55 Cable Offers Universal Compatibility As It Is Compatible With Most Android Smartphones, Tablets, Pc Peripherals, Bluetooth Speakers, Power Banks, Game Consoles & All Micro-Usb Enabled Devices|2 years warranty from the date of purchase",
         "AG7C6DAADCTRQJG2BRS3RIKDT52Q,AFU7BOMPVJ7Q3TTA4G67RASTGYIQ,AER5ZGIXXVYG3AWZTRZT7M2BYCEA,AHE76XQSOLGOP5ZEKTIW6KUPDWBQ,AGXTMB2XHZBEWZ2UIX7ODZ4XTU6Q,AHNM2XVU745EDPNGUOAG74PTSNRA,AH5RWQ4S72IVLZD6O75OPCFIVDXQ,AG322TYKVPLPBDXE7ABEUK5QTALQ",
         "Vivek kumar,Amazon Customer,SARTHAK,Chiranjeevi,V V GIRI KUMAR,Rajnandini,Akshay Talla,sudhanshu chaubey",
         "R8E73K2KWJRDS,RSD0JTIIWQQL8,R64CRSTE9SLW1,R2FRTNIIUFJE1F,RWGNX3W7UOJ7W,R32TYHHODHTF5D,RQL9ZMQUTY7P2,R280XJ5VZUBOXV",
         "Long durable.,good,Does not charge Lenovo m8 tab,Best charging cable,good,Boat,Product was good,1.5 m का केबल मेरे लिए बहुत ही लाभदायक है ।",
         "Build quality is good and it is comes with 2 year warranty.,Good Product,Bought it for charging my mobile & tab but it doesn't work for Lenovo m8 tab,Guys this cable is is best compare of everyone over heat protection, quickly charging, but chance to shock circuit,good,Nice,Good quality,1.5एम का डाटा केबल मेरे लिए बहुत ही लाभदायक है ।  मैं इस केबल को लाइन में चार्ज करते समय फोन बहुत आराम से उपयोग  कर पा रहा हु । आप इस केबल से 15watt का  चार्जर उसे कर सकते है (इससे जड़ा नही) । लोकल बाजार में इसका दाम 150 है ,  अमेजन पे ये केबल मुझे 67 में मिला । गर्व से कहो हम हिंदू है , जय हिंद जय भारत ,",
         "https://m.media-amazon.com/images/W/WEBP_402378-T2/images/I/41jlwEZpa5L._SX300_SY300_QL70_FMwebp_.jpg",
         "https://www.amazon.in/boAt-Micro-USB-Tangle-Free-Transmission/dp/B08WRWPM22/ref=sr_1_8?qid=1672909124&s=electronics&sr=1-8"
        ],
        [
         "B08DDRGWTJ",
         "MI Usb Type-C Cable Smartphone (Black)",
         "Computers&Accessories|Accessories&Peripherals|Cables&Accessories|Cables|USBCables",
         229.0,
         299.0,
         23.0,
         4.3,
         348.2177914110429,
         "1m long Type-C USB Cable|Sturdy and Durable. With USB cable you can transfer data with speeds of upto 480 Mbps|Upto 3A output|6months warranty|Sturdy and Durable. With USB cable you can transfer data with speeds of upto 480 Mbps|6months warranty|Up To 3A Output",
         "AHW6E5LQ2BDYOIVLAJGDH45J5V5Q,AF74RSGCHPZITVFSZN76K6GKPICA,AHDD7ZNB47QA2JLYU53HD4ML3VNQ,AHV3ELGDSOWBYUQLXSPDCSHBQRHQ,AEJU4L3ZM2GTILSJZZSNSF6VUOIA,AFVD66VQMSHPDT3A6HBBBGKRXBZA,AELKHQXVSSG6NHXLFJLLNEFRQQUQ,AGYSMAC6V6RFJJOHG2FIRPOZ6CSQ",
         "Pavan A H,Jayesh bagad,Shridhar,rajendran,karuppu k,Akshay wani,Abbimaniu Singh,VISHAL H BADSHE",
         "R2X090D1YHACKR,R32ZCIH9AFNJ60,R3N57EVVG0EHAF,R3QWLE8JHROKC1,R2VTSDOOUTSQ5X,R3E6FZ75Q074KH,R1SYBQLTPFCW20,RYQT96J8HPIXE",
         "Worth for money - suitable for Android auto,Good Product,Length,Nice,Original,Very good quay Cable support fast charging.,Original MI cable for charging upto 33 watt,I am veri happy with this product as it provide turbo charging.",
         "Worth for money - suitable for Android auto... my purpose served in car....got it for Rs.150,Everything is Okay. But packaging is not good feeling like seller gave is used cable.,Good product,Good product but cost is more.,Original cable,I bought this cable at 129. Using this cable for Android auto in my car. Perfectly works without any glitch.,Original MI cable. Will charge upto 33 watts. Got it for Rs 150.  I have 67 watt charger and I want a cable for my car so I went for it. I checked the performance with battery charging app. The charging speed is exactly half of my 67 watt original cable. Go for it.,It provided me turbo charging. I recommend for all Redmi note 10s mobile phones. As it provide turbo charging. I am veri happy with this product.",
         "https://m.media-amazon.com/images/I/31XO-wfGGGL._SX300_SY300_QL70_FMwebp_.jpg",
         "https://www.amazon.in/MI-MTCY001IN-USB-Type-C-Cable/dp/B08DDRGWTJ/ref=sr_1_9?qid=1672909124&s=electronics&sr=1-9"
        ],
        [
         "B008IFXQFU",
         "TP-Link USB WiFi Adapter for PC(TL-WN725N), N150 Wireless Network Adapter for Desktop - Nano Size WiFi Dongle Compatible with Windows 11/10/7/8/8.1/XP/ Mac OS 10.9-10.15 Linux Kernel 2.6.18-4.4.3",
         "Computers&Accessories|NetworkingDevices|NetworkAdapters|WirelessUSBAdapters",
         499.0,
         999.0,
         50.0,
         4.2,
         348.2177914110429,
         "USB WiFi Adapter —— Speedy wireless transmission at up to 150Mbps ideal for video streaming or internet calls|Mini Design —— Sleek miniature design so small that once plugged in, can be left in a Laptop’s USB port|Advanced Security —— Supports 64/128 WEP, WPA, PA2/WPA-PSK/WPA2-PSK(TKIP/AES)|Compatibility —— Windows 11/10/8.1/8/7/XP, Mac OS 10.15 and earlier, Linux|Easy Setup —— Connect in no time with easy setup utility in 14 languages|In an unlikely case of product quality related issue, we may ask you to reach out to brand’s customer service support and seek resolution. We will require brand proof of issue to process replacement request",
         "AGV3IEFANZCKECFGUM42MRH5FNOA,AEBO7NWCNXKT4AESAN443HQH35FQ,AE7GD3VRRYQEAHDR7FXJIR23INYA,AHPAW24BI5X2GCX5M2LHI72VSJJQ,AE2VXY4CFO36MDSIMPG43XHNF4GA,AHHQEKUNVETALN7DTRHUQ2WAWEKQ,AFMIFTNTUD5PIHGONWOTRMMZ5EBA,AHOJBIZVVIIFJKRREY4B6ESVA4KA",
         "Azhar JuMan,Anirudh Sood,Hari Krishnan PS,Akash Jindal,PRADEEP,Rajesh,Divya Kothari,abhijit",
         "R1LW6NWSVTVZ2H,R3VR5WFKUS15C5,R2F6GC79OYWUKQ,R3QZ19MECGWG9A,R2MPU42MYK7GPO,R33DVXFB4VYPZZ,R1SQ7OGFR4JRUR,R1S5F9QI0M1VBZ",
         "Works on linux for me. Get the model with antenna.,Does what it say but other brands available at lesser price,Easy Handle,Great product,Perfect working,Speed is perfect,Great Design, Build, Connectivity Range, Packaging and other features but no linux support since v2,Very good",
         "I use this to connect an old PC to internet. I tried lubuntu 20 and ubuntu 22, it worked out of the box in both, didn't have to do any setup. There's an extender cable so you can place this in a comfortable place. Get the model with antenna because otherwise you'll have range problems if you're not directly in line of sight from your wifi router.,The wifi dongle is a simple plug & play device, will start catching available networks right after you plug it into your USB port, no additional installations/ softwares requires. Signal strength is good.... just wonder what would be different in other adapters of lesser known brands which are available at a much more competitive pricing, hence a star less.,Pros:*Easy to use & Portable*Can be connected to Mobile Hotspot and used in PC( Budget Friendly)*Less installation process*No heating issues & Good Coverage*Best alternative for USB Tethering (phone's battery may get damaged for long term run with Tethering)Cons:*Internet connection speed varies at times, also depends on your modem or cellular connection*Issues occur while installing via CD, which is available along with the product( Installation driver can be downloaded from TP-Link site)*Needed to reconnect the adapter every time system is turned ON*Will not work if your software has some issues, so encountered any just update your system(worked for me)*Support Center is worse, calls are unattended most of the times or just visit nearby storeConclusion:Brought this @499/-Ideal for users who don't need very high speed internet usage,a good alternative for USB Tethering and are on Budge(1080p Youtube videos can be easily played with this without any interruptions),wifi connectivity is a great good result for me. however, some jitter problems did exist.,This is perfect device to connect wifi. Go for it.,This wifi adopter is good working,(Pictures attached)Size/Design:  ★ ★ ★ ★ ★Build Quality: ★ ★ ★ ★ ★Packaging:  ★ ★ ★ ★ ★Software:  ★ ★ ★ ★Speed:  ★ ★ ★ ★ ★Connectivity:  ★ ★ ★ ★ ★Experience:  ★ ★ ★ ★ ★Warranty:  ★ ★ ★ ★ ★Size and Design:The best part about this is that it is very compact in size and very sober and elegant in design. This is a big plus as it is easy plug in and use, add to it the good sober design.Build Quality:The build quality is undoubtedly superb. Just no qualms about that, at all. When held, it doesnt give off that cheap and flimsy product-like feeling. It is good sturdy with its build quality.Packaging:This part is also a big plus as the item was well cushioned and packaged with all the necessary items that ensured that no damage could have been caused to the product during transportation. This ensures that I as a customer have received something not damaged internally already.Software:This is actually good but not great part with the product.The good part is that a CD has been provided with it along with a manual.The not great part is that NO LINUX SUPPORT has been given from Version 2 onwards. This is bad, really.Speed:It easily supports net speeds upto 300 Mbps. Practically speaking, I have tested it at my home and it easily supports net speed of over 100-150 Mbps without a sigh.On testing I found that it did connect to 5GHz network, without any issue.Connectivity:Please mark its not feet its metres. Multiply metres x 3 to get the distance in feet.It easily connects to my laptop or phone from 7 metres across one room. So thats 21 feet. I mean even our old bluetooth used to connect to about 15 ft.So 20-25 feet is not at all an issue with this. This is the big plus I found with the product.Experience:From this point of view, so far except the linux non-compatibility issue, I found no other flaws with this product.So overall its a great product.Warranty:Its 3 years so I am assured that atleast for 3 years I am tension-free and not just 1 year, contrary to most electronic items today that only provide 1 year warranty with their items.,Best adapter I have bought ever. Works nicely seemless connectivity",
         "https://m.media-amazon.com/images/W/WEBP_402378-T2/images/I/31e6ElWRymL._SX300_SY300_QL70_FMwebp_.jpg",
         "https://www.amazon.in/TP-Link-TL-WN725N-150Mbps-Wireless-Adapter/dp/B008IFXQFU/ref=sr_1_10?qid=1672909124&s=electronics&sr=1-10"
        ],
        [
         "B082LZGK39",
         "Ambrane Unbreakable 60W / 3A Fast Charging 1.5m Braided Micro USB Cable for Smartphones, Tablets, Laptops & Other Micro USB Devices, 480Mbps Data Sync, Quick Charge 3.0 (RCM15, Black)",
         "Computers&Accessories|Accessories&Peripherals|Cables&Accessories|Cables|USBCables",
         199.0,
         299.0,
         33.0,
         4.0,
         348.2177914110429,
         "Universal Compatibility – It is compatible with all Micro USB enabled devices, be it an android smartphone, tablet, PC peripheral or any other micro USB compatible device|Unbreakable – Made of special braided outer with rugged interior bindings, it is ultra-durable cable that won’t be affected by daily rough usage|Ideal Length – It has ideal length of 1.5 meters which is neither too short like your typical 1meter cable or too long like a 2meters cable|Supports maximum 3A fast charging and 480 Mbps data transfer speed|6 Months manufacturer warranty from the date of purchase.",
         "AECPFYFQVRUWC3KGNLJIOREFP5LQ,AGYYVPDD7YG7FYNBXNGXZJT525AQ,AHONIZU3ICIEHQIGQ6R2VFRSBXOQ,AFPHD2CRPDZMWMBL7WXRSVYWS5JA,AEZ346GX3HJ4O4XNRPHCNHXQURMQ,AEPSWFPNECKO34PUC7I56ITGXR6Q,AHWVEHR5DYLVFTO2KF3IZATFQSWQ,AH4QT33M55677I7ISQOAKEQWACYQ",
         "ArdKn,Nirbhay kumar,Sagar Viswanathan,Asp,Placeholder,BharanI,sonia,Niam",
         "RGIQEG07R9HS2,R1SMWZQ86XIN8U,R2J3Y1WL29GWDE,RYGGS0M09S3KY,R17KQRUTAN5DKS,R3AAQGS6HP2QUK,R1HDNOG6TO2CCA,R3PHKXYA5AFEOU",
         "A Good Braided Cable for Your Type C Device,Good quality product from ambrane,Super cable,As,Good quality,Good product,its good,Good quality for the price but one issue with my unit",
         "I ordered this cable to connect my phone to Android Auto of car. The cable is really strong and the connection ports are really well made. I already has a Micro USB cable from Ambrane and it's still in good shape. I connected my phone to the car using the cable and it got connected well and no issues. I also connected it to the charging port and yes it has Fast Charging support.,It quality is good at this price and the main thing is that i didn't ever thought that this cable will be so long it's good one and charging power is too good and also supports fast charging,Value for money, with extra length👍,Good, working fine,Product quality is good,Good,very good,Bought for my daughter's old phone.Brand new cable it was not charging, I already repacked and requested for replacement.I checked again, and there was some green colour paste/fungus inside the micro USB connector. I cleaned with an alcoholic and starts working again.Checked the ampere of charging speed got around 1400ma-1500ma - not bad, came with braided 1.5m long cable, pretty impressive for the price.Can't blame the manufacturer.But quality issues by the distributor, they might have stored in very humid place.",
         "https://m.media-amazon.com/images/W/WEBP_402378-T2/images/I/31kj3q4SepL._SY445_SX342_QL70_FMwebp_.jpg",
         "https://www.amazon.in/Ambrane-Unbreakable-Charging-Braided-Android/dp/B082LZGK39/ref=sr_1_11?qid=1672909124&s=electronics&sr=1-11"
        ]
       ],
       "datasetInfos": [],
       "dbfsResultPath": null,
       "isJsonSchema": true,
       "metadata": {},
       "overflow": false,
       "plotOptions": {
        "customPlotOptions": {},
        "displayType": "table",
        "pivotAggregation": null,
        "pivotColumns": null,
        "xColumns": null,
        "yColumns": null
       },
       "removedWidgets": [],
       "schema": [
        {
         "metadata": "{}",
         "name": "product_id",
         "type": "\"string\""
        },
        {
         "metadata": "{}",
         "name": "product_name",
         "type": "\"string\""
        },
        {
         "metadata": "{}",
         "name": "category",
         "type": "\"string\""
        },
        {
         "metadata": "{}",
         "name": "discounted_price",
         "type": "\"double\""
        },
        {
         "metadata": "{}",
         "name": "actual_price",
         "type": "\"double\""
        },
        {
         "metadata": "{}",
         "name": "discount_percentage",
         "type": "\"double\""
        },
        {
         "metadata": "{}",
         "name": "rating",
         "type": "\"double\""
        },
        {
         "metadata": "{}",
         "name": "rating_count",
         "type": "\"double\""
        },
        {
         "metadata": "{}",
         "name": "about_product",
         "type": "\"string\""
        },
        {
         "metadata": "{}",
         "name": "user_id",
         "type": "\"string\""
        },
        {
         "metadata": "{}",
         "name": "user_name",
         "type": "\"string\""
        },
        {
         "metadata": "{}",
         "name": "review_id",
         "type": "\"string\""
        },
        {
         "metadata": "{}",
         "name": "review_title",
         "type": "\"string\""
        },
        {
         "metadata": "{}",
         "name": "review_content",
         "type": "\"string\""
        },
        {
         "metadata": "{}",
         "name": "img_link",
         "type": "\"string\""
        },
        {
         "metadata": "{}",
         "name": "product_link",
         "type": "\"string\""
        }
       ],
       "type": "table"
      }
     },
     "output_type": "display_data"
    }
   ],
   "source": [
    "%sql SELECT * FROM silver.name_basics LIMIT 10"
   ]
  },
  {
   "cell_type": "code",
   "execution_count": 0,
   "metadata": {
    "application/vnd.databricks.v1+cell": {
     "cellMetadata": {
      "byteLimit": 2048000,
      "implicitDf": true,
      "rowLimit": 10000
     },
     "inputWidgets": {},
     "nuid": "8577b0fb-d63b-4b72-b63c-e1435fb12218",
     "showTitle": false,
     "tableResultSettingsMap": {},
     "title": ""
    }
   },
   "outputs": [
    {
     "output_type": "display_data",
     "data": {
      "text/html": [
       "<style scoped>\n",
       "  .table-result-container {\n",
       "    max-height: 300px;\n",
       "    overflow: auto;\n",
       "  }\n",
       "  table, th, td {\n",
       "    border: 1px solid black;\n",
       "    border-collapse: collapse;\n",
       "  }\n",
       "  th, td {\n",
       "    padding: 5px;\n",
       "  }\n",
       "  th {\n",
       "    text-align: left;\n",
       "  }\n",
       "</style><div class='table-result-container'><table class='table-result'><thead style='background-color: white'><tr><th>count(1)</th></tr></thead><tbody><tr><td>1465</td></tr></tbody></table></div>"
      ]
     },
     "metadata": {
      "application/vnd.databricks.v1+output": {
       "addedWidgets": {},
       "aggData": [],
       "aggError": "",
       "aggOverflow": false,
       "aggSchema": [],
       "aggSeriesLimitReached": false,
       "aggType": "",
       "arguments": {},
       "columnCustomDisplayInfos": {},
       "data": [
        [
         1465
        ]
       ],
       "datasetInfos": [],
       "dbfsResultPath": null,
       "isJsonSchema": true,
       "metadata": {},
       "overflow": false,
       "plotOptions": {
        "customPlotOptions": {},
        "displayType": "table",
        "pivotAggregation": null,
        "pivotColumns": null,
        "xColumns": null,
        "yColumns": null
       },
       "removedWidgets": [],
       "schema": [
        {
         "metadata": "{\"__autoGeneratedAlias\":\"true\"}",
         "name": "count(1)",
         "type": "\"long\""
        }
       ],
       "type": "table"
      }
     },
     "output_type": "display_data"
    }
   ],
   "source": [
    "%sql SELECT COUNT(*) FROM silver.name_basics"
   ]
  },
  {
   "cell_type": "code",
   "execution_count": 0,
   "metadata": {
    "application/vnd.databricks.v1+cell": {
     "cellMetadata": {
      "byteLimit": 2048000,
      "implicitDf": true,
      "rowLimit": 10000
     },
     "inputWidgets": {},
     "nuid": "3b062a8b-8b1f-4cfd-aa15-e2f51be9dabc",
     "showTitle": false,
     "tableResultSettingsMap": {},
     "title": ""
    }
   },
   "outputs": [
    {
     "output_type": "display_data",
     "data": {
      "text/html": [
       "<style scoped>\n",
       "  .table-result-container {\n",
       "    max-height: 300px;\n",
       "    overflow: auto;\n",
       "  }\n",
       "  table, th, td {\n",
       "    border: 1px solid black;\n",
       "    border-collapse: collapse;\n",
       "  }\n",
       "  th, td {\n",
       "    padding: 5px;\n",
       "  }\n",
       "  th {\n",
       "    text-align: left;\n",
       "  }\n",
       "</style><div class='table-result-container'><table class='table-result'><thead style='background-color: white'><tr><th>product_id</th><th>average_rating</th></tr></thead><tbody><tr><td>B09ZHCJDP1</td><td>5.0</td></tr><tr><td>B0BQRJ3C47</td><td>5.0</td></tr><tr><td>B0BP7XLX48</td><td>5.0</td></tr><tr><td>B0B53DS4TF</td><td>4.8</td></tr><tr><td>B0BQ3K23Y1</td><td>4.8</td></tr><tr><td>B0BR4F878Q</td><td>4.8</td></tr><tr><td>B0BLC2BYPX</td><td>4.7</td></tr><tr><td>B0BP89YBC1</td><td>4.7</td></tr><tr><td>B0BM4KTNL1</td><td>4.7</td></tr><tr><td>B0BM9H2NY9</td><td>4.7</td></tr><tr><td>B09WN3SRC7</td><td>4.7</td></tr><tr><td>B0B23LW7NV</td><td>4.7</td></tr><tr><td>B07X2L5Z8C</td><td>4.6</td></tr><tr><td>B09JN37WBX</td><td>4.6</td></tr><tr><td>B0B9BXKBC7</td><td>4.6</td></tr><tr><td>B00SH18114</td><td>4.6</td></tr><tr><td>B00K57MR22</td><td>4.6</td></tr><tr><td>B00NFD0ETQ</td><td>4.6</td></tr><tr><td>B09XXZXQC1</td><td>4.6</td></tr><tr><td>B09P1MFKG1</td><td>4.6</td></tr><tr><td>B01J1CFO5I</td><td>4.6</td></tr><tr><td>B078JT7LTD</td><td>4.6</td></tr><tr><td>B0BJ966M5K</td><td>4.6</td></tr><tr><td>B01MQ2A86A</td><td>4.6</td></tr><tr><td>B0BN6M3TCM</td><td>4.6</td></tr><tr><td>B095RTJH1M</td><td>4.6</td></tr><tr><td>B08TGG316Z</td><td>4.6</td></tr><tr><td>B0B244R4KB</td><td>4.6</td></tr><tr><td>B088WCFPQF</td><td>4.5</td></tr><tr><td>B00NH11KIK</td><td>4.5</td></tr><tr><td>B0BMTZ4T1D</td><td>4.5</td></tr><tr><td>B0B694PXQJ</td><td>4.5</td></tr><tr><td>B08N6P8G5K</td><td>4.5</td></tr><tr><td>B07Y9PY6Y1</td><td>4.5</td></tr><tr><td>B0B86CDHL1</td><td>4.5</td></tr><tr><td>B0BMXMLSMM</td><td>4.5</td></tr><tr><td>B09BVCVTBC</td><td>4.5</td></tr><tr><td>B07TMCXRFV</td><td>4.5</td></tr><tr><td>B075S9FVRY</td><td>4.5</td></tr><tr><td>B08LT9BMPP</td><td>4.5</td></tr><tr><td>B071VNHMX2</td><td>4.5</td></tr><tr><td>B08FYB5HHK</td><td>4.5</td></tr><tr><td>B00KIE28X0</td><td>4.5</td></tr><tr><td>B094QZLJQ6</td><td>4.5</td></tr><tr><td>B00NH11PEY</td><td>4.5</td></tr><tr><td>B0BCVJ3PVP</td><td>4.5</td></tr><tr><td>B01MUAUOCX</td><td>4.5</td></tr><tr><td>B07G3YNLJB</td><td>4.5</td></tr><tr><td>B00P93X6EK</td><td>4.5</td></tr><tr><td>B086PXQ2R4</td><td>4.5</td></tr><tr><td>B071113J7M</td><td>4.5</td></tr><tr><td>B00LHZWD0C</td><td>4.5</td></tr><tr><td>B08WJ86PV2</td><td>4.5</td></tr><tr><td>B00LY12TH6</td><td>4.5</td></tr><tr><td>B08C4Z69LN</td><td>4.5</td></tr><tr><td>B086Q3QMFS</td><td>4.5</td></tr><tr><td>B0083T231O</td><td>4.5</td></tr><tr><td>B07R99NBVB</td><td>4.5</td></tr><tr><td>B0B9BD2YL4</td><td>4.5</td></tr><tr><td>B0148NPH9I</td><td>4.5</td></tr><tr><td>B004IO5BMQ</td><td>4.5</td></tr><tr><td>B08LW31NQ6</td><td>4.5</td></tr><tr><td>B0B2DD66GS</td><td>4.5</td></tr><tr><td>B07ZKD8T1Q</td><td>4.5</td></tr><tr><td>B0752LL57V</td><td>4.5</td></tr><tr><td>B0BJ6P3LSK</td><td>4.5</td></tr><tr><td>B08QW937WV</td><td>4.5</td></tr><tr><td>B09X7DY7Q4</td><td>4.5</td></tr><tr><td>B0B3G5XZN5</td><td>4.5</td></tr><tr><td>B08WLY8V9S</td><td>4.5</td></tr><tr><td>B083GKDRKR</td><td>4.5</td></tr><tr><td>B08461VC1Z</td><td>4.5</td></tr><tr><td>B0B8CHJLWJ</td><td>4.5</td></tr><tr><td>B0BNDD9TN6</td><td>4.5</td></tr><tr><td>B0BMM7R92G</td><td>4.5</td></tr><tr><td>B0765B3TH7</td><td>4.5</td></tr><tr><td>B00R1P3B4O</td><td>4.5</td></tr><tr><td>B014SZO90Y</td><td>4.5</td></tr><tr><td>B00V4BGDKU</td><td>4.5</td></tr><tr><td>B09LQQYNZQ</td><td>4.5</td></tr><tr><td>B00NNQMYNE</td><td>4.5</td></tr><tr><td>B08ZJDWTJ1</td><td>4.5</td></tr><tr><td>B0116MIKKC</td><td>4.5</td></tr><tr><td>B07RY2X9MP</td><td>4.5</td></tr><tr><td>B00NH13Q8W</td><td>4.5</td></tr><tr><td>B09C6HXFC1</td><td>4.5</td></tr><tr><td>B084MZYBTV</td><td>4.5</td></tr><tr><td>B0846D5CBP</td><td>4.5</td></tr><tr><td>B07Q4QV1DL</td><td>4.5</td></tr><tr><td>B084N18QZY</td><td>4.5</td></tr><tr><td>B088ZFJY82</td><td>4.5</td></tr><tr><td>B01DJJVFPC</td><td>4.5</td></tr><tr><td>B09TT6BFDX</td><td>4.5</td></tr><tr><td>B082T6GXS5</td><td>4.5</td></tr><tr><td>B01HJI0FS2</td><td>4.5</td></tr><tr><td>B00LZLQ624</td><td>4.5</td></tr><tr><td>B078HRR1XV</td><td>4.4</td></tr><tr><td>B09J4YQYX3</td><td>4.4</td></tr><tr><td>B073BRXPZX</td><td>4.4</td></tr><tr><td>B06XDKWLJH</td><td>4.4</td></tr><tr><td>B00GZLB57U</td><td>4.4</td></tr><tr><td>B0187F2IOK</td><td>4.4</td></tr><tr><td>B01DGVKBC6</td><td>4.4</td></tr><tr><td>B099SD8PRP</td><td>4.4</td></tr><tr><td>B07P681N66</td><td>4.4</td></tr><tr><td>B08GJ57MKL</td><td>4.4</td></tr><tr><td>B08GTYFC37</td><td>4.4</td></tr><tr><td>B018SJJ0GE</td><td>4.4</td></tr><tr><td>B08S6RKT4L</td><td>4.4</td></tr><tr><td>B0B7FJNSZR</td><td>4.4</td></tr><tr><td>B0B8ZM9RVV</td><td>4.4</td></tr><tr><td>B07VTFN6HM</td><td>4.4</td></tr><tr><td>B09MZ6WZ6V</td><td>4.4</td></tr><tr><td>B097RJ867P</td><td>4.4</td></tr><tr><td>B08Y5QJTVK</td><td>4.4</td></tr><tr><td>B08QDPB1SL</td><td>4.4</td></tr><tr><td>B00TI8E7BI</td><td>4.4</td></tr><tr><td>B00MUTWLW4</td><td>4.4</td></tr><tr><td>B0BPBG712X</td><td>4.4</td></tr><tr><td>B0B19VJXQZ</td><td>4.4</td></tr><tr><td>B07RZZ1QSW</td><td>4.4</td></tr><tr><td>B08WKCTFF3</td><td>4.4</td></tr><tr><td>B09CTWFV5W</td><td>4.4</td></tr><tr><td>B07KKJPTWB</td><td>4.4</td></tr><tr><td>B00J4YG0PC</td><td>4.4</td></tr><tr><td>B08LHTJTBB</td><td>4.4</td></tr><tr><td>B07JB2Y4SR</td><td>4.4</td></tr><tr><td>B00K32PEW4</td><td>4.4</td></tr><tr><td>B07Z1X6VFC</td><td>4.4</td></tr><tr><td>B00E3DVQFS</td><td>4.4</td></tr><tr><td>B072J83V9W</td><td>4.4</td></tr><tr><td>B075DB1F13</td><td>4.4</td></tr><tr><td>B078JBK4GX</td><td>4.4</td></tr><tr><td>B09SFRNKSR</td><td>4.4</td></tr><tr><td>B07DJ5KYDZ</td><td>4.4</td></tr><tr><td>B09W5XR9RT</td><td>4.4</td></tr><tr><td>B09TMZ1MF8</td><td>4.4</td></tr><tr><td>B00LHZW3XY</td><td>4.4</td></tr><tr><td>B09VGS66FV</td><td>4.4</td></tr><tr><td>B07XLCFSSN</td><td>4.4</td></tr><tr><td>B00TDD0YM4</td><td>4.4</td></tr><tr><td>B08BJN4MP3</td><td>4.4</td></tr><tr><td>B07D8VBYB4</td><td>4.4</td></tr><tr><td>B00N1U7JXM</td><td>4.4</td></tr><tr><td>B00LY1FN1K</td><td>4.4</td></tr><tr><td>B07P1BR7L8</td><td>4.4</td></tr><tr><td>B08WRKSF9D</td><td>4.4</td></tr><tr><td>B07R679HTT</td><td>4.4</td></tr><tr><td>B08GYG6T12</td><td>4.4</td></tr><tr><td>B07MKMFKPG</td><td>4.4</td></tr><tr><td>B07J2NGB69</td><td>4.4</td></tr><tr><td>B07W9KYT62</td><td>4.4</td></tr><tr><td>B08GM5S4CQ</td><td>4.4</td></tr><tr><td>B0747VDH9L</td><td>4.4</td></tr><tr><td>B01M5B0TPW</td><td>4.4</td></tr><tr><td>B07CVR2L5K</td><td>4.4</td></tr><tr><td>B07SY4C3TD</td><td>4.4</td></tr><tr><td>B014SZPBM4</td><td>4.4</td></tr><tr><td>B08L5HMJVW</td><td>4.4</td></tr><tr><td>B0BNXFDTZ2</td><td>4.4</td></tr><tr><td>B00LXTFMRS</td><td>4.4</td></tr><tr><td>B0B8SRZ5SV</td><td>4.4</td></tr><tr><td>B07RX14W1Q</td><td>4.4</td></tr><tr><td>B07L5L4GTB</td><td>4.4</td></tr><tr><td>B07WDKLDRX</td><td>4.4</td></tr><tr><td>B06XR9PR5X</td><td>4.4</td></tr><tr><td>B08VFF6JQ8</td><td>4.4</td></tr><tr><td>B01J8S6X2I</td><td>4.4</td></tr><tr><td>B07GVR9TG7</td><td>4.4</td></tr><tr><td>B0859M539M</td><td>4.4</td></tr><tr><td>B07M69276N</td><td>4.4</td></tr><tr><td>B07KSMBL2H</td><td>4.4</td></tr><tr><td>B01D5H8LDM</td><td>4.4</td></tr><tr><td>B014I8SX4Y</td><td>4.4</td></tr><tr><td>B07JPX9CR7</td><td>4.4</td></tr><tr><td>B08NCKT9FG</td><td>4.4</td></tr><tr><td>B09HCH3JZG</td><td>4.4</td></tr><tr><td>B074CWD7MS</td><td>4.4</td></tr><tr><td>B084N1BM9L</td><td>4.4</td></tr><tr><td>B0974H97TJ</td><td>4.4</td></tr><tr><td>B086JTMRYL</td><td>4.4</td></tr><tr><td>B006LW0WDQ</td><td>4.4</td></tr><tr><td>B084N133Y7</td><td>4.4</td></tr><tr><td>B075ZTJ9XR</td><td>4.4</td></tr><tr><td>B0BDYW3RN3</td><td>4.4</td></tr><tr><td>B01M72LILF</td><td>4.4</td></tr><tr><td>B08XXF5V6G</td><td>4.4</td></tr><tr><td>B014I8SSD0</td><td>4.4</td></tr><tr><td>B084MZXJNK</td><td>4.4</td></tr><tr><td>B00LVMTA2A</td><td>4.4</td></tr><tr><td>B08QJJCY2Q</td><td>4.4</td></tr><tr><td>B0BDYVC5TD</td><td>4.4</td></tr><tr><td>B07Q7561HD</td><td>4.4</td></tr><tr><td>B00LZLPYHW</td><td>4.4</td></tr><tr><td>B09FFK1PQG</td><td>4.4</td></tr><tr><td>B08L5FM4JC</td><td>4.4</td></tr><tr><td>B01J0XWYKQ</td><td>4.4</td></tr><tr><td>B01D5H90L4</td><td>4.4</td></tr><tr><td>B083342NKJ</td><td>4.4</td></tr><tr><td>B09VGKFM7Y</td><td>4.4</td></tr><tr><td>B084MZXJN6</td><td>4.4</td></tr><tr><td>B00GG59HU2</td><td>4.4</td></tr><tr><td>B08VF8V79P</td><td>4.4</td></tr><tr><td>B0B8SSC5D9</td><td>4.4</td></tr><tr><td>B0BP18W8TM</td><td>4.4</td></tr><tr><td>B0BDRVFDKP</td><td>4.4</td></tr><tr><td>B0BBW521YC</td><td>4.4</td></tr><tr><td>B0819HZPXL</td><td>4.4</td></tr><tr><td>B00AXHBBXU</td><td>4.4</td></tr><tr><td>B07ZR4S1G4</td><td>4.4</td></tr><tr><td>B0B25DJ352</td><td>4.3</td></tr><tr><td>B00LOD70SC</td><td>4.3</td></tr><tr><td>B07QMRHWJD</td><td>4.3</td></tr><tr><td>B0BCYQY9X5</td><td>4.3</td></tr><tr><td>B07DKZCZ89</td><td>4.3</td></tr><tr><td>B013B2WGT6</td><td>4.3</td></tr><tr><td>B09M8888DM</td><td>4.3</td></tr><tr><td>B08H6CZSHT</td><td>4.3</td></tr><tr><td>B08YD264ZS</td><td>4.3</td></tr><tr><td>B01NBX5RSB</td><td>4.3</td></tr><tr><td>B09XRBJ94N</td><td>4.3</td></tr><tr><td>B08CDKQ8T6</td><td>4.3</td></tr><tr><td>B08497Z1MQ</td><td>4.3</td></tr><tr><td>B08CHZ3ZQ7</td><td>4.3</td></tr><tr><td>B0798PJPCL</td><td>4.3</td></tr><tr><td>B01M265AAK</td><td>4.3</td></tr><tr><td>B01GGKYKQM</td><td>4.3</td></tr><tr><td>B0B3TBY2YX</td><td>4.3</td></tr><tr><td>B008QTK47Q</td><td>4.3</td></tr><tr><td>B017NC2IPM</td><td>4.3</td></tr><tr><td>B0759QMF85</td><td>4.3</td></tr><tr><td>B07KRCW6LZ</td><td>4.3</td></tr><tr><td>B07222HQKP</td><td>4.3</td></tr><tr><td>B0073QGKAS</td><td>4.3</td></tr><tr><td>B07Z1YVP72</td><td>4.3</td></tr><tr><td>B07P434WJY</td><td>4.3</td></tr><tr><td>B012ELCYUG</td><td>4.3</td></tr><tr><td>B09W9V2PXG</td><td>4.3</td></tr><tr><td>B07GMFY9QM</td><td>4.3</td></tr><tr><td>B09MTLG4TP</td><td>4.3</td></tr><tr><td>B08WKFSN84</td><td>4.3</td></tr><tr><td>B095XCRDQW</td><td>4.3</td></tr><tr><td>B08ZHYNTM1</td><td>4.3</td></tr><tr><td>B088GXTJM3</td><td>4.3</td></tr><tr><td>B076VQS87V</td><td>4.3</td></tr><tr><td>B09VKWGZD7</td><td>4.3</td></tr><tr><td>B082T6V3DT</td><td>4.3</td></tr><tr><td>B08H6B3G96</td><td>4.3</td></tr><tr><td>B07YNHCW6N</td><td>4.3</td></tr><tr><td>B00DJ5N9VK</td><td>4.3</td></tr><tr><td>B0BG62HMDJ</td><td>4.3</td></tr><tr><td>B00LM4W1N2</td><td>4.3</td></tr><tr><td>B0977CGNJJ</td><td>4.3</td></tr><tr><td>B09NS5TKPN</td><td>4.3</td></tr><tr><td>B07LDN9Q2P</td><td>4.3</td></tr><tr><td>B09CYTJV3N</td><td>4.3</td></tr><tr><td>B0811VCGL5</td><td>4.3</td></tr><tr><td>B08BQ947H3</td><td>4.3</td></tr><tr><td>B0BPBXNQQT</td><td>4.3</td></tr><tr><td>B07BRKK9JQ</td><td>4.3</td></tr><tr><td>B01EY310UM</td><td>4.3</td></tr><tr><td>B08K36NZSV</td><td>4.3</td></tr><tr><td>B09P182Z2H</td><td>4.3</td></tr><tr><td>B08JKPVDKL</td><td>4.3</td></tr><tr><td>B08S7V8YTN</td><td>4.3</td></tr><tr><td>B0B4SJKRDF</td><td>4.3</td></tr><tr><td>B099Z83VRC</td><td>4.3</td></tr><tr><td>B083P71WKK</td><td>4.3</td></tr><tr><td>B00LM4X0KU</td><td>4.3</td></tr><tr><td>B008LN8KDM</td><td>4.3</td></tr><tr><td>B078JDNZJ8</td><td>4.3</td></tr><tr><td>B077Z65HSD</td><td>4.3</td></tr><tr><td>B095X38CJS</td><td>4.3</td></tr><tr><td>B00S9BSJC8</td><td>4.3</td></tr><tr><td>B01LYU3BZF</td><td>4.3</td></tr><tr><td>B009UORDX4</td><td>4.3</td></tr><tr><td>B08498D67S</td><td>4.3</td></tr><tr><td>B00LM4X3XE</td><td>4.3</td></tr><tr><td>B0746N6WML</td><td>4.3</td></tr><tr><td>B08498H13H</td><td>4.3</td></tr><tr><td>B0B25LQQPC</td><td>4.3</td></tr><tr><td>B08Y5QJXSR</td><td>4.3</td></tr><tr><td>B01EZ0X3L8</td><td>4.3</td></tr><tr><td>B08XNL93PL</td><td>4.3</td></tr><tr><td>B08TTRVWKY</td><td>4.3</td></tr><tr><td>B086394NY5</td><td>4.3</td></tr><tr><td>B079S811J3</td><td>4.3</td></tr><tr><td>B08J82K4GX</td><td>4.3</td></tr><tr><td>B00ZRBWPA0</td><td>4.3</td></tr><tr><td>B01N4EV2TL</td><td>4.3</td></tr><tr><td>B08Y57TPDM</td><td>4.3</td></tr><tr><td>B09RF2QXGX</td><td>4.3</td></tr><tr><td>B07Z53L5QL</td><td>4.3</td></tr><tr><td>B086X18Q71</td><td>4.3</td></tr><tr><td>B07S7DCJKS</td><td>4.3</td></tr><tr><td>B09NNZ1GF7</td><td>4.3</td></tr><tr><td>B08QSC1XY8</td><td>4.3</td></tr><tr><td>B00VA7YYUO</td><td>4.3</td></tr><tr><td>B008FWZGSG</td><td>4.3</td></tr><tr><td>B078WB1VWJ</td><td>4.3</td></tr><tr><td>B01486F4G6</td><td>4.3</td></tr><tr><td>B008QS9J6Y</td><td>4.3</td></tr><tr><td>B07YL54NVJ</td><td>4.3</td></tr><tr><td>B07Z1Z77ZZ</td><td>4.3</td></tr><tr><td>B07F6GXNPB</td><td>4.3</td></tr><tr><td>B07FJNNZCJ</td><td>4.3</td></tr><tr><td>B01KCSGBU2</td><td>4.3</td></tr><tr><td>B0B3CQBRB4</td><td>4.3</td></tr><tr><td>B08CTNJ985</td><td>4.3</td></tr><tr><td>B084PJSSQ1</td><td>4.3</td></tr><tr><td>B0B15CPR37</td><td>4.3</td></tr><tr><td>B0B8ZKWGKD</td><td>4.3</td></tr><tr><td>B0926V9CTV</td><td>4.3</td></tr><tr><td>B098K3H92Z</td><td>4.3</td></tr><tr><td>B07WHSJXLF</td><td>4.3</td></tr><tr><td>B084872DQY</td><td>4.3</td></tr><tr><td>B09MT84WV5</td><td>4.3</td></tr><tr><td>B09F6S8BT6</td><td>4.3</td></tr><tr><td>B00NH12R1O</td><td>4.3</td></tr><tr><td>B0B3RRWSF6</td><td>4.3</td></tr><tr><td>B07SLMR1K6</td><td>4.3</td></tr><tr><td>B0B5V47VK4</td><td>4.3</td></tr><tr><td>B081FJWN52</td><td>4.3</td></tr><tr><td>B08H5L8V1L</td><td>4.3</td></tr><tr><td>B08MC57J31</td><td>4.3</td></tr><tr><td>B06XSK3XL6</td><td>4.3</td></tr><tr><td>B01D5H8ZI8</td><td>4.3</td></tr><tr><td>B07YTNKVJQ</td><td>4.3</td></tr><tr><td>B08XXVXP3J</td><td>4.3</td></tr><tr><td>B08RZ5K9YH</td><td>4.3</td></tr><tr><td>B08HVL8QN3</td><td>4.3</td></tr><tr><td>B0B3XY5YT4</td><td>4.3</td></tr><tr><td>B07WHS7MZ1</td><td>4.3</td></tr><tr><td>B0BMVWKZ8G</td><td>4.3</td></tr><tr><td>B07XCM6T4N</td><td>4.3</td></tr><tr><td>B07CWDX49D</td><td>4.3</td></tr><tr><td>B0B8VQ7KDS</td><td>4.3</td></tr><tr><td>B009VCGPSY</td><td>4.3</td></tr><tr><td>B08DPLCM6T</td><td>4.3</td></tr><tr><td>B0B61GCHC1</td><td>4.3</td></tr><tr><td>B0B16KD737</td><td>4.3</td></tr><tr><td>B07WFPMGQQ</td><td>4.3</td></tr><tr><td>B07GXHC691</td><td>4.3</td></tr><tr><td>B0B3D39RKV</td><td>4.3</td></tr><tr><td>B07KCMR8D6</td><td>4.3</td></tr><tr><td>B09YL9SN9B</td><td>4.3</td></tr><tr><td>B097C564GC</td><td>4.3</td></tr><tr><td>B0B997FBZT</td><td>4.3</td></tr><tr><td>B07CWNJLPC</td><td>4.3</td></tr><tr><td>B0BC9BW512</td><td>4.3</td></tr><tr><td>B09KGV7WSV</td><td>4.3</td></tr><tr><td>B092BL5DCX</td><td>4.3</td></tr><tr><td>B01N6LU1VF</td><td>4.3</td></tr><tr><td>B08HV83HL3</td><td>4.3</td></tr><tr><td>B08V9C4B1J</td><td>4.3</td></tr><tr><td>B07YZG8PPY</td><td>4.3</td></tr><tr><td>B0B2DJ5RVQ</td><td>4.3</td></tr><tr><td>B0819ZZK5K</td><td>4.3</td></tr><tr><td>B09MY4W73Q</td><td>4.3</td></tr><tr><td>B08CT62BM1</td><td>4.3</td></tr><tr><td>B003L62T7W</td><td>4.3</td></tr><tr><td>B0B3NDPCS9</td><td>4.3</td></tr><tr><td>B09BW334ML</td><td>4.3</td></tr><tr><td>B0B3N7LR6K</td><td>4.3</td></tr><tr><td>B0B5YBGCKD</td><td>4.3</td></tr><tr><td>B005FYNT3G</td><td>4.3</td></tr><tr><td>B07N42JB4S</td><td>4.3</td></tr><tr><td>B0B1NX6JTN</td><td>4.3</td></tr><tr><td>B09MT6XSFW</td><td>4.3</td></tr><tr><td>B00OFM6PEO</td><td>4.3</td></tr><tr><td>B07WDK3ZS2</td><td>4.3</td></tr><tr><td>B09XJ1LM7R</td><td>4.3</td></tr><tr><td>B0B1YVCJ2Y</td><td>4.3</td></tr><tr><td>B0B9XN9S3W</td><td>4.3</td></tr><tr><td>B08HVJCW95</td><td>4.3</td></tr><tr><td>B07B88KQZ8</td><td>4.3</td></tr><tr><td>B092BJMT8Q</td><td>4.3</td></tr><tr><td>B08NW8GHCJ</td><td>4.3</td></tr><tr><td>B081FG1QYX</td><td>4.3</td></tr><tr><td>B07PFJ5VQD</td><td>4.3</td></tr><tr><td>B0B3RS9DNF</td><td>4.3</td></tr><tr><td>B00ZYLMQH0</td><td>4.3</td></tr><tr><td>B0B15GSPQW</td><td>4.3</td></tr><tr><td>B07JJFSG2B</td><td>4.3</td></tr><tr><td>B0B21XL94T</td><td>4.3</td></tr><tr><td>B082T6GVLJ</td><td>4.3</td></tr><tr><td>B0B1YY6JJL</td><td>4.3</td></tr><tr><td>B09RWQ7YR6</td><td>4.3</td></tr><tr><td>B0B1YZX72F</td><td>4.3</td></tr><tr><td>B0B1YZ9CB8</td><td>4.3</td></tr><tr><td>B07PFJ5W31</td><td>4.3</td></tr><tr><td>B08CF3D7QR</td><td>4.3</td></tr><tr><td>B08PV1X771</td><td>4.3</td></tr><tr><td>B0B3CPQ5PF</td><td>4.3</td></tr><tr><td>B0981XSZJ7</td><td>4.3</td></tr><tr><td>B08QSDKFGQ</td><td>4.3</td></tr><tr><td>B0B9959XF3</td><td>4.3</td></tr><tr><td>B09DG9VNWB</td><td>4.3</td></tr><tr><td>B0B3XXSB1K</td><td>4.3</td></tr><tr><td>B015ZXUDD0</td><td>4.3</td></tr><tr><td>B08WKG2MWT</td><td>4.3</td></tr><tr><td>B09NNGHG22</td><td>4.3</td></tr><tr><td>B08M66K48D</td><td>4.3</td></tr><tr><td>B0BCKWZ884</td><td>4.3</td></tr><tr><td>B0B9XLX8VR</td><td>4.3</td></tr><tr><td>B0B3RSDSZ3</td><td>4.3</td></tr><tr><td>B09QGZM8QB</td><td>4.3</td></tr><tr><td>B09HSKYMB3</td><td>4.3</td></tr><tr><td>B071SDRGWL</td><td>4.3</td></tr><tr><td>B07TR5HSR9</td><td>4.3</td></tr><tr><td>B09GP6FBZT</td><td>4.3</td></tr><tr><td>B08DDRGWTJ</td><td>4.3</td></tr><tr><td>B0974G5Q2Y</td><td>4.3</td></tr><tr><td>B0BC8BQ432</td><td>4.3</td></tr><tr><td>B08PPHFXG3</td><td>4.3</td></tr><tr><td>B003B00484</td><td>4.3</td></tr><tr><td>B09JPC82QC</td><td>4.3</td></tr><tr><td>B09QGZFBPM</td><td>4.3</td></tr><tr><td>B09MJ77786</td><td>4.3</td></tr><tr><td>B01HGCLUH6</td><td>4.2</td></tr><tr><td>B07GLS2563</td><td>4.2</td></tr><tr><td>B01LY9W8AF</td><td>4.2</td></tr><tr><td>B01C8P29N0</td><td>4.2</td></tr><tr><td>B08MTLLSL8</td><td>4.2</td></tr><tr><td>B07VZYMQNZ</td><td>4.2</td></tr><tr><td>B00C3GBCIS</td><td>4.2</td></tr><tr><td>B078V8R9BS</td><td>4.2</td></tr><tr><td>B07NC12T2R</td><td>4.2</td></tr><tr><td>B00A7PLVU6</td><td>4.2</td></tr><tr><td>B078JF6X9B</td><td>4.2</td></tr><tr><td>B0085W2MUQ</td><td>4.2</td></tr><tr><td>B0B2PQL5N3</td><td>4.2</td></tr><tr><td>B082FTPRSK</td><td>4.2</td></tr><tr><td>B08HLC7Z3G</td><td>4.2</td></tr><tr><td>B00CEQEGPI</td><td>4.2</td></tr><tr><td>B00B3VFJY2</td><td>4.2</td></tr><tr><td>B00A328ENA</td><td>4.2</td></tr><tr><td>B09Z6WH2N1</td><td>4.2</td></tr><tr><td>B09TBCVJS3</td><td>4.2</td></tr><tr><td>B01LYLJ99X</td><td>4.2</td></tr><tr><td>B08243SKCK</td><td>4.2</td></tr><tr><td>B08H673XKN</td><td>4.2</td></tr><tr><td>B09M3F4HGB</td><td>4.2</td></tr><tr><td>B0756CLQWL</td><td>4.2</td></tr><tr><td>B08F47T4X5</td><td>4.2</td></tr><tr><td>B08SMJT55F</td><td>4.2</td></tr><tr><td>B0B9RN5X8B</td><td>4.2</td></tr><tr><td>B09474JWN6</td><td>4.2</td></tr><tr><td>B008YW8M0G</td><td>4.2</td></tr><tr><td>B08B6XWQ1C</td><td>4.2</td></tr><tr><td>B00EDJJ7FS</td><td>4.2</td></tr><tr><td>B0BDS8MY8J</td><td>4.2</td></tr><tr><td>B09MT94QLL</td><td>4.2</td></tr><tr><td>B0BJYSCWFQ</td><td>4.2</td></tr><tr><td>B08SJVD8QD</td><td>4.2</td></tr><tr><td>B07TC9F7PN</td><td>4.2</td></tr><tr><td>B08CRRQK6Z</td><td>4.2</td></tr><tr><td>B097R4D42G</td><td>4.2</td></tr><tr><td>B00935MGHS</td><td>4.2</td></tr><tr><td>B09FZ89DK6</td><td>4.2</td></tr><tr><td>B078W65FJ7</td><td>4.2</td></tr><tr><td>B07FXLC2G2</td><td>4.2</td></tr><tr><td>B07Y5FDPKV</td><td>4.2</td></tr><tr><td>B01KK0HU3Y</td><td>4.2</td></tr><tr><td>B09NBZ36F7</td><td>4.2</td></tr><tr><td>B08CTQP51L</td><td>4.2</td></tr><tr><td>B075K76YW1</td><td>4.2</td></tr><tr><td>B07WNK1FFN</td><td>4.2</td></tr><tr><td>B0883LQJ6B</td><td>4.2</td></tr><tr><td>B08PFSZ7FH</td><td>4.2</td></tr><tr><td>B07VV37FT4</td><td>4.2</td></tr><tr><td>B00HVXS7WC</td><td>4.2</td></tr><tr><td>B0BK1K598K</td><td>4.2</td></tr><tr><td>B08TR61BVK</td><td>4.2</td></tr><tr><td>B099S26HWG</td><td>4.2</td></tr><tr><td>B00KIDSU8S</td><td>4.2</td></tr><tr><td>B083RC4WFJ</td><td>4.2</td></tr><tr><td>B01F7B2JCI</td><td>4.2</td></tr><tr><td>B00F159RIK</td><td>4.2</td></tr><tr><td>B08KRMK9LZ</td><td>4.2</td></tr><tr><td>B08D64C9FN</td><td>4.2</td></tr><tr><td>B06XPYRWV5</td><td>4.2</td></tr><tr><td>B01C8P29T4</td><td>4.2</td></tr><tr><td>B07YCBSCYB</td><td>4.2</td></tr><tr><td>B07LDPLSZC</td><td>4.2</td></tr><tr><td>B097MKZHNV</td><td>4.2</td></tr><tr><td>B09PDZNSBG</td><td>4.2</td></tr><tr><td>B08Y7MXFMK</td><td>4.2</td></tr><tr><td>B09M869Z5V</td><td>4.2</td></tr><tr><td>B07H3N8RJH</td><td>4.2</td></tr><tr><td>B07D2NMTTV</td><td>4.2</td></tr><tr><td>B09ZK6THRR</td><td>4.2</td></tr><tr><td>B00EYW1U68</td><td>4.2</td></tr><tr><td>B07GVGTSLN</td><td>4.2</td></tr><tr><td>B072NCN9M4</td><td>4.2</td></tr><tr><td>B097R45BH8</td><td>4.2</td></tr><tr><td>B09C6HWG18</td><td>4.2</td></tr><tr><td>B0873L7J6X</td><td>4.2</td></tr><tr><td>B07S851WX5</td><td>4.2</td></tr><tr><td>B0B5GJRTHB</td><td>4.2</td></tr><tr><td>B09RKFBCV7</td><td>4.2</td></tr><tr><td>B09F9YQQ7B</td><td>4.2</td></tr><tr><td>B0B8XNPQPN</td><td>4.2</td></tr><tr><td>B01L7C4IU2</td><td>4.2</td></tr><tr><td>B00JBNZPFM</td><td>4.2</td></tr><tr><td>B01GGKZ0V6</td><td>4.2</td></tr><tr><td>B00P93X0VO</td><td>4.2</td></tr><tr><td>B088ZTJT2R</td><td>4.2</td></tr><tr><td>B00YQLG7GK</td><td>4.2</td></tr><tr><td>B07LFQLKFZ</td><td>4.2</td></tr><tr><td>B0B4DT8MKT</td><td>4.2</td></tr><tr><td>B0B2CWRDB1</td><td>4.2</td></tr><tr><td>B095K14P86</td><td>4.2</td></tr><tr><td>B07232M876</td><td>4.2</td></tr><tr><td>B01892MIPA</td><td>4.2</td></tr><tr><td>B0756KCV5K</td><td>4.2</td></tr><tr><td>B01MY839VW</td><td>4.2</td></tr><tr><td>B09N6TTHT6</td><td>4.2</td></tr><tr><td>B00H3H03Q4</td><td>4.2</td></tr><tr><td>B009P2L7CO</td><td>4.2</td></tr><tr><td>B0BL11S5QK</td><td>4.2</td></tr><tr><td>B0BF54LXW6</td><td>4.2</td></tr><tr><td>B00A0VCJPI</td><td>4.2</td></tr><tr><td>B0B8CXTTG3</td><td>4.2</td></tr><tr><td>B01M4GGIVU</td><td>4.2</td></tr><tr><td>B0BF563HB4</td><td>4.2</td></tr><tr><td>B002SZEOLG</td><td>4.2</td></tr><tr><td>B0718ZN31Q</td><td>4.2</td></tr><tr><td>B0BBMGLQDW</td><td>4.2</td></tr><tr><td>B09YV463SW</td><td>4.2</td></tr><tr><td>B0B9LDCX89</td><td>4.2</td></tr><tr><td>B01F25X6RQ</td><td>4.2</td></tr><tr><td>B09ZPJT8B2</td><td>4.2</td></tr><tr><td>B09HQSV46W</td><td>4.2</td></tr><tr><td>B075TJHWVC</td><td>4.2</td></tr><tr><td>B07MKFNHKG</td><td>4.2</td></tr><tr><td>B09Q5SWVBJ</td><td>4.2</td></tr><tr><td>B09CMQRQM6</td><td>4.2</td></tr><tr><td>B0BF54972T</td><td>4.2</td></tr><tr><td>B08VB2CMR3</td><td>4.2</td></tr><tr><td>B08L879JSN</td><td>4.2</td></tr><tr><td>B09YV3K34W</td><td>4.2</td></tr><tr><td>B09RFC46VP</td><td>4.2</td></tr><tr><td>B01M5967SY</td><td>4.2</td></tr><tr><td>B016MDK4F4</td><td>4.2</td></tr><tr><td>B07QZ3CZ48</td><td>4.2</td></tr><tr><td>B083RCTXLL</td><td>4.2</td></tr><tr><td>B01F262EUU</td><td>4.2</td></tr><tr><td>B0B3MWYCHQ</td><td>4.2</td></tr><tr><td>B09YV4MW2T</td><td>4.2</td></tr><tr><td>B08CS3BT4L</td><td>4.2</td></tr><tr><td>B08CYNJ5KY</td><td>4.2</td></tr><tr><td>B082T6GVG9</td><td>4.2</td></tr><tr><td>B07DWFX9YS</td><td>4.2</td></tr><tr><td>B0B6F7LX4C</td><td>4.2</td></tr><tr><td>B08G43CCLC</td><td>4.2</td></tr><tr><td>B084DTMYWK</td><td>4.2</td></tr><tr><td>B0B6F98KJJ</td><td>4.2</td></tr><tr><td>B09YHLPQYT</td><td>4.2</td></tr><tr><td>B01IBRHE3E</td><td>4.2</td></tr><tr><td>B07XLML2YS</td><td>4.2</td></tr><tr><td>B0BMGB3CH9</td><td>4.2</td></tr><tr><td>B08444S68L</td><td>4.2</td></tr><tr><td>B09VCHLSJF</td><td>4.2</td></tr><tr><td>B008IFXQFU</td><td>4.2</td></tr><tr><td>B07JH1C41D</td><td>4.2</td></tr><tr><td>B08FD2VSD9</td><td>4.2</td></tr><tr><td>B09DSXK8JX</td><td>4.2</td></tr><tr><td>B09X1M3DHX</td><td>4.2</td></tr><tr><td>B0971DWFDT</td><td>4.2</td></tr><tr><td>B00KXULGJQ</td><td>4.2</td></tr><tr><td>B09YV42QHZ</td><td>4.2</td></tr><tr><td>B09C6H53KH</td><td>4.2</td></tr><tr><td>B0BMGB2TPR</td><td>4.2</td></tr><tr><td>B07JNVF678</td><td>4.2</td></tr><tr><td>B09T3H12GV</td><td>4.2</td></tr><tr><td>B08Y55LPBF</td><td>4.2</td></tr><tr><td>B01GGKZ4NU</td><td>4.2</td></tr><tr><td>B0BMGG6NKT</td><td>4.2</td></tr><tr><td>B09PLD9TCD</td><td>4.2</td></tr><tr><td>B0BF57RN3K</td><td>4.2</td></tr><tr><td>B0BF4YBLPX</td><td>4.2</td></tr><tr><td>B085DTN6R2</td><td>4.2</td></tr><tr><td>B01L8ZNWN2</td><td>4.2</td></tr><tr><td>B098LCVYPW</td><td>4.2</td></tr><tr><td>B09YV4RG4D</td><td>4.2</td></tr><tr><td>B08HDJ86NZ</td><td>4.2</td></tr><tr><td>B08CF3B7N1</td><td>4.2</td></tr><tr><td>B0B61HYR92</td><td>4.2</td></tr><tr><td>B07MDRGHWQ</td><td>4.2</td></tr><tr><td>B085CZ3SR1</td><td>4.2</td></tr><tr><td>B08VB57558</td><td>4.2</td></tr><tr><td>B07LGT55SJ</td><td>4.2</td></tr><tr><td>B09XBJ1CTN</td><td>4.2</td></tr><tr><td>B06XFTHCNY</td><td>4.2</td></tr><tr><td>B0711PVX6Z</td><td>4.2</td></tr><tr><td>B08VB34KJ1</td><td>4.2</td></tr><tr><td>B09WRMNJ9G</td><td>4.2</td></tr><tr><td>B09L835C3V</td><td>4.2</td></tr><tr><td>B07924P3C5</td><td>4.2</td></tr><tr><td>B07JW9H4J1</td><td>4.2</td></tr><tr><td>B07JPJJZ2H</td><td>4.2</td></tr><tr><td>B07F1P8KNV</td><td>4.2</td></tr><tr><td>B0789LZTCJ</td><td>4.2</td></tr><tr><td>B09MQSCJQ1</td><td>4.2</td></tr><tr><td>B005LJQMCK</td><td>4.2</td></tr><tr><td>B08B42LWKN</td><td>4.2</td></tr><tr><td>B0088TKTY2</td><td>4.2</td></tr><tr><td>B07966M8XH</td><td>4.2</td></tr><tr><td>B09MM6P76N</td><td>4.2</td></tr><tr><td>B09T3KB6JZ</td><td>4.2</td></tr><tr><td>B07JH1CBGW</td><td>4.2</td></tr><tr><td>B0B8ZWNR5T</td><td>4.2</td></tr><tr><td>B09RMQYHLH</td><td>4.2</td></tr><tr><td>B07JGDB5M1</td><td>4.2</td></tr><tr><td>B09Q5P2MT3</td><td>4.2</td></tr><tr><td>B0B6F8HHR6</td><td>4.2</td></tr><tr><td>B0B8SSZ76F</td><td>4.2</td></tr><tr><td>B0B3MMYHYW</td><td>4.2</td></tr><tr><td>B005LJQMZC</td><td>4.2</td></tr><tr><td>B09HK9JH4F</td><td>4.2</td></tr><tr><td>B09J2MM5C6</td><td>4.2</td></tr><tr><td>B07JW1Y6XV</td><td>4.2</td></tr><tr><td>B08HDH26JX</td><td>4.2</td></tr><tr><td>B09BCNQ9R2</td><td>4.2</td></tr><tr><td>B07CRL2GY6</td><td>4.2</td></tr><tr><td>B0B2CPVXHX</td><td>4.1</td></tr><tr><td>B00LY17RHI</td><td>4.1</td></tr><tr><td>B08VJFYH6N</td><td>4.1</td></tr><tr><td>B07JGCGNDG</td><td>4.1</td></tr><tr><td>B0BFWGBX61</td><td>4.1</td></tr><tr><td>B01N6IJG0F</td><td>4.1</td></tr><tr><td>B009P2LITG</td><td>4.1</td></tr><tr><td>B07SPVMSC6</td><td>4.1</td></tr><tr><td>B097R2V1W8</td><td>4.1</td></tr><tr><td>B01M6453MB</td><td>4.1</td></tr><tr><td>B01NCVJMKX</td><td>4.1</td></tr><tr><td>B09KNMLH4Y</td><td>4.1</td></tr><tr><td>B09XHXXCFH</td><td>4.1</td></tr><tr><td>B092R48XXB</td><td>4.1</td></tr><tr><td>B09P22HXH6</td><td>4.1</td></tr><tr><td>B00SMFPJG0</td><td>4.1</td></tr><tr><td>B00B7GKXMG</td><td>4.1</td></tr><tr><td>B002PD61Y4</td><td>4.1</td></tr><tr><td>B06Y36JKC3</td><td>4.1</td></tr><tr><td>B07NPBG1B4</td><td>4.1</td></tr><tr><td>B09CKSYBLR</td><td>4.1</td></tr><tr><td>B08SKZ2RMG</td><td>4.1</td></tr><tr><td>B08J7VCT12</td><td>4.1</td></tr><tr><td>B01M0505SJ</td><td>4.1</td></tr><tr><td>B0BBWJFK5C</td><td>4.1</td></tr><tr><td>B086GVRP63</td><td>4.1</td></tr><tr><td>B08JD36C6H</td><td>4.1</td></tr><tr><td>B09FHHTL8L</td><td>4.1</td></tr><tr><td>B099FDW2ZF</td><td>4.1</td></tr><tr><td>B07W6VWZ8C</td><td>4.1</td></tr><tr><td>B07YFWVRCM</td><td>4.1</td></tr><tr><td>B09GFN8WZL</td><td>4.1</td></tr><tr><td>B00GHL8VP2</td><td>4.1</td></tr><tr><td>B09DL9978Y</td><td>4.1</td></tr><tr><td>B0123P3PWE</td><td>4.1</td></tr><tr><td>B083T5G5PM</td><td>4.1</td></tr><tr><td>B01GZSQJPA</td><td>4.1</td></tr><tr><td>B0B8CB7MHW</td><td>4.1</td></tr><tr><td>B09B9SPC7F</td><td>4.1</td></tr><tr><td>B07LFWP97N</td><td>4.1</td></tr><tr><td>B00YMJ0OI8</td><td>4.1</td></tr><tr><td>B08VGM3YMF</td><td>4.1</td></tr><tr><td>B00O24PUO6</td><td>4.1</td></tr><tr><td>B01LWYDEQ7</td><td>4.1</td></tr><tr><td>B09WMTJPG7</td><td>4.1</td></tr><tr><td>B08SBH499M</td><td>4.1</td></tr><tr><td>B07KNM95JK</td><td>4.1</td></tr><tr><td>B00PVT30YI</td><td>4.1</td></tr><tr><td>B00ABMASXG</td><td>4.1</td></tr><tr><td>B08235JZFB</td><td>4.1</td></tr><tr><td>B0BHYJ8CVF</td><td>4.1</td></tr><tr><td>B07W7Z6DVL</td><td>4.1</td></tr><tr><td>B07QHHCB27</td><td>4.1</td></tr><tr><td>B07F1T31ZZ</td><td>4.1</td></tr><tr><td>B00P93X2H6</td><td>4.1</td></tr><tr><td>B09VC2D2WG</td><td>4.1</td></tr><tr><td>B08GSQXLJ2</td><td>4.1</td></tr><tr><td>B0BDG6QDYD</td><td>4.1</td></tr><tr><td>B0B2DD8BQ8</td><td>4.1</td></tr><tr><td>B01MF8MB65</td><td>4.1</td></tr><tr><td>B01IOZUHRS</td><td>4.1</td></tr><tr><td>B09163Q5CD</td><td>4.1</td></tr><tr><td>B0949FPSFY</td><td>4.1</td></tr><tr><td>B08C7TYHPB</td><td>4.1</td></tr><tr><td>B07QDSN9V6</td><td>4.1</td></tr><tr><td>B00O2R38C4</td><td>4.1</td></tr><tr><td>B07N2MGB3G</td><td>4.1</td></tr><tr><td>B09J2SCVQT</td><td>4.1</td></tr><tr><td>B0188KPKB2</td><td>4.1</td></tr><tr><td>B097R3XH9R</td><td>4.1</td></tr><tr><td>B07SBGFDX9</td><td>4.1</td></tr><tr><td>B01L6MT7E0</td><td>4.1</td></tr><tr><td>B0B7NWGXS6</td><td>4.1</td></tr><tr><td>B09CMP1SC8</td><td>4.1</td></tr><tr><td>B098JYT4SY</td><td>4.1</td></tr><tr><td>B008YW3CYM</td><td>4.1</td></tr><tr><td>B08D6RCM3Q</td><td>4.1</td></tr><tr><td>B00P0R95EA</td><td>4.1</td></tr><tr><td>B07RCGTZ4M</td><td>4.1</td></tr><tr><td>B09Q8HMKZX</td><td>4.1</td></tr><tr><td>B07NCKMXVZ</td><td>4.1</td></tr><tr><td>B09BL2KHQW</td><td>4.1</td></tr><tr><td>B07F366Z51</td><td>4.1</td></tr><tr><td>B07W14CHV8</td><td>4.1</td></tr><tr><td>B09G2VTHQM</td><td>4.1</td></tr><tr><td>B01N1XVVLC</td><td>4.1</td></tr><tr><td>B08MZNT7GP</td><td>4.1</td></tr><tr><td>B09J2QCKKM</td><td>4.1</td></tr><tr><td>B09BN2NPBD</td><td>4.1</td></tr><tr><td>B0972BQ2RS</td><td>4.1</td></tr><tr><td>B07XJWTYM2</td><td>4.1</td></tr><tr><td>B07K2HVKLL</td><td>4.1</td></tr><tr><td>B01FSYQ2A4</td><td>4.1</td></tr><tr><td>B017PDR9N0</td><td>4.1</td></tr><tr><td>B08MVXPTDG</td><td>4.1</td></tr><tr><td>B01MRARGBW</td><td>4.1</td></tr><tr><td>B0B5RP43VN</td><td>4.1</td></tr><tr><td>B09RWZRCP1</td><td>4.1</td></tr><tr><td>B08MV82R99</td><td>4.1</td></tr><tr><td>B00SMJPA9C</td><td>4.1</td></tr><tr><td>B083RD1J99</td><td>4.1</td></tr><tr><td>B0763K5HLQ</td><td>4.1</td></tr><tr><td>B09FPP3R1D</td><td>4.1</td></tr><tr><td>B01CS4A5V4</td><td>4.1</td></tr><tr><td>B0B5ZF3NRK</td><td>4.1</td></tr><tr><td>B07B5XJ572</td><td>4.1</td></tr><tr><td>B0BBMPH39N</td><td>4.1</td></tr><tr><td>B00E9G8KOY</td><td>4.1</td></tr><tr><td>B09LD3116F</td><td>4.1</td></tr><tr><td>B07NKNBTT3</td><td>4.1</td></tr><tr><td>B08KS2KQTK</td><td>4.1</td></tr><tr><td>B09NTHQRW3</td><td>4.1</td></tr><tr><td>B07Z3K96FR</td><td>4.1</td></tr><tr><td>B09NC2TY11</td><td>4.1</td></tr><tr><td>B07H8W9PB6</td><td>4.1</td></tr><tr><td>B0085IATT6</td><td>4.1</td></tr><tr><td>B012MQS060</td><td>4.1</td></tr><tr><td>B091KNVNS9</td><td>4.1</td></tr><tr><td>B08JV91JTK</td><td>4.1</td></tr><tr><td>B094JB13XL</td><td>4.1</td></tr><tr><td>B00S2SEV7K</td><td>4.1</td></tr><tr><td>B08FGNPQ9X</td><td>4.1</td></tr><tr><td>B097XJQZ8H</td><td>4.1</td></tr><tr><td>B07GWTWFS2</td><td>4.1</td></tr><tr><td>B07MP21WJD</td><td>4.1</td></tr><tr><td>B09Y14JLP3</td><td>4.1</td></tr><tr><td>B00HZIOGXW</td><td>4.1</td></tr><tr><td>B08JMC1988</td><td>4.1</td></tr><tr><td>B08VGFX2B6</td><td>4.1</td></tr><tr><td>B09TWHTBKQ</td><td>4.1</td></tr><tr><td>B098QXR9X2</td><td>4.1</td></tr><tr><td>B08PSQRW2T</td><td>4.1</td></tr><tr><td>B09QS9X16F</td><td>4.1</td></tr><tr><td>B0B5LVS732</td><td>4.1</td></tr><tr><td>B0B4F52B5X</td><td>4.1</td></tr><tr><td>B0856HY85J</td><td>4.1</td></tr><tr><td>B07DFYJRQV</td><td>4.1</td></tr><tr><td>B07QCWY5XV</td><td>4.1</td></tr><tr><td>B00GE55L22</td><td>4.1</td></tr><tr><td>B08W56G1K9</td><td>4.1</td></tr><tr><td>B09Q8WQ5QJ</td><td>4.1</td></tr><tr><td>B07WDKLRM4</td><td>4.1</td></tr><tr><td>B09BNXQ6BR</td><td>4.1</td></tr><tr><td>B09KH58JZR</td><td>4.1</td></tr><tr><td>B07DC4RZPY</td><td>4.1</td></tr><tr><td>B07WGPKMP5</td><td>4.1</td></tr><tr><td>B0BD3T6Z1D</td><td>4.1</td></tr><tr><td>B0162K34H2</td><td>4.1</td></tr><tr><td>B099K9ZX65</td><td>4.1</td></tr><tr><td>B07PR1CL3S</td><td>4.1</td></tr><tr><td>B0B4F2XCK3</td><td>4.1</td></tr><tr><td>B096TWZRJC</td><td>4.1</td></tr><tr><td>B09QS9CWLV</td><td>4.1</td></tr><tr><td>B01DF26V7A</td><td>4.1</td></tr><tr><td>B09LHZSMRR</td><td>4.1</td></tr><tr><td>B09HV71RL1</td><td>4.1</td></tr><tr><td>B09SB6SJB4</td><td>4.1</td></tr><tr><td>B0B4F3QNDM</td><td>4.1</td></tr><tr><td>B07CD2BN46</td><td>4.1</td></tr><tr><td>B00UGZWM2I</td><td>4.1</td></tr><tr><td>B0BNV7JM5Y</td><td>4.1</td></tr><tr><td>B01LONQBDG</td><td>4.1</td></tr><tr><td>B09TWH8YHM</td><td>4.1</td></tr><tr><td>B08VS3YLRK</td><td>4.1</td></tr><tr><td>B09ZPL5VYM</td><td>4.1</td></tr><tr><td>B0B4F1YC3J</td><td>4.1</td></tr><tr><td>B08WRWPM22</td><td>4.1</td></tr><tr><td>B08PSVBB2X</td><td>4.1</td></tr><tr><td>B09F6VHQXB</td><td>4.1</td></tr><tr><td>B09GFLXVH9</td><td>4.1</td></tr><tr><td>B0B4F5L738</td><td>4.1</td></tr><tr><td>B071Z8M4KX</td><td>4.1</td></tr><tr><td>B095JQVC7N</td><td>4.1</td></tr><tr><td>B09LJ116B5</td><td>4.1</td></tr><tr><td>B09GFPN6TP</td><td>4.1</td></tr><tr><td>B09MKP344P</td><td>4.1</td></tr><tr><td>B07KY3FNQP</td><td>4.1</td></tr><tr><td>B09GFPVD9Y</td><td>4.1</td></tr><tr><td>B0B6BLTGTT</td><td>4.1</td></tr><tr><td>B09GFM8CGS</td><td>4.1</td></tr><tr><td>B08XMG618K</td><td>4.1</td></tr><tr><td>B07S9S86BF</td><td>4.1</td></tr><tr><td>B09QS9X9L8</td><td>4.1</td></tr><tr><td>B09KLVMZ3B</td><td>4.1</td></tr><tr><td>B095JPKPH3</td><td>4.1</td></tr><tr><td>B07RD611Z8</td><td>4.1</td></tr><tr><td>B09C6FML9B</td><td>4.1</td></tr><tr><td>B0B4F2ZWL3</td><td>4.1</td></tr><tr><td>B08H9Z3XQW</td><td>4.1</td></tr><tr><td>B07N8RQ6W7</td><td>4.1</td></tr><tr><td>B07WJV6P1R</td><td>4.1</td></tr><tr><td>B0B2X35B1K</td><td>4.1</td></tr><tr><td>B09VT6JKRP</td><td>4.1</td></tr><tr><td>B096VF5YYF</td><td>4.1</td></tr><tr><td>B0162LYSFS</td><td>4.1</td></tr><tr><td>B09RFB2SJQ</td><td>4.1</td></tr><tr><td>B09ZQK9X8G</td><td>4.1</td></tr><tr><td>B08CHKQ8D4</td><td>4.1</td></tr><tr><td>B083GQGT3Z</td><td>4.1</td></tr><tr><td>B0BB3CBFBM</td><td>4.1</td></tr><tr><td>B09LHYZ3GJ</td><td>4.1</td></tr><tr><td>B08MTCKDYN</td><td>4.1</td></tr><tr><td>B092X94QNQ</td><td>4.1</td></tr><tr><td>B09RX1FK54</td><td>4.1</td></tr><tr><td>B0B14MR9L1</td><td>4.1</td></tr><tr><td>B07WHQWXL7</td><td>4.1</td></tr><tr><td>B07WGPKTS4</td><td>4.1</td></tr><tr><td>B07GQD4K6L</td><td>4.1</td></tr><tr><td>B01DEWVZ2C</td><td>4.1</td></tr><tr><td>B0B4F4QZ1H</td><td>4.1</td></tr><tr><td>B0B296NTFV</td><td>4.1</td></tr><tr><td>B08TV2P1N8</td><td>4.1</td></tr><tr><td>B09QS8V5N8</td><td>4.1</td></tr><tr><td>B0B4F2TTTS</td><td>4.1</td></tr><tr><td>B07WDK3ZS6</td><td>4.1</td></tr><tr><td>B09ZPM4C2C</td><td>4.1</td></tr><tr><td>B07VSG5SXZ</td><td>4.1</td></tr><tr><td>B08WRBG3XW</td><td>4.1</td></tr><tr><td>B0B2C5MJN6</td><td>4.1</td></tr><tr><td>B07H1S7XW8</td><td>4.1</td></tr><tr><td>B015OW3M1W</td><td>4.1</td></tr><tr><td>B07GPXXNNG</td><td>4.1</td></tr><tr><td>B09VZBGL1N</td><td>4.1</td></tr><tr><td>B0BNVBJW2S</td><td>4.1</td></tr><tr><td>B08HLZ28QC</td><td>4.1</td></tr><tr><td>B08L12N5H1</td><td>4.096584699453552</td></tr><tr><td>B07X963JNS</td><td>4.0</td></tr><tr><td>B07YQ5SN4H</td><td>4.0</td></tr><tr><td>B08KDBLMQP</td><td>4.0</td></tr><tr><td>B083J64CBB</td><td>4.0</td></tr><tr><td>B082KVTRW8</td><td>4.0</td></tr><tr><td>B09YV575RK</td><td>4.0</td></tr><tr><td>B09Q3M3WLJ</td><td>4.0</td></tr><tr><td>B08J4PL1Z3</td><td>4.0</td></tr><tr><td>B07YSJ7FF1</td><td>4.0</td></tr><tr><td>B08MXJYB2V</td><td>4.0</td></tr><tr><td>B08HDCWDXD</td><td>4.0</td></tr><tr><td>B0B9RZ4G4W</td><td>4.0</td></tr><tr><td>B09CGLY5CX</td><td>4.0</td></tr><tr><td>B09H7JDJCW</td><td>4.0</td></tr><tr><td>B07Q4NJQC5</td><td>4.0</td></tr><tr><td>B09Z7YGV3R</td><td>4.0</td></tr><tr><td>B09939XJX8</td><td>4.0</td></tr><tr><td>B009P2LK08</td><td>4.0</td></tr><tr><td>B09LH32678</td><td>4.0</td></tr><tr><td>B00J5DYCCA</td><td>4.0</td></tr><tr><td>B07WKBD37W</td><td>4.0</td></tr><tr><td>B08TM71L54</td><td>4.0</td></tr><tr><td>B08MWJTST6</td><td>4.0</td></tr><tr><td>B07YR26BJ3</td><td>4.0</td></tr><tr><td>B07H3WDC4X</td><td>4.0</td></tr><tr><td>B0B2DZ5S6R</td><td>4.0</td></tr><tr><td>B08G8H8DPL</td><td>4.0</td></tr><tr><td>B089BDBDGM</td><td>4.0</td></tr><tr><td>B094DQWV9B</td><td>4.0</td></tr><tr><td>B0BPCJM7TB</td><td>4.0</td></tr><tr><td>B08MZQBFLN</td><td>4.0</td></tr><tr><td>B09YLXYP7Y</td><td>4.0</td></tr><tr><td>B08VGDBF3B</td><td>4.0</td></tr><tr><td>B08R69VDHT</td><td>4.0</td></tr><tr><td>B0949SBKMP</td><td>4.0</td></tr><tr><td>B09YLWT89W</td><td>4.0</td></tr><tr><td>B0B3X2BY3M</td><td>4.0</td></tr><tr><td>B078G6ZF5Z</td><td>4.0</td></tr><tr><td>B08WD18LJZ</td><td>4.0</td></tr><tr><td>B08RDWBYCQ</td><td>4.0</td></tr><tr><td>B07JZSG42Y</td><td>4.0</td></tr><tr><td>B00NM6MO26</td><td>4.0</td></tr><tr><td>B01M5F614J</td><td>4.0</td></tr><tr><td>B0814P4L98</td><td>4.0</td></tr><tr><td>B07T9FV9YP</td><td>4.0</td></tr><tr><td>B09KPXTZXN</td><td>4.0</td></tr><tr><td>B0989W6J2F</td><td>4.0</td></tr><tr><td>B083M7WPZD</td><td>4.0</td></tr><tr><td>B07VZH6ZBB</td><td>4.0</td></tr><tr><td>B07V82W5CN</td><td>4.0</td></tr><tr><td>B08L7J3T31</td><td>4.0</td></tr><tr><td>B09NL7LBWT</td><td>4.0</td></tr><tr><td>B09MFR93KS</td><td>4.0</td></tr><tr><td>B07NTKGW45</td><td>4.0</td></tr><tr><td>B094JNXNPV</td><td>4.0</td></tr><tr><td>B096NTB9XT</td><td>4.0</td></tr><tr><td>B00LP9RFSU</td><td>4.0</td></tr><tr><td>B0B4PPD89B</td><td>4.0</td></tr><tr><td>B07YY1BY5B</td><td>4.0</td></tr><tr><td>B07DZ986Q2</td><td>4.0</td></tr><tr><td>B09F6KL23R</td><td>4.0</td></tr><tr><td>B01M69WCZ6</td><td>4.0</td></tr><tr><td>B07G147SZD</td><td>4.0</td></tr><tr><td>B08K9PX15C</td><td>4.0</td></tr><tr><td>B0B2RBP83P</td><td>4.0</td></tr><tr><td>B07SRM58TP</td><td>4.0</td></tr><tr><td>B08HQL67D6</td><td>4.0</td></tr><tr><td>B09MKG4ZCM</td><td>4.0</td></tr><tr><td>B07BKSSDR2</td><td>4.0</td></tr><tr><td>B0BHVPTM2C</td><td>4.0</td></tr><tr><td>B075JJ5NQC</td><td>4.0</td></tr><tr><td>B07T4D9FNY</td><td>4.0</td></tr><tr><td>B09RZS1NQT</td><td>4.0</td></tr><tr><td>B07YWS9SP9</td><td>4.0</td></tr><tr><td>B00W56GLOQ</td><td>4.0</td></tr><tr><td>B095PWLLY6</td><td>4.0</td></tr><tr><td>B0994GFWBH</td><td>4.0</td></tr><tr><td>B07L9FW9GF</td><td>4.0</td></tr><tr><td>B07VX71FZP</td><td>4.0</td></tr><tr><td>B07S9M8YTY</td><td>4.0</td></tr><tr><td>B00LZPQVMK</td><td>4.0</td></tr><tr><td>B07WKB69RS</td><td>4.0</td></tr><tr><td>B09CMM3VGK</td><td>4.0</td></tr><tr><td>B09SJ1FTYV</td><td>4.0</td></tr><tr><td>B08HF4W2CT</td><td>4.0</td></tr><tr><td>B0B7B9V9QP</td><td>4.0</td></tr><tr><td>B09NVPJ3P4</td><td>4.0</td></tr><tr><td>B00RGLI0ZS</td><td>4.0</td></tr><tr><td>B08R69WBN7</td><td>4.0</td></tr><tr><td>B09NVPSCQT</td><td>4.0</td></tr><tr><td>B097R25DP7</td><td>4.0</td></tr><tr><td>B0BLV1GNLN</td><td>4.0</td></tr><tr><td>B094YFFSMY</td><td>4.0</td></tr><tr><td>B09JS94MBV</td><td>4.0</td></tr><tr><td>B0BBN56J5H</td><td>4.0</td></tr><tr><td>B07WG8PDCW</td><td>4.0</td></tr><tr><td>B09YDFDVNS</td><td>4.0</td></tr><tr><td>B082LZGK39</td><td>4.0</td></tr><tr><td>B076B8G5D8</td><td>4.0</td></tr><tr><td>B09PNKXSKF</td><td>4.0</td></tr><tr><td>B08JW1GVS7</td><td>4.0</td></tr><tr><td>B07GNC2592</td><td>4.0</td></tr><tr><td>B0BBN4DZBD</td><td>4.0</td></tr><tr><td>B09V2Q4QVQ</td><td>4.0</td></tr><tr><td>B089WB69Y1</td><td>4.0</td></tr><tr><td>B08G1RW2Q3</td><td>4.0</td></tr><tr><td>B09NHVCHS9</td><td>4.0</td></tr><tr><td>B08FN6WGDQ</td><td>4.0</td></tr><tr><td>B09NJN8L25</td><td>4.0</td></tr><tr><td>B09YLX91QR</td><td>4.0</td></tr><tr><td>B09NKZXMWJ</td><td>4.0</td></tr><tr><td>B09XB7DPW1</td><td>4.0</td></tr><tr><td>B0758F7KK7</td><td>4.0</td></tr><tr><td>B082LSVT4B</td><td>4.0</td></tr><tr><td>B0BBN3WF7V</td><td>4.0</td></tr><tr><td>B00Y4ORQ46</td><td>4.0</td></tr><tr><td>B08HV25BBQ</td><td>4.0</td></tr><tr><td>B09C635BMM</td><td>4.0</td></tr><tr><td>B0B3MQXNFB</td><td>4.0</td></tr><tr><td>B09G5TSGXV</td><td>4.0</td></tr><tr><td>B098NS6PVG</td><td>4.0</td></tr><tr><td>B0978V2CP6</td><td>4.0</td></tr><tr><td>B09GB5B4BK</td><td>4.0</td></tr><tr><td>B09FKDH6FS</td><td>4.0</td></tr><tr><td>B09YDFKJF8</td><td>4.0</td></tr><tr><td>B09V2PZDX8</td><td>4.0</td></tr><tr><td>B07DL1KC3H</td><td>4.0</td></tr><tr><td>B09XX51X2G</td><td>4.0</td></tr><tr><td>B09JKNF147</td><td>4.0</td></tr><tr><td>B09PNR6F8Q</td><td>4.0</td></tr><tr><td>B09YLYB9PB</td><td>4.0</td></tr><tr><td>B0856HNMR7</td><td>4.0</td></tr><tr><td>B08PZ6HZLT</td><td>4.0</td></tr><tr><td>B0B3N8VG24</td><td>4.0</td></tr><tr><td>B09TP5KBN7</td><td>4.0</td></tr><tr><td>B09XB8GFBQ</td><td>4.0</td></tr><tr><td>B09NL4DJ2Z</td><td>4.0</td></tr><tr><td>B08G28Z33M</td><td>4.0</td></tr><tr><td>B08L4SBJRY</td><td>4.0</td></tr><tr><td>B07VJ9ZTXS</td><td>4.0</td></tr><tr><td>B08DCVRW98</td><td>4.0</td></tr><tr><td>B0B5F3YZY4</td><td>4.0</td></tr><tr><td>B09MZCQYHZ</td><td>4.0</td></tr><tr><td>B09JS562TP</td><td>4.0</td></tr><tr><td>B07WJWRNVK</td><td>4.0</td></tr><tr><td>B07WHQBZLS</td><td>4.0</td></tr><tr><td>B07WGMMQGP</td><td>4.0</td></tr><tr><td>B08N1WL9XW</td><td>4.0</td></tr><tr><td>B08P9RYPLR</td><td>4.0</td></tr><tr><td>B0BCZCQTJX</td><td>4.0</td></tr><tr><td>B09P858DK8</td><td>4.0</td></tr><tr><td>B09XB7SRQ5</td><td>4.0</td></tr><tr><td>B085HY1DGR</td><td>4.0</td></tr><tr><td>B0B4G2MWSB</td><td>4.0</td></tr><tr><td>B0993BB11X</td><td>4.0</td></tr><tr><td>B09HN7LD5L</td><td>4.0</td></tr><tr><td>B07DJLFMPS</td><td>4.0</td></tr><tr><td>B08CYPB15D</td><td>4.0</td></tr><tr><td>B07KSB1MLX</td><td>4.0</td></tr><tr><td>B077BTLQ67</td><td>3.9</td></tr><tr><td>B08QHLXWV3</td><td>3.9</td></tr><tr><td>B07SYYVP69</td><td>3.9</td></tr><tr><td>B09Z28BQZT</td><td>3.9</td></tr><tr><td>B09JFR8H3Q</td><td>3.9</td></tr><tr><td>B07WGPBXY9</td><td>3.9</td></tr><tr><td>B01I1LDZGA</td><td>3.9</td></tr><tr><td>B0BHNHMR3H</td><td>3.9</td></tr><tr><td>B01MQZ7J8K</td><td>3.9</td></tr><tr><td>B081RLM75M</td><td>3.9</td></tr><tr><td>B09GBBJV72</td><td>3.9</td></tr><tr><td>B08CZHGHKH</td><td>3.9</td></tr><tr><td>B06XMZV7RH</td><td>3.9</td></tr><tr><td>B07VQGVL68</td><td>3.9</td></tr><tr><td>B07RX42D3D</td><td>3.9</td></tr><tr><td>B085LPT5F4</td><td>3.9</td></tr><tr><td>B07L3NDN24</td><td>3.9</td></tr><tr><td>B09ZDVL7L8</td><td>3.9</td></tr><tr><td>B09XTQFFCG</td><td>3.9</td></tr><tr><td>B00BN5SNF0</td><td>3.9</td></tr><tr><td>B014HDJ7ZE</td><td>3.9</td></tr><tr><td>B00LUGTJGO</td><td>3.9</td></tr><tr><td>B09F3PDDRF</td><td>3.9</td></tr><tr><td>B0762HXMTF</td><td>3.9</td></tr><tr><td>B0B4HJNPV4</td><td>3.9</td></tr><tr><td>B09H3BXWTK</td><td>3.9</td></tr><tr><td>B08BCKN299</td><td>3.9</td></tr><tr><td>B09SPTNG58</td><td>3.9</td></tr><tr><td>B0B2DJDCPX</td><td>3.9</td></tr><tr><td>B00V9NHDI4</td><td>3.9</td></tr><tr><td>B08SCCG9D4</td><td>3.9</td></tr><tr><td>B0756K5DYZ</td><td>3.9</td></tr><tr><td>B08FY4FG5X</td><td>3.9</td></tr><tr><td>B08YRMBK9R</td><td>3.9</td></tr><tr><td>B07GLSKXS1</td><td>3.9</td></tr><tr><td>B09N3BFP4M</td><td>3.9</td></tr><tr><td>B078HG2ZPS</td><td>3.9</td></tr><tr><td>B09KRHXTLN</td><td>3.9</td></tr><tr><td>B09MQ9PDHR</td><td>3.9</td></tr><tr><td>B07WMS7TWB</td><td>3.9</td></tr><tr><td>B09DSQXCM8</td><td>3.9</td></tr><tr><td>B091JF2TFD</td><td>3.9</td></tr><tr><td>B015GX9Y0W</td><td>3.9</td></tr><tr><td>B07VNFP3C2</td><td>3.9</td></tr><tr><td>B07ZJND9B9</td><td>3.9</td></tr><tr><td>B07WJXCTG9</td><td>3.9</td></tr><tr><td>B07YC8JHMB</td><td>3.9</td></tr><tr><td>B0883KDSXC</td><td>3.9</td></tr><tr><td>B08W9BK4MD</td><td>3.9</td></tr><tr><td>B07SLNG3LW</td><td>3.9</td></tr><tr><td>B08WWKM5HQ</td><td>3.9</td></tr><tr><td>B0B1MDZV9C</td><td>3.9</td></tr><tr><td>B08LVVTGZK</td><td>3.9</td></tr><tr><td>B09SZ5TWHW</td><td>3.9</td></tr><tr><td>B07TXCY3YK</td><td>3.9</td></tr><tr><td>B016XVRKZM</td><td>3.9</td></tr><tr><td>B0BNDRK886</td><td>3.9</td></tr><tr><td>B07DGD4Z4C</td><td>3.9</td></tr><tr><td>B0BCKJJN8R</td><td>3.9</td></tr><tr><td>B008P7IF02</td><td>3.9</td></tr><tr><td>B01JOFKL0A</td><td>3.9</td></tr><tr><td>B09T2WRLJJ</td><td>3.9</td></tr><tr><td>B07JQKQ91F</td><td>3.9</td></tr><tr><td>B09PLFJ7ZW</td><td>3.9</td></tr><tr><td>B0B3RHX6B6</td><td>3.9</td></tr><tr><td>B09Y5MP7C4</td><td>3.9</td></tr><tr><td>B09T37CKQ5</td><td>3.9</td></tr><tr><td>B071VMP1Z4</td><td>3.9</td></tr><tr><td>B09NY6TRXG</td><td>3.9</td></tr><tr><td>B0B4HKH19N</td><td>3.9</td></tr><tr><td>B08H21B6V7</td><td>3.9</td></tr><tr><td>B0B217Z5VK</td><td>3.9</td></tr><tr><td>B08Y1SJVV5</td><td>3.9</td></tr><tr><td>B08Y1TFSP6</td><td>3.9</td></tr><tr><td>B09N3ZNHTY</td><td>3.9</td></tr><tr><td>B0B466C3G4</td><td>3.9</td></tr><tr><td>B09X79PP8F</td><td>3.9</td></tr><tr><td>B096MSW6CT</td><td>3.9</td></tr><tr><td>B07HZ2QCGR</td><td>3.9</td></tr><tr><td>B0BBFJ9M3X</td><td>3.9</td></tr><tr><td>B07KR5P3YD</td><td>3.9</td></tr><tr><td>B0B31BYXQQ</td><td>3.9</td></tr><tr><td>B09T39K9YL</td><td>3.9</td></tr><tr><td>B088Z1YWBC</td><td>3.9</td></tr><tr><td>B08D77XZX5</td><td>3.9</td></tr><tr><td>B0B65MJ45G</td><td>3.9</td></tr><tr><td>B081NHWT6Z</td><td>3.9</td></tr><tr><td>B087JWLZ2K</td><td>3.9</td></tr><tr><td>B09XJ5LD6L</td><td>3.9</td></tr><tr><td>B09MMD1FDN</td><td>3.9</td></tr><tr><td>B07TCN5VR9</td><td>3.9</td></tr><tr><td>B0B12K5BPM</td><td>3.9</td></tr><tr><td>B086WMSCN3</td><td>3.9</td></tr><tr><td>B08RWCZ6SY</td><td>3.9</td></tr><tr><td>B09PTT8DZF</td><td>3.9</td></tr><tr><td>B00GGGOYEU</td><td>3.9</td></tr><tr><td>B0B4T8RSJ1</td><td>3.9</td></tr><tr><td>B09NL4DCXK</td><td>3.9</td></tr><tr><td>B09T2S8X9C</td><td>3.9</td></tr><tr><td>B08LPJZSSW</td><td>3.9</td></tr><tr><td>B09P18XVW6</td><td>3.9</td></tr><tr><td>B0746JGVDS</td><td>3.9</td></tr><tr><td>B0B4T6MR8N</td><td>3.9</td></tr><tr><td>B07YNTJ8ZM</td><td>3.9</td></tr><tr><td>B09JSW16QD</td><td>3.9</td></tr><tr><td>B09V175NP7</td><td>3.9</td></tr><tr><td>B0B65P827P</td><td>3.9</td></tr><tr><td>B08Y5KXR6Z</td><td>3.9</td></tr><tr><td>B09V12K8NT</td><td>3.9</td></tr><tr><td>B09BW2GP18</td><td>3.9</td></tr><tr><td>B00N1U9AJS</td><td>3.9</td></tr><tr><td>B09V17S2BG</td><td>3.9</td></tr><tr><td>B08YXJJW8H</td><td>3.9</td></tr><tr><td>B0BBFJLP21</td><td>3.9</td></tr><tr><td>B09VL9KFDB</td><td>3.8</td></tr><tr><td>B08X77LM8C</td><td>3.8</td></tr><tr><td>B07JF9B592</td><td>3.8</td></tr><tr><td>B08CFJBZRK</td><td>3.8</td></tr><tr><td>B07Z51CGGH</td><td>3.8</td></tr><tr><td>B07LG96SDB</td><td>3.8</td></tr><tr><td>B09NNHFSSF</td><td>3.8</td></tr><tr><td>B07TTSS5MP</td><td>3.8</td></tr><tr><td>B091V8HK8Z</td><td>3.8</td></tr><tr><td>B0B2CZTCL2</td><td>3.8</td></tr><tr><td>B00H0B29DI</td><td>3.8</td></tr><tr><td>B078KRFWQB</td><td>3.8</td></tr><tr><td>B09X5C9VLK</td><td>3.8</td></tr><tr><td>B0832W3B7Q</td><td>3.8</td></tr><tr><td>B09GYBZPHF</td><td>3.8</td></tr><tr><td>B08CNLYKW5</td><td>3.8</td></tr><tr><td>B08TDJ5BVF</td><td>3.8</td></tr><tr><td>B00N3XLDW0</td><td>3.8</td></tr><tr><td>B071R3LHFM</td><td>3.8</td></tr><tr><td>B09SDDQQKP</td><td>3.8</td></tr><tr><td>B098R25TGC</td><td>3.8</td></tr><tr><td>B00NW4UWN6</td><td>3.8</td></tr><tr><td>B00KRCBA6E</td><td>3.8</td></tr><tr><td>B09HS1NDRQ</td><td>3.8</td></tr><tr><td>B09VPH38JS</td><td>3.8</td></tr><tr><td>B07K19NYZ8</td><td>3.8</td></tr><tr><td>B09LQH3SD9</td><td>3.8</td></tr><tr><td>B07NRTCDS5</td><td>3.8</td></tr><tr><td>B0BGPN4GGH</td><td>3.8</td></tr><tr><td>B08MVSGXMY</td><td>3.8</td></tr><tr><td>B0912WJ87V</td><td>3.8</td></tr><tr><td>B094G9L9LT</td><td>3.8</td></tr><tr><td>B01GFTEV5Y</td><td>3.8</td></tr><tr><td>B08K4PSZ3V</td><td>3.8</td></tr><tr><td>B0B935YNR7</td><td>3.8</td></tr><tr><td>B0B84KSH3X</td><td>3.8</td></tr><tr><td>B078XFKBZL</td><td>3.8</td></tr><tr><td>B09H34V36W</td><td>3.8</td></tr><tr><td>B07DXRGWDJ</td><td>3.8</td></tr><tr><td>B07WVQG8WZ</td><td>3.8</td></tr><tr><td>B0BDZWMGZ1</td><td>3.8</td></tr><tr><td>B09P564ZTJ</td><td>3.8</td></tr><tr><td>B099PR2GQJ</td><td>3.8</td></tr><tr><td>B0814ZY6FP</td><td>3.8</td></tr><tr><td>B09F5Z694W</td><td>3.8</td></tr><tr><td>B07W4HTS8Q</td><td>3.8</td></tr><tr><td>B07Y1RCCW5</td><td>3.8</td></tr><tr><td>B08KHM9VBJ</td><td>3.8</td></tr><tr><td>B09MDCZJXS</td><td>3.8</td></tr><tr><td>B09CTRPSJR</td><td>3.8</td></tr><tr><td>B0B5DDJNH4</td><td>3.8</td></tr><tr><td>B09NR6G588</td><td>3.8</td></tr><tr><td>B093ZNQZ2Y</td><td>3.8</td></tr><tr><td>B00GGGOYEK</td><td>3.8</td></tr><tr><td>B09VH568H7</td><td>3.8</td></tr><tr><td>B0B1F6GQPS</td><td>3.8</td></tr><tr><td>B0B467CCB9</td><td>3.8</td></tr><tr><td>B09127FZCK</td><td>3.8</td></tr><tr><td>B08TDJNM3G</td><td>3.8</td></tr><tr><td>B0B5B6PQCT</td><td>3.8</td></tr><tr><td>B09L8DT7D6</td><td>3.8</td></tr><tr><td>B098TV3L96</td><td>3.8</td></tr><tr><td>B09PL79D2X</td><td>3.8</td></tr><tr><td>B08PKBMJKS</td><td>3.8</td></tr><tr><td>B079Y6JZC8</td><td>3.8</td></tr><tr><td>B09NY7W8YD</td><td>3.8</td></tr><tr><td>B07L8KNP5F</td><td>3.8</td></tr><tr><td>B0841KQR1Z</td><td>3.8</td></tr><tr><td>B0BD92GDQH</td><td>3.8</td></tr><tr><td>B06XGWRKYT</td><td>3.8</td></tr><tr><td>B08JQN8DGZ</td><td>3.8</td></tr><tr><td>B09BF8JBWX</td><td>3.8</td></tr><tr><td>B09LRZYBH1</td><td>3.8</td></tr><tr><td>B08ZN4B121</td><td>3.8</td></tr><tr><td>B08K4RDQ71</td><td>3.8</td></tr><tr><td>B08MCD9JFY</td><td>3.8</td></tr><tr><td>B0B56YRBNT</td><td>3.8</td></tr><tr><td>B07LG59NPV</td><td>3.8</td></tr><tr><td>B0B21C4BMX</td><td>3.8</td></tr><tr><td>B08CF4SCNP</td><td>3.8</td></tr><tr><td>B0B54Y2SNX</td><td>3.8</td></tr><tr><td>B0B5CGTBKV</td><td>3.8</td></tr><tr><td>B08BG4M4N7</td><td>3.8</td></tr><tr><td>B0B5D39BCD</td><td>3.8</td></tr><tr><td>B07GLNJC25</td><td>3.7</td></tr><tr><td>B09Y5FZK9N</td><td>3.7</td></tr><tr><td>B081B1JL35</td><td>3.7</td></tr><tr><td>B0B61DSF17</td><td>3.7</td></tr><tr><td>B09R83SFYV</td><td>3.7</td></tr><tr><td>B082ZQ4479</td><td>3.7</td></tr><tr><td>B0B31FR4Y2</td><td>3.7</td></tr><tr><td>B086199CWG</td><td>3.7</td></tr><tr><td>B00935MD1C</td><td>3.7</td></tr><tr><td>B098T9CJVQ</td><td>3.7</td></tr><tr><td>B08S74GTBT</td><td>3.7</td></tr><tr><td>B0BNQMF152</td><td>3.7</td></tr><tr><td>B0B5KZ3C53</td><td>3.7</td></tr><tr><td>B0814LP6S9</td><td>3.7</td></tr><tr><td>B0BN2576GQ</td><td>3.7</td></tr><tr><td>B0BNLFQDG2</td><td>3.7</td></tr><tr><td>B07FL3WRX5</td><td>3.7</td></tr><tr><td>B009P2LK80</td><td>3.7</td></tr><tr><td>B07J2BQZD6</td><td>3.7</td></tr><tr><td>B09X76VL5L</td><td>3.7</td></tr><tr><td>B07B275VN9</td><td>3.7</td></tr><tr><td>B08FTFXNNB</td><td>3.7</td></tr><tr><td>B0BHZCNC4P</td><td>3.7</td></tr><tr><td>B0941392C8</td><td>3.7</td></tr><tr><td>B08GJNM9N7</td><td>3.7</td></tr><tr><td>B0B298D54H</td><td>3.7</td></tr><tr><td>B00RFWNJMC</td><td>3.7</td></tr><tr><td>B095244Q22</td><td>3.7</td></tr><tr><td>B093QCY6YJ</td><td>3.7</td></tr><tr><td>B09RQRZW2X</td><td>3.7</td></tr><tr><td>B08LKS3LSP</td><td>3.7</td></tr><tr><td>B01N90RZ4M</td><td>3.7</td></tr><tr><td>B09NNJ9WYM</td><td>3.7</td></tr><tr><td>B08FB2LNSZ</td><td>3.7</td></tr><tr><td>B0B5GF6DQD</td><td>3.7</td></tr><tr><td>B09H39KTTB</td><td>3.7</td></tr><tr><td>B09LHXNZLR</td><td>3.7</td></tr><tr><td>B085194JFL</td><td>3.7</td></tr><tr><td>B092JHPL72</td><td>3.7</td></tr><tr><td>B08TZD7FQN</td><td>3.7</td></tr><tr><td>B08D11DZ2W</td><td>3.7</td></tr><tr><td>B0B97D658R</td><td>3.6</td></tr><tr><td>B009DA69W6</td><td>3.6</td></tr><tr><td>B09SGGRKV8</td><td>3.6</td></tr><tr><td>B0141EZMAI</td><td>3.6</td></tr><tr><td>B00URH5E34</td><td>3.6</td></tr><tr><td>B08T8KWNQ9</td><td>3.6</td></tr><tr><td>B0836JGZ74</td><td>3.6</td></tr><tr><td>B0BHYLCL19</td><td>3.6</td></tr><tr><td>B09YLFHFDW</td><td>3.6</td></tr><tr><td>B08CFCK6CW</td><td>3.6</td></tr><tr><td>B0B84QN4CN</td><td>3.6</td></tr><tr><td>B07L1N3TJX</td><td>3.6</td></tr><tr><td>B00H47GVGY</td><td>3.6</td></tr><tr><td>B0BL3R4RGS</td><td>3.6</td></tr><tr><td>B07989VV5K</td><td>3.6</td></tr><tr><td>B09WF4Q7B3</td><td>3.6</td></tr><tr><td>B09LV1CMGH</td><td>3.6</td></tr><tr><td>B08CGW4GYR</td><td>3.6</td></tr><tr><td>B08D9MNH4B</td><td>3.6</td></tr><tr><td>B09LMMFW3S</td><td>3.6</td></tr><tr><td>B07MSLTW8Z</td><td>3.6</td></tr><tr><td>B096YCN3SD</td><td>3.6</td></tr><tr><td>B0B59K1C8F</td><td>3.6</td></tr><tr><td>B009P2LIL4</td><td>3.6</td></tr><tr><td>B09GFWJDY1</td><td>3.6</td></tr><tr><td>B07J9KXQCC</td><td>3.6</td></tr><tr><td>B09DDCQFMT</td><td>3.6</td></tr><tr><td>B077T3BG5L</td><td>3.6</td></tr><tr><td>B0B3DV7S9B</td><td>3.6</td></tr><tr><td>B09L8DSSFH</td><td>3.6</td></tr><tr><td>B08D75R3Z1</td><td>3.6</td></tr><tr><td>B07VVXJ2P5</td><td>3.6</td></tr><tr><td>B09B125CFJ</td><td>3.6</td></tr><tr><td>B08CKW1KH9</td><td>3.6</td></tr><tr><td>B08D9NDZ1Y</td><td>3.5</td></tr><tr><td>B09X5HD5T1</td><td>3.5</td></tr><tr><td>B009LJ2BXA</td><td>3.5</td></tr><tr><td>B09NFSHCWN</td><td>3.5</td></tr><tr><td>B09MB3DKG1</td><td>3.5</td></tr><tr><td>B084BR3QX8</td><td>3.5</td></tr><tr><td>B07HK53XM4</td><td>3.5</td></tr><tr><td>B09XB1R2F3</td><td>3.5</td></tr><tr><td>B09ND94ZRG</td><td>3.5</td></tr><tr><td>B09R1YFL6S</td><td>3.5</td></tr><tr><td>B0B2931FCV</td><td>3.5</td></tr><tr><td>B08ZXZ362Z</td><td>3.5</td></tr><tr><td>B085W8CFLH</td><td>3.5</td></tr><tr><td>B08YDFX7Y1</td><td>3.5</td></tr><tr><td>B0BGSV43WY</td><td>3.5</td></tr><tr><td>B07V5YF4ND</td><td>3.5</td></tr><tr><td>B097JVLW3L</td><td>3.5</td></tr><tr><td>B07PLHTTB4</td><td>3.5</td></tr><tr><td>B087FXHB6J</td><td>3.5</td></tr><tr><td>B08RHPDNVV</td><td>3.5</td></tr><tr><td>B08RP2L2NL</td><td>3.5</td></tr><tr><td>B08RZ12GKR</td><td>3.5</td></tr><tr><td>B00MFPCY5C</td><td>3.5</td></tr><tr><td>B0B7DHSKS7</td><td>3.5</td></tr><tr><td>B07T5DKR5D</td><td>3.5</td></tr><tr><td>B0B72BSW7K</td><td>3.5</td></tr><tr><td>B09Y358DZQ</td><td>3.4</td></tr><tr><td>B097JQ1J5G</td><td>3.4</td></tr><tr><td>B07H5PBN54</td><td>3.4</td></tr><tr><td>B097RN7BBK</td><td>3.4</td></tr><tr><td>B0BMZ6SY89</td><td>3.4</td></tr><tr><td>B08VRMK55F</td><td>3.4</td></tr><tr><td>B01EJ5MM5M</td><td>3.4</td></tr><tr><td>B0117H7GZ6</td><td>3.4</td></tr><tr><td>B097ZQTDVZ</td><td>3.4</td></tr><tr><td>B08QX1CC14</td><td>3.4</td></tr><tr><td>B08HD7JQHX</td><td>3.3</td></tr><tr><td>B07XJYYH7L</td><td>3.3</td></tr><tr><td>B09ZVJXN5L</td><td>3.3</td></tr><tr><td>B0BMFD94VD</td><td>3.3</td></tr><tr><td>B0B9F9PT8R</td><td>3.3</td></tr><tr><td>B0B4KPCBSH</td><td>3.3</td></tr><tr><td>B0994GP1CX</td><td>3.3</td></tr><tr><td>B07GXPDLYQ</td><td>3.3</td></tr><tr><td>B08XMSKKMM</td><td>3.3</td></tr><tr><td>B09TY4MSH3</td><td>3.3</td></tr><tr><td>B09P8M18QM</td><td>3.3</td></tr><tr><td>B0B53QFZPY</td><td>3.3</td></tr><tr><td>B0B53QLB9H</td><td>3.3</td></tr><tr><td>B09LV13JFB</td><td>3.3</td></tr><tr><td>B0B53NXFFR</td><td>3.3</td></tr><tr><td>B0B9JZW1SQ</td><td>3.2</td></tr><tr><td>B08RX8G496</td><td>3.2</td></tr><tr><td>B08XLR6DSB</td><td>3.1</td></tr><tr><td>B0B3JSWG81</td><td>3.1</td></tr><tr><td>B09ZTZ9N3Q</td><td>3.1</td></tr><tr><td>B08TT63N58</td><td>3.1</td></tr><tr><td>B08YK7BBD2</td><td>3.0</td></tr><tr><td>B09F6D21BY</td><td>3.0</td></tr><tr><td>B0B94JPY2N</td><td>3.0</td></tr><tr><td>B0B82YGCF6</td><td>3.0</td></tr><tr><td>B0BBLHTRM9</td><td>2.9</td></tr><tr><td>B0BNDGL26T</td><td>2.8</td></tr><tr><td>B0BBVKRP7B</td><td>2.8</td></tr><tr><td>B0B7L86YCB</td><td>2.6</td></tr><tr><td>B0BFBNXS94</td><td>2.3</td></tr><tr><td>B0BPJBTB3F</td><td>2.0</td></tr></tbody></table></div>"
      ]
     },
     "metadata": {
      "application/vnd.databricks.v1+output": {
       "addedWidgets": {},
       "aggData": [],
       "aggError": "",
       "aggOverflow": false,
       "aggSchema": [],
       "aggSeriesLimitReached": false,
       "aggType": "",
       "arguments": {},
       "columnCustomDisplayInfos": {},
       "data": [
        [
         "B09ZHCJDP1",
         5.0
        ],
        [
         "B0BQRJ3C47",
         5.0
        ],
        [
         "B0BP7XLX48",
         5.0
        ],
        [
         "B0B53DS4TF",
         4.8
        ],
        [
         "B0BQ3K23Y1",
         4.8
        ],
        [
         "B0BR4F878Q",
         4.8
        ],
        [
         "B0BLC2BYPX",
         4.7
        ],
        [
         "B0BP89YBC1",
         4.7
        ],
        [
         "B0BM4KTNL1",
         4.7
        ],
        [
         "B0BM9H2NY9",
         4.7
        ],
        [
         "B09WN3SRC7",
         4.7
        ],
        [
         "B0B23LW7NV",
         4.7
        ],
        [
         "B07X2L5Z8C",
         4.6
        ],
        [
         "B09JN37WBX",
         4.6
        ],
        [
         "B0B9BXKBC7",
         4.6
        ],
        [
         "B00SH18114",
         4.6
        ],
        [
         "B00K57MR22",
         4.6
        ],
        [
         "B00NFD0ETQ",
         4.6
        ],
        [
         "B09XXZXQC1",
         4.6
        ],
        [
         "B09P1MFKG1",
         4.6
        ],
        [
         "B01J1CFO5I",
         4.6
        ],
        [
         "B078JT7LTD",
         4.6
        ],
        [
         "B0BJ966M5K",
         4.6
        ],
        [
         "B01MQ2A86A",
         4.6
        ],
        [
         "B0BN6M3TCM",
         4.6
        ],
        [
         "B095RTJH1M",
         4.6
        ],
        [
         "B08TGG316Z",
         4.6
        ],
        [
         "B0B244R4KB",
         4.6
        ],
        [
         "B088WCFPQF",
         4.5
        ],
        [
         "B00NH11KIK",
         4.5
        ],
        [
         "B0BMTZ4T1D",
         4.5
        ],
        [
         "B0B694PXQJ",
         4.5
        ],
        [
         "B08N6P8G5K",
         4.5
        ],
        [
         "B07Y9PY6Y1",
         4.5
        ],
        [
         "B0B86CDHL1",
         4.5
        ],
        [
         "B0BMXMLSMM",
         4.5
        ],
        [
         "B09BVCVTBC",
         4.5
        ],
        [
         "B07TMCXRFV",
         4.5
        ],
        [
         "B075S9FVRY",
         4.5
        ],
        [
         "B08LT9BMPP",
         4.5
        ],
        [
         "B071VNHMX2",
         4.5
        ],
        [
         "B08FYB5HHK",
         4.5
        ],
        [
         "B00KIE28X0",
         4.5
        ],
        [
         "B094QZLJQ6",
         4.5
        ],
        [
         "B00NH11PEY",
         4.5
        ],
        [
         "B0BCVJ3PVP",
         4.5
        ],
        [
         "B01MUAUOCX",
         4.5
        ],
        [
         "B07G3YNLJB",
         4.5
        ],
        [
         "B00P93X6EK",
         4.5
        ],
        [
         "B086PXQ2R4",
         4.5
        ],
        [
         "B071113J7M",
         4.5
        ],
        [
         "B00LHZWD0C",
         4.5
        ],
        [
         "B08WJ86PV2",
         4.5
        ],
        [
         "B00LY12TH6",
         4.5
        ],
        [
         "B08C4Z69LN",
         4.5
        ],
        [
         "B086Q3QMFS",
         4.5
        ],
        [
         "B0083T231O",
         4.5
        ],
        [
         "B07R99NBVB",
         4.5
        ],
        [
         "B0B9BD2YL4",
         4.5
        ],
        [
         "B0148NPH9I",
         4.5
        ],
        [
         "B004IO5BMQ",
         4.5
        ],
        [
         "B08LW31NQ6",
         4.5
        ],
        [
         "B0B2DD66GS",
         4.5
        ],
        [
         "B07ZKD8T1Q",
         4.5
        ],
        [
         "B0752LL57V",
         4.5
        ],
        [
         "B0BJ6P3LSK",
         4.5
        ],
        [
         "B08QW937WV",
         4.5
        ],
        [
         "B09X7DY7Q4",
         4.5
        ],
        [
         "B0B3G5XZN5",
         4.5
        ],
        [
         "B08WLY8V9S",
         4.5
        ],
        [
         "B083GKDRKR",
         4.5
        ],
        [
         "B08461VC1Z",
         4.5
        ],
        [
         "B0B8CHJLWJ",
         4.5
        ],
        [
         "B0BNDD9TN6",
         4.5
        ],
        [
         "B0BMM7R92G",
         4.5
        ],
        [
         "B0765B3TH7",
         4.5
        ],
        [
         "B00R1P3B4O",
         4.5
        ],
        [
         "B014SZO90Y",
         4.5
        ],
        [
         "B00V4BGDKU",
         4.5
        ],
        [
         "B09LQQYNZQ",
         4.5
        ],
        [
         "B00NNQMYNE",
         4.5
        ],
        [
         "B08ZJDWTJ1",
         4.5
        ],
        [
         "B0116MIKKC",
         4.5
        ],
        [
         "B07RY2X9MP",
         4.5
        ],
        [
         "B00NH13Q8W",
         4.5
        ],
        [
         "B09C6HXFC1",
         4.5
        ],
        [
         "B084MZYBTV",
         4.5
        ],
        [
         "B0846D5CBP",
         4.5
        ],
        [
         "B07Q4QV1DL",
         4.5
        ],
        [
         "B084N18QZY",
         4.5
        ],
        [
         "B088ZFJY82",
         4.5
        ],
        [
         "B01DJJVFPC",
         4.5
        ],
        [
         "B09TT6BFDX",
         4.5
        ],
        [
         "B082T6GXS5",
         4.5
        ],
        [
         "B01HJI0FS2",
         4.5
        ],
        [
         "B00LZLQ624",
         4.5
        ],
        [
         "B078HRR1XV",
         4.4
        ],
        [
         "B09J4YQYX3",
         4.4
        ],
        [
         "B073BRXPZX",
         4.4
        ],
        [
         "B06XDKWLJH",
         4.4
        ],
        [
         "B00GZLB57U",
         4.4
        ],
        [
         "B0187F2IOK",
         4.4
        ],
        [
         "B01DGVKBC6",
         4.4
        ],
        [
         "B099SD8PRP",
         4.4
        ],
        [
         "B07P681N66",
         4.4
        ],
        [
         "B08GJ57MKL",
         4.4
        ],
        [
         "B08GTYFC37",
         4.4
        ],
        [
         "B018SJJ0GE",
         4.4
        ],
        [
         "B08S6RKT4L",
         4.4
        ],
        [
         "B0B7FJNSZR",
         4.4
        ],
        [
         "B0B8ZM9RVV",
         4.4
        ],
        [
         "B07VTFN6HM",
         4.4
        ],
        [
         "B09MZ6WZ6V",
         4.4
        ],
        [
         "B097RJ867P",
         4.4
        ],
        [
         "B08Y5QJTVK",
         4.4
        ],
        [
         "B08QDPB1SL",
         4.4
        ],
        [
         "B00TI8E7BI",
         4.4
        ],
        [
         "B00MUTWLW4",
         4.4
        ],
        [
         "B0BPBG712X",
         4.4
        ],
        [
         "B0B19VJXQZ",
         4.4
        ],
        [
         "B07RZZ1QSW",
         4.4
        ],
        [
         "B08WKCTFF3",
         4.4
        ],
        [
         "B09CTWFV5W",
         4.4
        ],
        [
         "B07KKJPTWB",
         4.4
        ],
        [
         "B00J4YG0PC",
         4.4
        ],
        [
         "B08LHTJTBB",
         4.4
        ],
        [
         "B07JB2Y4SR",
         4.4
        ],
        [
         "B00K32PEW4",
         4.4
        ],
        [
         "B07Z1X6VFC",
         4.4
        ],
        [
         "B00E3DVQFS",
         4.4
        ],
        [
         "B072J83V9W",
         4.4
        ],
        [
         "B075DB1F13",
         4.4
        ],
        [
         "B078JBK4GX",
         4.4
        ],
        [
         "B09SFRNKSR",
         4.4
        ],
        [
         "B07DJ5KYDZ",
         4.4
        ],
        [
         "B09W5XR9RT",
         4.4
        ],
        [
         "B09TMZ1MF8",
         4.4
        ],
        [
         "B00LHZW3XY",
         4.4
        ],
        [
         "B09VGS66FV",
         4.4
        ],
        [
         "B07XLCFSSN",
         4.4
        ],
        [
         "B00TDD0YM4",
         4.4
        ],
        [
         "B08BJN4MP3",
         4.4
        ],
        [
         "B07D8VBYB4",
         4.4
        ],
        [
         "B00N1U7JXM",
         4.4
        ],
        [
         "B00LY1FN1K",
         4.4
        ],
        [
         "B07P1BR7L8",
         4.4
        ],
        [
         "B08WRKSF9D",
         4.4
        ],
        [
         "B07R679HTT",
         4.4
        ],
        [
         "B08GYG6T12",
         4.4
        ],
        [
         "B07MKMFKPG",
         4.4
        ],
        [
         "B07J2NGB69",
         4.4
        ],
        [
         "B07W9KYT62",
         4.4
        ],
        [
         "B08GM5S4CQ",
         4.4
        ],
        [
         "B0747VDH9L",
         4.4
        ],
        [
         "B01M5B0TPW",
         4.4
        ],
        [
         "B07CVR2L5K",
         4.4
        ],
        [
         "B07SY4C3TD",
         4.4
        ],
        [
         "B014SZPBM4",
         4.4
        ],
        [
         "B08L5HMJVW",
         4.4
        ],
        [
         "B0BNXFDTZ2",
         4.4
        ],
        [
         "B00LXTFMRS",
         4.4
        ],
        [
         "B0B8SRZ5SV",
         4.4
        ],
        [
         "B07RX14W1Q",
         4.4
        ],
        [
         "B07L5L4GTB",
         4.4
        ],
        [
         "B07WDKLDRX",
         4.4
        ],
        [
         "B06XR9PR5X",
         4.4
        ],
        [
         "B08VFF6JQ8",
         4.4
        ],
        [
         "B01J8S6X2I",
         4.4
        ],
        [
         "B07GVR9TG7",
         4.4
        ],
        [
         "B0859M539M",
         4.4
        ],
        [
         "B07M69276N",
         4.4
        ],
        [
         "B07KSMBL2H",
         4.4
        ],
        [
         "B01D5H8LDM",
         4.4
        ],
        [
         "B014I8SX4Y",
         4.4
        ],
        [
         "B07JPX9CR7",
         4.4
        ],
        [
         "B08NCKT9FG",
         4.4
        ],
        [
         "B09HCH3JZG",
         4.4
        ],
        [
         "B074CWD7MS",
         4.4
        ],
        [
         "B084N1BM9L",
         4.4
        ],
        [
         "B0974H97TJ",
         4.4
        ],
        [
         "B086JTMRYL",
         4.4
        ],
        [
         "B006LW0WDQ",
         4.4
        ],
        [
         "B084N133Y7",
         4.4
        ],
        [
         "B075ZTJ9XR",
         4.4
        ],
        [
         "B0BDYW3RN3",
         4.4
        ],
        [
         "B01M72LILF",
         4.4
        ],
        [
         "B08XXF5V6G",
         4.4
        ],
        [
         "B014I8SSD0",
         4.4
        ],
        [
         "B084MZXJNK",
         4.4
        ],
        [
         "B00LVMTA2A",
         4.4
        ],
        [
         "B08QJJCY2Q",
         4.4
        ],
        [
         "B0BDYVC5TD",
         4.4
        ],
        [
         "B07Q7561HD",
         4.4
        ],
        [
         "B00LZLPYHW",
         4.4
        ],
        [
         "B09FFK1PQG",
         4.4
        ],
        [
         "B08L5FM4JC",
         4.4
        ],
        [
         "B01J0XWYKQ",
         4.4
        ],
        [
         "B01D5H90L4",
         4.4
        ],
        [
         "B083342NKJ",
         4.4
        ],
        [
         "B09VGKFM7Y",
         4.4
        ],
        [
         "B084MZXJN6",
         4.4
        ],
        [
         "B00GG59HU2",
         4.4
        ],
        [
         "B08VF8V79P",
         4.4
        ],
        [
         "B0B8SSC5D9",
         4.4
        ],
        [
         "B0BP18W8TM",
         4.4
        ],
        [
         "B0BDRVFDKP",
         4.4
        ],
        [
         "B0BBW521YC",
         4.4
        ],
        [
         "B0819HZPXL",
         4.4
        ],
        [
         "B00AXHBBXU",
         4.4
        ],
        [
         "B07ZR4S1G4",
         4.4
        ],
        [
         "B0B25DJ352",
         4.3
        ],
        [
         "B00LOD70SC",
         4.3
        ],
        [
         "B07QMRHWJD",
         4.3
        ],
        [
         "B0BCYQY9X5",
         4.3
        ],
        [
         "B07DKZCZ89",
         4.3
        ],
        [
         "B013B2WGT6",
         4.3
        ],
        [
         "B09M8888DM",
         4.3
        ],
        [
         "B08H6CZSHT",
         4.3
        ],
        [
         "B08YD264ZS",
         4.3
        ],
        [
         "B01NBX5RSB",
         4.3
        ],
        [
         "B09XRBJ94N",
         4.3
        ],
        [
         "B08CDKQ8T6",
         4.3
        ],
        [
         "B08497Z1MQ",
         4.3
        ],
        [
         "B08CHZ3ZQ7",
         4.3
        ],
        [
         "B0798PJPCL",
         4.3
        ],
        [
         "B01M265AAK",
         4.3
        ],
        [
         "B01GGKYKQM",
         4.3
        ],
        [
         "B0B3TBY2YX",
         4.3
        ],
        [
         "B008QTK47Q",
         4.3
        ],
        [
         "B017NC2IPM",
         4.3
        ],
        [
         "B0759QMF85",
         4.3
        ],
        [
         "B07KRCW6LZ",
         4.3
        ],
        [
         "B07222HQKP",
         4.3
        ],
        [
         "B0073QGKAS",
         4.3
        ],
        [
         "B07Z1YVP72",
         4.3
        ],
        [
         "B07P434WJY",
         4.3
        ],
        [
         "B012ELCYUG",
         4.3
        ],
        [
         "B09W9V2PXG",
         4.3
        ],
        [
         "B07GMFY9QM",
         4.3
        ],
        [
         "B09MTLG4TP",
         4.3
        ],
        [
         "B08WKFSN84",
         4.3
        ],
        [
         "B095XCRDQW",
         4.3
        ],
        [
         "B08ZHYNTM1",
         4.3
        ],
        [
         "B088GXTJM3",
         4.3
        ],
        [
         "B076VQS87V",
         4.3
        ],
        [
         "B09VKWGZD7",
         4.3
        ],
        [
         "B082T6V3DT",
         4.3
        ],
        [
         "B08H6B3G96",
         4.3
        ],
        [
         "B07YNHCW6N",
         4.3
        ],
        [
         "B00DJ5N9VK",
         4.3
        ],
        [
         "B0BG62HMDJ",
         4.3
        ],
        [
         "B00LM4W1N2",
         4.3
        ],
        [
         "B0977CGNJJ",
         4.3
        ],
        [
         "B09NS5TKPN",
         4.3
        ],
        [
         "B07LDN9Q2P",
         4.3
        ],
        [
         "B09CYTJV3N",
         4.3
        ],
        [
         "B0811VCGL5",
         4.3
        ],
        [
         "B08BQ947H3",
         4.3
        ],
        [
         "B0BPBXNQQT",
         4.3
        ],
        [
         "B07BRKK9JQ",
         4.3
        ],
        [
         "B01EY310UM",
         4.3
        ],
        [
         "B08K36NZSV",
         4.3
        ],
        [
         "B09P182Z2H",
         4.3
        ],
        [
         "B08JKPVDKL",
         4.3
        ],
        [
         "B08S7V8YTN",
         4.3
        ],
        [
         "B0B4SJKRDF",
         4.3
        ],
        [
         "B099Z83VRC",
         4.3
        ],
        [
         "B083P71WKK",
         4.3
        ],
        [
         "B00LM4X0KU",
         4.3
        ],
        [
         "B008LN8KDM",
         4.3
        ],
        [
         "B078JDNZJ8",
         4.3
        ],
        [
         "B077Z65HSD",
         4.3
        ],
        [
         "B095X38CJS",
         4.3
        ],
        [
         "B00S9BSJC8",
         4.3
        ],
        [
         "B01LYU3BZF",
         4.3
        ],
        [
         "B009UORDX4",
         4.3
        ],
        [
         "B08498D67S",
         4.3
        ],
        [
         "B00LM4X3XE",
         4.3
        ],
        [
         "B0746N6WML",
         4.3
        ],
        [
         "B08498H13H",
         4.3
        ],
        [
         "B0B25LQQPC",
         4.3
        ],
        [
         "B08Y5QJXSR",
         4.3
        ],
        [
         "B01EZ0X3L8",
         4.3
        ],
        [
         "B08XNL93PL",
         4.3
        ],
        [
         "B08TTRVWKY",
         4.3
        ],
        [
         "B086394NY5",
         4.3
        ],
        [
         "B079S811J3",
         4.3
        ],
        [
         "B08J82K4GX",
         4.3
        ],
        [
         "B00ZRBWPA0",
         4.3
        ],
        [
         "B01N4EV2TL",
         4.3
        ],
        [
         "B08Y57TPDM",
         4.3
        ],
        [
         "B09RF2QXGX",
         4.3
        ],
        [
         "B07Z53L5QL",
         4.3
        ],
        [
         "B086X18Q71",
         4.3
        ],
        [
         "B07S7DCJKS",
         4.3
        ],
        [
         "B09NNZ1GF7",
         4.3
        ],
        [
         "B08QSC1XY8",
         4.3
        ],
        [
         "B00VA7YYUO",
         4.3
        ],
        [
         "B008FWZGSG",
         4.3
        ],
        [
         "B078WB1VWJ",
         4.3
        ],
        [
         "B01486F4G6",
         4.3
        ],
        [
         "B008QS9J6Y",
         4.3
        ],
        [
         "B07YL54NVJ",
         4.3
        ],
        [
         "B07Z1Z77ZZ",
         4.3
        ],
        [
         "B07F6GXNPB",
         4.3
        ],
        [
         "B07FJNNZCJ",
         4.3
        ],
        [
         "B01KCSGBU2",
         4.3
        ],
        [
         "B0B3CQBRB4",
         4.3
        ],
        [
         "B08CTNJ985",
         4.3
        ],
        [
         "B084PJSSQ1",
         4.3
        ],
        [
         "B0B15CPR37",
         4.3
        ],
        [
         "B0B8ZKWGKD",
         4.3
        ],
        [
         "B0926V9CTV",
         4.3
        ],
        [
         "B098K3H92Z",
         4.3
        ],
        [
         "B07WHSJXLF",
         4.3
        ],
        [
         "B084872DQY",
         4.3
        ],
        [
         "B09MT84WV5",
         4.3
        ],
        [
         "B09F6S8BT6",
         4.3
        ],
        [
         "B00NH12R1O",
         4.3
        ],
        [
         "B0B3RRWSF6",
         4.3
        ],
        [
         "B07SLMR1K6",
         4.3
        ],
        [
         "B0B5V47VK4",
         4.3
        ],
        [
         "B081FJWN52",
         4.3
        ],
        [
         "B08H5L8V1L",
         4.3
        ],
        [
         "B08MC57J31",
         4.3
        ],
        [
         "B06XSK3XL6",
         4.3
        ],
        [
         "B01D5H8ZI8",
         4.3
        ],
        [
         "B07YTNKVJQ",
         4.3
        ],
        [
         "B08XXVXP3J",
         4.3
        ],
        [
         "B08RZ5K9YH",
         4.3
        ],
        [
         "B08HVL8QN3",
         4.3
        ],
        [
         "B0B3XY5YT4",
         4.3
        ],
        [
         "B07WHS7MZ1",
         4.3
        ],
        [
         "B0BMVWKZ8G",
         4.3
        ],
        [
         "B07XCM6T4N",
         4.3
        ],
        [
         "B07CWDX49D",
         4.3
        ],
        [
         "B0B8VQ7KDS",
         4.3
        ],
        [
         "B009VCGPSY",
         4.3
        ],
        [
         "B08DPLCM6T",
         4.3
        ],
        [
         "B0B61GCHC1",
         4.3
        ],
        [
         "B0B16KD737",
         4.3
        ],
        [
         "B07WFPMGQQ",
         4.3
        ],
        [
         "B07GXHC691",
         4.3
        ],
        [
         "B0B3D39RKV",
         4.3
        ],
        [
         "B07KCMR8D6",
         4.3
        ],
        [
         "B09YL9SN9B",
         4.3
        ],
        [
         "B097C564GC",
         4.3
        ],
        [
         "B0B997FBZT",
         4.3
        ],
        [
         "B07CWNJLPC",
         4.3
        ],
        [
         "B0BC9BW512",
         4.3
        ],
        [
         "B09KGV7WSV",
         4.3
        ],
        [
         "B092BL5DCX",
         4.3
        ],
        [
         "B01N6LU1VF",
         4.3
        ],
        [
         "B08HV83HL3",
         4.3
        ],
        [
         "B08V9C4B1J",
         4.3
        ],
        [
         "B07YZG8PPY",
         4.3
        ],
        [
         "B0B2DJ5RVQ",
         4.3
        ],
        [
         "B0819ZZK5K",
         4.3
        ],
        [
         "B09MY4W73Q",
         4.3
        ],
        [
         "B08CT62BM1",
         4.3
        ],
        [
         "B003L62T7W",
         4.3
        ],
        [
         "B0B3NDPCS9",
         4.3
        ],
        [
         "B09BW334ML",
         4.3
        ],
        [
         "B0B3N7LR6K",
         4.3
        ],
        [
         "B0B5YBGCKD",
         4.3
        ],
        [
         "B005FYNT3G",
         4.3
        ],
        [
         "B07N42JB4S",
         4.3
        ],
        [
         "B0B1NX6JTN",
         4.3
        ],
        [
         "B09MT6XSFW",
         4.3
        ],
        [
         "B00OFM6PEO",
         4.3
        ],
        [
         "B07WDK3ZS2",
         4.3
        ],
        [
         "B09XJ1LM7R",
         4.3
        ],
        [
         "B0B1YVCJ2Y",
         4.3
        ],
        [
         "B0B9XN9S3W",
         4.3
        ],
        [
         "B08HVJCW95",
         4.3
        ],
        [
         "B07B88KQZ8",
         4.3
        ],
        [
         "B092BJMT8Q",
         4.3
        ],
        [
         "B08NW8GHCJ",
         4.3
        ],
        [
         "B081FG1QYX",
         4.3
        ],
        [
         "B07PFJ5VQD",
         4.3
        ],
        [
         "B0B3RS9DNF",
         4.3
        ],
        [
         "B00ZYLMQH0",
         4.3
        ],
        [
         "B0B15GSPQW",
         4.3
        ],
        [
         "B07JJFSG2B",
         4.3
        ],
        [
         "B0B21XL94T",
         4.3
        ],
        [
         "B082T6GVLJ",
         4.3
        ],
        [
         "B0B1YY6JJL",
         4.3
        ],
        [
         "B09RWQ7YR6",
         4.3
        ],
        [
         "B0B1YZX72F",
         4.3
        ],
        [
         "B0B1YZ9CB8",
         4.3
        ],
        [
         "B07PFJ5W31",
         4.3
        ],
        [
         "B08CF3D7QR",
         4.3
        ],
        [
         "B08PV1X771",
         4.3
        ],
        [
         "B0B3CPQ5PF",
         4.3
        ],
        [
         "B0981XSZJ7",
         4.3
        ],
        [
         "B08QSDKFGQ",
         4.3
        ],
        [
         "B0B9959XF3",
         4.3
        ],
        [
         "B09DG9VNWB",
         4.3
        ],
        [
         "B0B3XXSB1K",
         4.3
        ],
        [
         "B015ZXUDD0",
         4.3
        ],
        [
         "B08WKG2MWT",
         4.3
        ],
        [
         "B09NNGHG22",
         4.3
        ],
        [
         "B08M66K48D",
         4.3
        ],
        [
         "B0BCKWZ884",
         4.3
        ],
        [
         "B0B9XLX8VR",
         4.3
        ],
        [
         "B0B3RSDSZ3",
         4.3
        ],
        [
         "B09QGZM8QB",
         4.3
        ],
        [
         "B09HSKYMB3",
         4.3
        ],
        [
         "B071SDRGWL",
         4.3
        ],
        [
         "B07TR5HSR9",
         4.3
        ],
        [
         "B09GP6FBZT",
         4.3
        ],
        [
         "B08DDRGWTJ",
         4.3
        ],
        [
         "B0974G5Q2Y",
         4.3
        ],
        [
         "B0BC8BQ432",
         4.3
        ],
        [
         "B08PPHFXG3",
         4.3
        ],
        [
         "B003B00484",
         4.3
        ],
        [
         "B09JPC82QC",
         4.3
        ],
        [
         "B09QGZFBPM",
         4.3
        ],
        [
         "B09MJ77786",
         4.3
        ],
        [
         "B01HGCLUH6",
         4.2
        ],
        [
         "B07GLS2563",
         4.2
        ],
        [
         "B01LY9W8AF",
         4.2
        ],
        [
         "B01C8P29N0",
         4.2
        ],
        [
         "B08MTLLSL8",
         4.2
        ],
        [
         "B07VZYMQNZ",
         4.2
        ],
        [
         "B00C3GBCIS",
         4.2
        ],
        [
         "B078V8R9BS",
         4.2
        ],
        [
         "B07NC12T2R",
         4.2
        ],
        [
         "B00A7PLVU6",
         4.2
        ],
        [
         "B078JF6X9B",
         4.2
        ],
        [
         "B0085W2MUQ",
         4.2
        ],
        [
         "B0B2PQL5N3",
         4.2
        ],
        [
         "B082FTPRSK",
         4.2
        ],
        [
         "B08HLC7Z3G",
         4.2
        ],
        [
         "B00CEQEGPI",
         4.2
        ],
        [
         "B00B3VFJY2",
         4.2
        ],
        [
         "B00A328ENA",
         4.2
        ],
        [
         "B09Z6WH2N1",
         4.2
        ],
        [
         "B09TBCVJS3",
         4.2
        ],
        [
         "B01LYLJ99X",
         4.2
        ],
        [
         "B08243SKCK",
         4.2
        ],
        [
         "B08H673XKN",
         4.2
        ],
        [
         "B09M3F4HGB",
         4.2
        ],
        [
         "B0756CLQWL",
         4.2
        ],
        [
         "B08F47T4X5",
         4.2
        ],
        [
         "B08SMJT55F",
         4.2
        ],
        [
         "B0B9RN5X8B",
         4.2
        ],
        [
         "B09474JWN6",
         4.2
        ],
        [
         "B008YW8M0G",
         4.2
        ],
        [
         "B08B6XWQ1C",
         4.2
        ],
        [
         "B00EDJJ7FS",
         4.2
        ],
        [
         "B0BDS8MY8J",
         4.2
        ],
        [
         "B09MT94QLL",
         4.2
        ],
        [
         "B0BJYSCWFQ",
         4.2
        ],
        [
         "B08SJVD8QD",
         4.2
        ],
        [
         "B07TC9F7PN",
         4.2
        ],
        [
         "B08CRRQK6Z",
         4.2
        ],
        [
         "B097R4D42G",
         4.2
        ],
        [
         "B00935MGHS",
         4.2
        ],
        [
         "B09FZ89DK6",
         4.2
        ],
        [
         "B078W65FJ7",
         4.2
        ],
        [
         "B07FXLC2G2",
         4.2
        ],
        [
         "B07Y5FDPKV",
         4.2
        ],
        [
         "B01KK0HU3Y",
         4.2
        ],
        [
         "B09NBZ36F7",
         4.2
        ],
        [
         "B08CTQP51L",
         4.2
        ],
        [
         "B075K76YW1",
         4.2
        ],
        [
         "B07WNK1FFN",
         4.2
        ],
        [
         "B0883LQJ6B",
         4.2
        ],
        [
         "B08PFSZ7FH",
         4.2
        ],
        [
         "B07VV37FT4",
         4.2
        ],
        [
         "B00HVXS7WC",
         4.2
        ],
        [
         "B0BK1K598K",
         4.2
        ],
        [
         "B08TR61BVK",
         4.2
        ],
        [
         "B099S26HWG",
         4.2
        ],
        [
         "B00KIDSU8S",
         4.2
        ],
        [
         "B083RC4WFJ",
         4.2
        ],
        [
         "B01F7B2JCI",
         4.2
        ],
        [
         "B00F159RIK",
         4.2
        ],
        [
         "B08KRMK9LZ",
         4.2
        ],
        [
         "B08D64C9FN",
         4.2
        ],
        [
         "B06XPYRWV5",
         4.2
        ],
        [
         "B01C8P29T4",
         4.2
        ],
        [
         "B07YCBSCYB",
         4.2
        ],
        [
         "B07LDPLSZC",
         4.2
        ],
        [
         "B097MKZHNV",
         4.2
        ],
        [
         "B09PDZNSBG",
         4.2
        ],
        [
         "B08Y7MXFMK",
         4.2
        ],
        [
         "B09M869Z5V",
         4.2
        ],
        [
         "B07H3N8RJH",
         4.2
        ],
        [
         "B07D2NMTTV",
         4.2
        ],
        [
         "B09ZK6THRR",
         4.2
        ],
        [
         "B00EYW1U68",
         4.2
        ],
        [
         "B07GVGTSLN",
         4.2
        ],
        [
         "B072NCN9M4",
         4.2
        ],
        [
         "B097R45BH8",
         4.2
        ],
        [
         "B09C6HWG18",
         4.2
        ],
        [
         "B0873L7J6X",
         4.2
        ],
        [
         "B07S851WX5",
         4.2
        ],
        [
         "B0B5GJRTHB",
         4.2
        ],
        [
         "B09RKFBCV7",
         4.2
        ],
        [
         "B09F9YQQ7B",
         4.2
        ],
        [
         "B0B8XNPQPN",
         4.2
        ],
        [
         "B01L7C4IU2",
         4.2
        ],
        [
         "B00JBNZPFM",
         4.2
        ],
        [
         "B01GGKZ0V6",
         4.2
        ],
        [
         "B00P93X0VO",
         4.2
        ],
        [
         "B088ZTJT2R",
         4.2
        ],
        [
         "B00YQLG7GK",
         4.2
        ],
        [
         "B07LFQLKFZ",
         4.2
        ],
        [
         "B0B4DT8MKT",
         4.2
        ],
        [
         "B0B2CWRDB1",
         4.2
        ],
        [
         "B095K14P86",
         4.2
        ],
        [
         "B07232M876",
         4.2
        ],
        [
         "B01892MIPA",
         4.2
        ],
        [
         "B0756KCV5K",
         4.2
        ],
        [
         "B01MY839VW",
         4.2
        ],
        [
         "B09N6TTHT6",
         4.2
        ],
        [
         "B00H3H03Q4",
         4.2
        ],
        [
         "B009P2L7CO",
         4.2
        ],
        [
         "B0BL11S5QK",
         4.2
        ],
        [
         "B0BF54LXW6",
         4.2
        ],
        [
         "B00A0VCJPI",
         4.2
        ],
        [
         "B0B8CXTTG3",
         4.2
        ],
        [
         "B01M4GGIVU",
         4.2
        ],
        [
         "B0BF563HB4",
         4.2
        ],
        [
         "B002SZEOLG",
         4.2
        ],
        [
         "B0718ZN31Q",
         4.2
        ],
        [
         "B0BBMGLQDW",
         4.2
        ],
        [
         "B09YV463SW",
         4.2
        ],
        [
         "B0B9LDCX89",
         4.2
        ],
        [
         "B01F25X6RQ",
         4.2
        ],
        [
         "B09ZPJT8B2",
         4.2
        ],
        [
         "B09HQSV46W",
         4.2
        ],
        [
         "B075TJHWVC",
         4.2
        ],
        [
         "B07MKFNHKG",
         4.2
        ],
        [
         "B09Q5SWVBJ",
         4.2
        ],
        [
         "B09CMQRQM6",
         4.2
        ],
        [
         "B0BF54972T",
         4.2
        ],
        [
         "B08VB2CMR3",
         4.2
        ],
        [
         "B08L879JSN",
         4.2
        ],
        [
         "B09YV3K34W",
         4.2
        ],
        [
         "B09RFC46VP",
         4.2
        ],
        [
         "B01M5967SY",
         4.2
        ],
        [
         "B016MDK4F4",
         4.2
        ],
        [
         "B07QZ3CZ48",
         4.2
        ],
        [
         "B083RCTXLL",
         4.2
        ],
        [
         "B01F262EUU",
         4.2
        ],
        [
         "B0B3MWYCHQ",
         4.2
        ],
        [
         "B09YV4MW2T",
         4.2
        ],
        [
         "B08CS3BT4L",
         4.2
        ],
        [
         "B08CYNJ5KY",
         4.2
        ],
        [
         "B082T6GVG9",
         4.2
        ],
        [
         "B07DWFX9YS",
         4.2
        ],
        [
         "B0B6F7LX4C",
         4.2
        ],
        [
         "B08G43CCLC",
         4.2
        ],
        [
         "B084DTMYWK",
         4.2
        ],
        [
         "B0B6F98KJJ",
         4.2
        ],
        [
         "B09YHLPQYT",
         4.2
        ],
        [
         "B01IBRHE3E",
         4.2
        ],
        [
         "B07XLML2YS",
         4.2
        ],
        [
         "B0BMGB3CH9",
         4.2
        ],
        [
         "B08444S68L",
         4.2
        ],
        [
         "B09VCHLSJF",
         4.2
        ],
        [
         "B008IFXQFU",
         4.2
        ],
        [
         "B07JH1C41D",
         4.2
        ],
        [
         "B08FD2VSD9",
         4.2
        ],
        [
         "B09DSXK8JX",
         4.2
        ],
        [
         "B09X1M3DHX",
         4.2
        ],
        [
         "B0971DWFDT",
         4.2
        ],
        [
         "B00KXULGJQ",
         4.2
        ],
        [
         "B09YV42QHZ",
         4.2
        ],
        [
         "B09C6H53KH",
         4.2
        ],
        [
         "B0BMGB2TPR",
         4.2
        ],
        [
         "B07JNVF678",
         4.2
        ],
        [
         "B09T3H12GV",
         4.2
        ],
        [
         "B08Y55LPBF",
         4.2
        ],
        [
         "B01GGKZ4NU",
         4.2
        ],
        [
         "B0BMGG6NKT",
         4.2
        ],
        [
         "B09PLD9TCD",
         4.2
        ],
        [
         "B0BF57RN3K",
         4.2
        ],
        [
         "B0BF4YBLPX",
         4.2
        ],
        [
         "B085DTN6R2",
         4.2
        ],
        [
         "B01L8ZNWN2",
         4.2
        ],
        [
         "B098LCVYPW",
         4.2
        ],
        [
         "B09YV4RG4D",
         4.2
        ],
        [
         "B08HDJ86NZ",
         4.2
        ],
        [
         "B08CF3B7N1",
         4.2
        ],
        [
         "B0B61HYR92",
         4.2
        ],
        [
         "B07MDRGHWQ",
         4.2
        ],
        [
         "B085CZ3SR1",
         4.2
        ],
        [
         "B08VB57558",
         4.2
        ],
        [
         "B07LGT55SJ",
         4.2
        ],
        [
         "B09XBJ1CTN",
         4.2
        ],
        [
         "B06XFTHCNY",
         4.2
        ],
        [
         "B0711PVX6Z",
         4.2
        ],
        [
         "B08VB34KJ1",
         4.2
        ],
        [
         "B09WRMNJ9G",
         4.2
        ],
        [
         "B09L835C3V",
         4.2
        ],
        [
         "B07924P3C5",
         4.2
        ],
        [
         "B07JW9H4J1",
         4.2
        ],
        [
         "B07JPJJZ2H",
         4.2
        ],
        [
         "B07F1P8KNV",
         4.2
        ],
        [
         "B0789LZTCJ",
         4.2
        ],
        [
         "B09MQSCJQ1",
         4.2
        ],
        [
         "B005LJQMCK",
         4.2
        ],
        [
         "B08B42LWKN",
         4.2
        ],
        [
         "B0088TKTY2",
         4.2
        ],
        [
         "B07966M8XH",
         4.2
        ],
        [
         "B09MM6P76N",
         4.2
        ],
        [
         "B09T3KB6JZ",
         4.2
        ],
        [
         "B07JH1CBGW",
         4.2
        ],
        [
         "B0B8ZWNR5T",
         4.2
        ],
        [
         "B09RMQYHLH",
         4.2
        ],
        [
         "B07JGDB5M1",
         4.2
        ],
        [
         "B09Q5P2MT3",
         4.2
        ],
        [
         "B0B6F8HHR6",
         4.2
        ],
        [
         "B0B8SSZ76F",
         4.2
        ],
        [
         "B0B3MMYHYW",
         4.2
        ],
        [
         "B005LJQMZC",
         4.2
        ],
        [
         "B09HK9JH4F",
         4.2
        ],
        [
         "B09J2MM5C6",
         4.2
        ],
        [
         "B07JW1Y6XV",
         4.2
        ],
        [
         "B08HDH26JX",
         4.2
        ],
        [
         "B09BCNQ9R2",
         4.2
        ],
        [
         "B07CRL2GY6",
         4.2
        ],
        [
         "B0B2CPVXHX",
         4.1
        ],
        [
         "B00LY17RHI",
         4.1
        ],
        [
         "B08VJFYH6N",
         4.1
        ],
        [
         "B07JGCGNDG",
         4.1
        ],
        [
         "B0BFWGBX61",
         4.1
        ],
        [
         "B01N6IJG0F",
         4.1
        ],
        [
         "B009P2LITG",
         4.1
        ],
        [
         "B07SPVMSC6",
         4.1
        ],
        [
         "B097R2V1W8",
         4.1
        ],
        [
         "B01M6453MB",
         4.1
        ],
        [
         "B01NCVJMKX",
         4.1
        ],
        [
         "B09KNMLH4Y",
         4.1
        ],
        [
         "B09XHXXCFH",
         4.1
        ],
        [
         "B092R48XXB",
         4.1
        ],
        [
         "B09P22HXH6",
         4.1
        ],
        [
         "B00SMFPJG0",
         4.1
        ],
        [
         "B00B7GKXMG",
         4.1
        ],
        [
         "B002PD61Y4",
         4.1
        ],
        [
         "B06Y36JKC3",
         4.1
        ],
        [
         "B07NPBG1B4",
         4.1
        ],
        [
         "B09CKSYBLR",
         4.1
        ],
        [
         "B08SKZ2RMG",
         4.1
        ],
        [
         "B08J7VCT12",
         4.1
        ],
        [
         "B01M0505SJ",
         4.1
        ],
        [
         "B0BBWJFK5C",
         4.1
        ],
        [
         "B086GVRP63",
         4.1
        ],
        [
         "B08JD36C6H",
         4.1
        ],
        [
         "B09FHHTL8L",
         4.1
        ],
        [
         "B099FDW2ZF",
         4.1
        ],
        [
         "B07W6VWZ8C",
         4.1
        ],
        [
         "B07YFWVRCM",
         4.1
        ],
        [
         "B09GFN8WZL",
         4.1
        ],
        [
         "B00GHL8VP2",
         4.1
        ],
        [
         "B09DL9978Y",
         4.1
        ],
        [
         "B0123P3PWE",
         4.1
        ],
        [
         "B083T5G5PM",
         4.1
        ],
        [
         "B01GZSQJPA",
         4.1
        ],
        [
         "B0B8CB7MHW",
         4.1
        ],
        [
         "B09B9SPC7F",
         4.1
        ],
        [
         "B07LFWP97N",
         4.1
        ],
        [
         "B00YMJ0OI8",
         4.1
        ],
        [
         "B08VGM3YMF",
         4.1
        ],
        [
         "B00O24PUO6",
         4.1
        ],
        [
         "B01LWYDEQ7",
         4.1
        ],
        [
         "B09WMTJPG7",
         4.1
        ],
        [
         "B08SBH499M",
         4.1
        ],
        [
         "B07KNM95JK",
         4.1
        ],
        [
         "B00PVT30YI",
         4.1
        ],
        [
         "B00ABMASXG",
         4.1
        ],
        [
         "B08235JZFB",
         4.1
        ],
        [
         "B0BHYJ8CVF",
         4.1
        ],
        [
         "B07W7Z6DVL",
         4.1
        ],
        [
         "B07QHHCB27",
         4.1
        ],
        [
         "B07F1T31ZZ",
         4.1
        ],
        [
         "B00P93X2H6",
         4.1
        ],
        [
         "B09VC2D2WG",
         4.1
        ],
        [
         "B08GSQXLJ2",
         4.1
        ],
        [
         "B0BDG6QDYD",
         4.1
        ],
        [
         "B0B2DD8BQ8",
         4.1
        ],
        [
         "B01MF8MB65",
         4.1
        ],
        [
         "B01IOZUHRS",
         4.1
        ],
        [
         "B09163Q5CD",
         4.1
        ],
        [
         "B0949FPSFY",
         4.1
        ],
        [
         "B08C7TYHPB",
         4.1
        ],
        [
         "B07QDSN9V6",
         4.1
        ],
        [
         "B00O2R38C4",
         4.1
        ],
        [
         "B07N2MGB3G",
         4.1
        ],
        [
         "B09J2SCVQT",
         4.1
        ],
        [
         "B0188KPKB2",
         4.1
        ],
        [
         "B097R3XH9R",
         4.1
        ],
        [
         "B07SBGFDX9",
         4.1
        ],
        [
         "B01L6MT7E0",
         4.1
        ],
        [
         "B0B7NWGXS6",
         4.1
        ],
        [
         "B09CMP1SC8",
         4.1
        ],
        [
         "B098JYT4SY",
         4.1
        ],
        [
         "B008YW3CYM",
         4.1
        ],
        [
         "B08D6RCM3Q",
         4.1
        ],
        [
         "B00P0R95EA",
         4.1
        ],
        [
         "B07RCGTZ4M",
         4.1
        ],
        [
         "B09Q8HMKZX",
         4.1
        ],
        [
         "B07NCKMXVZ",
         4.1
        ],
        [
         "B09BL2KHQW",
         4.1
        ],
        [
         "B07F366Z51",
         4.1
        ],
        [
         "B07W14CHV8",
         4.1
        ],
        [
         "B09G2VTHQM",
         4.1
        ],
        [
         "B01N1XVVLC",
         4.1
        ],
        [
         "B08MZNT7GP",
         4.1
        ],
        [
         "B09J2QCKKM",
         4.1
        ],
        [
         "B09BN2NPBD",
         4.1
        ],
        [
         "B0972BQ2RS",
         4.1
        ],
        [
         "B07XJWTYM2",
         4.1
        ],
        [
         "B07K2HVKLL",
         4.1
        ],
        [
         "B01FSYQ2A4",
         4.1
        ],
        [
         "B017PDR9N0",
         4.1
        ],
        [
         "B08MVXPTDG",
         4.1
        ],
        [
         "B01MRARGBW",
         4.1
        ],
        [
         "B0B5RP43VN",
         4.1
        ],
        [
         "B09RWZRCP1",
         4.1
        ],
        [
         "B08MV82R99",
         4.1
        ],
        [
         "B00SMJPA9C",
         4.1
        ],
        [
         "B083RD1J99",
         4.1
        ],
        [
         "B0763K5HLQ",
         4.1
        ],
        [
         "B09FPP3R1D",
         4.1
        ],
        [
         "B01CS4A5V4",
         4.1
        ],
        [
         "B0B5ZF3NRK",
         4.1
        ],
        [
         "B07B5XJ572",
         4.1
        ],
        [
         "B0BBMPH39N",
         4.1
        ],
        [
         "B00E9G8KOY",
         4.1
        ],
        [
         "B09LD3116F",
         4.1
        ],
        [
         "B07NKNBTT3",
         4.1
        ],
        [
         "B08KS2KQTK",
         4.1
        ],
        [
         "B09NTHQRW3",
         4.1
        ],
        [
         "B07Z3K96FR",
         4.1
        ],
        [
         "B09NC2TY11",
         4.1
        ],
        [
         "B07H8W9PB6",
         4.1
        ],
        [
         "B0085IATT6",
         4.1
        ],
        [
         "B012MQS060",
         4.1
        ],
        [
         "B091KNVNS9",
         4.1
        ],
        [
         "B08JV91JTK",
         4.1
        ],
        [
         "B094JB13XL",
         4.1
        ],
        [
         "B00S2SEV7K",
         4.1
        ],
        [
         "B08FGNPQ9X",
         4.1
        ],
        [
         "B097XJQZ8H",
         4.1
        ],
        [
         "B07GWTWFS2",
         4.1
        ],
        [
         "B07MP21WJD",
         4.1
        ],
        [
         "B09Y14JLP3",
         4.1
        ],
        [
         "B00HZIOGXW",
         4.1
        ],
        [
         "B08JMC1988",
         4.1
        ],
        [
         "B08VGFX2B6",
         4.1
        ],
        [
         "B09TWHTBKQ",
         4.1
        ],
        [
         "B098QXR9X2",
         4.1
        ],
        [
         "B08PSQRW2T",
         4.1
        ],
        [
         "B09QS9X16F",
         4.1
        ],
        [
         "B0B5LVS732",
         4.1
        ],
        [
         "B0B4F52B5X",
         4.1
        ],
        [
         "B0856HY85J",
         4.1
        ],
        [
         "B07DFYJRQV",
         4.1
        ],
        [
         "B07QCWY5XV",
         4.1
        ],
        [
         "B00GE55L22",
         4.1
        ],
        [
         "B08W56G1K9",
         4.1
        ],
        [
         "B09Q8WQ5QJ",
         4.1
        ],
        [
         "B07WDKLRM4",
         4.1
        ],
        [
         "B09BNXQ6BR",
         4.1
        ],
        [
         "B09KH58JZR",
         4.1
        ],
        [
         "B07DC4RZPY",
         4.1
        ],
        [
         "B07WGPKMP5",
         4.1
        ],
        [
         "B0BD3T6Z1D",
         4.1
        ],
        [
         "B0162K34H2",
         4.1
        ],
        [
         "B099K9ZX65",
         4.1
        ],
        [
         "B07PR1CL3S",
         4.1
        ],
        [
         "B0B4F2XCK3",
         4.1
        ],
        [
         "B096TWZRJC",
         4.1
        ],
        [
         "B09QS9CWLV",
         4.1
        ],
        [
         "B01DF26V7A",
         4.1
        ],
        [
         "B09LHZSMRR",
         4.1
        ],
        [
         "B09HV71RL1",
         4.1
        ],
        [
         "B09SB6SJB4",
         4.1
        ],
        [
         "B0B4F3QNDM",
         4.1
        ],
        [
         "B07CD2BN46",
         4.1
        ],
        [
         "B00UGZWM2I",
         4.1
        ],
        [
         "B0BNV7JM5Y",
         4.1
        ],
        [
         "B01LONQBDG",
         4.1
        ],
        [
         "B09TWH8YHM",
         4.1
        ],
        [
         "B08VS3YLRK",
         4.1
        ],
        [
         "B09ZPL5VYM",
         4.1
        ],
        [
         "B0B4F1YC3J",
         4.1
        ],
        [
         "B08WRWPM22",
         4.1
        ],
        [
         "B08PSVBB2X",
         4.1
        ],
        [
         "B09F6VHQXB",
         4.1
        ],
        [
         "B09GFLXVH9",
         4.1
        ],
        [
         "B0B4F5L738",
         4.1
        ],
        [
         "B071Z8M4KX",
         4.1
        ],
        [
         "B095JQVC7N",
         4.1
        ],
        [
         "B09LJ116B5",
         4.1
        ],
        [
         "B09GFPN6TP",
         4.1
        ],
        [
         "B09MKP344P",
         4.1
        ],
        [
         "B07KY3FNQP",
         4.1
        ],
        [
         "B09GFPVD9Y",
         4.1
        ],
        [
         "B0B6BLTGTT",
         4.1
        ],
        [
         "B09GFM8CGS",
         4.1
        ],
        [
         "B08XMG618K",
         4.1
        ],
        [
         "B07S9S86BF",
         4.1
        ],
        [
         "B09QS9X9L8",
         4.1
        ],
        [
         "B09KLVMZ3B",
         4.1
        ],
        [
         "B095JPKPH3",
         4.1
        ],
        [
         "B07RD611Z8",
         4.1
        ],
        [
         "B09C6FML9B",
         4.1
        ],
        [
         "B0B4F2ZWL3",
         4.1
        ],
        [
         "B08H9Z3XQW",
         4.1
        ],
        [
         "B07N8RQ6W7",
         4.1
        ],
        [
         "B07WJV6P1R",
         4.1
        ],
        [
         "B0B2X35B1K",
         4.1
        ],
        [
         "B09VT6JKRP",
         4.1
        ],
        [
         "B096VF5YYF",
         4.1
        ],
        [
         "B0162LYSFS",
         4.1
        ],
        [
         "B09RFB2SJQ",
         4.1
        ],
        [
         "B09ZQK9X8G",
         4.1
        ],
        [
         "B08CHKQ8D4",
         4.1
        ],
        [
         "B083GQGT3Z",
         4.1
        ],
        [
         "B0BB3CBFBM",
         4.1
        ],
        [
         "B09LHYZ3GJ",
         4.1
        ],
        [
         "B08MTCKDYN",
         4.1
        ],
        [
         "B092X94QNQ",
         4.1
        ],
        [
         "B09RX1FK54",
         4.1
        ],
        [
         "B0B14MR9L1",
         4.1
        ],
        [
         "B07WHQWXL7",
         4.1
        ],
        [
         "B07WGPKTS4",
         4.1
        ],
        [
         "B07GQD4K6L",
         4.1
        ],
        [
         "B01DEWVZ2C",
         4.1
        ],
        [
         "B0B4F4QZ1H",
         4.1
        ],
        [
         "B0B296NTFV",
         4.1
        ],
        [
         "B08TV2P1N8",
         4.1
        ],
        [
         "B09QS8V5N8",
         4.1
        ],
        [
         "B0B4F2TTTS",
         4.1
        ],
        [
         "B07WDK3ZS6",
         4.1
        ],
        [
         "B09ZPM4C2C",
         4.1
        ],
        [
         "B07VSG5SXZ",
         4.1
        ],
        [
         "B08WRBG3XW",
         4.1
        ],
        [
         "B0B2C5MJN6",
         4.1
        ],
        [
         "B07H1S7XW8",
         4.1
        ],
        [
         "B015OW3M1W",
         4.1
        ],
        [
         "B07GPXXNNG",
         4.1
        ],
        [
         "B09VZBGL1N",
         4.1
        ],
        [
         "B0BNVBJW2S",
         4.1
        ],
        [
         "B08HLZ28QC",
         4.1
        ],
        [
         "B08L12N5H1",
         4.096584699453552
        ],
        [
         "B07X963JNS",
         4.0
        ],
        [
         "B07YQ5SN4H",
         4.0
        ],
        [
         "B08KDBLMQP",
         4.0
        ],
        [
         "B083J64CBB",
         4.0
        ],
        [
         "B082KVTRW8",
         4.0
        ],
        [
         "B09YV575RK",
         4.0
        ],
        [
         "B09Q3M3WLJ",
         4.0
        ],
        [
         "B08J4PL1Z3",
         4.0
        ],
        [
         "B07YSJ7FF1",
         4.0
        ],
        [
         "B08MXJYB2V",
         4.0
        ],
        [
         "B08HDCWDXD",
         4.0
        ],
        [
         "B0B9RZ4G4W",
         4.0
        ],
        [
         "B09CGLY5CX",
         4.0
        ],
        [
         "B09H7JDJCW",
         4.0
        ],
        [
         "B07Q4NJQC5",
         4.0
        ],
        [
         "B09Z7YGV3R",
         4.0
        ],
        [
         "B09939XJX8",
         4.0
        ],
        [
         "B009P2LK08",
         4.0
        ],
        [
         "B09LH32678",
         4.0
        ],
        [
         "B00J5DYCCA",
         4.0
        ],
        [
         "B07WKBD37W",
         4.0
        ],
        [
         "B08TM71L54",
         4.0
        ],
        [
         "B08MWJTST6",
         4.0
        ],
        [
         "B07YR26BJ3",
         4.0
        ],
        [
         "B07H3WDC4X",
         4.0
        ],
        [
         "B0B2DZ5S6R",
         4.0
        ],
        [
         "B08G8H8DPL",
         4.0
        ],
        [
         "B089BDBDGM",
         4.0
        ],
        [
         "B094DQWV9B",
         4.0
        ],
        [
         "B0BPCJM7TB",
         4.0
        ],
        [
         "B08MZQBFLN",
         4.0
        ],
        [
         "B09YLXYP7Y",
         4.0
        ],
        [
         "B08VGDBF3B",
         4.0
        ],
        [
         "B08R69VDHT",
         4.0
        ],
        [
         "B0949SBKMP",
         4.0
        ],
        [
         "B09YLWT89W",
         4.0
        ],
        [
         "B0B3X2BY3M",
         4.0
        ],
        [
         "B078G6ZF5Z",
         4.0
        ],
        [
         "B08WD18LJZ",
         4.0
        ],
        [
         "B08RDWBYCQ",
         4.0
        ],
        [
         "B07JZSG42Y",
         4.0
        ],
        [
         "B00NM6MO26",
         4.0
        ],
        [
         "B01M5F614J",
         4.0
        ],
        [
         "B0814P4L98",
         4.0
        ],
        [
         "B07T9FV9YP",
         4.0
        ],
        [
         "B09KPXTZXN",
         4.0
        ],
        [
         "B0989W6J2F",
         4.0
        ],
        [
         "B083M7WPZD",
         4.0
        ],
        [
         "B07VZH6ZBB",
         4.0
        ],
        [
         "B07V82W5CN",
         4.0
        ],
        [
         "B08L7J3T31",
         4.0
        ],
        [
         "B09NL7LBWT",
         4.0
        ],
        [
         "B09MFR93KS",
         4.0
        ],
        [
         "B07NTKGW45",
         4.0
        ],
        [
         "B094JNXNPV",
         4.0
        ],
        [
         "B096NTB9XT",
         4.0
        ],
        [
         "B00LP9RFSU",
         4.0
        ],
        [
         "B0B4PPD89B",
         4.0
        ],
        [
         "B07YY1BY5B",
         4.0
        ],
        [
         "B07DZ986Q2",
         4.0
        ],
        [
         "B09F6KL23R",
         4.0
        ],
        [
         "B01M69WCZ6",
         4.0
        ],
        [
         "B07G147SZD",
         4.0
        ],
        [
         "B08K9PX15C",
         4.0
        ],
        [
         "B0B2RBP83P",
         4.0
        ],
        [
         "B07SRM58TP",
         4.0
        ],
        [
         "B08HQL67D6",
         4.0
        ],
        [
         "B09MKG4ZCM",
         4.0
        ],
        [
         "B07BKSSDR2",
         4.0
        ],
        [
         "B0BHVPTM2C",
         4.0
        ],
        [
         "B075JJ5NQC",
         4.0
        ],
        [
         "B07T4D9FNY",
         4.0
        ],
        [
         "B09RZS1NQT",
         4.0
        ],
        [
         "B07YWS9SP9",
         4.0
        ],
        [
         "B00W56GLOQ",
         4.0
        ],
        [
         "B095PWLLY6",
         4.0
        ],
        [
         "B0994GFWBH",
         4.0
        ],
        [
         "B07L9FW9GF",
         4.0
        ],
        [
         "B07VX71FZP",
         4.0
        ],
        [
         "B07S9M8YTY",
         4.0
        ],
        [
         "B00LZPQVMK",
         4.0
        ],
        [
         "B07WKB69RS",
         4.0
        ],
        [
         "B09CMM3VGK",
         4.0
        ],
        [
         "B09SJ1FTYV",
         4.0
        ],
        [
         "B08HF4W2CT",
         4.0
        ],
        [
         "B0B7B9V9QP",
         4.0
        ],
        [
         "B09NVPJ3P4",
         4.0
        ],
        [
         "B00RGLI0ZS",
         4.0
        ],
        [
         "B08R69WBN7",
         4.0
        ],
        [
         "B09NVPSCQT",
         4.0
        ],
        [
         "B097R25DP7",
         4.0
        ],
        [
         "B0BLV1GNLN",
         4.0
        ],
        [
         "B094YFFSMY",
         4.0
        ],
        [
         "B09JS94MBV",
         4.0
        ],
        [
         "B0BBN56J5H",
         4.0
        ],
        [
         "B07WG8PDCW",
         4.0
        ],
        [
         "B09YDFDVNS",
         4.0
        ],
        [
         "B082LZGK39",
         4.0
        ],
        [
         "B076B8G5D8",
         4.0
        ],
        [
         "B09PNKXSKF",
         4.0
        ],
        [
         "B08JW1GVS7",
         4.0
        ],
        [
         "B07GNC2592",
         4.0
        ],
        [
         "B0BBN4DZBD",
         4.0
        ],
        [
         "B09V2Q4QVQ",
         4.0
        ],
        [
         "B089WB69Y1",
         4.0
        ],
        [
         "B08G1RW2Q3",
         4.0
        ],
        [
         "B09NHVCHS9",
         4.0
        ],
        [
         "B08FN6WGDQ",
         4.0
        ],
        [
         "B09NJN8L25",
         4.0
        ],
        [
         "B09YLX91QR",
         4.0
        ],
        [
         "B09NKZXMWJ",
         4.0
        ],
        [
         "B09XB7DPW1",
         4.0
        ],
        [
         "B0758F7KK7",
         4.0
        ],
        [
         "B082LSVT4B",
         4.0
        ],
        [
         "B0BBN3WF7V",
         4.0
        ],
        [
         "B00Y4ORQ46",
         4.0
        ],
        [
         "B08HV25BBQ",
         4.0
        ],
        [
         "B09C635BMM",
         4.0
        ],
        [
         "B0B3MQXNFB",
         4.0
        ],
        [
         "B09G5TSGXV",
         4.0
        ],
        [
         "B098NS6PVG",
         4.0
        ],
        [
         "B0978V2CP6",
         4.0
        ],
        [
         "B09GB5B4BK",
         4.0
        ],
        [
         "B09FKDH6FS",
         4.0
        ],
        [
         "B09YDFKJF8",
         4.0
        ],
        [
         "B09V2PZDX8",
         4.0
        ],
        [
         "B07DL1KC3H",
         4.0
        ],
        [
         "B09XX51X2G",
         4.0
        ],
        [
         "B09JKNF147",
         4.0
        ],
        [
         "B09PNR6F8Q",
         4.0
        ],
        [
         "B09YLYB9PB",
         4.0
        ],
        [
         "B0856HNMR7",
         4.0
        ],
        [
         "B08PZ6HZLT",
         4.0
        ],
        [
         "B0B3N8VG24",
         4.0
        ],
        [
         "B09TP5KBN7",
         4.0
        ],
        [
         "B09XB8GFBQ",
         4.0
        ],
        [
         "B09NL4DJ2Z",
         4.0
        ],
        [
         "B08G28Z33M",
         4.0
        ],
        [
         "B08L4SBJRY",
         4.0
        ],
        [
         "B07VJ9ZTXS",
         4.0
        ],
        [
         "B08DCVRW98",
         4.0
        ],
        [
         "B0B5F3YZY4",
         4.0
        ],
        [
         "B09MZCQYHZ",
         4.0
        ],
        [
         "B09JS562TP",
         4.0
        ],
        [
         "B07WJWRNVK",
         4.0
        ],
        [
         "B07WHQBZLS",
         4.0
        ],
        [
         "B07WGMMQGP",
         4.0
        ],
        [
         "B08N1WL9XW",
         4.0
        ],
        [
         "B08P9RYPLR",
         4.0
        ],
        [
         "B0BCZCQTJX",
         4.0
        ],
        [
         "B09P858DK8",
         4.0
        ],
        [
         "B09XB7SRQ5",
         4.0
        ],
        [
         "B085HY1DGR",
         4.0
        ],
        [
         "B0B4G2MWSB",
         4.0
        ],
        [
         "B0993BB11X",
         4.0
        ],
        [
         "B09HN7LD5L",
         4.0
        ],
        [
         "B07DJLFMPS",
         4.0
        ],
        [
         "B08CYPB15D",
         4.0
        ],
        [
         "B07KSB1MLX",
         4.0
        ],
        [
         "B077BTLQ67",
         3.9
        ],
        [
         "B08QHLXWV3",
         3.9
        ],
        [
         "B07SYYVP69",
         3.9
        ],
        [
         "B09Z28BQZT",
         3.9
        ],
        [
         "B09JFR8H3Q",
         3.9
        ],
        [
         "B07WGPBXY9",
         3.9
        ],
        [
         "B01I1LDZGA",
         3.9
        ],
        [
         "B0BHNHMR3H",
         3.9
        ],
        [
         "B01MQZ7J8K",
         3.9
        ],
        [
         "B081RLM75M",
         3.9
        ],
        [
         "B09GBBJV72",
         3.9
        ],
        [
         "B08CZHGHKH",
         3.9
        ],
        [
         "B06XMZV7RH",
         3.9
        ],
        [
         "B07VQGVL68",
         3.9
        ],
        [
         "B07RX42D3D",
         3.9
        ],
        [
         "B085LPT5F4",
         3.9
        ],
        [
         "B07L3NDN24",
         3.9
        ],
        [
         "B09ZDVL7L8",
         3.9
        ],
        [
         "B09XTQFFCG",
         3.9
        ],
        [
         "B00BN5SNF0",
         3.9
        ],
        [
         "B014HDJ7ZE",
         3.9
        ],
        [
         "B00LUGTJGO",
         3.9
        ],
        [
         "B09F3PDDRF",
         3.9
        ],
        [
         "B0762HXMTF",
         3.9
        ],
        [
         "B0B4HJNPV4",
         3.9
        ],
        [
         "B09H3BXWTK",
         3.9
        ],
        [
         "B08BCKN299",
         3.9
        ],
        [
         "B09SPTNG58",
         3.9
        ],
        [
         "B0B2DJDCPX",
         3.9
        ],
        [
         "B00V9NHDI4",
         3.9
        ],
        [
         "B08SCCG9D4",
         3.9
        ],
        [
         "B0756K5DYZ",
         3.9
        ],
        [
         "B08FY4FG5X",
         3.9
        ],
        [
         "B08YRMBK9R",
         3.9
        ],
        [
         "B07GLSKXS1",
         3.9
        ],
        [
         "B09N3BFP4M",
         3.9
        ],
        [
         "B078HG2ZPS",
         3.9
        ],
        [
         "B09KRHXTLN",
         3.9
        ],
        [
         "B09MQ9PDHR",
         3.9
        ],
        [
         "B07WMS7TWB",
         3.9
        ],
        [
         "B09DSQXCM8",
         3.9
        ],
        [
         "B091JF2TFD",
         3.9
        ],
        [
         "B015GX9Y0W",
         3.9
        ],
        [
         "B07VNFP3C2",
         3.9
        ],
        [
         "B07ZJND9B9",
         3.9
        ],
        [
         "B07WJXCTG9",
         3.9
        ],
        [
         "B07YC8JHMB",
         3.9
        ],
        [
         "B0883KDSXC",
         3.9
        ],
        [
         "B08W9BK4MD",
         3.9
        ],
        [
         "B07SLNG3LW",
         3.9
        ],
        [
         "B08WWKM5HQ",
         3.9
        ],
        [
         "B0B1MDZV9C",
         3.9
        ],
        [
         "B08LVVTGZK",
         3.9
        ],
        [
         "B09SZ5TWHW",
         3.9
        ],
        [
         "B07TXCY3YK",
         3.9
        ],
        [
         "B016XVRKZM",
         3.9
        ],
        [
         "B0BNDRK886",
         3.9
        ],
        [
         "B07DGD4Z4C",
         3.9
        ],
        [
         "B0BCKJJN8R",
         3.9
        ],
        [
         "B008P7IF02",
         3.9
        ],
        [
         "B01JOFKL0A",
         3.9
        ],
        [
         "B09T2WRLJJ",
         3.9
        ],
        [
         "B07JQKQ91F",
         3.9
        ],
        [
         "B09PLFJ7ZW",
         3.9
        ],
        [
         "B0B3RHX6B6",
         3.9
        ],
        [
         "B09Y5MP7C4",
         3.9
        ],
        [
         "B09T37CKQ5",
         3.9
        ],
        [
         "B071VMP1Z4",
         3.9
        ],
        [
         "B09NY6TRXG",
         3.9
        ],
        [
         "B0B4HKH19N",
         3.9
        ],
        [
         "B08H21B6V7",
         3.9
        ],
        [
         "B0B217Z5VK",
         3.9
        ],
        [
         "B08Y1SJVV5",
         3.9
        ],
        [
         "B08Y1TFSP6",
         3.9
        ],
        [
         "B09N3ZNHTY",
         3.9
        ],
        [
         "B0B466C3G4",
         3.9
        ],
        [
         "B09X79PP8F",
         3.9
        ],
        [
         "B096MSW6CT",
         3.9
        ],
        [
         "B07HZ2QCGR",
         3.9
        ],
        [
         "B0BBFJ9M3X",
         3.9
        ],
        [
         "B07KR5P3YD",
         3.9
        ],
        [
         "B0B31BYXQQ",
         3.9
        ],
        [
         "B09T39K9YL",
         3.9
        ],
        [
         "B088Z1YWBC",
         3.9
        ],
        [
         "B08D77XZX5",
         3.9
        ],
        [
         "B0B65MJ45G",
         3.9
        ],
        [
         "B081NHWT6Z",
         3.9
        ],
        [
         "B087JWLZ2K",
         3.9
        ],
        [
         "B09XJ5LD6L",
         3.9
        ],
        [
         "B09MMD1FDN",
         3.9
        ],
        [
         "B07TCN5VR9",
         3.9
        ],
        [
         "B0B12K5BPM",
         3.9
        ],
        [
         "B086WMSCN3",
         3.9
        ],
        [
         "B08RWCZ6SY",
         3.9
        ],
        [
         "B09PTT8DZF",
         3.9
        ],
        [
         "B00GGGOYEU",
         3.9
        ],
        [
         "B0B4T8RSJ1",
         3.9
        ],
        [
         "B09NL4DCXK",
         3.9
        ],
        [
         "B09T2S8X9C",
         3.9
        ],
        [
         "B08LPJZSSW",
         3.9
        ],
        [
         "B09P18XVW6",
         3.9
        ],
        [
         "B0746JGVDS",
         3.9
        ],
        [
         "B0B4T6MR8N",
         3.9
        ],
        [
         "B07YNTJ8ZM",
         3.9
        ],
        [
         "B09JSW16QD",
         3.9
        ],
        [
         "B09V175NP7",
         3.9
        ],
        [
         "B0B65P827P",
         3.9
        ],
        [
         "B08Y5KXR6Z",
         3.9
        ],
        [
         "B09V12K8NT",
         3.9
        ],
        [
         "B09BW2GP18",
         3.9
        ],
        [
         "B00N1U9AJS",
         3.9
        ],
        [
         "B09V17S2BG",
         3.9
        ],
        [
         "B08YXJJW8H",
         3.9
        ],
        [
         "B0BBFJLP21",
         3.9
        ],
        [
         "B09VL9KFDB",
         3.8
        ],
        [
         "B08X77LM8C",
         3.8
        ],
        [
         "B07JF9B592",
         3.8
        ],
        [
         "B08CFJBZRK",
         3.8
        ],
        [
         "B07Z51CGGH",
         3.8
        ],
        [
         "B07LG96SDB",
         3.8
        ],
        [
         "B09NNHFSSF",
         3.8
        ],
        [
         "B07TTSS5MP",
         3.8
        ],
        [
         "B091V8HK8Z",
         3.8
        ],
        [
         "B0B2CZTCL2",
         3.8
        ],
        [
         "B00H0B29DI",
         3.8
        ],
        [
         "B078KRFWQB",
         3.8
        ],
        [
         "B09X5C9VLK",
         3.8
        ],
        [
         "B0832W3B7Q",
         3.8
        ],
        [
         "B09GYBZPHF",
         3.8
        ],
        [
         "B08CNLYKW5",
         3.8
        ],
        [
         "B08TDJ5BVF",
         3.8
        ],
        [
         "B00N3XLDW0",
         3.8
        ],
        [
         "B071R3LHFM",
         3.8
        ],
        [
         "B09SDDQQKP",
         3.8
        ],
        [
         "B098R25TGC",
         3.8
        ],
        [
         "B00NW4UWN6",
         3.8
        ],
        [
         "B00KRCBA6E",
         3.8
        ],
        [
         "B09HS1NDRQ",
         3.8
        ],
        [
         "B09VPH38JS",
         3.8
        ],
        [
         "B07K19NYZ8",
         3.8
        ],
        [
         "B09LQH3SD9",
         3.8
        ],
        [
         "B07NRTCDS5",
         3.8
        ],
        [
         "B0BGPN4GGH",
         3.8
        ],
        [
         "B08MVSGXMY",
         3.8
        ],
        [
         "B0912WJ87V",
         3.8
        ],
        [
         "B094G9L9LT",
         3.8
        ],
        [
         "B01GFTEV5Y",
         3.8
        ],
        [
         "B08K4PSZ3V",
         3.8
        ],
        [
         "B0B935YNR7",
         3.8
        ],
        [
         "B0B84KSH3X",
         3.8
        ],
        [
         "B078XFKBZL",
         3.8
        ],
        [
         "B09H34V36W",
         3.8
        ],
        [
         "B07DXRGWDJ",
         3.8
        ],
        [
         "B07WVQG8WZ",
         3.8
        ],
        [
         "B0BDZWMGZ1",
         3.8
        ],
        [
         "B09P564ZTJ",
         3.8
        ],
        [
         "B099PR2GQJ",
         3.8
        ],
        [
         "B0814ZY6FP",
         3.8
        ],
        [
         "B09F5Z694W",
         3.8
        ],
        [
         "B07W4HTS8Q",
         3.8
        ],
        [
         "B07Y1RCCW5",
         3.8
        ],
        [
         "B08KHM9VBJ",
         3.8
        ],
        [
         "B09MDCZJXS",
         3.8
        ],
        [
         "B09CTRPSJR",
         3.8
        ],
        [
         "B0B5DDJNH4",
         3.8
        ],
        [
         "B09NR6G588",
         3.8
        ],
        [
         "B093ZNQZ2Y",
         3.8
        ],
        [
         "B00GGGOYEK",
         3.8
        ],
        [
         "B09VH568H7",
         3.8
        ],
        [
         "B0B1F6GQPS",
         3.8
        ],
        [
         "B0B467CCB9",
         3.8
        ],
        [
         "B09127FZCK",
         3.8
        ],
        [
         "B08TDJNM3G",
         3.8
        ],
        [
         "B0B5B6PQCT",
         3.8
        ],
        [
         "B09L8DT7D6",
         3.8
        ],
        [
         "B098TV3L96",
         3.8
        ],
        [
         "B09PL79D2X",
         3.8
        ],
        [
         "B08PKBMJKS",
         3.8
        ],
        [
         "B079Y6JZC8",
         3.8
        ],
        [
         "B09NY7W8YD",
         3.8
        ],
        [
         "B07L8KNP5F",
         3.8
        ],
        [
         "B0841KQR1Z",
         3.8
        ],
        [
         "B0BD92GDQH",
         3.8
        ],
        [
         "B06XGWRKYT",
         3.8
        ],
        [
         "B08JQN8DGZ",
         3.8
        ],
        [
         "B09BF8JBWX",
         3.8
        ],
        [
         "B09LRZYBH1",
         3.8
        ],
        [
         "B08ZN4B121",
         3.8
        ],
        [
         "B08K4RDQ71",
         3.8
        ],
        [
         "B08MCD9JFY",
         3.8
        ],
        [
         "B0B56YRBNT",
         3.8
        ],
        [
         "B07LG59NPV",
         3.8
        ],
        [
         "B0B21C4BMX",
         3.8
        ],
        [
         "B08CF4SCNP",
         3.8
        ],
        [
         "B0B54Y2SNX",
         3.8
        ],
        [
         "B0B5CGTBKV",
         3.8
        ],
        [
         "B08BG4M4N7",
         3.8
        ],
        [
         "B0B5D39BCD",
         3.8
        ],
        [
         "B07GLNJC25",
         3.7
        ],
        [
         "B09Y5FZK9N",
         3.7
        ],
        [
         "B081B1JL35",
         3.7
        ],
        [
         "B0B61DSF17",
         3.7
        ],
        [
         "B09R83SFYV",
         3.7
        ],
        [
         "B082ZQ4479",
         3.7
        ],
        [
         "B0B31FR4Y2",
         3.7
        ],
        [
         "B086199CWG",
         3.7
        ],
        [
         "B00935MD1C",
         3.7
        ],
        [
         "B098T9CJVQ",
         3.7
        ],
        [
         "B08S74GTBT",
         3.7
        ],
        [
         "B0BNQMF152",
         3.7
        ],
        [
         "B0B5KZ3C53",
         3.7
        ],
        [
         "B0814LP6S9",
         3.7
        ],
        [
         "B0BN2576GQ",
         3.7
        ],
        [
         "B0BNLFQDG2",
         3.7
        ],
        [
         "B07FL3WRX5",
         3.7
        ],
        [
         "B009P2LK80",
         3.7
        ],
        [
         "B07J2BQZD6",
         3.7
        ],
        [
         "B09X76VL5L",
         3.7
        ],
        [
         "B07B275VN9",
         3.7
        ],
        [
         "B08FTFXNNB",
         3.7
        ],
        [
         "B0BHZCNC4P",
         3.7
        ],
        [
         "B0941392C8",
         3.7
        ],
        [
         "B08GJNM9N7",
         3.7
        ],
        [
         "B0B298D54H",
         3.7
        ],
        [
         "B00RFWNJMC",
         3.7
        ],
        [
         "B095244Q22",
         3.7
        ],
        [
         "B093QCY6YJ",
         3.7
        ],
        [
         "B09RQRZW2X",
         3.7
        ],
        [
         "B08LKS3LSP",
         3.7
        ],
        [
         "B01N90RZ4M",
         3.7
        ],
        [
         "B09NNJ9WYM",
         3.7
        ],
        [
         "B08FB2LNSZ",
         3.7
        ],
        [
         "B0B5GF6DQD",
         3.7
        ],
        [
         "B09H39KTTB",
         3.7
        ],
        [
         "B09LHXNZLR",
         3.7
        ],
        [
         "B085194JFL",
         3.7
        ],
        [
         "B092JHPL72",
         3.7
        ],
        [
         "B08TZD7FQN",
         3.7
        ],
        [
         "B08D11DZ2W",
         3.7
        ],
        [
         "B0B97D658R",
         3.6
        ],
        [
         "B009DA69W6",
         3.6
        ],
        [
         "B09SGGRKV8",
         3.6
        ],
        [
         "B0141EZMAI",
         3.6
        ],
        [
         "B00URH5E34",
         3.6
        ],
        [
         "B08T8KWNQ9",
         3.6
        ],
        [
         "B0836JGZ74",
         3.6
        ],
        [
         "B0BHYLCL19",
         3.6
        ],
        [
         "B09YLFHFDW",
         3.6
        ],
        [
         "B08CFCK6CW",
         3.6
        ],
        [
         "B0B84QN4CN",
         3.6
        ],
        [
         "B07L1N3TJX",
         3.6
        ],
        [
         "B00H47GVGY",
         3.6
        ],
        [
         "B0BL3R4RGS",
         3.6
        ],
        [
         "B07989VV5K",
         3.6
        ],
        [
         "B09WF4Q7B3",
         3.6
        ],
        [
         "B09LV1CMGH",
         3.6
        ],
        [
         "B08CGW4GYR",
         3.6
        ],
        [
         "B08D9MNH4B",
         3.6
        ],
        [
         "B09LMMFW3S",
         3.6
        ],
        [
         "B07MSLTW8Z",
         3.6
        ],
        [
         "B096YCN3SD",
         3.6
        ],
        [
         "B0B59K1C8F",
         3.6
        ],
        [
         "B009P2LIL4",
         3.6
        ],
        [
         "B09GFWJDY1",
         3.6
        ],
        [
         "B07J9KXQCC",
         3.6
        ],
        [
         "B09DDCQFMT",
         3.6
        ],
        [
         "B077T3BG5L",
         3.6
        ],
        [
         "B0B3DV7S9B",
         3.6
        ],
        [
         "B09L8DSSFH",
         3.6
        ],
        [
         "B08D75R3Z1",
         3.6
        ],
        [
         "B07VVXJ2P5",
         3.6
        ],
        [
         "B09B125CFJ",
         3.6
        ],
        [
         "B08CKW1KH9",
         3.6
        ],
        [
         "B08D9NDZ1Y",
         3.5
        ],
        [
         "B09X5HD5T1",
         3.5
        ],
        [
         "B009LJ2BXA",
         3.5
        ],
        [
         "B09NFSHCWN",
         3.5
        ],
        [
         "B09MB3DKG1",
         3.5
        ],
        [
         "B084BR3QX8",
         3.5
        ],
        [
         "B07HK53XM4",
         3.5
        ],
        [
         "B09XB1R2F3",
         3.5
        ],
        [
         "B09ND94ZRG",
         3.5
        ],
        [
         "B09R1YFL6S",
         3.5
        ],
        [
         "B0B2931FCV",
         3.5
        ],
        [
         "B08ZXZ362Z",
         3.5
        ],
        [
         "B085W8CFLH",
         3.5
        ],
        [
         "B08YDFX7Y1",
         3.5
        ],
        [
         "B0BGSV43WY",
         3.5
        ],
        [
         "B07V5YF4ND",
         3.5
        ],
        [
         "B097JVLW3L",
         3.5
        ],
        [
         "B07PLHTTB4",
         3.5
        ],
        [
         "B087FXHB6J",
         3.5
        ],
        [
         "B08RHPDNVV",
         3.5
        ],
        [
         "B08RP2L2NL",
         3.5
        ],
        [
         "B08RZ12GKR",
         3.5
        ],
        [
         "B00MFPCY5C",
         3.5
        ],
        [
         "B0B7DHSKS7",
         3.5
        ],
        [
         "B07T5DKR5D",
         3.5
        ],
        [
         "B0B72BSW7K",
         3.5
        ],
        [
         "B09Y358DZQ",
         3.4
        ],
        [
         "B097JQ1J5G",
         3.4
        ],
        [
         "B07H5PBN54",
         3.4
        ],
        [
         "B097RN7BBK",
         3.4
        ],
        [
         "B0BMZ6SY89",
         3.4
        ],
        [
         "B08VRMK55F",
         3.4
        ],
        [
         "B01EJ5MM5M",
         3.4
        ],
        [
         "B0117H7GZ6",
         3.4
        ],
        [
         "B097ZQTDVZ",
         3.4
        ],
        [
         "B08QX1CC14",
         3.4
        ],
        [
         "B08HD7JQHX",
         3.3
        ],
        [
         "B07XJYYH7L",
         3.3
        ],
        [
         "B09ZVJXN5L",
         3.3
        ],
        [
         "B0BMFD94VD",
         3.3
        ],
        [
         "B0B9F9PT8R",
         3.3
        ],
        [
         "B0B4KPCBSH",
         3.3
        ],
        [
         "B0994GP1CX",
         3.3
        ],
        [
         "B07GXPDLYQ",
         3.3
        ],
        [
         "B08XMSKKMM",
         3.3
        ],
        [
         "B09TY4MSH3",
         3.3
        ],
        [
         "B09P8M18QM",
         3.3
        ],
        [
         "B0B53QFZPY",
         3.3
        ],
        [
         "B0B53QLB9H",
         3.3
        ],
        [
         "B09LV13JFB",
         3.3
        ],
        [
         "B0B53NXFFR",
         3.3
        ],
        [
         "B0B9JZW1SQ",
         3.2
        ],
        [
         "B08RX8G496",
         3.2
        ],
        [
         "B08XLR6DSB",
         3.1
        ],
        [
         "B0B3JSWG81",
         3.1
        ],
        [
         "B09ZTZ9N3Q",
         3.1
        ],
        [
         "B08TT63N58",
         3.1
        ],
        [
         "B08YK7BBD2",
         3.0
        ],
        [
         "B09F6D21BY",
         3.0
        ],
        [
         "B0B94JPY2N",
         3.0
        ],
        [
         "B0B82YGCF6",
         3.0
        ],
        [
         "B0BBLHTRM9",
         2.9
        ],
        [
         "B0BNDGL26T",
         2.8
        ],
        [
         "B0BBVKRP7B",
         2.8
        ],
        [
         "B0B7L86YCB",
         2.6
        ],
        [
         "B0BFBNXS94",
         2.3
        ],
        [
         "B0BPJBTB3F",
         2.0
        ]
       ],
       "datasetInfos": [],
       "dbfsResultPath": null,
       "isJsonSchema": true,
       "metadata": {},
       "overflow": false,
       "plotOptions": {
        "customPlotOptions": {},
        "displayType": "table",
        "pivotAggregation": null,
        "pivotColumns": null,
        "xColumns": null,
        "yColumns": null
       },
       "removedWidgets": [],
       "schema": [
        {
         "metadata": "{}",
         "name": "product_id",
         "type": "\"string\""
        },
        {
         "metadata": "{}",
         "name": "average_rating",
         "type": "\"double\""
        }
       ],
       "type": "table"
      }
     },
     "output_type": "display_data"
    }
   ],
   "source": [
    "%sql\n",
    "SELECT product_id, AVG(rating) AS average_rating\n",
    "FROM silver.name_basics\n",
    "GROUP BY product_id\n",
    "ORDER BY average_rating DESC;\n"
   ]
  },
  {
   "cell_type": "markdown",
   "metadata": {
    "application/vnd.databricks.v1+cell": {
     "cellMetadata": {
      "byteLimit": 2048000,
      "rowLimit": 10000
     },
     "inputWidgets": {},
     "nuid": "0aba0d34-cafe-4bfc-8e4b-c641670144c7",
     "showTitle": false,
     "tableResultSettingsMap": {},
     "title": ""
    }
   },
   "source": [
    "#4. Análise\n",
    "## a. Qualidade de dados\n",
    "A análise da qualidade de dados tem como objetivo verificar se o conjunto de dados está adequado para análise e se os dados estão limpos e prontos para responder as perguntas de negócios. A transformação e a análise da qualidade de dados foram  realizadas com Pandas e Pyspark antes da carga."
   ]
  },
  {
   "cell_type": "markdown",
   "metadata": {
    "application/vnd.databricks.v1+cell": {
     "cellMetadata": {
      "byteLimit": 2048000,
      "rowLimit": 10000
     },
     "inputWidgets": {},
     "nuid": "84421e41-5349-4e66-98f4-ff9bb4d0edf3",
     "showTitle": false,
     "tableResultSettingsMap": {},
     "title": ""
    }
   },
   "source": [
    "##Documentação da qualidade de dados\n",
    "\n",
    "O objetivo dessa etapa é analisar a qualidade de dados para identificar e corrigir possíveis problemas, como valores nulos, duplicados ou inconsistências. Isso assegura que as análises sejam baseadas em dados confiáveis.\n",
    "\n",
    "Foram verificados valores nulos nas colunas ratings e rating_count que foram preenchidos com a média. verifiquei valores duplicados com pyspark mas que não foram considerados fora do padrão pois repetições de registros, preços com desconto e a presença de vários registros de um mesmo usuário são comuns em dados de comércio eletrônico.Foram verificados símbolos especiais como símbolos montários, vírgulas e símbolo da porcentagem que foram removidos para possibilitar a conversão para float.  Verifiquei a consistência de dados com o dtype para garantir que não houvesse erros de tipo que poderiam prejudicar a análise, com o objetivo de garantir que cada coluna tenha o tipo de dado correto, o que é fundamental para a realização de análises precisas. Foi feita a estatística descritiva para entender a distribuição de dados e realizei a análise da correlação entre as variáveis. Foram também plotados gráficos para identificar a distribuição de dados e a correlação entre as variáveis. "
   ]
  },
  {
   "cell_type": "code",
   "execution_count": 0,
   "metadata": {
    "application/vnd.databricks.v1+cell": {
     "cellMetadata": {
      "byteLimit": 2048000,
      "rowLimit": 10000
     },
     "inputWidgets": {},
     "nuid": "e3dd4dbf-1937-4620-90de-9932b6c8a763",
     "showTitle": false,
     "tableResultSettingsMap": {},
     "title": ""
    }
   },
   "outputs": [
    {
     "output_type": "stream",
     "name": "stdout",
     "output_type": "stream",
     "text": [
      "product_id             0\nproduct_name           0\ncategory               0\ndiscounted_price       0\nactual_price           0\ndiscount_percentage    0\nrating                 0\nrating_count           0\nabout_product          0\nuser_id                0\nuser_name              0\nreview_id              0\nreview_title           0\nreview_content         0\nimg_link               0\nproduct_link           0\ndtype: int64\n"
     ]
    }
   ],
   "source": [
    "print(dataset.isnull().sum()) ## Verifica a quantidade de valores nulos em cada coluna"
   ]
  },
  {
   "cell_type": "code",
   "execution_count": 0,
   "metadata": {
    "application/vnd.databricks.v1+cell": {
     "cellMetadata": {
      "byteLimit": 2048000,
      "rowLimit": 10000
     },
     "inputWidgets": {},
     "nuid": "60a5c0f2-1b0d-4d57-a2f8-9abb1a0e7922",
     "showTitle": false,
     "tableResultSettingsMap": {},
     "title": ""
    }
   },
   "outputs": [
    {
     "output_type": "stream",
     "name": "stdout",
     "output_type": "stream",
     "text": [
      "product_id              object\nproduct_name            object\ncategory                object\ndiscounted_price       float64\nactual_price           float64\ndiscount_percentage    float64\nrating                 float64\nrating_count           float64\nabout_product           object\nuser_id                 object\nuser_name               object\nreview_id               object\nreview_title            object\nreview_content          object\nimg_link                object\nproduct_link            object\ndtype: object\n"
     ]
    }
   ],
   "source": [
    "print(dataset.dtypes)"
   ]
  },
  {
   "cell_type": "markdown",
   "metadata": {
    "application/vnd.databricks.v1+cell": {
     "cellMetadata": {
      "byteLimit": 2048000,
      "rowLimit": 10000
     },
     "inputWidgets": {},
     "nuid": "f6688c6b-c53d-405d-8578-ee5e330343f2",
     "showTitle": false,
     "tableResultSettingsMap": {},
     "title": ""
    }
   },
   "source": []
  },
  {
   "cell_type": "code",
   "execution_count": 0,
   "metadata": {
    "application/vnd.databricks.v1+cell": {
     "cellMetadata": {
      "byteLimit": 2048000,
      "implicitDf": true,
      "rowLimit": 10000
     },
     "inputWidgets": {},
     "nuid": "9be51101-b1a0-43af-98b6-4e574b95d1c1",
     "showTitle": false,
     "tableResultSettingsMap": {},
     "title": ""
    }
   },
   "outputs": [
    {
     "output_type": "display_data",
     "data": {
      "text/html": [
       "<style scoped>\n",
       "  .table-result-container {\n",
       "    max-height: 300px;\n",
       "    overflow: auto;\n",
       "  }\n",
       "  table, th, td {\n",
       "    border: 1px solid black;\n",
       "    border-collapse: collapse;\n",
       "  }\n",
       "  th, td {\n",
       "    padding: 5px;\n",
       "  }\n",
       "  th {\n",
       "    text-align: left;\n",
       "  }\n",
       "</style><div class='table-result-container'><table class='table-result'><thead style='background-color: white'><tr></tr></thead><tbody></tbody></table></div>"
      ]
     },
     "metadata": {
      "application/vnd.databricks.v1+output": {
       "addedWidgets": {},
       "aggData": [],
       "aggError": "",
       "aggOverflow": false,
       "aggSchema": [],
       "aggSeriesLimitReached": false,
       "aggType": "",
       "arguments": {},
       "columnCustomDisplayInfos": {},
       "data": [],
       "datasetInfos": [],
       "dbfsResultPath": null,
       "isJsonSchema": true,
       "metadata": {},
       "overflow": false,
       "plotOptions": {
        "customPlotOptions": {},
        "displayType": "table",
        "pivotAggregation": null,
        "pivotColumns": null,
        "xColumns": null,
        "yColumns": null
       },
       "removedWidgets": [],
       "schema": [],
       "type": "table"
      }
     },
     "output_type": "display_data"
    }
   ],
   "source": [
    "%sql CREATE DATABASE IF NOT EXISTS gold;"
   ]
  },
  {
   "cell_type": "markdown",
   "metadata": {
    "application/vnd.databricks.v1+cell": {
     "cellMetadata": {
      "byteLimit": 2048000,
      "rowLimit": 10000
     },
     "inputWidgets": {},
     "nuid": "75172ee6-03be-4c6f-9d23-6b0fd65e335f",
     "showTitle": false,
     "tableResultSettingsMap": {},
     "title": ""
    }
   },
   "source": [
    "## 5. a. Carga de dados no Data Warehouse"
   ]
  },
  {
   "cell_type": "code",
   "execution_count": 0,
   "metadata": {
    "application/vnd.databricks.v1+cell": {
     "cellMetadata": {
      "byteLimit": 2048000,
      "rowLimit": 10000
     },
     "inputWidgets": {},
     "nuid": "8cdb469a-618c-4319-b216-ade07d8f063a",
     "showTitle": false,
     "tableResultSettingsMap": {},
     "title": ""
    }
   },
   "outputs": [
    {
     "output_type": "stream",
     "name": "stdout",
     "output_type": "stream",
     "text": [
      "Dados carregados com sucesso nas tabelas fact_product_reviews dim_product, dim_user1 e dim_review.\n"
     ]
    }
   ],
   "source": [
    "\n",
    "spark_df1 = spark.createDataFrame(dataset)\n",
    "spark_df1.write.mode(\"overwrite\").saveAsTable(\"gold.name_basics\")\n",
    "\n",
    "# Inserir dados na tabela fact_product_reviews\n",
    "spark.sql(\"\"\"\n",
    "    INSERT INTO fact_product_reviews (product_id, user_id, discounted_price, actual_price, discount_percentage, rating, rating_count, review_id)\n",
    "    SELECT product_id, user_id, discounted_price, actual_price, discount_percentage, rating, rating_count, review_id\n",
    "    FROM gold.name_basics\n",
    "\"\"\")\n",
    "\n",
    "# Inserir dados na tabela dim_product\n",
    "spark.sql(\"\"\"\n",
    "    INSERT INTO dim_product (product_id, product_name, category, about_product, product_link, img_link)\n",
    "    SELECT product_id, product_name, category, about_product, product_link, img_link\n",
    "    FROM gold.name_basics;\n",
    "\"\"\")\n",
    "\n",
    "# Inserir dados na tabela dim_user1\n",
    "spark.sql(\"\"\"\n",
    "    INSERT INTO dim_user1 (user_id, user_name)\n",
    "    SELECT DISTINCT user_id, user_name\n",
    "    FROM gold.name_basics;\n",
    "\"\"\")\n",
    "\n",
    "# Inserir dados na tabela dim_review\n",
    "spark.sql(\"\"\"\n",
    "    INSERT INTO dim_review (review_id, review_title, review_content)\n",
    "    SELECT DISTINCT review_id, review_title, review_content\n",
    "    FROM gold.name_basics;\n",
    "\"\"\")\n",
    "\n",
    "print(\"Dados carregados com sucesso nas tabelas fact_product_reviews dim_product, dim_user1 e dim_review.\")"
   ]
  },
  {
   "cell_type": "markdown",
   "metadata": {
    "application/vnd.databricks.v1+cell": {
     "cellMetadata": {
      "byteLimit": 2048000,
      "rowLimit": 10000
     },
     "inputWidgets": {},
     "nuid": "e40c8fbd-6ec9-454e-8dc8-c1f62b47d010",
     "showTitle": false,
     "tableResultSettingsMap": {},
     "title": ""
    }
   },
   "source": [
    "## Selecionar os títulos das revisões onde a classificação é maior que 4.5"
   ]
  },
  {
   "cell_type": "code",
   "execution_count": 0,
   "metadata": {
    "application/vnd.databricks.v1+cell": {
     "cellMetadata": {
      "byteLimit": 2048000,
      "implicitDf": true,
      "rowLimit": 10000
     },
     "inputWidgets": {},
     "nuid": "3ae20441-b4ca-4c72-9eae-50e7a0661cee",
     "showTitle": false,
     "tableResultSettingsMap": {},
     "title": ""
    }
   },
   "outputs": [
    {
     "output_type": "display_data",
     "data": {
      "text/html": [
       "<style scoped>\n",
       "  .table-result-container {\n",
       "    max-height: 300px;\n",
       "    overflow: auto;\n",
       "  }\n",
       "  table, th, td {\n",
       "    border: 1px solid black;\n",
       "    border-collapse: collapse;\n",
       "  }\n",
       "  th, td {\n",
       "    padding: 5px;\n",
       "  }\n",
       "  th {\n",
       "    text-align: left;\n",
       "  }\n",
       "</style><div class='table-result-container'><table class='table-result'><thead style='background-color: white'><tr><th>review_title</th></tr></thead><tbody><tr><td>Little kitchen helper,An amazing product,Very good product nice to use,Handy gadget!,Easy to use and carry Great product 👌,Best product,Light weight,Will definitely save your time....</td></tr><tr><td>Superb,Very helpful and great quality,Exactly what it says on the tin,A must product for pet parents,Must purchase if u have pet...,Totally worth it,Good product,Easy to use and usefull prody</td></tr><tr><td>Nice product,Not as effective as claimed, just an average product..,Good Product,bribing people for 5 star rating,Most worst machine i have ever seen,Just wow</td></tr><tr><td>the only ANDROID tablet that makes sense in the non-sense tab market of India.,An impressive tablet for Android (at last),All good but miner bugs just don't upgrade it to 13.0.6.. New update details given,good tablet</td></tr><tr><td>good,Overall good product but got stop inbetween there is some gap for long term use.,Perfect,Useful,Must buy,Overall nice product,Good product,Amazing product</td></tr><tr><td>Best mixer,Best value for money,सबसे जरूरी बात ये है के इसमे सब पिस्ता है चाहे पत्थर भी दाल दो।😂। https://youtu.be/WBPca3j306k,Noice is high compared to others,Five star product,BEST MIXI,Best in the market best in segment,Good but not best</td></tr><tr><td>very nice design and long lasting,Good mouse,Long time user. This mouse is built like a tank,GAMING MASTERPIECE? *REVIEW AFTER 1 WEEK*,Amazing mouse, bad cable,Too Heavy for anything,Best gaming mouse on a budget,Amazing Mouse</td></tr><tr><td>Loved it,Good product,Good product,It's easy to use.,Fine product,Awesome Product,Nice product & user friendly,Correct size and easy to use.</td></tr><tr><td>It's good,Happy to purchase,Product is really good.,It was excellent,Very Good Product,Heater,The final finish product is not  elegant.</td></tr><tr><td>Good but the scroll is now damaged,Nice,Noiseless...,It's a good one,Good.,Satisfied,Simply Superb !,Scroll wheel stopped working in 3 months</td></tr><tr><td>It is Okay.,Amazing product and fast shipping,Sturdy,Good, its Useful.,most useful products for every kitchen,value for money,Good Quality Product,Good clips</td></tr><tr><td>Very responsive and stylish mouse,Simply Awesome,Satisfactory but OTG not working,Satisfied with this wireless mouse,Overall performance is good.,Overall very happy with the product,Strong build with silent click,Excellent mouse for the price</td></tr><tr><td>Oratech Best Coffee Frother,Great,My review about Oratech Coffee Frother for milk,Good product,Easy to use 👍,Good product,best product,Easy to use</td></tr><tr><td>Good product,Good quality,Good,Great mouse pad,Good worth the money.,Works flawlessly for many years,Nice mouse pad,Quality</td></tr><tr><td>Sleek and battery efficient!,It's made for ergonomic and lighter use and a silent one.,Good one.,Great product,Cute, but colour mismatcg,Best for Daily use,Good product,This Pebble mouse is just mesmerising to use</td></tr><tr><td>Good,Good Product but Little expensive.,Happy with the purchase,Good buy in price range,Best travel companion,For instagram reels zoom in and zoom out switch is not available,MUST BUY FOR EVERY ONE WHO OWNS A MOBILE PHONE !!!,A good selfie stick</td></tr><tr><td>Good,Good Product but Little expensive.,Happy with the purchase,Good buy in price range,Best travel companion,For instagram reels zoom in and zoom out switch is not available,MUST BUY FOR EVERY ONE WHO OWNS A MOBILE PHONE !!!,A good selfie stick</td></tr><tr><td>Best Product,It’s expansive but it works well upto 800sqft area,Great product</td></tr><tr><td>service is excellent,  installation guy is very professional,  I liked the service,Amazing,Value for money,Nice product,Water is clean and tasty also. Its cleans very well,Good. Happy with the installation,Nice product at affordable price.,Affordable and we'll functioning R.O.</td></tr><tr><td>Felt very useful 👌 but cable is short,Good in portable series of Geyser,Awesome product,Good quality,Product okay but no bill receive,Wrong Reviews uploaded for this product.,Good Product</td></tr><tr><td>Good product,Quality is great but chuteney jar is not working well,Good,Superb,Very good item,Super purchase,Superb 👍,Sujata hi lena.</td></tr><tr><td>Amazing! Value for money!,Very easy to use,2 in 1,Good product,Easy to clean,Good product to buy and use,Easy to operate that is simple process,Worth</td></tr><tr><td>Awesome Product</td></tr><tr><td>Good,Superb quality,Good products  nice one,Working well with iphone11.,I always rely on this companys products , so very good. Thank you so much</td></tr><tr><td>Easy to install but a bit slippery,Very good product, value for money,Expensive but for a reason,Best Screen Protector!,Best tempered glass to buy for your mobile,Clarity and adhesion is good,Perfect product,Great product and genuinely easy to install</td></tr><tr><td>Product installation was excellent  but delivery staff pathetic👌,TV Picture quality is good.,TV Picture quality is good,Very nice,Great picture and sound quality,One of the best big screen TV,Service is not good,Nice TV</td></tr><tr><td>Best For It’s Money!🔥,Nice quality, but comes with a price!,Easiest to install,Easy to install,Worth every penny!,Worth it,Good but costly,Totally worth it</td></tr><tr><td>Easy to install,Best screen guard and the easiest to install!,Easy to install,Very easy to install and doesn't interfere with the case,Value for money,Good tempered glass,Value for money,Wonderfull wonderfull wonderfull</td></tr><tr><td>Fantastic Ultra High Speed HDMI cable,Amazing product,Regarding cable</td></tr></tbody></table></div>"
      ]
     },
     "metadata": {
      "application/vnd.databricks.v1+output": {
       "addedWidgets": {},
       "aggData": [],
       "aggError": "",
       "aggOverflow": false,
       "aggSchema": [],
       "aggSeriesLimitReached": false,
       "aggType": "",
       "arguments": {},
       "columnCustomDisplayInfos": {},
       "data": [
        [
         "Little kitchen helper,An amazing product,Very good product nice to use,Handy gadget!,Easy to use and carry Great product 👌,Best product,Light weight,Will definitely save your time...."
        ],
        [
         "Superb,Very helpful and great quality,Exactly what it says on the tin,A must product for pet parents,Must purchase if u have pet...,Totally worth it,Good product,Easy to use and usefull prody"
        ],
        [
         "Nice product,Not as effective as claimed, just an average product..,Good Product,bribing people for 5 star rating,Most worst machine i have ever seen,Just wow"
        ],
        [
         "the only ANDROID tablet that makes sense in the non-sense tab market of India.,An impressive tablet for Android (at last),All good but miner bugs just don't upgrade it to 13.0.6.. New update details given,good tablet"
        ],
        [
         "good,Overall good product but got stop inbetween there is some gap for long term use.,Perfect,Useful,Must buy,Overall nice product,Good product,Amazing product"
        ],
        [
         "Best mixer,Best value for money,सबसे जरूरी बात ये है के इसमे सब पिस्ता है चाहे पत्थर भी दाल दो।😂। https://youtu.be/WBPca3j306k,Noice is high compared to others,Five star product,BEST MIXI,Best in the market best in segment,Good but not best"
        ],
        [
         "very nice design and long lasting,Good mouse,Long time user. This mouse is built like a tank,GAMING MASTERPIECE? *REVIEW AFTER 1 WEEK*,Amazing mouse, bad cable,Too Heavy for anything,Best gaming mouse on a budget,Amazing Mouse"
        ],
        [
         "Loved it,Good product,Good product,It's easy to use.,Fine product,Awesome Product,Nice product & user friendly,Correct size and easy to use."
        ],
        [
         "It's good,Happy to purchase,Product is really good.,It was excellent,Very Good Product,Heater,The final finish product is not  elegant."
        ],
        [
         "Good but the scroll is now damaged,Nice,Noiseless...,It's a good one,Good.,Satisfied,Simply Superb !,Scroll wheel stopped working in 3 months"
        ],
        [
         "It is Okay.,Amazing product and fast shipping,Sturdy,Good, its Useful.,most useful products for every kitchen,value for money,Good Quality Product,Good clips"
        ],
        [
         "Very responsive and stylish mouse,Simply Awesome,Satisfactory but OTG not working,Satisfied with this wireless mouse,Overall performance is good.,Overall very happy with the product,Strong build with silent click,Excellent mouse for the price"
        ],
        [
         "Oratech Best Coffee Frother,Great,My review about Oratech Coffee Frother for milk,Good product,Easy to use 👍,Good product,best product,Easy to use"
        ],
        [
         "Good product,Good quality,Good,Great mouse pad,Good worth the money.,Works flawlessly for many years,Nice mouse pad,Quality"
        ],
        [
         "Sleek and battery efficient!,It's made for ergonomic and lighter use and a silent one.,Good one.,Great product,Cute, but colour mismatcg,Best for Daily use,Good product,This Pebble mouse is just mesmerising to use"
        ],
        [
         "Good,Good Product but Little expensive.,Happy with the purchase,Good buy in price range,Best travel companion,For instagram reels zoom in and zoom out switch is not available,MUST BUY FOR EVERY ONE WHO OWNS A MOBILE PHONE !!!,A good selfie stick"
        ],
        [
         "Good,Good Product but Little expensive.,Happy with the purchase,Good buy in price range,Best travel companion,For instagram reels zoom in and zoom out switch is not available,MUST BUY FOR EVERY ONE WHO OWNS A MOBILE PHONE !!!,A good selfie stick"
        ],
        [
         "Best Product,It’s expansive but it works well upto 800sqft area,Great product"
        ],
        [
         "service is excellent,  installation guy is very professional,  I liked the service,Amazing,Value for money,Nice product,Water is clean and tasty also. Its cleans very well,Good. Happy with the installation,Nice product at affordable price.,Affordable and we'll functioning R.O."
        ],
        [
         "Felt very useful 👌 but cable is short,Good in portable series of Geyser,Awesome product,Good quality,Product okay but no bill receive,Wrong Reviews uploaded for this product.,Good Product"
        ],
        [
         "Good product,Quality is great but chuteney jar is not working well,Good,Superb,Very good item,Super purchase,Superb 👍,Sujata hi lena."
        ],
        [
         "Amazing! Value for money!,Very easy to use,2 in 1,Good product,Easy to clean,Good product to buy and use,Easy to operate that is simple process,Worth"
        ],
        [
         "Awesome Product"
        ],
        [
         "Good,Superb quality,Good products  nice one,Working well with iphone11.,I always rely on this companys products , so very good. Thank you so much"
        ],
        [
         "Easy to install but a bit slippery,Very good product, value for money,Expensive but for a reason,Best Screen Protector!,Best tempered glass to buy for your mobile,Clarity and adhesion is good,Perfect product,Great product and genuinely easy to install"
        ],
        [
         "Product installation was excellent  but delivery staff pathetic👌,TV Picture quality is good.,TV Picture quality is good,Very nice,Great picture and sound quality,One of the best big screen TV,Service is not good,Nice TV"
        ],
        [
         "Best For It’s Money!🔥,Nice quality, but comes with a price!,Easiest to install,Easy to install,Worth every penny!,Worth it,Good but costly,Totally worth it"
        ],
        [
         "Easy to install,Best screen guard and the easiest to install!,Easy to install,Very easy to install and doesn't interfere with the case,Value for money,Good tempered glass,Value for money,Wonderfull wonderfull wonderfull"
        ],
        [
         "Fantastic Ultra High Speed HDMI cable,Amazing product,Regarding cable"
        ]
       ],
       "datasetInfos": [],
       "dbfsResultPath": null,
       "isJsonSchema": true,
       "metadata": {},
       "overflow": false,
       "plotOptions": {
        "customPlotOptions": {},
        "displayType": "table",
        "pivotAggregation": null,
        "pivotColumns": null,
        "xColumns": null,
        "yColumns": null
       },
       "removedWidgets": [],
       "schema": [
        {
         "metadata": "{\"__CHAR_VARCHAR_TYPE_STRING\":\"varchar(1000)\"}",
         "name": "review_title",
         "type": "\"string\""
        }
       ],
       "type": "table"
      }
     },
     "output_type": "display_data"
    }
   ],
   "source": [
    "\n",
    "%sql\n",
    "SELECT dr.review_title\n",
    "FROM dim_review dr\n",
    "JOIN fact_product_reviews fpr ON dr.review_id = fpr.review_id\n",
    "WHERE fpr.rating > 4.5;"
   ]
  },
  {
   "cell_type": "markdown",
   "metadata": {
    "application/vnd.databricks.v1+cell": {
     "cellMetadata": {
      "byteLimit": 2048000,
      "rowLimit": 10000
     },
     "inputWidgets": {},
     "nuid": "cf674dda-5d68-4ad4-9197-e06cc38d142d",
     "showTitle": false,
     "tableResultSettingsMap": {},
     "title": ""
    }
   },
   "source": [
    "##Procurar por nome de produtos na tabela dim_product com a palavra 'Iphone'"
   ]
  },
  {
   "cell_type": "code",
   "execution_count": 0,
   "metadata": {
    "application/vnd.databricks.v1+cell": {
     "cellMetadata": {
      "byteLimit": 2048000,
      "implicitDf": true,
      "rowLimit": 10000
     },
     "inputWidgets": {},
     "nuid": "5469abcc-53c6-4050-ad53-58c5e9657654",
     "showTitle": false,
     "tableResultSettingsMap": {},
     "title": ""
    }
   },
   "outputs": [
    {
     "output_type": "display_data",
     "data": {
      "text/html": [
       "<style scoped>\n",
       "  .table-result-container {\n",
       "    max-height: 300px;\n",
       "    overflow: auto;\n",
       "  }\n",
       "  table, th, td {\n",
       "    border: 1px solid black;\n",
       "    border-collapse: collapse;\n",
       "  }\n",
       "  th, td {\n",
       "    padding: 5px;\n",
       "  }\n",
       "  th {\n",
       "    text-align: left;\n",
       "  }\n",
       "</style><div class='table-result-container'><table class='table-result'><thead style='background-color: white'><tr><th>product_id</th><th>product_name</th><th>category</th><th>about_product</th><th>product_link</th><th>img_link</th></tr></thead><tbody><tr><td>B09W5XR9RT</td><td>Duracell USB C To Lightning Apple Certified (Mfi) Braided Sync & Charge Cable For Iphone, Ipad And Ipod. Fast Charging Lightning Cable, 3.9 Feet (1.2M) - Black</td><td>Computers&Accessories|Accessories&Peripherals|Cables&Accessories|Cables|USBCables</td><td>1.2M Tangle Free durable tough braiding sync & charge cable|Supports iOS devices with max output up to 2.4A|Ensure fast and stable data transmission up to 480 Mbps|Up to 10,000+ bend and 10,000+ plugging and unplugging test ensure this cable a longer lifespan|Compatible designed to work flawlessly with MFi or apple devices, iPhone, iMac, iPad etc.|2 Years Warranty</td><td>https://www.amazon.in/Duracell-Lightning-Certified-Braided-Charging/dp/B09W5XR9RT/ref=sr_1_219?qid=1672903006&s=computers&sr=1-219</td><td>https://m.media-amazon.com/images/I/4177nw8okbL._SX300_SY300_QL70_FMwebp_.jpg</td></tr><tr><td>B07XLCFSSN</td><td>Amazonbasics Nylon Braided Usb-C To Lightning Cable, Fast Charging Mfi Certified Smartphone, Iphone Charger (6-Foot, Dark Grey)</td><td>Computers&Accessories|Accessories&Peripherals|Cables&Accessories|Cables|USBCables</td><td>Fast Charge: When Used With An 18W Or Higher Usb-C Wall Charger With Power Delivery You Can Charge Your Iphone To 50% Battery In Just 30 Minutes - Supported Models Include Iphone 8, 8 Plus, X, Xs, Xr, Xs Max, 11, 11 Pro, 11 Pro Max, Ipads, And More. High-Speed Data Transfer: Up To 480 Mbps For Transferring Music, Movies, And More In Seconds|Durable Friendly Design: Built With Top Rated Materials And Tested To Withstand Up To X Bend Cycles And Features Textured Grooves On Connector Ends For Improved Grip|Certified Chip: Apple Mfi Certified Charging And Syncing Cable For Your Apple Devices With Improved Chipset To Ensure Full Compatibility|This Cable Is Not Compatible With Standard Usb Chargers / Laptop Ports. Works Only With Type C Adapters And Laptop Ports. Please Check The Port Of Your Adapter Before Buying The Cable.|Connector Type: Usb Type C</td><td>https://www.amazon.in/AmazonBasics-Apple-Certified-Lightning-Charging/dp/B07XLCFSSN/ref=sr_1_279?qid=1672903008&s=computers&sr=1-279</td><td>https://m.media-amazon.com/images/W/WEBP_402378-T2/images/I/3183iGEWksL._SX300_SY300_QL70_FMwebp_.jpg</td></tr><tr><td>B09C6HXFC1</td><td>Duracell USB Lightning Apple Certified (Mfi) Braided Sync & Charge Cable For Iphone, Ipad And Ipod. Fast Charging Lightning Cable, 3.9 Feet (1.2M) - Black</td><td>Computers&Accessories|Accessories&Peripherals|Cables&Accessories|Cables|USBCables</td><td>Supports Ios Devices With Max Output Up To 2.4A|Up To 10, 000+ Bend And 10, 000+ Plugging And Unplugging Test Ensure This Cable A Longer Lifespan|Ensure Fast And Stable Data Transmission Up To 480 Mbps|2 Years Warranty|Compatible Designed To Work Flawlessly With Mfi Or Apple Devices, Iphone, Imac, Ipad Etc|1.2M Tangle Free Durable Tough Braiding Sync & Charge Cable</td><td>https://www.amazon.in/DURACELL-Lightning-Certified-braided-Devices/dp/B09C6HXFC1/ref=sr_1_22?qid=1672909124&s=electronics&sr=1-22</td><td>https://m.media-amazon.com/images/W/WEBP_402378-T1/images/I/41TZJiPRRwL._SX300_SY300_QL70_FMwebp_.jpg</td></tr><tr><td>B09W5XR9RT</td><td>Duracell USB C To Lightning Apple Certified (Mfi) Braided Sync & Charge Cable For Iphone, Ipad And Ipod. Fast Charging Lightning Cable, 3.9 Feet (1.2M) - Black</td><td>Computers&Accessories|Accessories&Peripherals|Cables&Accessories|Cables|USBCables</td><td>1.2M Tangle Free durable tough braiding sync & charge cable|Supports iOS devices with max output up to 2.4A|Ensure fast and stable data transmission up to 480 Mbps|Up to 10,000+ bend and 10,000+ plugging and unplugging test ensure this cable a longer lifespan|Compatible designed to work flawlessly with MFi or apple devices, iPhone, iMac, iPad etc.|2 Years Warranty</td><td>https://www.amazon.in/Duracell-Lightning-Certified-Braided-Charging/dp/B09W5XR9RT/ref=sr_1_32?qid=1672909125&s=electronics&sr=1-32</td><td>https://m.media-amazon.com/images/W/WEBP_402378-T2/images/I/4177nw8okbL._SX300_SY300_QL70_FMwebp_.jpg</td></tr><tr><td>B07XLCFSSN</td><td>Amazonbasics Nylon Braided Usb-C To Lightning Cable, Fast Charging Mfi Certified Smartphone, Iphone Charger (6-Foot, Dark Grey)</td><td>Computers&Accessories|Accessories&Peripherals|Cables&Accessories|Cables|USBCables</td><td>Fast Charge: When Used With An 18W Or Higher Usb-C Wall Charger With Power Delivery You Can Charge Your Iphone To 50% Battery In Just 30 Minutes - Supported Models Include Iphone 8, 8 Plus, X, Xs, Xr, Xs Max, 11, 11 Pro, 11 Pro Max, Ipads, And More. High-Speed Data Transfer: Up To 480 Mbps For Transferring Music, Movies, And More In Seconds|Durable Friendly Design: Built With Top Rated Materials And Tested To Withstand Up To X Bend Cycles And Features Textured Grooves On Connector Ends For Improved Grip|Certified Chip: Apple Mfi Certified Charging And Syncing Cable For Your Apple Devices With Improved Chipset To Ensure Full Compatibility|This Cable Is Not Compatible With Standard Usb Chargers / Laptop Ports. Works Only With Type C Adapters And Laptop Ports. Please Check The Port Of Your Adapter Before Buying The Cable.|Connector Type: Usb Type C</td><td>https://www.amazon.in/AmazonBasics-Apple-Certified-Lightning-Charging/dp/B07XLCFSSN/ref=sr_1_40?qid=1672909125&s=electronics&sr=1-40</td><td>https://m.media-amazon.com/images/I/3183iGEWksL._SX300_SY300_QL70_FMwebp_.jpg</td></tr><tr><td>B07LGT55SJ</td><td>Wayona Usb Nylon Braided Data Sync And Charging Cable For Iphone, Ipad Tablet (Red, Black)</td><td>Computers&Accessories|Accessories&Peripherals|Cables&Accessories|Cables|USBCables</td><td>[High Compatibility] : Compatible For iPhone X/Xs Max/Xr, Phone 8/8 Plus,Phone 7/7 Plus,Phone 6s/6s Plus,Phone 6/6 Plus,5/5s/5c/SE,Pad Pro,Pad Air 1/2,Pad mini 1/2/3,Pod nano7,Pod touch and more devices.|[Fast Charge&Data Sync ] : It can charge and sync simultaneously at a rapid speed, Compatible with any charging adaptor, multi-port charging station or power bank.|[Durability] : Durable nylon braided design with premium aluminum housing and toughened nylon fiber wound tightly around the cord lending it superior durability and adding a bit to its flexibility.|[High Security Level ] : It is designed to fully protect your device from damaging excessive current.Copper core thick+Multilayer shielding, Anti-interference, Protective circuit equipment.|[WARRANTY] 12-months warranty and friendly customer services, ensures the long-time enjoyment of your purchase. If you meet any question or problem, please don't hesitate to contact us. (10am - 7pm Working days)</td><td>https://www.amazon.in/Wayona-Braided-Syncing-Charging-iPhone/dp/B07LGT55SJ/ref=sr_1_89?qid=1672909128&s=electronics&sr=1-89</td><td>https://m.media-amazon.com/images/W/WEBP_402378-T2/images/I/41xmv3WPs7L._SX300_SY300_QL70_FMwebp_.jpg</td></tr><tr><td>B07JH1C41D</td><td>Wayona Nylon Braided (2 Pack) Lightning Fast Usb Data Cable Fast Charger Cord For Iphone, Ipad Tablet (3 Ft Pack Of 2, Grey)</td><td>Computers&Accessories|Accessories&Peripherals|Cables&Accessories|Cables|USBCables</td><td>[High Compatibility] : iPhone X/XsMax/Xr ,iPhone 8/8 Plus,iPhone 7/7 Plus,iPhone 6s/6s Plus,iPhone 6/6 Plus,iPhone 5/5s/5c/se,iPad Pro,iPad Air 1/2,iPad mini 1/2/3,iPod nano7,iPod touch and more apple devices.|[Fast Charge&Data Sync ] : It can charge and sync simultaneously at a rapid speed, Compatible with any charging adaptor, multi-port charging station or power bank.|[Durability] : Durable nylon braided design with premium aluminum housing and toughened nylon fiber wound tightly around the cord lending it superior durability and adding a bit to its flexibility.|[High Security Level ] : It is designed to fully protect your device from damaging excessive current.Copper core thick+Multilayer shielding, Anti-interference, Protective circuit equipment.</td><td>https://www.amazon.in/Wayona-Braided-WN3LG2-Syncing-Charging/dp/B07JH1C41D/ref=sr_1_98?qid=1672909129&s=electronics&sr=1-98</td><td>https://m.media-amazon.com/images/I/412fvb7k2FL._SX300_SY300_QL70_FMwebp_.jpg</td></tr><tr><td>B07JGDB5M1</td><td>Wayona Nylon Braided 2M / 6Ft Fast Charge Usb To Lightning Data Sync And Charging Cable For Iphone, Ipad Tablet (6 Ft Pack Of 1, Grey)</td><td>Computers&Accessories|Accessories&Peripherals|Cables&Accessories|Cables|USBCables</td><td>[High Compatibility] : Phone X/XsMax/Xr ,Phone 8/8 Plus,Phone 7/7 Plus,Phone 6s/6s Plus,Phone 6/6 Plus,Phone 5/5s/5c/se,Pad Pro,Pad Air 1/2,Pad mini 1/2/3,Pod nano7,Pod touch and more devices.|[Fast Charge&Data Sync ] : It can charge and sync simultaneously at a rapid speed, Compatible with any charging adaptor, multi-port charging station or power bank.|[Durability] : Durable nylon braided design with premium aluminum housing and toughened nylon fiber wound tightly around the cord lending it superior durability and adding a bit to its flexibility.|[High Security Level ] : It is designed to fully protect your device from damaging excessive current.Copper core thick+Multilayer shielding, Anti-interference, Protective circuit equipment.|[WARRANTY] 12-months warranty and friendly customer services, ensures the long-time enjoyment of your purchase. If you meet any question or problem, please don't hesitate to contact us. (10am - 7pm Working days)</td><td>https://www.amazon.in/Wayona-Braided-WN6LG1-Syncing-Charging/dp/B07JGDB5M1/ref=sr_1_119?qid=1672909129&s=electronics&sr=1-119</td><td>https://m.media-amazon.com/images/W/WEBP_402378-T1/images/I/51UsScvHQNL._SX300_SY300_QL70_FMwebp_.jpg</td></tr><tr><td>B084MZXJNK</td><td>Belkin Apple Certified Lightning To Type C Cable, Tough Unbreakable Braided Fast Charging For Iphone, Ipad, Air Pods, 3.3 Feet (1 Meters)    White</td><td>Computers&Accessories|Accessories&Peripherals|Cables&Accessories|Cables|USBCables</td><td>Charges Usb-Pd Enabled Iphones/Ipads From Zero To 50% When Paired With 18W Or Higher Usb-C Charger</td><td>https://www.amazon.in/Belkin-Lightning-Unbreakable-Braided-Charging/dp/B084MZXJNK/ref=sr_1_134?qid=1672909130&s=electronics&sr=1-134</td><td>https://m.media-amazon.com/images/W/WEBP_402378-T2/images/I/31fQdrBOMvL._SY445_SX342_QL70_FMwebp_.jpg</td></tr><tr><td>B084N133Y7</td><td>Belkin Apple Certified Lightning To Type C Cable, Fast Charging For Iphone, Ipad, Air Pods, 3.3 Feet (1 Meters)    White</td><td>Computers&Accessories|Accessories&Peripherals|Cables&Accessories|Cables|USBCables</td><td>Lightning Speed Lightning Cable Connect Your Iphone Or Ipad To A Usb-C Fast Charger For A Quick Power Boost Or Sync Photos And Videos With Your Computer. With This Convenient 4-Foot Cable You Can Leverage The Latest Fast Charging Standard, Usb Power Delivery|Tested To Withstand 10,000+ Bends For Ultimate Longevity|Supports Usb Power Delivery Fast Charging Take Advantage Of The Fast Charge Feature On Your Iphone 8 Or Later??Charging Up To 50 Percent In 30 Minutes* When Paired With An 18W Or Higher Usb-C Power Adapter|Lightning To Usb-C Cable For Iphone Fast Charge Your Iphone 8 Or Later From 0-50% In 30 Minutes (When Paired With 18W Usb-Pd Charger) Fast Charge Compatible Iphone Models: Iphone 11, 11 Pro, 11 Pro Max, Xs, Xs Max, Xr, X, 8, 8 Plus Tested To Withstand 8,000+ Bends|The Belkin Difference: Pioneer In Technology And Innovation For Over 35 Years|Mfi Certified ??Made For Iphone\" And ??Made For Ipad\" Mean That An Electronic Accessory Has Been Designed To Connect Specifically To Iphone Or Ipad And Has Been Certified By The Developer To Meet Apple Performance Standards|Added Length Our 4-Foot Cable Is Longer Than The Standard 3-Foot Usb-C Cable With Lightning Connector, So You Can Connect And Charge Your Iphone In The Car, On The Nightstand, And More</td><td>https://www.amazon.in/Belkin-Lightning-iPhone-Charging-MFi-Certified/dp/B084N133Y7/ref=sr_1_175?qid=1672909133&s=electronics&sr=1-175</td><td>https://m.media-amazon.com/images/W/WEBP_402378-T2/images/I/21fnuilweNL._SY445_SX342_QL70_FMwebp_.jpg</td></tr><tr><td>B07JH1CBGW</td><td>Wayona Nylon Braided Usb Syncing And Charging Cable Sync And Charging Cable For Iphone, Ipad (3 Ft, Black) - Pack Of 2</td><td>Computers&Accessories|Accessories&Peripherals|Cables&Accessories|Cables|USBCables</td><td>[High Compatibility] : iPhone X/XsMax/Xr ,iPhone 8/8 Plus,iPhone 7/7 Plus,iPhone 6s/6s Plus,iPhone 6/6 Plus,iPhone 5/5s/5c/se,iPad Pro,iPad Air 1/2,iPad mini 1/2/3,iPod nano7,iPod touch and more apple devices.|[Fast Charge&Data Sync ] : It can charge and sync simultaneously at a rapid speed, Compatible with any charging adaptor, multi-port charging station or power bank.|[Durability] : Durable nylon braided design with premium aluminum housing and toughened nylon fiber wound tightly around the cord lending it superior durability and adding a bit to its flexibility.|[High Security Level ] : It is designed to fully protect your device from damaging excessive current.Copper core thick+Multilayer shielding, Anti-interference, Protective circuit equipment.|[WARRANTY] 12-months warranty and friendly customer services, ensures the long-time enjoyment of your purchase. If you meet any question or problem, please don't hesitate to contact us (10am - 7pm Working days)</td><td>https://www.amazon.in/Wayona-Braided-WN3LB2-Syncing-Charging/dp/B07JH1CBGW/ref=sr_1_241?qid=1672909136&s=electronics&sr=1-241</td><td>https://m.media-amazon.com/images/I/41eHLj-wfGL._SX300_SY300_QL70_FMwebp_.jpg</td></tr><tr><td>B08N1WL9XW</td><td>FLiX (Beetel) 3in1 (Type C|Micro|Iphone Lightening) Textured Pattern 3A Fast Charging Cable with QC & PD Support for Type C,Micro USB & Lightning Iphone Cable,Made in India,1.5 Meter Long Cable(T101)</td><td>Computers&Accessories|Accessories&Peripherals|Cables&Accessories|Cables|USBCables</td><td>Proudly Made In India|Blazing Charging - All combined 3 in 1 cable supports fast charging with the speed 3A to all your gadgets including mobiles, tablets, speakers and much more.|Ultra Durable - The cable is crafted with braided wire giving you an extra tough braided cable with 10000+ bends lifespan cycle|Universal Compatibility - The 3 in 1 cable gives you universal compatibility with its flexible and high-quality material that comes with a USB type C connector, micro USB connector and lightning connector.|Convenient Length - The durable and flexible cable comes with an ideal length of 1.5 meter which eliminates the struggle of finding nearby switch boards.</td><td>https://www.amazon.in/FLiX-Textured-charging-Lightning-Smartphones/dp/B08N1WL9XW/ref=sr_1_293?qid=1672909139&s=electronics&sr=1-293</td><td>https://m.media-amazon.com/images/W/WEBP_402378-T1/images/I/31-ACQj+oDL._SY445_SX342_.jpg</td></tr><tr><td>B09C6HXFC1</td><td>Duracell USB Lightning Apple Certified (Mfi) Braided Sync & Charge Cable For Iphone, Ipad And Ipod. Fast Charging Lightning Cable, 3.9 Feet (1.2M) - Black</td><td>Computers&Accessories|Accessories&Peripherals|Cables&Accessories|Cables|USBCables</td><td>Supports Ios Devices With Max Output Up To 2.4A|Up To 10, 000+ Bend And 10, 000+ Plugging And Unplugging Test Ensure This Cable A Longer Lifespan|Ensure Fast And Stable Data Transmission Up To 480 Mbps|2 Years Warranty|Compatible Designed To Work Flawlessly With Mfi Or Apple Devices, Iphone, Imac, Ipad Etc|1.2M Tangle Free Durable Tough Braiding Sync & Charge Cable</td><td>https://www.amazon.in/DURACELL-Lightning-Certified-braided-Devices/dp/B09C6HXFC1/ref=sr_1_138?qid=1672895784&s=electronics&sr=1-138</td><td>https://m.media-amazon.com/images/I/41TZJiPRRwL._SX300_SY300_QL70_ML2_.jpg</td></tr><tr><td>B09W5XR9RT</td><td>Duracell USB C To Lightning Apple Certified (Mfi) Braided Sync & Charge Cable For Iphone, Ipad And Ipod. Fast Charging Lightning Cable, 3.9 Feet (1.2M) - Black</td><td>Computers&Accessories|Accessories&Peripherals|Cables&Accessories|Cables|USBCables</td><td>1.2M Tangle Free durable tough braiding sync & charge cable|Supports iOS devices with max output up to 2.4A|Ensure fast and stable data transmission up to 480 Mbps|Up to 10,000+ bend and 10,000+ plugging and unplugging test ensure this cable a longer lifespan|Compatible designed to work flawlessly with MFi or apple devices, iPhone, iMac, iPad etc.|2 Years Warranty</td><td>https://www.amazon.in/Duracell-Lightning-Certified-Braided-Charging/dp/B09W5XR9RT/ref=sr_1_205?qid=1672895806&s=electronics&sr=1-205</td><td>https://m.media-amazon.com/images/I/4177nw8okbL._SX300_SY300_QL70_ML2_.jpg</td></tr><tr><td>B07XLCFSSN</td><td>Amazonbasics Nylon Braided Usb-C To Lightning Cable, Fast Charging Mfi Certified Smartphone, Iphone Charger (6-Foot, Dark Grey)</td><td>Computers&Accessories|Accessories&Peripherals|Cables&Accessories|Cables|USBCables</td><td>Fast Charge: When Used With An 18W Or Higher Usb-C Wall Charger With Power Delivery You Can Charge Your Iphone To 50% Battery In Just 30 Minutes - Supported Models Include Iphone 8, 8 Plus, X, Xs, Xr, Xs Max, 11, 11 Pro, 11 Pro Max, Ipads, And More. High-Speed Data Transfer: Up To 480 Mbps For Transferring Music, Movies, And More In Seconds|Durable Friendly Design: Built With Top Rated Materials And Tested To Withstand Up To X Bend Cycles And Features Textured Grooves On Connector Ends For Improved Grip|Certified Chip: Apple Mfi Certified Charging And Syncing Cable For Your Apple Devices With Improved Chipset To Ensure Full Compatibility|This Cable Is Not Compatible With Standard Usb Chargers / Laptop Ports. Works Only With Type C Adapters And Laptop Ports. Please Check The Port Of Your Adapter Before Buying The Cable.|Connector Type: Usb Type C</td><td>https://www.amazon.in/AmazonBasics-Apple-Certified-Lightning-Charging/dp/B07XLCFSSN/ref=sr_1_245?qid=1672895821&s=electronics&sr=1-245</td><td>https://m.media-amazon.com/images/I/3183iGEWksL._SX300_SY300_QL70_ML2_.jpg</td></tr><tr><td>B09T37CKQ5</td><td>FLiX Usb Charger,Flix (Beetel) Bolt 2.4 Dual Poart,5V/2.4A/12W Usb Wall Charger Fast Charging,Adapter For Android/Iphone 11/Xs/Xs Max/Xr/X/8/7/6/Plus,Ipad Pro/Air 2/Mini 3/4,Samsung S4/S5 & More-Black</td><td>Electronics|Mobiles&Accessories|MobileAccessories|Chargers|WallChargers</td><td>USB Charger with dual ports allow you to charge 2 devices at the same time with the total output of 2.4A current.|With the intelligent chip inside, dual USB wall charger matches the current as your device's need automatically. Over-current, over-voltage and short-circuit protection also effectively protect your smartphones from damage|Internal protection mechanisms offers multiple Protection against short-circuit, over-temperature, over-current, over-voltage and more|Robust textured casing and premium internal components ensure perfect performance|Power Source Type: Corded Electric; Specification Met: Bis</td><td>https://www.amazon.in/FLiX-Charger-Charging-Adapter-More-Black/dp/B09T37CKQ5/ref=sr_1_431?qid=1672895872&s=electronics&sr=1-431</td><td>https://m.media-amazon.com/images/I/31Iuz7jlfqL._SX300_SY300_QL70_ML2_.jpg</td></tr><tr><td>B09C6HXFC1</td><td>Duracell USB Lightning Apple Certified (Mfi) Braided Sync & Charge Cable For Iphone, Ipad And Ipod. Fast Charging Lightning Cable, 3.9 Feet (1.2M) - Black</td><td>Computers&Accessories|Accessories&Peripherals|Cables&Accessories|Cables|USBCables</td><td>Supports Ios Devices With Max Output Up To 2.4A|Up To 10, 000+ Bend And 10, 000+ Plugging And Unplugging Test Ensure This Cable A Longer Lifespan|Ensure Fast And Stable Data Transmission Up To 480 Mbps|2 Years Warranty|Compatible Designed To Work Flawlessly With Mfi Or Apple Devices, Iphone, Imac, Ipad Etc|1.2M Tangle Free Durable Tough Braiding Sync & Charge Cable</td><td>https://www.amazon.in/DURACELL-Lightning-Certified-braided-Devices/dp/B09C6HXFC1/ref=sr_1_126?qid=1672903001&s=computers&sr=1-126</td><td>https://m.media-amazon.com/images/I/41TZJiPRRwL._SX300_SY300_QL70_FMwebp_.jpg</td></tr></tbody></table></div>"
      ]
     },
     "metadata": {
      "application/vnd.databricks.v1+output": {
       "addedWidgets": {},
       "aggData": [],
       "aggError": "",
       "aggOverflow": false,
       "aggSchema": [],
       "aggSeriesLimitReached": false,
       "aggType": "",
       "arguments": {},
       "columnCustomDisplayInfos": {},
       "data": [
        [
         "B09W5XR9RT",
         "Duracell USB C To Lightning Apple Certified (Mfi) Braided Sync & Charge Cable For Iphone, Ipad And Ipod. Fast Charging Lightning Cable, 3.9 Feet (1.2M) - Black",
         "Computers&Accessories|Accessories&Peripherals|Cables&Accessories|Cables|USBCables",
         "1.2M Tangle Free durable tough braiding sync & charge cable|Supports iOS devices with max output up to 2.4A|Ensure fast and stable data transmission up to 480 Mbps|Up to 10,000+ bend and 10,000+ plugging and unplugging test ensure this cable a longer lifespan|Compatible designed to work flawlessly with MFi or apple devices, iPhone, iMac, iPad etc.|2 Years Warranty",
         "https://www.amazon.in/Duracell-Lightning-Certified-Braided-Charging/dp/B09W5XR9RT/ref=sr_1_219?qid=1672903006&s=computers&sr=1-219",
         "https://m.media-amazon.com/images/I/4177nw8okbL._SX300_SY300_QL70_FMwebp_.jpg"
        ],
        [
         "B07XLCFSSN",
         "Amazonbasics Nylon Braided Usb-C To Lightning Cable, Fast Charging Mfi Certified Smartphone, Iphone Charger (6-Foot, Dark Grey)",
         "Computers&Accessories|Accessories&Peripherals|Cables&Accessories|Cables|USBCables",
         "Fast Charge: When Used With An 18W Or Higher Usb-C Wall Charger With Power Delivery You Can Charge Your Iphone To 50% Battery In Just 30 Minutes - Supported Models Include Iphone 8, 8 Plus, X, Xs, Xr, Xs Max, 11, 11 Pro, 11 Pro Max, Ipads, And More. High-Speed Data Transfer: Up To 480 Mbps For Transferring Music, Movies, And More In Seconds|Durable Friendly Design: Built With Top Rated Materials And Tested To Withstand Up To X Bend Cycles And Features Textured Grooves On Connector Ends For Improved Grip|Certified Chip: Apple Mfi Certified Charging And Syncing Cable For Your Apple Devices With Improved Chipset To Ensure Full Compatibility|This Cable Is Not Compatible With Standard Usb Chargers / Laptop Ports. Works Only With Type C Adapters And Laptop Ports. Please Check The Port Of Your Adapter Before Buying The Cable.|Connector Type: Usb Type C",
         "https://www.amazon.in/AmazonBasics-Apple-Certified-Lightning-Charging/dp/B07XLCFSSN/ref=sr_1_279?qid=1672903008&s=computers&sr=1-279",
         "https://m.media-amazon.com/images/W/WEBP_402378-T2/images/I/3183iGEWksL._SX300_SY300_QL70_FMwebp_.jpg"
        ],
        [
         "B09C6HXFC1",
         "Duracell USB Lightning Apple Certified (Mfi) Braided Sync & Charge Cable For Iphone, Ipad And Ipod. Fast Charging Lightning Cable, 3.9 Feet (1.2M) - Black",
         "Computers&Accessories|Accessories&Peripherals|Cables&Accessories|Cables|USBCables",
         "Supports Ios Devices With Max Output Up To 2.4A|Up To 10, 000+ Bend And 10, 000+ Plugging And Unplugging Test Ensure This Cable A Longer Lifespan|Ensure Fast And Stable Data Transmission Up To 480 Mbps|2 Years Warranty|Compatible Designed To Work Flawlessly With Mfi Or Apple Devices, Iphone, Imac, Ipad Etc|1.2M Tangle Free Durable Tough Braiding Sync & Charge Cable",
         "https://www.amazon.in/DURACELL-Lightning-Certified-braided-Devices/dp/B09C6HXFC1/ref=sr_1_22?qid=1672909124&s=electronics&sr=1-22",
         "https://m.media-amazon.com/images/W/WEBP_402378-T1/images/I/41TZJiPRRwL._SX300_SY300_QL70_FMwebp_.jpg"
        ],
        [
         "B09W5XR9RT",
         "Duracell USB C To Lightning Apple Certified (Mfi) Braided Sync & Charge Cable For Iphone, Ipad And Ipod. Fast Charging Lightning Cable, 3.9 Feet (1.2M) - Black",
         "Computers&Accessories|Accessories&Peripherals|Cables&Accessories|Cables|USBCables",
         "1.2M Tangle Free durable tough braiding sync & charge cable|Supports iOS devices with max output up to 2.4A|Ensure fast and stable data transmission up to 480 Mbps|Up to 10,000+ bend and 10,000+ plugging and unplugging test ensure this cable a longer lifespan|Compatible designed to work flawlessly with MFi or apple devices, iPhone, iMac, iPad etc.|2 Years Warranty",
         "https://www.amazon.in/Duracell-Lightning-Certified-Braided-Charging/dp/B09W5XR9RT/ref=sr_1_32?qid=1672909125&s=electronics&sr=1-32",
         "https://m.media-amazon.com/images/W/WEBP_402378-T2/images/I/4177nw8okbL._SX300_SY300_QL70_FMwebp_.jpg"
        ],
        [
         "B07XLCFSSN",
         "Amazonbasics Nylon Braided Usb-C To Lightning Cable, Fast Charging Mfi Certified Smartphone, Iphone Charger (6-Foot, Dark Grey)",
         "Computers&Accessories|Accessories&Peripherals|Cables&Accessories|Cables|USBCables",
         "Fast Charge: When Used With An 18W Or Higher Usb-C Wall Charger With Power Delivery You Can Charge Your Iphone To 50% Battery In Just 30 Minutes - Supported Models Include Iphone 8, 8 Plus, X, Xs, Xr, Xs Max, 11, 11 Pro, 11 Pro Max, Ipads, And More. High-Speed Data Transfer: Up To 480 Mbps For Transferring Music, Movies, And More In Seconds|Durable Friendly Design: Built With Top Rated Materials And Tested To Withstand Up To X Bend Cycles And Features Textured Grooves On Connector Ends For Improved Grip|Certified Chip: Apple Mfi Certified Charging And Syncing Cable For Your Apple Devices With Improved Chipset To Ensure Full Compatibility|This Cable Is Not Compatible With Standard Usb Chargers / Laptop Ports. Works Only With Type C Adapters And Laptop Ports. Please Check The Port Of Your Adapter Before Buying The Cable.|Connector Type: Usb Type C",
         "https://www.amazon.in/AmazonBasics-Apple-Certified-Lightning-Charging/dp/B07XLCFSSN/ref=sr_1_40?qid=1672909125&s=electronics&sr=1-40",
         "https://m.media-amazon.com/images/I/3183iGEWksL._SX300_SY300_QL70_FMwebp_.jpg"
        ],
        [
         "B07LGT55SJ",
         "Wayona Usb Nylon Braided Data Sync And Charging Cable For Iphone, Ipad Tablet (Red, Black)",
         "Computers&Accessories|Accessories&Peripherals|Cables&Accessories|Cables|USBCables",
         "[High Compatibility] : Compatible For iPhone X/Xs Max/Xr, Phone 8/8 Plus,Phone 7/7 Plus,Phone 6s/6s Plus,Phone 6/6 Plus,5/5s/5c/SE,Pad Pro,Pad Air 1/2,Pad mini 1/2/3,Pod nano7,Pod touch and more devices.|[Fast Charge&Data Sync ] : It can charge and sync simultaneously at a rapid speed, Compatible with any charging adaptor, multi-port charging station or power bank.|[Durability] : Durable nylon braided design with premium aluminum housing and toughened nylon fiber wound tightly around the cord lending it superior durability and adding a bit to its flexibility.|[High Security Level ] : It is designed to fully protect your device from damaging excessive current.Copper core thick+Multilayer shielding, Anti-interference, Protective circuit equipment.|[WARRANTY] 12-months warranty and friendly customer services, ensures the long-time enjoyment of your purchase. If you meet any question or problem, please don't hesitate to contact us. (10am - 7pm Working days)",
         "https://www.amazon.in/Wayona-Braided-Syncing-Charging-iPhone/dp/B07LGT55SJ/ref=sr_1_89?qid=1672909128&s=electronics&sr=1-89",
         "https://m.media-amazon.com/images/W/WEBP_402378-T2/images/I/41xmv3WPs7L._SX300_SY300_QL70_FMwebp_.jpg"
        ],
        [
         "B07JH1C41D",
         "Wayona Nylon Braided (2 Pack) Lightning Fast Usb Data Cable Fast Charger Cord For Iphone, Ipad Tablet (3 Ft Pack Of 2, Grey)",
         "Computers&Accessories|Accessories&Peripherals|Cables&Accessories|Cables|USBCables",
         "[High Compatibility] : iPhone X/XsMax/Xr ,iPhone 8/8 Plus,iPhone 7/7 Plus,iPhone 6s/6s Plus,iPhone 6/6 Plus,iPhone 5/5s/5c/se,iPad Pro,iPad Air 1/2,iPad mini 1/2/3,iPod nano7,iPod touch and more apple devices.|[Fast Charge&Data Sync ] : It can charge and sync simultaneously at a rapid speed, Compatible with any charging adaptor, multi-port charging station or power bank.|[Durability] : Durable nylon braided design with premium aluminum housing and toughened nylon fiber wound tightly around the cord lending it superior durability and adding a bit to its flexibility.|[High Security Level ] : It is designed to fully protect your device from damaging excessive current.Copper core thick+Multilayer shielding, Anti-interference, Protective circuit equipment.",
         "https://www.amazon.in/Wayona-Braided-WN3LG2-Syncing-Charging/dp/B07JH1C41D/ref=sr_1_98?qid=1672909129&s=electronics&sr=1-98",
         "https://m.media-amazon.com/images/I/412fvb7k2FL._SX300_SY300_QL70_FMwebp_.jpg"
        ],
        [
         "B07JGDB5M1",
         "Wayona Nylon Braided 2M / 6Ft Fast Charge Usb To Lightning Data Sync And Charging Cable For Iphone, Ipad Tablet (6 Ft Pack Of 1, Grey)",
         "Computers&Accessories|Accessories&Peripherals|Cables&Accessories|Cables|USBCables",
         "[High Compatibility] : Phone X/XsMax/Xr ,Phone 8/8 Plus,Phone 7/7 Plus,Phone 6s/6s Plus,Phone 6/6 Plus,Phone 5/5s/5c/se,Pad Pro,Pad Air 1/2,Pad mini 1/2/3,Pod nano7,Pod touch and more devices.|[Fast Charge&Data Sync ] : It can charge and sync simultaneously at a rapid speed, Compatible with any charging adaptor, multi-port charging station or power bank.|[Durability] : Durable nylon braided design with premium aluminum housing and toughened nylon fiber wound tightly around the cord lending it superior durability and adding a bit to its flexibility.|[High Security Level ] : It is designed to fully protect your device from damaging excessive current.Copper core thick+Multilayer shielding, Anti-interference, Protective circuit equipment.|[WARRANTY] 12-months warranty and friendly customer services, ensures the long-time enjoyment of your purchase. If you meet any question or problem, please don't hesitate to contact us. (10am - 7pm Working days)",
         "https://www.amazon.in/Wayona-Braided-WN6LG1-Syncing-Charging/dp/B07JGDB5M1/ref=sr_1_119?qid=1672909129&s=electronics&sr=1-119",
         "https://m.media-amazon.com/images/W/WEBP_402378-T1/images/I/51UsScvHQNL._SX300_SY300_QL70_FMwebp_.jpg"
        ],
        [
         "B084MZXJNK",
         "Belkin Apple Certified Lightning To Type C Cable, Tough Unbreakable Braided Fast Charging For Iphone, Ipad, Air Pods, 3.3 Feet (1 Meters)    White",
         "Computers&Accessories|Accessories&Peripherals|Cables&Accessories|Cables|USBCables",
         "Charges Usb-Pd Enabled Iphones/Ipads From Zero To 50% When Paired With 18W Or Higher Usb-C Charger",
         "https://www.amazon.in/Belkin-Lightning-Unbreakable-Braided-Charging/dp/B084MZXJNK/ref=sr_1_134?qid=1672909130&s=electronics&sr=1-134",
         "https://m.media-amazon.com/images/W/WEBP_402378-T2/images/I/31fQdrBOMvL._SY445_SX342_QL70_FMwebp_.jpg"
        ],
        [
         "B084N133Y7",
         "Belkin Apple Certified Lightning To Type C Cable, Fast Charging For Iphone, Ipad, Air Pods, 3.3 Feet (1 Meters)    White",
         "Computers&Accessories|Accessories&Peripherals|Cables&Accessories|Cables|USBCables",
         "Lightning Speed Lightning Cable Connect Your Iphone Or Ipad To A Usb-C Fast Charger For A Quick Power Boost Or Sync Photos And Videos With Your Computer. With This Convenient 4-Foot Cable You Can Leverage The Latest Fast Charging Standard, Usb Power Delivery|Tested To Withstand 10,000+ Bends For Ultimate Longevity|Supports Usb Power Delivery Fast Charging Take Advantage Of The Fast Charge Feature On Your Iphone 8 Or Later??Charging Up To 50 Percent In 30 Minutes* When Paired With An 18W Or Higher Usb-C Power Adapter|Lightning To Usb-C Cable For Iphone Fast Charge Your Iphone 8 Or Later From 0-50% In 30 Minutes (When Paired With 18W Usb-Pd Charger) Fast Charge Compatible Iphone Models: Iphone 11, 11 Pro, 11 Pro Max, Xs, Xs Max, Xr, X, 8, 8 Plus Tested To Withstand 8,000+ Bends|The Belkin Difference: Pioneer In Technology And Innovation For Over 35 Years|Mfi Certified ??Made For Iphone\" And ??Made For Ipad\" Mean That An Electronic Accessory Has Been Designed To Connect Specifically To Iphone Or Ipad And Has Been Certified By The Developer To Meet Apple Performance Standards|Added Length Our 4-Foot Cable Is Longer Than The Standard 3-Foot Usb-C Cable With Lightning Connector, So You Can Connect And Charge Your Iphone In The Car, On The Nightstand, And More",
         "https://www.amazon.in/Belkin-Lightning-iPhone-Charging-MFi-Certified/dp/B084N133Y7/ref=sr_1_175?qid=1672909133&s=electronics&sr=1-175",
         "https://m.media-amazon.com/images/W/WEBP_402378-T2/images/I/21fnuilweNL._SY445_SX342_QL70_FMwebp_.jpg"
        ],
        [
         "B07JH1CBGW",
         "Wayona Nylon Braided Usb Syncing And Charging Cable Sync And Charging Cable For Iphone, Ipad (3 Ft, Black) - Pack Of 2",
         "Computers&Accessories|Accessories&Peripherals|Cables&Accessories|Cables|USBCables",
         "[High Compatibility] : iPhone X/XsMax/Xr ,iPhone 8/8 Plus,iPhone 7/7 Plus,iPhone 6s/6s Plus,iPhone 6/6 Plus,iPhone 5/5s/5c/se,iPad Pro,iPad Air 1/2,iPad mini 1/2/3,iPod nano7,iPod touch and more apple devices.|[Fast Charge&Data Sync ] : It can charge and sync simultaneously at a rapid speed, Compatible with any charging adaptor, multi-port charging station or power bank.|[Durability] : Durable nylon braided design with premium aluminum housing and toughened nylon fiber wound tightly around the cord lending it superior durability and adding a bit to its flexibility.|[High Security Level ] : It is designed to fully protect your device from damaging excessive current.Copper core thick+Multilayer shielding, Anti-interference, Protective circuit equipment.|[WARRANTY] 12-months warranty and friendly customer services, ensures the long-time enjoyment of your purchase. If you meet any question or problem, please don't hesitate to contact us (10am - 7pm Working days)",
         "https://www.amazon.in/Wayona-Braided-WN3LB2-Syncing-Charging/dp/B07JH1CBGW/ref=sr_1_241?qid=1672909136&s=electronics&sr=1-241",
         "https://m.media-amazon.com/images/I/41eHLj-wfGL._SX300_SY300_QL70_FMwebp_.jpg"
        ],
        [
         "B08N1WL9XW",
         "FLiX (Beetel) 3in1 (Type C|Micro|Iphone Lightening) Textured Pattern 3A Fast Charging Cable with QC & PD Support for Type C,Micro USB & Lightning Iphone Cable,Made in India,1.5 Meter Long Cable(T101)",
         "Computers&Accessories|Accessories&Peripherals|Cables&Accessories|Cables|USBCables",
         "Proudly Made In India|Blazing Charging - All combined 3 in 1 cable supports fast charging with the speed 3A to all your gadgets including mobiles, tablets, speakers and much more.|Ultra Durable - The cable is crafted with braided wire giving you an extra tough braided cable with 10000+ bends lifespan cycle|Universal Compatibility - The 3 in 1 cable gives you universal compatibility with its flexible and high-quality material that comes with a USB type C connector, micro USB connector and lightning connector.|Convenient Length - The durable and flexible cable comes with an ideal length of 1.5 meter which eliminates the struggle of finding nearby switch boards.",
         "https://www.amazon.in/FLiX-Textured-charging-Lightning-Smartphones/dp/B08N1WL9XW/ref=sr_1_293?qid=1672909139&s=electronics&sr=1-293",
         "https://m.media-amazon.com/images/W/WEBP_402378-T1/images/I/31-ACQj+oDL._SY445_SX342_.jpg"
        ],
        [
         "B09C6HXFC1",
         "Duracell USB Lightning Apple Certified (Mfi) Braided Sync & Charge Cable For Iphone, Ipad And Ipod. Fast Charging Lightning Cable, 3.9 Feet (1.2M) - Black",
         "Computers&Accessories|Accessories&Peripherals|Cables&Accessories|Cables|USBCables",
         "Supports Ios Devices With Max Output Up To 2.4A|Up To 10, 000+ Bend And 10, 000+ Plugging And Unplugging Test Ensure This Cable A Longer Lifespan|Ensure Fast And Stable Data Transmission Up To 480 Mbps|2 Years Warranty|Compatible Designed To Work Flawlessly With Mfi Or Apple Devices, Iphone, Imac, Ipad Etc|1.2M Tangle Free Durable Tough Braiding Sync & Charge Cable",
         "https://www.amazon.in/DURACELL-Lightning-Certified-braided-Devices/dp/B09C6HXFC1/ref=sr_1_138?qid=1672895784&s=electronics&sr=1-138",
         "https://m.media-amazon.com/images/I/41TZJiPRRwL._SX300_SY300_QL70_ML2_.jpg"
        ],
        [
         "B09W5XR9RT",
         "Duracell USB C To Lightning Apple Certified (Mfi) Braided Sync & Charge Cable For Iphone, Ipad And Ipod. Fast Charging Lightning Cable, 3.9 Feet (1.2M) - Black",
         "Computers&Accessories|Accessories&Peripherals|Cables&Accessories|Cables|USBCables",
         "1.2M Tangle Free durable tough braiding sync & charge cable|Supports iOS devices with max output up to 2.4A|Ensure fast and stable data transmission up to 480 Mbps|Up to 10,000+ bend and 10,000+ plugging and unplugging test ensure this cable a longer lifespan|Compatible designed to work flawlessly with MFi or apple devices, iPhone, iMac, iPad etc.|2 Years Warranty",
         "https://www.amazon.in/Duracell-Lightning-Certified-Braided-Charging/dp/B09W5XR9RT/ref=sr_1_205?qid=1672895806&s=electronics&sr=1-205",
         "https://m.media-amazon.com/images/I/4177nw8okbL._SX300_SY300_QL70_ML2_.jpg"
        ],
        [
         "B07XLCFSSN",
         "Amazonbasics Nylon Braided Usb-C To Lightning Cable, Fast Charging Mfi Certified Smartphone, Iphone Charger (6-Foot, Dark Grey)",
         "Computers&Accessories|Accessories&Peripherals|Cables&Accessories|Cables|USBCables",
         "Fast Charge: When Used With An 18W Or Higher Usb-C Wall Charger With Power Delivery You Can Charge Your Iphone To 50% Battery In Just 30 Minutes - Supported Models Include Iphone 8, 8 Plus, X, Xs, Xr, Xs Max, 11, 11 Pro, 11 Pro Max, Ipads, And More. High-Speed Data Transfer: Up To 480 Mbps For Transferring Music, Movies, And More In Seconds|Durable Friendly Design: Built With Top Rated Materials And Tested To Withstand Up To X Bend Cycles And Features Textured Grooves On Connector Ends For Improved Grip|Certified Chip: Apple Mfi Certified Charging And Syncing Cable For Your Apple Devices With Improved Chipset To Ensure Full Compatibility|This Cable Is Not Compatible With Standard Usb Chargers / Laptop Ports. Works Only With Type C Adapters And Laptop Ports. Please Check The Port Of Your Adapter Before Buying The Cable.|Connector Type: Usb Type C",
         "https://www.amazon.in/AmazonBasics-Apple-Certified-Lightning-Charging/dp/B07XLCFSSN/ref=sr_1_245?qid=1672895821&s=electronics&sr=1-245",
         "https://m.media-amazon.com/images/I/3183iGEWksL._SX300_SY300_QL70_ML2_.jpg"
        ],
        [
         "B09T37CKQ5",
         "FLiX Usb Charger,Flix (Beetel) Bolt 2.4 Dual Poart,5V/2.4A/12W Usb Wall Charger Fast Charging,Adapter For Android/Iphone 11/Xs/Xs Max/Xr/X/8/7/6/Plus,Ipad Pro/Air 2/Mini 3/4,Samsung S4/S5 & More-Black",
         "Electronics|Mobiles&Accessories|MobileAccessories|Chargers|WallChargers",
         "USB Charger with dual ports allow you to charge 2 devices at the same time with the total output of 2.4A current.|With the intelligent chip inside, dual USB wall charger matches the current as your device's need automatically. Over-current, over-voltage and short-circuit protection also effectively protect your smartphones from damage|Internal protection mechanisms offers multiple Protection against short-circuit, over-temperature, over-current, over-voltage and more|Robust textured casing and premium internal components ensure perfect performance|Power Source Type: Corded Electric; Specification Met: Bis",
         "https://www.amazon.in/FLiX-Charger-Charging-Adapter-More-Black/dp/B09T37CKQ5/ref=sr_1_431?qid=1672895872&s=electronics&sr=1-431",
         "https://m.media-amazon.com/images/I/31Iuz7jlfqL._SX300_SY300_QL70_ML2_.jpg"
        ],
        [
         "B09C6HXFC1",
         "Duracell USB Lightning Apple Certified (Mfi) Braided Sync & Charge Cable For Iphone, Ipad And Ipod. Fast Charging Lightning Cable, 3.9 Feet (1.2M) - Black",
         "Computers&Accessories|Accessories&Peripherals|Cables&Accessories|Cables|USBCables",
         "Supports Ios Devices With Max Output Up To 2.4A|Up To 10, 000+ Bend And 10, 000+ Plugging And Unplugging Test Ensure This Cable A Longer Lifespan|Ensure Fast And Stable Data Transmission Up To 480 Mbps|2 Years Warranty|Compatible Designed To Work Flawlessly With Mfi Or Apple Devices, Iphone, Imac, Ipad Etc|1.2M Tangle Free Durable Tough Braiding Sync & Charge Cable",
         "https://www.amazon.in/DURACELL-Lightning-Certified-braided-Devices/dp/B09C6HXFC1/ref=sr_1_126?qid=1672903001&s=computers&sr=1-126",
         "https://m.media-amazon.com/images/I/41TZJiPRRwL._SX300_SY300_QL70_FMwebp_.jpg"
        ]
       ],
       "datasetInfos": [],
       "dbfsResultPath": null,
       "isJsonSchema": true,
       "metadata": {},
       "overflow": false,
       "plotOptions": {
        "customPlotOptions": {},
        "displayType": "table",
        "pivotAggregation": null,
        "pivotColumns": null,
        "xColumns": null,
        "yColumns": null
       },
       "removedWidgets": [],
       "schema": [
        {
         "metadata": "{\"__CHAR_VARCHAR_TYPE_STRING\":\"varchar(255)\"}",
         "name": "product_id",
         "type": "\"string\""
        },
        {
         "metadata": "{\"__CHAR_VARCHAR_TYPE_STRING\":\"varchar(1000)\"}",
         "name": "product_name",
         "type": "\"string\""
        },
        {
         "metadata": "{\"__CHAR_VARCHAR_TYPE_STRING\":\"varchar(255)\"}",
         "name": "category",
         "type": "\"string\""
        },
        {
         "metadata": "{}",
         "name": "about_product",
         "type": "\"string\""
        },
        {
         "metadata": "{\"__CHAR_VARCHAR_TYPE_STRING\":\"varchar(255)\"}",
         "name": "product_link",
         "type": "\"string\""
        },
        {
         "metadata": "{\"__CHAR_VARCHAR_TYPE_STRING\":\"varchar(255)\"}",
         "name": "img_link",
         "type": "\"string\""
        }
       ],
       "type": "table"
      }
     },
     "output_type": "display_data"
    }
   ],
   "source": [
    "\n",
    "%sql \n",
    "    SELECT * \n",
    "    FROM dim_product \n",
    "    WHERE product_name LIKE '%Iphone%';\n",
    "\n",
    "\n"
   ]
  },
  {
   "cell_type": "markdown",
   "metadata": {
    "application/vnd.databricks.v1+cell": {
     "cellMetadata": {
      "byteLimit": 2048000,
      "rowLimit": 10000
     },
     "inputWidgets": {},
     "nuid": "6b7c1cf2-9591-4dc1-a166-2f1db1b41cd6",
     "showTitle": false,
     "tableResultSettingsMap": {},
     "title": ""
    }
   },
   "source": [
    "##Procurar por nomes de produtos na tabela dim_product com a palavra 'Gamepad'"
   ]
  },
  {
   "cell_type": "code",
   "execution_count": 0,
   "metadata": {
    "application/vnd.databricks.v1+cell": {
     "cellMetadata": {
      "byteLimit": 2048000,
      "implicitDf": true,
      "rowLimit": 10000
     },
     "inputWidgets": {},
     "nuid": "a2f70621-89f2-44f0-8347-4157c1379171",
     "showTitle": false,
     "tableResultSettingsMap": {},
     "title": ""
    }
   },
   "outputs": [
    {
     "output_type": "display_data",
     "data": {
      "text/html": [
       "<style scoped>\n",
       "  .table-result-container {\n",
       "    max-height: 300px;\n",
       "    overflow: auto;\n",
       "  }\n",
       "  table, th, td {\n",
       "    border: 1px solid black;\n",
       "    border-collapse: collapse;\n",
       "  }\n",
       "  th, td {\n",
       "    padding: 5px;\n",
       "  }\n",
       "  th {\n",
       "    text-align: left;\n",
       "  }\n",
       "</style><div class='table-result-container'><table class='table-result'><thead style='background-color: white'><tr><th>product_id</th><th>product_name</th><th>category</th><th>about_product</th><th>product_link</th><th>img_link</th></tr></thead><tbody><tr><td>B0756CLQWL</td><td>Redgear Pro Wireless Gamepad with 2.4GHz Wireless Technology, Integrated Dual Intensity Motor, Illuminated Keys for PC(Compatible with Windows 7/8/8.1/10 only)</td><td>Computers&Accessories|Accessories&Peripherals|PCGamingPeripherals|Gamepads</td><td>Gamepad comes equipped with2.4GHz wireless technology and supports up to 10 metres range, an ideal choice for those looking to enjoy your favourite games without the hassle of cables and wires.|The built-in lithium-ion battery in the gamepad can provide uninterrupted gameplay for up to 2 hours in a single charge for upto 30-minute|Integrated dual intensity motor which allows a realistic gaming experience.|Integrated force feedback. Reset : When an exception occurs, such as Keys disorder, or crash, unable to connect. Remove the USB connection from the gamepad and device and reconnect.|The gamepad comes with illuminated keys on the back which light up and allow visibility even in low light conditions.|1 year warranty from the date of purchase</td><td>https://www.amazon.in/Redgear-Pro-Wireless-Gamepad-Black/dp/B0756CLQWL/ref=sr_1_162?qid=1672903002&s=computers&sr=1-162</td><td>https://m.media-amazon.com/images/W/WEBP_402378-T1/images/I/41n2MqMIH5L._SX300_SY300_QL70_FMwebp_.jpg</td></tr></tbody></table></div>"
      ]
     },
     "metadata": {
      "application/vnd.databricks.v1+output": {
       "addedWidgets": {},
       "aggData": [],
       "aggError": "",
       "aggOverflow": false,
       "aggSchema": [],
       "aggSeriesLimitReached": false,
       "aggType": "",
       "arguments": {},
       "columnCustomDisplayInfos": {},
       "data": [
        [
         "B0756CLQWL",
         "Redgear Pro Wireless Gamepad with 2.4GHz Wireless Technology, Integrated Dual Intensity Motor, Illuminated Keys for PC(Compatible with Windows 7/8/8.1/10 only)",
         "Computers&Accessories|Accessories&Peripherals|PCGamingPeripherals|Gamepads",
         "Gamepad comes equipped with2.4GHz wireless technology and supports up to 10 metres range, an ideal choice for those looking to enjoy your favourite games without the hassle of cables and wires.|The built-in lithium-ion battery in the gamepad can provide uninterrupted gameplay for up to 2 hours in a single charge for upto 30-minute|Integrated dual intensity motor which allows a realistic gaming experience.|Integrated force feedback. Reset : When an exception occurs, such as Keys disorder, or crash, unable to connect. Remove the USB connection from the gamepad and device and reconnect.|The gamepad comes with illuminated keys on the back which light up and allow visibility even in low light conditions.|1 year warranty from the date of purchase",
         "https://www.amazon.in/Redgear-Pro-Wireless-Gamepad-Black/dp/B0756CLQWL/ref=sr_1_162?qid=1672903002&s=computers&sr=1-162",
         "https://m.media-amazon.com/images/W/WEBP_402378-T1/images/I/41n2MqMIH5L._SX300_SY300_QL70_FMwebp_.jpg"
        ]
       ],
       "datasetInfos": [],
       "dbfsResultPath": null,
       "isJsonSchema": true,
       "metadata": {},
       "overflow": false,
       "plotOptions": {
        "customPlotOptions": {},
        "displayType": "table",
        "pivotAggregation": null,
        "pivotColumns": null,
        "xColumns": null,
        "yColumns": null
       },
       "removedWidgets": [],
       "schema": [
        {
         "metadata": "{\"__CHAR_VARCHAR_TYPE_STRING\":\"varchar(255)\"}",
         "name": "product_id",
         "type": "\"string\""
        },
        {
         "metadata": "{\"__CHAR_VARCHAR_TYPE_STRING\":\"varchar(1000)\"}",
         "name": "product_name",
         "type": "\"string\""
        },
        {
         "metadata": "{\"__CHAR_VARCHAR_TYPE_STRING\":\"varchar(255)\"}",
         "name": "category",
         "type": "\"string\""
        },
        {
         "metadata": "{}",
         "name": "about_product",
         "type": "\"string\""
        },
        {
         "metadata": "{\"__CHAR_VARCHAR_TYPE_STRING\":\"varchar(255)\"}",
         "name": "product_link",
         "type": "\"string\""
        },
        {
         "metadata": "{\"__CHAR_VARCHAR_TYPE_STRING\":\"varchar(255)\"}",
         "name": "img_link",
         "type": "\"string\""
        }
       ],
       "type": "table"
      }
     },
     "output_type": "display_data"
    }
   ],
   "source": [
    "\n",
    "\n",
    "%sql\n",
    "SELECT * \n",
    "FROM dim_product \n",
    "WHERE product_name LIKE '%Gamepad%';\n",
    "\n",
    "\n"
   ]
  },
  {
   "cell_type": "markdown",
   "metadata": {
    "application/vnd.databricks.v1+cell": {
     "cellMetadata": {
      "byteLimit": 2048000,
      "rowLimit": 10000
     },
     "inputWidgets": {},
     "nuid": "04232440-981f-4272-bb7f-d4d0c93c141d",
     "showTitle": false,
     "tableResultSettingsMap": {},
     "title": ""
    }
   },
   "source": [
    "## 5. Análise\n",
    "##b. Solução de negócio"
   ]
  },
  {
   "cell_type": "markdown",
   "metadata": {
    "application/vnd.databricks.v1+cell": {
     "cellMetadata": {},
     "inputWidgets": {},
     "nuid": "5d414ca7-c565-4df8-8db6-0f4f0d7ba4e3",
     "showTitle": false,
     "tableResultSettingsMap": {},
     "title": ""
    }
   },
   "source": [
    "##Perguntas de Negócio"
   ]
  },
  {
   "cell_type": "markdown",
   "metadata": {
    "application/vnd.databricks.v1+cell": {
     "cellMetadata": {
      "byteLimit": 2048000,
      "rowLimit": 10000
     },
     "inputWidgets": {},
     "nuid": "56f1fe2c-7078-41d1-aa86-f6262650b4b7",
     "showTitle": false,
     "tableResultSettingsMap": {},
     "title": ""
    }
   },
   "source": [
    "##Qual é a relação entre o preço atual e o preço com desconto?\n"
   ]
  },
  {
   "cell_type": "code",
   "execution_count": 0,
   "metadata": {
    "application/vnd.databricks.v1+cell": {
     "cellMetadata": {
      "byteLimit": 2048000,
      "implicitDf": true,
      "rowLimit": 10000
     },
     "inputWidgets": {},
     "nuid": "3441211d-63b3-45aa-9ab7-987f70a917bf",
     "showTitle": false,
     "tableResultSettingsMap": {},
     "title": ""
    }
   },
   "outputs": [
    {
     "output_type": "display_data",
     "data": {
      "text/html": [
       "<style scoped>\n",
       "  .table-result-container {\n",
       "    max-height: 300px;\n",
       "    overflow: auto;\n",
       "  }\n",
       "  table, th, td {\n",
       "    border: 1px solid black;\n",
       "    border-collapse: collapse;\n",
       "  }\n",
       "  th, td {\n",
       "    padding: 5px;\n",
       "  }\n",
       "  th {\n",
       "    text-align: left;\n",
       "  }\n",
       "</style><div class='table-result-container'><table class='table-result'><thead style='background-color: white'><tr><th>media_preco_atual</th><th>media_preco_desconto</th></tr></thead><tbody><tr><td>5444.990635</td><td>3125.310874</td></tr></tbody></table></div>"
      ]
     },
     "metadata": {
      "application/vnd.databricks.v1+output": {
       "addedWidgets": {},
       "aggData": [],
       "aggError": "",
       "aggOverflow": false,
       "aggSchema": [],
       "aggSeriesLimitReached": false,
       "aggType": "",
       "arguments": {},
       "columnCustomDisplayInfos": {},
       "data": [
        [
         "5444.990635",
         "3125.310874"
        ]
       ],
       "datasetInfos": [],
       "dbfsResultPath": null,
       "isJsonSchema": true,
       "metadata": {},
       "overflow": false,
       "plotOptions": {
        "customPlotOptions": {},
        "displayType": "table",
        "pivotAggregation": null,
        "pivotColumns": null,
        "xColumns": null,
        "yColumns": null
       },
       "removedWidgets": [],
       "schema": [
        {
         "metadata": "{}",
         "name": "media_preco_atual",
         "type": "\"decimal(14,6)\""
        },
        {
         "metadata": "{}",
         "name": "media_preco_desconto",
         "type": "\"decimal(14,6)\""
        }
       ],
       "type": "table"
      }
     },
     "output_type": "display_data"
    }
   ],
   "source": [
    "%sql\n",
    "SELECT AVG(actual_price) AS media_preco_atual, AVG(discounted_price) AS media_preco_desconto\n",
    "FROM fact_product_reviews;"
   ]
  },
  {
   "cell_type": "markdown",
   "metadata": {
    "application/vnd.databricks.v1+cell": {
     "cellMetadata": {
      "byteLimit": 2048000,
      "rowLimit": 10000
     },
     "inputWidgets": {},
     "nuid": "a7a84673-d4b1-44b1-b79d-9a87e864f690",
     "showTitle": false,
     "tableResultSettingsMap": {},
     "title": ""
    }
   },
   "source": [
    "Essa consulta calcula a média dos preços atuais e com desconto, fornecendo uma visão geral da relação entre eles. O valor de 5444.990635 representa a média dos preços originais dos produtos e indica que, em média, os produtos na plataforma têm um preço original de aproximadamente 5445 unidades monetárias.O valor de 3125.310874 representa a média dos preços dos produtos após a aplicação de descontos.Isso indica que, em média, os produtos são vendidos por aproximadamente 3125 unidades monetárias após os descontos.A diferença entre a média do preço atual e a média do preço com desconto mostra que, em média, os produtos têm um desconto significativo. Isso sugere que os descontos desempenham um papel importante na estratégia de preços da plataforma."
   ]
  },
  {
   "cell_type": "markdown",
   "metadata": {
    "application/vnd.databricks.v1+cell": {
     "cellMetadata": {
      "byteLimit": 2048000,
      "rowLimit": 10000
     },
     "inputWidgets": {},
     "nuid": "27cec3a7-55bd-44db-a0bc-b5d5c4132c95",
     "showTitle": false,
     "tableResultSettingsMap": {},
     "title": ""
    }
   },
   "source": [
    "##Quais categorias de produtos possuem os maiores descontos e as melhores avaliações?"
   ]
  },
  {
   "cell_type": "code",
   "execution_count": 0,
   "metadata": {
    "application/vnd.databricks.v1+cell": {
     "cellMetadata": {
      "byteLimit": 2048000,
      "implicitDf": true,
      "rowLimit": 10000
     },
     "inputWidgets": {},
     "nuid": "66d1693a-a59e-469b-add2-cd49365fa9de",
     "showTitle": false,
     "tableResultSettingsMap": {},
     "title": ""
    }
   },
   "outputs": [
    {
     "output_type": "display_data",
     "data": {
      "text/html": [
       "<style scoped>\n",
       "  .table-result-container {\n",
       "    max-height: 300px;\n",
       "    overflow: auto;\n",
       "  }\n",
       "  table, th, td {\n",
       "    border: 1px solid black;\n",
       "    border-collapse: collapse;\n",
       "  }\n",
       "  th, td {\n",
       "    padding: 5px;\n",
       "  }\n",
       "  th {\n",
       "    text-align: left;\n",
       "  }\n",
       "</style><div class='table-result-container'><table class='table-result'><thead style='background-color: white'><tr><th>category</th><th>media_desconto</th><th>media_avaliacao</th></tr></thead><tbody><tr><td>Electronics|Mobiles&Accessories|MobileAccessories|Décor|PhoneCharms</td><td>90.000000</td><td>4.400000</td></tr><tr><td>Computers&Accessories|Accessories&Peripherals|Cables&Accessories|CableConnectionProtectors</td><td>90.000000</td><td>4.020000</td></tr><tr><td>Electronics|Headphones,Earbuds&Accessories|Earpads</td><td>90.000000</td><td>3.800000</td></tr><tr><td>Electronics|Headphones,Earbuds&Accessories|Adapters</td><td>88.000000</td><td>3.900000</td></tr><tr><td>Computers&Accessories|Accessories&Peripherals|Keyboards,Mice&InputDevices|Keyboard&MiceAccessories|DustCovers</td><td>87.500000</td><td>3.400000</td></tr><tr><td>Electronics|Mobiles&Accessories|MobileAccessories|Mounts|Shower&WallMounts</td><td>82.000000</td><td>4.100000</td></tr><tr><td>Computers&Accessories|Components|InternalHardDrives</td><td>80.000000</td><td>4.200000</td></tr><tr><td>Computers&Accessories|Accessories&Peripherals|Adapters|USBtoUSBAdapters</td><td>78.500000</td><td>4.150000</td></tr><tr><td>Electronics|Mobiles&Accessories|MobileAccessories|Stands</td><td>76.400000</td><td>4.160000</td></tr><tr><td>Electronics|Headphones,Earbuds&Accessories|Cases</td><td>76.000000</td><td>4.300000</td></tr><tr><td>Computers&Accessories|Accessories&Peripherals|LaptopAccessories|NotebookComputerStands</td><td>75.666667</td><td>4.300000</td></tr><tr><td>Computers&Accessories|Accessories&Peripherals|HardDriveAccessories|Caddies</td><td>75.000000</td><td>4.100000</td></tr><tr><td>Electronics|Cameras&Photography|VideoCameras</td><td>75.000000</td><td>3.700000</td></tr><tr><td>Electronics|Mobiles&Accessories|MobileAccessories|Mounts|Bedstand&DeskMounts</td><td>74.500000</td><td>3.900000</td></tr><tr><td>Computers&Accessories|Printers,Inks&Accessories|Inks,Toners&Cartridges|InkjetInkRefills&Kits</td><td>73.000000</td><td>4.300000</td></tr><tr><td>Electronics|HomeAudio|Accessories|SpeakerAccessories|Mounts</td><td>73.000000</td><td>4.000000</td></tr><tr><td>Electronics|Mobiles&Accessories|MobileAccessories|Cables&Adapters|OTGAdapters</td><td>72.000000</td><td>4.250000</td></tr><tr><td>Electronics|Mobiles&Accessories|MobileAccessories|Décor</td><td>72.000000</td><td>4.155556</td></tr><tr><td>Electronics|Mobiles&Accessories|MobileAccessories|Cases&Covers|BasicCases</td><td>70.750000</td><td>4.200000</td></tr><tr><td>Computers&Accessories|Accessories&Peripherals|TabletAccessories|Bags,Cases&Sleeves|Cases</td><td>70.500000</td><td>4.300000</td></tr><tr><td>Computers&Accessories|Accessories&Peripherals|TabletAccessories|Stands</td><td>70.000000</td><td>4.100000</td></tr><tr><td>Electronics|WearableTechnology|SmartWatches</td><td>69.980769</td><td>4.045192</td></tr><tr><td>Electronics|Cameras&Photography|Accessories|Tripods&Monopods|Tabletop&TravelTripods</td><td>69.500000</td><td>4.350000</td></tr><tr><td>Electronics|Headphones,Earbuds&Accessories|Headphones|Over-Ear</td><td>69.000000</td><td>4.000000</td></tr><tr><td>Computers&Accessories|ExternalDevices&DataStorage|ExternalSolidStateDrives</td><td>68.000000</td><td>4.400000</td></tr><tr><td>Electronics|Mobiles&Accessories|MobileAccessories|Maintenance,Upkeep&Repairs|ScreenProtectors</td><td>66.857143</td><td>4.471429</td></tr><tr><td>Electronics|Mobiles&Accessories|MobileAccessories|Photo&VideoAccessories|SelfieSticks</td><td>66.333333</td><td>4.277778</td></tr><tr><td>Electronics|Mobiles&Accessories|MobileAccessories|Mounts|HandlebarMounts</td><td>66.000000</td><td>4.300000</td></tr><tr><td>Computers&Accessories|NetworkingDevices</td><td>66.000000</td><td>4.100000</td></tr><tr><td>Electronics|Mobiles&Accessories|MobileAccessories|Photo&VideoAccessories|Tripods</td><td>66.000000</td><td>3.800000</td></tr><tr><td>Electronics|HomeAudio|Accessories|Adapters</td><td>65.000000</td><td>4.400000</td></tr><tr><td>Computers&Accessories|Accessories&Peripherals|Cables&Accessories|Cables|SATACables</td><td>65.000000</td><td>3.900000</td></tr><tr><td>Electronics|Mobiles&Accessories|MobileAccessories|StylusPens</td><td>64.500000</td><td>4.171429</td></tr><tr><td>Computers&Accessories|Accessories&Peripherals|TabletAccessories|ScreenProtectors</td><td>63.800000</td><td>4.180000</td></tr><tr><td>Electronics|Cameras&Photography|Accessories|Tripods&Monopods|TripodLegs</td><td>62.500000</td><td>4.050000</td></tr><tr><td>Electronics|Mobiles&Accessories|MobileAccessories|Chargers|AutomobileChargers</td><td>62.285714</td><td>4.128571</td></tr><tr><td>OfficeProducts|OfficePaperProducts|Paper|Stationery|Notebooks,WritingPads&Diaries|Notepads&MemoBooks</td><td>62.000000</td><td>4.250000</td></tr><tr><td>Computers&Accessories|Accessories&Peripherals|LaptopAccessories|Bags&Sleeves|LaptopSleeves&Slipcases</td><td>61.833333</td><td>4.250000</td></tr><tr><td>Computers&Accessories|Accessories&Peripherals|Keyboards,Mice&InputDevices|Keyboard&MiceAccessories|MousePads</td><td>61.250000</td><td>4.375000</td></tr><tr><td>Computers&Accessories|Accessories&Peripherals|LaptopAccessories|LaptopChargers&PowerSupplies</td><td>61.000000</td><td>3.980000</td></tr><tr><td>Computers&Accessories|Accessories&Peripherals|Keyboards,Mice&InputDevices|GraphicTablets</td><td>60.818182</td><td>3.981818</td></tr><tr><td>Electronics|Accessories|MemoryCards|MicroSD</td><td>60.526316</td><td>4.300000</td></tr><tr><td>Electronics|Mobiles&Accessories|MobileAccessories|AutomobileAccessories|Cradles</td><td>60.333333</td><td>3.966667</td></tr><tr><td>Electronics|HomeTheater,TV&Video|Accessories|Cables|HDMICables</td><td>60.166667</td><td>4.223333</td></tr><tr><td>Electronics|HomeAudio|Speakers|SoundbarSpeakers</td><td>60.000000</td><td>4.200000</td></tr><tr><td>Home&Kitchen|HomeStorage&Organization|LaundryOrganization|LaundryBags</td><td>60.000000</td><td>4.200000</td></tr><tr><td>Home&Kitchen|Kitchen&Dining|KitchenTools|ManualChoppers&Chippers|Choppers</td><td>60.000000</td><td>4.100000</td></tr><tr><td>Electronics|Cameras&Photography|Flashes|Macro&RinglightFlashes</td><td>60.000000</td><td>3.800000</td></tr><tr><td>Electronics|HomeTheater,TV&Video|Accessories|RemoteControls</td><td>59.510204</td><td>3.800000</td></tr><tr><td>Computers&Accessories|Accessories&Peripherals|Cables&Accessories|Cables|USBCables</td><td>59.004751</td><td>4.159620</td></tr><tr><td>Home&Kitchen|Heating,Cooling&AirQuality|Parts&Accessories|FanParts&Accessories</td><td>59.000000</td><td>4.100000</td></tr><tr><td>Computers&Accessories|Accessories&Peripherals|LaptopAccessories|Lapdesks</td><td>58.928571</td><td>4.064286</td></tr><tr><td>HomeImprovement|Electrical|CordManagement</td><td>58.000000</td><td>4.500000</td></tr><tr><td>Electronics|Headphones,Earbuds&Accessories|Headphones|In-Ear</td><td>57.592593</td><td>3.905556</td></tr><tr><td>HomeImprovement|Electrical|Adapters&Multi-Outlets</td><td>57.000000</td><td>4.000000</td></tr><tr><td>Computers&Accessories|ExternalDevices&DataStorage|PenDrives</td><td>56.900000</td><td>4.260000</td></tr><tr><td>Computers&Accessories|Accessories&Peripherals|PCGamingPeripherals|Headsets</td><td>56.666667</td><td>4.033333</td></tr><tr><td>Computers&Accessories|Accessories&Peripherals|Audio&VideoAccessories|PCMicrophones</td><td>56.500000</td><td>3.600000</td></tr><tr><td>Home&Kitchen|Kitchen&HomeAppliances|Coffee,Tea&Espresso|CoffeeMakerAccessories|MeasuringSpoons</td><td>56.333333</td><td>4.200000</td></tr><tr><td>Electronics|HomeAudio|Speakers|OutdoorSpeakers</td><td>56.250000</td><td>4.000000</td></tr><tr><td>Computers&Accessories|Accessories&Peripherals|Cables&Accessories|Cables|DVICables</td><td>55.000000</td><td>4.400000</td></tr><tr><td>Home&Kitchen|Kitchen&HomeAppliances|SmallKitchenAppliances|YogurtMakers</td><td>55.000000</td><td>4.100000</td></tr><tr><td>Computers&Accessories|Accessories&Peripherals|HardDiskBags</td><td>54.333333</td><td>4.333333</td></tr><tr><td>Computers&Accessories|NetworkingDevices|Repeaters&Extenders</td><td>54.333333</td><td>4.200000</td></tr><tr><td>Computers&Accessories|Accessories&Peripherals|Cables&Accessories|Cables|EthernetCables</td><td>54.000000</td><td>4.400000</td></tr><tr><td>Home&Kitchen|Kitchen&HomeAppliances|Coffee,Tea&Espresso|StovetopEspressoPots</td><td>54.000000</td><td>4.200000</td></tr><tr><td>Home&Kitchen|Kitchen&HomeAppliances|SmallKitchenAppliances|DigitalKitchenScales</td><td>53.900000</td><td>4.080000</td></tr><tr><td>Home&Kitchen|Kitchen&HomeAppliances|SmallKitchenAppliances|WaffleMakers&Irons</td><td>53.333333</td><td>4.033333</td></tr><tr><td>OfficeProducts|OfficePaperProducts|Paper|Stationery|Notebooks,WritingPads&Diaries</td><td>53.000000</td><td>4.300000</td></tr><tr><td>Health&PersonalCare|HomeMedicalSupplies&Equipment|HealthMonitors|WeighingScales|DigitalBathroomScales</td><td>53.000000</td><td>4.000000</td></tr><tr><td>Home&Kitchen|Kitchen&HomeAppliances|SmallKitchenAppliances|EggBoilers</td><td>52.909091</td><td>4.290909</td></tr><tr><td>Electronics|Headphones,Earbuds&Accessories|Headphones|On-Ear</td><td>52.500000</td><td>4.070000</td></tr><tr><td>Home&Kitchen|Kitchen&HomeAppliances|SmallKitchenAppliances|Juicers</td><td>52.500000</td><td>3.700000</td></tr><tr><td>Computers&Accessories|Accessories&Peripherals|PCGamingPeripherals|Gamepads</td><td>52.333333</td><td>4.266667</td></tr><tr><td>Electronics|HomeTheater,TV&Video|Televisions|StandardTelevisions</td><td>52.166667</td><td>4.066667</td></tr><tr><td>Home&Kitchen|Heating,Cooling&AirQuality|RoomHeaters</td><td>51.500000</td><td>3.900000</td></tr><tr><td>Electronics|HomeTheater,TV&Video|SatelliteEquipment|SatelliteReceivers</td><td>51.333333</td><td>4.266667</td></tr><tr><td>Home&Kitchen|Kitchen&HomeAppliances|Vacuum,Cleaning&Ironing|Irons,Steamers&Accessories|LintShavers</td><td>51.318182</td><td>4.036364</td></tr><tr><td>Electronics|HomeTheater,TV&Video|Accessories|TVMounts,Stands&Turntables|TVWall&CeilingMounts</td><td>51.166667</td><td>4.033333</td></tr><tr><td>Electronics|Mobiles&Accessories|MobileAccessories|Photo&VideoAccessories|Flashes&SelfieLights|SelfieLights</td><td>51.000000</td><td>4.100000</td></tr><tr><td>Home&Kitchen|Kitchen&HomeAppliances|Coffee,Tea&Espresso|CoffeeGrinders|ElectricGrinders</td><td>51.000000</td><td>3.300000</td></tr><tr><td>Electronics|HomeTheater,TV&Video|Accessories|Cables|RCACables</td><td>50.500000</td><td>4.300000</td></tr><tr><td>Computers&Accessories|Monitors</td><td>50.500000</td><td>4.250000</td></tr><tr><td>Electronics|Mobiles&Accessories|MobileAccessories|Chargers|WallChargers</td><td>50.388889</td><td>4.127778</td></tr><tr><td>Electronics|HomeTheater,TV&Video|Accessories|Cables|SpeakerCables</td><td>50.000000</td><td>4.400000</td></tr><tr><td>Computers&Accessories|NetworkingDevices|NetworkAdapters|WirelessUSBAdapters</td><td>49.923077</td><td>4.096154</td></tr><tr><td>Computers&Accessories|Components|Memory</td><td>49.000000</td><td>4.500000</td></tr><tr><td>Home&Kitchen|Kitchen&HomeAppliances|Vacuum,Cleaning&Ironing|Vacuums&FloorCare|VacuumAccessories|VacuumBags|HandheldBags</td><td>49.000000</td><td>4.300000</td></tr><tr><td>Electronics|HomeAudio|Speakers|BluetoothSpeakers</td><td>48.500000</td><td>4.050000</td></tr><tr><td>Home&Kitchen|Heating,Cooling&AirQuality|WaterHeaters&Geysers|InstantWaterHeaters</td><td>48.043478</td><td>4.052174</td></tr><tr><td>Computers&Accessories|Components|InternalSolidStateDrives</td><td>48.000000</td><td>4.400000</td></tr><tr><td>Home&Kitchen|Kitchen&HomeAppliances|SmallKitchenAppliances|StandMixers</td><td>48.000000</td><td>4.300000</td></tr><tr><td>Computers&Accessories|Printers,Inks&Accessories|Inks,Toners&Cartridges|TonerCartridges</td><td>48.000000</td><td>4.100000</td></tr><tr><td>Home&Kitchen|Kitchen&HomeAppliances|SmallKitchenAppliances|Juicers|ColdPressJuicers</td><td>47.000000</td><td>4.400000</td></tr><tr><td>Home&Kitchen|HomeStorage&Organization|LaundryOrganization|IroningAccessories|SprayBottles</td><td>47.000000</td><td>4.150000</td></tr><tr><td>Computers&Accessories|Accessories&Peripherals|Audio&VideoAccessories|PCSpeakers</td><td>46.500000</td><td>4.050000</td></tr><tr><td>Electronics|HomeTheater,TV&Video|Accessories|Cables|OpticalCables</td><td>46.333333</td><td>4.133333</td></tr><tr><td>Electronics|Cameras&Photography|Accessories|PhotoStudio&Lighting|PhotoBackgroundAccessories|BackgroundSupports</td><td>46.000000</td><td>4.300000</td></tr><tr><td>MusicalInstruments|Microphones|Condenser</td><td>46.000000</td><td>3.900000</td></tr><tr><td>Home&Kitchen|Heating,Cooling&AirQuality|WaterHeaters&Geysers|StorageWaterHeaters</td><td>45.083333</td><td>4.141667</td></tr><tr><td>Computers&Accessories|ExternalDevices&DataStorage|ExternalMemoryCardReaders</td><td>45.000000</td><td>4.300000</td></tr><tr><td>Home&Kitchen|Kitchen&HomeAppliances|Vacuum,Cleaning&Ironing|Vacuums&FloorCare|Vacuums|RoboticVacuums</td><td>45.000000</td><td>4.250000</td></tr><tr><td>Computers&Accessories|Accessories&Peripherals|LaptopAccessories|CoolingPads</td><td>45.000000</td><td>4.100000</td></tr><tr><td>Home&Kitchen|Kitchen&HomeAppliances|SmallKitchenAppliances|InductionCooktop</td><td>44.900000</td><td>4.050000</td></tr><tr><td>Home&Kitchen|HomeStorage&Organization|LaundryOrganization|LaundryBaskets</td><td>44.846154</td><td>3.992308</td></tr><tr><td>Computers&Accessories|NetworkingDevices|Routers</td><td>44.666667</td><td>4.255556</td></tr><tr><td>Computers&Accessories|Accessories&Peripherals|Audio&VideoAccessories|Webcams&VoIPEquipment|Webcams</td><td>44.500000</td><td>4.200000</td></tr><tr><td>Home&Kitchen|Kitchen&HomeAppliances|Vacuum,Cleaning&Ironing|PressureWashers,Steam&WindowCleaners</td><td>44.333333</td><td>4.200000</td></tr><tr><td>Home&Kitchen|Kitchen&HomeAppliances|SmallKitchenAppliances|Kettles&HotWaterDispensers|Kettle&ToasterSets</td><td>44.230769</td><td>3.961538</td></tr><tr><td>Home&Kitchen|Kitchen&HomeAppliances|SmallKitchenAppliances|JuicerMixerGrinders</td><td>44.166667</td><td>3.891667</td></tr><tr><td>Home&Kitchen|Kitchen&HomeAppliances|SmallKitchenAppliances|DeepFatFryers|AirFryers</td><td>44.000000</td><td>4.460000</td></tr><tr><td>Electronics|Accessories|MemoryCards|SecureDigitalCards</td><td>44.000000</td><td>4.400000</td></tr><tr><td>Computers&Accessories|Accessories&Peripherals|LaptopAccessories</td><td>44.000000</td><td>4.300000</td></tr><tr><td>Home&Kitchen|Kitchen&HomeAppliances|SmallKitchenAppliances|MixerGrinders</td><td>43.962963</td><td>4.011111</td></tr><tr><td>Home&Kitchen|Kitchen&HomeAppliances|Vacuum,Cleaning&Ironing|Vacuums&FloorCare|Vacuums|Wet-DryVacuums</td><td>43.666667</td><td>4.033333</td></tr><tr><td>Computers&Accessories|Accessories&Peripherals|USBHubs</td><td>43.400000</td><td>3.940000</td></tr><tr><td>Home&Kitchen|Heating,Cooling&AirQuality|AirConditioners|Split-SystemAirConditioners</td><td>43.000000</td><td>4.300000</td></tr><tr><td>Electronics|HomeAudio|Speakers|TowerSpeakers</td><td>43.000000</td><td>3.800000</td></tr><tr><td>Electronics|HomeTheater,TV&Video|Projectors</td><td>42.666667</td><td>4.133333</td></tr><tr><td>Electronics|Cameras&Photography|SecurityCameras|DomeCameras</td><td>42.600000</td><td>4.100000</td></tr><tr><td>Home&Kitchen|Kitchen&HomeAppliances|WaterPurifiers&Accessories|WaterFilters&Purifiers</td><td>42.500000</td><td>4.175000</td></tr><tr><td>Home&Kitchen|Heating,Cooling&AirQuality|RoomHeaters|FanHeaters</td><td>42.450000</td><td>3.810000</td></tr><tr><td>Computers&Accessories|Accessories&Peripherals|Keyboards,Mice&InputDevices|Mice</td><td>42.041667</td><td>4.287500</td></tr><tr><td>Home&Kitchen|Kitchen&HomeAppliances|SmallKitchenAppliances|HandMixers</td><td>42.000000</td><td>4.233333</td></tr><tr><td>Home&Kitchen|Heating,Cooling&AirQuality|Fans|TableFans</td><td>42.000000</td><td>3.950000</td></tr><tr><td>Car&Motorbike|CarAccessories|InteriorAccessories|AirPurifiers&Ionizers</td><td>42.000000</td><td>3.800000</td></tr><tr><td>Home&Kitchen|Kitchen&HomeAppliances|SmallKitchenAppliances|MiniFoodProcessors&Choppers</td><td>41.875000</td><td>4.037500</td></tr><tr><td>Home&Kitchen|Kitchen&HomeAppliances|SmallKitchenAppliances|HandBlenders</td><td>41.684211</td><td>4.057895</td></tr><tr><td>Home&Kitchen|Kitchen&HomeAppliances|Coffee,Tea&Espresso|MilkFrothers</td><td>41.333333</td><td>3.733333</td></tr><tr><td>Home&Kitchen|Heating,Cooling&AirQuality|AirPurifiers|HEPAAirPurifiers</td><td>41.000000</td><td>4.275000</td></tr><tr><td>Home&Kitchen|Kitchen&HomeAppliances|WaterPurifiers&Accessories|WaterPurifierAccessories</td><td>40.818182</td><td>3.918182</td></tr><tr><td>Home&Kitchen|Kitchen&HomeAppliances|SewingMachines&Accessories|Sewing&EmbroideryMachines</td><td>40.500000</td><td>3.650000</td></tr><tr><td>Computers&Accessories|NetworkingDevices|NetworkAdapters|PowerLANAdapters</td><td>40.000000</td><td>4.500000</td></tr><tr><td>Electronics|Cameras&Photography|Accessories|Cleaners|CleaningKits</td><td>40.000000</td><td>4.200000</td></tr><tr><td>Home&Kitchen|Heating,Cooling&AirQuality|Fans|PedestalFans</td><td>40.000000</td><td>4.100000</td></tr><tr><td>Home&Kitchen|Heating,Cooling&AirQuality|Humidifiers</td><td>39.333333</td><td>3.966667</td></tr><tr><td>Home&Kitchen|Kitchen&HomeAppliances|SmallKitchenAppliances</td><td>39.000000</td><td>4.400000</td></tr><tr><td>Computers&Accessories|Accessories&Peripherals|PCGamingPeripherals|GamingKeyboards</td><td>39.000000</td><td>4.366667</td></tr><tr><td>Home&Kitchen|Kitchen&HomeAppliances|SmallKitchenAppliances|Kettles&HotWaterDispensers|ElectricKettles</td><td>39.000000</td><td>4.031579</td></tr><tr><td>Electronics|HomeTheater,TV&Video|Televisions|SmartTelevisions</td><td>38.550725</td><td>4.214493</td></tr><tr><td>Home&Kitchen|Heating,Cooling&AirQuality|Fans|CeilingFans</td><td>38.181818</td><td>4.109091</td></tr><tr><td>Electronics|Cameras&Photography|Accessories|Tripods&Monopods|CompleteTripodUnits</td><td>38.000000</td><td>4.400000</td></tr><tr><td>Computers&Accessories|Laptops|TraditionalLaptops</td><td>38.000000</td><td>4.000000</td></tr><tr><td>Electronics|HomeAudio|Speakers|MultimediaSpeakerSystems</td><td>38.000000</td><td>3.900000</td></tr><tr><td>Home&Kitchen|Kitchen&HomeAppliances|Vacuum,Cleaning&Ironing|Vacuums&FloorCare|Vacuums|HandheldVacuums</td><td>37.750000</td><td>3.962500</td></tr><tr><td>Home&Kitchen|Kitchen&HomeAppliances|Coffee,Tea&Espresso|DripCoffeeMachines</td><td>37.400000</td><td>4.080000</td></tr><tr><td>Electronics|Mobiles&Accessories|MobileAccessories|Chargers|PowerBanks</td><td>36.571429</td><td>4.121429</td></tr><tr><td>Electronics|HomeTheater,TV&Video|AVReceivers&Amplifiers</td><td>36.000000</td><td>4.000000</td></tr><tr><td>Home&Kitchen|Heating,Cooling&AirQuality|RoomHeaters|ElectricHeaters</td><td>36.000000</td><td>3.890000</td></tr><tr><td>Computers&Accessories|Accessories&Peripherals|Keyboards,Mice&InputDevices|Keyboards</td><td>35.000000</td><td>4.120000</td></tr><tr><td>Computers&Accessories|NetworkingDevices|DataCards&Dongles</td><td>35.000000</td><td>3.800000</td></tr><tr><td>Computers&Accessories|Accessories&Peripherals|Audio&VideoAccessories|PCHeadsets</td><td>35.000000</td><td>3.500000</td></tr><tr><td>Home&Kitchen|Kitchen&HomeAppliances|Vacuum,Cleaning&Ironing|Irons,Steamers&Accessories|Irons|DryIrons</td><td>34.250000</td><td>4.129167</td></tr><tr><td>Computers&Accessories|Accessories&Peripherals|PCGamingPeripherals|GamingMice</td><td>33.500000</td><td>4.383333</td></tr><tr><td>Home&Kitchen|Kitchen&HomeAppliances|SmallKitchenAppliances|RotiMakers</td><td>33.000000</td><td>4.400000</td></tr><tr><td>Computers&Accessories|NetworkingDevices|NetworkAdapters|BluetoothAdapters</td><td>33.000000</td><td>4.300000</td></tr><tr><td>Home&Kitchen|Kitchen&HomeAppliances|SmallKitchenAppliances|SandwichMakers</td><td>32.363636</td><td>4.100000</td></tr><tr><td>Computers&Accessories|Accessories&Peripherals|Keyboards,Mice&InputDevices|Keyboard&MouseSets</td><td>32.100000</td><td>4.050000</td></tr><tr><td>Home&Kitchen|Kitchen&HomeAppliances|SmallKitchenAppliances|Rice&PastaCookers</td><td>31.800000</td><td>3.960000</td></tr><tr><td>Home&Kitchen|Heating,Cooling&AirQuality|WaterHeaters&Geysers|ImmersionRods</td><td>31.777778</td><td>4.077778</td></tr><tr><td>Home&Kitchen|Kitchen&HomeAppliances|SmallKitchenAppliances|VacuumSealers</td><td>31.428571</td><td>3.671429</td></tr><tr><td>Home&Kitchen|Heating,Cooling&AirQuality|RoomHeaters|HalogenHeaters</td><td>29.500000</td><td>3.600000</td></tr><tr><td>Computers&Accessories|Tablets</td><td>29.000000</td><td>4.600000</td></tr><tr><td>Home&Kitchen|Kitchen&HomeAppliances|Vacuum,Cleaning&Ironing|Vacuums&FloorCare|Vacuums|CanisterVacuums</td><td>28.250000</td><td>4.175000</td></tr><tr><td>Home&Kitchen|Kitchen&HomeAppliances|Coffee,Tea&Espresso|CoffeePresses</td><td>27.000000</td><td>4.500000</td></tr><tr><td>Computers&Accessories|ExternalDevices&DataStorage|ExternalHardDisks</td><td>27.000000</td><td>4.400000</td></tr><tr><td>Home&Kitchen|Heating,Cooling&AirQuality|RoomHeaters|HeatConvectors</td><td>27.000000</td><td>3.700000</td></tr><tr><td>Electronics|Cameras&Photography|Accessories|Batteries&Chargers|BatteryChargers</td><td>25.000000</td><td>3.800000</td></tr><tr><td>Home&Kitchen|Heating,Cooling&AirQuality|Fans|ExhaustFans</td><td>24.666667</td><td>4.100000</td></tr><tr><td>Home&Kitchen|Kitchen&HomeAppliances|Vacuum,Cleaning&Ironing|Irons,Steamers&Accessories|Irons|SteamIrons</td><td>23.833333</td><td>4.033333</td></tr><tr><td>Electronics|GeneralPurposeBatteries&BatteryChargers</td><td>23.500000</td><td>4.375000</td></tr><tr><td>Home&Kitchen|Kitchen&HomeAppliances|SmallKitchenAppliances|DigitalKitchenScales|DigitalScales</td><td>23.500000</td><td>4.300000</td></tr><tr><td>Electronics|Mobiles&Accessories|Smartphones&BasicMobiles|Smartphones</td><td>23.294118</td><td>4.100000</td></tr><tr><td>Electronics|HomeTheater,TV&Video|Accessories|3DGlasses</td><td>23.000000</td><td>3.500000</td></tr><tr><td>Home&Kitchen|Kitchen&HomeAppliances|SmallKitchenAppliances|Mills&Grinders|WetGrinders</td><td>21.500000</td><td>3.800000</td></tr><tr><td>Home&Kitchen|CraftMaterials|Scrapbooking|Tape</td><td>21.000000</td><td>3.900000</td></tr><tr><td>Computers&Accessories|Accessories&Peripherals|UninterruptedPowerSupplies</td><td>20.000000</td><td>3.900000</td></tr><tr><td>Electronics|Mobiles&Accessories|Smartphones&BasicMobiles|BasicMobiles</td><td>18.555556</td><td>3.911111</td></tr><tr><td>OfficeProducts|OfficePaperProducts|Paper|Stationery|Pens,Pencils&WritingSupplies|Pens&Refills|RetractableBallpointPens</td><td>17.500000</td><td>4.300000</td></tr><tr><td>Home&Kitchen|Kitchen&HomeAppliances|Coffee,Tea&Espresso|EspressoMachines</td><td>17.000000</td><td>3.900000</td></tr><tr><td>Computers&Accessories|Accessories&Peripherals|USBGadgets|Lamps</td><td>16.000000</td><td>3.940000</td></tr><tr><td>Computers&Accessories|Accessories&Peripherals|LaptopAccessories|CameraPrivacyCovers</td><td>15.400000</td><td>4.300000</td></tr><tr><td>Electronics|GeneralPurposeBatteries&BatteryChargers|DisposableBatteries</td><td>14.285714</td><td>4.414286</td></tr><tr><td>Electronics|PowerAccessories|SurgeProtectors</td><td>14.000000</td><td>4.500000</td></tr><tr><td>Computers&Accessories|Printers,Inks&Accessories|Printers</td><td>13.666667</td><td>3.666667</td></tr><tr><td>Electronics|GeneralPurposeBatteries&BatteryChargers|RechargeableBatteries</td><td>13.333333</td><td>4.166667</td></tr><tr><td>Home&Kitchen|Kitchen&HomeAppliances|SmallKitchenAppliances|Pop-upToasters</td><td>13.000000</td><td>4.333333</td></tr><tr><td>Computers&Accessories|Printers,Inks&Accessories|Inks,Toners&Cartridges|InkjetInkCartridges</td><td>13.000000</td><td>4.250000</td></tr><tr><td>OfficeProducts|OfficePaperProducts|Paper|Stationery|Pens,Pencils&WritingSupplies|Pens&Refills|StickBallpointPens</td><td>13.000000</td><td>4.133333</td></tr><tr><td>OfficeProducts|OfficePaperProducts|Paper|Stationery|Notebooks,WritingPads&Diaries|CompositionNotebooks</td><td>12.000000</td><td>4.371429</td></tr><tr><td>Computers&Accessories|Printers,Inks&Accessories|Printers|InkjetPrinters</td><td>11.500000</td><td>3.600000</td></tr><tr><td>Home&Kitchen|CraftMaterials|DrawingMaterials|DrawingMedia|Pens</td><td>10.000000</td><td>4.400000</td></tr><tr><td>Home&Kitchen|Kitchen&HomeAppliances|SmallKitchenAppliances|OvenToasterGrills</td><td>9.500000</td><td>4.250000</td></tr><tr><td>Home&Kitchen|CraftMaterials|PaintingMaterials|Paints</td><td>9.333333</td><td>4.433333</td></tr><tr><td>Home&Kitchen|Kitchen&HomeAppliances|SmallKitchenAppliances|SmallApplianceParts&Accessories</td><td>8.000000</td><td>4.500000</td></tr><tr><td>OfficeProducts|OfficePaperProducts|Paper|Stationery|Notebooks,WritingPads&Diaries|WireboundNotebooks</td><td>5.750000</td><td>4.400000</td></tr><tr><td>OfficeProducts|OfficePaperProducts|Paper|Stationery|Pens,Pencils&WritingSupplies|Pens&Refills|BottledInk</td><td>5.000000</td><td>4.300000</td></tr><tr><td>OfficeProducts|OfficePaperProducts|Paper|Stationery|Pens,Pencils&WritingSupplies|Pens&Refills|LiquidInkRollerballPens</td><td>5.000000</td><td>4.150000</td></tr><tr><td>Home&Kitchen|Kitchen&HomeAppliances|WaterPurifiers&Accessories|WaterCartridges</td><td>3.000000</td><td>4.033333</td></tr><tr><td>OfficeProducts|OfficeElectronics|Calculators|Scientific</td><td>2.500000</td><td>4.450000</td></tr><tr><td>OfficeProducts|OfficeElectronics|Calculators|Basic</td><td>0.000000</td><td>4.500000</td></tr><tr><td>Home&Kitchen|CraftMaterials|PaintingMaterials</td><td>0.000000</td><td>4.500000</td></tr><tr><td>Electronics|Cameras&Photography|Accessories|Film</td><td>0.000000</td><td>4.500000</td></tr><tr><td>Electronics|HomeAudio|MediaStreamingDevices|StreamingClients</td><td>0.000000</td><td>4.500000</td></tr><tr><td>OfficeProducts|OfficeElectronics|Calculators|Financial&Business</td><td>0.000000</td><td>4.400000</td></tr><tr><td>Home&Kitchen|Kitchen&HomeAppliances|SmallKitchenAppliances|SmallApplianceParts&Accessories|StandMixerAccessories</td><td>0.000000</td><td>4.300000</td></tr><tr><td>Toys&Games|Arts&Crafts|Drawing&PaintingSupplies|ColouringPens&Markers</td><td>0.000000</td><td>4.300000</td></tr><tr><td>OfficeProducts|OfficePaperProducts|Paper|Copy&PrintingPaper|ColouredPaper</td><td>0.000000</td><td>4.300000</td></tr><tr><td>Home&Kitchen|CraftMaterials|DrawingMaterials|DrawingMedia|Pencils|WoodenPencils</td><td>0.000000</td><td>4.300000</td></tr><tr><td>OfficeProducts|OfficePaperProducts|Paper|Stationery|Pens,Pencils&WritingSupplies|Pens&Refills|GelInkRollerballPens</td><td>0.000000</td><td>4.250000</td></tr><tr><td>OfficeProducts|OfficePaperProducts|Paper|Stationery|Pens,Pencils&WritingSupplies|Pens&Refills|FountainPens</td><td>0.000000</td><td>4.100000</td></tr></tbody></table></div>"
      ]
     },
     "metadata": {
      "application/vnd.databricks.v1+output": {
       "addedWidgets": {},
       "aggData": [],
       "aggError": "",
       "aggOverflow": false,
       "aggSchema": [],
       "aggSeriesLimitReached": false,
       "aggType": "",
       "arguments": {},
       "columnCustomDisplayInfos": {},
       "data": [
        [
         "Electronics|Mobiles&Accessories|MobileAccessories|Décor|PhoneCharms",
         "90.000000",
         "4.400000"
        ],
        [
         "Computers&Accessories|Accessories&Peripherals|Cables&Accessories|CableConnectionProtectors",
         "90.000000",
         "4.020000"
        ],
        [
         "Electronics|Headphones,Earbuds&Accessories|Earpads",
         "90.000000",
         "3.800000"
        ],
        [
         "Electronics|Headphones,Earbuds&Accessories|Adapters",
         "88.000000",
         "3.900000"
        ],
        [
         "Computers&Accessories|Accessories&Peripherals|Keyboards,Mice&InputDevices|Keyboard&MiceAccessories|DustCovers",
         "87.500000",
         "3.400000"
        ],
        [
         "Electronics|Mobiles&Accessories|MobileAccessories|Mounts|Shower&WallMounts",
         "82.000000",
         "4.100000"
        ],
        [
         "Computers&Accessories|Components|InternalHardDrives",
         "80.000000",
         "4.200000"
        ],
        [
         "Computers&Accessories|Accessories&Peripherals|Adapters|USBtoUSBAdapters",
         "78.500000",
         "4.150000"
        ],
        [
         "Electronics|Mobiles&Accessories|MobileAccessories|Stands",
         "76.400000",
         "4.160000"
        ],
        [
         "Electronics|Headphones,Earbuds&Accessories|Cases",
         "76.000000",
         "4.300000"
        ],
        [
         "Computers&Accessories|Accessories&Peripherals|LaptopAccessories|NotebookComputerStands",
         "75.666667",
         "4.300000"
        ],
        [
         "Computers&Accessories|Accessories&Peripherals|HardDriveAccessories|Caddies",
         "75.000000",
         "4.100000"
        ],
        [
         "Electronics|Cameras&Photography|VideoCameras",
         "75.000000",
         "3.700000"
        ],
        [
         "Electronics|Mobiles&Accessories|MobileAccessories|Mounts|Bedstand&DeskMounts",
         "74.500000",
         "3.900000"
        ],
        [
         "Computers&Accessories|Printers,Inks&Accessories|Inks,Toners&Cartridges|InkjetInkRefills&Kits",
         "73.000000",
         "4.300000"
        ],
        [
         "Electronics|HomeAudio|Accessories|SpeakerAccessories|Mounts",
         "73.000000",
         "4.000000"
        ],
        [
         "Electronics|Mobiles&Accessories|MobileAccessories|Cables&Adapters|OTGAdapters",
         "72.000000",
         "4.250000"
        ],
        [
         "Electronics|Mobiles&Accessories|MobileAccessories|Décor",
         "72.000000",
         "4.155556"
        ],
        [
         "Electronics|Mobiles&Accessories|MobileAccessories|Cases&Covers|BasicCases",
         "70.750000",
         "4.200000"
        ],
        [
         "Computers&Accessories|Accessories&Peripherals|TabletAccessories|Bags,Cases&Sleeves|Cases",
         "70.500000",
         "4.300000"
        ],
        [
         "Computers&Accessories|Accessories&Peripherals|TabletAccessories|Stands",
         "70.000000",
         "4.100000"
        ],
        [
         "Electronics|WearableTechnology|SmartWatches",
         "69.980769",
         "4.045192"
        ],
        [
         "Electronics|Cameras&Photography|Accessories|Tripods&Monopods|Tabletop&TravelTripods",
         "69.500000",
         "4.350000"
        ],
        [
         "Electronics|Headphones,Earbuds&Accessories|Headphones|Over-Ear",
         "69.000000",
         "4.000000"
        ],
        [
         "Computers&Accessories|ExternalDevices&DataStorage|ExternalSolidStateDrives",
         "68.000000",
         "4.400000"
        ],
        [
         "Electronics|Mobiles&Accessories|MobileAccessories|Maintenance,Upkeep&Repairs|ScreenProtectors",
         "66.857143",
         "4.471429"
        ],
        [
         "Electronics|Mobiles&Accessories|MobileAccessories|Photo&VideoAccessories|SelfieSticks",
         "66.333333",
         "4.277778"
        ],
        [
         "Electronics|Mobiles&Accessories|MobileAccessories|Mounts|HandlebarMounts",
         "66.000000",
         "4.300000"
        ],
        [
         "Computers&Accessories|NetworkingDevices",
         "66.000000",
         "4.100000"
        ],
        [
         "Electronics|Mobiles&Accessories|MobileAccessories|Photo&VideoAccessories|Tripods",
         "66.000000",
         "3.800000"
        ],
        [
         "Electronics|HomeAudio|Accessories|Adapters",
         "65.000000",
         "4.400000"
        ],
        [
         "Computers&Accessories|Accessories&Peripherals|Cables&Accessories|Cables|SATACables",
         "65.000000",
         "3.900000"
        ],
        [
         "Electronics|Mobiles&Accessories|MobileAccessories|StylusPens",
         "64.500000",
         "4.171429"
        ],
        [
         "Computers&Accessories|Accessories&Peripherals|TabletAccessories|ScreenProtectors",
         "63.800000",
         "4.180000"
        ],
        [
         "Electronics|Cameras&Photography|Accessories|Tripods&Monopods|TripodLegs",
         "62.500000",
         "4.050000"
        ],
        [
         "Electronics|Mobiles&Accessories|MobileAccessories|Chargers|AutomobileChargers",
         "62.285714",
         "4.128571"
        ],
        [
         "OfficeProducts|OfficePaperProducts|Paper|Stationery|Notebooks,WritingPads&Diaries|Notepads&MemoBooks",
         "62.000000",
         "4.250000"
        ],
        [
         "Computers&Accessories|Accessories&Peripherals|LaptopAccessories|Bags&Sleeves|LaptopSleeves&Slipcases",
         "61.833333",
         "4.250000"
        ],
        [
         "Computers&Accessories|Accessories&Peripherals|Keyboards,Mice&InputDevices|Keyboard&MiceAccessories|MousePads",
         "61.250000",
         "4.375000"
        ],
        [
         "Computers&Accessories|Accessories&Peripherals|LaptopAccessories|LaptopChargers&PowerSupplies",
         "61.000000",
         "3.980000"
        ],
        [
         "Computers&Accessories|Accessories&Peripherals|Keyboards,Mice&InputDevices|GraphicTablets",
         "60.818182",
         "3.981818"
        ],
        [
         "Electronics|Accessories|MemoryCards|MicroSD",
         "60.526316",
         "4.300000"
        ],
        [
         "Electronics|Mobiles&Accessories|MobileAccessories|AutomobileAccessories|Cradles",
         "60.333333",
         "3.966667"
        ],
        [
         "Electronics|HomeTheater,TV&Video|Accessories|Cables|HDMICables",
         "60.166667",
         "4.223333"
        ],
        [
         "Electronics|HomeAudio|Speakers|SoundbarSpeakers",
         "60.000000",
         "4.200000"
        ],
        [
         "Home&Kitchen|HomeStorage&Organization|LaundryOrganization|LaundryBags",
         "60.000000",
         "4.200000"
        ],
        [
         "Home&Kitchen|Kitchen&Dining|KitchenTools|ManualChoppers&Chippers|Choppers",
         "60.000000",
         "4.100000"
        ],
        [
         "Electronics|Cameras&Photography|Flashes|Macro&RinglightFlashes",
         "60.000000",
         "3.800000"
        ],
        [
         "Electronics|HomeTheater,TV&Video|Accessories|RemoteControls",
         "59.510204",
         "3.800000"
        ],
        [
         "Computers&Accessories|Accessories&Peripherals|Cables&Accessories|Cables|USBCables",
         "59.004751",
         "4.159620"
        ],
        [
         "Home&Kitchen|Heating,Cooling&AirQuality|Parts&Accessories|FanParts&Accessories",
         "59.000000",
         "4.100000"
        ],
        [
         "Computers&Accessories|Accessories&Peripherals|LaptopAccessories|Lapdesks",
         "58.928571",
         "4.064286"
        ],
        [
         "HomeImprovement|Electrical|CordManagement",
         "58.000000",
         "4.500000"
        ],
        [
         "Electronics|Headphones,Earbuds&Accessories|Headphones|In-Ear",
         "57.592593",
         "3.905556"
        ],
        [
         "HomeImprovement|Electrical|Adapters&Multi-Outlets",
         "57.000000",
         "4.000000"
        ],
        [
         "Computers&Accessories|ExternalDevices&DataStorage|PenDrives",
         "56.900000",
         "4.260000"
        ],
        [
         "Computers&Accessories|Accessories&Peripherals|PCGamingPeripherals|Headsets",
         "56.666667",
         "4.033333"
        ],
        [
         "Computers&Accessories|Accessories&Peripherals|Audio&VideoAccessories|PCMicrophones",
         "56.500000",
         "3.600000"
        ],
        [
         "Home&Kitchen|Kitchen&HomeAppliances|Coffee,Tea&Espresso|CoffeeMakerAccessories|MeasuringSpoons",
         "56.333333",
         "4.200000"
        ],
        [
         "Electronics|HomeAudio|Speakers|OutdoorSpeakers",
         "56.250000",
         "4.000000"
        ],
        [
         "Computers&Accessories|Accessories&Peripherals|Cables&Accessories|Cables|DVICables",
         "55.000000",
         "4.400000"
        ],
        [
         "Home&Kitchen|Kitchen&HomeAppliances|SmallKitchenAppliances|YogurtMakers",
         "55.000000",
         "4.100000"
        ],
        [
         "Computers&Accessories|Accessories&Peripherals|HardDiskBags",
         "54.333333",
         "4.333333"
        ],
        [
         "Computers&Accessories|NetworkingDevices|Repeaters&Extenders",
         "54.333333",
         "4.200000"
        ],
        [
         "Computers&Accessories|Accessories&Peripherals|Cables&Accessories|Cables|EthernetCables",
         "54.000000",
         "4.400000"
        ],
        [
         "Home&Kitchen|Kitchen&HomeAppliances|Coffee,Tea&Espresso|StovetopEspressoPots",
         "54.000000",
         "4.200000"
        ],
        [
         "Home&Kitchen|Kitchen&HomeAppliances|SmallKitchenAppliances|DigitalKitchenScales",
         "53.900000",
         "4.080000"
        ],
        [
         "Home&Kitchen|Kitchen&HomeAppliances|SmallKitchenAppliances|WaffleMakers&Irons",
         "53.333333",
         "4.033333"
        ],
        [
         "OfficeProducts|OfficePaperProducts|Paper|Stationery|Notebooks,WritingPads&Diaries",
         "53.000000",
         "4.300000"
        ],
        [
         "Health&PersonalCare|HomeMedicalSupplies&Equipment|HealthMonitors|WeighingScales|DigitalBathroomScales",
         "53.000000",
         "4.000000"
        ],
        [
         "Home&Kitchen|Kitchen&HomeAppliances|SmallKitchenAppliances|EggBoilers",
         "52.909091",
         "4.290909"
        ],
        [
         "Electronics|Headphones,Earbuds&Accessories|Headphones|On-Ear",
         "52.500000",
         "4.070000"
        ],
        [
         "Home&Kitchen|Kitchen&HomeAppliances|SmallKitchenAppliances|Juicers",
         "52.500000",
         "3.700000"
        ],
        [
         "Computers&Accessories|Accessories&Peripherals|PCGamingPeripherals|Gamepads",
         "52.333333",
         "4.266667"
        ],
        [
         "Electronics|HomeTheater,TV&Video|Televisions|StandardTelevisions",
         "52.166667",
         "4.066667"
        ],
        [
         "Home&Kitchen|Heating,Cooling&AirQuality|RoomHeaters",
         "51.500000",
         "3.900000"
        ],
        [
         "Electronics|HomeTheater,TV&Video|SatelliteEquipment|SatelliteReceivers",
         "51.333333",
         "4.266667"
        ],
        [
         "Home&Kitchen|Kitchen&HomeAppliances|Vacuum,Cleaning&Ironing|Irons,Steamers&Accessories|LintShavers",
         "51.318182",
         "4.036364"
        ],
        [
         "Electronics|HomeTheater,TV&Video|Accessories|TVMounts,Stands&Turntables|TVWall&CeilingMounts",
         "51.166667",
         "4.033333"
        ],
        [
         "Electronics|Mobiles&Accessories|MobileAccessories|Photo&VideoAccessories|Flashes&SelfieLights|SelfieLights",
         "51.000000",
         "4.100000"
        ],
        [
         "Home&Kitchen|Kitchen&HomeAppliances|Coffee,Tea&Espresso|CoffeeGrinders|ElectricGrinders",
         "51.000000",
         "3.300000"
        ],
        [
         "Electronics|HomeTheater,TV&Video|Accessories|Cables|RCACables",
         "50.500000",
         "4.300000"
        ],
        [
         "Computers&Accessories|Monitors",
         "50.500000",
         "4.250000"
        ],
        [
         "Electronics|Mobiles&Accessories|MobileAccessories|Chargers|WallChargers",
         "50.388889",
         "4.127778"
        ],
        [
         "Electronics|HomeTheater,TV&Video|Accessories|Cables|SpeakerCables",
         "50.000000",
         "4.400000"
        ],
        [
         "Computers&Accessories|NetworkingDevices|NetworkAdapters|WirelessUSBAdapters",
         "49.923077",
         "4.096154"
        ],
        [
         "Computers&Accessories|Components|Memory",
         "49.000000",
         "4.500000"
        ],
        [
         "Home&Kitchen|Kitchen&HomeAppliances|Vacuum,Cleaning&Ironing|Vacuums&FloorCare|VacuumAccessories|VacuumBags|HandheldBags",
         "49.000000",
         "4.300000"
        ],
        [
         "Electronics|HomeAudio|Speakers|BluetoothSpeakers",
         "48.500000",
         "4.050000"
        ],
        [
         "Home&Kitchen|Heating,Cooling&AirQuality|WaterHeaters&Geysers|InstantWaterHeaters",
         "48.043478",
         "4.052174"
        ],
        [
         "Computers&Accessories|Components|InternalSolidStateDrives",
         "48.000000",
         "4.400000"
        ],
        [
         "Home&Kitchen|Kitchen&HomeAppliances|SmallKitchenAppliances|StandMixers",
         "48.000000",
         "4.300000"
        ],
        [
         "Computers&Accessories|Printers,Inks&Accessories|Inks,Toners&Cartridges|TonerCartridges",
         "48.000000",
         "4.100000"
        ],
        [
         "Home&Kitchen|Kitchen&HomeAppliances|SmallKitchenAppliances|Juicers|ColdPressJuicers",
         "47.000000",
         "4.400000"
        ],
        [
         "Home&Kitchen|HomeStorage&Organization|LaundryOrganization|IroningAccessories|SprayBottles",
         "47.000000",
         "4.150000"
        ],
        [
         "Computers&Accessories|Accessories&Peripherals|Audio&VideoAccessories|PCSpeakers",
         "46.500000",
         "4.050000"
        ],
        [
         "Electronics|HomeTheater,TV&Video|Accessories|Cables|OpticalCables",
         "46.333333",
         "4.133333"
        ],
        [
         "Electronics|Cameras&Photography|Accessories|PhotoStudio&Lighting|PhotoBackgroundAccessories|BackgroundSupports",
         "46.000000",
         "4.300000"
        ],
        [
         "MusicalInstruments|Microphones|Condenser",
         "46.000000",
         "3.900000"
        ],
        [
         "Home&Kitchen|Heating,Cooling&AirQuality|WaterHeaters&Geysers|StorageWaterHeaters",
         "45.083333",
         "4.141667"
        ],
        [
         "Computers&Accessories|ExternalDevices&DataStorage|ExternalMemoryCardReaders",
         "45.000000",
         "4.300000"
        ],
        [
         "Home&Kitchen|Kitchen&HomeAppliances|Vacuum,Cleaning&Ironing|Vacuums&FloorCare|Vacuums|RoboticVacuums",
         "45.000000",
         "4.250000"
        ],
        [
         "Computers&Accessories|Accessories&Peripherals|LaptopAccessories|CoolingPads",
         "45.000000",
         "4.100000"
        ],
        [
         "Home&Kitchen|Kitchen&HomeAppliances|SmallKitchenAppliances|InductionCooktop",
         "44.900000",
         "4.050000"
        ],
        [
         "Home&Kitchen|HomeStorage&Organization|LaundryOrganization|LaundryBaskets",
         "44.846154",
         "3.992308"
        ],
        [
         "Computers&Accessories|NetworkingDevices|Routers",
         "44.666667",
         "4.255556"
        ],
        [
         "Computers&Accessories|Accessories&Peripherals|Audio&VideoAccessories|Webcams&VoIPEquipment|Webcams",
         "44.500000",
         "4.200000"
        ],
        [
         "Home&Kitchen|Kitchen&HomeAppliances|Vacuum,Cleaning&Ironing|PressureWashers,Steam&WindowCleaners",
         "44.333333",
         "4.200000"
        ],
        [
         "Home&Kitchen|Kitchen&HomeAppliances|SmallKitchenAppliances|Kettles&HotWaterDispensers|Kettle&ToasterSets",
         "44.230769",
         "3.961538"
        ],
        [
         "Home&Kitchen|Kitchen&HomeAppliances|SmallKitchenAppliances|JuicerMixerGrinders",
         "44.166667",
         "3.891667"
        ],
        [
         "Home&Kitchen|Kitchen&HomeAppliances|SmallKitchenAppliances|DeepFatFryers|AirFryers",
         "44.000000",
         "4.460000"
        ],
        [
         "Electronics|Accessories|MemoryCards|SecureDigitalCards",
         "44.000000",
         "4.400000"
        ],
        [
         "Computers&Accessories|Accessories&Peripherals|LaptopAccessories",
         "44.000000",
         "4.300000"
        ],
        [
         "Home&Kitchen|Kitchen&HomeAppliances|SmallKitchenAppliances|MixerGrinders",
         "43.962963",
         "4.011111"
        ],
        [
         "Home&Kitchen|Kitchen&HomeAppliances|Vacuum,Cleaning&Ironing|Vacuums&FloorCare|Vacuums|Wet-DryVacuums",
         "43.666667",
         "4.033333"
        ],
        [
         "Computers&Accessories|Accessories&Peripherals|USBHubs",
         "43.400000",
         "3.940000"
        ],
        [
         "Home&Kitchen|Heating,Cooling&AirQuality|AirConditioners|Split-SystemAirConditioners",
         "43.000000",
         "4.300000"
        ],
        [
         "Electronics|HomeAudio|Speakers|TowerSpeakers",
         "43.000000",
         "3.800000"
        ],
        [
         "Electronics|HomeTheater,TV&Video|Projectors",
         "42.666667",
         "4.133333"
        ],
        [
         "Electronics|Cameras&Photography|SecurityCameras|DomeCameras",
         "42.600000",
         "4.100000"
        ],
        [
         "Home&Kitchen|Kitchen&HomeAppliances|WaterPurifiers&Accessories|WaterFilters&Purifiers",
         "42.500000",
         "4.175000"
        ],
        [
         "Home&Kitchen|Heating,Cooling&AirQuality|RoomHeaters|FanHeaters",
         "42.450000",
         "3.810000"
        ],
        [
         "Computers&Accessories|Accessories&Peripherals|Keyboards,Mice&InputDevices|Mice",
         "42.041667",
         "4.287500"
        ],
        [
         "Home&Kitchen|Kitchen&HomeAppliances|SmallKitchenAppliances|HandMixers",
         "42.000000",
         "4.233333"
        ],
        [
         "Home&Kitchen|Heating,Cooling&AirQuality|Fans|TableFans",
         "42.000000",
         "3.950000"
        ],
        [
         "Car&Motorbike|CarAccessories|InteriorAccessories|AirPurifiers&Ionizers",
         "42.000000",
         "3.800000"
        ],
        [
         "Home&Kitchen|Kitchen&HomeAppliances|SmallKitchenAppliances|MiniFoodProcessors&Choppers",
         "41.875000",
         "4.037500"
        ],
        [
         "Home&Kitchen|Kitchen&HomeAppliances|SmallKitchenAppliances|HandBlenders",
         "41.684211",
         "4.057895"
        ],
        [
         "Home&Kitchen|Kitchen&HomeAppliances|Coffee,Tea&Espresso|MilkFrothers",
         "41.333333",
         "3.733333"
        ],
        [
         "Home&Kitchen|Heating,Cooling&AirQuality|AirPurifiers|HEPAAirPurifiers",
         "41.000000",
         "4.275000"
        ],
        [
         "Home&Kitchen|Kitchen&HomeAppliances|WaterPurifiers&Accessories|WaterPurifierAccessories",
         "40.818182",
         "3.918182"
        ],
        [
         "Home&Kitchen|Kitchen&HomeAppliances|SewingMachines&Accessories|Sewing&EmbroideryMachines",
         "40.500000",
         "3.650000"
        ],
        [
         "Computers&Accessories|NetworkingDevices|NetworkAdapters|PowerLANAdapters",
         "40.000000",
         "4.500000"
        ],
        [
         "Electronics|Cameras&Photography|Accessories|Cleaners|CleaningKits",
         "40.000000",
         "4.200000"
        ],
        [
         "Home&Kitchen|Heating,Cooling&AirQuality|Fans|PedestalFans",
         "40.000000",
         "4.100000"
        ],
        [
         "Home&Kitchen|Heating,Cooling&AirQuality|Humidifiers",
         "39.333333",
         "3.966667"
        ],
        [
         "Home&Kitchen|Kitchen&HomeAppliances|SmallKitchenAppliances",
         "39.000000",
         "4.400000"
        ],
        [
         "Computers&Accessories|Accessories&Peripherals|PCGamingPeripherals|GamingKeyboards",
         "39.000000",
         "4.366667"
        ],
        [
         "Home&Kitchen|Kitchen&HomeAppliances|SmallKitchenAppliances|Kettles&HotWaterDispensers|ElectricKettles",
         "39.000000",
         "4.031579"
        ],
        [
         "Electronics|HomeTheater,TV&Video|Televisions|SmartTelevisions",
         "38.550725",
         "4.214493"
        ],
        [
         "Home&Kitchen|Heating,Cooling&AirQuality|Fans|CeilingFans",
         "38.181818",
         "4.109091"
        ],
        [
         "Electronics|Cameras&Photography|Accessories|Tripods&Monopods|CompleteTripodUnits",
         "38.000000",
         "4.400000"
        ],
        [
         "Computers&Accessories|Laptops|TraditionalLaptops",
         "38.000000",
         "4.000000"
        ],
        [
         "Electronics|HomeAudio|Speakers|MultimediaSpeakerSystems",
         "38.000000",
         "3.900000"
        ],
        [
         "Home&Kitchen|Kitchen&HomeAppliances|Vacuum,Cleaning&Ironing|Vacuums&FloorCare|Vacuums|HandheldVacuums",
         "37.750000",
         "3.962500"
        ],
        [
         "Home&Kitchen|Kitchen&HomeAppliances|Coffee,Tea&Espresso|DripCoffeeMachines",
         "37.400000",
         "4.080000"
        ],
        [
         "Electronics|Mobiles&Accessories|MobileAccessories|Chargers|PowerBanks",
         "36.571429",
         "4.121429"
        ],
        [
         "Electronics|HomeTheater,TV&Video|AVReceivers&Amplifiers",
         "36.000000",
         "4.000000"
        ],
        [
         "Home&Kitchen|Heating,Cooling&AirQuality|RoomHeaters|ElectricHeaters",
         "36.000000",
         "3.890000"
        ],
        [
         "Computers&Accessories|Accessories&Peripherals|Keyboards,Mice&InputDevices|Keyboards",
         "35.000000",
         "4.120000"
        ],
        [
         "Computers&Accessories|NetworkingDevices|DataCards&Dongles",
         "35.000000",
         "3.800000"
        ],
        [
         "Computers&Accessories|Accessories&Peripherals|Audio&VideoAccessories|PCHeadsets",
         "35.000000",
         "3.500000"
        ],
        [
         "Home&Kitchen|Kitchen&HomeAppliances|Vacuum,Cleaning&Ironing|Irons,Steamers&Accessories|Irons|DryIrons",
         "34.250000",
         "4.129167"
        ],
        [
         "Computers&Accessories|Accessories&Peripherals|PCGamingPeripherals|GamingMice",
         "33.500000",
         "4.383333"
        ],
        [
         "Home&Kitchen|Kitchen&HomeAppliances|SmallKitchenAppliances|RotiMakers",
         "33.000000",
         "4.400000"
        ],
        [
         "Computers&Accessories|NetworkingDevices|NetworkAdapters|BluetoothAdapters",
         "33.000000",
         "4.300000"
        ],
        [
         "Home&Kitchen|Kitchen&HomeAppliances|SmallKitchenAppliances|SandwichMakers",
         "32.363636",
         "4.100000"
        ],
        [
         "Computers&Accessories|Accessories&Peripherals|Keyboards,Mice&InputDevices|Keyboard&MouseSets",
         "32.100000",
         "4.050000"
        ],
        [
         "Home&Kitchen|Kitchen&HomeAppliances|SmallKitchenAppliances|Rice&PastaCookers",
         "31.800000",
         "3.960000"
        ],
        [
         "Home&Kitchen|Heating,Cooling&AirQuality|WaterHeaters&Geysers|ImmersionRods",
         "31.777778",
         "4.077778"
        ],
        [
         "Home&Kitchen|Kitchen&HomeAppliances|SmallKitchenAppliances|VacuumSealers",
         "31.428571",
         "3.671429"
        ],
        [
         "Home&Kitchen|Heating,Cooling&AirQuality|RoomHeaters|HalogenHeaters",
         "29.500000",
         "3.600000"
        ],
        [
         "Computers&Accessories|Tablets",
         "29.000000",
         "4.600000"
        ],
        [
         "Home&Kitchen|Kitchen&HomeAppliances|Vacuum,Cleaning&Ironing|Vacuums&FloorCare|Vacuums|CanisterVacuums",
         "28.250000",
         "4.175000"
        ],
        [
         "Home&Kitchen|Kitchen&HomeAppliances|Coffee,Tea&Espresso|CoffeePresses",
         "27.000000",
         "4.500000"
        ],
        [
         "Computers&Accessories|ExternalDevices&DataStorage|ExternalHardDisks",
         "27.000000",
         "4.400000"
        ],
        [
         "Home&Kitchen|Heating,Cooling&AirQuality|RoomHeaters|HeatConvectors",
         "27.000000",
         "3.700000"
        ],
        [
         "Electronics|Cameras&Photography|Accessories|Batteries&Chargers|BatteryChargers",
         "25.000000",
         "3.800000"
        ],
        [
         "Home&Kitchen|Heating,Cooling&AirQuality|Fans|ExhaustFans",
         "24.666667",
         "4.100000"
        ],
        [
         "Home&Kitchen|Kitchen&HomeAppliances|Vacuum,Cleaning&Ironing|Irons,Steamers&Accessories|Irons|SteamIrons",
         "23.833333",
         "4.033333"
        ],
        [
         "Electronics|GeneralPurposeBatteries&BatteryChargers",
         "23.500000",
         "4.375000"
        ],
        [
         "Home&Kitchen|Kitchen&HomeAppliances|SmallKitchenAppliances|DigitalKitchenScales|DigitalScales",
         "23.500000",
         "4.300000"
        ],
        [
         "Electronics|Mobiles&Accessories|Smartphones&BasicMobiles|Smartphones",
         "23.294118",
         "4.100000"
        ],
        [
         "Electronics|HomeTheater,TV&Video|Accessories|3DGlasses",
         "23.000000",
         "3.500000"
        ],
        [
         "Home&Kitchen|Kitchen&HomeAppliances|SmallKitchenAppliances|Mills&Grinders|WetGrinders",
         "21.500000",
         "3.800000"
        ],
        [
         "Home&Kitchen|CraftMaterials|Scrapbooking|Tape",
         "21.000000",
         "3.900000"
        ],
        [
         "Computers&Accessories|Accessories&Peripherals|UninterruptedPowerSupplies",
         "20.000000",
         "3.900000"
        ],
        [
         "Electronics|Mobiles&Accessories|Smartphones&BasicMobiles|BasicMobiles",
         "18.555556",
         "3.911111"
        ],
        [
         "OfficeProducts|OfficePaperProducts|Paper|Stationery|Pens,Pencils&WritingSupplies|Pens&Refills|RetractableBallpointPens",
         "17.500000",
         "4.300000"
        ],
        [
         "Home&Kitchen|Kitchen&HomeAppliances|Coffee,Tea&Espresso|EspressoMachines",
         "17.000000",
         "3.900000"
        ],
        [
         "Computers&Accessories|Accessories&Peripherals|USBGadgets|Lamps",
         "16.000000",
         "3.940000"
        ],
        [
         "Computers&Accessories|Accessories&Peripherals|LaptopAccessories|CameraPrivacyCovers",
         "15.400000",
         "4.300000"
        ],
        [
         "Electronics|GeneralPurposeBatteries&BatteryChargers|DisposableBatteries",
         "14.285714",
         "4.414286"
        ],
        [
         "Electronics|PowerAccessories|SurgeProtectors",
         "14.000000",
         "4.500000"
        ],
        [
         "Computers&Accessories|Printers,Inks&Accessories|Printers",
         "13.666667",
         "3.666667"
        ],
        [
         "Electronics|GeneralPurposeBatteries&BatteryChargers|RechargeableBatteries",
         "13.333333",
         "4.166667"
        ],
        [
         "Home&Kitchen|Kitchen&HomeAppliances|SmallKitchenAppliances|Pop-upToasters",
         "13.000000",
         "4.333333"
        ],
        [
         "Computers&Accessories|Printers,Inks&Accessories|Inks,Toners&Cartridges|InkjetInkCartridges",
         "13.000000",
         "4.250000"
        ],
        [
         "OfficeProducts|OfficePaperProducts|Paper|Stationery|Pens,Pencils&WritingSupplies|Pens&Refills|StickBallpointPens",
         "13.000000",
         "4.133333"
        ],
        [
         "OfficeProducts|OfficePaperProducts|Paper|Stationery|Notebooks,WritingPads&Diaries|CompositionNotebooks",
         "12.000000",
         "4.371429"
        ],
        [
         "Computers&Accessories|Printers,Inks&Accessories|Printers|InkjetPrinters",
         "11.500000",
         "3.600000"
        ],
        [
         "Home&Kitchen|CraftMaterials|DrawingMaterials|DrawingMedia|Pens",
         "10.000000",
         "4.400000"
        ],
        [
         "Home&Kitchen|Kitchen&HomeAppliances|SmallKitchenAppliances|OvenToasterGrills",
         "9.500000",
         "4.250000"
        ],
        [
         "Home&Kitchen|CraftMaterials|PaintingMaterials|Paints",
         "9.333333",
         "4.433333"
        ],
        [
         "Home&Kitchen|Kitchen&HomeAppliances|SmallKitchenAppliances|SmallApplianceParts&Accessories",
         "8.000000",
         "4.500000"
        ],
        [
         "OfficeProducts|OfficePaperProducts|Paper|Stationery|Notebooks,WritingPads&Diaries|WireboundNotebooks",
         "5.750000",
         "4.400000"
        ],
        [
         "OfficeProducts|OfficePaperProducts|Paper|Stationery|Pens,Pencils&WritingSupplies|Pens&Refills|BottledInk",
         "5.000000",
         "4.300000"
        ],
        [
         "OfficeProducts|OfficePaperProducts|Paper|Stationery|Pens,Pencils&WritingSupplies|Pens&Refills|LiquidInkRollerballPens",
         "5.000000",
         "4.150000"
        ],
        [
         "Home&Kitchen|Kitchen&HomeAppliances|WaterPurifiers&Accessories|WaterCartridges",
         "3.000000",
         "4.033333"
        ],
        [
         "OfficeProducts|OfficeElectronics|Calculators|Scientific",
         "2.500000",
         "4.450000"
        ],
        [
         "OfficeProducts|OfficeElectronics|Calculators|Basic",
         "0.000000",
         "4.500000"
        ],
        [
         "Home&Kitchen|CraftMaterials|PaintingMaterials",
         "0.000000",
         "4.500000"
        ],
        [
         "Electronics|Cameras&Photography|Accessories|Film",
         "0.000000",
         "4.500000"
        ],
        [
         "Electronics|HomeAudio|MediaStreamingDevices|StreamingClients",
         "0.000000",
         "4.500000"
        ],
        [
         "OfficeProducts|OfficeElectronics|Calculators|Financial&Business",
         "0.000000",
         "4.400000"
        ],
        [
         "Home&Kitchen|Kitchen&HomeAppliances|SmallKitchenAppliances|SmallApplianceParts&Accessories|StandMixerAccessories",
         "0.000000",
         "4.300000"
        ],
        [
         "Toys&Games|Arts&Crafts|Drawing&PaintingSupplies|ColouringPens&Markers",
         "0.000000",
         "4.300000"
        ],
        [
         "OfficeProducts|OfficePaperProducts|Paper|Copy&PrintingPaper|ColouredPaper",
         "0.000000",
         "4.300000"
        ],
        [
         "Home&Kitchen|CraftMaterials|DrawingMaterials|DrawingMedia|Pencils|WoodenPencils",
         "0.000000",
         "4.300000"
        ],
        [
         "OfficeProducts|OfficePaperProducts|Paper|Stationery|Pens,Pencils&WritingSupplies|Pens&Refills|GelInkRollerballPens",
         "0.000000",
         "4.250000"
        ],
        [
         "OfficeProducts|OfficePaperProducts|Paper|Stationery|Pens,Pencils&WritingSupplies|Pens&Refills|FountainPens",
         "0.000000",
         "4.100000"
        ]
       ],
       "datasetInfos": [],
       "dbfsResultPath": null,
       "isJsonSchema": true,
       "metadata": {},
       "overflow": false,
       "plotOptions": {
        "customPlotOptions": {},
        "displayType": "table",
        "pivotAggregation": null,
        "pivotColumns": null,
        "xColumns": null,
        "yColumns": null
       },
       "removedWidgets": [],
       "schema": [
        {
         "metadata": "{\"__CHAR_VARCHAR_TYPE_STRING\":\"varchar(255)\"}",
         "name": "category",
         "type": "\"string\""
        },
        {
         "metadata": "{}",
         "name": "media_desconto",
         "type": "\"decimal(9,6)\""
        },
        {
         "metadata": "{}",
         "name": "media_avaliacao",
         "type": "\"decimal(7,6)\""
        }
       ],
       "type": "table"
      }
     },
     "output_type": "display_data"
    }
   ],
   "source": [
    "%sql\n",
    "SELECT dp.category, AVG(fpr.discount_percentage) AS media_desconto, AVG(fpr.rating) AS media_avaliacao\n",
    "FROM dim_product dp\n",
    "JOIN fact_product_reviews fpr ON dp.product_id = fpr.product_id\n",
    "GROUP BY dp.category\n",
    "ORDER BY media_desconto DESC, media_avaliacao DESC;"
   ]
  },
  {
   "cell_type": "markdown",
   "metadata": {
    "application/vnd.databricks.v1+cell": {
     "cellMetadata": {
      "byteLimit": 2048000,
      "rowLimit": 10000
     },
     "inputWidgets": {},
     "nuid": "05480f95-4eed-4813-9dff-572b39573cd3",
     "showTitle": false,
     "tableResultSettingsMap": {},
     "title": ""
    }
   },
   "source": [
    "Os resultados mostram que os descontos variam significativamente entre as categorias de produtos.\n",
    "Os percentuais de desconto variam amplamente entre as categorias, desde 90% até produtos sem desconto. Isso sugere que as estratégias de desconto são diferentes para cada tipo de produto. Categorias de eletrônicos e acessórios tendem a ter os maiores descontos, enquanto categorias de materiais de escritório tendem a ter os menores. A análise dos descontos pode fornecer insights sobre as estratégias de preços, a concorrência no mercado e o ciclo de vida dos produtos.\n"
   ]
  },
  {
   "cell_type": "markdown",
   "metadata": {
    "application/vnd.databricks.v1+cell": {
     "cellMetadata": {
      "byteLimit": 2048000,
      "rowLimit": 10000
     },
     "inputWidgets": {},
     "nuid": "cc50728b-074b-48e3-81c1-6d9758ed842d",
     "showTitle": false,
     "tableResultSettingsMap": {},
     "title": ""
    }
   },
   "source": [
    "##Qual é a média de avaliações por categoria?"
   ]
  },
  {
   "cell_type": "code",
   "execution_count": 0,
   "metadata": {
    "application/vnd.databricks.v1+cell": {
     "cellMetadata": {
      "byteLimit": 2048000,
      "implicitDf": true,
      "rowLimit": 10000
     },
     "inputWidgets": {},
     "nuid": "ebf2e708-8edd-4733-b757-0fff93f31438",
     "showTitle": false,
     "tableResultSettingsMap": {},
     "title": ""
    }
   },
   "outputs": [
    {
     "output_type": "display_data",
     "data": {
      "text/html": [
       "<style scoped>\n",
       "  .table-result-container {\n",
       "    max-height: 300px;\n",
       "    overflow: auto;\n",
       "  }\n",
       "  table, th, td {\n",
       "    border: 1px solid black;\n",
       "    border-collapse: collapse;\n",
       "  }\n",
       "  th, td {\n",
       "    padding: 5px;\n",
       "  }\n",
       "  th {\n",
       "    text-align: left;\n",
       "  }\n",
       "</style><div class='table-result-container'><table class='table-result'><thead style='background-color: white'><tr><th>category</th><th>media_avaliacao</th></tr></thead><tbody><tr><td>Computers&Accessories|Accessories&Peripherals|HardDriveAccessories|Caddies</td><td>4.100000</td></tr><tr><td>OfficeProducts|OfficePaperProducts|Paper|Stationery|Notebooks,WritingPads&Diaries|WireboundNotebooks</td><td>4.400000</td></tr><tr><td>OfficeProducts|OfficePaperProducts|Paper|Stationery|Notebooks,WritingPads&Diaries|CompositionNotebooks</td><td>4.371429</td></tr><tr><td>Electronics|Cameras&Photography|Accessories|Batteries&Chargers|BatteryChargers</td><td>3.800000</td></tr><tr><td>Computers&Accessories|ExternalDevices&DataStorage|ExternalMemoryCardReaders</td><td>4.300000</td></tr><tr><td>Computers&Accessories|Accessories&Peripherals|TabletAccessories|ScreenProtectors</td><td>4.180000</td></tr><tr><td>Computers&Accessories|Accessories&Peripherals|Audio&VideoAccessories|PCSpeakers</td><td>4.050000</td></tr><tr><td>Computers&Accessories|Accessories&Peripherals|PCGamingPeripherals|Headsets</td><td>4.033333</td></tr><tr><td>Health&PersonalCare|HomeMedicalSupplies&Equipment|HealthMonitors|WeighingScales|DigitalBathroomScales</td><td>4.000000</td></tr><tr><td>Home&Kitchen|Kitchen&HomeAppliances|Vacuum,Cleaning&Ironing|Irons,Steamers&Accessories|LintShavers</td><td>4.036364</td></tr><tr><td>Home&Kitchen|Kitchen&HomeAppliances|SmallKitchenAppliances|VacuumSealers</td><td>3.671429</td></tr><tr><td>OfficeProducts|OfficePaperProducts|Paper|Stationery|Notebooks,WritingPads&Diaries</td><td>4.300000</td></tr><tr><td>Home&Kitchen|Heating,Cooling&AirQuality|Fans|TableFans</td><td>3.950000</td></tr><tr><td>Computers&Accessories|ExternalDevices&DataStorage|PenDrives</td><td>4.260000</td></tr><tr><td>Home&Kitchen|Kitchen&HomeAppliances|SmallKitchenAppliances|DigitalKitchenScales</td><td>4.080000</td></tr><tr><td>Computers&Accessories|Accessories&Peripherals|LaptopAccessories|Bags&Sleeves|LaptopSleeves&Slipcases</td><td>4.250000</td></tr><tr><td>Computers&Accessories|Accessories&Peripherals|Keyboards,Mice&InputDevices|Mice</td><td>4.287500</td></tr><tr><td>Computers&Accessories|NetworkingDevices|Routers</td><td>4.255556</td></tr><tr><td>Computers&Accessories|Printers,Inks&Accessories|Printers</td><td>3.666667</td></tr><tr><td>Computers&Accessories|NetworkingDevices|DataCards&Dongles</td><td>3.800000</td></tr><tr><td>Home&Kitchen|Kitchen&HomeAppliances|SmallKitchenAppliances|SandwichMakers</td><td>4.100000</td></tr><tr><td>Home&Kitchen|Kitchen&HomeAppliances|SmallKitchenAppliances|JuicerMixerGrinders</td><td>3.891667</td></tr><tr><td>Electronics|HomeAudio|Speakers|OutdoorSpeakers</td><td>4.000000</td></tr><tr><td>Home&Kitchen|Kitchen&HomeAppliances|SmallKitchenAppliances|Juicers|ColdPressJuicers</td><td>4.400000</td></tr><tr><td>Computers&Accessories|Accessories&Peripherals|Audio&VideoAccessories|PCHeadsets</td><td>3.500000</td></tr><tr><td>Home&Kitchen|Kitchen&HomeAppliances|SmallKitchenAppliances</td><td>4.400000</td></tr><tr><td>Home&Kitchen|Heating,Cooling&AirQuality|WaterHeaters&Geysers|StorageWaterHeaters</td><td>4.141667</td></tr><tr><td>Home&Kitchen|Heating,Cooling&AirQuality|Fans|PedestalFans</td><td>4.100000</td></tr><tr><td>Computers&Accessories|Accessories&Peripherals|HardDiskBags</td><td>4.333333</td></tr><tr><td>Electronics|HomeAudio|Speakers|MultimediaSpeakerSystems</td><td>3.900000</td></tr><tr><td>Computers&Accessories|NetworkingDevices|NetworkAdapters|PowerLANAdapters</td><td>4.500000</td></tr><tr><td>Home&Kitchen|Heating,Cooling&AirQuality|Parts&Accessories|FanParts&Accessories</td><td>4.100000</td></tr><tr><td>Computers&Accessories|Components|Memory</td><td>4.500000</td></tr><tr><td>Computers&Accessories|Accessories&Peripherals|USBGadgets|Lamps</td><td>3.940000</td></tr><tr><td>Electronics|Accessories|MemoryCards|SecureDigitalCards</td><td>4.400000</td></tr><tr><td>Electronics|Accessories|MemoryCards|MicroSD</td><td>4.300000</td></tr><tr><td>Home&Kitchen|Heating,Cooling&AirQuality|RoomHeaters|ElectricHeaters</td><td>3.890000</td></tr><tr><td>Home&Kitchen|Heating,Cooling&AirQuality|RoomHeaters|FanHeaters</td><td>3.810000</td></tr><tr><td>Home&Kitchen|Kitchen&HomeAppliances|Coffee,Tea&Espresso|StovetopEspressoPots</td><td>4.200000</td></tr><tr><td>Electronics|Cameras&Photography|Accessories|PhotoStudio&Lighting|PhotoBackgroundAccessories|BackgroundSupports</td><td>4.300000</td></tr><tr><td>Home&Kitchen|Kitchen&HomeAppliances|Vacuum,Cleaning&Ironing|PressureWashers,Steam&WindowCleaners</td><td>4.200000</td></tr><tr><td>Home&Kitchen|Kitchen&HomeAppliances|SmallKitchenAppliances|StandMixers</td><td>4.300000</td></tr><tr><td>Home&Kitchen|Kitchen&HomeAppliances|Coffee,Tea&Espresso|DripCoffeeMachines</td><td>4.080000</td></tr><tr><td>Electronics|WearableTechnology|SmartWatches</td><td>4.045192</td></tr><tr><td>OfficeProducts|OfficePaperProducts|Paper|Stationery|Pens,Pencils&WritingSupplies|Pens&Refills|RetractableBallpointPens</td><td>4.300000</td></tr><tr><td>Home&Kitchen|Heating,Cooling&AirQuality|RoomHeaters|HalogenHeaters</td><td>3.600000</td></tr><tr><td>OfficeProducts|OfficeElectronics|Calculators|Financial&Business</td><td>4.400000</td></tr><tr><td>Home&Kitchen|Heating,Cooling&AirQuality|Fans|ExhaustFans</td><td>4.100000</td></tr><tr><td>MusicalInstruments|Microphones|Condenser</td><td>3.900000</td></tr><tr><td>Electronics|HomeTheater,TV&Video|Televisions|SmartTelevisions</td><td>4.214493</td></tr><tr><td>Computers&Accessories|Accessories&Peripherals|LaptopAccessories|Lapdesks</td><td>4.064286</td></tr><tr><td>Home&Kitchen|Kitchen&Dining|KitchenTools|ManualChoppers&Chippers|Choppers</td><td>4.100000</td></tr><tr><td>Home&Kitchen|Kitchen&HomeAppliances|SmallKitchenAppliances|DigitalKitchenScales|DigitalScales</td><td>4.300000</td></tr><tr><td>Home&Kitchen|Kitchen&HomeAppliances|Coffee,Tea&Espresso|CoffeeGrinders|ElectricGrinders</td><td>3.300000</td></tr><tr><td>Computers&Accessories|Printers,Inks&Accessories|Inks,Toners&Cartridges|TonerCartridges</td><td>4.100000</td></tr><tr><td>Computers&Accessories|Accessories&Peripherals|PCGamingPeripherals|GamingKeyboards</td><td>4.366667</td></tr><tr><td>Electronics|Cameras&Photography|SecurityCameras|DomeCameras</td><td>4.100000</td></tr><tr><td>Home&Kitchen|Heating,Cooling&AirQuality|Fans|CeilingFans</td><td>4.109091</td></tr><tr><td>Home&Kitchen|Kitchen&HomeAppliances|Coffee,Tea&Espresso|CoffeePresses</td><td>4.500000</td></tr><tr><td>Computers&Accessories|NetworkingDevices|NetworkAdapters|WirelessUSBAdapters</td><td>4.096154</td></tr><tr><td>Computers&Accessories|Printers,Inks&Accessories|Inks,Toners&Cartridges|InkjetInkRefills&Kits</td><td>4.300000</td></tr><tr><td>Home&Kitchen|Kitchen&HomeAppliances|SmallKitchenAppliances|EggBoilers</td><td>4.290909</td></tr><tr><td>Home&Kitchen|Kitchen&HomeAppliances|Coffee,Tea&Espresso|CoffeeMakerAccessories|MeasuringSpoons</td><td>4.200000</td></tr><tr><td>Home&Kitchen|Kitchen&HomeAppliances|SmallKitchenAppliances|WaffleMakers&Irons</td><td>4.033333</td></tr><tr><td>Computers&Accessories|Accessories&Peripherals|LaptopAccessories|CameraPrivacyCovers</td><td>4.300000</td></tr><tr><td>Electronics|HomeAudio|Speakers|BluetoothSpeakers</td><td>4.050000</td></tr><tr><td>Home&Kitchen|HomeStorage&Organization|LaundryOrganization|IroningAccessories|SprayBottles</td><td>4.150000</td></tr><tr><td>Computers&Accessories|Accessories&Peripherals|Keyboards,Mice&InputDevices|Keyboard&MouseSets</td><td>4.050000</td></tr><tr><td>Electronics|Mobiles&Accessories|MobileAccessories|Photo&VideoAccessories|Flashes&SelfieLights|SelfieLights</td><td>4.100000</td></tr><tr><td>Home&Kitchen|Kitchen&HomeAppliances|SmallKitchenAppliances|YogurtMakers</td><td>4.100000</td></tr><tr><td>Home&Kitchen|Kitchen&HomeAppliances|SmallKitchenAppliances|SmallApplianceParts&Accessories|StandMixerAccessories</td><td>4.300000</td></tr><tr><td>Home&Kitchen|Kitchen&HomeAppliances|Vacuum,Cleaning&Ironing|Vacuums&FloorCare|Vacuums|HandheldVacuums</td><td>3.962500</td></tr><tr><td>Computers&Accessories|Accessories&Peripherals|Keyboards,Mice&InputDevices|GraphicTablets</td><td>3.981818</td></tr><tr><td>Electronics|Headphones,Earbuds&Accessories|Cases</td><td>4.300000</td></tr><tr><td>Home&Kitchen|Kitchen&HomeAppliances|Coffee,Tea&Espresso|MilkFrothers</td><td>3.733333</td></tr><tr><td>Home&Kitchen|Kitchen&HomeAppliances|Coffee,Tea&Espresso|EspressoMachines</td><td>3.900000</td></tr><tr><td>Computers&Accessories|Accessories&Peripherals|LaptopAccessories</td><td>4.300000</td></tr><tr><td>Electronics|GeneralPurposeBatteries&BatteryChargers</td><td>4.375000</td></tr><tr><td>Computers&Accessories|Accessories&Peripherals|Adapters|USBtoUSBAdapters</td><td>4.150000</td></tr><tr><td>Computers&Accessories|Components|InternalSolidStateDrives</td><td>4.400000</td></tr><tr><td>Home&Kitchen|CraftMaterials|DrawingMaterials|DrawingMedia|Pens</td><td>4.400000</td></tr><tr><td>OfficeProducts|OfficeElectronics|Calculators|Basic</td><td>4.500000</td></tr><tr><td>Home&Kitchen|Kitchen&HomeAppliances|Vacuum,Cleaning&Ironing|Irons,Steamers&Accessories|Irons|DryIrons</td><td>4.129167</td></tr><tr><td>OfficeProducts|OfficePaperProducts|Paper|Stationery|Pens,Pencils&WritingSupplies|Pens&Refills|LiquidInkRollerballPens</td><td>4.150000</td></tr><tr><td>Home&Kitchen|Kitchen&HomeAppliances|SmallKitchenAppliances|HandBlenders</td><td>4.057895</td></tr><tr><td>Electronics|Mobiles&Accessories|MobileAccessories|Stands</td><td>4.160000</td></tr><tr><td>OfficeProducts|OfficePaperProducts|Paper|Stationery|Pens,Pencils&WritingSupplies|Pens&Refills|FountainPens</td><td>4.100000</td></tr><tr><td>Home&Kitchen|Heating,Cooling&AirQuality|WaterHeaters&Geysers|InstantWaterHeaters</td><td>4.052174</td></tr><tr><td>Electronics|Mobiles&Accessories|MobileAccessories|Chargers|PowerBanks</td><td>4.121429</td></tr><tr><td>Home&Kitchen|Kitchen&HomeAppliances|SmallKitchenAppliances|MiniFoodProcessors&Choppers</td><td>4.037500</td></tr><tr><td>Home&Kitchen|Kitchen&HomeAppliances|Vacuum,Cleaning&Ironing|Vacuums&FloorCare|Vacuums|RoboticVacuums</td><td>4.250000</td></tr><tr><td>Home&Kitchen|Kitchen&HomeAppliances|Vacuum,Cleaning&Ironing|Vacuums&FloorCare|VacuumAccessories|VacuumBags|HandheldBags</td><td>4.300000</td></tr><tr><td>Computers&Accessories|Monitors</td><td>4.250000</td></tr><tr><td>Computers&Accessories|Accessories&Peripherals|UninterruptedPowerSupplies</td><td>3.900000</td></tr><tr><td>Computers&Accessories|Accessories&Peripherals|Keyboards,Mice&InputDevices|Keyboards</td><td>4.120000</td></tr><tr><td>Home&Kitchen|Kitchen&HomeAppliances|SmallKitchenAppliances|RotiMakers</td><td>4.400000</td></tr><tr><td>Home&Kitchen|Kitchen&HomeAppliances|SmallKitchenAppliances|Kettles&HotWaterDispensers|ElectricKettles</td><td>4.031579</td></tr><tr><td>Computers&Accessories|Accessories&Peripherals|LaptopAccessories|LaptopChargers&PowerSupplies</td><td>3.980000</td></tr><tr><td>Home&Kitchen|Kitchen&HomeAppliances|SmallKitchenAppliances|Pop-upToasters</td><td>4.333333</td></tr><tr><td>Electronics|Mobiles&Accessories|MobileAccessories|StylusPens</td><td>4.171429</td></tr><tr><td>OfficeProducts|OfficePaperProducts|Paper|Stationery|Pens,Pencils&WritingSupplies|Pens&Refills|BottledInk</td><td>4.300000</td></tr><tr><td>Home&Kitchen|Kitchen&HomeAppliances|SmallKitchenAppliances|Kettles&HotWaterDispensers|Kettle&ToasterSets</td><td>3.961538</td></tr><tr><td>Car&Motorbike|CarAccessories|InteriorAccessories|AirPurifiers&Ionizers</td><td>3.800000</td></tr><tr><td>Computers&Accessories|ExternalDevices&DataStorage|ExternalHardDisks</td><td>4.400000</td></tr><tr><td>Computers&Accessories|Components|InternalHardDrives</td><td>4.200000</td></tr><tr><td>Home&Kitchen|CraftMaterials|PaintingMaterials|Paints</td><td>4.433333</td></tr><tr><td>Toys&Games|Arts&Crafts|Drawing&PaintingSupplies|ColouringPens&Markers</td><td>4.300000</td></tr><tr><td>Home&Kitchen|Heating,Cooling&AirQuality|AirConditioners|Split-SystemAirConditioners</td><td>4.300000</td></tr><tr><td>Computers&Accessories|Accessories&Peripherals|LaptopAccessories|NotebookComputerStands</td><td>4.300000</td></tr><tr><td>Home&Kitchen|Kitchen&HomeAppliances|SmallKitchenAppliances|MixerGrinders</td><td>4.011111</td></tr><tr><td>Home&Kitchen|Kitchen&HomeAppliances|SmallKitchenAppliances|Rice&PastaCookers</td><td>3.960000</td></tr><tr><td>Computers&Accessories|Printers,Inks&Accessories|Printers|InkjetPrinters</td><td>3.600000</td></tr><tr><td>Home&Kitchen|Kitchen&HomeAppliances|SmallKitchenAppliances|Juicers</td><td>3.700000</td></tr><tr><td>HomeImprovement|Electrical|Adapters&Multi-Outlets</td><td>4.000000</td></tr><tr><td>Computers&Accessories|Accessories&Peripherals|Keyboards,Mice&InputDevices|Keyboard&MiceAccessories|DustCovers</td><td>3.400000</td></tr><tr><td>Computers&Accessories|Printers,Inks&Accessories|Inks,Toners&Cartridges|InkjetInkCartridges</td><td>4.250000</td></tr><tr><td>Electronics|Mobiles&Accessories|MobileAccessories|Photo&VideoAccessories|SelfieSticks</td><td>4.277778</td></tr><tr><td>Home&Kitchen|Heating,Cooling&AirQuality|RoomHeaters|HeatConvectors</td><td>3.700000</td></tr><tr><td>Computers&Accessories|ExternalDevices&DataStorage|ExternalSolidStateDrives</td><td>4.400000</td></tr><tr><td>Electronics|Headphones,Earbuds&Accessories|Headphones|Over-Ear</td><td>4.000000</td></tr><tr><td>Electronics|PowerAccessories|SurgeProtectors</td><td>4.500000</td></tr><tr><td>OfficeProducts|OfficePaperProducts|Paper|Copy&PrintingPaper|ColouredPaper</td><td>4.300000</td></tr><tr><td>Computers&Accessories|Accessories&Peripherals|Cables&Accessories|Cables|SATACables</td><td>3.900000</td></tr><tr><td>Electronics|GeneralPurposeBatteries&BatteryChargers|DisposableBatteries</td><td>4.414286</td></tr><tr><td>Electronics|Mobiles&Accessories|MobileAccessories|Décor</td><td>4.155556</td></tr><tr><td>Electronics|Cameras&Photography|Accessories|Tripods&Monopods|TripodLegs</td><td>4.050000</td></tr><tr><td>Home&Kitchen|Kitchen&HomeAppliances|SmallKitchenAppliances|Mills&Grinders|WetGrinders</td><td>3.800000</td></tr><tr><td>Electronics|GeneralPurposeBatteries&BatteryChargers|RechargeableBatteries</td><td>4.166667</td></tr><tr><td>Electronics|Headphones,Earbuds&Accessories|Headphones|On-Ear</td><td>4.070000</td></tr><tr><td>Computers&Accessories|NetworkingDevices|Repeaters&Extenders</td><td>4.200000</td></tr><tr><td>Home&Kitchen|Kitchen&HomeAppliances|SmallKitchenAppliances|OvenToasterGrills</td><td>4.250000</td></tr><tr><td>Computers&Accessories|Tablets</td><td>4.600000</td></tr><tr><td>Home&Kitchen|Kitchen&HomeAppliances|WaterPurifiers&Accessories|WaterPurifierAccessories</td><td>3.918182</td></tr><tr><td>Computers&Accessories|Accessories&Peripherals|TabletAccessories|Bags,Cases&Sleeves|Cases</td><td>4.300000</td></tr><tr><td>Home&Kitchen|Kitchen&HomeAppliances|SmallKitchenAppliances|DeepFatFryers|AirFryers</td><td>4.460000</td></tr><tr><td>Home&Kitchen|HomeStorage&Organization|LaundryOrganization|LaundryBaskets</td><td>3.992308</td></tr><tr><td>Computers&Accessories|Accessories&Peripherals|Audio&VideoAccessories|Webcams&VoIPEquipment|Webcams</td><td>4.200000</td></tr><tr><td>Computers&Accessories|Accessories&Peripherals|LaptopAccessories|CoolingPads</td><td>4.100000</td></tr><tr><td>Electronics|HomeAudio|Speakers|SoundbarSpeakers</td><td>4.200000</td></tr><tr><td>Home&Kitchen|HomeStorage&Organization|LaundryOrganization|LaundryBags</td><td>4.200000</td></tr><tr><td>Electronics|Headphones,Earbuds&Accessories|Adapters</td><td>3.900000</td></tr><tr><td>Computers&Accessories|Accessories&Peripherals|PCGamingPeripherals|Gamepads</td><td>4.266667</td></tr><tr><td>OfficeProducts|OfficePaperProducts|Paper|Stationery|Pens,Pencils&WritingSupplies|Pens&Refills|StickBallpointPens</td><td>4.133333</td></tr><tr><td>Home&Kitchen|Kitchen&HomeAppliances|Vacuum,Cleaning&Ironing|Irons,Steamers&Accessories|Irons|SteamIrons</td><td>4.033333</td></tr><tr><td>Computers&Accessories|Accessories&Peripherals|Cables&Accessories|Cables|USBCables</td><td>4.159620</td></tr><tr><td>Home&Kitchen|Kitchen&HomeAppliances|Vacuum,Cleaning&Ironing|Vacuums&FloorCare|Vacuums|CanisterVacuums</td><td>4.175000</td></tr><tr><td>Home&Kitchen|Kitchen&HomeAppliances|SmallKitchenAppliances|SmallApplianceParts&Accessories</td><td>4.500000</td></tr><tr><td>Electronics|Headphones,Earbuds&Accessories|Earpads</td><td>3.800000</td></tr><tr><td>Home&Kitchen|Kitchen&HomeAppliances|WaterPurifiers&Accessories|WaterCartridges</td><td>4.033333</td></tr><tr><td>Home&Kitchen|Kitchen&HomeAppliances|WaterPurifiers&Accessories|WaterFilters&Purifiers</td><td>4.175000</td></tr><tr><td>Electronics|Mobiles&Accessories|MobileAccessories|Chargers|WallChargers</td><td>4.127778</td></tr><tr><td>Computers&Accessories|Laptops|TraditionalLaptops</td><td>4.000000</td></tr><tr><td>Home&Kitchen|Heating,Cooling&AirQuality|Humidifiers</td><td>3.966667</td></tr><tr><td>OfficeProducts|OfficePaperProducts|Paper|Stationery|Pens,Pencils&WritingSupplies|Pens&Refills|GelInkRollerballPens</td><td>4.250000</td></tr><tr><td>Home&Kitchen|Kitchen&HomeAppliances|Vacuum,Cleaning&Ironing|Vacuums&FloorCare|Vacuums|Wet-DryVacuums</td><td>4.033333</td></tr><tr><td>Electronics|Cameras&Photography|Accessories|Tripods&Monopods|Tabletop&TravelTripods</td><td>4.350000</td></tr><tr><td>Home&Kitchen|Heating,Cooling&AirQuality|AirPurifiers|HEPAAirPurifiers</td><td>4.275000</td></tr><tr><td>Home&Kitchen|Heating,Cooling&AirQuality|RoomHeaters</td><td>3.900000</td></tr><tr><td>Home&Kitchen|Kitchen&HomeAppliances|SewingMachines&Accessories|Sewing&EmbroideryMachines</td><td>3.650000</td></tr><tr><td>Computers&Accessories|Accessories&Peripherals|PCGamingPeripherals|GamingMice</td><td>4.383333</td></tr><tr><td>Computers&Accessories|Accessories&Peripherals|Cables&Accessories|Cables|EthernetCables</td><td>4.400000</td></tr><tr><td>HomeImprovement|Electrical|CordManagement</td><td>4.500000</td></tr><tr><td>Computers&Accessories|Accessories&Peripherals|TabletAccessories|Stands</td><td>4.100000</td></tr><tr><td>Computers&Accessories|Accessories&Peripherals|USBHubs</td><td>3.940000</td></tr><tr><td>Home&Kitchen|CraftMaterials|PaintingMaterials</td><td>4.500000</td></tr><tr><td>Home&Kitchen|Heating,Cooling&AirQuality|WaterHeaters&Geysers|ImmersionRods</td><td>4.077778</td></tr><tr><td>Computers&Accessories|Accessories&Peripherals|Keyboards,Mice&InputDevices|Keyboard&MiceAccessories|MousePads</td><td>4.375000</td></tr><tr><td>Home&Kitchen|Kitchen&HomeAppliances|SmallKitchenAppliances|HandMixers</td><td>4.233333</td></tr><tr><td>Electronics|Headphones,Earbuds&Accessories|Headphones|In-Ear</td><td>3.905556</td></tr><tr><td>OfficeProducts|OfficePaperProducts|Paper|Stationery|Notebooks,WritingPads&Diaries|Notepads&MemoBooks</td><td>4.250000</td></tr><tr><td>Home&Kitchen|Kitchen&HomeAppliances|SmallKitchenAppliances|InductionCooktop</td><td>4.050000</td></tr><tr><td>Home&Kitchen|CraftMaterials|DrawingMaterials|DrawingMedia|Pencils|WoodenPencils</td><td>4.300000</td></tr><tr><td>Computers&Accessories|Accessories&Peripherals|Audio&VideoAccessories|PCMicrophones</td><td>3.600000</td></tr><tr><td>Electronics|Mobiles&Accessories|MobileAccessories|Mounts|HandlebarMounts</td><td>4.300000</td></tr><tr><td>Electronics|HomeTheater,TV&Video|AVReceivers&Amplifiers</td><td>4.000000</td></tr><tr><td>Electronics|Mobiles&Accessories|MobileAccessories|Maintenance,Upkeep&Repairs|ScreenProtectors</td><td>4.471429</td></tr><tr><td>Computers&Accessories|Accessories&Peripherals|Cables&Accessories|CableConnectionProtectors</td><td>4.020000</td></tr><tr><td>Electronics|Cameras&Photography|Flashes|Macro&RinglightFlashes</td><td>3.800000</td></tr><tr><td>Electronics|HomeAudio|Accessories|Adapters</td><td>4.400000</td></tr><tr><td>Electronics|HomeTheater,TV&Video|Accessories|TVMounts,Stands&Turntables|TVWall&CeilingMounts</td><td>4.033333</td></tr><tr><td>Electronics|Mobiles&Accessories|MobileAccessories|Cables&Adapters|OTGAdapters</td><td>4.250000</td></tr><tr><td>Computers&Accessories|NetworkingDevices</td><td>4.100000</td></tr><tr><td>Electronics|Mobiles&Accessories|Smartphones&BasicMobiles|BasicMobiles</td><td>3.911111</td></tr><tr><td>Electronics|HomeTheater,TV&Video|Accessories|Cables|OpticalCables</td><td>4.133333</td></tr><tr><td>Electronics|HomeTheater,TV&Video|SatelliteEquipment|SatelliteReceivers</td><td>4.266667</td></tr><tr><td>Electronics|Mobiles&Accessories|MobileAccessories|Cases&Covers|BasicCases</td><td>4.200000</td></tr><tr><td>Electronics|HomeAudio|Accessories|SpeakerAccessories|Mounts</td><td>4.000000</td></tr><tr><td>Electronics|Cameras&Photography|Accessories|Film</td><td>4.500000</td></tr><tr><td>OfficeProducts|OfficeElectronics|Calculators|Scientific</td><td>4.450000</td></tr><tr><td>Electronics|Mobiles&Accessories|Smartphones&BasicMobiles|Smartphones</td><td>4.100000</td></tr><tr><td>Electronics|HomeTheater,TV&Video|Televisions|StandardTelevisions</td><td>4.066667</td></tr><tr><td>Electronics|Mobiles&Accessories|MobileAccessories|AutomobileAccessories|Cradles</td><td>3.966667</td></tr><tr><td>Electronics|HomeTheater,TV&Video|Accessories|Cables|SpeakerCables</td><td>4.400000</td></tr><tr><td>Electronics|HomeTheater,TV&Video|Accessories|3DGlasses</td><td>3.500000</td></tr><tr><td>Electronics|Mobiles&Accessories|MobileAccessories|Décor|PhoneCharms</td><td>4.400000</td></tr><tr><td>Electronics|HomeTheater,TV&Video|Accessories|RemoteControls</td><td>3.800000</td></tr><tr><td>Electronics|Mobiles&Accessories|MobileAccessories|Photo&VideoAccessories|Tripods</td><td>3.800000</td></tr><tr><td>Electronics|Cameras&Photography|Accessories|Tripods&Monopods|CompleteTripodUnits</td><td>4.400000</td></tr><tr><td>Electronics|Cameras&Photography|VideoCameras</td><td>3.700000</td></tr><tr><td>Electronics|HomeTheater,TV&Video|Accessories|Cables|RCACables</td><td>4.300000</td></tr><tr><td>Electronics|Mobiles&Accessories|MobileAccessories|Mounts|Shower&WallMounts</td><td>4.100000</td></tr><tr><td>Electronics|Cameras&Photography|Accessories|Cleaners|CleaningKits</td><td>4.200000</td></tr><tr><td>Computers&Accessories|NetworkingDevices|NetworkAdapters|BluetoothAdapters</td><td>4.300000</td></tr><tr><td>Electronics|Mobiles&Accessories|MobileAccessories|Chargers|AutomobileChargers</td><td>4.128571</td></tr><tr><td>Computers&Accessories|Accessories&Peripherals|Cables&Accessories|Cables|DVICables</td><td>4.400000</td></tr><tr><td>Home&Kitchen|CraftMaterials|Scrapbooking|Tape</td><td>3.900000</td></tr><tr><td>Electronics|HomeAudio|MediaStreamingDevices|StreamingClients</td><td>4.500000</td></tr><tr><td>Electronics|HomeTheater,TV&Video|Accessories|Cables|HDMICables</td><td>4.223333</td></tr><tr><td>Electronics|HomeTheater,TV&Video|Projectors</td><td>4.133333</td></tr><tr><td>Electronics|Mobiles&Accessories|MobileAccessories|Mounts|Bedstand&DeskMounts</td><td>3.900000</td></tr><tr><td>Electronics|HomeAudio|Speakers|TowerSpeakers</td><td>3.800000</td></tr></tbody></table></div>"
      ]
     },
     "metadata": {
      "application/vnd.databricks.v1+output": {
       "addedWidgets": {},
       "aggData": [],
       "aggError": "",
       "aggOverflow": false,
       "aggSchema": [],
       "aggSeriesLimitReached": false,
       "aggType": "",
       "arguments": {},
       "columnCustomDisplayInfos": {},
       "data": [
        [
         "Computers&Accessories|Accessories&Peripherals|HardDriveAccessories|Caddies",
         "4.100000"
        ],
        [
         "OfficeProducts|OfficePaperProducts|Paper|Stationery|Notebooks,WritingPads&Diaries|WireboundNotebooks",
         "4.400000"
        ],
        [
         "OfficeProducts|OfficePaperProducts|Paper|Stationery|Notebooks,WritingPads&Diaries|CompositionNotebooks",
         "4.371429"
        ],
        [
         "Electronics|Cameras&Photography|Accessories|Batteries&Chargers|BatteryChargers",
         "3.800000"
        ],
        [
         "Computers&Accessories|ExternalDevices&DataStorage|ExternalMemoryCardReaders",
         "4.300000"
        ],
        [
         "Computers&Accessories|Accessories&Peripherals|TabletAccessories|ScreenProtectors",
         "4.180000"
        ],
        [
         "Computers&Accessories|Accessories&Peripherals|Audio&VideoAccessories|PCSpeakers",
         "4.050000"
        ],
        [
         "Computers&Accessories|Accessories&Peripherals|PCGamingPeripherals|Headsets",
         "4.033333"
        ],
        [
         "Health&PersonalCare|HomeMedicalSupplies&Equipment|HealthMonitors|WeighingScales|DigitalBathroomScales",
         "4.000000"
        ],
        [
         "Home&Kitchen|Kitchen&HomeAppliances|Vacuum,Cleaning&Ironing|Irons,Steamers&Accessories|LintShavers",
         "4.036364"
        ],
        [
         "Home&Kitchen|Kitchen&HomeAppliances|SmallKitchenAppliances|VacuumSealers",
         "3.671429"
        ],
        [
         "OfficeProducts|OfficePaperProducts|Paper|Stationery|Notebooks,WritingPads&Diaries",
         "4.300000"
        ],
        [
         "Home&Kitchen|Heating,Cooling&AirQuality|Fans|TableFans",
         "3.950000"
        ],
        [
         "Computers&Accessories|ExternalDevices&DataStorage|PenDrives",
         "4.260000"
        ],
        [
         "Home&Kitchen|Kitchen&HomeAppliances|SmallKitchenAppliances|DigitalKitchenScales",
         "4.080000"
        ],
        [
         "Computers&Accessories|Accessories&Peripherals|LaptopAccessories|Bags&Sleeves|LaptopSleeves&Slipcases",
         "4.250000"
        ],
        [
         "Computers&Accessories|Accessories&Peripherals|Keyboards,Mice&InputDevices|Mice",
         "4.287500"
        ],
        [
         "Computers&Accessories|NetworkingDevices|Routers",
         "4.255556"
        ],
        [
         "Computers&Accessories|Printers,Inks&Accessories|Printers",
         "3.666667"
        ],
        [
         "Computers&Accessories|NetworkingDevices|DataCards&Dongles",
         "3.800000"
        ],
        [
         "Home&Kitchen|Kitchen&HomeAppliances|SmallKitchenAppliances|SandwichMakers",
         "4.100000"
        ],
        [
         "Home&Kitchen|Kitchen&HomeAppliances|SmallKitchenAppliances|JuicerMixerGrinders",
         "3.891667"
        ],
        [
         "Electronics|HomeAudio|Speakers|OutdoorSpeakers",
         "4.000000"
        ],
        [
         "Home&Kitchen|Kitchen&HomeAppliances|SmallKitchenAppliances|Juicers|ColdPressJuicers",
         "4.400000"
        ],
        [
         "Computers&Accessories|Accessories&Peripherals|Audio&VideoAccessories|PCHeadsets",
         "3.500000"
        ],
        [
         "Home&Kitchen|Kitchen&HomeAppliances|SmallKitchenAppliances",
         "4.400000"
        ],
        [
         "Home&Kitchen|Heating,Cooling&AirQuality|WaterHeaters&Geysers|StorageWaterHeaters",
         "4.141667"
        ],
        [
         "Home&Kitchen|Heating,Cooling&AirQuality|Fans|PedestalFans",
         "4.100000"
        ],
        [
         "Computers&Accessories|Accessories&Peripherals|HardDiskBags",
         "4.333333"
        ],
        [
         "Electronics|HomeAudio|Speakers|MultimediaSpeakerSystems",
         "3.900000"
        ],
        [
         "Computers&Accessories|NetworkingDevices|NetworkAdapters|PowerLANAdapters",
         "4.500000"
        ],
        [
         "Home&Kitchen|Heating,Cooling&AirQuality|Parts&Accessories|FanParts&Accessories",
         "4.100000"
        ],
        [
         "Computers&Accessories|Components|Memory",
         "4.500000"
        ],
        [
         "Computers&Accessories|Accessories&Peripherals|USBGadgets|Lamps",
         "3.940000"
        ],
        [
         "Electronics|Accessories|MemoryCards|SecureDigitalCards",
         "4.400000"
        ],
        [
         "Electronics|Accessories|MemoryCards|MicroSD",
         "4.300000"
        ],
        [
         "Home&Kitchen|Heating,Cooling&AirQuality|RoomHeaters|ElectricHeaters",
         "3.890000"
        ],
        [
         "Home&Kitchen|Heating,Cooling&AirQuality|RoomHeaters|FanHeaters",
         "3.810000"
        ],
        [
         "Home&Kitchen|Kitchen&HomeAppliances|Coffee,Tea&Espresso|StovetopEspressoPots",
         "4.200000"
        ],
        [
         "Electronics|Cameras&Photography|Accessories|PhotoStudio&Lighting|PhotoBackgroundAccessories|BackgroundSupports",
         "4.300000"
        ],
        [
         "Home&Kitchen|Kitchen&HomeAppliances|Vacuum,Cleaning&Ironing|PressureWashers,Steam&WindowCleaners",
         "4.200000"
        ],
        [
         "Home&Kitchen|Kitchen&HomeAppliances|SmallKitchenAppliances|StandMixers",
         "4.300000"
        ],
        [
         "Home&Kitchen|Kitchen&HomeAppliances|Coffee,Tea&Espresso|DripCoffeeMachines",
         "4.080000"
        ],
        [
         "Electronics|WearableTechnology|SmartWatches",
         "4.045192"
        ],
        [
         "OfficeProducts|OfficePaperProducts|Paper|Stationery|Pens,Pencils&WritingSupplies|Pens&Refills|RetractableBallpointPens",
         "4.300000"
        ],
        [
         "Home&Kitchen|Heating,Cooling&AirQuality|RoomHeaters|HalogenHeaters",
         "3.600000"
        ],
        [
         "OfficeProducts|OfficeElectronics|Calculators|Financial&Business",
         "4.400000"
        ],
        [
         "Home&Kitchen|Heating,Cooling&AirQuality|Fans|ExhaustFans",
         "4.100000"
        ],
        [
         "MusicalInstruments|Microphones|Condenser",
         "3.900000"
        ],
        [
         "Electronics|HomeTheater,TV&Video|Televisions|SmartTelevisions",
         "4.214493"
        ],
        [
         "Computers&Accessories|Accessories&Peripherals|LaptopAccessories|Lapdesks",
         "4.064286"
        ],
        [
         "Home&Kitchen|Kitchen&Dining|KitchenTools|ManualChoppers&Chippers|Choppers",
         "4.100000"
        ],
        [
         "Home&Kitchen|Kitchen&HomeAppliances|SmallKitchenAppliances|DigitalKitchenScales|DigitalScales",
         "4.300000"
        ],
        [
         "Home&Kitchen|Kitchen&HomeAppliances|Coffee,Tea&Espresso|CoffeeGrinders|ElectricGrinders",
         "3.300000"
        ],
        [
         "Computers&Accessories|Printers,Inks&Accessories|Inks,Toners&Cartridges|TonerCartridges",
         "4.100000"
        ],
        [
         "Computers&Accessories|Accessories&Peripherals|PCGamingPeripherals|GamingKeyboards",
         "4.366667"
        ],
        [
         "Electronics|Cameras&Photography|SecurityCameras|DomeCameras",
         "4.100000"
        ],
        [
         "Home&Kitchen|Heating,Cooling&AirQuality|Fans|CeilingFans",
         "4.109091"
        ],
        [
         "Home&Kitchen|Kitchen&HomeAppliances|Coffee,Tea&Espresso|CoffeePresses",
         "4.500000"
        ],
        [
         "Computers&Accessories|NetworkingDevices|NetworkAdapters|WirelessUSBAdapters",
         "4.096154"
        ],
        [
         "Computers&Accessories|Printers,Inks&Accessories|Inks,Toners&Cartridges|InkjetInkRefills&Kits",
         "4.300000"
        ],
        [
         "Home&Kitchen|Kitchen&HomeAppliances|SmallKitchenAppliances|EggBoilers",
         "4.290909"
        ],
        [
         "Home&Kitchen|Kitchen&HomeAppliances|Coffee,Tea&Espresso|CoffeeMakerAccessories|MeasuringSpoons",
         "4.200000"
        ],
        [
         "Home&Kitchen|Kitchen&HomeAppliances|SmallKitchenAppliances|WaffleMakers&Irons",
         "4.033333"
        ],
        [
         "Computers&Accessories|Accessories&Peripherals|LaptopAccessories|CameraPrivacyCovers",
         "4.300000"
        ],
        [
         "Electronics|HomeAudio|Speakers|BluetoothSpeakers",
         "4.050000"
        ],
        [
         "Home&Kitchen|HomeStorage&Organization|LaundryOrganization|IroningAccessories|SprayBottles",
         "4.150000"
        ],
        [
         "Computers&Accessories|Accessories&Peripherals|Keyboards,Mice&InputDevices|Keyboard&MouseSets",
         "4.050000"
        ],
        [
         "Electronics|Mobiles&Accessories|MobileAccessories|Photo&VideoAccessories|Flashes&SelfieLights|SelfieLights",
         "4.100000"
        ],
        [
         "Home&Kitchen|Kitchen&HomeAppliances|SmallKitchenAppliances|YogurtMakers",
         "4.100000"
        ],
        [
         "Home&Kitchen|Kitchen&HomeAppliances|SmallKitchenAppliances|SmallApplianceParts&Accessories|StandMixerAccessories",
         "4.300000"
        ],
        [
         "Home&Kitchen|Kitchen&HomeAppliances|Vacuum,Cleaning&Ironing|Vacuums&FloorCare|Vacuums|HandheldVacuums",
         "3.962500"
        ],
        [
         "Computers&Accessories|Accessories&Peripherals|Keyboards,Mice&InputDevices|GraphicTablets",
         "3.981818"
        ],
        [
         "Electronics|Headphones,Earbuds&Accessories|Cases",
         "4.300000"
        ],
        [
         "Home&Kitchen|Kitchen&HomeAppliances|Coffee,Tea&Espresso|MilkFrothers",
         "3.733333"
        ],
        [
         "Home&Kitchen|Kitchen&HomeAppliances|Coffee,Tea&Espresso|EspressoMachines",
         "3.900000"
        ],
        [
         "Computers&Accessories|Accessories&Peripherals|LaptopAccessories",
         "4.300000"
        ],
        [
         "Electronics|GeneralPurposeBatteries&BatteryChargers",
         "4.375000"
        ],
        [
         "Computers&Accessories|Accessories&Peripherals|Adapters|USBtoUSBAdapters",
         "4.150000"
        ],
        [
         "Computers&Accessories|Components|InternalSolidStateDrives",
         "4.400000"
        ],
        [
         "Home&Kitchen|CraftMaterials|DrawingMaterials|DrawingMedia|Pens",
         "4.400000"
        ],
        [
         "OfficeProducts|OfficeElectronics|Calculators|Basic",
         "4.500000"
        ],
        [
         "Home&Kitchen|Kitchen&HomeAppliances|Vacuum,Cleaning&Ironing|Irons,Steamers&Accessories|Irons|DryIrons",
         "4.129167"
        ],
        [
         "OfficeProducts|OfficePaperProducts|Paper|Stationery|Pens,Pencils&WritingSupplies|Pens&Refills|LiquidInkRollerballPens",
         "4.150000"
        ],
        [
         "Home&Kitchen|Kitchen&HomeAppliances|SmallKitchenAppliances|HandBlenders",
         "4.057895"
        ],
        [
         "Electronics|Mobiles&Accessories|MobileAccessories|Stands",
         "4.160000"
        ],
        [
         "OfficeProducts|OfficePaperProducts|Paper|Stationery|Pens,Pencils&WritingSupplies|Pens&Refills|FountainPens",
         "4.100000"
        ],
        [
         "Home&Kitchen|Heating,Cooling&AirQuality|WaterHeaters&Geysers|InstantWaterHeaters",
         "4.052174"
        ],
        [
         "Electronics|Mobiles&Accessories|MobileAccessories|Chargers|PowerBanks",
         "4.121429"
        ],
        [
         "Home&Kitchen|Kitchen&HomeAppliances|SmallKitchenAppliances|MiniFoodProcessors&Choppers",
         "4.037500"
        ],
        [
         "Home&Kitchen|Kitchen&HomeAppliances|Vacuum,Cleaning&Ironing|Vacuums&FloorCare|Vacuums|RoboticVacuums",
         "4.250000"
        ],
        [
         "Home&Kitchen|Kitchen&HomeAppliances|Vacuum,Cleaning&Ironing|Vacuums&FloorCare|VacuumAccessories|VacuumBags|HandheldBags",
         "4.300000"
        ],
        [
         "Computers&Accessories|Monitors",
         "4.250000"
        ],
        [
         "Computers&Accessories|Accessories&Peripherals|UninterruptedPowerSupplies",
         "3.900000"
        ],
        [
         "Computers&Accessories|Accessories&Peripherals|Keyboards,Mice&InputDevices|Keyboards",
         "4.120000"
        ],
        [
         "Home&Kitchen|Kitchen&HomeAppliances|SmallKitchenAppliances|RotiMakers",
         "4.400000"
        ],
        [
         "Home&Kitchen|Kitchen&HomeAppliances|SmallKitchenAppliances|Kettles&HotWaterDispensers|ElectricKettles",
         "4.031579"
        ],
        [
         "Computers&Accessories|Accessories&Peripherals|LaptopAccessories|LaptopChargers&PowerSupplies",
         "3.980000"
        ],
        [
         "Home&Kitchen|Kitchen&HomeAppliances|SmallKitchenAppliances|Pop-upToasters",
         "4.333333"
        ],
        [
         "Electronics|Mobiles&Accessories|MobileAccessories|StylusPens",
         "4.171429"
        ],
        [
         "OfficeProducts|OfficePaperProducts|Paper|Stationery|Pens,Pencils&WritingSupplies|Pens&Refills|BottledInk",
         "4.300000"
        ],
        [
         "Home&Kitchen|Kitchen&HomeAppliances|SmallKitchenAppliances|Kettles&HotWaterDispensers|Kettle&ToasterSets",
         "3.961538"
        ],
        [
         "Car&Motorbike|CarAccessories|InteriorAccessories|AirPurifiers&Ionizers",
         "3.800000"
        ],
        [
         "Computers&Accessories|ExternalDevices&DataStorage|ExternalHardDisks",
         "4.400000"
        ],
        [
         "Computers&Accessories|Components|InternalHardDrives",
         "4.200000"
        ],
        [
         "Home&Kitchen|CraftMaterials|PaintingMaterials|Paints",
         "4.433333"
        ],
        [
         "Toys&Games|Arts&Crafts|Drawing&PaintingSupplies|ColouringPens&Markers",
         "4.300000"
        ],
        [
         "Home&Kitchen|Heating,Cooling&AirQuality|AirConditioners|Split-SystemAirConditioners",
         "4.300000"
        ],
        [
         "Computers&Accessories|Accessories&Peripherals|LaptopAccessories|NotebookComputerStands",
         "4.300000"
        ],
        [
         "Home&Kitchen|Kitchen&HomeAppliances|SmallKitchenAppliances|MixerGrinders",
         "4.011111"
        ],
        [
         "Home&Kitchen|Kitchen&HomeAppliances|SmallKitchenAppliances|Rice&PastaCookers",
         "3.960000"
        ],
        [
         "Computers&Accessories|Printers,Inks&Accessories|Printers|InkjetPrinters",
         "3.600000"
        ],
        [
         "Home&Kitchen|Kitchen&HomeAppliances|SmallKitchenAppliances|Juicers",
         "3.700000"
        ],
        [
         "HomeImprovement|Electrical|Adapters&Multi-Outlets",
         "4.000000"
        ],
        [
         "Computers&Accessories|Accessories&Peripherals|Keyboards,Mice&InputDevices|Keyboard&MiceAccessories|DustCovers",
         "3.400000"
        ],
        [
         "Computers&Accessories|Printers,Inks&Accessories|Inks,Toners&Cartridges|InkjetInkCartridges",
         "4.250000"
        ],
        [
         "Electronics|Mobiles&Accessories|MobileAccessories|Photo&VideoAccessories|SelfieSticks",
         "4.277778"
        ],
        [
         "Home&Kitchen|Heating,Cooling&AirQuality|RoomHeaters|HeatConvectors",
         "3.700000"
        ],
        [
         "Computers&Accessories|ExternalDevices&DataStorage|ExternalSolidStateDrives",
         "4.400000"
        ],
        [
         "Electronics|Headphones,Earbuds&Accessories|Headphones|Over-Ear",
         "4.000000"
        ],
        [
         "Electronics|PowerAccessories|SurgeProtectors",
         "4.500000"
        ],
        [
         "OfficeProducts|OfficePaperProducts|Paper|Copy&PrintingPaper|ColouredPaper",
         "4.300000"
        ],
        [
         "Computers&Accessories|Accessories&Peripherals|Cables&Accessories|Cables|SATACables",
         "3.900000"
        ],
        [
         "Electronics|GeneralPurposeBatteries&BatteryChargers|DisposableBatteries",
         "4.414286"
        ],
        [
         "Electronics|Mobiles&Accessories|MobileAccessories|Décor",
         "4.155556"
        ],
        [
         "Electronics|Cameras&Photography|Accessories|Tripods&Monopods|TripodLegs",
         "4.050000"
        ],
        [
         "Home&Kitchen|Kitchen&HomeAppliances|SmallKitchenAppliances|Mills&Grinders|WetGrinders",
         "3.800000"
        ],
        [
         "Electronics|GeneralPurposeBatteries&BatteryChargers|RechargeableBatteries",
         "4.166667"
        ],
        [
         "Electronics|Headphones,Earbuds&Accessories|Headphones|On-Ear",
         "4.070000"
        ],
        [
         "Computers&Accessories|NetworkingDevices|Repeaters&Extenders",
         "4.200000"
        ],
        [
         "Home&Kitchen|Kitchen&HomeAppliances|SmallKitchenAppliances|OvenToasterGrills",
         "4.250000"
        ],
        [
         "Computers&Accessories|Tablets",
         "4.600000"
        ],
        [
         "Home&Kitchen|Kitchen&HomeAppliances|WaterPurifiers&Accessories|WaterPurifierAccessories",
         "3.918182"
        ],
        [
         "Computers&Accessories|Accessories&Peripherals|TabletAccessories|Bags,Cases&Sleeves|Cases",
         "4.300000"
        ],
        [
         "Home&Kitchen|Kitchen&HomeAppliances|SmallKitchenAppliances|DeepFatFryers|AirFryers",
         "4.460000"
        ],
        [
         "Home&Kitchen|HomeStorage&Organization|LaundryOrganization|LaundryBaskets",
         "3.992308"
        ],
        [
         "Computers&Accessories|Accessories&Peripherals|Audio&VideoAccessories|Webcams&VoIPEquipment|Webcams",
         "4.200000"
        ],
        [
         "Computers&Accessories|Accessories&Peripherals|LaptopAccessories|CoolingPads",
         "4.100000"
        ],
        [
         "Electronics|HomeAudio|Speakers|SoundbarSpeakers",
         "4.200000"
        ],
        [
         "Home&Kitchen|HomeStorage&Organization|LaundryOrganization|LaundryBags",
         "4.200000"
        ],
        [
         "Electronics|Headphones,Earbuds&Accessories|Adapters",
         "3.900000"
        ],
        [
         "Computers&Accessories|Accessories&Peripherals|PCGamingPeripherals|Gamepads",
         "4.266667"
        ],
        [
         "OfficeProducts|OfficePaperProducts|Paper|Stationery|Pens,Pencils&WritingSupplies|Pens&Refills|StickBallpointPens",
         "4.133333"
        ],
        [
         "Home&Kitchen|Kitchen&HomeAppliances|Vacuum,Cleaning&Ironing|Irons,Steamers&Accessories|Irons|SteamIrons",
         "4.033333"
        ],
        [
         "Computers&Accessories|Accessories&Peripherals|Cables&Accessories|Cables|USBCables",
         "4.159620"
        ],
        [
         "Home&Kitchen|Kitchen&HomeAppliances|Vacuum,Cleaning&Ironing|Vacuums&FloorCare|Vacuums|CanisterVacuums",
         "4.175000"
        ],
        [
         "Home&Kitchen|Kitchen&HomeAppliances|SmallKitchenAppliances|SmallApplianceParts&Accessories",
         "4.500000"
        ],
        [
         "Electronics|Headphones,Earbuds&Accessories|Earpads",
         "3.800000"
        ],
        [
         "Home&Kitchen|Kitchen&HomeAppliances|WaterPurifiers&Accessories|WaterCartridges",
         "4.033333"
        ],
        [
         "Home&Kitchen|Kitchen&HomeAppliances|WaterPurifiers&Accessories|WaterFilters&Purifiers",
         "4.175000"
        ],
        [
         "Electronics|Mobiles&Accessories|MobileAccessories|Chargers|WallChargers",
         "4.127778"
        ],
        [
         "Computers&Accessories|Laptops|TraditionalLaptops",
         "4.000000"
        ],
        [
         "Home&Kitchen|Heating,Cooling&AirQuality|Humidifiers",
         "3.966667"
        ],
        [
         "OfficeProducts|OfficePaperProducts|Paper|Stationery|Pens,Pencils&WritingSupplies|Pens&Refills|GelInkRollerballPens",
         "4.250000"
        ],
        [
         "Home&Kitchen|Kitchen&HomeAppliances|Vacuum,Cleaning&Ironing|Vacuums&FloorCare|Vacuums|Wet-DryVacuums",
         "4.033333"
        ],
        [
         "Electronics|Cameras&Photography|Accessories|Tripods&Monopods|Tabletop&TravelTripods",
         "4.350000"
        ],
        [
         "Home&Kitchen|Heating,Cooling&AirQuality|AirPurifiers|HEPAAirPurifiers",
         "4.275000"
        ],
        [
         "Home&Kitchen|Heating,Cooling&AirQuality|RoomHeaters",
         "3.900000"
        ],
        [
         "Home&Kitchen|Kitchen&HomeAppliances|SewingMachines&Accessories|Sewing&EmbroideryMachines",
         "3.650000"
        ],
        [
         "Computers&Accessories|Accessories&Peripherals|PCGamingPeripherals|GamingMice",
         "4.383333"
        ],
        [
         "Computers&Accessories|Accessories&Peripherals|Cables&Accessories|Cables|EthernetCables",
         "4.400000"
        ],
        [
         "HomeImprovement|Electrical|CordManagement",
         "4.500000"
        ],
        [
         "Computers&Accessories|Accessories&Peripherals|TabletAccessories|Stands",
         "4.100000"
        ],
        [
         "Computers&Accessories|Accessories&Peripherals|USBHubs",
         "3.940000"
        ],
        [
         "Home&Kitchen|CraftMaterials|PaintingMaterials",
         "4.500000"
        ],
        [
         "Home&Kitchen|Heating,Cooling&AirQuality|WaterHeaters&Geysers|ImmersionRods",
         "4.077778"
        ],
        [
         "Computers&Accessories|Accessories&Peripherals|Keyboards,Mice&InputDevices|Keyboard&MiceAccessories|MousePads",
         "4.375000"
        ],
        [
         "Home&Kitchen|Kitchen&HomeAppliances|SmallKitchenAppliances|HandMixers",
         "4.233333"
        ],
        [
         "Electronics|Headphones,Earbuds&Accessories|Headphones|In-Ear",
         "3.905556"
        ],
        [
         "OfficeProducts|OfficePaperProducts|Paper|Stationery|Notebooks,WritingPads&Diaries|Notepads&MemoBooks",
         "4.250000"
        ],
        [
         "Home&Kitchen|Kitchen&HomeAppliances|SmallKitchenAppliances|InductionCooktop",
         "4.050000"
        ],
        [
         "Home&Kitchen|CraftMaterials|DrawingMaterials|DrawingMedia|Pencils|WoodenPencils",
         "4.300000"
        ],
        [
         "Computers&Accessories|Accessories&Peripherals|Audio&VideoAccessories|PCMicrophones",
         "3.600000"
        ],
        [
         "Electronics|Mobiles&Accessories|MobileAccessories|Mounts|HandlebarMounts",
         "4.300000"
        ],
        [
         "Electronics|HomeTheater,TV&Video|AVReceivers&Amplifiers",
         "4.000000"
        ],
        [
         "Electronics|Mobiles&Accessories|MobileAccessories|Maintenance,Upkeep&Repairs|ScreenProtectors",
         "4.471429"
        ],
        [
         "Computers&Accessories|Accessories&Peripherals|Cables&Accessories|CableConnectionProtectors",
         "4.020000"
        ],
        [
         "Electronics|Cameras&Photography|Flashes|Macro&RinglightFlashes",
         "3.800000"
        ],
        [
         "Electronics|HomeAudio|Accessories|Adapters",
         "4.400000"
        ],
        [
         "Electronics|HomeTheater,TV&Video|Accessories|TVMounts,Stands&Turntables|TVWall&CeilingMounts",
         "4.033333"
        ],
        [
         "Electronics|Mobiles&Accessories|MobileAccessories|Cables&Adapters|OTGAdapters",
         "4.250000"
        ],
        [
         "Computers&Accessories|NetworkingDevices",
         "4.100000"
        ],
        [
         "Electronics|Mobiles&Accessories|Smartphones&BasicMobiles|BasicMobiles",
         "3.911111"
        ],
        [
         "Electronics|HomeTheater,TV&Video|Accessories|Cables|OpticalCables",
         "4.133333"
        ],
        [
         "Electronics|HomeTheater,TV&Video|SatelliteEquipment|SatelliteReceivers",
         "4.266667"
        ],
        [
         "Electronics|Mobiles&Accessories|MobileAccessories|Cases&Covers|BasicCases",
         "4.200000"
        ],
        [
         "Electronics|HomeAudio|Accessories|SpeakerAccessories|Mounts",
         "4.000000"
        ],
        [
         "Electronics|Cameras&Photography|Accessories|Film",
         "4.500000"
        ],
        [
         "OfficeProducts|OfficeElectronics|Calculators|Scientific",
         "4.450000"
        ],
        [
         "Electronics|Mobiles&Accessories|Smartphones&BasicMobiles|Smartphones",
         "4.100000"
        ],
        [
         "Electronics|HomeTheater,TV&Video|Televisions|StandardTelevisions",
         "4.066667"
        ],
        [
         "Electronics|Mobiles&Accessories|MobileAccessories|AutomobileAccessories|Cradles",
         "3.966667"
        ],
        [
         "Electronics|HomeTheater,TV&Video|Accessories|Cables|SpeakerCables",
         "4.400000"
        ],
        [
         "Electronics|HomeTheater,TV&Video|Accessories|3DGlasses",
         "3.500000"
        ],
        [
         "Electronics|Mobiles&Accessories|MobileAccessories|Décor|PhoneCharms",
         "4.400000"
        ],
        [
         "Electronics|HomeTheater,TV&Video|Accessories|RemoteControls",
         "3.800000"
        ],
        [
         "Electronics|Mobiles&Accessories|MobileAccessories|Photo&VideoAccessories|Tripods",
         "3.800000"
        ],
        [
         "Electronics|Cameras&Photography|Accessories|Tripods&Monopods|CompleteTripodUnits",
         "4.400000"
        ],
        [
         "Electronics|Cameras&Photography|VideoCameras",
         "3.700000"
        ],
        [
         "Electronics|HomeTheater,TV&Video|Accessories|Cables|RCACables",
         "4.300000"
        ],
        [
         "Electronics|Mobiles&Accessories|MobileAccessories|Mounts|Shower&WallMounts",
         "4.100000"
        ],
        [
         "Electronics|Cameras&Photography|Accessories|Cleaners|CleaningKits",
         "4.200000"
        ],
        [
         "Computers&Accessories|NetworkingDevices|NetworkAdapters|BluetoothAdapters",
         "4.300000"
        ],
        [
         "Electronics|Mobiles&Accessories|MobileAccessories|Chargers|AutomobileChargers",
         "4.128571"
        ],
        [
         "Computers&Accessories|Accessories&Peripherals|Cables&Accessories|Cables|DVICables",
         "4.400000"
        ],
        [
         "Home&Kitchen|CraftMaterials|Scrapbooking|Tape",
         "3.900000"
        ],
        [
         "Electronics|HomeAudio|MediaStreamingDevices|StreamingClients",
         "4.500000"
        ],
        [
         "Electronics|HomeTheater,TV&Video|Accessories|Cables|HDMICables",
         "4.223333"
        ],
        [
         "Electronics|HomeTheater,TV&Video|Projectors",
         "4.133333"
        ],
        [
         "Electronics|Mobiles&Accessories|MobileAccessories|Mounts|Bedstand&DeskMounts",
         "3.900000"
        ],
        [
         "Electronics|HomeAudio|Speakers|TowerSpeakers",
         "3.800000"
        ]
       ],
       "datasetInfos": [],
       "dbfsResultPath": null,
       "isJsonSchema": true,
       "metadata": {},
       "overflow": false,
       "plotOptions": {
        "customPlotOptions": {},
        "displayType": "table",
        "pivotAggregation": null,
        "pivotColumns": null,
        "xColumns": null,
        "yColumns": null
       },
       "removedWidgets": [],
       "schema": [
        {
         "metadata": "{\"__CHAR_VARCHAR_TYPE_STRING\":\"varchar(255)\"}",
         "name": "category",
         "type": "\"string\""
        },
        {
         "metadata": "{}",
         "name": "media_avaliacao",
         "type": "\"decimal(7,6)\""
        }
       ],
       "type": "table"
      }
     },
     "output_type": "display_data"
    }
   ],
   "source": [
    "%sql\n",
    "SELECT dp.category, AVG(fpr.rating) AS media_avaliacao\n",
    "FROM dim_product dp\n",
    "JOIN fact_product_reviews fpr ON dp.product_id = fpr.product_id\n",
    "GROUP BY dp.category;"
   ]
  },
  {
   "cell_type": "markdown",
   "metadata": {
    "application/vnd.databricks.v1+cell": {
     "cellMetadata": {
      "byteLimit": 2048000,
      "rowLimit": 10000
     },
     "inputWidgets": {},
     "nuid": "7724ecac-a3d8-4f2a-89b4-cb4932b2b012",
     "showTitle": false,
     "tableResultSettingsMap": {},
     "title": ""
    }
   },
   "source": [
    "As médias de avaliação variam de 3.30 a 4.60, indicando que a satisfação dos clientes varia significativamente entre as categorias de produtos.Categorias de acessórios de computador, como tablets, tendem a ter avaliações muito boas.\n",
    "Produtos relacionados a materiais de pintura e organização elétrica também apresentam altas avaliações.\n",
    "Acessórios de memoria e produtos relacionados a rede, tambem tendem a ter uma boa avaliação.Produtos de áudio, como headsets e torres de som, tendem a ter avaliações mais baixas. Produtos de cozinha específicos, como moedores de café elétricos, também apresentam avaliações mais baixas. Acessórios 3d para televisões, tambem tendem a ter uma baixa avaliação."
   ]
  },
  {
   "cell_type": "markdown",
   "metadata": {
    "application/vnd.databricks.v1+cell": {
     "cellMetadata": {
      "byteLimit": 2048000,
      "rowLimit": 10000
     },
     "inputWidgets": {},
     "nuid": "09544a9c-b5a5-43e8-9c38-9f8f5e86aea5",
     "showTitle": false,
     "tableResultSettingsMap": {},
     "title": ""
    }
   },
   "source": [
    "##Como o desconto impacta a avaliação do produto? Produtos com maiores descontos têm avaliações mais altas?"
   ]
  },
  {
   "cell_type": "code",
   "execution_count": 0,
   "metadata": {
    "application/vnd.databricks.v1+cell": {
     "cellMetadata": {
      "byteLimit": 2048000,
      "implicitDf": true,
      "rowLimit": 10000
     },
     "inputWidgets": {},
     "nuid": "8205cf8c-210f-4d8e-8966-c3c483739123",
     "showTitle": false,
     "tableResultSettingsMap": {},
     "title": ""
    }
   },
   "outputs": [
    {
     "output_type": "display_data",
     "data": {
      "text/html": [
       "<style scoped>\n",
       "  .table-result-container {\n",
       "    max-height: 300px;\n",
       "    overflow: auto;\n",
       "  }\n",
       "  table, th, td {\n",
       "    border: 1px solid black;\n",
       "    border-collapse: collapse;\n",
       "  }\n",
       "  th, td {\n",
       "    padding: 5px;\n",
       "  }\n",
       "  th {\n",
       "    text-align: left;\n",
       "  }\n",
       "</style><div class='table-result-container'><table class='table-result'><thead style='background-color: white'><tr><th>discount_percentage</th><th>media_avaliacao</th></tr></thead><tbody><tr><td>0.00</td><td>4.240816</td></tr><tr><td>2.00</td><td>4.500000</td></tr><tr><td>3.00</td><td>4.200000</td></tr><tr><td>4.00</td><td>4.200000</td></tr><tr><td>5.00</td><td>4.300000</td></tr><tr><td>6.00</td><td>3.950000</td></tr><tr><td>7.00</td><td>4.200000</td></tr><tr><td>8.00</td><td>4.000000</td></tr><tr><td>9.00</td><td>4.200000</td></tr><tr><td>10.00</td><td>4.160000</td></tr><tr><td>11.00</td><td>4.037500</td></tr><tr><td>12.00</td><td>4.260000</td></tr><tr><td>13.00</td><td>4.122222</td></tr><tr><td>14.00</td><td>4.136364</td></tr><tr><td>15.00</td><td>4.222222</td></tr><tr><td>16.00</td><td>4.062500</td></tr><tr><td>17.00</td><td>4.118182</td></tr><tr><td>18.00</td><td>4.108333</td></tr><tr><td>19.00</td><td>4.133333</td></tr><tr><td>20.00</td><td>4.221429</td></tr><tr><td>21.00</td><td>4.157143</td></tr><tr><td>22.00</td><td>4.126667</td></tr><tr><td>23.00</td><td>4.154545</td></tr><tr><td>24.00</td><td>4.307143</td></tr><tr><td>25.00</td><td>4.147826</td></tr><tr><td>26.00</td><td>4.114286</td></tr><tr><td>27.00</td><td>4.213333</td></tr><tr><td>28.00</td><td>4.136667</td></tr><tr><td>29.00</td><td>4.075000</td></tr><tr><td>30.00</td><td>4.133333</td></tr><tr><td>31.00</td><td>4.228571</td></tr><tr><td>32.00</td><td>4.125000</td></tr><tr><td>33.00</td><td>4.136364</td></tr><tr><td>34.00</td><td>4.077778</td></tr><tr><td>35.00</td><td>4.016667</td></tr><tr><td>36.00</td><td>4.070000</td></tr><tr><td>37.00</td><td>4.121429</td></tr><tr><td>38.00</td><td>4.067647</td></tr><tr><td>39.00</td><td>4.146154</td></tr><tr><td>40.00</td><td>4.078571</td></tr><tr><td>41.00</td><td>4.152381</td></tr><tr><td>42.00</td><td>4.210000</td></tr><tr><td>43.00</td><td>4.087500</td></tr><tr><td>44.00</td><td>4.113043</td></tr><tr><td>45.00</td><td>3.988889</td></tr><tr><td>46.00</td><td>4.138095</td></tr><tr><td>47.00</td><td>4.166667</td></tr><tr><td>48.00</td><td>3.968000</td></tr><tr><td>49.00</td><td>4.040000</td></tr><tr><td>50.00</td><td>4.094643</td></tr><tr><td>51.00</td><td>4.082353</td></tr><tr><td>52.00</td><td>4.076923</td></tr><tr><td>53.00</td><td>4.110714</td></tr><tr><td>54.00</td><td>3.990909</td></tr><tr><td>55.00</td><td>4.125000</td></tr><tr><td>56.00</td><td>4.188235</td></tr><tr><td>57.00</td><td>4.036364</td></tr><tr><td>58.00</td><td>4.047826</td></tr><tr><td>59.00</td><td>4.081818</td></tr><tr><td>60.00</td><td>3.991071</td></tr><tr><td>61.00</td><td>4.125000</td></tr><tr><td>62.00</td><td>4.087500</td></tr><tr><td>63.00</td><td>4.125926</td></tr><tr><td>64.00</td><td>4.057143</td></tr><tr><td>65.00</td><td>4.074194</td></tr><tr><td>66.00</td><td>4.195455</td></tr><tr><td>67.00</td><td>3.908333</td></tr><tr><td>68.00</td><td>4.110000</td></tr><tr><td>69.00</td><td>4.182353</td></tr><tr><td>70.00</td><td>4.164286</td></tr><tr><td>71.00</td><td>4.010000</td></tr><tr><td>72.00</td><td>3.960000</td></tr><tr><td>73.00</td><td>4.156250</td></tr><tr><td>74.00</td><td>3.966667</td></tr><tr><td>75.00</td><td>4.068966</td></tr><tr><td>76.00</td><td>4.007143</td></tr><tr><td>77.00</td><td>3.888235</td></tr><tr><td>78.00</td><td>3.926667</td></tr><tr><td>79.00</td><td>4.025000</td></tr><tr><td>80.00</td><td>4.089189</td></tr><tr><td>81.00</td><td>4.185714</td></tr><tr><td>82.00</td><td>4.080000</td></tr><tr><td>83.00</td><td>3.960000</td></tr><tr><td>84.00</td><td>3.900000</td></tr><tr><td>85.00</td><td>3.900000</td></tr><tr><td>86.00</td><td>3.675000</td></tr><tr><td>87.00</td><td>3.866667</td></tr><tr><td>88.00</td><td>3.850000</td></tr><tr><td>89.00</td><td>3.900000</td></tr><tr><td>90.00</td><td>3.987500</td></tr><tr><td>91.00</td><td>4.200000</td></tr><tr><td>94.00</td><td>4.300000</td></tr></tbody></table></div>"
      ]
     },
     "metadata": {
      "application/vnd.databricks.v1+output": {
       "addedWidgets": {},
       "aggData": [],
       "aggError": "",
       "aggOverflow": false,
       "aggSchema": [],
       "aggSeriesLimitReached": false,
       "aggType": "",
       "arguments": {},
       "columnCustomDisplayInfos": {},
       "data": [
        [
         "0.00",
         "4.240816"
        ],
        [
         "2.00",
         "4.500000"
        ],
        [
         "3.00",
         "4.200000"
        ],
        [
         "4.00",
         "4.200000"
        ],
        [
         "5.00",
         "4.300000"
        ],
        [
         "6.00",
         "3.950000"
        ],
        [
         "7.00",
         "4.200000"
        ],
        [
         "8.00",
         "4.000000"
        ],
        [
         "9.00",
         "4.200000"
        ],
        [
         "10.00",
         "4.160000"
        ],
        [
         "11.00",
         "4.037500"
        ],
        [
         "12.00",
         "4.260000"
        ],
        [
         "13.00",
         "4.122222"
        ],
        [
         "14.00",
         "4.136364"
        ],
        [
         "15.00",
         "4.222222"
        ],
        [
         "16.00",
         "4.062500"
        ],
        [
         "17.00",
         "4.118182"
        ],
        [
         "18.00",
         "4.108333"
        ],
        [
         "19.00",
         "4.133333"
        ],
        [
         "20.00",
         "4.221429"
        ],
        [
         "21.00",
         "4.157143"
        ],
        [
         "22.00",
         "4.126667"
        ],
        [
         "23.00",
         "4.154545"
        ],
        [
         "24.00",
         "4.307143"
        ],
        [
         "25.00",
         "4.147826"
        ],
        [
         "26.00",
         "4.114286"
        ],
        [
         "27.00",
         "4.213333"
        ],
        [
         "28.00",
         "4.136667"
        ],
        [
         "29.00",
         "4.075000"
        ],
        [
         "30.00",
         "4.133333"
        ],
        [
         "31.00",
         "4.228571"
        ],
        [
         "32.00",
         "4.125000"
        ],
        [
         "33.00",
         "4.136364"
        ],
        [
         "34.00",
         "4.077778"
        ],
        [
         "35.00",
         "4.016667"
        ],
        [
         "36.00",
         "4.070000"
        ],
        [
         "37.00",
         "4.121429"
        ],
        [
         "38.00",
         "4.067647"
        ],
        [
         "39.00",
         "4.146154"
        ],
        [
         "40.00",
         "4.078571"
        ],
        [
         "41.00",
         "4.152381"
        ],
        [
         "42.00",
         "4.210000"
        ],
        [
         "43.00",
         "4.087500"
        ],
        [
         "44.00",
         "4.113043"
        ],
        [
         "45.00",
         "3.988889"
        ],
        [
         "46.00",
         "4.138095"
        ],
        [
         "47.00",
         "4.166667"
        ],
        [
         "48.00",
         "3.968000"
        ],
        [
         "49.00",
         "4.040000"
        ],
        [
         "50.00",
         "4.094643"
        ],
        [
         "51.00",
         "4.082353"
        ],
        [
         "52.00",
         "4.076923"
        ],
        [
         "53.00",
         "4.110714"
        ],
        [
         "54.00",
         "3.990909"
        ],
        [
         "55.00",
         "4.125000"
        ],
        [
         "56.00",
         "4.188235"
        ],
        [
         "57.00",
         "4.036364"
        ],
        [
         "58.00",
         "4.047826"
        ],
        [
         "59.00",
         "4.081818"
        ],
        [
         "60.00",
         "3.991071"
        ],
        [
         "61.00",
         "4.125000"
        ],
        [
         "62.00",
         "4.087500"
        ],
        [
         "63.00",
         "4.125926"
        ],
        [
         "64.00",
         "4.057143"
        ],
        [
         "65.00",
         "4.074194"
        ],
        [
         "66.00",
         "4.195455"
        ],
        [
         "67.00",
         "3.908333"
        ],
        [
         "68.00",
         "4.110000"
        ],
        [
         "69.00",
         "4.182353"
        ],
        [
         "70.00",
         "4.164286"
        ],
        [
         "71.00",
         "4.010000"
        ],
        [
         "72.00",
         "3.960000"
        ],
        [
         "73.00",
         "4.156250"
        ],
        [
         "74.00",
         "3.966667"
        ],
        [
         "75.00",
         "4.068966"
        ],
        [
         "76.00",
         "4.007143"
        ],
        [
         "77.00",
         "3.888235"
        ],
        [
         "78.00",
         "3.926667"
        ],
        [
         "79.00",
         "4.025000"
        ],
        [
         "80.00",
         "4.089189"
        ],
        [
         "81.00",
         "4.185714"
        ],
        [
         "82.00",
         "4.080000"
        ],
        [
         "83.00",
         "3.960000"
        ],
        [
         "84.00",
         "3.900000"
        ],
        [
         "85.00",
         "3.900000"
        ],
        [
         "86.00",
         "3.675000"
        ],
        [
         "87.00",
         "3.866667"
        ],
        [
         "88.00",
         "3.850000"
        ],
        [
         "89.00",
         "3.900000"
        ],
        [
         "90.00",
         "3.987500"
        ],
        [
         "91.00",
         "4.200000"
        ],
        [
         "94.00",
         "4.300000"
        ]
       ],
       "datasetInfos": [],
       "dbfsResultPath": null,
       "isJsonSchema": true,
       "metadata": {},
       "overflow": false,
       "plotOptions": {
        "customPlotOptions": {},
        "displayType": "table",
        "pivotAggregation": null,
        "pivotColumns": null,
        "xColumns": null,
        "yColumns": null
       },
       "removedWidgets": [],
       "schema": [
        {
         "metadata": "{}",
         "name": "discount_percentage",
         "type": "\"decimal(5,2)\""
        },
        {
         "metadata": "{}",
         "name": "media_avaliacao",
         "type": "\"decimal(7,6)\""
        }
       ],
       "type": "table"
      }
     },
     "output_type": "display_data"
    }
   ],
   "source": [
    "%sql\n",
    "SELECT fpr.discount_percentage, AVG(fpr.rating) AS media_avaliacao\n",
    "FROM fact_product_reviews fpr\n",
    "GROUP BY fpr.discount_percentage\n",
    "ORDER BY fpr.discount_percentage;"
   ]
  },
  {
   "cell_type": "markdown",
   "metadata": {
    "application/vnd.databricks.v1+cell": {
     "cellMetadata": {
      "byteLimit": 2048000,
      "rowLimit": 10000
     },
     "inputWidgets": {},
     "nuid": "030e8acf-30ef-40b0-adb7-7773293879e4",
     "showTitle": false,
     "tableResultSettingsMap": {},
     "title": ""
    }
   },
   "source": [
    "Conclusão:\n",
    "\n",
    "Os resultados sugerem que o percentual de desconto tem um impacto limitado na média de avaliação dos produtos. Mesmo com produtos sem descontos, a média de avaliação é de 4.24, o que é relativamente alto. Com descontos muito altos, como 90%, a média de avaliação é de 3.98, que ainda é uma avaliação razoável, mas chega a ter uma menor avaliação que os produtos sem desconto. Isso indica que o desconto não é o principal fator que influencia a avaliação.Outros fatores, como a qualidade do produto e a marca, provavelmente têm um impacto maior.\n",
    "É importante considerar outros fatores e realizar análises adicionais para obter uma compreensão mais completa da relação entre desconto e avaliação."
   ]
  },
  {
   "cell_type": "markdown",
   "metadata": {
    "application/vnd.databricks.v1+cell": {
     "cellMetadata": {
      "byteLimit": 2048000,
      "rowLimit": 10000
     },
     "inputWidgets": {},
     "nuid": "2c485e1a-38be-440b-a290-c42e7eba751c",
     "showTitle": false,
     "tableResultSettingsMap": {},
     "title": ""
    }
   },
   "source": [
    "##Quais são os produtos mais populares, baseados no número de avaliações e no rating?"
   ]
  },
  {
   "cell_type": "code",
   "execution_count": 0,
   "metadata": {
    "application/vnd.databricks.v1+cell": {
     "cellMetadata": {
      "byteLimit": 2048000,
      "implicitDf": true,
      "rowLimit": 10000
     },
     "inputWidgets": {},
     "nuid": "7de69a15-846a-482f-a8d0-2624b2f42d9d",
     "showTitle": false,
     "tableResultSettingsMap": {},
     "title": ""
    }
   },
   "outputs": [
    {
     "output_type": "display_data",
     "data": {
      "text/html": [
       "<style scoped>\n",
       "  .table-result-container {\n",
       "    max-height: 300px;\n",
       "    overflow: auto;\n",
       "  }\n",
       "  table, th, td {\n",
       "    border: 1px solid black;\n",
       "    border-collapse: collapse;\n",
       "  }\n",
       "  th, td {\n",
       "    padding: 5px;\n",
       "  }\n",
       "  th {\n",
       "    text-align: left;\n",
       "  }\n",
       "</style><div class='table-result-container'><table class='table-result'><thead style='background-color: white'><tr><th>product_name</th><th>rating</th><th>rating_count</th></tr></thead><tbody><tr><td>Eureka Forbes car Vac 100 Watts Powerful Suction Vacuum Cleaner with Washable HEPA Filter, 3 Accessories,Compact,Light Weight & Easy to use (Black and Red)</td><td>4.10</td><td>992</td></tr><tr><td>Eveready Red 1012 AAA Batteries - Pack of 10</td><td>4.30</td><td>989</td></tr><tr><td>Pigeon 1.5 litre Hot Kettle and Stainless Steel Water Bottle Combo used for boiling Water, Making Tea and Coffee, Instant Noodles, Soup, 1500 Watt with Auto Shut- off Feature - (Silver)</td><td>3.70</td><td>976</td></tr><tr><td>Zoul USB C 60W Fast Charging 3A 6ft/2M Long Type C Nylon Braided Data Cable Quick Charger Cable QC 3.0 for Samsung Galaxy M31S M30 S10 S9 S20 Plus, Note 10 9 8, A20e A40 A50 A70 (2M, Grey)</td><td>4.30</td><td>974</td></tr><tr><td>Zoul USB Type C Fast Charging 3A Nylon Braided Data Cable Quick Charger Cable QC 3.0 for Samsung Galaxy M31s M30 S10 S9 S20 Plus, Note 10 9 8, A20e A40 A50 A70 (1M, Grey)</td><td>4.30</td><td>974</td></tr><tr><td>Bajaj New Shakti Neo Plus 15 Litre 4 Star Rated Storage Water Heater (Geyser) with Multiple Safety System, White</td><td>3.90</td><td>959</td></tr><tr><td>Hindware Atlantic Xceed 5L 3kW Instant Water Heater with Copper Heating Element and High Grade Stainless Steel Tank</td><td>3.90</td><td>942</td></tr><tr><td>Crypo™ Universal Remote Compatible with Tata Sky Universal HD & SD Set top Box (Also Works with All TV)</td><td>3.80</td><td>928</td></tr><tr><td>iBELL Castor CTEK15L Premium 1.5 Litre Stainless Steel Electric Kettle,1500W Auto Cut-Off Feature,Silver</td><td>4.10</td><td>925</td></tr><tr><td>Ambrane Fast 100W Output Cable with Type-C to Type-C for Mobile, Laptop, Macbook & Table Charging, 480mbps Data Sync Speed, Braided Cable, 1.5m Length (ABCC-100, Black-Grey)</td><td>4.20</td><td>919</td></tr></tbody></table></div>"
      ]
     },
     "metadata": {
      "application/vnd.databricks.v1+output": {
       "addedWidgets": {},
       "aggData": [],
       "aggError": "",
       "aggOverflow": false,
       "aggSchema": [],
       "aggSeriesLimitReached": false,
       "aggType": "",
       "arguments": {},
       "columnCustomDisplayInfos": {},
       "data": [
        [
         "Eureka Forbes car Vac 100 Watts Powerful Suction Vacuum Cleaner with Washable HEPA Filter, 3 Accessories,Compact,Light Weight & Easy to use (Black and Red)",
         "4.10",
         992
        ],
        [
         "Eveready Red 1012 AAA Batteries - Pack of 10",
         "4.30",
         989
        ],
        [
         "Pigeon 1.5 litre Hot Kettle and Stainless Steel Water Bottle Combo used for boiling Water, Making Tea and Coffee, Instant Noodles, Soup, 1500 Watt with Auto Shut- off Feature - (Silver)",
         "3.70",
         976
        ],
        [
         "Zoul USB C 60W Fast Charging 3A 6ft/2M Long Type C Nylon Braided Data Cable Quick Charger Cable QC 3.0 for Samsung Galaxy M31S M30 S10 S9 S20 Plus, Note 10 9 8, A20e A40 A50 A70 (2M, Grey)",
         "4.30",
         974
        ],
        [
         "Zoul USB Type C Fast Charging 3A Nylon Braided Data Cable Quick Charger Cable QC 3.0 for Samsung Galaxy M31s M30 S10 S9 S20 Plus, Note 10 9 8, A20e A40 A50 A70 (1M, Grey)",
         "4.30",
         974
        ],
        [
         "Bajaj New Shakti Neo Plus 15 Litre 4 Star Rated Storage Water Heater (Geyser) with Multiple Safety System, White",
         "3.90",
         959
        ],
        [
         "Hindware Atlantic Xceed 5L 3kW Instant Water Heater with Copper Heating Element and High Grade Stainless Steel Tank",
         "3.90",
         942
        ],
        [
         "Crypo™ Universal Remote Compatible with Tata Sky Universal HD & SD Set top Box (Also Works with All TV)",
         "3.80",
         928
        ],
        [
         "iBELL Castor CTEK15L Premium 1.5 Litre Stainless Steel Electric Kettle,1500W Auto Cut-Off Feature,Silver",
         "4.10",
         925
        ],
        [
         "Ambrane Fast 100W Output Cable with Type-C to Type-C for Mobile, Laptop, Macbook & Table Charging, 480mbps Data Sync Speed, Braided Cable, 1.5m Length (ABCC-100, Black-Grey)",
         "4.20",
         919
        ]
       ],
       "datasetInfos": [],
       "dbfsResultPath": null,
       "isJsonSchema": true,
       "metadata": {},
       "overflow": false,
       "plotOptions": {
        "customPlotOptions": {},
        "displayType": "table",
        "pivotAggregation": null,
        "pivotColumns": null,
        "xColumns": null,
        "yColumns": null
       },
       "removedWidgets": [],
       "schema": [
        {
         "metadata": "{\"__CHAR_VARCHAR_TYPE_STRING\":\"varchar(1000)\"}",
         "name": "product_name",
         "type": "\"string\""
        },
        {
         "metadata": "{}",
         "name": "rating",
         "type": "\"decimal(3,2)\""
        },
        {
         "metadata": "{}",
         "name": "rating_count",
         "type": "\"integer\""
        }
       ],
       "type": "table"
      }
     },
     "output_type": "display_data"
    }
   ],
   "source": [
    "%sql\n",
    "SELECT DISTINCT dp.product_name, fpr.rating, fpr.rating_count\n",
    "FROM dim_product dp\n",
    "JOIN fact_product_reviews fpr ON dp.product_id = fpr.product_id\n",
    "ORDER BY fpr.rating_count DESC, fpr.rating DESC\n",
    "LIMIT 10;"
   ]
  },
  {
   "cell_type": "markdown",
   "metadata": {
    "application/vnd.databricks.v1+cell": {
     "cellMetadata": {
      "byteLimit": 2048000,
      "rowLimit": 10000
     },
     "inputWidgets": {},
     "nuid": "350c5f81-d81e-4efb-b256-7350f3037a62",
     "showTitle": false,
     "tableResultSettingsMap": {},
     "title": ""
    }
   },
   "source": [
    "\n",
    "\n",
    "A lista apresenta uma variedade de produtos, incluindo aspirador de carro, baterias, chaleira elétrica, cabos de carregamento, aquecedores de água, controle remoto e um cabo de carregamento para dispositivos de alta potência. Isso indica uma ampla gama de interesses e necessidades dos consumidores. Todos os produtos têm um número significativo de avaliações, variando de 919 a 992. Isso demonstra que esses produtos são populares e amplamente utilizados. A maioria dos produtos tem avaliações acima de 4.0, indicando um alto nível de satisfação dos clientes. Apenas dois produtos estão com avaliação abaixo de 4.0, o aquecedor de agua da bajaj, e o controle remoto. As descrições dos produtos fornecem informações detalhadas sobre suas características e funcionalidades, o que é útil para os consumidores tomarem decisões de compra informadas."
   ]
  },
  {
   "cell_type": "markdown",
   "metadata": {
    "application/vnd.databricks.v1+cell": {
     "cellMetadata": {
      "byteLimit": 2048000,
      "rowLimit": 10000
     },
     "inputWidgets": {},
     "nuid": "ce59f31e-dc85-41b7-a909-caf5ce91c573",
     "showTitle": false,
     "tableResultSettingsMap": {},
     "title": ""
    }
   },
   "source": [
    "##Autoavaliação:\n",
    "\n",
    "Ao concluir o trabalho, acredito que consegui atingir os objetivos principais que defini no início do projeto. O foco estava em entender a relação entre preço, desconto e avaliação dos produtos na plataforma de e-commerce Amazon, e, ao longo da análise, obtive insights valiosos sobre essas variáveis. Consegui calcular a média dos preços originais e com desconto, o que permitiu observar que, em média, os produtos têm descontos significativos. Esse foi um ponto importante para entender a estratégia de precificação da Amazon. Realizamos uma análise dos descontos por categoria, destacando que produtos de diferentes categorias possuem políticas de descontos bastante variadas. Isso abriu caminho para um entendimento das estratégias de preços da plataforma, dependendo do tipo de produto. Também analisei as médias de avaliação por categoria de produto, identificando que a satisfação dos consumidores varia significativamente. Categorias como acessórios de computador e eletrônicos tiveram as melhores avaliações, enquanto produtos de áudio e cozinha receberam avaliações mais baixas.\n",
    "\n",
    "Durante a análise dos dados, percebi que, apesar dos descontos serem relevantes, eles não são os únicos fatores que afetam as avaliações. Em alguns casos, como os produtos com descontos muito altos, a média de avaliação foi ligeiramente inferior à de produtos sem desconto, o que indica que outras variáveis poderiam estar influenciando essas avaliações.\n",
    "Outro desafio foi a diferenciação das categorias de produtos, especialmente em categorias amplas como \"acessórios\", onde as subcategorias podem ter características muito distintas. Isso fez com que algumas análises se tornassem mais complexas do que o esperado.\n",
    "\n",
    "Para enriquecer a análise, seria interessante aprofundar a investigação sobre as relações entre outros fatores e as avaliações, como a marca, a qualidade do produto e a frequência de compra. Isso ajudaria a entender melhor como esses aspectos influenciam a percepção do consumidor.Outra análise relevante seria a segmentação dos dados por tipo de consumidor, por exemplo, consumidores que compram frequentemente e consumidores ocasionais, para ver como a lealdade à marca ou a experiência do usuário impacta as avaliações.\n",
    "\n",
    "O trabalho ajudou a entender as relações entre preço, desconto e avaliação, embora haja espaço para expandir a análise com mais variáveis. A descoberta de que o desconto não é o fator determinante para as avaliações reforça a importância de considerar uma gama mais ampla de fatores ao analisar o comportamento do consumidor em plataformas de e-commerce. Esse projeto contribuiu para o meu entendimento de estratégias de preços e mostrou como é possível usar dados para entender melhor o comportamento do consumidor.\n",
    "\n",
    "\n",
    "\n"
   ]
  }
 ],
 "metadata": {
  "application/vnd.databricks.v1+notebook": {
   "computePreferences": {
    "hardware": {
     "accelerator": null,
     "gpuPoolId": null,
     "memory": null
    }
   },
   "dashboards": [],
   "environmentMetadata": {
    "base_environment": "",
    "environment_version": "2"
   },
   "inputWidgetPreferences": null,
   "language": "python",
   "notebookMetadata": {
    "mostRecentlyExecutedCommandWithImplicitDF": {
     "commandId": 1794086344384310,
     "dataframes": [
      "_sqldf"
     ]
    },
    "pythonIndentUnit": 4
   },
   "notebookName": "amazon1",
   "widgets": {}
  },
  "language_info": {
   "name": "python"
  }
 },
 "nbformat": 4,
 "nbformat_minor": 0
}