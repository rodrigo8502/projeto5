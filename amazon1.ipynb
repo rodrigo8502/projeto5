{
 "cells": [
  {
   "cell_type": "markdown",
   "metadata": {
    "application/vnd.databricks.v1+cell": {
     "cellMetadata": {
      "byteLimit": 2048000,
      "rowLimit": 10000
     },
     "inputWidgets": {},
     "nuid": "82434286-debf-48c9-80b7-a3988a050fe1",
     "showTitle": false,
     "tableResultSettingsMap": {},
     "title": ""
    }
   },
   "source": [
    "## 1. Objetivo\n",
    "\n",
    "\n",
    "\n",
    "Objetivo do MVP: Analisar os produtos da plataforma de e-commerce Amazon, com foco na relação entre preço, desconto e avaliação dos usuários, para identificar os produtos mais vantajosos para os consumidores.\n",
    "\n",
    "Perguntas de Negócio:\n",
    "Qual é a relação entre o preço atual e o preço com desconto? Produtos com grandes descontos têm melhor avaliação?\n",
    "Quais categorias de produtos possuem os maiores descontos e as melhores avaliações?\n",
    "Qual é a média de avaliações por categoria?\n",
    "Como o desconto impacta a avaliação do produto? \n",
    "Quais são os produtos mais populares, baseados no número de avaliações e no rating?\n"
   ]
  },
  {
   "cell_type": "code",
   "execution_count": 0,
   "metadata": {
    "application/vnd.databricks.v1+cell": {
     "cellMetadata": {
      "byteLimit": 2048000,
      "rowLimit": 10000
     },
     "inputWidgets": {},
     "nuid": "abf5a1af-d1ed-480a-b33c-759738cb42a6",
     "showTitle": false,
     "tableResultSettingsMap": {},
     "title": ""
    }
   },
   "outputs": [
    {
     "output_type": "stream",
     "name": "stdout",
     "output_type": "stream",
     "text": [
      "Requirement already satisfied: pandas in /databricks/python3/lib/python3.9/site-packages (1.4.2)\r\nRequirement already satisfied: python-dateutil>=2.8.1 in /databricks/python3/lib/python3.9/site-packages (from pandas) (2.8.2)\r\nRequirement already satisfied: numpy>=1.18.5 in /databricks/python3/lib/python3.9/site-packages (from pandas) (1.21.5)\r\nRequirement already satisfied: pytz>=2020.1 in /databricks/python3/lib/python3.9/site-packages (from pandas) (2021.3)\r\nRequirement already satisfied: six>=1.5 in /databricks/python3/lib/python3.9/site-packages (from python-dateutil>=2.8.1->pandas) (1.16.0)\r\n\u001B[33mWARNING: You are using pip version 21.2.4; however, version 25.0.1 is available.\r\nYou should consider upgrading via the '/local_disk0/.ephemeral_nfs/envs/pythonEnv-b04290bf-b041-4f96-ae0a-042dff35f075/bin/python -m pip install --upgrade pip' command.\u001B[0m\r\n"
     ]
    },
    {
     "output_type": "display_data",
     "data": {
      "application/vnd.databricks.v1+bamboolib_hint": "{\"pd.DataFrames\": [], \"version\": \"0.0.1\"}",
      "text/plain": []
     },
     "metadata": {},
     "output_type": "display_data"
    }
   ],
   "source": [
    "# configuração para não exibir os warnings\n",
    "import warnings\n",
    "warnings.filterwarnings(\"ignore\")\n",
    "\n",
    "!pip install pandas\n",
    "\n",
    "\n",
    "\n",
    "# Imports necessários\n",
    "import pandas as pd\n",
    "import numpy as np\n",
    "import matplotlib.pyplot as plt\n",
    "from pyspark.sql import SparkSession\n",
    "from pyspark.sql.functions import col"
   ]
  },
  {
   "cell_type": "markdown",
   "metadata": {
    "application/vnd.databricks.v1+cell": {
     "cellMetadata": {
      "byteLimit": 2048000,
      "rowLimit": 10000
     },
     "inputWidgets": {},
     "nuid": "b22f7f7d-13a2-424a-b556-0c1ffbaa7d57",
     "showTitle": false,
     "tableResultSettingsMap": {},
     "title": ""
    }
   },
   "source": [
    "## 2 - COLETA"
   ]
  },
  {
   "cell_type": "markdown",
   "metadata": {
    "application/vnd.databricks.v1+cell": {
     "cellMetadata": {
      "byteLimit": 2048000,
      "rowLimit": 10000
     },
     "inputWidgets": {},
     "nuid": "575827aa-b196-438b-bd88-0f5db5df063b",
     "showTitle": false,
     "tableResultSettingsMap": {},
     "title": ""
    }
   },
   "source": [
    "A coleta do conjunto de dados foi feita do site Kaggle e foi utilizado o Amazon Sales Dataset."
   ]
  },
  {
   "cell_type": "code",
   "execution_count": 0,
   "metadata": {
    "application/vnd.databricks.v1+cell": {
     "cellMetadata": {
      "byteLimit": 2048000,
      "rowLimit": 10000
     },
     "inputWidgets": {},
     "nuid": "810ebbe9-b7a2-4ea5-8262-4bd6d7df5c78",
     "showTitle": false,
     "tableResultSettingsMap": {},
     "title": ""
    }
   },
   "outputs": [],
   "source": [
    "# Informa a URL de importação do dataset\n",
    "url = \"https://raw.githubusercontent.com/rodrigo8502/projeto5/refs/heads/main/amazon.csv\"\n",
    "\n",
    "# Lê o arquivo\n",
    "dataset = pd.read_csv(url, delimiter=',')"
   ]
  },
  {
   "cell_type": "code",
   "execution_count": 0,
   "metadata": {
    "application/vnd.databricks.v1+cell": {
     "cellMetadata": {
      "byteLimit": 2048000,
      "rowLimit": 10000
     },
     "inputWidgets": {},
     "nuid": "f6ac470d-d687-4f95-b14d-0b94a0258fbc",
     "showTitle": false,
     "tableResultSettingsMap": {},
     "title": ""
    }
   },
   "outputs": [
    {
     "output_type": "display_data",
     "data": {
      "text/html": [
       "<div>\n",
       "<style scoped>\n",
       "    .dataframe tbody tr th:only-of-type {\n",
       "        vertical-align: middle;\n",
       "    }\n",
       "\n",
       "    .dataframe tbody tr th {\n",
       "        vertical-align: top;\n",
       "    }\n",
       "\n",
       "    .dataframe thead th {\n",
       "        text-align: right;\n",
       "    }\n",
       "</style>\n",
       "<table border=\"1\" class=\"dataframe\">\n",
       "  <thead>\n",
       "    <tr style=\"text-align: right;\">\n",
       "      <th></th>\n",
       "      <th>product_id</th>\n",
       "      <th>product_name</th>\n",
       "      <th>category</th>\n",
       "      <th>discounted_price</th>\n",
       "      <th>actual_price</th>\n",
       "      <th>discount_percentage</th>\n",
       "      <th>rating</th>\n",
       "      <th>rating_count</th>\n",
       "      <th>about_product</th>\n",
       "      <th>user_id</th>\n",
       "      <th>user_name</th>\n",
       "      <th>review_id</th>\n",
       "      <th>review_title</th>\n",
       "      <th>review_content</th>\n",
       "      <th>img_link</th>\n",
       "      <th>product_link</th>\n",
       "    </tr>\n",
       "  </thead>\n",
       "  <tbody>\n",
       "    <tr>\n",
       "      <th>0</th>\n",
       "      <td>B07JW9H4J1</td>\n",
       "      <td>Wayona Nylon Braided USB to Lightning Fast Cha...</td>\n",
       "      <td>Computers&amp;Accessories|Accessories&amp;Peripherals|...</td>\n",
       "      <td>₹399</td>\n",
       "      <td>₹1,099</td>\n",
       "      <td>64%</td>\n",
       "      <td>4.2</td>\n",
       "      <td>24,269</td>\n",
       "      <td>High Compatibility : Compatible With iPhone 12...</td>\n",
       "      <td>AG3D6O4STAQKAY2UVGEUV46KN35Q,AHMY5CWJMMK5BJRBB...</td>\n",
       "      <td>Manav,Adarsh gupta,Sundeep,S.Sayeed Ahmed,jasp...</td>\n",
       "      <td>R3HXWT0LRP0NMF,R2AJM3LFTLZHFO,R6AQJGUP6P86,R1K...</td>\n",
       "      <td>Satisfied,Charging is really fast,Value for mo...</td>\n",
       "      <td>Looks durable Charging is fine tooNo complains...</td>\n",
       "      <td>https://m.media-amazon.com/images/W/WEBP_40237...</td>\n",
       "      <td>https://www.amazon.in/Wayona-Braided-WN3LG1-Sy...</td>\n",
       "    </tr>\n",
       "    <tr>\n",
       "      <th>1</th>\n",
       "      <td>B098NS6PVG</td>\n",
       "      <td>Ambrane Unbreakable 60W / 3A Fast Charging 1.5...</td>\n",
       "      <td>Computers&amp;Accessories|Accessories&amp;Peripherals|...</td>\n",
       "      <td>₹199</td>\n",
       "      <td>₹349</td>\n",
       "      <td>43%</td>\n",
       "      <td>4.0</td>\n",
       "      <td>43,994</td>\n",
       "      <td>Compatible with all Type C enabled devices, be...</td>\n",
       "      <td>AECPFYFQVRUWC3KGNLJIOREFP5LQ,AGYYVPDD7YG7FYNBX...</td>\n",
       "      <td>ArdKn,Nirbhay kumar,Sagar Viswanathan,Asp,Plac...</td>\n",
       "      <td>RGIQEG07R9HS2,R1SMWZQ86XIN8U,R2J3Y1WL29GWDE,RY...</td>\n",
       "      <td>A Good Braided Cable for Your Type C Device,Go...</td>\n",
       "      <td>I ordered this cable to connect my phone to An...</td>\n",
       "      <td>https://m.media-amazon.com/images/W/WEBP_40237...</td>\n",
       "      <td>https://www.amazon.in/Ambrane-Unbreakable-Char...</td>\n",
       "    </tr>\n",
       "    <tr>\n",
       "      <th>2</th>\n",
       "      <td>B096MSW6CT</td>\n",
       "      <td>Sounce Fast Phone Charging Cable &amp; Data Sync U...</td>\n",
       "      <td>Computers&amp;Accessories|Accessories&amp;Peripherals|...</td>\n",
       "      <td>₹199</td>\n",
       "      <td>₹1,899</td>\n",
       "      <td>90%</td>\n",
       "      <td>3.9</td>\n",
       "      <td>7,928</td>\n",
       "      <td>【 Fast Charger&amp; Data Sync】-With built-in safet...</td>\n",
       "      <td>AGU3BBQ2V2DDAMOAKGFAWDDQ6QHA,AESFLDV2PT363T2AQ...</td>\n",
       "      <td>Kunal,Himanshu,viswanath,sai niharka,saqib mal...</td>\n",
       "      <td>R3J3EQQ9TZI5ZJ,R3E7WBGK7ID0KV,RWU79XKQ6I1QF,R2...</td>\n",
       "      <td>Good speed for earlier versions,Good Product,W...</td>\n",
       "      <td>Not quite durable and sturdy,https://m.media-a...</td>\n",
       "      <td>https://m.media-amazon.com/images/W/WEBP_40237...</td>\n",
       "      <td>https://www.amazon.in/Sounce-iPhone-Charging-C...</td>\n",
       "    </tr>\n",
       "    <tr>\n",
       "      <th>3</th>\n",
       "      <td>B08HDJ86NZ</td>\n",
       "      <td>boAt Deuce USB 300 2 in 1 Type-C &amp; Micro USB S...</td>\n",
       "      <td>Computers&amp;Accessories|Accessories&amp;Peripherals|...</td>\n",
       "      <td>₹329</td>\n",
       "      <td>₹699</td>\n",
       "      <td>53%</td>\n",
       "      <td>4.2</td>\n",
       "      <td>94,363</td>\n",
       "      <td>The boAt Deuce USB 300 2 in 1 cable is compati...</td>\n",
       "      <td>AEWAZDZZJLQUYVOVGBEUKSLXHQ5A,AG5HTSFRRE6NL3M5S...</td>\n",
       "      <td>Omkar dhale,JD,HEMALATHA,Ajwadh a.,amar singh ...</td>\n",
       "      <td>R3EEUZKKK9J36I,R3HJVYCLYOY554,REDECAZ7AMPQC,R1...</td>\n",
       "      <td>Good product,Good one,Nice,Really nice product...</td>\n",
       "      <td>Good product,long wire,Charges good,Nice,I bou...</td>\n",
       "      <td>https://m.media-amazon.com/images/I/41V5FtEWPk...</td>\n",
       "      <td>https://www.amazon.in/Deuce-300-Resistant-Tang...</td>\n",
       "    </tr>\n",
       "    <tr>\n",
       "      <th>4</th>\n",
       "      <td>B08CF3B7N1</td>\n",
       "      <td>Portronics Konnect L 1.2M Fast Charging 3A 8 P...</td>\n",
       "      <td>Computers&amp;Accessories|Accessories&amp;Peripherals|...</td>\n",
       "      <td>₹154</td>\n",
       "      <td>₹399</td>\n",
       "      <td>61%</td>\n",
       "      <td>4.2</td>\n",
       "      <td>16,905</td>\n",
       "      <td>[CHARGE &amp; SYNC FUNCTION]- This cable comes wit...</td>\n",
       "      <td>AE3Q6KSUK5P75D5HFYHCRAOLODSA,AFUGIFH5ZAFXRDSZH...</td>\n",
       "      <td>rahuls6099,Swasat Borah,Ajay Wadke,Pranali,RVK...</td>\n",
       "      <td>R1BP4L2HH9TFUP,R16PVJEXKV6QZS,R2UPDB81N66T4P,R...</td>\n",
       "      <td>As good as original,Decent,Good one for second...</td>\n",
       "      <td>Bought this instead of original apple, does th...</td>\n",
       "      <td>https://m.media-amazon.com/images/W/WEBP_40237...</td>\n",
       "      <td>https://www.amazon.in/Portronics-Konnect-POR-1...</td>\n",
       "    </tr>\n",
       "  </tbody>\n",
       "</table>\n",
       "</div>"
      ]
     },
     "metadata": {
      "application/vnd.databricks.v1+output": {
       "addedWidgets": {},
       "arguments": {},
       "data": "<div>\n<style scoped>\n    .dataframe tbody tr th:only-of-type {\n        vertical-align: middle;\n    }\n\n    .dataframe tbody tr th {\n        vertical-align: top;\n    }\n\n    .dataframe thead th {\n        text-align: right;\n    }\n</style>\n<table border=\"1\" class=\"dataframe\">\n  <thead>\n    <tr style=\"text-align: right;\">\n      <th></th>\n      <th>product_id</th>\n      <th>product_name</th>\n      <th>category</th>\n      <th>discounted_price</th>\n      <th>actual_price</th>\n      <th>discount_percentage</th>\n      <th>rating</th>\n      <th>rating_count</th>\n      <th>about_product</th>\n      <th>user_id</th>\n      <th>user_name</th>\n      <th>review_id</th>\n      <th>review_title</th>\n      <th>review_content</th>\n      <th>img_link</th>\n      <th>product_link</th>\n    </tr>\n  </thead>\n  <tbody>\n    <tr>\n      <th>0</th>\n      <td>B07JW9H4J1</td>\n      <td>Wayona Nylon Braided USB to Lightning Fast Cha...</td>\n      <td>Computers&amp;Accessories|Accessories&amp;Peripherals|...</td>\n      <td>₹399</td>\n      <td>₹1,099</td>\n      <td>64%</td>\n      <td>4.2</td>\n      <td>24,269</td>\n      <td>High Compatibility : Compatible With iPhone 12...</td>\n      <td>AG3D6O4STAQKAY2UVGEUV46KN35Q,AHMY5CWJMMK5BJRBB...</td>\n      <td>Manav,Adarsh gupta,Sundeep,S.Sayeed Ahmed,jasp...</td>\n      <td>R3HXWT0LRP0NMF,R2AJM3LFTLZHFO,R6AQJGUP6P86,R1K...</td>\n      <td>Satisfied,Charging is really fast,Value for mo...</td>\n      <td>Looks durable Charging is fine tooNo complains...</td>\n      <td>https://m.media-amazon.com/images/W/WEBP_40237...</td>\n      <td>https://www.amazon.in/Wayona-Braided-WN3LG1-Sy...</td>\n    </tr>\n    <tr>\n      <th>1</th>\n      <td>B098NS6PVG</td>\n      <td>Ambrane Unbreakable 60W / 3A Fast Charging 1.5...</td>\n      <td>Computers&amp;Accessories|Accessories&amp;Peripherals|...</td>\n      <td>₹199</td>\n      <td>₹349</td>\n      <td>43%</td>\n      <td>4.0</td>\n      <td>43,994</td>\n      <td>Compatible with all Type C enabled devices, be...</td>\n      <td>AECPFYFQVRUWC3KGNLJIOREFP5LQ,AGYYVPDD7YG7FYNBX...</td>\n      <td>ArdKn,Nirbhay kumar,Sagar Viswanathan,Asp,Plac...</td>\n      <td>RGIQEG07R9HS2,R1SMWZQ86XIN8U,R2J3Y1WL29GWDE,RY...</td>\n      <td>A Good Braided Cable for Your Type C Device,Go...</td>\n      <td>I ordered this cable to connect my phone to An...</td>\n      <td>https://m.media-amazon.com/images/W/WEBP_40237...</td>\n      <td>https://www.amazon.in/Ambrane-Unbreakable-Char...</td>\n    </tr>\n    <tr>\n      <th>2</th>\n      <td>B096MSW6CT</td>\n      <td>Sounce Fast Phone Charging Cable &amp; Data Sync U...</td>\n      <td>Computers&amp;Accessories|Accessories&amp;Peripherals|...</td>\n      <td>₹199</td>\n      <td>₹1,899</td>\n      <td>90%</td>\n      <td>3.9</td>\n      <td>7,928</td>\n      <td>【 Fast Charger&amp; Data Sync】-With built-in safet...</td>\n      <td>AGU3BBQ2V2DDAMOAKGFAWDDQ6QHA,AESFLDV2PT363T2AQ...</td>\n      <td>Kunal,Himanshu,viswanath,sai niharka,saqib mal...</td>\n      <td>R3J3EQQ9TZI5ZJ,R3E7WBGK7ID0KV,RWU79XKQ6I1QF,R2...</td>\n      <td>Good speed for earlier versions,Good Product,W...</td>\n      <td>Not quite durable and sturdy,https://m.media-a...</td>\n      <td>https://m.media-amazon.com/images/W/WEBP_40237...</td>\n      <td>https://www.amazon.in/Sounce-iPhone-Charging-C...</td>\n    </tr>\n    <tr>\n      <th>3</th>\n      <td>B08HDJ86NZ</td>\n      <td>boAt Deuce USB 300 2 in 1 Type-C &amp; Micro USB S...</td>\n      <td>Computers&amp;Accessories|Accessories&amp;Peripherals|...</td>\n      <td>₹329</td>\n      <td>₹699</td>\n      <td>53%</td>\n      <td>4.2</td>\n      <td>94,363</td>\n      <td>The boAt Deuce USB 300 2 in 1 cable is compati...</td>\n      <td>AEWAZDZZJLQUYVOVGBEUKSLXHQ5A,AG5HTSFRRE6NL3M5S...</td>\n      <td>Omkar dhale,JD,HEMALATHA,Ajwadh a.,amar singh ...</td>\n      <td>R3EEUZKKK9J36I,R3HJVYCLYOY554,REDECAZ7AMPQC,R1...</td>\n      <td>Good product,Good one,Nice,Really nice product...</td>\n      <td>Good product,long wire,Charges good,Nice,I bou...</td>\n      <td>https://m.media-amazon.com/images/I/41V5FtEWPk...</td>\n      <td>https://www.amazon.in/Deuce-300-Resistant-Tang...</td>\n    </tr>\n    <tr>\n      <th>4</th>\n      <td>B08CF3B7N1</td>\n      <td>Portronics Konnect L 1.2M Fast Charging 3A 8 P...</td>\n      <td>Computers&amp;Accessories|Accessories&amp;Peripherals|...</td>\n      <td>₹154</td>\n      <td>₹399</td>\n      <td>61%</td>\n      <td>4.2</td>\n      <td>16,905</td>\n      <td>[CHARGE &amp; SYNC FUNCTION]- This cable comes wit...</td>\n      <td>AE3Q6KSUK5P75D5HFYHCRAOLODSA,AFUGIFH5ZAFXRDSZH...</td>\n      <td>rahuls6099,Swasat Borah,Ajay Wadke,Pranali,RVK...</td>\n      <td>R1BP4L2HH9TFUP,R16PVJEXKV6QZS,R2UPDB81N66T4P,R...</td>\n      <td>As good as original,Decent,Good one for second...</td>\n      <td>Bought this instead of original apple, does th...</td>\n      <td>https://m.media-amazon.com/images/W/WEBP_40237...</td>\n      <td>https://www.amazon.in/Portronics-Konnect-POR-1...</td>\n    </tr>\n  </tbody>\n</table>\n</div>",
       "datasetInfos": [],
       "metadata": {},
       "removedWidgets": [],
       "textData": null,
       "type": "htmlSandbox"
      }
     },
     "output_type": "display_data"
    }
   ],
   "source": [
    "# Mostra as primeiras linhas do dataset\n",
    "dataset.head()\n",
    "\n"
   ]
  },
  {
   "cell_type": "code",
   "execution_count": 0,
   "metadata": {
    "application/vnd.databricks.v1+cell": {
     "cellMetadata": {
      "byteLimit": 2048000,
      "rowLimit": 10000
     },
     "inputWidgets": {},
     "nuid": "fc5983d9-a172-4c94-9768-f5f7c4e8019e",
     "showTitle": false,
     "tableResultSettingsMap": {},
     "title": ""
    }
   },
   "outputs": [
    {
     "output_type": "stream",
     "name": "stdout",
     "output_type": "stream",
     "text": [
      "Out[5]: (1465, 16)"
     ]
    }
   ],
   "source": [
    "dataset.shape # Mostra o número de linhas e colunas\n"
   ]
  },
  {
   "cell_type": "code",
   "execution_count": 0,
   "metadata": {
    "application/vnd.databricks.v1+cell": {
     "cellMetadata": {
      "byteLimit": 2048000,
      "implicitDf": true,
      "rowLimit": 10000
     },
     "inputWidgets": {},
     "nuid": "3d5fc038-bab9-446a-a976-134c190721ab",
     "showTitle": false,
     "tableResultSettingsMap": {},
     "title": ""
    }
   },
   "outputs": [
    {
     "output_type": "display_data",
     "data": {
      "text/html": [
       "<style scoped>\n",
       "  .table-result-container {\n",
       "    max-height: 300px;\n",
       "    overflow: auto;\n",
       "  }\n",
       "  table, th, td {\n",
       "    border: 1px solid black;\n",
       "    border-collapse: collapse;\n",
       "  }\n",
       "  th, td {\n",
       "    padding: 5px;\n",
       "  }\n",
       "  th {\n",
       "    text-align: left;\n",
       "  }\n",
       "</style><div class='table-result-container'><table class='table-result'><thead style='background-color: white'><tr></tr></thead><tbody></tbody></table></div>"
      ]
     },
     "metadata": {
      "application/vnd.databricks.v1+output": {
       "addedWidgets": {},
       "aggData": [],
       "aggError": "",
       "aggOverflow": false,
       "aggSchema": [],
       "aggSeriesLimitReached": false,
       "aggType": "",
       "arguments": {},
       "columnCustomDisplayInfos": {},
       "data": [],
       "datasetInfos": [],
       "dbfsResultPath": null,
       "isJsonSchema": true,
       "metadata": {},
       "overflow": false,
       "plotOptions": {
        "customPlotOptions": {},
        "displayType": "table",
        "pivotAggregation": null,
        "pivotColumns": null,
        "xColumns": null,
        "yColumns": null
       },
       "removedWidgets": [],
       "schema": [],
       "type": "table"
      }
     },
     "output_type": "display_data"
    }
   ],
   "source": [
    "%sql CREATE DATABASE IF NOT EXISTS bronze;"
   ]
  },
  {
   "cell_type": "code",
   "execution_count": 0,
   "metadata": {
    "application/vnd.databricks.v1+cell": {
     "cellMetadata": {
      "byteLimit": 2048000,
      "rowLimit": 10000
     },
     "inputWidgets": {},
     "nuid": "714b118a-d8eb-4664-9d27-33c5cc874160",
     "showTitle": false,
     "tableResultSettingsMap": {},
     "title": ""
    }
   },
   "outputs": [],
   "source": [
    "spark_df = spark.createDataFrame(dataset)\n",
    "spark_df.write.mode(\"overwrite\").saveAsTable(\"bronze.name_basics\")"
   ]
  },
  {
   "cell_type": "code",
   "execution_count": 0,
   "metadata": {
    "application/vnd.databricks.v1+cell": {
     "cellMetadata": {
      "byteLimit": 2048000,
      "implicitDf": true,
      "rowLimit": 10000
     },
     "inputWidgets": {},
     "nuid": "1facaf33-c69f-4623-bba7-8b8253efa3dd",
     "showTitle": false,
     "tableResultSettingsMap": {},
     "title": ""
    }
   },
   "outputs": [
    {
     "output_type": "display_data",
     "data": {
      "text/html": [
       "<style scoped>\n",
       "  .table-result-container {\n",
       "    max-height: 300px;\n",
       "    overflow: auto;\n",
       "  }\n",
       "  table, th, td {\n",
       "    border: 1px solid black;\n",
       "    border-collapse: collapse;\n",
       "  }\n",
       "  th, td {\n",
       "    padding: 5px;\n",
       "  }\n",
       "  th {\n",
       "    text-align: left;\n",
       "  }\n",
       "</style><div class='table-result-container'><table class='table-result'><thead style='background-color: white'><tr><th>product_id</th><th>product_name</th><th>category</th><th>discounted_price</th><th>actual_price</th><th>discount_percentage</th><th>rating</th><th>rating_count</th><th>about_product</th><th>user_id</th><th>user_name</th><th>review_id</th><th>review_title</th><th>review_content</th><th>img_link</th><th>product_link</th></tr></thead><tbody><tr><td>B07JW9H4J1</td><td>Wayona Nylon Braided USB to Lightning Fast Charging and Data Sync Cable Compatible for iPhone 13, 12,11, X, 8, 7, 6, 5, iPad Air, Pro, Mini (3 FT Pack of 1, Grey)</td><td>Computers&Accessories|Accessories&Peripherals|Cables&Accessories|Cables|USBCables</td><td>399.0</td><td>1099.0</td><td>64.0</td><td>4.2</td><td>348.2177914110429</td><td>High Compatibility : Compatible With iPhone 12, 11, X/XsMax/Xr ,iPhone 8/8 Plus,iPhone 7/7 Plus,iPhone 6s/6s Plus,iPhone 6/6 Plus,iPhone 5/5s/5c/se,iPad Pro,iPad Air 1/2,iPad mini 1/2/3,iPod nano7,iPod touch and more apple devices.|Fast Charge&Data Sync : It can charge and sync simultaneously at a rapid speed, Compatible with any charging adaptor, multi-port charging station or power bank.|Durability : Durable nylon braided design with premium aluminum housing and toughened nylon fiber wound tightly around the cord lending it superior durability and adding a bit to its flexibility.|High Security Level : It is designed to fully protect your device from damaging excessive current.Copper core thick+Multilayer shielding, Anti-interference, Protective circuit equipment.|WARRANTY: 12 months warranty and friendly customer services, ensures the long-time enjoyment of your purchase. If you meet any question or problem, please don't hesitate to contact us.</td><td>AG3D6O4STAQKAY2UVGEUV46KN35Q,AHMY5CWJMMK5BJRBBSNLYT3ONILA,AHCTC6ULH4XB6YHDY6PCH2R772LQ,AGYHHIERNXKA6P5T7CZLXKVPT7IQ,AG4OGOFWXJZTQ2HKYIOCOY3KXF2Q,AENGU523SXMOS7JPDTW52PNNVWGQ,AEQJHCVTNINBS4FKTBGQRQTGTE5Q,AFC3FFC5PKFF5PMA52S3VCHOZ5FQ</td><td>Manav,Adarsh gupta,Sundeep,S.Sayeed Ahmed,jaspreet singh,Khaja moin,Anand,S.ARUMUGAM</td><td>R3HXWT0LRP0NMF,R2AJM3LFTLZHFO,R6AQJGUP6P86,R1KD19VHEDV0OR,R3C02RMYQMK6FC,R39GQRVBUZBWGY,R2K9EDOE15QIRJ,R3OI7YT648TL8I</td><td>Satisfied,Charging is really fast,Value for money,Product review,Good quality,Good product,Good Product,As of now seems good</td><td>Looks durable Charging is fine tooNo complains,Charging is really fast, good product.,Till now satisfied with the quality.,This is a good product . The charging speed is slower than the original iPhone cable,Good quality, would recommend,https://m.media-amazon.com/images/W/WEBP_402378-T1/images/I/81---F1ZgHL._SY88.jpg,Product had worked well till date and was having no issue.Cable is also sturdy enough...Have asked for replacement and company is doing the same...,Value for money</td><td>https://m.media-amazon.com/images/W/WEBP_402378-T1/images/I/51UsScvHQNL._SX300_SY300_QL70_FMwebp_.jpg</td><td>https://www.amazon.in/Wayona-Braided-WN3LG1-Syncing-Charging/dp/B07JW9H4J1/ref=sr_1_1?qid=1672909124&s=electronics&sr=1-1</td></tr><tr><td>B098NS6PVG</td><td>Ambrane Unbreakable 60W / 3A Fast Charging 1.5m Braided Type C Cable for Smartphones, Tablets, Laptops & other Type C devices, PD Technology, 480Mbps Data Sync, Quick Charge 3.0 (RCT15A, Black)</td><td>Computers&Accessories|Accessories&Peripherals|Cables&Accessories|Cables|USBCables</td><td>199.0</td><td>349.0</td><td>43.0</td><td>4.0</td><td>348.2177914110429</td><td>Compatible with all Type C enabled devices, be it an android smartphone (Mi, Samsung, Oppo, Vivo, Realme, OnePlus, etc), tablet, laptop (Macbook, Chromebook, etc)|Supports Quick Charging (2.0/3.0)|Unbreakable – Made of special braided outer with rugged interior bindings, it is ultra-durable cable that won’t be affected by daily rough usage|Ideal Length – It has ideal length of 1.5 meters which is neither too short like your typical 1meter cable or too long like a 2meters cable|Supports maximum 3A fast charging and 480 Mbps data transfer speed|6 months manufacturer warranty from the date of purchase</td><td>AECPFYFQVRUWC3KGNLJIOREFP5LQ,AGYYVPDD7YG7FYNBXNGXZJT525AQ,AHONIZU3ICIEHQIGQ6R2VFRSBXOQ,AFPHD2CRPDZMWMBL7WXRSVYWS5JA,AEZ346GX3HJ4O4XNRPHCNHXQURMQ,AEPSWFPNECKO34PUC7I56ITGXR6Q,AHWVEHR5DYLVFTO2KF3IZATFQSWQ,AH4QT33M55677I7ISQOAKEQWACYQ</td><td>ArdKn,Nirbhay kumar,Sagar Viswanathan,Asp,Placeholder,BharanI,sonia,Niam</td><td>RGIQEG07R9HS2,R1SMWZQ86XIN8U,R2J3Y1WL29GWDE,RYGGS0M09S3KY,R17KQRUTAN5DKS,R3AAQGS6HP2QUK,R1HDNOG6TO2CCA,R3PHKXYA5AFEOU</td><td>A Good Braided Cable for Your Type C Device,Good quality product from ambrane,Super cable,As,Good quality,Good product,its good,Good quality for the price but one issue with my unit</td><td>I ordered this cable to connect my phone to Android Auto of car. The cable is really strong and the connection ports are really well made. I already has a Micro USB cable from Ambrane and it's still in good shape. I connected my phone to the car using the cable and it got connected well and no issues. I also connected it to the charging port and yes it has Fast Charging support.,It quality is good at this price and the main thing is that i didn't ever thought that this cable will be so long it's good one and charging power is too good and also supports fast charging,Value for money, with extra length👍,Good, working fine,Product quality is good,Good,very good,Bought for my daughter's old phone.Brand new cable it was not charging, I already repacked and requested for replacement.I checked again, and there was some green colour paste/fungus inside the micro USB connector. I cleaned with an alcoholic and starts working again.Checked the ampere of charging speed got around 1400ma-1500ma - not bad, came with braided 1.5m long cable, pretty impressive for the price.Can't blame the manufacturer.But quality issues by the distributor, they might have stored in very humid place.</td><td>https://m.media-amazon.com/images/W/WEBP_402378-T2/images/I/31zOsqQOAOL._SY445_SX342_QL70_FMwebp_.jpg</td><td>https://www.amazon.in/Ambrane-Unbreakable-Charging-Braided-Cable/dp/B098NS6PVG/ref=sr_1_2?qid=1672909124&s=electronics&sr=1-2</td></tr><tr><td>B096MSW6CT</td><td>Sounce Fast Phone Charging Cable & Data Sync USB Cable Compatible for iPhone 13, 12,11, X, 8, 7, 6, 5, iPad Air, Pro, Mini & iOS Devices</td><td>Computers&Accessories|Accessories&Peripherals|Cables&Accessories|Cables|USBCables</td><td>199.0</td><td>1899.0</td><td>90.0</td><td>3.9</td><td>348.2177914110429</td><td>【 Fast Charger& Data Sync】-With built-in safety proctections and four-core copper wires promote maximum signal quality and strength and enhance charging & data transfer speed with up to 480 mb/s transferring speed.|【 Compatibility】-Compatible with iPhone 13, 12,11, X, 8, 7, 6, 5, iPad Air, Pro, Mini & iOS devices.|【 Sturdy & Durable】-The jacket and enforced connector made of TPE and premium copper, are resistant to repeatedly bending and coiling.|【 Ultra High Quality】: According to the experimental results, the fishbone design can accept at least 20,000 bending and insertion tests for extra protection and durability. Upgraded 3D aluminum connector and exclusive laser welding technology, which to ensure the metal part won't break and also have a tighter connection which fits well even with a protective case on and will never loose connection.|【 Good After Sales Service】-Our friendly and reliable customer service will respond to you within 24 hours ! you can purchase with confidence,and every sale includes a 365-day worry-free Service to prove the importance we set on quality.</td><td>AGU3BBQ2V2DDAMOAKGFAWDDQ6QHA,AESFLDV2PT363T2AQLWQOWZ4N3OA,AHTPQRIMGUD4BYR5YIHBH3CCGEFQ,AEUVWXYP5LT7PZLLZENEO2NODPBQ,AHC7MPW55DOO6WNCOQVA2VHOD26A,AFDI6FRPFBTNBG7BAEB7JDJSMKDQ,AFQKCEEEKXCOHTDG4WUN3XPPHJQQ,AHKUUFNMBZIDLSSPA4FEHIO2EC7Q</td><td>Kunal,Himanshu,viswanath,sai niharka,saqib malik,Aashiq,Ramu Challa,Sanjay gupta</td><td>R3J3EQQ9TZI5ZJ,R3E7WBGK7ID0KV,RWU79XKQ6I1QF,R25X4TBMPY91LX,R27OK7G99VK0TR,R207CYDCHJJTCJ,R3PCU8XMU173BT,R1IMONDOWRNU5V</td><td>Good speed for earlier versions,Good Product,Working good,Good for the price,Good,Worth for money,Working nice,it's a really nice product</td><td>Not quite durable and sturdy,https://m.media-amazon.com/images/W/WEBP_402378-T1/images/I/71rIggrbUCL._SY88.jpg,Working good,https://m.media-amazon.com/images/W/WEBP_402378-T1/images/I/61bKp9YO6wL._SY88.jpg,Product,Very nice product,Working well,It's a really nice product</td><td>https://m.media-amazon.com/images/W/WEBP_402378-T1/images/I/31IvNJZnmdL._SY445_SX342_QL70_FMwebp_.jpg</td><td>https://www.amazon.in/Sounce-iPhone-Charging-Compatible-Devices/dp/B096MSW6CT/ref=sr_1_3?qid=1672909124&s=electronics&sr=1-3</td></tr><tr><td>B08HDJ86NZ</td><td>boAt Deuce USB 300 2 in 1 Type-C & Micro USB Stress Resistant, Tangle-Free, Sturdy Cable with 3A Fast Charging & 480mbps Data Transmission, 10000+ Bends Lifespan and Extended 1.5m Length(Martian Red)</td><td>Computers&Accessories|Accessories&Peripherals|Cables&Accessories|Cables|USBCables</td><td>329.0</td><td>699.0</td><td>53.0</td><td>4.2</td><td>348.2177914110429</td><td>The boAt Deuce USB 300 2 in 1 cable is compatible with smartphones, tablets, PC peripherals, Bluetooth speakers, power banks and all other devices with Type-C as well as Micro USB port|It ensures 3A fast charging and data transmissions with rapid sync at 480 mbps|The premium Nylon braided skin makes it sturdy and invincible against external damage|Its Aluminium alloy shell housing makes it last longer with 10000+ Bends Lifespan with extended frame protection for strain relief|The resilient and flexible design offers a tangle free experience seamlessly|Deuce USB 300 cable offers a perfect 1.5 meters in length for smooth & hassle-free user experience|2 years warranty from the date of purchase</td><td>AEWAZDZZJLQUYVOVGBEUKSLXHQ5A,AG5HTSFRRE6NL3M5SGCUQBP7YSCA,AH725ST5NW2Y4JZPKUNTIJCUK2BA,AHV3TXIFCJPMS4D5JATCEUR266MQ,AGWIGDEMFIIUAOXYY2QATNBSUGHA,AFSTSLQUV4EVEXWKBOLEFHL2H5YQ,AGAKDNBHY2FKX7I4ACRGILU7QL7A,AFNWJUWJRHCC6HN52KMG5AKZY37Q</td><td>Omkar dhale,JD,HEMALATHA,Ajwadh a.,amar singh chouhan,Ravi Siddan,Himanshu Goel,Udaykumar</td><td>R3EEUZKKK9J36I,R3HJVYCLYOY554,REDECAZ7AMPQC,R1CLH2ULIVG5U3,R2DMKIBGFKBD6R,RC89B5IAJUTR5,R3B3DDON5FH8DS,R13WAEJDI5RS36</td><td>Good product,Good one,Nice,Really nice product,Very first time change,Good,Fine product but could be better,Very nice it's charging like jet</td><td>Good product,long wire,Charges good,Nice,I bought this cable for Rs.339 worthy product for this price, i tested it in various charger adapters 33w and 18w it supports fast charging as well.,Good,Ok,I had got this at good price on sale on Amazon and product is useful with warranty but for warranty you need to go very far not practical for such a cost and mine micro to type c connector stopped working after few days only.,I like this product</td><td>https://m.media-amazon.com/images/I/41V5FtEWPkL._SX300_SY300_QL70_FMwebp_.jpg</td><td>https://www.amazon.in/Deuce-300-Resistant-Tangle-Free-Transmission/dp/B08HDJ86NZ/ref=sr_1_4?qid=1672909124&s=electronics&sr=1-4</td></tr><tr><td>B08CF3B7N1</td><td>Portronics Konnect L 1.2M Fast Charging 3A 8 Pin USB Cable with Charge & Sync Function for iPhone, iPad (Grey)</td><td>Computers&Accessories|Accessories&Peripherals|Cables&Accessories|Cables|USBCables</td><td>154.0</td><td>399.0</td><td>61.0</td><td>4.2</td><td>348.2177914110429</td><td>[CHARGE & SYNC FUNCTION]- This cable comes with charging & Data sync function|[HIGH QUALITY MATERIAL]- TPE + Nylon Material to make sure that the life of the cable is enhanced significantly|[LONG CORD]- The Cable is extra thick 1.2 meter long, optimized for an easy use for your comfort at home or office|[MORE DURABLE]-This cable is unique interms of design and multi-use and is positioned to provide the best comfort and performance while using|[UNIVERSAL COMPATIBILITY]- Compatible with all devices like iPhone XS, X, XR, 8, 7, 6S, 6, 5S, iPad Pro, iPad mini and iPad Air</td><td>AE3Q6KSUK5P75D5HFYHCRAOLODSA,AFUGIFH5ZAFXRDSZHM4QB2KPKFUQ,AFK4NJOLFSJGWLOJIUIAROJF6YVA,AFUOTYRFUXVPEBGIXVZZ7DR3CZUA,AFDLRSXKDZ6U3U3KD46SQLFGZQRA,AH5VLM66SIK7J3IRG4NY7XVOQ55A,AE3MQNNHHLUHXURL5S7IAR7JTGNQ,AFSEOFZY67MYC7UAJU264Z5NFTLA</td><td>rahuls6099,Swasat Borah,Ajay Wadke,Pranali,RVK,Bhargav,Durai Vignesh,Amazon Customer</td><td>R1BP4L2HH9TFUP,R16PVJEXKV6QZS,R2UPDB81N66T4P,R3KK4GT934ST3I,RCFHMWUSBIJO,RDO7DACXMAJ84,R3A6MEZL3LY66Z,R1ESIEKPGAYA29</td><td>As good as original,Decent,Good one for secondary use,Best quality,GOOD,Amazing product at a mind blowing price!,Nice Quality,Good product</td><td>Bought this instead of original apple, does the work for 150rs, not as fast as apple charger but its a good option if you want cheap and good product, bought it for iPad pro 10.5 and it's working flawlessly, build quality is ok, its not like i am gonna hang my clothes on it and i want a very strong cable, even a braided cable stop working after a year, i have used both Anker and Apple store strong braided cable they all stop working after a year so please don't buy high end cables just for that instead choose a this one and even if it's stops working withing a year you only loose 150rs compares to 2000rs.UPDATE------------------------------------pin has stopped charging from one side, now i have to slip the pin to charge from other side, but i will update and let know for how long does it work,,It’s good. Not sure about durability as the pin area feels a bit fragile,Does not support apple carplaySo was little disappointed about thatOther than that cable is made up of very good quality,Best to buy,100% NOT FATHFUL,Writing this review post 10 months and 3 orders of the same product.Honestly Portronics Konnect L lightning cable works like magic with the original Apple charging brick.Seeing the price of the cable I initially hesitated buying as it was as low as ₹99/- with the offers and so I wasn’t sure if it would work well with my iPhone 12 or whether it would impact my iPhone’s battery health because all the other lightning cable brands were costing over ₹350/- like Wayona, Amazon Basics, etc.Earlier I was using Wayona Brand lightning cable with eventually frayed and stopped working.Charging Speed:Charges my iPhone fast enough almost similar compared to the original cable level when used with 12W Original Apple power adapter.Quality and Durability:Great quality braided cable and doesn’t tangle easily and can withstand day-to-day usage.L-Shaped pin:This is very innovative by Portronics and it makes sure the cable doesn’t get damaged even if used while charging.CarPlay and Data Sync:Works smoothly with CarPlay and syncs data effortlessly.PS: I have used this cable only with the Original Apple Charging Brick and extremely satisfied with its performance.,Better than I expect the product I like that Quality and I plan to buy same type cable come with usb C to Lighting cable for emergency purpose that much I love this cable. Buy for this cable only emergency uses only since Good one,Good product and value for money</td><td>https://m.media-amazon.com/images/W/WEBP_402378-T2/images/I/31VzNhhqifL._SX300_SY300_QL70_FMwebp_.jpg</td><td>https://www.amazon.in/Portronics-Konnect-POR-1080-Charging-Function/dp/B08CF3B7N1/ref=sr_1_5?qid=1672909124&s=electronics&sr=1-5</td></tr><tr><td>B08Y1TFSP6</td><td>pTron Solero TB301 3A Type-C Data and Fast Charging Cable, Made in India, 480Mbps Data Sync, Strong and Durable 1.5-Meter Nylon Braided USB Cable for Type-C Devices for Charging Adapter (Black)</td><td>Computers&Accessories|Accessories&Peripherals|Cables&Accessories|Cables|USBCables</td><td>149.0</td><td>1000.0</td><td>85.0</td><td>3.9</td><td>348.2177914110429</td><td>Fast Charging & Data Sync: Solero TB301 Type-C cable supports fast charge up to 5V/3A for devices and data syncing speed up to 480Mbps.|Universal Compatibility: This USB charging cable connects USB Type-C devices with standard USB devices like laptops, hard drives, power banks, wall and car chargers, etc..Connector One: Reversible Type C|Connector Two: USB A Type|Rough & Tough Type-C Cable: Charging cable with a double-braided exterior, premium aramid fiber core and metal plugs. It has passed 10,000 bending tests and can easily withstand daily use.|Extended Length: 1.5-meter long c-type cable uses nylon material to protect the wire and avoid knots.|Perfect Fit Connectors: pTron Soler USB-C has passed the 5KG load test, swing test, 5000+ times connect & disconnect to ensure that there are no loose connections.</td><td>AEQ2YMXSZWEOHK2EHTNLOS56YTZQ,AGRVINWECNY7323CWFXZYYIZOFTQ,AHBAT6VLOXWGYDL57KHCNCLPXAKA,AF7NDY2H6JVYTSQOZP76GCATQ34Q,AFV7ZA733ZLME4KNLZPMPCBUNPPA,AHFAAPSY2MJ5HYOU2VQDJ7AQY4NQ,AH2WGV2PEBUTICRPBEEVKF24G5LA,AEP4MK3EKOBDKTGPJTRN5RBDIODA</td><td>Jayesh,Rajesh k.,Soopy,amazon customer,Aman,Shankar,dinesh,Chitra,Ajaybabu.O.M</td><td>R7S8ANNSDPR40,R3CLZFLHVJU26P,RFF7U7MPQFUGR,R1MV1NKC23DWPI,R11D3U0V2XKDKF,R18MP1KLUE18PC,RWGJNVEH5ZQME,R1XN72FU6Q37IH</td><td>It's pretty good,Average quality,very good and useful usb cable,Good USB cable. My experience was very good it is long lasting,Good,Nice product and useful,-,Sturdy but does not support 33w charging</td><td>It's a good product.,Like,Very good item strong and useful USB cableValue for moneyThanks to amazon and producer,https://m.media-amazon.com/images/I/51112ZRE-1L._SY88.jpg,Good,Nice product and useful product,-,Sturdy but does not support 33w charging</td><td>https://m.media-amazon.com/images/I/31wOPjcSxlL._SX300_SY300_QL70_FMwebp_.jpg</td><td>https://www.amazon.in/Solero-TB301-Charging-480Mbps-1-5-Meter/dp/B08Y1TFSP6/ref=sr_1_6?qid=1672909124&s=electronics&sr=1-6</td></tr><tr><td>B08WRWPM22</td><td>boAt Micro USB 55 Tangle-free, Sturdy Micro USB Cable with 3A Fast Charging & 480mbps Data Transmission (Black)</td><td>Computers&Accessories|Accessories&Peripherals|Cables&Accessories|Cables|USBCables</td><td>176.63</td><td>499.0</td><td>65.0</td><td>4.1</td><td>348.2177914110429</td><td>It Ensures High Speed Transmission And Charging By Offering 3A Fast Charging And Data Transmissions With Rapid Sync At 480 Mbps|The Braided Skin Makes It Durable And Invincible Against External Damage So You Can Have An Absolute Hassle-Free & Tangle Free Experience|Its Durable Pvc Housing And The Flexible Design Makes It Last 6 Times Longer Than Other Cables|Usb Cable Offers A Perfect 1.5 Meters In Length For Smooth & Hassle-Free User Experience For Superior Charging & Data Transfer Tasks|The Compact And Smooth Aluminium Connector Fits Most Cases Seamlessly And Resists Corrosion For Signal Purity|Micro Usb 55 Cable Offers Universal Compatibility As It Is Compatible With Most Android Smartphones, Tablets, Pc Peripherals, Bluetooth Speakers, Power Banks, Game Consoles & All Micro-Usb Enabled Devices|2 years warranty from the date of purchase</td><td>AG7C6DAADCTRQJG2BRS3RIKDT52Q,AFU7BOMPVJ7Q3TTA4G67RASTGYIQ,AER5ZGIXXVYG3AWZTRZT7M2BYCEA,AHE76XQSOLGOP5ZEKTIW6KUPDWBQ,AGXTMB2XHZBEWZ2UIX7ODZ4XTU6Q,AHNM2XVU745EDPNGUOAG74PTSNRA,AH5RWQ4S72IVLZD6O75OPCFIVDXQ,AG322TYKVPLPBDXE7ABEUK5QTALQ</td><td>Vivek kumar,Amazon Customer,SARTHAK,Chiranjeevi,V V GIRI KUMAR,Rajnandini,Akshay Talla,sudhanshu chaubey</td><td>R8E73K2KWJRDS,RSD0JTIIWQQL8,R64CRSTE9SLW1,R2FRTNIIUFJE1F,RWGNX3W7UOJ7W,R32TYHHODHTF5D,RQL9ZMQUTY7P2,R280XJ5VZUBOXV</td><td>Long durable.,good,Does not charge Lenovo m8 tab,Best charging cable,good,Boat,Product was good,1.5 m का केबल मेरे लिए बहुत ही लाभदायक है ।</td><td>Build quality is good and it is comes with 2 year warranty.,Good Product,Bought it for charging my mobile & tab but it doesn't work for Lenovo m8 tab,Guys this cable is is best compare of everyone over heat protection, quickly charging, but chance to shock circuit,good,Nice,Good quality,1.5एम का डाटा केबल मेरे लिए बहुत ही लाभदायक है ।  मैं इस केबल को लाइन में चार्ज करते समय फोन बहुत आराम से उपयोग  कर पा रहा हु । आप इस केबल से 15watt का  चार्जर उसे कर सकते है (इससे जड़ा नही) । लोकल बाजार में इसका दाम 150 है ,  अमेजन पे ये केबल मुझे 67 में मिला । गर्व से कहो हम हिंदू है , जय हिंद जय भारत ,</td><td>https://m.media-amazon.com/images/W/WEBP_402378-T2/images/I/41jlwEZpa5L._SX300_SY300_QL70_FMwebp_.jpg</td><td>https://www.amazon.in/boAt-Micro-USB-Tangle-Free-Transmission/dp/B08WRWPM22/ref=sr_1_8?qid=1672909124&s=electronics&sr=1-8</td></tr><tr><td>B08DDRGWTJ</td><td>MI Usb Type-C Cable Smartphone (Black)</td><td>Computers&Accessories|Accessories&Peripherals|Cables&Accessories|Cables|USBCables</td><td>229.0</td><td>299.0</td><td>23.0</td><td>4.3</td><td>348.2177914110429</td><td>1m long Type-C USB Cable|Sturdy and Durable. With USB cable you can transfer data with speeds of upto 480 Mbps|Upto 3A output|6months warranty|Sturdy and Durable. With USB cable you can transfer data with speeds of upto 480 Mbps|6months warranty|Up To 3A Output</td><td>AHW6E5LQ2BDYOIVLAJGDH45J5V5Q,AF74RSGCHPZITVFSZN76K6GKPICA,AHDD7ZNB47QA2JLYU53HD4ML3VNQ,AHV3ELGDSOWBYUQLXSPDCSHBQRHQ,AEJU4L3ZM2GTILSJZZSNSF6VUOIA,AFVD66VQMSHPDT3A6HBBBGKRXBZA,AELKHQXVSSG6NHXLFJLLNEFRQQUQ,AGYSMAC6V6RFJJOHG2FIRPOZ6CSQ</td><td>Pavan A H,Jayesh bagad,Shridhar,rajendran,karuppu k,Akshay wani,Abbimaniu Singh,VISHAL H BADSHE</td><td>R2X090D1YHACKR,R32ZCIH9AFNJ60,R3N57EVVG0EHAF,R3QWLE8JHROKC1,R2VTSDOOUTSQ5X,R3E6FZ75Q074KH,R1SYBQLTPFCW20,RYQT96J8HPIXE</td><td>Worth for money - suitable for Android auto,Good Product,Length,Nice,Original,Very good quay Cable support fast charging.,Original MI cable for charging upto 33 watt,I am veri happy with this product as it provide turbo charging.</td><td>Worth for money - suitable for Android auto... my purpose served in car....got it for Rs.150,Everything is Okay. But packaging is not good feeling like seller gave is used cable.,Good product,Good product but cost is more.,Original cable,I bought this cable at 129. Using this cable for Android auto in my car. Perfectly works without any glitch.,Original MI cable. Will charge upto 33 watts. Got it for Rs 150.  I have 67 watt charger and I want a cable for my car so I went for it. I checked the performance with battery charging app. The charging speed is exactly half of my 67 watt original cable. Go for it.,It provided me turbo charging. I recommend for all Redmi note 10s mobile phones. As it provide turbo charging. I am veri happy with this product.</td><td>https://m.media-amazon.com/images/I/31XO-wfGGGL._SX300_SY300_QL70_FMwebp_.jpg</td><td>https://www.amazon.in/MI-MTCY001IN-USB-Type-C-Cable/dp/B08DDRGWTJ/ref=sr_1_9?qid=1672909124&s=electronics&sr=1-9</td></tr><tr><td>B008IFXQFU</td><td>TP-Link USB WiFi Adapter for PC(TL-WN725N), N150 Wireless Network Adapter for Desktop - Nano Size WiFi Dongle Compatible with Windows 11/10/7/8/8.1/XP/ Mac OS 10.9-10.15 Linux Kernel 2.6.18-4.4.3</td><td>Computers&Accessories|NetworkingDevices|NetworkAdapters|WirelessUSBAdapters</td><td>499.0</td><td>999.0</td><td>50.0</td><td>4.2</td><td>348.2177914110429</td><td>USB WiFi Adapter —— Speedy wireless transmission at up to 150Mbps ideal for video streaming or internet calls|Mini Design —— Sleek miniature design so small that once plugged in, can be left in a Laptop’s USB port|Advanced Security —— Supports 64/128 WEP, WPA, PA2/WPA-PSK/WPA2-PSK(TKIP/AES)|Compatibility —— Windows 11/10/8.1/8/7/XP, Mac OS 10.15 and earlier, Linux|Easy Setup —— Connect in no time with easy setup utility in 14 languages|In an unlikely case of product quality related issue, we may ask you to reach out to brand’s customer service support and seek resolution. We will require brand proof of issue to process replacement request</td><td>AGV3IEFANZCKECFGUM42MRH5FNOA,AEBO7NWCNXKT4AESAN443HQH35FQ,AE7GD3VRRYQEAHDR7FXJIR23INYA,AHPAW24BI5X2GCX5M2LHI72VSJJQ,AE2VXY4CFO36MDSIMPG43XHNF4GA,AHHQEKUNVETALN7DTRHUQ2WAWEKQ,AFMIFTNTUD5PIHGONWOTRMMZ5EBA,AHOJBIZVVIIFJKRREY4B6ESVA4KA</td><td>Azhar JuMan,Anirudh Sood,Hari Krishnan PS,Akash Jindal,PRADEEP,Rajesh,Divya Kothari,abhijit</td><td>R1LW6NWSVTVZ2H,R3VR5WFKUS15C5,R2F6GC79OYWUKQ,R3QZ19MECGWG9A,R2MPU42MYK7GPO,R33DVXFB4VYPZZ,R1SQ7OGFR4JRUR,R1S5F9QI0M1VBZ</td><td>Works on linux for me. Get the model with antenna.,Does what it say but other brands available at lesser price,Easy Handle,Great product,Perfect working,Speed is perfect,Great Design, Build, Connectivity Range, Packaging and other features but no linux support since v2,Very good</td><td>I use this to connect an old PC to internet. I tried lubuntu 20 and ubuntu 22, it worked out of the box in both, didn't have to do any setup. There's an extender cable so you can place this in a comfortable place. Get the model with antenna because otherwise you'll have range problems if you're not directly in line of sight from your wifi router.,The wifi dongle is a simple plug & play device, will start catching available networks right after you plug it into your USB port, no additional installations/ softwares requires. Signal strength is good.... just wonder what would be different in other adapters of lesser known brands which are available at a much more competitive pricing, hence a star less.,Pros:*Easy to use & Portable*Can be connected to Mobile Hotspot and used in PC( Budget Friendly)*Less installation process*No heating issues & Good Coverage*Best alternative for USB Tethering (phone's battery may get damaged for long term run with Tethering)Cons:*Internet connection speed varies at times, also depends on your modem or cellular connection*Issues occur while installing via CD, which is available along with the product( Installation driver can be downloaded from TP-Link site)*Needed to reconnect the adapter every time system is turned ON*Will not work if your software has some issues, so encountered any just update your system(worked for me)*Support Center is worse, calls are unattended most of the times or just visit nearby storeConclusion:Brought this @499/-Ideal for users who don't need very high speed internet usage,a good alternative for USB Tethering and are on Budge(1080p Youtube videos can be easily played with this without any interruptions),wifi connectivity is a great good result for me. however, some jitter problems did exist.,This is perfect device to connect wifi. Go for it.,This wifi adopter is good working,(Pictures attached)Size/Design:  ★ ★ ★ ★ ★Build Quality: ★ ★ ★ ★ ★Packaging:  ★ ★ ★ ★ ★Software:  ★ ★ ★ ★Speed:  ★ ★ ★ ★ ★Connectivity:  ★ ★ ★ ★ ★Experience:  ★ ★ ★ ★ ★Warranty:  ★ ★ ★ ★ ★Size and Design:The best part about this is that it is very compact in size and very sober and elegant in design. This is a big plus as it is easy plug in and use, add to it the good sober design.Build Quality:The build quality is undoubtedly superb. Just no qualms about that, at all. When held, it doesnt give off that cheap and flimsy product-like feeling. It is good sturdy with its build quality.Packaging:This part is also a big plus as the item was well cushioned and packaged with all the necessary items that ensured that no damage could have been caused to the product during transportation. This ensures that I as a customer have received something not damaged internally already.Software:This is actually good but not great part with the product.The good part is that a CD has been provided with it along with a manual.The not great part is that NO LINUX SUPPORT has been given from Version 2 onwards. This is bad, really.Speed:It easily supports net speeds upto 300 Mbps. Practically speaking, I have tested it at my home and it easily supports net speed of over 100-150 Mbps without a sigh.On testing I found that it did connect to 5GHz network, without any issue.Connectivity:Please mark its not feet its metres. Multiply metres x 3 to get the distance in feet.It easily connects to my laptop or phone from 7 metres across one room. So thats 21 feet. I mean even our old bluetooth used to connect to about 15 ft.So 20-25 feet is not at all an issue with this. This is the big plus I found with the product.Experience:From this point of view, so far except the linux non-compatibility issue, I found no other flaws with this product.So overall its a great product.Warranty:Its 3 years so I am assured that atleast for 3 years I am tension-free and not just 1 year, contrary to most electronic items today that only provide 1 year warranty with their items.,Best adapter I have bought ever. Works nicely seemless connectivity</td><td>https://m.media-amazon.com/images/W/WEBP_402378-T2/images/I/31e6ElWRymL._SX300_SY300_QL70_FMwebp_.jpg</td><td>https://www.amazon.in/TP-Link-TL-WN725N-150Mbps-Wireless-Adapter/dp/B008IFXQFU/ref=sr_1_10?qid=1672909124&s=electronics&sr=1-10</td></tr><tr><td>B082LZGK39</td><td>Ambrane Unbreakable 60W / 3A Fast Charging 1.5m Braided Micro USB Cable for Smartphones, Tablets, Laptops & Other Micro USB Devices, 480Mbps Data Sync, Quick Charge 3.0 (RCM15, Black)</td><td>Computers&Accessories|Accessories&Peripherals|Cables&Accessories|Cables|USBCables</td><td>199.0</td><td>299.0</td><td>33.0</td><td>4.0</td><td>348.2177914110429</td><td>Universal Compatibility – It is compatible with all Micro USB enabled devices, be it an android smartphone, tablet, PC peripheral or any other micro USB compatible device|Unbreakable – Made of special braided outer with rugged interior bindings, it is ultra-durable cable that won’t be affected by daily rough usage|Ideal Length – It has ideal length of 1.5 meters which is neither too short like your typical 1meter cable or too long like a 2meters cable|Supports maximum 3A fast charging and 480 Mbps data transfer speed|6 Months manufacturer warranty from the date of purchase.</td><td>AECPFYFQVRUWC3KGNLJIOREFP5LQ,AGYYVPDD7YG7FYNBXNGXZJT525AQ,AHONIZU3ICIEHQIGQ6R2VFRSBXOQ,AFPHD2CRPDZMWMBL7WXRSVYWS5JA,AEZ346GX3HJ4O4XNRPHCNHXQURMQ,AEPSWFPNECKO34PUC7I56ITGXR6Q,AHWVEHR5DYLVFTO2KF3IZATFQSWQ,AH4QT33M55677I7ISQOAKEQWACYQ</td><td>ArdKn,Nirbhay kumar,Sagar Viswanathan,Asp,Placeholder,BharanI,sonia,Niam</td><td>RGIQEG07R9HS2,R1SMWZQ86XIN8U,R2J3Y1WL29GWDE,RYGGS0M09S3KY,R17KQRUTAN5DKS,R3AAQGS6HP2QUK,R1HDNOG6TO2CCA,R3PHKXYA5AFEOU</td><td>A Good Braided Cable for Your Type C Device,Good quality product from ambrane,Super cable,As,Good quality,Good product,its good,Good quality for the price but one issue with my unit</td><td>I ordered this cable to connect my phone to Android Auto of car. The cable is really strong and the connection ports are really well made. I already has a Micro USB cable from Ambrane and it's still in good shape. I connected my phone to the car using the cable and it got connected well and no issues. I also connected it to the charging port and yes it has Fast Charging support.,It quality is good at this price and the main thing is that i didn't ever thought that this cable will be so long it's good one and charging power is too good and also supports fast charging,Value for money, with extra length👍,Good, working fine,Product quality is good,Good,very good,Bought for my daughter's old phone.Brand new cable it was not charging, I already repacked and requested for replacement.I checked again, and there was some green colour paste/fungus inside the micro USB connector. I cleaned with an alcoholic and starts working again.Checked the ampere of charging speed got around 1400ma-1500ma - not bad, came with braided 1.5m long cable, pretty impressive for the price.Can't blame the manufacturer.But quality issues by the distributor, they might have stored in very humid place.</td><td>https://m.media-amazon.com/images/W/WEBP_402378-T2/images/I/31kj3q4SepL._SY445_SX342_QL70_FMwebp_.jpg</td><td>https://www.amazon.in/Ambrane-Unbreakable-Charging-Braided-Android/dp/B082LZGK39/ref=sr_1_11?qid=1672909124&s=electronics&sr=1-11</td></tr></tbody></table></div>"
      ]
     },
     "metadata": {
      "application/vnd.databricks.v1+output": {
       "addedWidgets": {},
       "aggData": [],
       "aggError": "",
       "aggOverflow": false,
       "aggSchema": [],
       "aggSeriesLimitReached": false,
       "aggType": "",
       "arguments": {},
       "columnCustomDisplayInfos": {},
       "data": [
        [
         "B07JW9H4J1",
         "Wayona Nylon Braided USB to Lightning Fast Charging and Data Sync Cable Compatible for iPhone 13, 12,11, X, 8, 7, 6, 5, iPad Air, Pro, Mini (3 FT Pack of 1, Grey)",
         "Computers&Accessories|Accessories&Peripherals|Cables&Accessories|Cables|USBCables",
         399.0,
         1099.0,
         64.0,
         4.2,
         348.2177914110429,
         "High Compatibility : Compatible With iPhone 12, 11, X/XsMax/Xr ,iPhone 8/8 Plus,iPhone 7/7 Plus,iPhone 6s/6s Plus,iPhone 6/6 Plus,iPhone 5/5s/5c/se,iPad Pro,iPad Air 1/2,iPad mini 1/2/3,iPod nano7,iPod touch and more apple devices.|Fast Charge&Data Sync : It can charge and sync simultaneously at a rapid speed, Compatible with any charging adaptor, multi-port charging station or power bank.|Durability : Durable nylon braided design with premium aluminum housing and toughened nylon fiber wound tightly around the cord lending it superior durability and adding a bit to its flexibility.|High Security Level : It is designed to fully protect your device from damaging excessive current.Copper core thick+Multilayer shielding, Anti-interference, Protective circuit equipment.|WARRANTY: 12 months warranty and friendly customer services, ensures the long-time enjoyment of your purchase. If you meet any question or problem, please don't hesitate to contact us.",
         "AG3D6O4STAQKAY2UVGEUV46KN35Q,AHMY5CWJMMK5BJRBBSNLYT3ONILA,AHCTC6ULH4XB6YHDY6PCH2R772LQ,AGYHHIERNXKA6P5T7CZLXKVPT7IQ,AG4OGOFWXJZTQ2HKYIOCOY3KXF2Q,AENGU523SXMOS7JPDTW52PNNVWGQ,AEQJHCVTNINBS4FKTBGQRQTGTE5Q,AFC3FFC5PKFF5PMA52S3VCHOZ5FQ",
         "Manav,Adarsh gupta,Sundeep,S.Sayeed Ahmed,jaspreet singh,Khaja moin,Anand,S.ARUMUGAM",
         "R3HXWT0LRP0NMF,R2AJM3LFTLZHFO,R6AQJGUP6P86,R1KD19VHEDV0OR,R3C02RMYQMK6FC,R39GQRVBUZBWGY,R2K9EDOE15QIRJ,R3OI7YT648TL8I",
         "Satisfied,Charging is really fast,Value for money,Product review,Good quality,Good product,Good Product,As of now seems good",
         "Looks durable Charging is fine tooNo complains,Charging is really fast, good product.,Till now satisfied with the quality.,This is a good product . The charging speed is slower than the original iPhone cable,Good quality, would recommend,https://m.media-amazon.com/images/W/WEBP_402378-T1/images/I/81---F1ZgHL._SY88.jpg,Product had worked well till date and was having no issue.Cable is also sturdy enough...Have asked for replacement and company is doing the same...,Value for money",
         "https://m.media-amazon.com/images/W/WEBP_402378-T1/images/I/51UsScvHQNL._SX300_SY300_QL70_FMwebp_.jpg",
         "https://www.amazon.in/Wayona-Braided-WN3LG1-Syncing-Charging/dp/B07JW9H4J1/ref=sr_1_1?qid=1672909124&s=electronics&sr=1-1"
        ],
        [
         "B098NS6PVG",
         "Ambrane Unbreakable 60W / 3A Fast Charging 1.5m Braided Type C Cable for Smartphones, Tablets, Laptops & other Type C devices, PD Technology, 480Mbps Data Sync, Quick Charge 3.0 (RCT15A, Black)",
         "Computers&Accessories|Accessories&Peripherals|Cables&Accessories|Cables|USBCables",
         199.0,
         349.0,
         43.0,
         4.0,
         348.2177914110429,
         "Compatible with all Type C enabled devices, be it an android smartphone (Mi, Samsung, Oppo, Vivo, Realme, OnePlus, etc), tablet, laptop (Macbook, Chromebook, etc)|Supports Quick Charging (2.0/3.0)|Unbreakable – Made of special braided outer with rugged interior bindings, it is ultra-durable cable that won’t be affected by daily rough usage|Ideal Length – It has ideal length of 1.5 meters which is neither too short like your typical 1meter cable or too long like a 2meters cable|Supports maximum 3A fast charging and 480 Mbps data transfer speed|6 months manufacturer warranty from the date of purchase",
         "AECPFYFQVRUWC3KGNLJIOREFP5LQ,AGYYVPDD7YG7FYNBXNGXZJT525AQ,AHONIZU3ICIEHQIGQ6R2VFRSBXOQ,AFPHD2CRPDZMWMBL7WXRSVYWS5JA,AEZ346GX3HJ4O4XNRPHCNHXQURMQ,AEPSWFPNECKO34PUC7I56ITGXR6Q,AHWVEHR5DYLVFTO2KF3IZATFQSWQ,AH4QT33M55677I7ISQOAKEQWACYQ",
         "ArdKn,Nirbhay kumar,Sagar Viswanathan,Asp,Placeholder,BharanI,sonia,Niam",
         "RGIQEG07R9HS2,R1SMWZQ86XIN8U,R2J3Y1WL29GWDE,RYGGS0M09S3KY,R17KQRUTAN5DKS,R3AAQGS6HP2QUK,R1HDNOG6TO2CCA,R3PHKXYA5AFEOU",
         "A Good Braided Cable for Your Type C Device,Good quality product from ambrane,Super cable,As,Good quality,Good product,its good,Good quality for the price but one issue with my unit",
         "I ordered this cable to connect my phone to Android Auto of car. The cable is really strong and the connection ports are really well made. I already has a Micro USB cable from Ambrane and it's still in good shape. I connected my phone to the car using the cable and it got connected well and no issues. I also connected it to the charging port and yes it has Fast Charging support.,It quality is good at this price and the main thing is that i didn't ever thought that this cable will be so long it's good one and charging power is too good and also supports fast charging,Value for money, with extra length👍,Good, working fine,Product quality is good,Good,very good,Bought for my daughter's old phone.Brand new cable it was not charging, I already repacked and requested for replacement.I checked again, and there was some green colour paste/fungus inside the micro USB connector. I cleaned with an alcoholic and starts working again.Checked the ampere of charging speed got around 1400ma-1500ma - not bad, came with braided 1.5m long cable, pretty impressive for the price.Can't blame the manufacturer.But quality issues by the distributor, they might have stored in very humid place.",
         "https://m.media-amazon.com/images/W/WEBP_402378-T2/images/I/31zOsqQOAOL._SY445_SX342_QL70_FMwebp_.jpg",
         "https://www.amazon.in/Ambrane-Unbreakable-Charging-Braided-Cable/dp/B098NS6PVG/ref=sr_1_2?qid=1672909124&s=electronics&sr=1-2"
        ],
        [
         "B096MSW6CT",
         "Sounce Fast Phone Charging Cable & Data Sync USB Cable Compatible for iPhone 13, 12,11, X, 8, 7, 6, 5, iPad Air, Pro, Mini & iOS Devices",
         "Computers&Accessories|Accessories&Peripherals|Cables&Accessories|Cables|USBCables",
         199.0,
         1899.0,
         90.0,
         3.9,
         348.2177914110429,
         "【 Fast Charger& Data Sync】-With built-in safety proctections and four-core copper wires promote maximum signal quality and strength and enhance charging & data transfer speed with up to 480 mb/s transferring speed.|【 Compatibility】-Compatible with iPhone 13, 12,11, X, 8, 7, 6, 5, iPad Air, Pro, Mini & iOS devices.|【 Sturdy & Durable】-The jacket and enforced connector made of TPE and premium copper, are resistant to repeatedly bending and coiling.|【 Ultra High Quality】: According to the experimental results, the fishbone design can accept at least 20,000 bending and insertion tests for extra protection and durability. Upgraded 3D aluminum connector and exclusive laser welding technology, which to ensure the metal part won't break and also have a tighter connection which fits well even with a protective case on and will never loose connection.|【 Good After Sales Service】-Our friendly and reliable customer service will respond to you within 24 hours ! you can purchase with confidence,and every sale includes a 365-day worry-free Service to prove the importance we set on quality.",
         "AGU3BBQ2V2DDAMOAKGFAWDDQ6QHA,AESFLDV2PT363T2AQLWQOWZ4N3OA,AHTPQRIMGUD4BYR5YIHBH3CCGEFQ,AEUVWXYP5LT7PZLLZENEO2NODPBQ,AHC7MPW55DOO6WNCOQVA2VHOD26A,AFDI6FRPFBTNBG7BAEB7JDJSMKDQ,AFQKCEEEKXCOHTDG4WUN3XPPHJQQ,AHKUUFNMBZIDLSSPA4FEHIO2EC7Q",
         "Kunal,Himanshu,viswanath,sai niharka,saqib malik,Aashiq,Ramu Challa,Sanjay gupta",
         "R3J3EQQ9TZI5ZJ,R3E7WBGK7ID0KV,RWU79XKQ6I1QF,R25X4TBMPY91LX,R27OK7G99VK0TR,R207CYDCHJJTCJ,R3PCU8XMU173BT,R1IMONDOWRNU5V",
         "Good speed for earlier versions,Good Product,Working good,Good for the price,Good,Worth for money,Working nice,it's a really nice product",
         "Not quite durable and sturdy,https://m.media-amazon.com/images/W/WEBP_402378-T1/images/I/71rIggrbUCL._SY88.jpg,Working good,https://m.media-amazon.com/images/W/WEBP_402378-T1/images/I/61bKp9YO6wL._SY88.jpg,Product,Very nice product,Working well,It's a really nice product",
         "https://m.media-amazon.com/images/W/WEBP_402378-T1/images/I/31IvNJZnmdL._SY445_SX342_QL70_FMwebp_.jpg",
         "https://www.amazon.in/Sounce-iPhone-Charging-Compatible-Devices/dp/B096MSW6CT/ref=sr_1_3?qid=1672909124&s=electronics&sr=1-3"
        ],
        [
         "B08HDJ86NZ",
         "boAt Deuce USB 300 2 in 1 Type-C & Micro USB Stress Resistant, Tangle-Free, Sturdy Cable with 3A Fast Charging & 480mbps Data Transmission, 10000+ Bends Lifespan and Extended 1.5m Length(Martian Red)",
         "Computers&Accessories|Accessories&Peripherals|Cables&Accessories|Cables|USBCables",
         329.0,
         699.0,
         53.0,
         4.2,
         348.2177914110429,
         "The boAt Deuce USB 300 2 in 1 cable is compatible with smartphones, tablets, PC peripherals, Bluetooth speakers, power banks and all other devices with Type-C as well as Micro USB port|It ensures 3A fast charging and data transmissions with rapid sync at 480 mbps|The premium Nylon braided skin makes it sturdy and invincible against external damage|Its Aluminium alloy shell housing makes it last longer with 10000+ Bends Lifespan with extended frame protection for strain relief|The resilient and flexible design offers a tangle free experience seamlessly|Deuce USB 300 cable offers a perfect 1.5 meters in length for smooth & hassle-free user experience|2 years warranty from the date of purchase",
         "AEWAZDZZJLQUYVOVGBEUKSLXHQ5A,AG5HTSFRRE6NL3M5SGCUQBP7YSCA,AH725ST5NW2Y4JZPKUNTIJCUK2BA,AHV3TXIFCJPMS4D5JATCEUR266MQ,AGWIGDEMFIIUAOXYY2QATNBSUGHA,AFSTSLQUV4EVEXWKBOLEFHL2H5YQ,AGAKDNBHY2FKX7I4ACRGILU7QL7A,AFNWJUWJRHCC6HN52KMG5AKZY37Q",
         "Omkar dhale,JD,HEMALATHA,Ajwadh a.,amar singh chouhan,Ravi Siddan,Himanshu Goel,Udaykumar",
         "R3EEUZKKK9J36I,R3HJVYCLYOY554,REDECAZ7AMPQC,R1CLH2ULIVG5U3,R2DMKIBGFKBD6R,RC89B5IAJUTR5,R3B3DDON5FH8DS,R13WAEJDI5RS36",
         "Good product,Good one,Nice,Really nice product,Very first time change,Good,Fine product but could be better,Very nice it's charging like jet",
         "Good product,long wire,Charges good,Nice,I bought this cable for Rs.339 worthy product for this price, i tested it in various charger adapters 33w and 18w it supports fast charging as well.,Good,Ok,I had got this at good price on sale on Amazon and product is useful with warranty but for warranty you need to go very far not practical for such a cost and mine micro to type c connector stopped working after few days only.,I like this product",
         "https://m.media-amazon.com/images/I/41V5FtEWPkL._SX300_SY300_QL70_FMwebp_.jpg",
         "https://www.amazon.in/Deuce-300-Resistant-Tangle-Free-Transmission/dp/B08HDJ86NZ/ref=sr_1_4?qid=1672909124&s=electronics&sr=1-4"
        ],
        [
         "B08CF3B7N1",
         "Portronics Konnect L 1.2M Fast Charging 3A 8 Pin USB Cable with Charge & Sync Function for iPhone, iPad (Grey)",
         "Computers&Accessories|Accessories&Peripherals|Cables&Accessories|Cables|USBCables",
         154.0,
         399.0,
         61.0,
         4.2,
         348.2177914110429,
         "[CHARGE & SYNC FUNCTION]- This cable comes with charging & Data sync function|[HIGH QUALITY MATERIAL]- TPE + Nylon Material to make sure that the life of the cable is enhanced significantly|[LONG CORD]- The Cable is extra thick 1.2 meter long, optimized for an easy use for your comfort at home or office|[MORE DURABLE]-This cable is unique interms of design and multi-use and is positioned to provide the best comfort and performance while using|[UNIVERSAL COMPATIBILITY]- Compatible with all devices like iPhone XS, X, XR, 8, 7, 6S, 6, 5S, iPad Pro, iPad mini and iPad Air",
         "AE3Q6KSUK5P75D5HFYHCRAOLODSA,AFUGIFH5ZAFXRDSZHM4QB2KPKFUQ,AFK4NJOLFSJGWLOJIUIAROJF6YVA,AFUOTYRFUXVPEBGIXVZZ7DR3CZUA,AFDLRSXKDZ6U3U3KD46SQLFGZQRA,AH5VLM66SIK7J3IRG4NY7XVOQ55A,AE3MQNNHHLUHXURL5S7IAR7JTGNQ,AFSEOFZY67MYC7UAJU264Z5NFTLA",
         "rahuls6099,Swasat Borah,Ajay Wadke,Pranali,RVK,Bhargav,Durai Vignesh,Amazon Customer",
         "R1BP4L2HH9TFUP,R16PVJEXKV6QZS,R2UPDB81N66T4P,R3KK4GT934ST3I,RCFHMWUSBIJO,RDO7DACXMAJ84,R3A6MEZL3LY66Z,R1ESIEKPGAYA29",
         "As good as original,Decent,Good one for secondary use,Best quality,GOOD,Amazing product at a mind blowing price!,Nice Quality,Good product",
         "Bought this instead of original apple, does the work for 150rs, not as fast as apple charger but its a good option if you want cheap and good product, bought it for iPad pro 10.5 and it's working flawlessly, build quality is ok, its not like i am gonna hang my clothes on it and i want a very strong cable, even a braided cable stop working after a year, i have used both Anker and Apple store strong braided cable they all stop working after a year so please don't buy high end cables just for that instead choose a this one and even if it's stops working withing a year you only loose 150rs compares to 2000rs.UPDATE------------------------------------pin has stopped charging from one side, now i have to slip the pin to charge from other side, but i will update and let know for how long does it work,,It’s good. Not sure about durability as the pin area feels a bit fragile,Does not support apple carplaySo was little disappointed about thatOther than that cable is made up of very good quality,Best to buy,100% NOT FATHFUL,Writing this review post 10 months and 3 orders of the same product.Honestly Portronics Konnect L lightning cable works like magic with the original Apple charging brick.Seeing the price of the cable I initially hesitated buying as it was as low as ₹99/- with the offers and so I wasn’t sure if it would work well with my iPhone 12 or whether it would impact my iPhone’s battery health because all the other lightning cable brands were costing over ₹350/- like Wayona, Amazon Basics, etc.Earlier I was using Wayona Brand lightning cable with eventually frayed and stopped working.Charging Speed:Charges my iPhone fast enough almost similar compared to the original cable level when used with 12W Original Apple power adapter.Quality and Durability:Great quality braided cable and doesn’t tangle easily and can withstand day-to-day usage.L-Shaped pin:This is very innovative by Portronics and it makes sure the cable doesn’t get damaged even if used while charging.CarPlay and Data Sync:Works smoothly with CarPlay and syncs data effortlessly.PS: I have used this cable only with the Original Apple Charging Brick and extremely satisfied with its performance.,Better than I expect the product I like that Quality and I plan to buy same type cable come with usb C to Lighting cable for emergency purpose that much I love this cable. Buy for this cable only emergency uses only since Good one,Good product and value for money",
         "https://m.media-amazon.com/images/W/WEBP_402378-T2/images/I/31VzNhhqifL._SX300_SY300_QL70_FMwebp_.jpg",
         "https://www.amazon.in/Portronics-Konnect-POR-1080-Charging-Function/dp/B08CF3B7N1/ref=sr_1_5?qid=1672909124&s=electronics&sr=1-5"
        ],
        [
         "B08Y1TFSP6",
         "pTron Solero TB301 3A Type-C Data and Fast Charging Cable, Made in India, 480Mbps Data Sync, Strong and Durable 1.5-Meter Nylon Braided USB Cable for Type-C Devices for Charging Adapter (Black)",
         "Computers&Accessories|Accessories&Peripherals|Cables&Accessories|Cables|USBCables",
         149.0,
         1000.0,
         85.0,
         3.9,
         348.2177914110429,
         "Fast Charging & Data Sync: Solero TB301 Type-C cable supports fast charge up to 5V/3A for devices and data syncing speed up to 480Mbps.|Universal Compatibility: This USB charging cable connects USB Type-C devices with standard USB devices like laptops, hard drives, power banks, wall and car chargers, etc..Connector One: Reversible Type C|Connector Two: USB A Type|Rough & Tough Type-C Cable: Charging cable with a double-braided exterior, premium aramid fiber core and metal plugs. It has passed 10,000 bending tests and can easily withstand daily use.|Extended Length: 1.5-meter long c-type cable uses nylon material to protect the wire and avoid knots.|Perfect Fit Connectors: pTron Soler USB-C has passed the 5KG load test, swing test, 5000+ times connect & disconnect to ensure that there are no loose connections.",
         "AEQ2YMXSZWEOHK2EHTNLOS56YTZQ,AGRVINWECNY7323CWFXZYYIZOFTQ,AHBAT6VLOXWGYDL57KHCNCLPXAKA,AF7NDY2H6JVYTSQOZP76GCATQ34Q,AFV7ZA733ZLME4KNLZPMPCBUNPPA,AHFAAPSY2MJ5HYOU2VQDJ7AQY4NQ,AH2WGV2PEBUTICRPBEEVKF24G5LA,AEP4MK3EKOBDKTGPJTRN5RBDIODA",
         "Jayesh,Rajesh k.,Soopy,amazon customer,Aman,Shankar,dinesh,Chitra,Ajaybabu.O.M",
         "R7S8ANNSDPR40,R3CLZFLHVJU26P,RFF7U7MPQFUGR,R1MV1NKC23DWPI,R11D3U0V2XKDKF,R18MP1KLUE18PC,RWGJNVEH5ZQME,R1XN72FU6Q37IH",
         "It's pretty good,Average quality,very good and useful usb cable,Good USB cable. My experience was very good it is long lasting,Good,Nice product and useful,-,Sturdy but does not support 33w charging",
         "It's a good product.,Like,Very good item strong and useful USB cableValue for moneyThanks to amazon and producer,https://m.media-amazon.com/images/I/51112ZRE-1L._SY88.jpg,Good,Nice product and useful product,-,Sturdy but does not support 33w charging",
         "https://m.media-amazon.com/images/I/31wOPjcSxlL._SX300_SY300_QL70_FMwebp_.jpg",
         "https://www.amazon.in/Solero-TB301-Charging-480Mbps-1-5-Meter/dp/B08Y1TFSP6/ref=sr_1_6?qid=1672909124&s=electronics&sr=1-6"
        ],
        [
         "B08WRWPM22",
         "boAt Micro USB 55 Tangle-free, Sturdy Micro USB Cable with 3A Fast Charging & 480mbps Data Transmission (Black)",
         "Computers&Accessories|Accessories&Peripherals|Cables&Accessories|Cables|USBCables",
         176.63,
         499.0,
         65.0,
         4.1,
         348.2177914110429,
         "It Ensures High Speed Transmission And Charging By Offering 3A Fast Charging And Data Transmissions With Rapid Sync At 480 Mbps|The Braided Skin Makes It Durable And Invincible Against External Damage So You Can Have An Absolute Hassle-Free & Tangle Free Experience|Its Durable Pvc Housing And The Flexible Design Makes It Last 6 Times Longer Than Other Cables|Usb Cable Offers A Perfect 1.5 Meters In Length For Smooth & Hassle-Free User Experience For Superior Charging & Data Transfer Tasks|The Compact And Smooth Aluminium Connector Fits Most Cases Seamlessly And Resists Corrosion For Signal Purity|Micro Usb 55 Cable Offers Universal Compatibility As It Is Compatible With Most Android Smartphones, Tablets, Pc Peripherals, Bluetooth Speakers, Power Banks, Game Consoles & All Micro-Usb Enabled Devices|2 years warranty from the date of purchase",
         "AG7C6DAADCTRQJG2BRS3RIKDT52Q,AFU7BOMPVJ7Q3TTA4G67RASTGYIQ,AER5ZGIXXVYG3AWZTRZT7M2BYCEA,AHE76XQSOLGOP5ZEKTIW6KUPDWBQ,AGXTMB2XHZBEWZ2UIX7ODZ4XTU6Q,AHNM2XVU745EDPNGUOAG74PTSNRA,AH5RWQ4S72IVLZD6O75OPCFIVDXQ,AG322TYKVPLPBDXE7ABEUK5QTALQ",
         "Vivek kumar,Amazon Customer,SARTHAK,Chiranjeevi,V V GIRI KUMAR,Rajnandini,Akshay Talla,sudhanshu chaubey",
         "R8E73K2KWJRDS,RSD0JTIIWQQL8,R64CRSTE9SLW1,R2FRTNIIUFJE1F,RWGNX3W7UOJ7W,R32TYHHODHTF5D,RQL9ZMQUTY7P2,R280XJ5VZUBOXV",
         "Long durable.,good,Does not charge Lenovo m8 tab,Best charging cable,good,Boat,Product was good,1.5 m का केबल मेरे लिए बहुत ही लाभदायक है ।",
         "Build quality is good and it is comes with 2 year warranty.,Good Product,Bought it for charging my mobile & tab but it doesn't work for Lenovo m8 tab,Guys this cable is is best compare of everyone over heat protection, quickly charging, but chance to shock circuit,good,Nice,Good quality,1.5एम का डाटा केबल मेरे लिए बहुत ही लाभदायक है ।  मैं इस केबल को लाइन में चार्ज करते समय फोन बहुत आराम से उपयोग  कर पा रहा हु । आप इस केबल से 15watt का  चार्जर उसे कर सकते है (इससे जड़ा नही) । लोकल बाजार में इसका दाम 150 है ,  अमेजन पे ये केबल मुझे 67 में मिला । गर्व से कहो हम हिंदू है , जय हिंद जय भारत ,",
         "https://m.media-amazon.com/images/W/WEBP_402378-T2/images/I/41jlwEZpa5L._SX300_SY300_QL70_FMwebp_.jpg",
         "https://www.amazon.in/boAt-Micro-USB-Tangle-Free-Transmission/dp/B08WRWPM22/ref=sr_1_8?qid=1672909124&s=electronics&sr=1-8"
        ],
        [
         "B08DDRGWTJ",
         "MI Usb Type-C Cable Smartphone (Black)",
         "Computers&Accessories|Accessories&Peripherals|Cables&Accessories|Cables|USBCables",
         229.0,
         299.0,
         23.0,
         4.3,
         348.2177914110429,
         "1m long Type-C USB Cable|Sturdy and Durable. With USB cable you can transfer data with speeds of upto 480 Mbps|Upto 3A output|6months warranty|Sturdy and Durable. With USB cable you can transfer data with speeds of upto 480 Mbps|6months warranty|Up To 3A Output",
         "AHW6E5LQ2BDYOIVLAJGDH45J5V5Q,AF74RSGCHPZITVFSZN76K6GKPICA,AHDD7ZNB47QA2JLYU53HD4ML3VNQ,AHV3ELGDSOWBYUQLXSPDCSHBQRHQ,AEJU4L3ZM2GTILSJZZSNSF6VUOIA,AFVD66VQMSHPDT3A6HBBBGKRXBZA,AELKHQXVSSG6NHXLFJLLNEFRQQUQ,AGYSMAC6V6RFJJOHG2FIRPOZ6CSQ",
         "Pavan A H,Jayesh bagad,Shridhar,rajendran,karuppu k,Akshay wani,Abbimaniu Singh,VISHAL H BADSHE",
         "R2X090D1YHACKR,R32ZCIH9AFNJ60,R3N57EVVG0EHAF,R3QWLE8JHROKC1,R2VTSDOOUTSQ5X,R3E6FZ75Q074KH,R1SYBQLTPFCW20,RYQT96J8HPIXE",
         "Worth for money - suitable for Android auto,Good Product,Length,Nice,Original,Very good quay Cable support fast charging.,Original MI cable for charging upto 33 watt,I am veri happy with this product as it provide turbo charging.",
         "Worth for money - suitable for Android auto... my purpose served in car....got it for Rs.150,Everything is Okay. But packaging is not good feeling like seller gave is used cable.,Good product,Good product but cost is more.,Original cable,I bought this cable at 129. Using this cable for Android auto in my car. Perfectly works without any glitch.,Original MI cable. Will charge upto 33 watts. Got it for Rs 150.  I have 67 watt charger and I want a cable for my car so I went for it. I checked the performance with battery charging app. The charging speed is exactly half of my 67 watt original cable. Go for it.,It provided me turbo charging. I recommend for all Redmi note 10s mobile phones. As it provide turbo charging. I am veri happy with this product.",
         "https://m.media-amazon.com/images/I/31XO-wfGGGL._SX300_SY300_QL70_FMwebp_.jpg",
         "https://www.amazon.in/MI-MTCY001IN-USB-Type-C-Cable/dp/B08DDRGWTJ/ref=sr_1_9?qid=1672909124&s=electronics&sr=1-9"
        ],
        [
         "B008IFXQFU",
         "TP-Link USB WiFi Adapter for PC(TL-WN725N), N150 Wireless Network Adapter for Desktop - Nano Size WiFi Dongle Compatible with Windows 11/10/7/8/8.1/XP/ Mac OS 10.9-10.15 Linux Kernel 2.6.18-4.4.3",
         "Computers&Accessories|NetworkingDevices|NetworkAdapters|WirelessUSBAdapters",
         499.0,
         999.0,
         50.0,
         4.2,
         348.2177914110429,
         "USB WiFi Adapter —— Speedy wireless transmission at up to 150Mbps ideal for video streaming or internet calls|Mini Design —— Sleek miniature design so small that once plugged in, can be left in a Laptop’s USB port|Advanced Security —— Supports 64/128 WEP, WPA, PA2/WPA-PSK/WPA2-PSK(TKIP/AES)|Compatibility —— Windows 11/10/8.1/8/7/XP, Mac OS 10.15 and earlier, Linux|Easy Setup —— Connect in no time with easy setup utility in 14 languages|In an unlikely case of product quality related issue, we may ask you to reach out to brand’s customer service support and seek resolution. We will require brand proof of issue to process replacement request",
         "AGV3IEFANZCKECFGUM42MRH5FNOA,AEBO7NWCNXKT4AESAN443HQH35FQ,AE7GD3VRRYQEAHDR7FXJIR23INYA,AHPAW24BI5X2GCX5M2LHI72VSJJQ,AE2VXY4CFO36MDSIMPG43XHNF4GA,AHHQEKUNVETALN7DTRHUQ2WAWEKQ,AFMIFTNTUD5PIHGONWOTRMMZ5EBA,AHOJBIZVVIIFJKRREY4B6ESVA4KA",
         "Azhar JuMan,Anirudh Sood,Hari Krishnan PS,Akash Jindal,PRADEEP,Rajesh,Divya Kothari,abhijit",
         "R1LW6NWSVTVZ2H,R3VR5WFKUS15C5,R2F6GC79OYWUKQ,R3QZ19MECGWG9A,R2MPU42MYK7GPO,R33DVXFB4VYPZZ,R1SQ7OGFR4JRUR,R1S5F9QI0M1VBZ",
         "Works on linux for me. Get the model with antenna.,Does what it say but other brands available at lesser price,Easy Handle,Great product,Perfect working,Speed is perfect,Great Design, Build, Connectivity Range, Packaging and other features but no linux support since v2,Very good",
         "I use this to connect an old PC to internet. I tried lubuntu 20 and ubuntu 22, it worked out of the box in both, didn't have to do any setup. There's an extender cable so you can place this in a comfortable place. Get the model with antenna because otherwise you'll have range problems if you're not directly in line of sight from your wifi router.,The wifi dongle is a simple plug & play device, will start catching available networks right after you plug it into your USB port, no additional installations/ softwares requires. Signal strength is good.... just wonder what would be different in other adapters of lesser known brands which are available at a much more competitive pricing, hence a star less.,Pros:*Easy to use & Portable*Can be connected to Mobile Hotspot and used in PC( Budget Friendly)*Less installation process*No heating issues & Good Coverage*Best alternative for USB Tethering (phone's battery may get damaged for long term run with Tethering)Cons:*Internet connection speed varies at times, also depends on your modem or cellular connection*Issues occur while installing via CD, which is available along with the product( Installation driver can be downloaded from TP-Link site)*Needed to reconnect the adapter every time system is turned ON*Will not work if your software has some issues, so encountered any just update your system(worked for me)*Support Center is worse, calls are unattended most of the times or just visit nearby storeConclusion:Brought this @499/-Ideal for users who don't need very high speed internet usage,a good alternative for USB Tethering and are on Budge(1080p Youtube videos can be easily played with this without any interruptions),wifi connectivity is a great good result for me. however, some jitter problems did exist.,This is perfect device to connect wifi. Go for it.,This wifi adopter is good working,(Pictures attached)Size/Design:  ★ ★ ★ ★ ★Build Quality: ★ ★ ★ ★ ★Packaging:  ★ ★ ★ ★ ★Software:  ★ ★ ★ ★Speed:  ★ ★ ★ ★ ★Connectivity:  ★ ★ ★ ★ ★Experience:  ★ ★ ★ ★ ★Warranty:  ★ ★ ★ ★ ★Size and Design:The best part about this is that it is very compact in size and very sober and elegant in design. This is a big plus as it is easy plug in and use, add to it the good sober design.Build Quality:The build quality is undoubtedly superb. Just no qualms about that, at all. When held, it doesnt give off that cheap and flimsy product-like feeling. It is good sturdy with its build quality.Packaging:This part is also a big plus as the item was well cushioned and packaged with all the necessary items that ensured that no damage could have been caused to the product during transportation. This ensures that I as a customer have received something not damaged internally already.Software:This is actually good but not great part with the product.The good part is that a CD has been provided with it along with a manual.The not great part is that NO LINUX SUPPORT has been given from Version 2 onwards. This is bad, really.Speed:It easily supports net speeds upto 300 Mbps. Practically speaking, I have tested it at my home and it easily supports net speed of over 100-150 Mbps without a sigh.On testing I found that it did connect to 5GHz network, without any issue.Connectivity:Please mark its not feet its metres. Multiply metres x 3 to get the distance in feet.It easily connects to my laptop or phone from 7 metres across one room. So thats 21 feet. I mean even our old bluetooth used to connect to about 15 ft.So 20-25 feet is not at all an issue with this. This is the big plus I found with the product.Experience:From this point of view, so far except the linux non-compatibility issue, I found no other flaws with this product.So overall its a great product.Warranty:Its 3 years so I am assured that atleast for 3 years I am tension-free and not just 1 year, contrary to most electronic items today that only provide 1 year warranty with their items.,Best adapter I have bought ever. Works nicely seemless connectivity",
         "https://m.media-amazon.com/images/W/WEBP_402378-T2/images/I/31e6ElWRymL._SX300_SY300_QL70_FMwebp_.jpg",
         "https://www.amazon.in/TP-Link-TL-WN725N-150Mbps-Wireless-Adapter/dp/B008IFXQFU/ref=sr_1_10?qid=1672909124&s=electronics&sr=1-10"
        ],
        [
         "B082LZGK39",
         "Ambrane Unbreakable 60W / 3A Fast Charging 1.5m Braided Micro USB Cable for Smartphones, Tablets, Laptops & Other Micro USB Devices, 480Mbps Data Sync, Quick Charge 3.0 (RCM15, Black)",
         "Computers&Accessories|Accessories&Peripherals|Cables&Accessories|Cables|USBCables",
         199.0,
         299.0,
         33.0,
         4.0,
         348.2177914110429,
         "Universal Compatibility – It is compatible with all Micro USB enabled devices, be it an android smartphone, tablet, PC peripheral or any other micro USB compatible device|Unbreakable – Made of special braided outer with rugged interior bindings, it is ultra-durable cable that won’t be affected by daily rough usage|Ideal Length – It has ideal length of 1.5 meters which is neither too short like your typical 1meter cable or too long like a 2meters cable|Supports maximum 3A fast charging and 480 Mbps data transfer speed|6 Months manufacturer warranty from the date of purchase.",
         "AECPFYFQVRUWC3KGNLJIOREFP5LQ,AGYYVPDD7YG7FYNBXNGXZJT525AQ,AHONIZU3ICIEHQIGQ6R2VFRSBXOQ,AFPHD2CRPDZMWMBL7WXRSVYWS5JA,AEZ346GX3HJ4O4XNRPHCNHXQURMQ,AEPSWFPNECKO34PUC7I56ITGXR6Q,AHWVEHR5DYLVFTO2KF3IZATFQSWQ,AH4QT33M55677I7ISQOAKEQWACYQ",
         "ArdKn,Nirbhay kumar,Sagar Viswanathan,Asp,Placeholder,BharanI,sonia,Niam",
         "RGIQEG07R9HS2,R1SMWZQ86XIN8U,R2J3Y1WL29GWDE,RYGGS0M09S3KY,R17KQRUTAN5DKS,R3AAQGS6HP2QUK,R1HDNOG6TO2CCA,R3PHKXYA5AFEOU",
         "A Good Braided Cable for Your Type C Device,Good quality product from ambrane,Super cable,As,Good quality,Good product,its good,Good quality for the price but one issue with my unit",
         "I ordered this cable to connect my phone to Android Auto of car. The cable is really strong and the connection ports are really well made. I already has a Micro USB cable from Ambrane and it's still in good shape. I connected my phone to the car using the cable and it got connected well and no issues. I also connected it to the charging port and yes it has Fast Charging support.,It quality is good at this price and the main thing is that i didn't ever thought that this cable will be so long it's good one and charging power is too good and also supports fast charging,Value for money, with extra length👍,Good, working fine,Product quality is good,Good,very good,Bought for my daughter's old phone.Brand new cable it was not charging, I already repacked and requested for replacement.I checked again, and there was some green colour paste/fungus inside the micro USB connector. I cleaned with an alcoholic and starts working again.Checked the ampere of charging speed got around 1400ma-1500ma - not bad, came with braided 1.5m long cable, pretty impressive for the price.Can't blame the manufacturer.But quality issues by the distributor, they might have stored in very humid place.",
         "https://m.media-amazon.com/images/W/WEBP_402378-T2/images/I/31kj3q4SepL._SY445_SX342_QL70_FMwebp_.jpg",
         "https://www.amazon.in/Ambrane-Unbreakable-Charging-Braided-Android/dp/B082LZGK39/ref=sr_1_11?qid=1672909124&s=electronics&sr=1-11"
        ]
       ],
       "datasetInfos": [],
       "dbfsResultPath": null,
       "isJsonSchema": true,
       "metadata": {},
       "overflow": false,
       "plotOptions": {
        "customPlotOptions": {},
        "displayType": "table",
        "pivotAggregation": null,
        "pivotColumns": null,
        "xColumns": null,
        "yColumns": null
       },
       "removedWidgets": [],
       "schema": [
        {
         "metadata": "{}",
         "name": "product_id",
         "type": "\"string\""
        },
        {
         "metadata": "{}",
         "name": "product_name",
         "type": "\"string\""
        },
        {
         "metadata": "{}",
         "name": "category",
         "type": "\"string\""
        },
        {
         "metadata": "{}",
         "name": "discounted_price",
         "type": "\"double\""
        },
        {
         "metadata": "{}",
         "name": "actual_price",
         "type": "\"double\""
        },
        {
         "metadata": "{}",
         "name": "discount_percentage",
         "type": "\"double\""
        },
        {
         "metadata": "{}",
         "name": "rating",
         "type": "\"double\""
        },
        {
         "metadata": "{}",
         "name": "rating_count",
         "type": "\"double\""
        },
        {
         "metadata": "{}",
         "name": "about_product",
         "type": "\"string\""
        },
        {
         "metadata": "{}",
         "name": "user_id",
         "type": "\"string\""
        },
        {
         "metadata": "{}",
         "name": "user_name",
         "type": "\"string\""
        },
        {
         "metadata": "{}",
         "name": "review_id",
         "type": "\"string\""
        },
        {
         "metadata": "{}",
         "name": "review_title",
         "type": "\"string\""
        },
        {
         "metadata": "{}",
         "name": "review_content",
         "type": "\"string\""
        },
        {
         "metadata": "{}",
         "name": "img_link",
         "type": "\"string\""
        },
        {
         "metadata": "{}",
         "name": "product_link",
         "type": "\"string\""
        }
       ],
       "type": "table"
      }
     },
     "output_type": "display_data"
    }
   ],
   "source": [
    "%sql SELECT * FROM bronze.name_basics LIMIT 10"
   ]
  },
  {
   "cell_type": "markdown",
   "metadata": {
    "application/vnd.databricks.v1+cell": {
     "cellMetadata": {
      "byteLimit": 2048000,
      "rowLimit": 10000
     },
     "inputWidgets": {},
     "nuid": "c420aeb8-ef18-430b-8cee-8885205e3696",
     "showTitle": false,
     "tableResultSettingsMap": {},
     "title": ""
    }
   },
   "source": [
    "#3 - Modelagem de Dados\n",
    "## 3.1 Catálogo de Dados\n",
    "\n",
    "\n",
    "##Tabela de Fato: fact_product_reviews\n",
    "\n",
    "A tabela de fato contém dados quantitativos, ou seja, as métricas que você deseja analisar.\n",
    "\n",
    "Atributo\tTipo de Dado\tDescrição\tValor Esperado\tDomínio de Valores\n",
    "\n",
    "product_id\tVARCHAR(255)\tIdentificador único do produto.\tAlfanumérico\tValor único por produto.\n",
    "\n",
    "user_id\tVARCHAR(255)\tIdentificador único do usuário que fez a avaliação.\tAlfanumérico\tValor único por usuário.\n",
    "\n",
    "discounted_price\tDECIMAL(10,2)\tPreço com desconto do produto.\tNúmero decimal com 2 casas decimais.\tMínimo: 0. Máximo: depende do produto.\n",
    "\n",
    "actual_price\tDECIMAL(10,2)\tPreço original (sem desconto) do produto.\tNúmero decimal com 2 casas decimais.\tMínimo: 0. Máximo: depende do produto.\n",
    "\n",
    "discount_percentage\tDECIMAL(5,2)\tPercentual de desconto aplicado ao produto.\tNúmero decimal com até 2 casas decimais.\tMínimo: 0. Máximo: 100.\n",
    "\n",
    "rating\tDECIMAL(3,2)\tAvaliação média do produto (de 1 a 5 estrelas).\tNúmero decimal entre 1 e 5.\tMínimo: 1. Máximo: 5.\n",
    "\n",
    "rating_count\tINT\tQuantidade de avaliações feitas para o produto.\tNúmero inteiro positivo.\tMínimo: 0.\n",
    "\n",
    "review_id\tVARCHAR(255)\tIdentificador único da avaliação.\tAlfanumérico\tValor único por avaliação.\n",
    "\n",
    "##Tabela de Dimensão: dim_product\n",
    "\n",
    "A tabela de dimensão contém dados descritivos dos produtos.\n",
    "\n",
    "Atributo\tTipo de Dado\tDescrição\tValor Esperado\tDomínio de Valores\n",
    "\n",
    "product_id\tVARCHAR(255)\tIdentificador único do produto (chave primária).\tAlfanumérico\tValor único por produto.\n",
    "\n",
    "product_name\tVARCHAR(1000)\tNome do produto.\tTexto\tString com nome do produto.\n",
    "\n",
    "category\tVARCHAR(255)\tCategoria do produto, incluindo subcategorias.\tTexto\tString representando categoria.\n",
    "\n",
    "about_product\tSTRING\tDescrição detalhada do produto.\tTexto\tString com informações detalhadas do produto.\n",
    "\n",
    "product_link\tVARCHAR(255)\tLink para a página do produto.\tURL\tURL válida do produto.\n",
    "\n",
    "img_link\tVARCHAR(255)\tLink para a imagem do produto.\tURL\tURL válida da imagem do produto.\n",
    "\n",
    "##Tabela de Dimensão: dim_user1\n",
    "\n",
    "A tabela de dimensão contém dados descritivos sobre os usuários.\n",
    "\n",
    "Atributo\tTipo de Dado\tDescrição\tValor Esperado\tDomínio de Valores\n",
    "user_id\tVARCHAR(255)\tIdentificador único do usuário.\tAlfanumérico\tValor único por usuário.\n",
    "\n",
    "user_name\tVARCHAR(255)\tNome do usuário.\tTexto\tNome do usuário.\n",
    "\n",
    "##Tabela de Dimensão: dim_review\n",
    "A tabela de dimensão contém detalhes das avaliações feitas pelos usuários.\n",
    "\n",
    "Atributo\tTipo de Dado\tDescrição\tValor Esperado\tDomínio de Valores\n",
    "\n",
    "review_id\tVARCHAR(255)\tIdentificador único da avaliação.\tAlfanumérico\tValor único por avaliação.\n",
    "\n",
    "review_title\tVARCHAR(1000)\tTítulo da avaliação.\tTexto\tString com título da avaliação.\n",
    "\n",
    "review_content\tSTRING\tConteúdo completo da avaliação.\tTexto\tString com conteúdo da avaliação.\n",
    "\n",
    "Esquema Estrela\n",
    "O modelo do esquema estrela é bem representado aqui:\n",
    "\n",
    "Tabela de Fato: fact_product_reviews\n",
    "\n",
    "Contém medidas como discounted_price, rating, rating_count, entre outras.\n",
    "\n",
    "Tabelas de Dimensão:\n",
    "\n",
    "dim_product: Descrição dos produtos.\n",
    "\n",
    "dim_user1: Informações sobre os usuários.\n",
    "\n",
    "dim_review: Detalhes das avaliações.\n"
   ]
  },
  {
   "cell_type": "markdown",
   "metadata": {
    "application/vnd.databricks.v1+cell": {
     "cellMetadata": {
      "byteLimit": 2048000,
      "rowLimit": 10000
     },
     "inputWidgets": {},
     "nuid": "cecd81c9-1a78-4099-90fd-4869434d05ee",
     "showTitle": false,
     "tableResultSettingsMap": {},
     "title": ""
    }
   },
   "source": [
    "## 3.2 Linhagem dos Dados:\n",
    "\n",
    "A linhagem de dados descreve a origem, o processo de transformação e o destino dos dados. \n",
    "\n",
    "Origem dos Dados:\n",
    "\n",
    "Os dados foram extraídos do conjunto de dados da Amazon do site Kaggle, onde os produtos e as avaliações de usuários são coletados.\n",
    "\n",
    "Processo de Transformação (ETL):\n",
    "\n",
    "- Foram removidos valores nulos ou inválidos,\n",
    "-  Os preços com símbolos monetários foram removidos e convertidos para o tipo float\n",
    "- remoção de duplicados,   \n",
    "- ajuste dos tipos de dados como conversões de string para float64.\n",
    "- filtragem de dados de produtos\n",
    "- Foram agrupados os dados por preço e rating\n",
    "- Agrupamento por categoria e cálculo de preços \n",
    "\n",
    "Carregamento nos Data Warehouses:\n",
    "\n",
    "Os dados transformados são carregados nas tabelas de dimensão (como dim_product, dim_user1, dim_review). As métricas quantitativas (como preços e avaliações) são carregadas na tabela de fato (fact_product_reviews).\n",
    "\n",
    "Consultas e Análises:\n",
    "\n",
    "A linhagem de dados facilita o rastreamento de como os dados foram transformados e de onde vieram. Isso garante que os dados usados nas análises sejam válidos e compreendidos."
   ]
  },
  {
   "cell_type": "markdown",
   "metadata": {
    "application/vnd.databricks.v1+cell": {
     "cellMetadata": {
      "byteLimit": 2048000,
      "rowLimit": 10000
     },
     "inputWidgets": {},
     "nuid": "f5b47bb1-aeda-4b72-8ac9-521c8ea16a01",
     "showTitle": false,
     "tableResultSettingsMap": {},
     "title": ""
    }
   },
   "source": [
    "\n",
    "## 3.3 Criação do modelo Esquema Estrela"
   ]
  },
  {
   "cell_type": "code",
   "execution_count": 0,
   "metadata": {
    "application/vnd.databricks.v1+cell": {
     "cellMetadata": {
      "byteLimit": 2048000,
      "rowLimit": 10000
     },
     "inputWidgets": {},
     "nuid": "f79bab51-6470-433a-8bce-17993cb64819",
     "showTitle": false,
     "tableResultSettingsMap": {},
     "title": ""
    }
   },
   "outputs": [
    {
     "output_type": "stream",
     "name": "stdout",
     "output_type": "stream",
     "text": [
      "Out[9]: True"
     ]
    }
   ],
   "source": [
    "dbutils.fs.rm(\"dbfs:/user/hive/warehouse/fact_product_reviews\", True)\n"
   ]
  },
  {
   "cell_type": "code",
   "execution_count": 0,
   "metadata": {
    "application/vnd.databricks.v1+cell": {
     "cellMetadata": {
      "byteLimit": 2048000,
      "rowLimit": 10000
     },
     "inputWidgets": {},
     "nuid": "80f84ab2-5b7a-4e22-9e27-9481929690ab",
     "showTitle": false,
     "tableResultSettingsMap": {},
     "title": ""
    }
   },
   "outputs": [
    {
     "output_type": "stream",
     "name": "stdout",
     "output_type": "stream",
     "text": [
      "Out[10]: True"
     ]
    }
   ],
   "source": [
    "dbutils.fs.rm(\"dbfs:/user/hive/warehouse/dim_review\", True)\n"
   ]
  },
  {
   "cell_type": "code",
   "execution_count": 0,
   "metadata": {
    "application/vnd.databricks.v1+cell": {
     "cellMetadata": {
      "byteLimit": 2048000,
      "rowLimit": 10000
     },
     "inputWidgets": {},
     "nuid": "a9539c33-13f7-42d7-8399-0f8c2df64cb8",
     "showTitle": false,
     "tableResultSettingsMap": {},
     "title": ""
    }
   },
   "outputs": [
    {
     "output_type": "stream",
     "name": "stdout",
     "output_type": "stream",
     "text": [
      "Out[11]: True"
     ]
    }
   ],
   "source": [
    "dbutils.fs.rm(\"dbfs:/user/hive/warehouse/dim_product\", True)\n"
   ]
  },
  {
   "cell_type": "code",
   "execution_count": 0,
   "metadata": {
    "application/vnd.databricks.v1+cell": {
     "cellMetadata": {
      "byteLimit": 2048000,
      "rowLimit": 10000
     },
     "inputWidgets": {},
     "nuid": "1bbe53b0-e543-4b3c-8b58-4139c8fe5fbf",
     "showTitle": false,
     "tableResultSettingsMap": {},
     "title": ""
    }
   },
   "outputs": [
    {
     "output_type": "stream",
     "name": "stdout",
     "output_type": "stream",
     "text": [
      "Out[12]: True"
     ]
    }
   ],
   "source": [
    "dbutils.fs.rm(\"dbfs:/user/hive/warehouse/dim_user1\", True)\n"
   ]
  },
  {
   "cell_type": "code",
   "execution_count": 0,
   "metadata": {
    "application/vnd.databricks.v1+cell": {
     "cellMetadata": {
      "byteLimit": 2048000,
      "implicitDf": true,
      "rowLimit": 10000
     },
     "inputWidgets": {},
     "nuid": "d97cfbe2-a722-44a8-b4da-41091828b3ff",
     "showTitle": false,
     "tableResultSettingsMap": {},
     "title": ""
    }
   },
   "outputs": [
    {
     "output_type": "display_data",
     "data": {
      "text/html": [
       "<style scoped>\n",
       "  .table-result-container {\n",
       "    max-height: 300px;\n",
       "    overflow: auto;\n",
       "  }\n",
       "  table, th, td {\n",
       "    border: 1px solid black;\n",
       "    border-collapse: collapse;\n",
       "  }\n",
       "  th, td {\n",
       "    padding: 5px;\n",
       "  }\n",
       "  th {\n",
       "    text-align: left;\n",
       "  }\n",
       "</style><div class='table-result-container'><table class='table-result'><thead style='background-color: white'><tr></tr></thead><tbody></tbody></table></div>"
      ]
     },
     "metadata": {
      "application/vnd.databricks.v1+output": {
       "addedWidgets": {},
       "aggData": [],
       "aggError": "",
       "aggOverflow": false,
       "aggSchema": [],
       "aggSeriesLimitReached": false,
       "aggType": "",
       "arguments": {},
       "columnCustomDisplayInfos": {},
       "data": [],
       "datasetInfos": [],
       "dbfsResultPath": null,
       "isJsonSchema": true,
       "metadata": {},
       "overflow": false,
       "plotOptions": {
        "customPlotOptions": {},
        "displayType": "table",
        "pivotAggregation": null,
        "pivotColumns": null,
        "xColumns": null,
        "yColumns": null
       },
       "removedWidgets": [],
       "schema": [],
       "type": "table"
      }
     },
     "output_type": "display_data"
    }
   ],
   "source": [
    "%sql\n",
    "DROP TABLE IF EXISTS fact_product_reviews;\n",
    "CREATE TABLE fact_product_reviews (\n",
    "    product_id VARCHAR(255),\n",
    "    user_id VARCHAR(255),\n",
    "    discounted_price DECIMAL(10,2),\n",
    "    actual_price DECIMAL(10,2),\n",
    "    discount_percentage DECIMAL(5,2),\n",
    "    rating DECIMAL(3,2),\n",
    "    rating_count INT,\n",
    "    review_id VARCHAR(255)\n",
    "    \n",
    ");\n"
   ]
  },
  {
   "cell_type": "code",
   "execution_count": 0,
   "metadata": {
    "application/vnd.databricks.v1+cell": {
     "cellMetadata": {
      "byteLimit": 2048000,
      "implicitDf": true,
      "rowLimit": 10000
     },
     "inputWidgets": {},
     "nuid": "7764f889-99e9-4a8c-9e73-e46a05f06bf4",
     "showTitle": false,
     "tableResultSettingsMap": {},
     "title": ""
    }
   },
   "outputs": [
    {
     "output_type": "display_data",
     "data": {
      "text/html": [
       "<style scoped>\n",
       "  .table-result-container {\n",
       "    max-height: 300px;\n",
       "    overflow: auto;\n",
       "  }\n",
       "  table, th, td {\n",
       "    border: 1px solid black;\n",
       "    border-collapse: collapse;\n",
       "  }\n",
       "  th, td {\n",
       "    padding: 5px;\n",
       "  }\n",
       "  th {\n",
       "    text-align: left;\n",
       "  }\n",
       "</style><div class='table-result-container'><table class='table-result'><thead style='background-color: white'><tr></tr></thead><tbody></tbody></table></div>"
      ]
     },
     "metadata": {
      "application/vnd.databricks.v1+output": {
       "addedWidgets": {},
       "aggData": [],
       "aggError": "",
       "aggOverflow": false,
       "aggSchema": [],
       "aggSeriesLimitReached": false,
       "aggType": "",
       "arguments": {},
       "columnCustomDisplayInfos": {},
       "data": [],
       "datasetInfos": [],
       "dbfsResultPath": null,
       "isJsonSchema": true,
       "metadata": {},
       "overflow": false,
       "plotOptions": {
        "customPlotOptions": {},
        "displayType": "table",
        "pivotAggregation": null,
        "pivotColumns": null,
        "xColumns": null,
        "yColumns": null
       },
       "removedWidgets": [],
       "schema": [],
       "type": "table"
      }
     },
     "output_type": "display_data"
    }
   ],
   "source": [
    "%sql\n",
    "DROP TABLE IF EXISTS dim_product;\n",
    "CREATE TABLE dim_product (\n",
    "    product_id VARCHAR(255),\n",
    "    product_name VARCHAR(1000),\n",
    "    category VARCHAR(255),\n",
    "    about_product STRING,\n",
    "    product_link VARCHAR(255),\n",
    "    img_link VARCHAR(255)\n",
    ");\n"
   ]
  },
  {
   "cell_type": "code",
   "execution_count": 0,
   "metadata": {
    "application/vnd.databricks.v1+cell": {
     "cellMetadata": {
      "byteLimit": 2048000,
      "implicitDf": true,
      "rowLimit": 10000
     },
     "inputWidgets": {},
     "nuid": "53b245d3-eae7-4772-bec3-afacb85341ef",
     "showTitle": false,
     "tableResultSettingsMap": {},
     "title": ""
    }
   },
   "outputs": [
    {
     "output_type": "display_data",
     "data": {
      "text/html": [
       "<style scoped>\n",
       "  .table-result-container {\n",
       "    max-height: 300px;\n",
       "    overflow: auto;\n",
       "  }\n",
       "  table, th, td {\n",
       "    border: 1px solid black;\n",
       "    border-collapse: collapse;\n",
       "  }\n",
       "  th, td {\n",
       "    padding: 5px;\n",
       "  }\n",
       "  th {\n",
       "    text-align: left;\n",
       "  }\n",
       "</style><div class='table-result-container'><table class='table-result'><thead style='background-color: white'><tr></tr></thead><tbody></tbody></table></div>"
      ]
     },
     "metadata": {
      "application/vnd.databricks.v1+output": {
       "addedWidgets": {},
       "aggData": [],
       "aggError": "",
       "aggOverflow": false,
       "aggSchema": [],
       "aggSeriesLimitReached": false,
       "aggType": "",
       "arguments": {},
       "columnCustomDisplayInfos": {},
       "data": [],
       "datasetInfos": [],
       "dbfsResultPath": null,
       "isJsonSchema": true,
       "metadata": {},
       "overflow": false,
       "plotOptions": {
        "customPlotOptions": {},
        "displayType": "table",
        "pivotAggregation": null,
        "pivotColumns": null,
        "xColumns": null,
        "yColumns": null
       },
       "removedWidgets": [],
       "schema": [],
       "type": "table"
      }
     },
     "output_type": "display_data"
    }
   ],
   "source": [
    "%sql\n",
    "DROP TABLE IF EXISTS dim_user1;\n",
    "CREATE TABLE dim_user1 (\n",
    "    user_id VARCHAR(255),\n",
    "    user_name VARCHAR(255)\n",
    ");\n"
   ]
  },
  {
   "cell_type": "code",
   "execution_count": 0,
   "metadata": {
    "application/vnd.databricks.v1+cell": {
     "cellMetadata": {
      "byteLimit": 2048000,
      "implicitDf": true,
      "rowLimit": 10000
     },
     "inputWidgets": {},
     "nuid": "1e4d5598-7baa-4d0b-8b59-b08364092c4d",
     "showTitle": false,
     "tableResultSettingsMap": {},
     "title": ""
    }
   },
   "outputs": [
    {
     "output_type": "display_data",
     "data": {
      "text/html": [
       "<style scoped>\n",
       "  .table-result-container {\n",
       "    max-height: 300px;\n",
       "    overflow: auto;\n",
       "  }\n",
       "  table, th, td {\n",
       "    border: 1px solid black;\n",
       "    border-collapse: collapse;\n",
       "  }\n",
       "  th, td {\n",
       "    padding: 5px;\n",
       "  }\n",
       "  th {\n",
       "    text-align: left;\n",
       "  }\n",
       "</style><div class='table-result-container'><table class='table-result'><thead style='background-color: white'><tr></tr></thead><tbody></tbody></table></div>"
      ]
     },
     "metadata": {
      "application/vnd.databricks.v1+output": {
       "addedWidgets": {},
       "aggData": [],
       "aggError": "",
       "aggOverflow": false,
       "aggSchema": [],
       "aggSeriesLimitReached": false,
       "aggType": "",
       "arguments": {},
       "columnCustomDisplayInfos": {},
       "data": [],
       "datasetInfos": [],
       "dbfsResultPath": null,
       "isJsonSchema": true,
       "metadata": {},
       "overflow": false,
       "plotOptions": {
        "customPlotOptions": {},
        "displayType": "table",
        "pivotAggregation": null,
        "pivotColumns": null,
        "xColumns": null,
        "yColumns": null
       },
       "removedWidgets": [],
       "schema": [],
       "type": "table"
      }
     },
     "output_type": "display_data"
    }
   ],
   "source": [
    "%sql\n",
    "DROP TABLE IF EXISTS dim_review;\n",
    "CREATE TABLE dim_review (\n",
    "    review_id VARCHAR(255),\n",
    "    review_title VARCHAR(1000),\n",
    "    review_content STRING\n",
    ");\n"
   ]
  },
  {
   "cell_type": "markdown",
   "metadata": {
    "application/vnd.databricks.v1+cell": {
     "cellMetadata": {},
     "inputWidgets": {},
     "nuid": "bf16bd99-edf7-4b92-a49b-2a4749c0359b",
     "showTitle": false,
     "tableResultSettingsMap": {},
     "title": ""
    }
   },
   "source": [
    "##ETL - Extração, Transformação e Carga"
   ]
  },
  {
   "cell_type": "markdown",
   "metadata": {
    "application/vnd.databricks.v1+cell": {
     "cellMetadata": {
      "byteLimit": 2048000,
      "rowLimit": 10000
     },
     "inputWidgets": {},
     "nuid": "ce25b153-be81-4920-9d5a-6ad41fa1acbf",
     "showTitle": false,
     "tableResultSettingsMap": {},
     "title": ""
    }
   },
   "source": [
    "1. Extração - Os dados foram extraídos do conjunto de dados da Amazon do site Kaggle.\n",
    "\n",
    "2. Transformação \n",
    "- Foram removidos os valores nulos das colunas 'ratings' e 'ratings_count' que foram tratados com a média\n",
    "- Ajustes dos tipos de dados, com a conversão das colunas numéricas para float\n",
    "- Remoção de caracteres especiais\n",
    "- Filtragem de dados sobre os produtos\n",
    "- Foram ordenados os dados por preço e rating\n",
    "- Agrupamento por categoria e cálculo da média de preço com base na categoria\n",
    "\n",
    "3. Carga\n",
    "- Os dados transformados são carregados nas tabelas de dimensão (como dim_product, dim_user1, dim_review). As métricas quantitativas (como preços e avaliações) são carregadas na tabela de fato (fact_product_reviews).\n"
   ]
  },
  {
   "cell_type": "markdown",
   "metadata": {
    "application/vnd.databricks.v1+cell": {
     "cellMetadata": {
      "byteLimit": 2048000,
      "rowLimit": 10000
     },
     "inputWidgets": {},
     "nuid": "9fe514d4-ce56-4291-bbdc-5425487f4b0b",
     "showTitle": false,
     "tableResultSettingsMap": {},
     "title": ""
    }
   },
   "source": [
    "##Documentação da transformação de dados\n",
    "\n",
    "Algumas colunas numéricas foram tratadas como object o que dificultou a conversão para float. Quando o pandas lê uma coluna como object, ele pode ter dificuldades em tratar valores que contenham tanto texto quanto números ou símbolos. Isso ocorre porque o tipo object no pandas é utilizado para strings ou outros tipos misturados, como listas ou dicionários.Por isso, as colunas foram convertidas para  string (astype(str)) pois o pandas pode lidar melhor com a limpeza de dados, já que ele sabe que os dados são apenas texto.\n",
    "A conversão para string foi uma forma de garantir que o pandas tratasse todas as entradas como strings, o que facilita a aplicação de funções como replace() para limpar os símbolos e vírgulas. Depois que a coluna foi convertida para string e os caracteres indesejados foram removidos, a conversão para float se tornou bem-sucedida porque os dados estavam mais consistentes.\n",
    "\n",
    "Assim, as colunas numéricas que continham valores numericos e texto misturados foram convertidos para string. Usei o replace() com expressões regulares para remover ₹ e as vírgulas nas colunas de preços e rating_count. A função pd.to_numeric() é usada para converter as colunas para numérico. Com errors='coerce', valores que não podem ser convertidos (por exemplo, texto ou valores inválidos) serão convertidos para NaN.Foi realizada a conversão para float para realizar operações numéricas e plotar gráficos de maneira eficaz. Foram plotados histogramas para visualizar a distribuição de dados e também foram gerados gráficos de dispersão. Foram também verificados valores nulos na coluna ratings e rating count e foram tratados utilizando-se a média.\n",
    "Usei dtypes para verificar se as colunas foram convertidas corretamente para float e eu usei pyspark para verificar os valores duplicados.Eu também ordenei os dados por preço e rating e agrupei por categoria para calcular a média de preço com base na categoria para preparar os dados de uma maneira que facilite a visualização e análise.\n"
   ]
  },
  {
   "cell_type": "code",
   "execution_count": 0,
   "metadata": {
    "application/vnd.databricks.v1+cell": {
     "cellMetadata": {
      "byteLimit": 2048000,
      "rowLimit": 10000
     },
     "inputWidgets": {},
     "nuid": "172d85ff-9382-45c5-85de-b5c33c1f0d0f",
     "showTitle": false,
     "tableResultSettingsMap": {},
     "title": ""
    }
   },
   "outputs": [
    {
     "output_type": "stream",
     "name": "stdout",
     "output_type": "stream",
     "text": [
      "product_id             object\nproduct_name           object\ncategory               object\ndiscounted_price       object\nactual_price           object\ndiscount_percentage    object\nrating                 object\nrating_count           object\nabout_product          object\nuser_id                object\nuser_name              object\nreview_id              object\nreview_title           object\nreview_content         object\nimg_link               object\nproduct_link           object\ndtype: object\n"
     ]
    }
   ],
   "source": [
    "print(dataset.dtypes) # Verificar os tipos de dados das colunas"
   ]
  },
  {
   "cell_type": "code",
   "execution_count": 0,
   "metadata": {
    "application/vnd.databricks.v1+cell": {
     "cellMetadata": {
      "byteLimit": 2048000,
      "rowLimit": 10000
     },
     "inputWidgets": {},
     "nuid": "44c6ccd1-b374-4dbd-9ee9-7301aab3f81b",
     "showTitle": false,
     "tableResultSettingsMap": {},
     "title": ""
    }
   },
   "outputs": [
    {
     "output_type": "stream",
     "name": "stdout",
     "output_type": "stream",
     "text": [
      "₹999      120\n₹499       71\n₹1,999     56\n₹1,499     37\n₹399       34\n         ... \n₹931        1\n₹3,599      1\n₹420        1\n₹9,625      1\n₹3,690      1\nName: actual_price, Length: 449, dtype: int64\n"
     ]
    }
   ],
   "source": [
    "# Verificar os valores únicos na coluna 'actual_price'\n",
    "valores_unicos = dataset['actual_price'].value_counts()\n",
    "print(valores_unicos)"
   ]
  },
  {
   "cell_type": "code",
   "execution_count": 0,
   "metadata": {
    "application/vnd.databricks.v1+cell": {
     "cellMetadata": {
      "byteLimit": 2048000,
      "rowLimit": 10000
     },
     "inputWidgets": {},
     "nuid": "dfb09d01-b553-4ce8-b59f-07a5a2597b3b",
     "showTitle": false,
     "tableResultSettingsMap": {},
     "title": ""
    }
   },
   "outputs": [],
   "source": [
    "dataset['actual_price'] = dataset['actual_price'].astype(str) #Faz a conversão da coluna 'actual price' para string"
   ]
  },
  {
   "cell_type": "code",
   "execution_count": 0,
   "metadata": {
    "application/vnd.databricks.v1+cell": {
     "cellMetadata": {
      "byteLimit": 2048000,
      "rowLimit": 10000
     },
     "inputWidgets": {},
     "nuid": "cba6b9bc-6011-429a-9613-f91952834e34",
     "showTitle": false,
     "tableResultSettingsMap": {},
     "title": ""
    }
   },
   "outputs": [],
   "source": [
    "dataset['discount_percentage'] = dataset['discount_percentage'].astype(str) #Faz a conversão da coluna 'discount_percentage' para string"
   ]
  },
  {
   "cell_type": "code",
   "execution_count": 0,
   "metadata": {
    "application/vnd.databricks.v1+cell": {
     "cellMetadata": {
      "byteLimit": 2048000,
      "rowLimit": 10000
     },
     "inputWidgets": {},
     "nuid": "ad1866b9-d51f-4670-a59d-7c8913ae7f35",
     "showTitle": false,
     "tableResultSettingsMap": {},
     "title": ""
    }
   },
   "outputs": [],
   "source": [
    "dataset['discounted_price'] = dataset['discounted_price'].astype(str) #Faz a conversão da coluna 'discounted_price' para string"
   ]
  },
  {
   "cell_type": "code",
   "execution_count": 0,
   "metadata": {
    "application/vnd.databricks.v1+cell": {
     "cellMetadata": {
      "byteLimit": 2048000,
      "rowLimit": 10000
     },
     "inputWidgets": {},
     "nuid": "5c836a24-b8cf-4031-8a90-5899c91d2132",
     "showTitle": false,
     "tableResultSettingsMap": {},
     "title": ""
    }
   },
   "outputs": [],
   "source": [
    "\n",
    "\n",
    "# Remover o símbolo da moeda (₹) e as vírgulas, e converter para float\n",
    "dataset['discount_percentage'] = dataset['discount_percentage'].str.replace('%', '').astype(float)\n"
   ]
  },
  {
   "cell_type": "code",
   "execution_count": 0,
   "metadata": {
    "application/vnd.databricks.v1+cell": {
     "cellMetadata": {
      "byteLimit": 2048000,
      "rowLimit": 10000
     },
     "inputWidgets": {},
     "nuid": "97f80d2d-d040-4f35-966c-306a9b9d2581",
     "showTitle": false,
     "tableResultSettingsMap": {},
     "title": ""
    }
   },
   "outputs": [],
   "source": [
    "\n",
    "\n",
    "# Remover o símbolo da moeda (₹) e as vírgulas, e converter para float\n",
    "dataset['discounted_price'] = dataset['discounted_price'].str.replace(',', '').str.replace('₹', '').astype(float)\n"
   ]
  },
  {
   "cell_type": "code",
   "execution_count": 0,
   "metadata": {
    "application/vnd.databricks.v1+cell": {
     "cellMetadata": {
      "byteLimit": 2048000,
      "rowLimit": 10000
     },
     "inputWidgets": {},
     "nuid": "4e3b4def-4caf-48de-bf30-00e8a9e94c7f",
     "showTitle": false,
     "tableResultSettingsMap": {},
     "title": ""
    }
   },
   "outputs": [],
   "source": [
    "\n",
    "\n",
    "# Remover o símbolo da moeda (₹) e as vírgulas, e converter para float\n",
    "dataset['actual_price'] = dataset['actual_price'].str.replace(',', '').str.replace('₹', '').astype(float)\n"
   ]
  },
  {
   "cell_type": "code",
   "execution_count": 0,
   "metadata": {
    "application/vnd.databricks.v1+cell": {
     "cellMetadata": {
      "byteLimit": 2048000,
      "rowLimit": 10000
     },
     "inputWidgets": {},
     "nuid": "8b2eb726-7bba-4902-9b8d-7bd082da2f6c",
     "showTitle": false,
     "tableResultSettingsMap": {},
     "title": ""
    }
   },
   "outputs": [
    {
     "output_type": "stream",
     "name": "stdout",
     "output_type": "stream",
     "text": [
      "<bound method Series.unique of 0        399.0\n1        199.0\n2        199.0\n3        329.0\n4        154.0\n         ...  \n1460     379.0\n1461    2280.0\n1462    2219.0\n1463    1399.0\n1464    2863.0\nName: discounted_price, Length: 1465, dtype: float64>\n"
     ]
    }
   ],
   "source": [
    "# Verificar os valores únicos da coluna discounted_price\n",
    "print(dataset['discounted_price'].unique)"
   ]
  },
  {
   "cell_type": "code",
   "execution_count": 0,
   "metadata": {
    "application/vnd.databricks.v1+cell": {
     "cellMetadata": {
      "byteLimit": 2048000,
      "rowLimit": 10000
     },
     "inputWidgets": {},
     "nuid": "115542cd-bd3c-476b-80b4-35f122edbd45",
     "showTitle": false,
     "tableResultSettingsMap": {},
     "title": ""
    }
   },
   "outputs": [],
   "source": [
    "# Converter a coluna rating em string\n",
    "dataset['rating'] = dataset['rating'].astype(str)"
   ]
  },
  {
   "cell_type": "code",
   "execution_count": 0,
   "metadata": {
    "application/vnd.databricks.v1+cell": {
     "cellMetadata": {
      "byteLimit": 2048000,
      "rowLimit": 10000
     },
     "inputWidgets": {},
     "nuid": "a223621e-9a9f-48e6-9ae5-9b4a1f66f6db",
     "showTitle": false,
     "tableResultSettingsMap": {},
     "title": ""
    }
   },
   "outputs": [],
   "source": [
    "# Converter a coluna rating_count em string\n",
    "dataset['rating_count'] = dataset['rating_count'].astype(str)"
   ]
  },
  {
   "cell_type": "code",
   "execution_count": 0,
   "metadata": {
    "application/vnd.databricks.v1+cell": {
     "cellMetadata": {
      "byteLimit": 2048000,
      "rowLimit": 10000
     },
     "inputWidgets": {},
     "nuid": "f2875fa6-70d1-43fc-ae5d-e96f7662ba53",
     "showTitle": false,
     "tableResultSettingsMap": {},
     "title": ""
    }
   },
   "outputs": [
    {
     "output_type": "stream",
     "name": "stdout",
     "output_type": "stream",
     "text": [
      "float64\n"
     ]
    }
   ],
   "source": [
    "# 1. Substituir valores vazios (ou valores inválidos) por NaN\n",
    "dataset['rating_count'] = dataset['rating_count'].replace('', None)  # Substitui strings vazias por None\n",
    "\n",
    "# 2. Converter para float e transformar valores inválidos (como strings não numéricas) em NaN\n",
    "dataset['rating_count'] = pd.to_numeric(dataset['rating_count'], errors='coerce')\n",
    "\n",
    "# 3. Agora, a coluna 'rating' está como tipo float e pode ser usada para plotar\n",
    "print(dataset['rating_count'].dtypes)  # Verifique se a coluna 'rating' foi convertida para float"
   ]
  },
  {
   "cell_type": "code",
   "execution_count": 0,
   "metadata": {
    "application/vnd.databricks.v1+cell": {
     "cellMetadata": {
      "byteLimit": 2048000,
      "rowLimit": 10000
     },
     "inputWidgets": {},
     "nuid": "fe64dd14-5f91-4a9b-a09c-877368323840",
     "showTitle": false,
     "tableResultSettingsMap": {},
     "title": ""
    }
   },
   "outputs": [],
   "source": [
    "# 1. Substituir valores vazios (ou valores inválidos) por NaN\n",
    "dataset['rating_count'] = dataset['rating_count'].replace(',', '.').astype(float)  # Substitui strings vazias por None\n"
   ]
  },
  {
   "cell_type": "code",
   "execution_count": 0,
   "metadata": {
    "application/vnd.databricks.v1+cell": {
     "cellMetadata": {
      "byteLimit": 2048000,
      "rowLimit": 10000
     },
     "inputWidgets": {},
     "nuid": "01dcb90a-013a-4497-bbf0-46d078c31faa",
     "showTitle": false,
     "tableResultSettingsMap": {},
     "title": ""
    }
   },
   "outputs": [
    {
     "output_type": "stream",
     "name": "stdout",
     "output_type": "stream",
     "text": [
      "float64\n"
     ]
    }
   ],
   "source": [
    "# 1. Substituir valores vazios (ou valores inválidos) por NaN\n",
    "dataset['rating'] = dataset['rating'].replace('', None)  # Substitui strings vazias por None\n",
    "\n",
    "# 2. Converter para float e transformar valores inválidos (como strings não numéricas) em NaN\n",
    "dataset['rating'] = pd.to_numeric(dataset['rating'], errors='coerce')\n",
    "\n",
    "# 3. Agora, a coluna 'rating' está como tipo float e pode ser usada para plotar\n",
    "print(dataset['rating'].dtypes)  # Verifique se a coluna 'rating' foi convertida para float"
   ]
  },
  {
   "cell_type": "code",
   "execution_count": 0,
   "metadata": {
    "application/vnd.databricks.v1+cell": {
     "cellMetadata": {
      "byteLimit": 2048000,
      "rowLimit": 10000
     },
     "inputWidgets": {},
     "nuid": "e80f038c-9f97-44fc-8ba5-33058beeb23a",
     "showTitle": false,
     "tableResultSettingsMap": {},
     "title": ""
    }
   },
   "outputs": [
    {
     "output_type": "stream",
     "name": "stdout",
     "output_type": "stream",
     "text": [
      "product_id                0\nproduct_name              0\ncategory                  0\ndiscounted_price          0\nactual_price              0\ndiscount_percentage       0\nrating                    1\nrating_count           1139\nabout_product             0\nuser_id                   0\nuser_name                 0\nreview_id                 0\nreview_title              0\nreview_content            0\nimg_link                  0\nproduct_link              0\ndtype: int64\n"
     ]
    }
   ],
   "source": [
    "print(dataset.isnull().sum()) ## Verifica a quantidade de valores nulos em cada coluna"
   ]
  },
  {
   "cell_type": "code",
   "execution_count": 0,
   "metadata": {
    "application/vnd.databricks.v1+cell": {
     "cellMetadata": {
      "byteLimit": 2048000,
      "rowLimit": 10000
     },
     "inputWidgets": {},
     "nuid": "80b27b0e-7e50-47f0-8403-e88bbc983f23",
     "showTitle": false,
     "tableResultSettingsMap": {},
     "title": ""
    }
   },
   "outputs": [],
   "source": [
    "#Preencher os valores nulos da coluna rating com a média dos valores dessa coluna\n",
    "dataset['rating'] = dataset['rating'].fillna(dataset['rating'].mean())\n"
   ]
  },
  {
   "cell_type": "code",
   "execution_count": 0,
   "metadata": {
    "application/vnd.databricks.v1+cell": {
     "cellMetadata": {
      "byteLimit": 2048000,
      "rowLimit": 10000
     },
     "inputWidgets": {},
     "nuid": "9b8132e4-c58c-4484-a2c3-781d245e8347",
     "showTitle": false,
     "tableResultSettingsMap": {},
     "title": ""
    }
   },
   "outputs": [],
   "source": [
    "#Preencher os valores nulos da coluna rating_count com a média dos valores dessa coluna\n",
    "dataset['rating_count'] = dataset['rating_count'].fillna(dataset['rating_count'].mean())"
   ]
  },
  {
   "cell_type": "code",
   "execution_count": 0,
   "metadata": {
    "application/vnd.databricks.v1+cell": {
     "cellMetadata": {
      "byteLimit": 2048000,
      "rowLimit": 10000
     },
     "inputWidgets": {},
     "nuid": "587854cc-fec7-41ee-a0e9-f42f86f6b8dc",
     "showTitle": false,
     "tableResultSettingsMap": {},
     "title": ""
    }
   },
   "outputs": [],
   "source": [
    "\n",
    "dataset['rating_count'] = dataset['rating_count'].fillna(dataset['rating'].mean())"
   ]
  },
  {
   "cell_type": "code",
   "execution_count": 0,
   "metadata": {
    "application/vnd.databricks.v1+cell": {
     "cellMetadata": {
      "byteLimit": 2048000,
      "rowLimit": 10000
     },
     "inputWidgets": {},
     "nuid": "b49a1036-4c2d-40cf-8e7a-6f37f4107ccb",
     "showTitle": false,
     "tableResultSettingsMap": {},
     "title": ""
    }
   },
   "outputs": [
    {
     "output_type": "display_data",
     "data": {
      "image/png": "[encoded data removed]"
     },
     "metadata": {
      "application/vnd.databricks.v1+output": {
       "addedWidgets": {},
       "arguments": {},
       "data": "data:image/png;base64,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\n",
       "datasetInfos": [],
       "metadata": {},
       "removedWidgets": [],
       "type": "image"
      }
     },
     "output_type": "display_data"
    }
   ],
   "source": [
    "\n",
    "## Criação de um histograma para visualizar a distribuição dos dados da coluna actual_price\n",
    "\n",
    "from matplotlib import pyplot as plt\n",
    "dataset['actual_price'].plot(kind='hist', bins=20, title='actual_price')\n",
    "plt.gca().spines[['top', 'right',]].set_visible(False)"
   ]
  },
  {
   "cell_type": "code",
   "execution_count": 0,
   "metadata": {
    "application/vnd.databricks.v1+cell": {
     "cellMetadata": {
      "byteLimit": 2048000,
      "rowLimit": 10000
     },
     "inputWidgets": {},
     "nuid": "77e5f420-09a8-4e9c-be21-6b12d877976e",
     "showTitle": false,
     "tableResultSettingsMap": {},
     "title": ""
    }
   },
   "outputs": [
    {
     "output_type": "display_data",
     "data": {
      "image/png": "[encoded data removed]"
     },
     "metadata": {
      "application/vnd.databricks.v1+output": {
       "addedWidgets": {},
       "arguments": {},
       "data": "data:image/png;base64,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\n",
       "datasetInfos": [],
       "metadata": {},
       "removedWidgets": [],
       "type": "image"
      }
     },
     "output_type": "display_data"
    }
   ],
   "source": [
    "\n",
    "## Criação de um histograma para visualizar a distribuição dos dados da coluna discount_percentage\n",
    "\n",
    "from matplotlib import pyplot as plt\n",
    "dataset['discount_percentage'].plot(kind='hist', bins=20, title='discount_percentage')\n",
    "plt.gca().spines[['top', 'right',]].set_visible(False)"
   ]
  },
  {
   "cell_type": "code",
   "execution_count": 0,
   "metadata": {
    "application/vnd.databricks.v1+cell": {
     "cellMetadata": {
      "byteLimit": 2048000,
      "rowLimit": 10000
     },
     "inputWidgets": {},
     "nuid": "e9b62c7e-9b93-424a-b83b-2a50750fa37c",
     "showTitle": false,
     "tableResultSettingsMap": {},
     "title": ""
    }
   },
   "outputs": [
    {
     "output_type": "display_data",
     "data": {
      "image/png": "[encoded data removed]"
     },
     "metadata": {
      "application/vnd.databricks.v1+output": {
       "addedWidgets": {},
       "arguments": {},
       "data": "data:image/png;base64,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\n",
       "datasetInfos": [],
       "metadata": {},
       "removedWidgets": [],
       "type": "image"
      }
     },
     "output_type": "display_data"
    }
   ],
   "source": [
    "\n",
    "## Criação de um histograma para visualizar a distribuição dos dados da coluna discounted_price\n",
    "\n",
    "from matplotlib import pyplot as plt\n",
    "dataset['discounted_price'].plot(kind='hist', bins=20, title='discounted_price')\n",
    "plt.gca().spines[['top', 'right',]].set_visible(False)"
   ]
  },
  {
   "cell_type": "code",
   "execution_count": 0,
   "metadata": {
    "application/vnd.databricks.v1+cell": {
     "cellMetadata": {
      "byteLimit": 2048000,
      "rowLimit": 10000
     },
     "inputWidgets": {},
     "nuid": "e2ca01a9-15e6-4c34-8ddb-08ba651a8925",
     "showTitle": false,
     "tableResultSettingsMap": {},
     "title": ""
    }
   },
   "outputs": [
    {
     "output_type": "display_data",
     "data": {
      "image/png": "[encoded data removed]"
     },
     "metadata": {
      "application/vnd.databricks.v1+output": {
       "addedWidgets": {},
       "arguments": {},
       "data": "data:image/png;base64,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\n",
       "datasetInfos": [],
       "metadata": {},
       "removedWidgets": [],
       "type": "image"
      }
     },
     "output_type": "display_data"
    }
   ],
   "source": [
    "## Criação de um histograma para visualizar a distribuição dos dados da coluna rating\n",
    "\n",
    "from matplotlib import pyplot as plt\n",
    "dataset['rating'].plot(kind='hist', bins=20, title='rating')\n",
    "plt.gca().spines[['top', 'right',]].set_visible(False)\n"
   ]
  },
  {
   "cell_type": "code",
   "execution_count": 0,
   "metadata": {
    "application/vnd.databricks.v1+cell": {
     "cellMetadata": {
      "byteLimit": 2048000,
      "rowLimit": 10000
     },
     "inputWidgets": {},
     "nuid": "193a14a5-f94f-4914-b7f7-6068efa17f4a",
     "showTitle": false,
     "tableResultSettingsMap": {},
     "title": ""
    }
   },
   "outputs": [
    {
     "output_type": "display_data",
     "data": {
      "image/png": "[encoded data removed]"
     },
     "metadata": {
      "application/vnd.databricks.v1+output": {
       "addedWidgets": {},
       "arguments": {},
       "data": "data:image/png;base64,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\n",
       "datasetInfos": [],
       "metadata": {},
       "removedWidgets": [],
       "type": "image"
      }
     },
     "output_type": "display_data"
    }
   ],
   "source": [
    "## Criação de um histograma para visualizar a distribuição dos dados da colunta rating_count\n",
    "\n",
    "from matplotlib import pyplot as plt\n",
    "dataset['rating_count'].plot(kind='hist', bins=20, title='rating_count')\n",
    "plt.gca().spines[['top', 'right',]].set_visible(False)\n"
   ]
  },
  {
   "cell_type": "code",
   "execution_count": 0,
   "metadata": {
    "application/vnd.databricks.v1+cell": {
     "cellMetadata": {
      "byteLimit": 2048000,
      "rowLimit": 10000
     },
     "inputWidgets": {},
     "nuid": "a6890cb1-4d6e-48aa-91c5-94e24299aee8",
     "showTitle": false,
     "tableResultSettingsMap": {},
     "title": ""
    }
   },
   "outputs": [
    {
     "output_type": "stream",
     "name": "stdout",
     "output_type": "stream",
     "text": [
      "count      1465.000000\nmean       5444.990635\nstd       10874.826864\nmin          39.000000\n25%         800.000000\n50%        1650.000000\n75%        4295.000000\nmax      139900.000000\nName: actual_price, dtype: float64\n"
     ]
    }
   ],
   "source": [
    "# Estatísticas descritivas\n",
    "print(dataset['actual_price'].describe())"
   ]
  },
  {
   "cell_type": "code",
   "execution_count": 0,
   "metadata": {
    "application/vnd.databricks.v1+cell": {
     "cellMetadata": {
      "byteLimit": 2048000,
      "rowLimit": 10000
     },
     "inputWidgets": {},
     "nuid": "73ea2310-e4ee-438a-95c2-4eb39ef82feb",
     "showTitle": false,
     "tableResultSettingsMap": {},
     "title": ""
    }
   },
   "outputs": [
    {
     "output_type": "stream",
     "name": "stdout",
     "output_type": "stream",
     "text": [
      "count    1465.000000\nmean       47.691468\nstd        21.635905\nmin         0.000000\n25%        32.000000\n50%        50.000000\n75%        63.000000\nmax        94.000000\nName: discount_percentage, dtype: float64\n"
     ]
    }
   ],
   "source": [
    "# Estatísticas descritivas\n",
    "print(dataset['discount_percentage'].describe())"
   ]
  },
  {
   "cell_type": "code",
   "execution_count": 0,
   "metadata": {
    "application/vnd.databricks.v1+cell": {
     "cellMetadata": {
      "byteLimit": 2048000,
      "rowLimit": 10000
     },
     "inputWidgets": {},
     "nuid": "4aaa3ed0-908b-4f24-a59a-05f387f06951",
     "showTitle": false,
     "tableResultSettingsMap": {},
     "title": ""
    }
   },
   "outputs": [
    {
     "output_type": "stream",
     "name": "stdout",
     "output_type": "stream",
     "text": [
      "                     discounted_price  actual_price  discount_percentage  \\\ndiscounted_price             1.000000      0.961915            -0.242412   \nactual_price                 0.961915      1.000000            -0.118098   \ndiscount_percentage         -0.242412     -0.118098             1.000000   \nrating                       0.120337      0.121639            -0.155261   \nrating_count                -0.002623     -0.004480            -0.008029   \n\n                       rating  rating_count  \ndiscounted_price     0.120337     -0.002623  \nactual_price         0.121639     -0.004480  \ndiscount_percentage -0.155261     -0.008029  \nrating               1.000000      0.072817  \nrating_count         0.072817      1.000000  \n"
     ]
    }
   ],
   "source": [
    "# Calcular a correlação entre as colunas numéricas\n",
    "correlation_matrix = dataset.corr()\n",
    "\n",
    "print(correlation_matrix)"
   ]
  },
  {
   "cell_type": "markdown",
   "metadata": {
    "application/vnd.databricks.v1+cell": {
     "cellMetadata": {
      "byteLimit": 2048000,
      "rowLimit": 10000
     },
     "inputWidgets": {},
     "nuid": "6406ed24-d943-4aef-bf39-a9c798d8df60",
     "showTitle": false,
     "tableResultSettingsMap": {},
     "title": ""
    }
   },
   "source": [
    "O preço com desconto e o preço real estão altamente correlacionados, o que é esperado pois o preço com desconto é uma redução do preço original. A correlação negativa entre o preço com desconto e a porcentagem de desconto é relativamente fraca. Um preço mais baixo com desconto não implica diretamente em uma porcentagem de desconto maior e vice-versa. Existe uma correlação fraca entre a avaliação e o número de avaliações. Isso significa que o número de avaliações não tem uma grande influência sobre a avaliação média, indicando que, independentemente de quantas pessoas avaliaram o produto, a média das avaliações pode variar de maneira independente.A correlação entre avaliação e porcentagem de desconto é fraca e negativa. Isso sugere que produtos com descontos maiores não necessariamente têm avaliações mais baixas ou mais altas. \n"
   ]
  },
  {
   "cell_type": "code",
   "execution_count": 0,
   "metadata": {
    "application/vnd.databricks.v1+cell": {
     "cellMetadata": {
      "byteLimit": 2048000,
      "rowLimit": 10000
     },
     "inputWidgets": {},
     "nuid": "ee7f20f8-0448-4013-86d6-dc93748cb730",
     "showTitle": false,
     "tableResultSettingsMap": {},
     "title": ""
    }
   },
   "outputs": [
    {
     "output_type": "display_data",
     "data": {
      "image/png": "[encoded data removed]"
     },
     "metadata": {
      "application/vnd.databricks.v1+output": {
       "addedWidgets": {},
       "arguments": {},
       "data": "data:image/png;base64,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\n",
       "datasetInfos": [],
       "metadata": {},
       "removedWidgets": [],
       "type": "image"
      }
     },
     "output_type": "display_data"
    }
   ],
   "source": [
    "\n",
    "## Gráfico de dispersão gerado com as colunas actual_price e discounted_price\n",
    "\n",
    "from matplotlib import pyplot as plt\n",
    "dataset.plot(kind='scatter', x='actual_price', y='discounted_price', s=32, alpha=.8)\n",
    "plt.gca().spines[['top', 'right',]].set_visible(False)"
   ]
  },
  {
   "cell_type": "code",
   "execution_count": 0,
   "metadata": {
    "application/vnd.databricks.v1+cell": {
     "cellMetadata": {
      "byteLimit": 2048000,
      "implicitDf": true,
      "rowLimit": 10000
     },
     "inputWidgets": {},
     "nuid": "904d0cda-5dec-47cc-833a-239a34196abc",
     "showTitle": false,
     "tableResultSettingsMap": {},
     "title": ""
    }
   },
   "outputs": [
    {
     "output_type": "display_data",
     "data": {
      "text/html": [
       "<style scoped>\n",
       "  .table-result-container {\n",
       "    max-height: 300px;\n",
       "    overflow: auto;\n",
       "  }\n",
       "  table, th, td {\n",
       "    border: 1px solid black;\n",
       "    border-collapse: collapse;\n",
       "  }\n",
       "  th, td {\n",
       "    padding: 5px;\n",
       "  }\n",
       "  th {\n",
       "    text-align: left;\n",
       "  }\n",
       "</style><div class='table-result-container'><table class='table-result'><thead style='background-color: white'><tr></tr></thead><tbody></tbody></table></div>"
      ]
     },
     "metadata": {
      "application/vnd.databricks.v1+output": {
       "addedWidgets": {},
       "aggData": [],
       "aggError": "",
       "aggOverflow": false,
       "aggSchema": [],
       "aggSeriesLimitReached": false,
       "aggType": "",
       "arguments": {},
       "columnCustomDisplayInfos": {},
       "data": [],
       "datasetInfos": [],
       "dbfsResultPath": null,
       "isJsonSchema": true,
       "metadata": {},
       "overflow": false,
       "plotOptions": {
        "customPlotOptions": {},
        "displayType": "table",
        "pivotAggregation": null,
        "pivotColumns": null,
        "xColumns": null,
        "yColumns": null
       },
       "removedWidgets": [],
       "schema": [],
       "type": "table"
      }
     },
     "output_type": "display_data"
    }
   ],
   "source": [
    "%sql CREATE DATABASE silver;"
   ]
  },
  {
   "cell_type": "markdown",
   "metadata": {
    "application/vnd.databricks.v1+cell": {
     "cellMetadata": {
      "byteLimit": 2048000,
      "rowLimit": 10000
     },
     "inputWidgets": {},
     "nuid": "3ece2ee6-19be-4341-abdf-29224c77863b",
     "showTitle": false,
     "tableResultSettingsMap": {},
     "title": ""
    }
   },
   "source": []
  },
  {
   "cell_type": "code",
   "execution_count": 0,
   "metadata": {
    "application/vnd.databricks.v1+cell": {
     "cellMetadata": {
      "byteLimit": 2048000,
      "rowLimit": 10000
     },
     "inputWidgets": {},
     "nuid": "cc522974-51cd-42d8-b326-4a936115ece3",
     "showTitle": false,
     "tableResultSettingsMap": {},
     "title": ""
    }
   },
   "outputs": [
    {
     "output_type": "stream",
     "name": "stdout",
     "output_type": "stream",
     "text": [
      "+----------+--------------------+--------------------+----------------+------------+-------------------+------+-----------------+---------------------+--------------------+--------------------+--------------------+--------------------+--------------------+--------------------+--------------------+\n|product_id|        product_name|            category|discounted_price|actual_price|discount_percentage|rating|     rating_count|        about_product|             user_id|           user_name|           review_id|        review_title|      review_content|            img_link|        product_link|\n+----------+--------------------+--------------------+----------------+------------+-------------------+------+-----------------+---------------------+--------------------+--------------------+--------------------+--------------------+--------------------+--------------------+--------------------+\n|B07JW9H4J1|Wayona Nylon Brai...|Computers&Accesso...|           399.0|      1099.0|               64.0|   4.2|348.2177914110429| High Compatibilit...|AG3D6O4STAQKAY2UV...|Manav,Adarsh gupt...|R3HXWT0LRP0NMF,R2...|Satisfied,Chargin...|Looks durable Cha...|https://m.media-a...|https://www.amazo...|\n|B098NS6PVG|Ambrane Unbreakab...|Computers&Accesso...|           199.0|       349.0|               43.0|   4.0|348.2177914110429| Compatible with a...|AECPFYFQVRUWC3KGN...|ArdKn,Nirbhay kum...|RGIQEG07R9HS2,R1S...|A Good Braided Ca...|I ordered this ca...|https://m.media-a...|https://www.amazo...|\n|B096MSW6CT|Sounce Fast Phone...|Computers&Accesso...|           199.0|      1899.0|               90.0|   3.9|348.2177914110429|【 Fast Charger& D...|AGU3BBQ2V2DDAMOAK...|Kunal,Himanshu,vi...|R3J3EQQ9TZI5ZJ,R3...|Good speed for ea...|Not quite durable...|https://m.media-a...|https://www.amazo...|\n|B08HDJ86NZ|boAt Deuce USB 30...|Computers&Accesso...|           329.0|       699.0|               53.0|   4.2|348.2177914110429| The boAt Deuce US...|AEWAZDZZJLQUYVOVG...|Omkar dhale,JD,HE...|R3EEUZKKK9J36I,R3...|Good product,Good...|Good product,long...|https://m.media-a...|https://www.amazo...|\n|B08CF3B7N1|Portronics Konnec...|Computers&Accesso...|           154.0|       399.0|               61.0|   4.2|348.2177914110429| [CHARGE & SYNC FU...|AE3Q6KSUK5P75D5HF...|rahuls6099,Swasat...|R1BP4L2HH9TFUP,R1...|As good as origin...|Bought this inste...|https://m.media-a...|https://www.amazo...|\n+----------+--------------------+--------------------+----------------+------------+-------------------+------+-----------------+---------------------+--------------------+--------------------+--------------------+--------------------+--------------------+--------------------+--------------------+\nonly showing top 5 rows\n\n"
     ]
    }
   ],
   "source": [
    "\n",
    "# Criando a sessão do Spark\n",
    "spark = SparkSession.builder.appName('PandasToSpark').getOrCreate()\n",
    "\n",
    "# Converter o Pandas DataFrame para Spark DataFrame\n",
    "spark_df1 = spark.createDataFrame(dataset)\n",
    "\n",
    "# Verificar o DataFrame Spark\n",
    "spark_df1.show(5)\n",
    "\n",
    "spark_df1.write.mode(\"overwrite\").saveAsTable(\"silver.name_basics\")"
   ]
  },
  {
   "cell_type": "code",
   "execution_count": 0,
   "metadata": {
    "application/vnd.databricks.v1+cell": {
     "cellMetadata": {
      "byteLimit": 2048000,
      "rowLimit": 10000
     },
     "inputWidgets": {},
     "nuid": "57f12433-88a7-4e1f-a668-e446758af653",
     "showTitle": false,
     "tableResultSettingsMap": {},
     "title": ""
    }
   },
   "outputs": [
    {
     "output_type": "stream",
     "name": "stdout",
     "output_type": "stream",
     "text": [
      "+--------------------+------------+----------------+-----+\n|             user_id|actual_price|discounted_price|count|\n+--------------------+------------+----------------+-----+\n|AF7IXQKBUL6NEIQG4...|       395.0|           199.0|    2|\n|AHVZCQP5SYIVGZJK4...|       700.0|           219.0|    3|\n|AF6SKHWKK53BMAI6U...|       699.0|           263.0|    2|\n|AF477BP57JM7Z4JD4...|       999.0|           199.0|    2|\n|AGH3POHLPXABF3I4A...|      1499.0|           348.0|    2|\n|AF2IRSQZKMBGX44YD...|      1900.0|           899.0|    3|\n|AEQ2YMXSZWEOHK2EH...|      1000.0|           149.0|    2|\n|AFYR53OTBUX2RNAKU...|       399.0|           299.0|    2|\n|AHIKJUDTVJ4T6DV6I...|       249.0|           139.0|    2|\n|AGMJ6TDLOVZIR5ZU6...|       800.0|           269.0|    2|\n|AFNYIBWKJLJQKY4BG...|      1799.0|           970.0|    3|\n|AE3Q6KSUK5P75D5HF...|       399.0|           154.0|    3|\n|AH3ZH5IE4MTFB3T33...|       999.0|           339.0|    2|\n|AF2XXVO7JUBUVAOBT...|       399.0|           159.0|    3|\n|AHBNKB74LGTYUOKPA...|     21990.0|         13490.0|    2|\n|AHEVO4Q5NM4YXMG2H...|     22900.0|         13490.0|    2|\n|AG3D6O4STAQKAY2UV...|      1099.0|           399.0|    5|\n|AGUAYQHARAKR2VZTR...|       899.0|           350.0|    3|\n|AG7C6DAADCTRQJG2B...|       499.0|          176.63|    3|\n|AHL2CPZ63TFC3VB3R...|       999.0|           399.0|    2|\n+--------------------+------------+----------------+-----+\nonly showing top 20 rows\n\n"
     ]
    }
   ],
   "source": [
    "# Identificando duplicados, agrupando por colunas\n",
    "duplicados = spark_df1.groupBy(\"user_id\", \"actual_price\", \"discounted_price\").count().filter(\"count > 1\")\n",
    "\n",
    "# Exibindo os resultados\n",
    "duplicados.show()\n"
   ]
  },
  {
   "cell_type": "code",
   "execution_count": 0,
   "metadata": {
    "application/vnd.databricks.v1+cell": {
     "cellMetadata": {
      "byteLimit": 2048000,
      "rowLimit": 10000
     },
     "inputWidgets": {},
     "nuid": "9238497a-10ce-42a3-94f2-4baa60b148b9",
     "showTitle": false,
     "tableResultSettingsMap": {},
     "title": ""
    }
   },
   "outputs": [
    {
     "output_type": "stream",
     "name": "stdout",
     "output_type": "stream",
     "text": [
      "+----------+--------------------+--------------------+----------------+------------+-------------------+------+-----------------+--------------------+--------------------+--------------------+--------------------+--------------------+--------------------+--------------------+--------------------+\n|product_id|        product_name|            category|discounted_price|actual_price|discount_percentage|rating|     rating_count|       about_product|             user_id|           user_name|           review_id|        review_title|      review_content|            img_link|        product_link|\n+----------+--------------------+--------------------+----------------+------------+-------------------+------+-----------------+--------------------+--------------------+--------------------+--------------------+--------------------+--------------------+--------------------+--------------------+\n|B098NS6PVG|Ambrane Unbreakab...|Computers&Accesso...|           199.0|       349.0|               43.0|   4.0|348.2177914110429|Compatible with a...|AECPFYFQVRUWC3KGN...|ArdKn,Nirbhay kum...|RGIQEG07R9HS2,R1S...|A Good Braided Ca...|I ordered this ca...|https://m.media-a...|https://www.amazo...|\n|B08CF3B7N1|Portronics Konnec...|Computers&Accesso...|           154.0|       399.0|               61.0|   4.2|348.2177914110429|[CHARGE & SYNC FU...|AE3Q6KSUK5P75D5HF...|rahuls6099,Swasat...|R1BP4L2HH9TFUP,R1...|As good as origin...|Bought this inste...|https://m.media-a...|https://www.amazo...|\n|B08WRWPM22|boAt Micro USB 55...|Computers&Accesso...|          176.63|       499.0|               65.0|   4.1|348.2177914110429|It Ensures High S...|AG7C6DAADCTRQJG2B...|Vivek kumar,Amazo...|R8E73K2KWJRDS,RSD...|Long durable.,goo...|Build quality is ...|https://m.media-a...|https://www.amazo...|\n|B08DDRGWTJ|MI Usb Type-C Cab...|Computers&Accesso...|           229.0|       299.0|               23.0|   4.3|348.2177914110429|1m long Type-C US...|AHW6E5LQ2BDYOIVLA...|Pavan A H,Jayesh ...|R2X090D1YHACKR,R3...|Worth for money -...|Worth for money -...|https://m.media-a...|https://www.amazo...|\n|B082LZGK39|Ambrane Unbreakab...|Computers&Accesso...|           199.0|       299.0|               33.0|   4.0|348.2177914110429|Universal Compati...|AECPFYFQVRUWC3KGN...|ArdKn,Nirbhay kum...|RGIQEG07R9HS2,R1S...|A Good Braided Ca...|I ordered this ca...|https://m.media-a...|https://www.amazo...|\n+----------+--------------------+--------------------+----------------+------------+-------------------+------+-----------------+--------------------+--------------------+--------------------+--------------------+--------------------+--------------------+--------------------+--------------------+\nonly showing top 5 rows\n\n"
     ]
    }
   ],
   "source": [
    "# Filtrar produtos com preço abaixo de ₹500\n",
    "spark_df1_filtered = spark_df1.filter(col('actual_price') < 500)\n",
    "\n",
    "spark_df1_filtered.show(5)\n"
   ]
  },
  {
   "cell_type": "code",
   "execution_count": 0,
   "metadata": {
    "application/vnd.databricks.v1+cell": {
     "cellMetadata": {
      "byteLimit": 2048000,
      "rowLimit": 10000
     },
     "inputWidgets": {},
     "nuid": "c5253168-bf83-43d4-b2eb-74e1771c75c8",
     "showTitle": false,
     "tableResultSettingsMap": {},
     "title": ""
    }
   },
   "outputs": [
    {
     "output_type": "stream",
     "name": "stdout",
     "output_type": "stream",
     "text": [
      "+----------+--------------------+--------------------+----------------+------------+-------------------+------+-----------------+---------------------+--------------------+--------------------+--------------------+--------------------+--------------------+--------------------+--------------------+\n|product_id|        product_name|            category|discounted_price|actual_price|discount_percentage|rating|     rating_count|        about_product|             user_id|           user_name|           review_id|        review_title|      review_content|            img_link|        product_link|\n+----------+--------------------+--------------------+----------------+------------+-------------------+------+-----------------+---------------------+--------------------+--------------------+--------------------+--------------------+--------------------+--------------------+--------------------+\n|B07JW9H4J1|Wayona Nylon Brai...|Computers&Accesso...|           399.0|      1099.0|               64.0|   4.2|348.2177914110429| High Compatibilit...|AG3D6O4STAQKAY2UV...|Manav,Adarsh gupt...|R3HXWT0LRP0NMF,R2...|Satisfied,Chargin...|Looks durable Cha...|https://m.media-a...|https://www.amazo...|\n|B096MSW6CT|Sounce Fast Phone...|Computers&Accesso...|           199.0|      1899.0|               90.0|   3.9|348.2177914110429|【 Fast Charger& D...|AGU3BBQ2V2DDAMOAK...|Kunal,Himanshu,vi...|R3J3EQQ9TZI5ZJ,R3...|Good speed for ea...|Not quite durable...|https://m.media-a...|https://www.amazo...|\n|B08HDJ86NZ|boAt Deuce USB 30...|Computers&Accesso...|           329.0|       699.0|               53.0|   4.2|348.2177914110429| The boAt Deuce US...|AEWAZDZZJLQUYVOVG...|Omkar dhale,JD,HE...|R3EEUZKKK9J36I,R3...|Good product,Good...|Good product,long...|https://m.media-a...|https://www.amazo...|\n|B08CF3B7N1|Portronics Konnec...|Computers&Accesso...|           154.0|       399.0|               61.0|   4.2|348.2177914110429| [CHARGE & SYNC FU...|AE3Q6KSUK5P75D5HF...|rahuls6099,Swasat...|R1BP4L2HH9TFUP,R1...|As good as origin...|Bought this inste...|https://m.media-a...|https://www.amazo...|\n|B08Y1TFSP6|pTron Solero TB30...|Computers&Accesso...|           149.0|      1000.0|               85.0|   3.9|348.2177914110429| Fast Charging & D...|AEQ2YMXSZWEOHK2EH...|Jayesh,Rajesh k.,...|R7S8ANNSDPR40,R3C...|It's pretty good,...|It's a good produ...|https://m.media-a...|https://www.amazo...|\n|B08WRWPM22|boAt Micro USB 55...|Computers&Accesso...|          176.63|       499.0|               65.0|   4.1|348.2177914110429| It Ensures High S...|AG7C6DAADCTRQJG2B...|Vivek kumar,Amazo...|R8E73K2KWJRDS,RSD...|Long durable.,goo...|Build quality is ...|https://m.media-a...|https://www.amazo...|\n|B08CF3D7QR|Portronics Konnec...|Computers&Accesso...|           154.0|       339.0|               55.0|   4.3|348.2177914110429| [CHARGE & SYNC FU...|AGYLPKPZHVYKKZHOT...|Tanya,Anu,Akshay,...|R11MQS7WD9C3I0,R2...|Good for fast cha...|The cable is effi...|https://m.media-a...|https://www.amazo...|\n|B0789LZTCJ|boAt Rugged v3 Ex...|Computers&Accesso...|           299.0|       799.0|               63.0|   4.2|348.2177914110429| The boAt rugged c...|AEWAZDZZJLQUYVOVG...|Omkar dhale,JD,HE...|R3EEUZKKK9J36I,R3...|Good product,Good...|Good product,long...|https://m.media-a...|https://www.amazo...|\n|B07KSMBL2H|AmazonBasics Flex...|Electronics|HomeT...|           219.0|       700.0|               69.0|   4.4|348.2177914110429| Flexible, lightwe...|AEYJ5I6JZZPOJB6MG...|Rishav Gossain,Sh...|R1FKOKZ3HHKJBZ,R2...|It's quite good a...|I am using it for...|https://m.media-a...|https://www.amazo...|\n|B085DTN6R2|Portronics Konnec...|Computers&Accesso...|           350.0|       899.0|               61.0|   4.2|348.2177914110429| [20W PD FAST CHAR...|AGUAYQHARAKR2VZTR...|Priya,Mansi,Plaba...|R1QETDIPRCX4S0,RA...|Works,Nice Produc...|Definitely isn’t ...|https://m.media-a...|https://www.amazo...|\n|B09KLVMZ3B|Portronics Konnec...|Computers&Accesso...|           159.0|       399.0|               60.0|   4.1|348.2177914110429| [CHARGE & SYNC FU...|AF2XXVO7JUBUVAOBT...|Deepaak Singh,siv...|R20XIOU25HEX80,R2...|Great but,Worked ...|Loosing charging ...|https://m.media-a...|https://www.amazo...|\n|B08WRBG3XW|boAt Type C A325 ...|Computers&Accesso...|           199.0|       499.0|               60.0|   4.1|348.2177914110429| Type C A 325 Cabl...|AFB5KJR4Q5FICAHBO...|Rohan Narkar,JAGW...|R2BP8Y5OJXKJLF,R2...|Good for charging...|Check for offera ...|https://m.media-a...|https://www.amazo...|\n|B09NHVCHS9|Flix Micro Usb Ca...|Computers&Accesso...|            59.0|       199.0|               70.0|   4.0|348.2177914110429| Micro usb cable i...|AHIKJUDTVJ4T6DV6I...|$@|\\|TO$|-|,Sethu...|R3F4T5TRYPTMIG,R3...|Worked on iPhone ...|Worked on iPhone ...|https://m.media-a...|https://www.amazo...|\n|B01M4GGIVU|Tizum High Speed ...|Electronics|HomeT...|           199.0|       699.0|               72.0|   4.2|348.2177914110429| Latest Standard H...|AGVUE2NFN2MQEOQ4P...|Yashpreet Singh,A...|R2DIHMHOPYEASB,R2...|Cheap product and...|The signal is too...|https://m.media-a...|https://www.amazo...|\n|B09W5XR9RT|Duracell USB C To...|Computers&Accesso...|           970.0|      1999.0|               51.0|   4.4|            184.0| 1.2M Tangle Free ...|AHZWJCVEIEI76H2VG...|Amazon Customer,G...|R1Y30KU04V3QF4,RK...|Very good product...|Fast charging.,Ca...|https://m.media-a...|https://www.amazo...|\n|B077Z65HSD|boAt A400 USB Typ...|Computers&Accesso...|           299.0|       999.0|               70.0|   4.3|348.2177914110429| 2 meter special r...|AFA332YHUPB6I7KMM...|GHOST,Amazon Cust...|R1G4I5FLAHM16P,R1...|Just buy it dont ...|One amazing cable...|https://m.media-a...|https://www.amazo...|\n|B00NH11PEY|AmazonBasics USB ...|Computers&Accesso...|           199.0|       750.0|               73.0|   4.5|348.2177914110429| One 9.8-foot-long...|AGBX233C7B7D7YZEL...|Pravin Kumar,Maes...|R1C8MVU3EIX56Y,R1...|Nice,good,Paisa v...|Sufficient length...|https://m.media-a...|https://www.amazo...|\n|B09CMM3VGK|Ambrane 60W / 3A ...|Computers&Accesso...|           179.0|       499.0|               64.0|   4.0|348.2177914110429| Stay ahead and ne...|AGHYCMV7RJ5D76UEZ...|Rishabh,Amazon Cu...|R223OIZPTZ994S,RA...|Good product,Good...|The cable build q...|https://m.media-a...|https://www.amazo...|\n|B08QSC1XY8|Zoul USB C 60W Fa...|Computers&Accesso...|           389.0|      1099.0|               65.0|   4.3|            974.0| {3A/QC 3.0 FAST C...|AHMKXORT3VNMB75C3...|Pratyush Pahuja,T...|R2S0AYWUV349HP,R3...|Great Cable, Char...|Not charging as f...|https://m.media-a...|https://www.amazo...|\n|B0B4HJNPV4|pTron Solero T351...|Computers&Accesso...|           199.0|       999.0|               80.0|   3.9|348.2177914110429| Universal Compati...|AF477BP57JM7Z4JD4...|Placeholder,श्रीP...|R1Q323BB35OP30,RJ...|The metal pin is ...|It's a good data ...|https://m.media-a...|https://www.amazo...|\n+----------+--------------------+--------------------+----------------+------------+-------------------+------+-----------------+---------------------+--------------------+--------------------+--------------------+--------------------+--------------------+--------------------+--------------------+\nonly showing top 20 rows\n\n"
     ]
    }
   ],
   "source": [
    "# Filtrar produtos com desconto acima de 50%\n",
    "spark_df1_filtered = spark_df1.filter(col('discount_percentage') > 50)\n",
    "spark_df1_filtered.show()"
   ]
  },
  {
   "cell_type": "code",
   "execution_count": 0,
   "metadata": {
    "application/vnd.databricks.v1+cell": {
     "cellMetadata": {
      "byteLimit": 2048000,
      "rowLimit": 10000
     },
     "inputWidgets": {},
     "nuid": "4d4173b2-687e-4a99-8519-2efd372db704",
     "showTitle": false,
     "tableResultSettingsMap": {},
     "title": ""
    }
   },
   "outputs": [
    {
     "output_type": "stream",
     "name": "stdout",
     "output_type": "stream",
     "text": [
      "+----------+--------------------+--------------------+----------------+------------+-------------------+------+-----------------+--------------------+--------------------+--------------------+--------------------+--------------------+--------------------+--------------------+--------------------+\n|product_id|        product_name|            category|discounted_price|actual_price|discount_percentage|rating|     rating_count|       about_product|             user_id|           user_name|           review_id|        review_title|      review_content|            img_link|        product_link|\n+----------+--------------------+--------------------+----------------+------------+-------------------+------+-----------------+--------------------+--------------------+--------------------+--------------------+--------------------+--------------------+--------------------+--------------------+\n|B09WN3SRC7|Sony Bravia 164 c...|Electronics|HomeT...|         77990.0|    139900.0|               44.0|   4.7|348.2177914110429|Resolution: 4K Ul...|AF6Z2OYIXRPZJHVYN...|David P.,Dr. ATUL...|R16HCZ0W1TRSMM,R1...|Product installat...|The delivery peop...|https://m.media-a...|https://www.amazo...|\n|B095JPKPH3|OnePlus 163.8 cm ...|Electronics|HomeT...|         61999.0|     69999.0|               11.0|   4.1|348.2177914110429|Resolution: 4K Ul...|AG3QTVXT2ODRVKOQJ...|Rashmi,Raghvendra...|R2PF9QV9JEQO9K,R2...|Almost Perfect!,R...|Update after 9 mo...|https://m.media-a...|https://www.amazo...|\n|B0BC8BQ432|VU 164 cm (65 inc...|Electronics|HomeT...|         54990.0|     85000.0|               35.0|   4.3|348.2177914110429|Resolution: 4K Ul...|AHY6AK5LXBTGXDDXS...|UtdBuzz,Mukund Na...|R2G4T57OLXDVPL,R3...|Good TV for the p...|,Screen quality i...|https://m.media-a...|https://www.amazo...|\n|B0B15GSPQW|Samsung 138 cm (5...|Electronics|HomeT...|         47990.0|     70900.0|               32.0|   4.3|348.2177914110429|Resolution : Crys...|AHDIDVECFGA6OQRNU...|Binu,Sabjan,Ramka...|R3RUBB6REUGTT,R28...|Best(Branded) Bud...|Before finalizing...|https://m.media-a...|https://www.amazo...|\n|B0B3XXSB1K|LG 139 cm (55 inc...|Electronics|HomeT...|         47990.0|     79990.0|               40.0|   4.3|348.2177914110429|Resolution: 4K Ul...|AFCWL3MX7BP2ZUDD3...|Raj Mohammed,Sams...|RC3ZLDRM8GA9T,RMD...|Love Amazon but l...|There's no magic ...|https://m.media-a...|https://www.amazo...|\n+----------+--------------------+--------------------+----------------+------------+-------------------+------+-----------------+--------------------+--------------------+--------------------+--------------------+--------------------+--------------------+--------------------+--------------------+\nonly showing top 5 rows\n\n"
     ]
    }
   ],
   "source": [
    "# Ordenar os dados por preço e rating\n",
    "sorted_df = spark_df1.orderBy(col('discounted_price').desc(), col('rating').desc())\n",
    "\n",
    "sorted_df.show(5)\n"
   ]
  },
  {
   "cell_type": "code",
   "execution_count": 0,
   "metadata": {
    "application/vnd.databricks.v1+cell": {
     "cellMetadata": {
      "byteLimit": 2048000,
      "rowLimit": 10000
     },
     "inputWidgets": {},
     "nuid": "65167e58-1139-49cd-b5d1-65775a606f5e",
     "showTitle": false,
     "tableResultSettingsMap": {},
     "title": ""
    }
   },
   "outputs": [
    {
     "output_type": "stream",
     "name": "stdout",
     "output_type": "stream",
     "text": [
      "+--------------------+---------------------+\n|            category|avg(discounted_price)|\n+--------------------+---------------------+\n|Electronics|HomeT...|    872.6666666666666|\n|Electronics|HomeT...|   24840.190476190477|\n|Electronics|HomeT...|    663.6666666666666|\n|Computers&Accesso...|    722.1111111111111|\n|Electronics|HomeA...|                349.0|\n+--------------------+---------------------+\nonly showing top 5 rows\n\n"
     ]
    }
   ],
   "source": [
    "# Agrupar por categoria e calcular a média do preço com base na categoria\n",
    "avg_price_by_category = spark_df1.groupBy('category').avg('discounted_price')\n",
    "\n",
    "avg_price_by_category.show(5)\n"
   ]
  },
  {
   "cell_type": "code",
   "execution_count": 0,
   "metadata": {
    "application/vnd.databricks.v1+cell": {
     "cellMetadata": {
      "byteLimit": 2048000,
      "implicitDf": true,
      "rowLimit": 10000
     },
     "inputWidgets": {},
     "nuid": "08606d44-10f7-4542-86bd-58c32fdbcc7d",
     "showTitle": false,
     "tableResultSettingsMap": {},
     "title": ""
    }
   },
   "outputs": [
    {
     "output_type": "display_data",
     "data": {
      "text/html": [
       "<style scoped>\n",
       "  .table-result-container {\n",
       "    max-height: 300px;\n",
       "    overflow: auto;\n",
       "  }\n",
       "  table, th, td {\n",
       "    border: 1px solid black;\n",
       "    border-collapse: collapse;\n",
       "  }\n",
       "  th, td {\n",
       "    padding: 5px;\n",
       "  }\n",
       "  th {\n",
       "    text-align: left;\n",
       "  }\n",
       "</style><div class='table-result-container'><table class='table-result'><thead style='background-color: white'><tr><th>product_id</th><th>product_name</th><th>category</th><th>discounted_price</th><th>actual_price</th><th>discount_percentage</th><th>rating</th><th>rating_count</th><th>about_product</th><th>user_id</th><th>user_name</th><th>review_id</th><th>review_title</th><th>review_content</th><th>img_link</th><th>product_link</th></tr></thead><tbody><tr><td>B07JW9H4J1</td><td>Wayona Nylon Braided USB to Lightning Fast Charging and Data Sync Cable Compatible for iPhone 13, 12,11, X, 8, 7, 6, 5, iPad Air, Pro, Mini (3 FT Pack of 1, Grey)</td><td>Computers&Accessories|Accessories&Peripherals|Cables&Accessories|Cables|USBCables</td><td>399.0</td><td>1099.0</td><td>64.0</td><td>4.2</td><td>348.2177914110429</td><td>High Compatibility : Compatible With iPhone 12, 11, X/XsMax/Xr ,iPhone 8/8 Plus,iPhone 7/7 Plus,iPhone 6s/6s Plus,iPhone 6/6 Plus,iPhone 5/5s/5c/se,iPad Pro,iPad Air 1/2,iPad mini 1/2/3,iPod nano7,iPod touch and more apple devices.|Fast Charge&Data Sync : It can charge and sync simultaneously at a rapid speed, Compatible with any charging adaptor, multi-port charging station or power bank.|Durability : Durable nylon braided design with premium aluminum housing and toughened nylon fiber wound tightly around the cord lending it superior durability and adding a bit to its flexibility.|High Security Level : It is designed to fully protect your device from damaging excessive current.Copper core thick+Multilayer shielding, Anti-interference, Protective circuit equipment.|WARRANTY: 12 months warranty and friendly customer services, ensures the long-time enjoyment of your purchase. If you meet any question or problem, please don't hesitate to contact us.</td><td>AG3D6O4STAQKAY2UVGEUV46KN35Q,AHMY5CWJMMK5BJRBBSNLYT3ONILA,AHCTC6ULH4XB6YHDY6PCH2R772LQ,AGYHHIERNXKA6P5T7CZLXKVPT7IQ,AG4OGOFWXJZTQ2HKYIOCOY3KXF2Q,AENGU523SXMOS7JPDTW52PNNVWGQ,AEQJHCVTNINBS4FKTBGQRQTGTE5Q,AFC3FFC5PKFF5PMA52S3VCHOZ5FQ</td><td>Manav,Adarsh gupta,Sundeep,S.Sayeed Ahmed,jaspreet singh,Khaja moin,Anand,S.ARUMUGAM</td><td>R3HXWT0LRP0NMF,R2AJM3LFTLZHFO,R6AQJGUP6P86,R1KD19VHEDV0OR,R3C02RMYQMK6FC,R39GQRVBUZBWGY,R2K9EDOE15QIRJ,R3OI7YT648TL8I</td><td>Satisfied,Charging is really fast,Value for money,Product review,Good quality,Good product,Good Product,As of now seems good</td><td>Looks durable Charging is fine tooNo complains,Charging is really fast, good product.,Till now satisfied with the quality.,This is a good product . The charging speed is slower than the original iPhone cable,Good quality, would recommend,https://m.media-amazon.com/images/W/WEBP_402378-T1/images/I/81---F1ZgHL._SY88.jpg,Product had worked well till date and was having no issue.Cable is also sturdy enough...Have asked for replacement and company is doing the same...,Value for money</td><td>https://m.media-amazon.com/images/W/WEBP_402378-T1/images/I/51UsScvHQNL._SX300_SY300_QL70_FMwebp_.jpg</td><td>https://www.amazon.in/Wayona-Braided-WN3LG1-Syncing-Charging/dp/B07JW9H4J1/ref=sr_1_1?qid=1672909124&s=electronics&sr=1-1</td></tr><tr><td>B098NS6PVG</td><td>Ambrane Unbreakable 60W / 3A Fast Charging 1.5m Braided Type C Cable for Smartphones, Tablets, Laptops & other Type C devices, PD Technology, 480Mbps Data Sync, Quick Charge 3.0 (RCT15A, Black)</td><td>Computers&Accessories|Accessories&Peripherals|Cables&Accessories|Cables|USBCables</td><td>199.0</td><td>349.0</td><td>43.0</td><td>4.0</td><td>348.2177914110429</td><td>Compatible with all Type C enabled devices, be it an android smartphone (Mi, Samsung, Oppo, Vivo, Realme, OnePlus, etc), tablet, laptop (Macbook, Chromebook, etc)|Supports Quick Charging (2.0/3.0)|Unbreakable – Made of special braided outer with rugged interior bindings, it is ultra-durable cable that won’t be affected by daily rough usage|Ideal Length – It has ideal length of 1.5 meters which is neither too short like your typical 1meter cable or too long like a 2meters cable|Supports maximum 3A fast charging and 480 Mbps data transfer speed|6 months manufacturer warranty from the date of purchase</td><td>AECPFYFQVRUWC3KGNLJIOREFP5LQ,AGYYVPDD7YG7FYNBXNGXZJT525AQ,AHONIZU3ICIEHQIGQ6R2VFRSBXOQ,AFPHD2CRPDZMWMBL7WXRSVYWS5JA,AEZ346GX3HJ4O4XNRPHCNHXQURMQ,AEPSWFPNECKO34PUC7I56ITGXR6Q,AHWVEHR5DYLVFTO2KF3IZATFQSWQ,AH4QT33M55677I7ISQOAKEQWACYQ</td><td>ArdKn,Nirbhay kumar,Sagar Viswanathan,Asp,Placeholder,BharanI,sonia,Niam</td><td>RGIQEG07R9HS2,R1SMWZQ86XIN8U,R2J3Y1WL29GWDE,RYGGS0M09S3KY,R17KQRUTAN5DKS,R3AAQGS6HP2QUK,R1HDNOG6TO2CCA,R3PHKXYA5AFEOU</td><td>A Good Braided Cable for Your Type C Device,Good quality product from ambrane,Super cable,As,Good quality,Good product,its good,Good quality for the price but one issue with my unit</td><td>I ordered this cable to connect my phone to Android Auto of car. The cable is really strong and the connection ports are really well made. I already has a Micro USB cable from Ambrane and it's still in good shape. I connected my phone to the car using the cable and it got connected well and no issues. I also connected it to the charging port and yes it has Fast Charging support.,It quality is good at this price and the main thing is that i didn't ever thought that this cable will be so long it's good one and charging power is too good and also supports fast charging,Value for money, with extra length👍,Good, working fine,Product quality is good,Good,very good,Bought for my daughter's old phone.Brand new cable it was not charging, I already repacked and requested for replacement.I checked again, and there was some green colour paste/fungus inside the micro USB connector. I cleaned with an alcoholic and starts working again.Checked the ampere of charging speed got around 1400ma-1500ma - not bad, came with braided 1.5m long cable, pretty impressive for the price.Can't blame the manufacturer.But quality issues by the distributor, they might have stored in very humid place.</td><td>https://m.media-amazon.com/images/W/WEBP_402378-T2/images/I/31zOsqQOAOL._SY445_SX342_QL70_FMwebp_.jpg</td><td>https://www.amazon.in/Ambrane-Unbreakable-Charging-Braided-Cable/dp/B098NS6PVG/ref=sr_1_2?qid=1672909124&s=electronics&sr=1-2</td></tr><tr><td>B096MSW6CT</td><td>Sounce Fast Phone Charging Cable & Data Sync USB Cable Compatible for iPhone 13, 12,11, X, 8, 7, 6, 5, iPad Air, Pro, Mini & iOS Devices</td><td>Computers&Accessories|Accessories&Peripherals|Cables&Accessories|Cables|USBCables</td><td>199.0</td><td>1899.0</td><td>90.0</td><td>3.9</td><td>348.2177914110429</td><td>【 Fast Charger& Data Sync】-With built-in safety proctections and four-core copper wires promote maximum signal quality and strength and enhance charging & data transfer speed with up to 480 mb/s transferring speed.|【 Compatibility】-Compatible with iPhone 13, 12,11, X, 8, 7, 6, 5, iPad Air, Pro, Mini & iOS devices.|【 Sturdy & Durable】-The jacket and enforced connector made of TPE and premium copper, are resistant to repeatedly bending and coiling.|【 Ultra High Quality】: According to the experimental results, the fishbone design can accept at least 20,000 bending and insertion tests for extra protection and durability. Upgraded 3D aluminum connector and exclusive laser welding technology, which to ensure the metal part won't break and also have a tighter connection which fits well even with a protective case on and will never loose connection.|【 Good After Sales Service】-Our friendly and reliable customer service will respond to you within 24 hours ! you can purchase with confidence,and every sale includes a 365-day worry-free Service to prove the importance we set on quality.</td><td>AGU3BBQ2V2DDAMOAKGFAWDDQ6QHA,AESFLDV2PT363T2AQLWQOWZ4N3OA,AHTPQRIMGUD4BYR5YIHBH3CCGEFQ,AEUVWXYP5LT7PZLLZENEO2NODPBQ,AHC7MPW55DOO6WNCOQVA2VHOD26A,AFDI6FRPFBTNBG7BAEB7JDJSMKDQ,AFQKCEEEKXCOHTDG4WUN3XPPHJQQ,AHKUUFNMBZIDLSSPA4FEHIO2EC7Q</td><td>Kunal,Himanshu,viswanath,sai niharka,saqib malik,Aashiq,Ramu Challa,Sanjay gupta</td><td>R3J3EQQ9TZI5ZJ,R3E7WBGK7ID0KV,RWU79XKQ6I1QF,R25X4TBMPY91LX,R27OK7G99VK0TR,R207CYDCHJJTCJ,R3PCU8XMU173BT,R1IMONDOWRNU5V</td><td>Good speed for earlier versions,Good Product,Working good,Good for the price,Good,Worth for money,Working nice,it's a really nice product</td><td>Not quite durable and sturdy,https://m.media-amazon.com/images/W/WEBP_402378-T1/images/I/71rIggrbUCL._SY88.jpg,Working good,https://m.media-amazon.com/images/W/WEBP_402378-T1/images/I/61bKp9YO6wL._SY88.jpg,Product,Very nice product,Working well,It's a really nice product</td><td>https://m.media-amazon.com/images/W/WEBP_402378-T1/images/I/31IvNJZnmdL._SY445_SX342_QL70_FMwebp_.jpg</td><td>https://www.amazon.in/Sounce-iPhone-Charging-Compatible-Devices/dp/B096MSW6CT/ref=sr_1_3?qid=1672909124&s=electronics&sr=1-3</td></tr><tr><td>B08HDJ86NZ</td><td>boAt Deuce USB 300 2 in 1 Type-C & Micro USB Stress Resistant, Tangle-Free, Sturdy Cable with 3A Fast Charging & 480mbps Data Transmission, 10000+ Bends Lifespan and Extended 1.5m Length(Martian Red)</td><td>Computers&Accessories|Accessories&Peripherals|Cables&Accessories|Cables|USBCables</td><td>329.0</td><td>699.0</td><td>53.0</td><td>4.2</td><td>348.2177914110429</td><td>The boAt Deuce USB 300 2 in 1 cable is compatible with smartphones, tablets, PC peripherals, Bluetooth speakers, power banks and all other devices with Type-C as well as Micro USB port|It ensures 3A fast charging and data transmissions with rapid sync at 480 mbps|The premium Nylon braided skin makes it sturdy and invincible against external damage|Its Aluminium alloy shell housing makes it last longer with 10000+ Bends Lifespan with extended frame protection for strain relief|The resilient and flexible design offers a tangle free experience seamlessly|Deuce USB 300 cable offers a perfect 1.5 meters in length for smooth & hassle-free user experience|2 years warranty from the date of purchase</td><td>AEWAZDZZJLQUYVOVGBEUKSLXHQ5A,AG5HTSFRRE6NL3M5SGCUQBP7YSCA,AH725ST5NW2Y4JZPKUNTIJCUK2BA,AHV3TXIFCJPMS4D5JATCEUR266MQ,AGWIGDEMFIIUAOXYY2QATNBSUGHA,AFSTSLQUV4EVEXWKBOLEFHL2H5YQ,AGAKDNBHY2FKX7I4ACRGILU7QL7A,AFNWJUWJRHCC6HN52KMG5AKZY37Q</td><td>Omkar dhale,JD,HEMALATHA,Ajwadh a.,amar singh chouhan,Ravi Siddan,Himanshu Goel,Udaykumar</td><td>R3EEUZKKK9J36I,R3HJVYCLYOY554,REDECAZ7AMPQC,R1CLH2ULIVG5U3,R2DMKIBGFKBD6R,RC89B5IAJUTR5,R3B3DDON5FH8DS,R13WAEJDI5RS36</td><td>Good product,Good one,Nice,Really nice product,Very first time change,Good,Fine product but could be better,Very nice it's charging like jet</td><td>Good product,long wire,Charges good,Nice,I bought this cable for Rs.339 worthy product for this price, i tested it in various charger adapters 33w and 18w it supports fast charging as well.,Good,Ok,I had got this at good price on sale on Amazon and product is useful with warranty but for warranty you need to go very far not practical for such a cost and mine micro to type c connector stopped working after few days only.,I like this product</td><td>https://m.media-amazon.com/images/I/41V5FtEWPkL._SX300_SY300_QL70_FMwebp_.jpg</td><td>https://www.amazon.in/Deuce-300-Resistant-Tangle-Free-Transmission/dp/B08HDJ86NZ/ref=sr_1_4?qid=1672909124&s=electronics&sr=1-4</td></tr><tr><td>B08CF3B7N1</td><td>Portronics Konnect L 1.2M Fast Charging 3A 8 Pin USB Cable with Charge & Sync Function for iPhone, iPad (Grey)</td><td>Computers&Accessories|Accessories&Peripherals|Cables&Accessories|Cables|USBCables</td><td>154.0</td><td>399.0</td><td>61.0</td><td>4.2</td><td>348.2177914110429</td><td>[CHARGE & SYNC FUNCTION]- This cable comes with charging & Data sync function|[HIGH QUALITY MATERIAL]- TPE + Nylon Material to make sure that the life of the cable is enhanced significantly|[LONG CORD]- The Cable is extra thick 1.2 meter long, optimized for an easy use for your comfort at home or office|[MORE DURABLE]-This cable is unique interms of design and multi-use and is positioned to provide the best comfort and performance while using|[UNIVERSAL COMPATIBILITY]- Compatible with all devices like iPhone XS, X, XR, 8, 7, 6S, 6, 5S, iPad Pro, iPad mini and iPad Air</td><td>AE3Q6KSUK5P75D5HFYHCRAOLODSA,AFUGIFH5ZAFXRDSZHM4QB2KPKFUQ,AFK4NJOLFSJGWLOJIUIAROJF6YVA,AFUOTYRFUXVPEBGIXVZZ7DR3CZUA,AFDLRSXKDZ6U3U3KD46SQLFGZQRA,AH5VLM66SIK7J3IRG4NY7XVOQ55A,AE3MQNNHHLUHXURL5S7IAR7JTGNQ,AFSEOFZY67MYC7UAJU264Z5NFTLA</td><td>rahuls6099,Swasat Borah,Ajay Wadke,Pranali,RVK,Bhargav,Durai Vignesh,Amazon Customer</td><td>R1BP4L2HH9TFUP,R16PVJEXKV6QZS,R2UPDB81N66T4P,R3KK4GT934ST3I,RCFHMWUSBIJO,RDO7DACXMAJ84,R3A6MEZL3LY66Z,R1ESIEKPGAYA29</td><td>As good as original,Decent,Good one for secondary use,Best quality,GOOD,Amazing product at a mind blowing price!,Nice Quality,Good product</td><td>Bought this instead of original apple, does the work for 150rs, not as fast as apple charger but its a good option if you want cheap and good product, bought it for iPad pro 10.5 and it's working flawlessly, build quality is ok, its not like i am gonna hang my clothes on it and i want a very strong cable, even a braided cable stop working after a year, i have used both Anker and Apple store strong braided cable they all stop working after a year so please don't buy high end cables just for that instead choose a this one and even if it's stops working withing a year you only loose 150rs compares to 2000rs.UPDATE------------------------------------pin has stopped charging from one side, now i have to slip the pin to charge from other side, but i will update and let know for how long does it work,,It’s good. Not sure about durability as the pin area feels a bit fragile,Does not support apple carplaySo was little disappointed about thatOther than that cable is made up of very good quality,Best to buy,100% NOT FATHFUL,Writing this review post 10 months and 3 orders of the same product.Honestly Portronics Konnect L lightning cable works like magic with the original Apple charging brick.Seeing the price of the cable I initially hesitated buying as it was as low as ₹99/- with the offers and so I wasn’t sure if it would work well with my iPhone 12 or whether it would impact my iPhone’s battery health because all the other lightning cable brands were costing over ₹350/- like Wayona, Amazon Basics, etc.Earlier I was using Wayona Brand lightning cable with eventually frayed and stopped working.Charging Speed:Charges my iPhone fast enough almost similar compared to the original cable level when used with 12W Original Apple power adapter.Quality and Durability:Great quality braided cable and doesn’t tangle easily and can withstand day-to-day usage.L-Shaped pin:This is very innovative by Portronics and it makes sure the cable doesn’t get damaged even if used while charging.CarPlay and Data Sync:Works smoothly with CarPlay and syncs data effortlessly.PS: I have used this cable only with the Original Apple Charging Brick and extremely satisfied with its performance.,Better than I expect the product I like that Quality and I plan to buy same type cable come with usb C to Lighting cable for emergency purpose that much I love this cable. Buy for this cable only emergency uses only since Good one,Good product and value for money</td><td>https://m.media-amazon.com/images/W/WEBP_402378-T2/images/I/31VzNhhqifL._SX300_SY300_QL70_FMwebp_.jpg</td><td>https://www.amazon.in/Portronics-Konnect-POR-1080-Charging-Function/dp/B08CF3B7N1/ref=sr_1_5?qid=1672909124&s=electronics&sr=1-5</td></tr><tr><td>B08Y1TFSP6</td><td>pTron Solero TB301 3A Type-C Data and Fast Charging Cable, Made in India, 480Mbps Data Sync, Strong and Durable 1.5-Meter Nylon Braided USB Cable for Type-C Devices for Charging Adapter (Black)</td><td>Computers&Accessories|Accessories&Peripherals|Cables&Accessories|Cables|USBCables</td><td>149.0</td><td>1000.0</td><td>85.0</td><td>3.9</td><td>348.2177914110429</td><td>Fast Charging & Data Sync: Solero TB301 Type-C cable supports fast charge up to 5V/3A for devices and data syncing speed up to 480Mbps.|Universal Compatibility: This USB charging cable connects USB Type-C devices with standard USB devices like laptops, hard drives, power banks, wall and car chargers, etc..Connector One: Reversible Type C|Connector Two: USB A Type|Rough & Tough Type-C Cable: Charging cable with a double-braided exterior, premium aramid fiber core and metal plugs. It has passed 10,000 bending tests and can easily withstand daily use.|Extended Length: 1.5-meter long c-type cable uses nylon material to protect the wire and avoid knots.|Perfect Fit Connectors: pTron Soler USB-C has passed the 5KG load test, swing test, 5000+ times connect & disconnect to ensure that there are no loose connections.</td><td>AEQ2YMXSZWEOHK2EHTNLOS56YTZQ,AGRVINWECNY7323CWFXZYYIZOFTQ,AHBAT6VLOXWGYDL57KHCNCLPXAKA,AF7NDY2H6JVYTSQOZP76GCATQ34Q,AFV7ZA733ZLME4KNLZPMPCBUNPPA,AHFAAPSY2MJ5HYOU2VQDJ7AQY4NQ,AH2WGV2PEBUTICRPBEEVKF24G5LA,AEP4MK3EKOBDKTGPJTRN5RBDIODA</td><td>Jayesh,Rajesh k.,Soopy,amazon customer,Aman,Shankar,dinesh,Chitra,Ajaybabu.O.M</td><td>R7S8ANNSDPR40,R3CLZFLHVJU26P,RFF7U7MPQFUGR,R1MV1NKC23DWPI,R11D3U0V2XKDKF,R18MP1KLUE18PC,RWGJNVEH5ZQME,R1XN72FU6Q37IH</td><td>It's pretty good,Average quality,very good and useful usb cable,Good USB cable. My experience was very good it is long lasting,Good,Nice product and useful,-,Sturdy but does not support 33w charging</td><td>It's a good product.,Like,Very good item strong and useful USB cableValue for moneyThanks to amazon and producer,https://m.media-amazon.com/images/I/51112ZRE-1L._SY88.jpg,Good,Nice product and useful product,-,Sturdy but does not support 33w charging</td><td>https://m.media-amazon.com/images/I/31wOPjcSxlL._SX300_SY300_QL70_FMwebp_.jpg</td><td>https://www.amazon.in/Solero-TB301-Charging-480Mbps-1-5-Meter/dp/B08Y1TFSP6/ref=sr_1_6?qid=1672909124&s=electronics&sr=1-6</td></tr><tr><td>B08WRWPM22</td><td>boAt Micro USB 55 Tangle-free, Sturdy Micro USB Cable with 3A Fast Charging & 480mbps Data Transmission (Black)</td><td>Computers&Accessories|Accessories&Peripherals|Cables&Accessories|Cables|USBCables</td><td>176.63</td><td>499.0</td><td>65.0</td><td>4.1</td><td>348.2177914110429</td><td>It Ensures High Speed Transmission And Charging By Offering 3A Fast Charging And Data Transmissions With Rapid Sync At 480 Mbps|The Braided Skin Makes It Durable And Invincible Against External Damage So You Can Have An Absolute Hassle-Free & Tangle Free Experience|Its Durable Pvc Housing And The Flexible Design Makes It Last 6 Times Longer Than Other Cables|Usb Cable Offers A Perfect 1.5 Meters In Length For Smooth & Hassle-Free User Experience For Superior Charging & Data Transfer Tasks|The Compact And Smooth Aluminium Connector Fits Most Cases Seamlessly And Resists Corrosion For Signal Purity|Micro Usb 55 Cable Offers Universal Compatibility As It Is Compatible With Most Android Smartphones, Tablets, Pc Peripherals, Bluetooth Speakers, Power Banks, Game Consoles & All Micro-Usb Enabled Devices|2 years warranty from the date of purchase</td><td>AG7C6DAADCTRQJG2BRS3RIKDT52Q,AFU7BOMPVJ7Q3TTA4G67RASTGYIQ,AER5ZGIXXVYG3AWZTRZT7M2BYCEA,AHE76XQSOLGOP5ZEKTIW6KUPDWBQ,AGXTMB2XHZBEWZ2UIX7ODZ4XTU6Q,AHNM2XVU745EDPNGUOAG74PTSNRA,AH5RWQ4S72IVLZD6O75OPCFIVDXQ,AG322TYKVPLPBDXE7ABEUK5QTALQ</td><td>Vivek kumar,Amazon Customer,SARTHAK,Chiranjeevi,V V GIRI KUMAR,Rajnandini,Akshay Talla,sudhanshu chaubey</td><td>R8E73K2KWJRDS,RSD0JTIIWQQL8,R64CRSTE9SLW1,R2FRTNIIUFJE1F,RWGNX3W7UOJ7W,R32TYHHODHTF5D,RQL9ZMQUTY7P2,R280XJ5VZUBOXV</td><td>Long durable.,good,Does not charge Lenovo m8 tab,Best charging cable,good,Boat,Product was good,1.5 m का केबल मेरे लिए बहुत ही लाभदायक है ।</td><td>Build quality is good and it is comes with 2 year warranty.,Good Product,Bought it for charging my mobile & tab but it doesn't work for Lenovo m8 tab,Guys this cable is is best compare of everyone over heat protection, quickly charging, but chance to shock circuit,good,Nice,Good quality,1.5एम का डाटा केबल मेरे लिए बहुत ही लाभदायक है ।  मैं इस केबल को लाइन में चार्ज करते समय फोन बहुत आराम से उपयोग  कर पा रहा हु । आप इस केबल से 15watt का  चार्जर उसे कर सकते है (इससे जड़ा नही) । लोकल बाजार में इसका दाम 150 है ,  अमेजन पे ये केबल मुझे 67 में मिला । गर्व से कहो हम हिंदू है , जय हिंद जय भारत ,</td><td>https://m.media-amazon.com/images/W/WEBP_402378-T2/images/I/41jlwEZpa5L._SX300_SY300_QL70_FMwebp_.jpg</td><td>https://www.amazon.in/boAt-Micro-USB-Tangle-Free-Transmission/dp/B08WRWPM22/ref=sr_1_8?qid=1672909124&s=electronics&sr=1-8</td></tr><tr><td>B08DDRGWTJ</td><td>MI Usb Type-C Cable Smartphone (Black)</td><td>Computers&Accessories|Accessories&Peripherals|Cables&Accessories|Cables|USBCables</td><td>229.0</td><td>299.0</td><td>23.0</td><td>4.3</td><td>348.2177914110429</td><td>1m long Type-C USB Cable|Sturdy and Durable. With USB cable you can transfer data with speeds of upto 480 Mbps|Upto 3A output|6months warranty|Sturdy and Durable. With USB cable you can transfer data with speeds of upto 480 Mbps|6months warranty|Up To 3A Output</td><td>AHW6E5LQ2BDYOIVLAJGDH45J5V5Q,AF74RSGCHPZITVFSZN76K6GKPICA,AHDD7ZNB47QA2JLYU53HD4ML3VNQ,AHV3ELGDSOWBYUQLXSPDCSHBQRHQ,AEJU4L3ZM2GTILSJZZSNSF6VUOIA,AFVD66VQMSHPDT3A6HBBBGKRXBZA,AELKHQXVSSG6NHXLFJLLNEFRQQUQ,AGYSMAC6V6RFJJOHG2FIRPOZ6CSQ</td><td>Pavan A H,Jayesh bagad,Shridhar,rajendran,karuppu k,Akshay wani,Abbimaniu Singh,VISHAL H BADSHE</td><td>R2X090D1YHACKR,R32ZCIH9AFNJ60,R3N57EVVG0EHAF,R3QWLE8JHROKC1,R2VTSDOOUTSQ5X,R3E6FZ75Q074KH,R1SYBQLTPFCW20,RYQT96J8HPIXE</td><td>Worth for money - suitable for Android auto,Good Product,Length,Nice,Original,Very good quay Cable support fast charging.,Original MI cable for charging upto 33 watt,I am veri happy with this product as it provide turbo charging.</td><td>Worth for money - suitable for Android auto... my purpose served in car....got it for Rs.150,Everything is Okay. But packaging is not good feeling like seller gave is used cable.,Good product,Good product but cost is more.,Original cable,I bought this cable at 129. Using this cable for Android auto in my car. Perfectly works without any glitch.,Original MI cable. Will charge upto 33 watts. Got it for Rs 150.  I have 67 watt charger and I want a cable for my car so I went for it. I checked the performance with battery charging app. The charging speed is exactly half of my 67 watt original cable. Go for it.,It provided me turbo charging. I recommend for all Redmi note 10s mobile phones. As it provide turbo charging. I am veri happy with this product.</td><td>https://m.media-amazon.com/images/I/31XO-wfGGGL._SX300_SY300_QL70_FMwebp_.jpg</td><td>https://www.amazon.in/MI-MTCY001IN-USB-Type-C-Cable/dp/B08DDRGWTJ/ref=sr_1_9?qid=1672909124&s=electronics&sr=1-9</td></tr><tr><td>B008IFXQFU</td><td>TP-Link USB WiFi Adapter for PC(TL-WN725N), N150 Wireless Network Adapter for Desktop - Nano Size WiFi Dongle Compatible with Windows 11/10/7/8/8.1/XP/ Mac OS 10.9-10.15 Linux Kernel 2.6.18-4.4.3</td><td>Computers&Accessories|NetworkingDevices|NetworkAdapters|WirelessUSBAdapters</td><td>499.0</td><td>999.0</td><td>50.0</td><td>4.2</td><td>348.2177914110429</td><td>USB WiFi Adapter —— Speedy wireless transmission at up to 150Mbps ideal for video streaming or internet calls|Mini Design —— Sleek miniature design so small that once plugged in, can be left in a Laptop’s USB port|Advanced Security —— Supports 64/128 WEP, WPA, PA2/WPA-PSK/WPA2-PSK(TKIP/AES)|Compatibility —— Windows 11/10/8.1/8/7/XP, Mac OS 10.15 and earlier, Linux|Easy Setup —— Connect in no time with easy setup utility in 14 languages|In an unlikely case of product quality related issue, we may ask you to reach out to brand’s customer service support and seek resolution. We will require brand proof of issue to process replacement request</td><td>AGV3IEFANZCKECFGUM42MRH5FNOA,AEBO7NWCNXKT4AESAN443HQH35FQ,AE7GD3VRRYQEAHDR7FXJIR23INYA,AHPAW24BI5X2GCX5M2LHI72VSJJQ,AE2VXY4CFO36MDSIMPG43XHNF4GA,AHHQEKUNVETALN7DTRHUQ2WAWEKQ,AFMIFTNTUD5PIHGONWOTRMMZ5EBA,AHOJBIZVVIIFJKRREY4B6ESVA4KA</td><td>Azhar JuMan,Anirudh Sood,Hari Krishnan PS,Akash Jindal,PRADEEP,Rajesh,Divya Kothari,abhijit</td><td>R1LW6NWSVTVZ2H,R3VR5WFKUS15C5,R2F6GC79OYWUKQ,R3QZ19MECGWG9A,R2MPU42MYK7GPO,R33DVXFB4VYPZZ,R1SQ7OGFR4JRUR,R1S5F9QI0M1VBZ</td><td>Works on linux for me. Get the model with antenna.,Does what it say but other brands available at lesser price,Easy Handle,Great product,Perfect working,Speed is perfect,Great Design, Build, Connectivity Range, Packaging and other features but no linux support since v2,Very good</td><td>I use this to connect an old PC to internet. I tried lubuntu 20 and ubuntu 22, it worked out of the box in both, didn't have to do any setup. There's an extender cable so you can place this in a comfortable place. Get the model with antenna because otherwise you'll have range problems if you're not directly in line of sight from your wifi router.,The wifi dongle is a simple plug & play device, will start catching available networks right after you plug it into your USB port, no additional installations/ softwares requires. Signal strength is good.... just wonder what would be different in other adapters of lesser known brands which are available at a much more competitive pricing, hence a star less.,Pros:*Easy to use & Portable*Can be connected to Mobile Hotspot and used in PC( Budget Friendly)*Less installation process*No heating issues & Good Coverage*Best alternative for USB Tethering (phone's battery may get damaged for long term run with Tethering)Cons:*Internet connection speed varies at times, also depends on your modem or cellular connection*Issues occur while installing via CD, which is available along with the product( Installation driver can be downloaded from TP-Link site)*Needed to reconnect the adapter every time system is turned ON*Will not work if your software has some issues, so encountered any just update your system(worked for me)*Support Center is worse, calls are unattended most of the times or just visit nearby storeConclusion:Brought this @499/-Ideal for users who don't need very high speed internet usage,a good alternative for USB Tethering and are on Budge(1080p Youtube videos can be easily played with this without any interruptions),wifi connectivity is a great good result for me. however, some jitter problems did exist.,This is perfect device to connect wifi. Go for it.,This wifi adopter is good working,(Pictures attached)Size/Design:  ★ ★ ★ ★ ★Build Quality: ★ ★ ★ ★ ★Packaging:  ★ ★ ★ ★ ★Software:  ★ ★ ★ ★Speed:  ★ ★ ★ ★ ★Connectivity:  ★ ★ ★ ★ ★Experience:  ★ ★ ★ ★ ★Warranty:  ★ ★ ★ ★ ★Size and Design:The best part about this is that it is very compact in size and very sober and elegant in design. This is a big plus as it is easy plug in and use, add to it the good sober design.Build Quality:The build quality is undoubtedly superb. Just no qualms about that, at all. When held, it doesnt give off that cheap and flimsy product-like feeling. It is good sturdy with its build quality.Packaging:This part is also a big plus as the item was well cushioned and packaged with all the necessary items that ensured that no damage could have been caused to the product during transportation. This ensures that I as a customer have received something not damaged internally already.Software:This is actually good but not great part with the product.The good part is that a CD has been provided with it along with a manual.The not great part is that NO LINUX SUPPORT has been given from Version 2 onwards. This is bad, really.Speed:It easily supports net speeds upto 300 Mbps. Practically speaking, I have tested it at my home and it easily supports net speed of over 100-150 Mbps without a sigh.On testing I found that it did connect to 5GHz network, without any issue.Connectivity:Please mark its not feet its metres. Multiply metres x 3 to get the distance in feet.It easily connects to my laptop or phone from 7 metres across one room. So thats 21 feet. I mean even our old bluetooth used to connect to about 15 ft.So 20-25 feet is not at all an issue with this. This is the big plus I found with the product.Experience:From this point of view, so far except the linux non-compatibility issue, I found no other flaws with this product.So overall its a great product.Warranty:Its 3 years so I am assured that atleast for 3 years I am tension-free and not just 1 year, contrary to most electronic items today that only provide 1 year warranty with their items.,Best adapter I have bought ever. Works nicely seemless connectivity</td><td>https://m.media-amazon.com/images/W/WEBP_402378-T2/images/I/31e6ElWRymL._SX300_SY300_QL70_FMwebp_.jpg</td><td>https://www.amazon.in/TP-Link-TL-WN725N-150Mbps-Wireless-Adapter/dp/B008IFXQFU/ref=sr_1_10?qid=1672909124&s=electronics&sr=1-10</td></tr><tr><td>B082LZGK39</td><td>Ambrane Unbreakable 60W / 3A Fast Charging 1.5m Braided Micro USB Cable for Smartphones, Tablets, Laptops & Other Micro USB Devices, 480Mbps Data Sync, Quick Charge 3.0 (RCM15, Black)</td><td>Computers&Accessories|Accessories&Peripherals|Cables&Accessories|Cables|USBCables</td><td>199.0</td><td>299.0</td><td>33.0</td><td>4.0</td><td>348.2177914110429</td><td>Universal Compatibility – It is compatible with all Micro USB enabled devices, be it an android smartphone, tablet, PC peripheral or any other micro USB compatible device|Unbreakable – Made of special braided outer with rugged interior bindings, it is ultra-durable cable that won’t be affected by daily rough usage|Ideal Length – It has ideal length of 1.5 meters which is neither too short like your typical 1meter cable or too long like a 2meters cable|Supports maximum 3A fast charging and 480 Mbps data transfer speed|6 Months manufacturer warranty from the date of purchase.</td><td>AECPFYFQVRUWC3KGNLJIOREFP5LQ,AGYYVPDD7YG7FYNBXNGXZJT525AQ,AHONIZU3ICIEHQIGQ6R2VFRSBXOQ,AFPHD2CRPDZMWMBL7WXRSVYWS5JA,AEZ346GX3HJ4O4XNRPHCNHXQURMQ,AEPSWFPNECKO34PUC7I56ITGXR6Q,AHWVEHR5DYLVFTO2KF3IZATFQSWQ,AH4QT33M55677I7ISQOAKEQWACYQ</td><td>ArdKn,Nirbhay kumar,Sagar Viswanathan,Asp,Placeholder,BharanI,sonia,Niam</td><td>RGIQEG07R9HS2,R1SMWZQ86XIN8U,R2J3Y1WL29GWDE,RYGGS0M09S3KY,R17KQRUTAN5DKS,R3AAQGS6HP2QUK,R1HDNOG6TO2CCA,R3PHKXYA5AFEOU</td><td>A Good Braided Cable for Your Type C Device,Good quality product from ambrane,Super cable,As,Good quality,Good product,its good,Good quality for the price but one issue with my unit</td><td>I ordered this cable to connect my phone to Android Auto of car. The cable is really strong and the connection ports are really well made. I already has a Micro USB cable from Ambrane and it's still in good shape. I connected my phone to the car using the cable and it got connected well and no issues. I also connected it to the charging port and yes it has Fast Charging support.,It quality is good at this price and the main thing is that i didn't ever thought that this cable will be so long it's good one and charging power is too good and also supports fast charging,Value for money, with extra length👍,Good, working fine,Product quality is good,Good,very good,Bought for my daughter's old phone.Brand new cable it was not charging, I already repacked and requested for replacement.I checked again, and there was some green colour paste/fungus inside the micro USB connector. I cleaned with an alcoholic and starts working again.Checked the ampere of charging speed got around 1400ma-1500ma - not bad, came with braided 1.5m long cable, pretty impressive for the price.Can't blame the manufacturer.But quality issues by the distributor, they might have stored in very humid place.</td><td>https://m.media-amazon.com/images/W/WEBP_402378-T2/images/I/31kj3q4SepL._SY445_SX342_QL70_FMwebp_.jpg</td><td>https://www.amazon.in/Ambrane-Unbreakable-Charging-Braided-Android/dp/B082LZGK39/ref=sr_1_11?qid=1672909124&s=electronics&sr=1-11</td></tr></tbody></table></div>"
      ]
     },
     "metadata": {
      "application/vnd.databricks.v1+output": {
       "addedWidgets": {},
       "aggData": [],
       "aggError": "",
       "aggOverflow": false,
       "aggSchema": [],
       "aggSeriesLimitReached": false,
       "aggType": "",
       "arguments": {},
       "columnCustomDisplayInfos": {},
       "data": [
        [
         "B07JW9H4J1",
         "Wayona Nylon Braided USB to Lightning Fast Charging and Data Sync Cable Compatible for iPhone 13, 12,11, X, 8, 7, 6, 5, iPad Air, Pro, Mini (3 FT Pack of 1, Grey)",
         "Computers&Accessories|Accessories&Peripherals|Cables&Accessories|Cables|USBCables",
         399.0,
         1099.0,
         64.0,
         4.2,
         348.2177914110429,
         "High Compatibility : Compatible With iPhone 12, 11, X/XsMax/Xr ,iPhone 8/8 Plus,iPhone 7/7 Plus,iPhone 6s/6s Plus,iPhone 6/6 Plus,iPhone 5/5s/5c/se,iPad Pro,iPad Air 1/2,iPad mini 1/2/3,iPod nano7,iPod touch and more apple devices.|Fast Charge&Data Sync : It can charge and sync simultaneously at a rapid speed, Compatible with any charging adaptor, multi-port charging station or power bank.|Durability : Durable nylon braided design with premium aluminum housing and toughened nylon fiber wound tightly around the cord lending it superior durability and adding a bit to its flexibility.|High Security Level : It is designed to fully protect your device from damaging excessive current.Copper core thick+Multilayer shielding, Anti-interference, Protective circuit equipment.|WARRANTY: 12 months warranty and friendly customer services, ensures the long-time enjoyment of your purchase. If you meet any question or problem, please don't hesitate to contact us.",
         "AG3D6O4STAQKAY2UVGEUV46KN35Q,AHMY5CWJMMK5BJRBBSNLYT3ONILA,AHCTC6ULH4XB6YHDY6PCH2R772LQ,AGYHHIERNXKA6P5T7CZLXKVPT7IQ,AG4OGOFWXJZTQ2HKYIOCOY3KXF2Q,AENGU523SXMOS7JPDTW52PNNVWGQ,AEQJHCVTNINBS4FKTBGQRQTGTE5Q,AFC3FFC5PKFF5PMA52S3VCHOZ5FQ",
         "Manav,Adarsh gupta,Sundeep,S.Sayeed Ahmed,jaspreet singh,Khaja moin,Anand,S.ARUMUGAM",
         "R3HXWT0LRP0NMF,R2AJM3LFTLZHFO,R6AQJGUP6P86,R1KD19VHEDV0OR,R3C02RMYQMK6FC,R39GQRVBUZBWGY,R2K9EDOE15QIRJ,R3OI7YT648TL8I",
         "Satisfied,Charging is really fast,Value for money,Product review,Good quality,Good product,Good Product,As of now seems good",
         "Looks durable Charging is fine tooNo complains,Charging is really fast, good product.,Till now satisfied with the quality.,This is a good product . The charging speed is slower than the original iPhone cable,Good quality, would recommend,https://m.media-amazon.com/images/W/WEBP_402378-T1/images/I/81---F1ZgHL._SY88.jpg,Product had worked well till date and was having no issue.Cable is also sturdy enough...Have asked for replacement and company is doing the same...,Value for money",
         "https://m.media-amazon.com/images/W/WEBP_402378-T1/images/I/51UsScvHQNL._SX300_SY300_QL70_FMwebp_.jpg",
         "https://www.amazon.in/Wayona-Braided-WN3LG1-Syncing-Charging/dp/B07JW9H4J1/ref=sr_1_1?qid=1672909124&s=electronics&sr=1-1"
        ],
        [
         "B098NS6PVG",
         "Ambrane Unbreakable 60W / 3A Fast Charging 1.5m Braided Type C Cable for Smartphones, Tablets, Laptops & other Type C devices, PD Technology, 480Mbps Data Sync, Quick Charge 3.0 (RCT15A, Black)",
         "Computers&Accessories|Accessories&Peripherals|Cables&Accessories|Cables|USBCables",
         199.0,
         349.0,
         43.0,
         4.0,
         348.2177914110429,
         "Compatible with all Type C enabled devices, be it an android smartphone (Mi, Samsung, Oppo, Vivo, Realme, OnePlus, etc), tablet, laptop (Macbook, Chromebook, etc)|Supports Quick Charging (2.0/3.0)|Unbreakable – Made of special braided outer with rugged interior bindings, it is ultra-durable cable that won’t be affected by daily rough usage|Ideal Length – It has ideal length of 1.5 meters which is neither too short like your typical 1meter cable or too long like a 2meters cable|Supports maximum 3A fast charging and 480 Mbps data transfer speed|6 months manufacturer warranty from the date of purchase",
         "AECPFYFQVRUWC3KGNLJIOREFP5LQ,AGYYVPDD7YG7FYNBXNGXZJT525AQ,AHONIZU3ICIEHQIGQ6R2VFRSBXOQ,AFPHD2CRPDZMWMBL7WXRSVYWS5JA,AEZ346GX3HJ4O4XNRPHCNHXQURMQ,AEPSWFPNECKO34PUC7I56ITGXR6Q,AHWVEHR5DYLVFTO2KF3IZATFQSWQ,AH4QT33M55677I7ISQOAKEQWACYQ",
         "ArdKn,Nirbhay kumar,Sagar Viswanathan,Asp,Placeholder,BharanI,sonia,Niam",
         "RGIQEG07R9HS2,R1SMWZQ86XIN8U,R2J3Y1WL29GWDE,RYGGS0M09S3KY,R17KQRUTAN5DKS,R3AAQGS6HP2QUK,R1HDNOG6TO2CCA,R3PHKXYA5AFEOU",
         "A Good Braided Cable for Your Type C Device,Good quality product from ambrane,Super cable,As,Good quality,Good product,its good,Good quality for the price but one issue with my unit",
         "I ordered this cable to connect my phone to Android Auto of car. The cable is really strong and the connection ports are really well made. I already has a Micro USB cable from Ambrane and it's still in good shape. I connected my phone to the car using the cable and it got connected well and no issues. I also connected it to the charging port and yes it has Fast Charging support.,It quality is good at this price and the main thing is that i didn't ever thought that this cable will be so long it's good one and charging power is too good and also supports fast charging,Value for money, with extra length👍,Good, working fine,Product quality is good,Good,very good,Bought for my daughter's old phone.Brand new cable it was not charging, I already repacked and requested for replacement.I checked again, and there was some green colour paste/fungus inside the micro USB connector. I cleaned with an alcoholic and starts working again.Checked the ampere of charging speed got around 1400ma-1500ma - not bad, came with braided 1.5m long cable, pretty impressive for the price.Can't blame the manufacturer.But quality issues by the distributor, they might have stored in very humid place.",
         "https://m.media-amazon.com/images/W/WEBP_402378-T2/images/I/31zOsqQOAOL._SY445_SX342_QL70_FMwebp_.jpg",
         "https://www.amazon.in/Ambrane-Unbreakable-Charging-Braided-Cable/dp/B098NS6PVG/ref=sr_1_2?qid=1672909124&s=electronics&sr=1-2"
        ],
        [
         "B096MSW6CT",
         "Sounce Fast Phone Charging Cable & Data Sync USB Cable Compatible for iPhone 13, 12,11, X, 8, 7, 6, 5, iPad Air, Pro, Mini & iOS Devices",
         "Computers&Accessories|Accessories&Peripherals|Cables&Accessories|Cables|USBCables",
         199.0,
         1899.0,
         90.0,
         3.9,
         348.2177914110429,
         "【 Fast Charger& Data Sync】-With built-in safety proctections and four-core copper wires promote maximum signal quality and strength and enhance charging & data transfer speed with up to 480 mb/s transferring speed.|【 Compatibility】-Compatible with iPhone 13, 12,11, X, 8, 7, 6, 5, iPad Air, Pro, Mini & iOS devices.|【 Sturdy & Durable】-The jacket and enforced connector made of TPE and premium copper, are resistant to repeatedly bending and coiling.|【 Ultra High Quality】: According to the experimental results, the fishbone design can accept at least 20,000 bending and insertion tests for extra protection and durability. Upgraded 3D aluminum connector and exclusive laser welding technology, which to ensure the metal part won't break and also have a tighter connection which fits well even with a protective case on and will never loose connection.|【 Good After Sales Service】-Our friendly and reliable customer service will respond to you within 24 hours ! you can purchase with confidence,and every sale includes a 365-day worry-free Service to prove the importance we set on quality.",
         "AGU3BBQ2V2DDAMOAKGFAWDDQ6QHA,AESFLDV2PT363T2AQLWQOWZ4N3OA,AHTPQRIMGUD4BYR5YIHBH3CCGEFQ,AEUVWXYP5LT7PZLLZENEO2NODPBQ,AHC7MPW55DOO6WNCOQVA2VHOD26A,AFDI6FRPFBTNBG7BAEB7JDJSMKDQ,AFQKCEEEKXCOHTDG4WUN3XPPHJQQ,AHKUUFNMBZIDLSSPA4FEHIO2EC7Q",
         "Kunal,Himanshu,viswanath,sai niharka,saqib malik,Aashiq,Ramu Challa,Sanjay gupta",
         "R3J3EQQ9TZI5ZJ,R3E7WBGK7ID0KV,RWU79XKQ6I1QF,R25X4TBMPY91LX,R27OK7G99VK0TR,R207CYDCHJJTCJ,R3PCU8XMU173BT,R1IMONDOWRNU5V",
         "Good speed for earlier versions,Good Product,Working good,Good for the price,Good,Worth for money,Working nice,it's a really nice product",
         "Not quite durable and sturdy,https://m.media-amazon.com/images/W/WEBP_402378-T1/images/I/71rIggrbUCL._SY88.jpg,Working good,https://m.media-amazon.com/images/W/WEBP_402378-T1/images/I/61bKp9YO6wL._SY88.jpg,Product,Very nice product,Working well,It's a really nice product",
         "https://m.media-amazon.com/images/W/WEBP_402378-T1/images/I/31IvNJZnmdL._SY445_SX342_QL70_FMwebp_.jpg",
         "https://www.amazon.in/Sounce-iPhone-Charging-Compatible-Devices/dp/B096MSW6CT/ref=sr_1_3?qid=1672909124&s=electronics&sr=1-3"
        ],
        [
         "B08HDJ86NZ",
         "boAt Deuce USB 300 2 in 1 Type-C & Micro USB Stress Resistant, Tangle-Free, Sturdy Cable with 3A Fast Charging & 480mbps Data Transmission, 10000+ Bends Lifespan and Extended 1.5m Length(Martian Red)",
         "Computers&Accessories|Accessories&Peripherals|Cables&Accessories|Cables|USBCables",
         329.0,
         699.0,
         53.0,
         4.2,
         348.2177914110429,
         "The boAt Deuce USB 300 2 in 1 cable is compatible with smartphones, tablets, PC peripherals, Bluetooth speakers, power banks and all other devices with Type-C as well as Micro USB port|It ensures 3A fast charging and data transmissions with rapid sync at 480 mbps|The premium Nylon braided skin makes it sturdy and invincible against external damage|Its Aluminium alloy shell housing makes it last longer with 10000+ Bends Lifespan with extended frame protection for strain relief|The resilient and flexible design offers a tangle free experience seamlessly|Deuce USB 300 cable offers a perfect 1.5 meters in length for smooth & hassle-free user experience|2 years warranty from the date of purchase",
         "AEWAZDZZJLQUYVOVGBEUKSLXHQ5A,AG5HTSFRRE6NL3M5SGCUQBP7YSCA,AH725ST5NW2Y4JZPKUNTIJCUK2BA,AHV3TXIFCJPMS4D5JATCEUR266MQ,AGWIGDEMFIIUAOXYY2QATNBSUGHA,AFSTSLQUV4EVEXWKBOLEFHL2H5YQ,AGAKDNBHY2FKX7I4ACRGILU7QL7A,AFNWJUWJRHCC6HN52KMG5AKZY37Q",
         "Omkar dhale,JD,HEMALATHA,Ajwadh a.,amar singh chouhan,Ravi Siddan,Himanshu Goel,Udaykumar",
         "R3EEUZKKK9J36I,R3HJVYCLYOY554,REDECAZ7AMPQC,R1CLH2ULIVG5U3,R2DMKIBGFKBD6R,RC89B5IAJUTR5,R3B3DDON5FH8DS,R13WAEJDI5RS36",
         "Good product,Good one,Nice,Really nice product,Very first time change,Good,Fine product but could be better,Very nice it's charging like jet",
         "Good product,long wire,Charges good,Nice,I bought this cable for Rs.339 worthy product for this price, i tested it in various charger adapters 33w and 18w it supports fast charging as well.,Good,Ok,I had got this at good price on sale on Amazon and product is useful with warranty but for warranty you need to go very far not practical for such a cost and mine micro to type c connector stopped working after few days only.,I like this product",
         "https://m.media-amazon.com/images/I/41V5FtEWPkL._SX300_SY300_QL70_FMwebp_.jpg",
         "https://www.amazon.in/Deuce-300-Resistant-Tangle-Free-Transmission/dp/B08HDJ86NZ/ref=sr_1_4?qid=1672909124&s=electronics&sr=1-4"
        ],
        [
         "B08CF3B7N1",
         "Portronics Konnect L 1.2M Fast Charging 3A 8 Pin USB Cable with Charge & Sync Function for iPhone, iPad (Grey)",
         "Computers&Accessories|Accessories&Peripherals|Cables&Accessories|Cables|USBCables",
         154.0,
         399.0,
         61.0,
         4.2,
         348.2177914110429,
         "[CHARGE & SYNC FUNCTION]- This cable comes with charging & Data sync function|[HIGH QUALITY MATERIAL]- TPE + Nylon Material to make sure that the life of the cable is enhanced significantly|[LONG CORD]- The Cable is extra thick 1.2 meter long, optimized for an easy use for your comfort at home or office|[MORE DURABLE]-This cable is unique interms of design and multi-use and is positioned to provide the best comfort and performance while using|[UNIVERSAL COMPATIBILITY]- Compatible with all devices like iPhone XS, X, XR, 8, 7, 6S, 6, 5S, iPad Pro, iPad mini and iPad Air",
         "AE3Q6KSUK5P75D5HFYHCRAOLODSA,AFUGIFH5ZAFXRDSZHM4QB2KPKFUQ,AFK4NJOLFSJGWLOJIUIAROJF6YVA,AFUOTYRFUXVPEBGIXVZZ7DR3CZUA,AFDLRSXKDZ6U3U3KD46SQLFGZQRA,AH5VLM66SIK7J3IRG4NY7XVOQ55A,AE3MQNNHHLUHXURL5S7IAR7JTGNQ,AFSEOFZY67MYC7UAJU264Z5NFTLA",
         "rahuls6099,Swasat Borah,Ajay Wadke,Pranali,RVK,Bhargav,Durai Vignesh,Amazon Customer",
         "R1BP4L2HH9TFUP,R16PVJEXKV6QZS,R2UPDB81N66T4P,R3KK4GT934ST3I,RCFHMWUSBIJO,RDO7DACXMAJ84,R3A6MEZL3LY66Z,R1ESIEKPGAYA29",
         "As good as original,Decent,Good one for secondary use,Best quality,GOOD,Amazing product at a mind blowing price!,Nice Quality,Good product",
         "Bought this instead of original apple, does the work for 150rs, not as fast as apple charger but its a good option if you want cheap and good product, bought it for iPad pro 10.5 and it's working flawlessly, build quality is ok, its not like i am gonna hang my clothes on it and i want a very strong cable, even a braided cable stop working after a year, i have used both Anker and Apple store strong braided cable they all stop working after a year so please don't buy high end cables just for that instead choose a this one and even if it's stops working withing a year you only loose 150rs compares to 2000rs.UPDATE------------------------------------pin has stopped charging from one side, now i have to slip the pin to charge from other side, but i will update and let know for how long does it work,,It’s good. Not sure about durability as the pin area feels a bit fragile,Does not support apple carplaySo was little disappointed about thatOther than that cable is made up of very good quality,Best to buy,100% NOT FATHFUL,Writing this review post 10 months and 3 orders of the same product.Honestly Portronics Konnect L lightning cable works like magic with the original Apple charging brick.Seeing the price of the cable I initially hesitated buying as it was as low as ₹99/- with the offers and so I wasn’t sure if it would work well with my iPhone 12 or whether it would impact my iPhone’s battery health because all the other lightning cable brands were costing over ₹350/- like Wayona, Amazon Basics, etc.Earlier I was using Wayona Brand lightning cable with eventually frayed and stopped working.Charging Speed:Charges my iPhone fast enough almost similar compared to the original cable level when used with 12W Original Apple power adapter.Quality and Durability:Great quality braided cable and doesn’t tangle easily and can withstand day-to-day usage.L-Shaped pin:This is very innovative by Portronics and it makes sure the cable doesn’t get damaged even if used while charging.CarPlay and Data Sync:Works smoothly with CarPlay and syncs data effortlessly.PS: I have used this cable only with the Original Apple Charging Brick and extremely satisfied with its performance.,Better than I expect the product I like that Quality and I plan to buy same type cable come with usb C to Lighting cable for emergency purpose that much I love this cable. Buy for this cable only emergency uses only since Good one,Good product and value for money",
         "https://m.media-amazon.com/images/W/WEBP_402378-T2/images/I/31VzNhhqifL._SX300_SY300_QL70_FMwebp_.jpg",
         "https://www.amazon.in/Portronics-Konnect-POR-1080-Charging-Function/dp/B08CF3B7N1/ref=sr_1_5?qid=1672909124&s=electronics&sr=1-5"
        ],
        [
         "B08Y1TFSP6",
         "pTron Solero TB301 3A Type-C Data and Fast Charging Cable, Made in India, 480Mbps Data Sync, Strong and Durable 1.5-Meter Nylon Braided USB Cable for Type-C Devices for Charging Adapter (Black)",
         "Computers&Accessories|Accessories&Peripherals|Cables&Accessories|Cables|USBCables",
         149.0,
         1000.0,
         85.0,
         3.9,
         348.2177914110429,
         "Fast Charging & Data Sync: Solero TB301 Type-C cable supports fast charge up to 5V/3A for devices and data syncing speed up to 480Mbps.|Universal Compatibility: This USB charging cable connects USB Type-C devices with standard USB devices like laptops, hard drives, power banks, wall and car chargers, etc..Connector One: Reversible Type C|Connector Two: USB A Type|Rough & Tough Type-C Cable: Charging cable with a double-braided exterior, premium aramid fiber core and metal plugs. It has passed 10,000 bending tests and can easily withstand daily use.|Extended Length: 1.5-meter long c-type cable uses nylon material to protect the wire and avoid knots.|Perfect Fit Connectors: pTron Soler USB-C has passed the 5KG load test, swing test, 5000+ times connect & disconnect to ensure that there are no loose connections.",
         "AEQ2YMXSZWEOHK2EHTNLOS56YTZQ,AGRVINWECNY7323CWFXZYYIZOFTQ,AHBAT6VLOXWGYDL57KHCNCLPXAKA,AF7NDY2H6JVYTSQOZP76GCATQ34Q,AFV7ZA733ZLME4KNLZPMPCBUNPPA,AHFAAPSY2MJ5HYOU2VQDJ7AQY4NQ,AH2WGV2PEBUTICRPBEEVKF24G5LA,AEP4MK3EKOBDKTGPJTRN5RBDIODA",
         "Jayesh,Rajesh k.,Soopy,amazon customer,Aman,Shankar,dinesh,Chitra,Ajaybabu.O.M",
         "R7S8ANNSDPR40,R3CLZFLHVJU26P,RFF7U7MPQFUGR,R1MV1NKC23DWPI,R11D3U0V2XKDKF,R18MP1KLUE18PC,RWGJNVEH5ZQME,R1XN72FU6Q37IH",
         "It's pretty good,Average quality,very good and useful usb cable,Good USB cable. My experience was very good it is long lasting,Good,Nice product and useful,-,Sturdy but does not support 33w charging",
         "It's a good product.,Like,Very good item strong and useful USB cableValue for moneyThanks to amazon and producer,https://m.media-amazon.com/images/I/51112ZRE-1L._SY88.jpg,Good,Nice product and useful product,-,Sturdy but does not support 33w charging",
         "https://m.media-amazon.com/images/I/31wOPjcSxlL._SX300_SY300_QL70_FMwebp_.jpg",
         "https://www.amazon.in/Solero-TB301-Charging-480Mbps-1-5-Meter/dp/B08Y1TFSP6/ref=sr_1_6?qid=1672909124&s=electronics&sr=1-6"
        ],
        [
         "B08WRWPM22",
         "boAt Micro USB 55 Tangle-free, Sturdy Micro USB Cable with 3A Fast Charging & 480mbps Data Transmission (Black)",
         "Computers&Accessories|Accessories&Peripherals|Cables&Accessories|Cables|USBCables",
         176.63,
         499.0,
         65.0,
         4.1,
         348.2177914110429,
         "It Ensures High Speed Transmission And Charging By Offering 3A Fast Charging And Data Transmissions With Rapid Sync At 480 Mbps|The Braided Skin Makes It Durable And Invincible Against External Damage So You Can Have An Absolute Hassle-Free & Tangle Free Experience|Its Durable Pvc Housing And The Flexible Design Makes It Last 6 Times Longer Than Other Cables|Usb Cable Offers A Perfect 1.5 Meters In Length For Smooth & Hassle-Free User Experience For Superior Charging & Data Transfer Tasks|The Compact And Smooth Aluminium Connector Fits Most Cases Seamlessly And Resists Corrosion For Signal Purity|Micro Usb 55 Cable Offers Universal Compatibility As It Is Compatible With Most Android Smartphones, Tablets, Pc Peripherals, Bluetooth Speakers, Power Banks, Game Consoles & All Micro-Usb Enabled Devices|2 years warranty from the date of purchase",
         "AG7C6DAADCTRQJG2BRS3RIKDT52Q,AFU7BOMPVJ7Q3TTA4G67RASTGYIQ,AER5ZGIXXVYG3AWZTRZT7M2BYCEA,AHE76XQSOLGOP5ZEKTIW6KUPDWBQ,AGXTMB2XHZBEWZ2UIX7ODZ4XTU6Q,AHNM2XVU745EDPNGUOAG74PTSNRA,AH5RWQ4S72IVLZD6O75OPCFIVDXQ,AG322TYKVPLPBDXE7ABEUK5QTALQ",
         "Vivek kumar,Amazon Customer,SARTHAK,Chiranjeevi,V V GIRI KUMAR,Rajnandini,Akshay Talla,sudhanshu chaubey",
         "R8E73K2KWJRDS,RSD0JTIIWQQL8,R64CRSTE9SLW1,R2FRTNIIUFJE1F,RWGNX3W7UOJ7W,R32TYHHODHTF5D,RQL9ZMQUTY7P2,R280XJ5VZUBOXV",
         "Long durable.,good,Does not charge Lenovo m8 tab,Best charging cable,good,Boat,Product was good,1.5 m का केबल मेरे लिए बहुत ही लाभदायक है ।",
         "Build quality is good and it is comes with 2 year warranty.,Good Product,Bought it for charging my mobile & tab but it doesn't work for Lenovo m8 tab,Guys this cable is is best compare of everyone over heat protection, quickly charging, but chance to shock circuit,good,Nice,Good quality,1.5एम का डाटा केबल मेरे लिए बहुत ही लाभदायक है ।  मैं इस केबल को लाइन में चार्ज करते समय फोन बहुत आराम से उपयोग  कर पा रहा हु । आप इस केबल से 15watt का  चार्जर उसे कर सकते है (इससे जड़ा नही) । लोकल बाजार में इसका दाम 150 है ,  अमेजन पे ये केबल मुझे 67 में मिला । गर्व से कहो हम हिंदू है , जय हिंद जय भारत ,",
         "https://m.media-amazon.com/images/W/WEBP_402378-T2/images/I/41jlwEZpa5L._SX300_SY300_QL70_FMwebp_.jpg",
         "https://www.amazon.in/boAt-Micro-USB-Tangle-Free-Transmission/dp/B08WRWPM22/ref=sr_1_8?qid=1672909124&s=electronics&sr=1-8"
        ],
        [
         "B08DDRGWTJ",
         "MI Usb Type-C Cable Smartphone (Black)",
         "Computers&Accessories|Accessories&Peripherals|Cables&Accessories|Cables|USBCables",
         229.0,
         299.0,
         23.0,
         4.3,
         348.2177914110429,
         "1m long Type-C USB Cable|Sturdy and Durable. With USB cable you can transfer data with speeds of upto 480 Mbps|Upto 3A output|6months warranty|Sturdy and Durable. With USB cable you can transfer data with speeds of upto 480 Mbps|6months warranty|Up To 3A Output",
         "AHW6E5LQ2BDYOIVLAJGDH45J5V5Q,AF74RSGCHPZITVFSZN76K6GKPICA,AHDD7ZNB47QA2JLYU53HD4ML3VNQ,AHV3ELGDSOWBYUQLXSPDCSHBQRHQ,AEJU4L3ZM2GTILSJZZSNSF6VUOIA,AFVD66VQMSHPDT3A6HBBBGKRXBZA,AELKHQXVSSG6NHXLFJLLNEFRQQUQ,AGYSMAC6V6RFJJOHG2FIRPOZ6CSQ",
         "Pavan A H,Jayesh bagad,Shridhar,rajendran,karuppu k,Akshay wani,Abbimaniu Singh,VISHAL H BADSHE",
         "R2X090D1YHACKR,R32ZCIH9AFNJ60,R3N57EVVG0EHAF,R3QWLE8JHROKC1,R2VTSDOOUTSQ5X,R3E6FZ75Q074KH,R1SYBQLTPFCW20,RYQT96J8HPIXE",
         "Worth for money - suitable for Android auto,Good Product,Length,Nice,Original,Very good quay Cable support fast charging.,Original MI cable for charging upto 33 watt,I am veri happy with this product as it provide turbo charging.",
         "Worth for money - suitable for Android auto... my purpose served in car....got it for Rs.150,Everything is Okay. But packaging is not good feeling like seller gave is used cable.,Good product,Good product but cost is more.,Original cable,I bought this cable at 129. Using this cable for Android auto in my car. Perfectly works without any glitch.,Original MI cable. Will charge upto 33 watts. Got it for Rs 150.  I have 67 watt charger and I want a cable for my car so I went for it. I checked the performance with battery charging app. The charging speed is exactly half of my 67 watt original cable. Go for it.,It provided me turbo charging. I recommend for all Redmi note 10s mobile phones. As it provide turbo charging. I am veri happy with this product.",
         "https://m.media-amazon.com/images/I/31XO-wfGGGL._SX300_SY300_QL70_FMwebp_.jpg",
         "https://www.amazon.in/MI-MTCY001IN-USB-Type-C-Cable/dp/B08DDRGWTJ/ref=sr_1_9?qid=1672909124&s=electronics&sr=1-9"
        ],
        [
         "B008IFXQFU",
         "TP-Link USB WiFi Adapter for PC(TL-WN725N), N150 Wireless Network Adapter for Desktop - Nano Size WiFi Dongle Compatible with Windows 11/10/7/8/8.1/XP/ Mac OS 10.9-10.15 Linux Kernel 2.6.18-4.4.3",
         "Computers&Accessories|NetworkingDevices|NetworkAdapters|WirelessUSBAdapters",
         499.0,
         999.0,
         50.0,
         4.2,
         348.2177914110429,
         "USB WiFi Adapter —— Speedy wireless transmission at up to 150Mbps ideal for video streaming or internet calls|Mini Design —— Sleek miniature design so small that once plugged in, can be left in a Laptop’s USB port|Advanced Security —— Supports 64/128 WEP, WPA, PA2/WPA-PSK/WPA2-PSK(TKIP/AES)|Compatibility —— Windows 11/10/8.1/8/7/XP, Mac OS 10.15 and earlier, Linux|Easy Setup —— Connect in no time with easy setup utility in 14 languages|In an unlikely case of product quality related issue, we may ask you to reach out to brand’s customer service support and seek resolution. We will require brand proof of issue to process replacement request",
         "AGV3IEFANZCKECFGUM42MRH5FNOA,AEBO7NWCNXKT4AESAN443HQH35FQ,AE7GD3VRRYQEAHDR7FXJIR23INYA,AHPAW24BI5X2GCX5M2LHI72VSJJQ,AE2VXY4CFO36MDSIMPG43XHNF4GA,AHHQEKUNVETALN7DTRHUQ2WAWEKQ,AFMIFTNTUD5PIHGONWOTRMMZ5EBA,AHOJBIZVVIIFJKRREY4B6ESVA4KA",
         "Azhar JuMan,Anirudh Sood,Hari Krishnan PS,Akash Jindal,PRADEEP,Rajesh,Divya Kothari,abhijit",
         "R1LW6NWSVTVZ2H,R3VR5WFKUS15C5,R2F6GC79OYWUKQ,R3QZ19MECGWG9A,R2MPU42MYK7GPO,R33DVXFB4VYPZZ,R1SQ7OGFR4JRUR,R1S5F9QI0M1VBZ",
         "Works on linux for me. Get the model with antenna.,Does what it say but other brands available at lesser price,Easy Handle,Great product,Perfect working,Speed is perfect,Great Design, Build, Connectivity Range, Packaging and other features but no linux support since v2,Very good",
         "I use this to connect an old PC to internet. I tried lubuntu 20 and ubuntu 22, it worked out of the box in both, didn't have to do any setup. There's an extender cable so you can place this in a comfortable place. Get the model with antenna because otherwise you'll have range problems if you're not directly in line of sight from your wifi router.,The wifi dongle is a simple plug & play device, will start catching available networks right after you plug it into your USB port, no additional installations/ softwares requires. Signal strength is good.... just wonder what would be different in other adapters of lesser known brands which are available at a much more competitive pricing, hence a star less.,Pros:*Easy to use & Portable*Can be connected to Mobile Hotspot and used in PC( Budget Friendly)*Less installation process*No heating issues & Good Coverage*Best alternative for USB Tethering (phone's battery may get damaged for long term run with Tethering)Cons:*Internet connection speed varies at times, also depends on your modem or cellular connection*Issues occur while installing via CD, which is available along with the product( Installation driver can be downloaded from TP-Link site)*Needed to reconnect the adapter every time system is turned ON*Will not work if your software has some issues, so encountered any just update your system(worked for me)*Support Center is worse, calls are unattended most of the times or just visit nearby storeConclusion:Brought this @499/-Ideal for users who don't need very high speed internet usage,a good alternative for USB Tethering and are on Budge(1080p Youtube videos can be easily played with this without any interruptions),wifi connectivity is a great good result for me. however, some jitter problems did exist.,This is perfect device to connect wifi. Go for it.,This wifi adopter is good working,(Pictures attached)Size/Design:  ★ ★ ★ ★ ★Build Quality: ★ ★ ★ ★ ★Packaging:  ★ ★ ★ ★ ★Software:  ★ ★ ★ ★Speed:  ★ ★ ★ ★ ★Connectivity:  ★ ★ ★ ★ ★Experience:  ★ ★ ★ ★ ★Warranty:  ★ ★ ★ ★ ★Size and Design:The best part about this is that it is very compact in size and very sober and elegant in design. This is a big plus as it is easy plug in and use, add to it the good sober design.Build Quality:The build quality is undoubtedly superb. Just no qualms about that, at all. When held, it doesnt give off that cheap and flimsy product-like feeling. It is good sturdy with its build quality.Packaging:This part is also a big plus as the item was well cushioned and packaged with all the necessary items that ensured that no damage could have been caused to the product during transportation. This ensures that I as a customer have received something not damaged internally already.Software:This is actually good but not great part with the product.The good part is that a CD has been provided with it along with a manual.The not great part is that NO LINUX SUPPORT has been given from Version 2 onwards. This is bad, really.Speed:It easily supports net speeds upto 300 Mbps. Practically speaking, I have tested it at my home and it easily supports net speed of over 100-150 Mbps without a sigh.On testing I found that it did connect to 5GHz network, without any issue.Connectivity:Please mark its not feet its metres. Multiply metres x 3 to get the distance in feet.It easily connects to my laptop or phone from 7 metres across one room. So thats 21 feet. I mean even our old bluetooth used to connect to about 15 ft.So 20-25 feet is not at all an issue with this. This is the big plus I found with the product.Experience:From this point of view, so far except the linux non-compatibility issue, I found no other flaws with this product.So overall its a great product.Warranty:Its 3 years so I am assured that atleast for 3 years I am tension-free and not just 1 year, contrary to most electronic items today that only provide 1 year warranty with their items.,Best adapter I have bought ever. Works nicely seemless connectivity",
         "https://m.media-amazon.com/images/W/WEBP_402378-T2/images/I/31e6ElWRymL._SX300_SY300_QL70_FMwebp_.jpg",
         "https://www.amazon.in/TP-Link-TL-WN725N-150Mbps-Wireless-Adapter/dp/B008IFXQFU/ref=sr_1_10?qid=1672909124&s=electronics&sr=1-10"
        ],
        [
         "B082LZGK39",
         "Ambrane Unbreakable 60W / 3A Fast Charging 1.5m Braided Micro USB Cable for Smartphones, Tablets, Laptops & Other Micro USB Devices, 480Mbps Data Sync, Quick Charge 3.0 (RCM15, Black)",
         "Computers&Accessories|Accessories&Peripherals|Cables&Accessories|Cables|USBCables",
         199.0,
         299.0,
         33.0,
         4.0,
         348.2177914110429,
         "Universal Compatibility – It is compatible with all Micro USB enabled devices, be it an android smartphone, tablet, PC peripheral or any other micro USB compatible device|Unbreakable – Made of special braided outer with rugged interior bindings, it is ultra-durable cable that won’t be affected by daily rough usage|Ideal Length – It has ideal length of 1.5 meters which is neither too short like your typical 1meter cable or too long like a 2meters cable|Supports maximum 3A fast charging and 480 Mbps data transfer speed|6 Months manufacturer warranty from the date of purchase.",
         "AECPFYFQVRUWC3KGNLJIOREFP5LQ,AGYYVPDD7YG7FYNBXNGXZJT525AQ,AHONIZU3ICIEHQIGQ6R2VFRSBXOQ,AFPHD2CRPDZMWMBL7WXRSVYWS5JA,AEZ346GX3HJ4O4XNRPHCNHXQURMQ,AEPSWFPNECKO34PUC7I56ITGXR6Q,AHWVEHR5DYLVFTO2KF3IZATFQSWQ,AH4QT33M55677I7ISQOAKEQWACYQ",
         "ArdKn,Nirbhay kumar,Sagar Viswanathan,Asp,Placeholder,BharanI,sonia,Niam",
         "RGIQEG07R9HS2,R1SMWZQ86XIN8U,R2J3Y1WL29GWDE,RYGGS0M09S3KY,R17KQRUTAN5DKS,R3AAQGS6HP2QUK,R1HDNOG6TO2CCA,R3PHKXYA5AFEOU",
         "A Good Braided Cable for Your Type C Device,Good quality product from ambrane,Super cable,As,Good quality,Good product,its good,Good quality for the price but one issue with my unit",
         "I ordered this cable to connect my phone to Android Auto of car. The cable is really strong and the connection ports are really well made. I already has a Micro USB cable from Ambrane and it's still in good shape. I connected my phone to the car using the cable and it got connected well and no issues. I also connected it to the charging port and yes it has Fast Charging support.,It quality is good at this price and the main thing is that i didn't ever thought that this cable will be so long it's good one and charging power is too good and also supports fast charging,Value for money, with extra length👍,Good, working fine,Product quality is good,Good,very good,Bought for my daughter's old phone.Brand new cable it was not charging, I already repacked and requested for replacement.I checked again, and there was some green colour paste/fungus inside the micro USB connector. I cleaned with an alcoholic and starts working again.Checked the ampere of charging speed got around 1400ma-1500ma - not bad, came with braided 1.5m long cable, pretty impressive for the price.Can't blame the manufacturer.But quality issues by the distributor, they might have stored in very humid place.",
         "https://m.media-amazon.com/images/W/WEBP_402378-T2/images/I/31kj3q4SepL._SY445_SX342_QL70_FMwebp_.jpg",
         "https://www.amazon.in/Ambrane-Unbreakable-Charging-Braided-Android/dp/B082LZGK39/ref=sr_1_11?qid=1672909124&s=electronics&sr=1-11"
        ]
       ],
       "datasetInfos": [],
       "dbfsResultPath": null,
       "isJsonSchema": true,
       "metadata": {},
       "overflow": false,
       "plotOptions": {
        "customPlotOptions": {},
        "displayType": "table",
        "pivotAggregation": null,
        "pivotColumns": null,
        "xColumns": null,
        "yColumns": null
       },
       "removedWidgets": [],
       "schema": [
        {
         "metadata": "{}",
         "name": "product_id",
         "type": "\"string\""
        },
        {
         "metadata": "{}",
         "name": "product_name",
         "type": "\"string\""
        },
        {
         "metadata": "{}",
         "name": "category",
         "type": "\"string\""
        },
        {
         "metadata": "{}",
         "name": "discounted_price",
         "type": "\"double\""
        },
        {
         "metadata": "{}",
         "name": "actual_price",
         "type": "\"double\""
        },
        {
         "metadata": "{}",
         "name": "discount_percentage",
         "type": "\"double\""
        },
        {
         "metadata": "{}",
         "name": "rating",
         "type": "\"double\""
        },
        {
         "metadata": "{}",
         "name": "rating_count",
         "type": "\"double\""
        },
        {
         "metadata": "{}",
         "name": "about_product",
         "type": "\"string\""
        },
        {
         "metadata": "{}",
         "name": "user_id",
         "type": "\"string\""
        },
        {
         "metadata": "{}",
         "name": "user_name",
         "type": "\"string\""
        },
        {
         "metadata": "{}",
         "name": "review_id",
         "type": "\"string\""
        },
        {
         "metadata": "{}",
         "name": "review_title",
         "type": "\"string\""
        },
        {
         "metadata": "{}",
         "name": "review_content",
         "type": "\"string\""
        },
        {
         "metadata": "{}",
         "name": "img_link",
         "type": "\"string\""
        },
        {
         "metadata": "{}",
         "name": "product_link",
         "type": "\"string\""
        }
       ],
       "type": "table"
      }
     },
     "output_type": "display_data"
    }
   ],
   "source": [
    "%sql SELECT * FROM silver.name_basics LIMIT 10"
   ]
  },
  {
   "cell_type": "code",
   "execution_count": 0,
   "metadata": {
    "application/vnd.databricks.v1+cell": {
     "cellMetadata": {
      "byteLimit": 2048000,
      "implicitDf": true,
      "rowLimit": 10000
     },
     "inputWidgets": {},
     "nuid": "8577b0fb-d63b-4b72-b63c-e1435fb12218",
     "showTitle": false,
     "tableResultSettingsMap": {},
     "title": ""
    }
   },
   "outputs": [
    {
     "output_type": "display_data",
     "data": {
      "text/html": [
       "<style scoped>\n",
       "  .table-result-container {\n",
       "    max-height: 300px;\n",
       "    overflow: auto;\n",
       "  }\n",
       "  table, th, td {\n",
       "    border: 1px solid black;\n",
       "    border-collapse: collapse;\n",
       "  }\n",
       "  th, td {\n",
       "    padding: 5px;\n",
       "  }\n",
       "  th {\n",
       "    text-align: left;\n",
       "  }\n",
       "</style><div class='table-result-container'><table class='table-result'><thead style='background-color: white'><tr><th>count(1)</th></tr></thead><tbody><tr><td>1465</td></tr></tbody></table></div>"
      ]
     },
     "metadata": {
      "application/vnd.databricks.v1+output": {
       "addedWidgets": {},
       "aggData": [],
       "aggError": "",
       "aggOverflow": false,
       "aggSchema": [],
       "aggSeriesLimitReached": false,
       "aggType": "",
       "arguments": {},
       "columnCustomDisplayInfos": {},
       "data": [
        [
         1465
        ]
       ],
       "datasetInfos": [],
       "dbfsResultPath": null,
       "isJsonSchema": true,
       "metadata": {},
       "overflow": false,
       "plotOptions": {
        "customPlotOptions": {},
        "displayType": "table",
        "pivotAggregation": null,
        "pivotColumns": null,
        "xColumns": null,
        "yColumns": null
       },
       "removedWidgets": [],
       "schema": [
        {
         "metadata": "{\"__autoGeneratedAlias\":\"true\"}",
         "name": "count(1)",
         "type": "\"long\""
        }
       ],
       "type": "table"
      }
     },
     "output_type": "display_data"
    }
   ],
   "source": [
    "%sql SELECT COUNT(*) FROM silver.name_basics"
   ]
  },
  {
   "cell_type": "code",
   "execution_count": 0,
   "metadata": {
    "application/vnd.databricks.v1+cell": {
     "cellMetadata": {
      "byteLimit": 2048000,
      "implicitDf": true,
      "rowLimit": 10000
     },
     "inputWidgets": {},
     "nuid": "3b062a8b-8b1f-4cfd-aa15-e2f51be9dabc",
     "showTitle": false,
     "tableResultSettingsMap": {},
     "title": ""
    }
   },
   "outputs": [
    {
     "output_type": "display_data",
     "data": {
      "text/plain": [
       ""
      ]
     },
     "metadata": {
      "application/vnd.databricks.v1+output": {
       "arguments": {},
       "data": "",
       "errorSummary": "Command skipped",
       "errorTraceType": "ansi",
       "metadata": {},
       "type": "ipynbError"
      }
     },
     "output_type": "display_data"
    }
   ],
   "source": [
    "%sql\n",
    "SELECT product_id, AVG(rating) AS average_rating\n",
    "FROM silver.name_basics\n",
    "GROUP BY product_id\n",
    "ORDER BY average_rating DESC;\n"
   ]
  },
  {
   "cell_type": "markdown",
   "metadata": {
    "application/vnd.databricks.v1+cell": {
     "cellMetadata": {
      "byteLimit": 2048000,
      "rowLimit": 10000
     },
     "inputWidgets": {},
     "nuid": "0aba0d34-cafe-4bfc-8e4b-c641670144c7",
     "showTitle": false,
     "tableResultSettingsMap": {},
     "title": ""
    }
   },
   "source": [
    "#4. Análise\n",
    "## a. Qualidade de dados\n",
    "A análise da qualidade de dados tem como objetivo verificar se o conjunto de dados está adequado para análise e se os dados estão limpos e prontos para responder as perguntas de negócios"
   ]
  },
  {
   "cell_type": "markdown",
   "metadata": {
    "application/vnd.databricks.v1+cell": {
     "cellMetadata": {
      "byteLimit": 2048000,
      "rowLimit": 10000
     },
     "inputWidgets": {},
     "nuid": "84421e41-5349-4e66-98f4-ff9bb4d0edf3",
     "showTitle": false,
     "tableResultSettingsMap": {},
     "title": ""
    }
   },
   "source": [
    "##Documentação da qualidade de dados\n",
    "\n",
    "O objetivo dessa etapa é analisar a qualidade de dados para identificar e corrigir possíveis problemas, como valores nulos, duplicados ou inconsistências. Isso assegura que as análises sejam baseadas em dados confiáveis.\n",
    "\n",
    "Foram verificados valores nulos nas colunas ratings e rating_count que foram preenchidos com a média. verifiquei valores duplicados com pyspark mas que não foram considerados fora do padrão pois repetições de registros, preços com desconto e a presença de vários registros de um mesmo usuário são comuns em dados de comércio eletrônico.Foram verificados símbolos especiais como símbolos montários, vírgulas e símbolo da porcentagem que foram removidos para possibilitar a conversão para float.  Verifiquei a consistência de dados com o dtype para garantir que não houvesse erros de tipo que poderiam prejudicar a análise, com o objetivo de garantir que cada coluna tenha o tipo de dado correto, o que é fundamental para a realização de análises precisas. Foi feita a estatística descritiva para entender a distribuição de dados e realizei a análise da correlação entre as variáveis. Foram também plotados gráficos para identificar a distribuição de dados e a correlação entre as variáveis. "
   ]
  },
  {
   "cell_type": "code",
   "execution_count": 0,
   "metadata": {
    "application/vnd.databricks.v1+cell": {
     "cellMetadata": {
      "byteLimit": 2048000,
      "rowLimit": 10000
     },
     "inputWidgets": {},
     "nuid": "e3dd4dbf-1937-4620-90de-9932b6c8a763",
     "showTitle": false,
     "tableResultSettingsMap": {},
     "title": ""
    }
   },
   "outputs": [
    {
     "output_type": "stream",
     "name": "stdout",
     "output_type": "stream",
     "text": [
      "product_id             0\nproduct_name           0\ncategory               0\ndiscounted_price       0\nactual_price           0\ndiscount_percentage    0\nrating                 0\nrating_count           0\nabout_product          0\nuser_id                0\nuser_name              0\nreview_id              0\nreview_title           0\nreview_content         0\nimg_link               0\nproduct_link           0\ndtype: int64\n"
     ]
    }
   ],
   "source": [
    "print(dataset.isnull().sum()) ## Verifica a quantidade de valores nulos em cada coluna"
   ]
  },
  {
   "cell_type": "code",
   "execution_count": 0,
   "metadata": {
    "application/vnd.databricks.v1+cell": {
     "cellMetadata": {
      "byteLimit": 2048000,
      "rowLimit": 10000
     },
     "inputWidgets": {},
     "nuid": "60a5c0f2-1b0d-4d57-a2f8-9abb1a0e7922",
     "showTitle": false,
     "tableResultSettingsMap": {},
     "title": ""
    }
   },
   "outputs": [
    {
     "output_type": "stream",
     "name": "stdout",
     "output_type": "stream",
     "text": [
      "product_id              object\nproduct_name            object\ncategory                object\ndiscounted_price       float64\nactual_price           float64\ndiscount_percentage    float64\nrating                 float64\nrating_count           float64\nabout_product           object\nuser_id                 object\nuser_name               object\nreview_id               object\nreview_title            object\nreview_content          object\nimg_link                object\nproduct_link            object\ndtype: object\n"
     ]
    }
   ],
   "source": [
    "print(dataset.dtypes)"
   ]
  },
  {
   "cell_type": "markdown",
   "metadata": {
    "application/vnd.databricks.v1+cell": {
     "cellMetadata": {
      "byteLimit": 2048000,
      "rowLimit": 10000
     },
     "inputWidgets": {},
     "nuid": "f6688c6b-c53d-405d-8578-ee5e330343f2",
     "showTitle": false,
     "tableResultSettingsMap": {},
     "title": ""
    }
   },
   "source": []
  },
  {
   "cell_type": "code",
   "execution_count": 0,
   "metadata": {
    "application/vnd.databricks.v1+cell": {
     "cellMetadata": {
      "byteLimit": 2048000,
      "implicitDf": true,
      "rowLimit": 10000
     },
     "inputWidgets": {},
     "nuid": "9be51101-b1a0-43af-98b6-4e574b95d1c1",
     "showTitle": false,
     "tableResultSettingsMap": {},
     "title": ""
    }
   },
   "outputs": [
    {
     "output_type": "display_data",
     "data": {
      "text/html": [
       "<style scoped>\n",
       "  .table-result-container {\n",
       "    max-height: 300px;\n",
       "    overflow: auto;\n",
       "  }\n",
       "  table, th, td {\n",
       "    border: 1px solid black;\n",
       "    border-collapse: collapse;\n",
       "  }\n",
       "  th, td {\n",
       "    padding: 5px;\n",
       "  }\n",
       "  th {\n",
       "    text-align: left;\n",
       "  }\n",
       "</style><div class='table-result-container'><table class='table-result'><thead style='background-color: white'><tr></tr></thead><tbody></tbody></table></div>"
      ]
     },
     "metadata": {
      "application/vnd.databricks.v1+output": {
       "addedWidgets": {},
       "aggData": [],
       "aggError": "",
       "aggOverflow": false,
       "aggSchema": [],
       "aggSeriesLimitReached": false,
       "aggType": "",
       "arguments": {},
       "columnCustomDisplayInfos": {},
       "data": [],
       "datasetInfos": [],
       "dbfsResultPath": null,
       "isJsonSchema": true,
       "metadata": {},
       "overflow": false,
       "plotOptions": {
        "customPlotOptions": {},
        "displayType": "table",
        "pivotAggregation": null,
        "pivotColumns": null,
        "xColumns": null,
        "yColumns": null
       },
       "removedWidgets": [],
       "schema": [],
       "type": "table"
      }
     },
     "output_type": "display_data"
    }
   ],
   "source": [
    "%sql CREATE DATABASE IF NOT EXISTS gold;"
   ]
  },
  {
   "cell_type": "markdown",
   "metadata": {
    "application/vnd.databricks.v1+cell": {
     "cellMetadata": {
      "byteLimit": 2048000,
      "rowLimit": 10000
     },
     "inputWidgets": {},
     "nuid": "75172ee6-03be-4c6f-9d23-6b0fd65e335f",
     "showTitle": false,
     "tableResultSettingsMap": {},
     "title": ""
    }
   },
   "source": [
    "## 5. Carga de dados no Data Warehouse"
   ]
  },
  {
   "cell_type": "code",
   "execution_count": 0,
   "metadata": {
    "application/vnd.databricks.v1+cell": {
     "cellMetadata": {
      "byteLimit": 2048000,
      "rowLimit": 10000
     },
     "inputWidgets": {},
     "nuid": "8cdb469a-618c-4319-b216-ade07d8f063a",
     "showTitle": false,
     "tableResultSettingsMap": {},
     "title": ""
    }
   },
   "outputs": [
    {
     "output_type": "stream",
     "name": "stdout",
     "output_type": "stream",
     "text": [
      "Dados carregados com sucesso nas tabelas fact_product_reviews dim_product, dim_user1 e dim_review.\n"
     ]
    }
   ],
   "source": [
    "\n",
    "spark_df1 = spark.createDataFrame(dataset)\n",
    "spark_df1.write.mode(\"overwrite\").saveAsTable(\"gold.name_basics\")\n",
    "\n",
    "# Inserir dados na tabela fact_product_reviews\n",
    "spark.sql(\"\"\"\n",
    "    INSERT INTO fact_product_reviews (product_id, user_id, discounted_price, actual_price, discount_percentage, rating, rating_count, review_id)\n",
    "    SELECT product_id, user_id, discounted_price, actual_price, discount_percentage, rating, rating_count, review_id\n",
    "    FROM gold.name_basics\n",
    "\"\"\")\n",
    "\n",
    "# Inserir dados na tabela dim_product\n",
    "spark.sql(\"\"\"\n",
    "    INSERT INTO dim_product (product_id, product_name, category, about_product, product_link, img_link)\n",
    "    SELECT product_id, product_name, category, about_product, product_link, img_link\n",
    "    FROM gold.name_basics;\n",
    "\"\"\")\n",
    "\n",
    "# Inserir dados na tabela dim_user1\n",
    "spark.sql(\"\"\"\n",
    "    INSERT INTO dim_user1 (user_id, user_name)\n",
    "    SELECT DISTINCT user_id, user_name\n",
    "    FROM gold.name_basics;\n",
    "\"\"\")\n",
    "\n",
    "# Inserir dados na tabela dim_review\n",
    "spark.sql(\"\"\"\n",
    "    INSERT INTO dim_review (review_id, review_title, review_content)\n",
    "    SELECT DISTINCT review_id, review_title, review_content\n",
    "    FROM gold.name_basics;\n",
    "\"\"\")\n",
    "\n",
    "print(\"Dados carregados com sucesso nas tabelas fact_product_reviews dim_product, dim_user1 e dim_review.\")"
   ]
  },
  {
   "cell_type": "markdown",
   "metadata": {
    "application/vnd.databricks.v1+cell": {
     "cellMetadata": {
      "byteLimit": 2048000,
      "rowLimit": 10000
     },
     "inputWidgets": {},
     "nuid": "e40c8fbd-6ec9-454e-8dc8-c1f62b47d010",
     "showTitle": false,
     "tableResultSettingsMap": {},
     "title": ""
    }
   },
   "source": [
    "## Selecionar os títulos das revisões onde a classificaçaõ é maior que 4"
   ]
  },
  {
   "cell_type": "code",
   "execution_count": 0,
   "metadata": {
    "application/vnd.databricks.v1+cell": {
     "cellMetadata": {
      "byteLimit": 2048000,
      "implicitDf": true,
      "rowLimit": 10000
     },
     "inputWidgets": {},
     "nuid": "3ae20441-b4ca-4c72-9eae-50e7a0661cee",
     "showTitle": false,
     "tableResultSettingsMap": {},
     "title": ""
    }
   },
   "outputs": [
    {
     "output_type": "display_data",
     "data": {
      "text/html": [
       "<style scoped>\n",
       "  .table-result-container {\n",
       "    max-height: 300px;\n",
       "    overflow: auto;\n",
       "  }\n",
       "  table, th, td {\n",
       "    border: 1px solid black;\n",
       "    border-collapse: collapse;\n",
       "  }\n",
       "  th, td {\n",
       "    padding: 5px;\n",
       "  }\n",
       "  th {\n",
       "    text-align: left;\n",
       "  }\n",
       "</style><div class='table-result-container'><table class='table-result'><thead style='background-color: white'><tr><th>review_title</th></tr></thead><tbody><tr><td>awesome,Good product,Product reviews ...,Best in budget,Very good according to price,Nice product data transmission  rate is 80 to 85MB/s,Works well. East to install HDD in this. Will recommend,Very nice product and easy install & use</td></tr><tr><td>Hassle free bagless vacuum cleaner | No more of maintaining/cleaning/replacing bags,Nice little vacuum cleaner but with a couple of drawbacks.,Simple and Effective,A,On the heavier side but satisfied with the product,Good quality, heavy noise,Great Product!,Awesome Cleaning Machine</td></tr><tr><td>Excellent to Use, Adequate Cord length but Too Expensive compared with other & Hope for Durability.,Easy to handle, hassle free,Good,Nice product 👍,Good product,Overall good product,Product not working more than 6months. At that time 797 rs now 999 rs. Too much,Not Shock proof at all</td></tr><tr><td>All fine but the cord is too short,Good quality,Great quality go and buy...,Stand nahi hota hai gir jata hai,Good iron at this price,Awesome,There was one scratch on the surface which was hide under the sticker,Superb quality</td></tr><tr><td>Decent product.,Good,Good quality,It is original hp 65w chrger,Right product,100% authentic,Good Quality,Decent</td></tr><tr><td>Does the stated purpose,Good,Good,Steam Iron,Light weight and easy to use iron,Functional & hard to Use,Overall a good product,Using it for a month. So far it is working well.</td></tr><tr><td>Good & attractive,Very versatile,Good,Good Product....,Good night light at 5Volt.,Pretty good product,Good,Nice bt it should be in direct plug not in usb</td></tr><tr><td>It's working,It's gud 😳,Cable quality is good.,Durable and Works Well,Good data cable same as shown in pic,Portronics knonnect L 1.2 mtr Micro USB cable,Ok,Great quality</td></tr><tr><td>It's working,It's gud 😳,Cable quality is good.,Durable and Works Well,Good data cable same as shown in pic,Portronics knonnect L 1.2 mtr Micro USB cable,Ok,Great quality</td></tr><tr><td>Great for smoothies and shakes,Very good products,Very nice portable and easy to wash blender,Good product,Great build quality,Good,This  item made my day,Good product</td></tr><tr><td>I was skeptical at the beginning but now love it.,It is mechanical keyboard,Very Good Build quality, price of Rs.1500/- is justified.,Amazing,Great budget keyboard,Value for money,Very good performance,It is good if you get it under 2000 otherwise don't buy it</td></tr><tr><td>Best in this range,Product is gud but shipped damaged product but new 1 is gud,Good but should be more better from company,Average product,Does it's job well,Good product,Working this product very smoothly.,Very good much 🙏🙏</td></tr><tr><td>Nice product,Absolutely wonderful! Efficient and healthy,This is pretty good air fryer,Very good product,Very good quality product,Innovative design and good product,Best deal in this price,Cheap and best</td></tr><tr><td>Pretty good,I m happy 😊got 3 at 121rs.,Product is good, packaging is worst,Ok,Great product,Smooth pages.,Value for Money,Good</td></tr><tr><td>Good one,It’s effective,Amazing product for lint removal,Must for every household,Best use,Amazing product,Good product and easy to use,Easy to use</td></tr><tr><td>Good,Value of money,Good Product,Good,Product Provider is super responsive, as received my order within 2 days,Good product. Very useful. Highly recommended.,Honesty and transperancy of the seller was perfect,Poor</td></tr><tr><td>Early impression comparing MK215 with MK270  - bit underwhelmed,Lagging,It is working fine till now.,Does the job well,Excellent,Worth,To avoid lag, plug into USB port without neighboring connections,Good</td></tr><tr><td>No more time for heat .this is very awesome product,Light weight &easy to use,Ati Uttam,Awesome,Not upto the mark,essay to use value for mony,Always worst package, it was completely damaged,Good product</td></tr><tr><td>Nice product,Best product for use in winter season,Amazing product,This devie is portable that majes its design fantastic and easy to use!,Handy heater,Awesome product,Fantastic one,Portable and easy to use.</td></tr><tr><td>Nice,Awesome,Quick not charger🤏,Expensive at this price,Multiple mobile can’t be charged at a time,THIS IS FAST CHARGING ON BOTH MY SAMSUNG PHONES AND IPHONE TOO. Go for it !!,Excellent quality!,CHARGING CABLE</td></tr><tr><td>Nice,Awesome,Quick not charger🤏,Expensive at this price,Multiple mobile can’t be charged at a time,THIS IS FAST CHARGING ON BOTH MY SAMSUNG PHONES AND IPHONE TOO. Go for it !!,Excellent quality!,CHARGING CABLE</td></tr><tr><td>FPS increased in games after installing it 😍,Worst Experience turned great,Very good product,Really increase performance,8gb ram r*8,It Worked,Good ram at good price.,Good RAM</td></tr><tr><td>Good product,Its good, but micro usb doesn't fit my phone.,Good and useful item,It is very best cable,good,2 in 1 Charging Cable.,Sturdy cable overall,Nice & Best Charger Cabel</td></tr><tr><td>Good product,Its good, but micro usb doesn't fit my phone.,Good and useful item,It is very best cable,good,2 in 1 Charging Cable.,Sturdy cable overall,Nice & Best Charger Cabel</td></tr><tr><td>Good product,Its good, but micro usb doesn't fit my phone.,Good and useful item,It is very best cable,good,2 in 1 Charging Cable.,Sturdy cable overall,Nice & Best Charger Cabel</td></tr><tr><td>Anyone can use it except your elderly folks. Does not come with instructions.,It’s good prodyct,Overall good,Works and gets out of your way,Water leakage after a 2 week of useage,Good reviews,Good product, delivering what was expected,mist is like a cloud</td></tr><tr><td>Very nice quality,Good one for office use,Good,Try na cool.,avearage,Nicee,अच्छा है,ABC</td></tr><tr><td>Fantastic,Spen works, will protect the screen.,Good,Not smudge proof at all!! But apart from that it's good.,Smooth surface, good protection, easy application.,Good,Goodbye for the tablet but not for the s pen stylus.,1 year of use</td></tr><tr><td>Good P3 Nvme for entry level,Awesome,Sometime not showing in laptop,Great product at good price,Unable to detect SSD? Funny but use \"mdsched.exe\".,Fantastic performance and reduced boot time with my Lenovo S145,Crucial SSD's are \"Bang for the Buck\" but it does not come with a screwdriver, hear me out.,Good product at this price point.</td></tr><tr><td>Functionality as described,Working,Great USB in budget,Good,Good,It just works,Works with my Casio ct-x700 well,Still working after 3 months</td></tr><tr><td>Functionality as described,Working,Great USB in budget,Good,Good,It just works,Works with my Casio ct-x700 well,Still working after 3 months</td></tr><tr><td>Beyond expected,Good,Perfect Juicer - Very User Friendly in usage,User friendly and convenient to use for fresh juice,Excellent Little Juicer! Fast and Easy to Clean. Produces Very Good Quality Juice,Premium juicer,Good however...,Most effective and convinient juicer i Ever had</td></tr><tr><td>Very useful!,Good one for the price,Temperature,temparature controll is needed,Good product but price is too be very high,Quality of material,Best,Good product</td></tr><tr><td>Good quality scale but I got defective piece,Nice product....,Product is very good 👍,About product,Must buy,Great device for kitchen</td></tr><tr><td>Beautiful and functional, but could be improved (improvements written in review),Agaro kettle,Satisfied with the product,A royal black beauty.,Value for money.,Agaro kettle review,Review,Good looking  elegant, easy to use</td></tr><tr><td>Not a disappointment, but can be better,IT IS NOT A BAD IDEA TO SPEND YOUR MONEY ON THIS SMART WATCH,Nice quality,Display is awsome,Sleep tracking</td></tr><tr><td>Nice chopper,Small easy use n clean,Not good,Good,Good,Probably the best purchase for my mom!,String issues,Good product.</td></tr><tr><td>Heavy duty mixer grinder, delivers what it promises,Works fast,It's not working good I had bought in 2020 and the motor is making,Good machine but cap locks can be much better,Good 👍,Great Mixer Grinder but not good for juices,Powerfull mixer grinder,Powerful but Pricey</td></tr><tr><td>Good👌,Good built quality,Quality Product under 3000,good price,Nice product,Good product,Exlent❤,Outlet is very slow</td></tr><tr><td>Go for it,Good steam iron,Plage big size,Good Product and worth Buying,Nice,Easy to use,Good,Going good so far</td></tr><tr><td>Just gets the job done. Not so fast as it says,Ok ok for value for money,Good product,Good quality at this price range,Good product,Good value for money.,Good product,Similar performance to Ultra series card</td></tr><tr><td>Good,It’s okay,Cheap quality product, not worth,Good and worth for money,Worth buy,Very nice from the seller as well as from Amazon.,superb,That's a good kitchen scalar machine must buy.</td></tr><tr><td>Very easy to use curd maker,Excited to try it,Good product to settle hassle free yogurt,Checking now,Good Product at this Price,Good product,Good,Best yogurt maker at this price range</td></tr><tr><td>Worth Buying,It's a very good product at these price range go for it.,Camera SD card reader,A very handy gadget for transferring data between various devices,Product is good and working properly,Nice product,Reveewing after 3 weeks.,Use full product</td></tr><tr><td>Awesome speed,Speed in range 7** MBps to 9** MBps on MBP,Handy and fast,Great !,Simply wow,Overprice,very costaly,Speed is fast but....files get corrupt,Does what ot says!</td></tr><tr><td>Great Customer care experience..!!,Best in budget earbuds with some quality,Extremely high value for money,Worth for money and great listening experience.,Battery backup,A valuable product,So so,Great buy!</td></tr><tr><td>Degree of cleanliness of air achieved and the size of space covered,Excellent in every aspect,Very good,Love the control from the app,Purifier is good - but received a 'second hand' item,Works Well!,Good product 👍,Just works fine</td></tr><tr><td>Just go for it.👍🏻,3 PIN Plug should be there,Mixer is good as well as jar is good.But packing is very bad.,Too much noise,Good quality product......,Good,Nc,Useful</td></tr><tr><td>Good product 👌,5 bati,Charge seems to be very low.,Good batteries.,working fine with my car remote,Original Duracell,Great,SANTOSH PRASAD</td></tr><tr><td>Excellent product,Good product, very accurate and sleek design. Totally Recommended,Good product,Accurate with multiple unit setting option,Light weight scale machine ... It's good for me,Good little gadget for kitchen,Good product for house use.,Awesome product</td></tr><tr><td>Con = no bandwidth control,Setup is smooth and easy,Good coverage,as money as goods,The signal reach could be better,overall is ok,Product,Class product from TP-Link! A worthy investment.</td></tr><tr><td>Using it with my QC 3 Charger .So far- So good.A Quality cable with a sturdy construction & troublefree performance.,Awesome product go for buy it 👍,Execellent,Sturdy micro USB cable for Old phones,Super,Product description says 3 feet it's hardly a foot length wire.,Good,Excellent quality cable</td></tr><tr><td>Using it with my QC 3 Charger .So far- So good.A Quality cable with a sturdy construction & troublefree performance.,Awesome product go for buy it 👍,Execellent,Sturdy micro USB cable for Old phones,Super,Product description says 3 feet it's hardly a foot length wire.,Good,Excellent quality cable</td></tr><tr><td>Using it with my QC 3 Charger .So far- So good.A Quality cable with a sturdy construction & troublefree performance.,Awesome product go for buy it 👍,Execellent,Sturdy micro USB cable for Old phones,Super,Product description says 3 feet it's hardly a foot length wire.,Good,Excellent quality cable</td></tr><tr><td>Warranty,Plug is not supporting,Good product,Great,Product is good,You can go for it but...... Read review,Fabulous,Good</td></tr><tr><td>Overall good product,Perfect,Amazing product for Laptop,Good product,Very good, can be better,Good product,Good product,Not worth the money!</td></tr><tr><td>Very light weight. Almost accurate measurements.,Easy to use and on point!,Highly recommend product..just need some minor advanced feature in measuring liquid,Received in a decent condition,Good machine with precision,Great product,Excellent scale,Good Product</td></tr><tr><td>My sister is very happy with the performance of this item . Good buy and good deal,Product is good,Good,Great product,Good product,Good quality product but price is too high,Value for money,Good</td></tr><tr><td>Better than I expected!,Good,Good product,Great durability and original products,Very Nice !,Good product,Good,Good product</td></tr><tr><td>Great Build Quality!,Great condition,Nice,Good experience,Good purchase,Just not A4.,GOOD ONE,It useful but buy it only when the price is under 100. Then u will get the profit.</td></tr><tr><td>Good,Very lightweight and good looking,good,So far so good,Nice 👍,Average,I think is this 1000 watts? Produce 750 watts.....,Good</td></tr><tr><td>12V2A RouterUPS,Decent Product,Product quality,Effective and functional,Works with jio 12v 2.5A,Good product but not supported for my Wifi,Amazing product very helpful at times off power cut.,Good one to buy</td></tr><tr><td>Good Pen at Low Cost,... have been reading about this pen which I would like to answer,Decent (at this price),Very nice.,Not for speedy write...,Nice pen good quality could be more smoother,Smooth,Superb Fountain Pen for all types of users</td></tr><tr><td>Good Quality Mouse,good,Good product for its price and warranty.,Not the best but does the job,Okayish,Go for it,really a good mouse in 250,not proper size ,it should be Littel big</td></tr><tr><td>Original review 👍realme buds🎧,Please Read The Whole Review For All the Details & Decide Yourself...,Good,Ful HIGHHHHHHHHHHHHHHHH BASE,Amazing,Good</td></tr><tr><td>Nice product,Not bad,good sleev,Very Good Product At Rs 290,Good purchase,Ok,Good product,Good</td></tr><tr><td>A good heater for tiny spaces,Good purchase,Best room heater in budget especially power saving,Handle to carry & a bit high stand would have been better additions to the product.,Nice little room heater.,Metal body with carbon heating element,Needs some care to handle when carry and use,good</td></tr><tr><td>Value for money,Small-sized Notebook,Worthy for money,Quality,I think it is a normal product,Value for money,Quality,Quality Product</td></tr><tr><td>Good wifi extender,Value for money!,Nice Product,very satisfied,Does the job,The product seems to be decent and good.,Good for home use,Extender is good but no 5G</td></tr><tr><td>Little kitchen helper,An amazing product,Very good product nice to use,Handy gadget!,Easy to use and carry Great product 👌,Best product,Light weight,Will definitely save your time....</td></tr><tr><td>Easy installation,Product is good,Easy installation process,Good,Its going to be 6 months now, working great 👍,Nice product,nice,V guard water purifier</td></tr><tr><td>Very nice,Works as it should,Not the best but value for money,Value for money,Useful product,Good Kitchen Product,Good,Good</td></tr><tr><td>Superb,Very helpful and great quality,Exactly what it says on the tin,A must product for pet parents,Must purchase if u have pet...,Totally worth it,Good product,Easy to use and usefull prody</td></tr><tr><td>So good ,nice looking,Value for money and a nice product,Awesome Product,overrated,Really good,Good,It is very good 👍,Good</td></tr><tr><td>Good for typing, compact,Good product but bad packing,liked it,No caps lock light,All good, except the tiny dongle which has high chances of loosing.,Amazing product incredibly bad packaging,GOOD 👍,Mouse light is not working but it’s working</td></tr><tr><td>600 W heating kettle with warmer & temp control, half coil heating element looks odd,Overall a Good Electric Kettle,Overall good.,Good Multicooker within budget,Agaro esteem Multi kettle,Quality,Very nice product. Like it.❤,Nice one for hostellers. A must buy product.</td></tr><tr><td>Good for small rooms,Better,Good quality,Nice product,Good product,Potable room heater,Room heater is useful,Good Heater</td></tr><tr><td>Good product,Nice product up to the mark,Good one,Excellent,Water purifier,Good,Super,Good it helping us</td></tr><tr><td>👍,Good quality product and value for money. Recommend for buy,Average product,Good product at good price,Smelling like sumting smoking</td></tr><tr><td>No visible change,Effective,Sensitivity, Simplicity and Support,Good product,Nice purifier,Minimal and Simple to use and great for people with allergies,Works well in Noida,Very easy to maintain</td></tr><tr><td>Good heater but digital temperature display is missed,Use intelligently for maximum outcome,Good product,13 fin oil heater has only 11 fins, wrongly advertised to fool public,Excellent product,Wonderful Product thandi me Garmi ka Ehsaas,Very nice,Nice product</td></tr><tr><td>You can trust on this one,The best usb cable,Wel build just like original .,Nice!!,Working perfectly,Basic,Good,No issues</td></tr><tr><td>You can trust on this one,The best usb cable,Wel build just like original .,Nice!!,Working perfectly,Basic,Good,No issues</td></tr><tr><td>You can trust on this one,The best usb cable,Wel build just like original .,Nice!!,Working perfectly,Basic,Good,No issues</td></tr><tr><td>Good.,Good product,Worth to have roti maker,Value for money,It is easy to use... time saving,Good value for money,Good,When you have Libra Chapati Maker, gathering guests is no more tension.</td></tr><tr><td>Nice,Nice buy,Good,Very nice,Good 😊,Value for money,Good,Get heat very fast but cold very fast</td></tr><tr><td>product one time replace worthy product i got,Great,Works decently. Does have some issues,Best In Budget,Heavy and a bit easy to heat up.,No compromise,Super in low budget,Paisa Vasool product as per budget.</td></tr><tr><td>Helthgenie product - Just received, as of now looks good.,Product seems good. The batteries packed separately inside leaked.,Wonderful, but ...,Good but it's plastic,Good for now.,Awesome product,Value for money,ONE IN A MILLION</td></tr><tr><td>Good product, set quickly on screen.,Go for it,Quality is Awesome,Seems okay,Good product,fingerprint magnet, great value for money though,Good,Simple to install and you get 2 of them, making it affordable price</td></tr><tr><td>Ha,Good product,Expensive,Good for price,This is a nice product !!,best quality,Laptop Cover bag,Unbelievable product in this Price Range</td></tr><tr><td>Nice,Good Quality,Good product,Product is good but some issues with it,Good,Good product.,Good and easy to use,Good one</td></tr><tr><td>Good,Power and performance,Very useful and powerful juicer,Best quality,WORLD CLASS JUCER MIXER GRINDER,Industrial grade,A better product,Good Juicer</td></tr><tr><td>Worth the money,It’s goog,Nice & Easy to use product,Not good,Wonder Product!,Good product,Right product at right price,Value for money</td></tr><tr><td>The Grill and Toaster is good,Ibell,Good product,Does what it claims.,Good product and valu for money spend,I thought Ibell sandwich maker is best brand and I can use use usually easy clean it now easy,Good Product,Good product</td></tr><tr><td>Very good performance,It's been more than a month and it's been working good till now,good quality,Good,Nice one,Excellent,Cable outer surface is oily based,Genuine and good cable👍</td></tr><tr><td>Good product in this range,Value for money,Nice,Nice one,Superb easy to use,Everything is great only issue is durability,Fabulous,The Cable is small</td></tr><tr><td>So far so good,Good,Good quality product,Fully satisfied.,Product Is Nice ,And Easy To Use,poor longevity,A good induction cook top,Good.</td></tr><tr><td>Overall Nice Product,Must buy product,Product is good to use.,Tasty and Healthy juice,Good,Good product,material,Just got it</td></tr><tr><td>Quality is worth the price!,Good for holding,Packaging was not good,good product,Good Product,Built quality of product is excellent,Best in quality & look,BEST</td></tr><tr><td>Nice product,Not as effective as claimed, just an average product..,Good Product,bribing people for 5 star rating,Most worst machine i have ever seen,Just wow</td></tr><tr><td>It doesn't heat up,Value fir money,Ok,satisfied,Nice pic,Best iron so far,look,Ironbox stopped working after 4 months  of purchase</td></tr><tr><td>Quite Good,good pencil,Value for money,Brilliant,Value for moeny product,Must to buy this pencil,Problemsolver,It works as advertised</td></tr><tr><td>Quite Good,good pencil,Value for money,Brilliant,Value for moeny product,Must to buy this pencil,Problemsolver,It works as advertised</td></tr><tr><td>Good Handy Bluetooth Speaker,Very Nice,Medium,Worth to the money,4.5,Good,Value for money,Value for money is good....</td></tr><tr><td>Good,Decent purchase,Awesome product,Worth,Does exactly what it meant to do !!!,Good product,Good,Worth buying</td></tr><tr><td>nice design.,Worth the buy,Pretty good,Nice product.,Jordaar,The product is an averagely good product,Good enough,Awesome</td></tr><tr><td>Good Product But Spped Upto 30mbps,Nice,Regarding Card,Excellent SDCARD,Good,Fake product,Good,working fine read/write speed is good</td></tr><tr><td>Helpful product for students,Nice Product,Very good to write and erased,quite bright but have an excessive thick pointer which makes screen to fill up quick,Good product, struggling with erase button,it takes pressure also,Value for money,Its validity</td></tr><tr><td>Must have product,silent but not fully.,Good product,great product,Best value for money,Sleek & Smooth,Good buy,Just buy it !!!</td></tr><tr><td>Fine🤘🏻🙏🏻,Good,Best for kids,Easy clean and use,Nice product,bahut accha,Really liked this product,Erase button not working 🤬</td></tr><tr><td>Comparisingly slim fan but speed and air delivery is good 👍,This is quality product at given price and reliable.,My favourite fan,Correction needed to the product description,Good product,Nice👍👏😊,It is too good in this range,Have clicking sound under slow speed and installation nut & bolts are not in appropriate size</td></tr><tr><td>A1,AWESOME PRODUCT,Room heater2900watt need separate power connection,Not upto the mark.,Probably the best build in this category.,A good heater with some additional amazing features which make it a best buy,Not as expected,Nice product</td></tr><tr><td>Good quality, plz add 1 syringe with this kit,Original product,Genuine product,very good product,nice,good product,Good product no issues,ಉತ್ತಮ</td></tr><tr><td>👍,Good product,nice product,Satisfied,Value of money,Good filter,Excellent product,Overall this is a good product.</td></tr><tr><td>Value to buy,Best quality,Nothing,It's Good,Perfect for making toasts,Great product.,Working fine as expected,Excellent</td></tr><tr><td>An affordable electric kettle with stylish look,Elegant looks, glass finish awesome, starts heating quickly,Great product,After three months it stopped working,Not a quality product and bogus customer service,Ok ok,Switch to Inalsa after Borosil,Fantastic kettle, makes life so easy and convenient.</td></tr><tr><td>Hope it will last long,Superb product,This is new version, with safety locks.,Original and Good,One of the Best you can expect,Sujata chutney jar,Quality,Original Product at reasonable price</td></tr><tr><td>I like this product,Simple easy to use, but not much power to quickly heat-up a room,JALI GETS HEATED BUT A GOOD PRODUCT FROM USHA.,Productnis good and recommeded,Good Product. Worth its price. Thanks,A bit costly otherwise better than the competition,Useful for very small room only and consumes lot of energy,Doesn't heat Even small room</td></tr><tr><td>Nice cover,Value for money product.,Good,Worthy,Snug fit 😃,Fits perfectly | Looks stylish | Lightweight,Nice flip case,Beautiful product received</td></tr><tr><td>the only ANDROID tablet that makes sense in the non-sense tab market of India.,An impressive tablet for Android (at last),All good but miner bugs just don't upgrade it to 13.0.6.. New update details given,good tablet</td></tr><tr><td>It is value for money,No problem,Nice,Quality,GOOD QUALITY,Nice product,Good,SATISFACTORY</td></tr><tr><td>New user,Worthy at this price,Good at dis price when comparing with other brands it is having two years of warranty,But there is no proper owners manuel ..which  brief the end there operation and cooking Time.,Ignore negative reviews,Best product with a reasonable price,The best quality air fryer you can get for this price,Think before you buy</td></tr><tr><td>Good product,Delivery at door step,Price is greater than printed price.,Original spare part,Original product,Sediment filter,Good,Authentic product</td></tr><tr><td>Go for it, but there can be issues!,Amazing mouse but not for gaming.,Comfortable, precise & liggt weight,in 1499/- just perfect,Nice,One of the best mouse you can buy at this price range,Good mouse with bad wire,It’s little big</td></tr><tr><td>Good... 😊,Nice pen but it has some problems.,A great buy,Good pen but finished really quick,It's ink gets finished after using it only for 2 or 3 times,Very nice pen,Best for neat homework.,It's help me earn my bread butter</td></tr><tr><td>A must have addition to the kitchen.,Easy to use,Superb,Fast and sharp blades...quick work,Good product,Quality of motor is good, just doubt on jar, it's not so much strong,Inalsa Bullet Chopper,Very handy and good chopper</td></tr><tr><td>Grand price good product,Good quality, but not the best,Very good product.,Easy assembly, Easy Installation, PLUG N PLAY.,Good case with less sturdy body,An awesome product!,Good Product, My doubt is with the sturdiness,Great product</td></tr><tr><td>पैसा वसूल,Nice,Not a good dilvery by bajaj,Almost gud product but takes time for getting hot water,Uuummhh,Good product,Overall average to good product.,Good</td></tr><tr><td>good,Overall good product but got stop inbetween there is some gap for long term use.,Perfect,Useful,Must buy,Overall nice product,Good product,Amazing product</td></tr><tr><td>Lightweight Dry Iron,Best Iron on cheap rate,Simple and good,Good Product in this price range. However, I recevied a bit damaged product at the handle.,Good,Amazing product,Hot11,Not happy with performance</td></tr><tr><td>It is very good,Good product,Just go for it,Good product,Value For Money.,Good product easy to use,Pressure is very good but mtr shows 115bar,Nice Product.</td></tr><tr><td>Value for money.,Value for money,Price could be lesser,Ideal for new MacBooks,Average and overpriced,Meet the expectations,So I got the product on 11th August 2022. This is the initial impression of the product.,Ok ok product</td></tr><tr><td>Bigger size,Superb.,Vacuum Bag,Price is reasonable and not available locally,Works perfect,Genuine Eureka Forbes,nice,Very good</td></tr><tr><td>Cute design,worth buying.,Not good for bathing bucket,I bought it recently. Only using it for 3 days . Its okay till now, heating properly.. Good product.,More useful for kitchen use,Good one,Good product,Nice product easy to install and easy to operate</td></tr><tr><td>Sound is pretty annoying,Best Normal Water Purifier,Good product,Good,Good,Perfect product for a small family..,It’s a nice mid budget by product.,Great product truely satisfied</td></tr><tr><td>Not sturdy enough but good.,Product looks good for the price,Good One,Good quality in this range....,Budget buy,Good,2 problems i noticed,Incorrect steps order</td></tr><tr><td>As this was my 2nd order for same product.2nd time jo product aaya uski packing bahut hi kharab thi.,Looks cool and variety of colors.,Good product,very colourfull,Budget friendly,Good one,The are easy to use and are comfortable,Good buy during sale</td></tr><tr><td>product good but service bad unexpected,Its good,Very nice product,Efficient Product,Nice,Very good and useful product as expected before buy.,Handle length is too good you can use whole dram,Very fast heating</td></tr><tr><td>Gud product and gud service,Good product in this range.,Useful,Good,Water taste is good and installation also done on prioritu basis worth for your money,Very good purifier in this range,Satisfactory performance,Installation charges extra</td></tr><tr><td>Good,Decent,Ok,Good product,Nice,Good product,Not good as per price,small & elegant hand mixer</td></tr><tr><td>BEST VALUE,Good product,Good,Good,Very good product by Kingston. But size of pen drive may reduce.,Nice product with 5 years warranty in 250 rupees,Good product,Not up to the it's Specs</td></tr><tr><td>I would have given it 5 stars.. but..,Quality product,Good product,Good,Good capacity but looks a bit cheap,Medium size,Affordable,Basket is good, problem is with the lid.</td></tr><tr><td>Ok ok,Good one. Worth puechase,Average,Nice Product,Good product,Working perfectly, cord is small,Good,Has Thin plastic lid, which is not easy to clean</td></tr><tr><td>Average pendrive with mobile connectivity,2 in 1 type c and usb,Worth for money,Fine purchase,Great to store memories and notes,Nice,Value for Money.,Very good product</td></tr><tr><td>Worth the money..,Good product,This is Good,Super product,Good product,Average product but value for money,For daily use,Heat temprature very slow</td></tr><tr><td>Good  product,Ok. To. Use and good for this offered price 485rs,All over Quolity is Good.,Nice job,Nice,Its good but iron is not otuo disconnect.,Good product,Why package is very poor</td></tr><tr><td>Excellent coffee maker,Sturdy quality product!,Good product,Just go for it!,Mokapot's upward filteration is messy,i felt its more of a joy to prepare concoction in this espresso maker,Good product,Espresso quality</td></tr><tr><td>Does not fit the Duracell label,Very appropriate & long lasting cells,Uh should buy,Ok,Value for money,Great battery,Badhiya,Nice 👍</td></tr><tr><td>Nice product,Removes the lightest of lint,Very good,Product is good but price is high,very very god product,Super,Good...,Amazing product</td></tr><tr><td>Best mixer,Best value for money,सबसे जरूरी बात ये है के इसमे सब पिस्ता है चाहे पत्थर भी दाल दो।😂। https://youtu.be/WBPca3j306k,Noice is high compared to others,Five star product,BEST MIXI,Best in the market best in segment,Good but not best</td></tr><tr><td>iT'S VERY HEAVY,NICE PRESSURE & WORTH SPENDING:-),Recommend product for personal use.,Attractive product.,High noise and machine heating to high,Only Bucket filter  are missing..Please  send me the bucket filter only immediately.,Good Multipurpose Product.,Good product best in 5k segment ..</td></tr><tr><td>Good product for this price...go for it,Nice,Very nice,Value for money,Electry consumption is high,Value for Money,Awesome.  Value for money , Writing after a week's use,Activa chalao thand bhagao</td></tr><tr><td>Sound and Bass,It's very nice,Good quality earphones,Best 👍,Super,Good,Good quality at that price,Sounds good and looks good</td></tr><tr><td>Good product,Very Useful in winter,Good product,Good product must buy.,Best for kitchen,Apperance,Best product😚,Good working</td></tr><tr><td>Very good mouse Under 500,pretty good gaming mouse,very good in this budget,Really comfortable,good mouse just plug and play,Good enough,Best budget gaming mouse,Too big too hold, but you will get around it.</td></tr><tr><td>very nice design and long lasting,Good mouse,Long time user. This mouse is built like a tank,GAMING MASTERPIECE? *REVIEW AFTER 1 WEEK*,Amazing mouse, bad cable,Too Heavy for anything,Best gaming mouse on a budget,Amazing Mouse</td></tr><tr><td>good,Nice product,Worth for money,Good product,Very good,Does what is needed to do,Good product,Nice kettle in 699 rs</td></tr><tr><td>Steam irom,Good,Value for money,Amazing product😁😁,Very nice product.,Good product,Good product,It comes with 16Amps Plug</td></tr><tr><td>Value For Money But....,Compact and Budget friendly,Average,Nice product,Premium build but hoped it had more USB3.0,Decent product,Very useful for Mac users,Works fine with Macbook air M2</td></tr><tr><td>This is not suitable for 5.6 laptop,Laptop Stand,Very useful and worth product to buy,Nice good quality for laptop use upto 10-14 kg,Very good product at a reasonable price.,I believe that this will help my work better ergonomically.,Good and Comfortable stand,Satisfy</td></tr><tr><td>it s very nice and easy to use,Good quality...go and purchase,Good,Good quality,Good product 👍,Good,Value for money @600₹,Good</td></tr><tr><td>Good keyboard with some cons,Wrist pain,Worth buying....!,Acceptable,Value for money,The silver coating came off after 3days of using,Awesome keyboard,Budget friendly keyboard with 3years of warranty.</td></tr><tr><td>Nice product,Product not Quality donot buy,Wonderful product,Power Indicator is Missing,Excellent product,Value for money product,rod water heater,पानी गर्म होने में 15 मिनट से ज्यादा टाइम लेता हैं</td></tr><tr><td>Good for office and watching movie,Product review,It's worthy to buy,It's fine,nice item,Overall Good,Best for Beginners,Small size but still sturdy strong . Useful for bigeners.</td></tr><tr><td>WD not interrupt,good,Lightening fast,Package was good yet working fine. Need to check some more time,SDD for laptop,SSD + WD + attractive price,best product ,I personally recommend use best product.,Affordable price</td></tr><tr><td>They will charge you an additional ₹300/- for installation.,Good,yes,Er hardik trivedi,Noise problem due to magnets inside,Good,Easy to install like normal one,Ok 👍👍👍 ok</td></tr><tr><td>Fan is making sound. Whom do i contact.,Speed,Good quality,nice product,Fan wise excellent but little pricey,When it comes to electric appliances Havells never disappoints.,Not satisfied because the product has got dents,Good performance</td></tr><tr><td>Very good product..quality is good,A good product with superb buid quality,Not happy,Good,Good,Noisy but good,Remote control spoils the fan operation,Good performance</td></tr><tr><td>Good product,Best gel pens,👍👍👍,Decent,Feels cheated,Nice product,Good,Only 20 pens</td></tr><tr><td>Very easy to chop veggies in a very short time,Super clean chopper,Nice product,Mom lives it!,“ LOSING A BATTLE”. Because of  a shoe nail.,Very good chopper,Wow what a beautiful product for cutting onions n other veggies . Why did i delay for so long,I like it</td></tr><tr><td>Used almost for a month,User friendly product  worth the money.  The product working fast.,Very happy with cookwell services,Worth,Very good product...,Good product,Good Customer Service,Good one easy to use</td></tr><tr><td>Product is as expected,Cable has problem with samsung galaxy s8 ultra tablet,Quality and service is good.,It's perfect, definitely what i needed,Worth buying this cable,Just awesome 👌,fast charge, sturdy build quality, absolute value for money product, 2yrs warranty, just go for it,Good</td></tr><tr><td>Product is as expected,Cable has problem with samsung galaxy s8 ultra tablet,Quality and service is good.,It's perfect, definitely what i needed,Worth buying this cable,Just awesome 👌,fast charge, sturdy build quality, absolute value for money product, 2yrs warranty, just go for it,Good</td></tr><tr><td>Far better then expected,Dual Connectivity Not Present,Good One,good,Good product this price,Nice sound,best for bass,good</td></tr><tr><td>Loved it,Good product,Good product,It's easy to use.,Fine product,Awesome Product,Nice product & user friendly,Correct size and easy to use.</td></tr><tr><td>It's good,Happy to purchase,Product is really good.,It was excellent,Very Good Product,Heater,The final finish product is not  elegant.</td></tr><tr><td>Very good product,Good product.,Good quality,Excellent,Good quality,Good,fine,Lovely</td></tr><tr><td>Needs accessories,Gets water hot in under 10 mins,Slightly disappointed,Useful,Value for your money,Havells water heater is an excellent product.,v.nice,This product is very good and easy to use</td></tr><tr><td>Good product worth of money,It’s okay,Not so superb,Philips Always THE BEST,Heavy weight iron,Very good,Super nice,Good One iron. Value for money and best one to used it</td></tr><tr><td>Heats up,I just bought this product and my review based on my previous purchases are my in laws home,Easy to use,Nicee,Good product,Nice product..,Very Easy to use,Powerful Blender with 3in1 attachments</td></tr><tr><td>Very nice,Efficient but little costly.,Good product but disappointing after sales service,After 30 days review ⭐⭐⭐⭐⭐,Good Product, Expensive Installation,Good,Adequately quiet, cooling is good, features are more than sufficient.,Nice and quick cooling .</td></tr><tr><td>Easy to Use,Good at this price. Looks premium,Worth for price,Seems to be good,Easy to clean & i like its cool surface.,Good kettle at a Reasonable price,Good quality,Best Thing for Bachelora</td></tr><tr><td>Decent quality product for the price,Nice product,Sturdy,Nice companion,Need for those who has neck pain working on Laptops,Laptop stand,Good quality,Good product</td></tr><tr><td>Good enough for now.. Could be better..,Amzon better then Flipcart & Others,Compact and Reliable 2TB External HDD: A Must-Have for Storing and Backing Up Your Data,💝👍One of the best available mechanical external hard disks,Nice,Woth Money,Good product,Heating problem</td></tr><tr><td>Very good,WORTH TO BUY.,Writes neat but smells bad,Like ok ok,Nice,👍,Amajin!,One pen is missing. Silver colour pen is missing</td></tr><tr><td>Quality is too good,My laptop feels protected 🤣,Quality is Good but should cheaper as per matirial,Nice color and material, confirm the fit you want,Good product,AWESOME PRODUCT AT 2H,Warning - This sleeve is NOT WATERPROOF!!,Good choice under 400</td></tr><tr><td>Easy water boiling,Its fine... to use and easy to implement.,It's a good product.,improvement required,Good utility,Must Buy Product,Good product,It's just wow product, i used for a day and then i order for one more for my child hostel. L</td></tr><tr><td>Bht hi achi hai aur usefull b..thanx amazon....mgr aap delivery charges khatam karen, plzzzzzzp.,Good quality products,Good quality product,Go for it,Extremely useful and great quality!,Good 👍,It is what is told quality is also very good,Value for money</td></tr><tr><td>Best mixer juicer,Nice,Best product in this price,Good Product, can buy it.,Very easy to handle and very sturdy mixer,Realy great product... Noone providing such heavy motor.,Good product,Value for Money</td></tr><tr><td>Absolutely worth the price,Best product on low value, definitely gofor this,Works the way it says,Economical. Very light. Quite sleak. No good robust packing.,Good one!,The Best,As expected quality from a company like crucial. 4.5 Star Rating,Best in class ssd</td></tr><tr><td>Excellent CCTV WiFi Camera made in India,Great Camera for keeping an eye on pets...,Working Perfectly,Great product,Decent indoor camera!!,It is a good product in all,Face detection is not so good,Great product</td></tr><tr><td>Heats up after less time of usage.,Its is fine,Excellent product,You can go for it.,Worth of money n stylish look,Good,HIGH SPEED VERY GOOD WORKING,Nice product</td></tr><tr><td>Good but the scroll is now damaged,Nice,Noiseless...,It's a good one,Good.,Satisfied,Simply Superb !,Scroll wheel stopped working in 3 months</td></tr><tr><td>Dual Bandwidth,It's good,Simple and effective,Easy plug and play,Only 200mbps support,Great Device for Old Laptops,Good device but be careful for a defective one.,Excellent Speeds and Coverage!</td></tr><tr><td>Dual Bandwidth,It's good,Simple and effective,Easy plug and play,Only 200mbps support,Great Device for Old Laptops,Good device but be careful for a defective one.,Excellent Speeds and Coverage!</td></tr><tr><td>Good silent mouse,Too small to hold!,Reviewing after 8 months of with battery backup review,Its very small  do take note of that,** Nice product,Good product,Good Buy for normal use in office,Stylish mouse</td></tr><tr><td>Good rechargeable battery,Seems to be good,Nice,Build quality,Good,Met expectations,Good,Good charger</td></tr><tr><td>Very good product.,Using as a spare cable in car,Sturdy, Durable, Fast Charging!,Good brand,It’s like original apple cable,One of the best wire ..,Super well build. Quality product worth the money,Good product</td></tr><tr><td>Very good product.,Using as a spare cable in car,Sturdy, Durable, Fast Charging!,Good brand,It’s like original apple cable,One of the best wire ..,Super well build. Quality product worth the money,Good product</td></tr><tr><td>Very good product.,Using as a spare cable in car,Sturdy, Durable, Fast Charging!,Good brand,It’s like original apple cable,One of the best wire ..,Super well build. Quality product worth the money,Good product</td></tr><tr><td>Value for money Product,Watch start button,VALUE FOR MONEY,Budget smartwatch,Watch is good,Good watch.Lekin jab recive Kia,watch on tha.Alarm pm me set nhi hota hai,Only am me hota he,Good watch,Amazing watch amazing colour! Just bought yesterday, will share feedback again after the usage.</td></tr><tr><td>Perfect For HP Laptop,Okay,Good,Worst Product by Seller,Above average,Product achha laga,Working fine,Worth the Price - Front Panel cover not included as shown in product description</td></tr><tr><td>Best in its price range,Best suction power,Domestic Beast,Very good suction power and efficient,Beast of a Vaccum Cleaner 🔥💯,Good built quality,Nice product with good suction power,Great Product</td></tr><tr><td>Sleek case,Perfect fit for iPad,Waluable product,Good quality,Go for it!,Its definitely worth it,Am glad I bought this.,Quality is good</td></tr><tr><td>sometimes writes are little slow, otherwise fine,great product,Worth 100%,The only thing I was being deprived of was it's color.Instead of blue,I got a grey one.,Good product,Good product,Not with password and mailio softwares  this product not work properly,In the what u expect go for it ....</td></tr><tr><td>Good product,I haven't received my warranty bill inside,Whisking attachment not received,Awesome,Great Product! Go for it!!!,Nice,Good product .,Must have for every kitchen</td></tr><tr><td>Good product,Excellent product,Good pruduct as of now.. 👍,Best product,Happy with the product,Compact product,Must buy item.,Havell’s Instant Geyser</td></tr><tr><td>If you’re a home baker, just go for it without doubt,Excellent👍,Nice product,Useful,Bhari,Too good,Good for cake,Useful</td></tr><tr><td>It worked well for some days later it is not working , I want it to replace.,Extremely fine,Superb product,This is very decent, quality is super good!,Good,Awesome Product Quantity & Value For Money,Go for it..,Be(a)st in the market.</td></tr><tr><td>It worked well for some days later it is not working , I want it to replace.,Extremely fine,Superb product,This is very decent, quality is super good!,Good,Awesome Product Quantity & Value For Money,Go for it..,Be(a)st in the market.</td></tr><tr><td>It is Okay.,Amazing product and fast shipping,Sturdy,Good, its Useful.,most useful products for every kitchen,value for money,Good Quality Product,Good clips</td></tr><tr><td>Product is always good ,but service is not properly packaging also dammage box . focus on service,Easy to clean,V good,Good product,I love product Usha,Best,Good for bachelors,Good 👍</td></tr><tr><td>Over all good,Good product, but power switch,Good product,Quality product by Borosil!,Awesome 👌,Easy to use,Excellent,Its a very user friendly product.</td></tr><tr><td>Okay product in picture,Good for students,Nice product,Portability,Great product at this price,Just working,Nice,Good</td></tr><tr><td>Nice but few Cons (*that you must read*),Smooth,Nice,Somewhat good.,Its ok,Very nice pen,Nice product,Best parker pen with very cool design</td></tr><tr><td>Good,Good product,Heating is less,Good and quality product.,Excellent product,Very good,Easy to use, better in performance,Superb Project 🥰</td></tr><tr><td>Weight without the wait,Good,Good Product,Nice cute scale,Best weight machine,Must have for every kitchen,Value for money,Digital Luggage Scale with Target Value Setting</td></tr><tr><td>Value for money,Nice product,Good,Product is dirty,Very usefull but small size.,Attractive!!,Best product,Superb comfort</td></tr><tr><td>Value for money,Nice product, comfortable to use.,nice one,Good product with some areas of improvement.,Good and easy to use.,Best Vaccum cleaner in this range,Best vacuum cleaner for house hold use,Nice</td></tr><tr><td>No entanglement,Iron with freedom,Good Iron,Steam iron!,It’s wireless,Good,Wonderful,Light weight and very adjustable to ur family needs</td></tr><tr><td>Meets expectation,Good product,High quality product,Worth the spend!,Great product,A decent filter coffee maker.,Good product for an average user.,High quality</td></tr><tr><td>Could be better.,Nice for office use,Good,Nice but little small,Nice mouse for office work not for gaming.,Good,Performance i good...,sleek n smooth</td></tr><tr><td>Average,Value for money product,Nice product,very nice product... screen should be little bit more bright,Product looks Good,Nice product, easy to use and perfect delivery,Overall nice,Good</td></tr><tr><td>Great keyboard, average mouse.,Good for daily use,Mouse is too small in size to use and getting pain,Must buy this for normal use,Noisy and not Ergonomic,Great Product,Well suited for ordinary and official usage.,Nice Product</td></tr><tr><td>Good heater, and delivery and installation was easy,Good but comes without Plug,Nice,Bestbest,Good,Good product,Ok,Good</td></tr><tr><td>Good product,Working fine,Best hand blender,Good product,Nice product,Good Product,Nice gadget for simple use.,Defected product recieved have put it on replacement</td></tr><tr><td>Absolutely loving it!,Excellent product,Very nice,Compact way to make coffee,Good one for a Black coffee lover,Excellent purchase,Great Product!,Perfect French Press! I have got two of em!</td></tr><tr><td>Received used product requested replacement,Good product,Tiny bomb,Very nice,works well, but its a really small tank,Very good,Value for more,Instantly</td></tr><tr><td>Works flawlessly on Ubuntu 22.04 (if installed correctly),Best for kali. Do not read another review.,Nice product,From 0 to 70 …,Good External Wifi Signal Provider,Superb,Awesome and easy to use,Good product</td></tr><tr><td>Works flawlessly on Ubuntu 22.04 (if installed correctly),Best for kali. Do not read another review.,Nice product,From 0 to 70 …,Good External Wifi Signal Provider,Superb,Awesome and easy to use,Good product</td></tr><tr><td>Works flawlessly on Ubuntu 22.04 (if installed correctly),Best for kali. Do not read another review.,Nice product,From 0 to 70 …,Good External Wifi Signal Provider,Superb,Awesome and easy to use,Good product</td></tr><tr><td>Nice product .,Good quality Braided cable, VFM,Good cord, but has Earthing issue,Ok,Good product. Little bit fast charger for phones like redmi.,Fast charging is working properly,Money value product 👌,Cable a Nice product</td></tr><tr><td>Nice product .,Good quality Braided cable, VFM,Good cord, but has Earthing issue,Ok,Good product. Little bit fast charger for phones like redmi.,Fast charging is working properly,Money value product 👌,Cable a Nice product</td></tr><tr><td>Nice product .,Good quality Braided cable, VFM,Good cord, but has Earthing issue,Ok,Good product. Little bit fast charger for phones like redmi.,Fast charging is working properly,Money value product 👌,Cable a Nice product</td></tr><tr><td>Tools,Good product,Small yet powerful,Pretty good for the price,Good quality,More than price worthy,MUST BUY IT,Great product!</td></tr><tr><td>Good product  but has a misleading information about warranty,Value for money,4.5 ⭐ Small and Sturdy blender and versatile,Perfect for every kitchen,Awesome Product,Nice Product,Very nice blender,Worst product and service</td></tr><tr><td>Very good,Worth the Buy,Good,manufacturing date is old,Great,Good, but not Great,Genuine product,Cr2025</td></tr><tr><td>Overall Watch Review,Descent  looking, perfect working smart watch,There is a bit of snag in wake up mode,Battery is not good only one day it will come,Beginner friendly apple clone watch,elegant look,You can go for it!!,Nice product but the touchscreen and app could have been better</td></tr><tr><td>The Best Purchase,Very useful product,Good products,Very handy to remove lint,Good product,Good product,Good,It's worth it.</td></tr><tr><td>Product is good but the installation provider team is pathetic,Mediocre performance with pathetic installation experience,Satisfaction,No invoice inside the cartoon for warranty claim,Ok,Happy  😊 😃,Good product,Good ... But some problems in installing</td></tr><tr><td>Livpure water filter reviews,Good product,overall good product, works great,Livepure Water purifier,Excellent.,Amazing product,Superb performance,Very good</td></tr><tr><td>Useful item,OVERALL NOT VERY BAD,Good quality,For the price ok.,GOOD PRODUCT,Review,Good quality,Short cord and narrow mouth.</td></tr><tr><td>Cute n handy product for small family ☺️,Good for small items,Easy to work with,Good product.....,Very good product,Compact for travel,very good,Ok</td></tr><tr><td>It's a good product but it could have been better,OK ok,nice choice,Imou Ranger 2 WFi Camera,Very good,Two side communications are appreciated. Mobile app quite complicated to understand and control cam,Ordered grey , received white colour camera,Nice</td></tr><tr><td>Nice Product,Three options (toaster/grill/waffle maker) are  neatly packed into this readily usable device.,Product arrived in under 24 hrs...yet to test it,Good Quality,Very nice,Don't know why I waited so long to get this!,Value for money,Good quality, could have been somewhat lower in price</td></tr><tr><td>Cute one,Received today and installed.Observing performance.,Provides 1-30 to 2 hours backup,Perfect modem and router UPS,Nice product with some drawbacks,Shandaar Jabardast Zindaabad,As expected,Excellent product for apartments with DG backup.</td></tr><tr><td>good tool to use for,Brand is always good,Overall good and a better experience,It is useful to me.,Works well with cpplus dvr,Good,Its not plug an play u need to install the driver and will support till 2.4 Ghz not above that,Surveillance Camera In My House</td></tr><tr><td>good tool to use for,Brand is always good,Overall good and a better experience,It is useful to me.,Works well with cpplus dvr,Good,Its not plug an play u need to install the driver and will support till 2.4 Ghz not above that,Surveillance Camera In My House</td></tr><tr><td>Nice iron . Heating earlist,Value for money,Nice product,सुपर,Good,Superb,Excellent product by Havells,Good</td></tr><tr><td>Nani's choice is still valid,Good,Value for money,Amazing,It looks great and Awesome.,Best product,Awesome 👌,Good working</td></tr><tr><td>Good for cooling,Not good for gaming,quality n performance,Good product,Nice performance,ABOVE AVERAGE,Good at this price (999),Works fine</td></tr><tr><td>Budget friendly watch,Good product at this price range,Ok,Satisfied,Watch ⌚️ Review,Nice,Display touch was good but screen bazales is too much,Nice watch under 2000</td></tr><tr><td>Budget friendly watch,Good product at this price range,Ok,Satisfied,Watch ⌚️ Review,Nice,Display touch was good but screen bazales is too much,Nice watch under 2000</td></tr><tr><td>worth buying this mouse!,Good,Traditional mouse that does the job,nice,GOOD PRODUCT AND GOOD QUALITY,Worth the price money and amazing built quality,Compact mouse,super comfortable</td></tr><tr><td>not perfect,Impressed,1 Major Problem,Good one.,Value for money product for short power cutoffs,Good products,Review,Great choice if you want a wi-fi UPS with good battery backup</td></tr><tr><td>Only for grill sandwich use cord length is too shorthort,Decent product, has some old flaws,Good 👍,Every home should have this,Weak body material,but overall good product,Good one with a small issue.,Trusted brand,Nice product but cord length had to be replaced..very short</td></tr><tr><td>Easy To Carry,Nice product,Handy and easy to use,Best,Very easy to make waffle. Best product from Amazon,easy to make,Disappointed,Very gud n very easy make waffers I love it this produt</td></tr><tr><td>Worth money,Average,Morden geyser , very nice, value for money,Value for money,Voltage issue after geyser installation,Model looks nice but charged for connection pipes.,Very good Geyser. Worth every penny.,Quick service</td></tr><tr><td>Received defective item update: better now,Good product,Good connectivity,Good 👍,Go 4 it.....,Easy to Install,Nice product.,Works good</td></tr><tr><td>Loved it.,Not smudge proof,Nice,Good purchase.,Good screen protector for MI 5 Tab.,glass,Ok for its price but the fitting is just perfect,Poor product and poor resolution to complaint</td></tr><tr><td>Good suction power, enough for most cleaning,Worth for the price given,Okayish,Budget vacuum cleaner.,Very nice product worth it 😄,Best vacuum cleaner,It's a really good worthy product,Simply superb</td></tr><tr><td>Good one,, bright!,Great product altogether,Good but there are better options,Good monitor but bad build quality with some dumb design choices,Very nice👌👌👌👌👌,Overall good. Value for money,Good,Perfect monitor for editing and casual gaming</td></tr><tr><td>Good Product,Nice product,Good product,Good,I made my sweaters look like brand new.,Nice product,Perfect to clean lints easily,Good Product</td></tr><tr><td>Good,Best Quality product you should go for,Prince Mondal,Very good product,Good quality!,Very dark,It's dark!,Received Black quink in bottle without plastic cover at bottle neck</td></tr><tr><td>It is nice ..and user-friendly,Really great product,Nice and easy to use,Good for light usage,Overall a valuable product in this range.,Good,Nice product,Nice product</td></tr><tr><td>Iphone User,Overall good,Perfect price, perfect fit,Good,Worth,Perfect replacement for Apple cable,At this price it's a steal.,Good cable with decent price</td></tr><tr><td>Iphone User,Overall good,Perfect price, perfect fit,Good,Worth,Perfect replacement for Apple cable,At this price it's a steal.,Good cable with decent price</td></tr><tr><td>Definitely good but wire is too short,Never expected an easy on pocket brand like BoAt winning heart the way apple does! Good product,Good headfone on budget,Nice,Quality is promised.,simply awesome,Value for money,Sound and mic quality good but not comfortable</td></tr><tr><td>Overall good performance,No things,Nice product,Good deal with Bajaj . It compact & less area coverage.,GOOD,Fast delivery,Not working,Quality product at affordable price</td></tr><tr><td>Good,Adequate and efficient are the most apt words.,Good product,Single rice bowl,Good,Gift of god,Nice,Looks elegant</td></tr><tr><td>Good product,Worth of cast and useful of batchelors,This product quality is very good,i like this product,Value for Money,Verry use ful,Good product and easy to use,Looks nice,Excellent product</td></tr><tr><td>Good performance,Good backup,Good,Slightly larger than ordinary AA,Good product,Good product,Less durable,2 Year Old Product Delivered..</td></tr><tr><td>Not for people who prefer taste over health.,Good product use easy,Not for big families,Good Purchase,Definitely a buy,ONE OF THE BEST BUY EVER....,Cooking awesome...,Sleek and elegant.</td></tr><tr><td>It's very nice,Got the correct one, asked,Good product,Very good item,Awesome,Good,ok,Delivered on time</td></tr><tr><td>Happy that I chose this,Good product,Easy usage,Go for it!,After a lot of research I found this one a very gud nd useful.,Higher sound level,Good to use. Using for the past 6 months. I run a home bakery. Quality is good.,Excellent</td></tr><tr><td>Good quality,Bindaas watch,Good,Must buy,The LCD display is much better than shown in images or videos,Love to Noise Brand,Good product battery backup good,Nice one</td></tr><tr><td>Good water heater,Good quality,Good products,Good,Good,Good product,Good product,Brand value</td></tr><tr><td>Good product, removes lint efficiently.,Good product. Does job well.,A recommended product,Easy to use,Good product,The Product Is Very Useful Thanks To Agaro,Good lint remover,Nice product</td></tr><tr><td>Useful on winter / cold deasons,Socket required,nice,GOOD QUALITY,Handy,Handy and easy  to use,Liked it,Good</td></tr><tr><td>Superb,Quite efficient,Go for it,Very nice,Noisy but works good.,Powerful grinding,Satisfied for the time being.,Solid purchase</td></tr><tr><td>Good machine,Machine is very easy to use after watching the tutorial video,Good product but.....,Costly product only,Superb quality and handling,Usha janom super sewing machine,Worth to buy this,Didn't get warranty card and fabric is not moving</td></tr><tr><td>Rusty Steel beater,Product delivered in good condition but a little late than expected delivery date ..,Good product,It's good if used properly.,Nice....,Worth it Buy,gud one,KENT 16051 Hand Blender 300 W</td></tr><tr><td>Very responsive and stylish mouse,Simply Awesome,Satisfactory but OTG not working,Satisfied with this wireless mouse,Overall performance is good.,Overall very happy with the product,Strong build with silent click,Excellent mouse for the price</td></tr><tr><td>Price wise the best in Category,Laptop is not sitting properly on the stand.,Product Quality,A good product.,Awesome product,Not that good for heavy 17 inches laptops,Good product can be better,Value for money and compact</td></tr><tr><td>Good choice,No noise and all clean air. Very effective and the family noticed an improvement right away,Good product and easy to install,Go for it!!,Happy to use,How can I contact the manufacturer,Good,Excellent product</td></tr><tr><td>Okay to use,Good value for a well finished product - recommended,Do not buy this product,Better than expected.,Best carafe from amazon,Build quality is not that great,Replacement parts not available or sold for twice as much as the value of the entire product,Good product</td></tr><tr><td>Good quality fan,Good one...,Fraud,No remote control,Value for money,Easy to assemble,no remote control but I think worth for money(bcz low budget pedestal fan,Good,Nice fan</td></tr><tr><td>Nice,good,Paisa vassol,Sturdy and long.,Good for the price and great quality.,Works as expected,Good,Good</td></tr><tr><td>Nice,good,Paisa vassol,Sturdy and long.,Good for the price and great quality.,Works as expected,Good,Good</td></tr><tr><td>Nice,good,Paisa vassol,Sturdy and long.,Good for the price and great quality.,Works as expected,Good,Good</td></tr><tr><td>How to choose an iron ? This one-A decent combo of features & price.Cable quality not good though.,Quality Iron for power users with effective spray & steam function | Review | Guide | Tips,Doesn’t remove hard wrinkles.,Easyto use but it leaks water,Very easy to use,Good product,Quick warm up,Not good</td></tr><tr><td>no,Good and reliable product 👍,Overall very fine Quality,Useful product helped my family a lot in winter,Operating switch is too hard for aged person,Sabse badhiya,Good product,Good product at this price</td></tr><tr><td>Value for money,Very good.,Overall good but very fragile! KEYS STOPPED WORKING AFTER 3 MONTHS,Got what I wanted,good,Recommended I used wired version,slightly overpriced but worth it.,Product</td></tr><tr><td>Value for money,Ink,Great,Best in the Market,Value for money,It's Awesome,Very good ink as expected 😊,Very good product</td></tr><tr><td>It costs Rs 500 in local electric shop,Good product 👌,It's really a good product, required a better holding to pull it back from socket,Nice and excellent quality,Easy use,Nice product,Nice Product,Plug size</td></tr><tr><td>Nice product very easy clean,Don't buy it,nice,Multipurpose | little hard to clean,Absolutely perfect product,Must have product at home,Not good for any other use than boiler,Defective Model received - No refund, Only replace</td></tr><tr><td>Oratech Best Coffee Frother,Great,My review about Oratech Coffee Frother for milk,Good product,Easy to use 👍,Good product,best product,Easy to use</td></tr><tr><td>Good enough,Nice Choice,Best price and best quality. Just go for it.,Value for money,Steel is good.,Good,Worthy product,Good</td></tr><tr><td>Stone 180 is good as a portable speaker.,Good but not that much ok sound,Nice,Battery life,Poor battery life,Not have loud sound,Value for money...,Average</td></tr><tr><td>Wrong battery,It's working,Good,Ordinary product,Good,Poor packing not expected from a reputed brand like HUL😣😣😣,Water purifier,upset with product not good</td></tr><tr><td>Not to the mark.,Ok.,Good Product,Good but lack some features,Best quility,Nice,Good for money,Just as expected.</td></tr><tr><td>Serves unlimited hot water instantly,Very good,Go for it,Instant heating,Just go for it.,Best for instant heat water,Amazing products,Instant got water, quite literally</td></tr><tr><td>Bottom Lid should have provided,Good product... Compact.... Battery has less strength....,Easy to use, to carry and quality 👌,Good for smoothies..,Nice one,Worth it for a person living in PG.,Good,Ok for the Price. Not something perfect</td></tr><tr><td>Working with some issues,Digital display faulty,Best in budget,Quick heating and good digital temperature display,Installation and Inlet Outlet Fees are 350+250,Good,Good performance,Geyser looks compact and easy to access</td></tr><tr><td>Very good,It does what it's supposed to do,Affordable,Not a original pakage,Good,Less speed,No issues,Not too much good</td></tr><tr><td>Good product,Metal but still the hinges can be made little stronger,Need to have slot to keep the stand more steady,Decent product,Good product,Just fine.,Nice,Costly but as per product description. You might get very cheaper in local market</td></tr><tr><td>Nice Gyser,Good child I am say,Great product in this budget,Good product,Good,Amazing Machine highly recommend,Good product,Working Great</td></tr><tr><td>Good product,Good quality,Good,Great mouse pad,Good worth the money.,Works flawlessly for many years,Nice mouse pad,Quality</td></tr><tr><td>Good product but costly,It’s really long n sturdy no homo 🔥,Takes longer to charge than the regular cable,Quality is really good,iPhone X pink charging cable long one ☝️,A good purchase,It charges fine for me,Absolutely fantastic USB👍👍👍</td></tr><tr><td>Good product but costly,It’s really long n sturdy no homo 🔥,Takes longer to charge than the regular cable,Quality is really good,iPhone X pink charging cable long one ☝️,A good purchase,It charges fine for me,Absolutely fantastic USB👍👍👍</td></tr><tr><td>Good product but costly,It’s really long n sturdy no homo 🔥,Takes longer to charge than the regular cable,Quality is really good,iPhone X pink charging cable long one ☝️,A good purchase,It charges fine for me,Absolutely fantastic USB👍👍👍</td></tr><tr><td>Good for my work,Worth it,Hard disc is not detecting,Good hdd with a 1.5 tb storage.....really cool and fast,Faster data transfer,Nice,Reasonable price,Sleek design</td></tr><tr><td>Average,I like the 'Pentonic' pens,which is why I had made the purchase.,Useful,Liked it,Nice,Penatoni pen is good work,worth it,Useful</td></tr><tr><td>Useful Product,Good product,Good,Most cutest color travel iron,Good quality product.,Great quality garment steamer,Superb,Superb supportive good for garment!</td></tr><tr><td>Nice,Perfect. Reliable. Standard size. Good suction for 10*10 bathroom,Good but got costly at 1600,Good exhaust for bathroom,Good product,Request to Return/Exchange,Easy to use,No bad</td></tr><tr><td>Sleek and battery efficient!,It's made for ergonomic and lighter use and a silent one.,Good one.,Great product,Cute, but colour mismatcg,Best for Daily use,Good product,This Pebble mouse is just mesmerising to use</td></tr><tr><td>minimum order quantity should be done away,Worthy,You can buy,300 pages = 150 sheets,Nothing,Awesome product,Nice product,It is a very nice notebook and worth buying and a very unique size(A5)</td></tr><tr><td>It is a dependable mixer one can buy without any hesitation,Good kitchen addition,It does not have light indicater,Nil,Noise is too much,Nice deal.,Nice product,😒</td></tr><tr><td>Great,Don't but space pencil,Ok,Best pencil,Nice pencil,It is ok,MRP on the box is 95,Best in its class!</td></tr><tr><td>Works perfect,Ok good product,Nice Product. Recommend it. But cleaning its exterior is cumbersome.,Excellent product✌,A good product for household use,मुझे बिल्कुल भी मजा नहीं आया और वापस कर दिया।,Best product,Good</td></tr><tr><td>Gud for the price, but adhesion quality is not very good,Nothing unique……,Attracts too much finger impressions,Perfect Fit (Almost),Easy to install,They provide tissues and wipes,Work well and easy to install,Gud product in budget</td></tr><tr><td>I like to draw on it,Best  writing pad,Great for Noting or Doodling,Good to go,The pen is too flowy and the strokes are coming out a bit thick,Magic Slate 15-inch LCD Writing Tablet,The quality and build seems good so far.,Very useful product</td></tr><tr><td>Good one,Nice,Wrong information provided by pigeon,Good product.,Best in class for this price,Best in this budget,Good product,Nice product</td></tr><tr><td>Value for money.,Good product,Good Purchase,It’s Nice,Material made of plastic,Broke in first use,Good quality,Low cost</td></tr><tr><td>Good note book,Five Star Product,Nothing,Not bad, decent buy,Amazing  quality,Good quality paper/binder/separator ( Value for money),Great for writing notes,One minus star is for one defective piece..</td></tr><tr><td>Better..!!,Charging speed is not guaranteed!,Exactly as advertised,Excellent warp charge cable,Nice,Amazing cable,Best fast charging cable,Really a good cable, Recommend</td></tr><tr><td>Better..!!,Charging speed is not guaranteed!,Exactly as advertised,Excellent warp charge cable,Nice,Amazing cable,Best fast charging cable,Really a good cable, Recommend</td></tr><tr><td>Better..!!,Charging speed is not guaranteed!,Exactly as advertised,Excellent warp charge cable,Nice,Amazing cable,Best fast charging cable,Really a good cable, Recommend</td></tr><tr><td>Good,Nice,Good product 👌,Get's the job done.,Kent 16068 Zoom vacuum cleaner is very good to use and easy to clean and charge as well.,Less durable,Preety easy to use,Awesome product</td></tr><tr><td>Affordable product but poor design,Amazing,Just barely serves the purpose of the wireless keyboard and mouse.,If your budget 1K - best of best,Good comfurt,Very useful 👍,very compact easy to carry,It's really good</td></tr><tr><td>Good toaster,Seamless. Undoubtedly the best,Good product,Everything,Nice and okayish to use at home.,Value for money,Good pop-up toaster. Bun warmer feature is a nice addition,Wonderful product.</td></tr><tr><td>Packaging and look wise it is awesome 👍,Perfect fan,Good product,Good looking bit heavy,Nice product,Good,Good fan,Looks classy</td></tr><tr><td>Very very very good in terms of ergonomic,Good keyboard but have some cons,Good For Daily Use,Easy to use, hard to carry,nice,Excellent, Durable and connects to any gadgets including IPhone,Not suitable for all,Absolute Rubbish -> Moderately Good Product</td></tr><tr><td>Fine for beginners but brightness is low ...increase brightness ..,Good,Size and brightness,It is good for rough work,Very nice & satisfactory,Very low brightness,Na,Nice product for this price</td></tr><tr><td>Good Portable product,Product is good but within 3/4 uses battery is dead now have to change its battery(cell),Finally I got my item and it works fine.,Overall Very good products and value for money , go for it,Wonderful product,Nice,It was just osm,It's best</td></tr><tr><td>3,Sturdy and Works Flawlessly,Excellent 👍,Really Good Product,Cord is very small,Plug size is bigger now, comes with 15A! Please change the plug size to 5Amps,Broken material given,Good product</td></tr><tr><td>Unhappy with storage.. actual storage is 57Gb,Most amazing sound , Really unbeatable better than any  another similar products  .,Nice,Esy to use,Pendrive,Nice and small,Value for money,Good</td></tr><tr><td>Nice product ..,Lenovo 300 camera,Very nice in the pricecrange and in budget.,Not able to connect with android TV , can you please help me out.,Good for 4 group calling fot have focusing function,Good one..,Amazing,Good product</td></tr><tr><td>Works as expected but some things can improve,I am using this more than 1 year,Overall its a good product, very useful.Some minor drawbacks.,Great for vacuum, bad for mopping,Good product.,Product service issues,Good product,A helping hand for working women</td></tr><tr><td>Very useful,Very useful item to make your phone cables long lasting,Price can be reduced as this product is not worth for 80 rs,Value for money,It is useful,Good product,Good quality,Its good item in this money</td></tr><tr><td>Very useful,Very useful item to make your phone cables long lasting,Price can be reduced as this product is not worth for 80 rs,Value for money,It is useful,Good product,Good quality,Its good item in this money</td></tr><tr><td>Very useful,Very useful item to make your phone cables long lasting,Price can be reduced as this product is not worth for 80 rs,Value for money,It is useful,Good product,Good quality,Its good item in this money</td></tr><tr><td>Nice product but little bit costly,Is good,Value for money,Ok,Good product,Nice product,we can use it for every work like chatni, shake, blending, etc so you must try it.,Using it since 2019</td></tr><tr><td>Pages size is small but good quality,Okay,Quality,Best,Classmate pulse,Best paper,Good,I loved it...</td></tr><tr><td>Good.,Good product,Ultimate product,Good Product,Not that good. But ok for the price.,Fast cable,Fast charging 👍,Best Alternative to Original Cable</td></tr><tr><td>Good.,Good product,Ultimate product,Good Product,Not that good. But ok for the price.,Fast cable,Fast charging 👍,Best Alternative to Original Cable</td></tr><tr><td>Good product with bad resellers,Works great,Best in Class.,Best quality surge protector,Sturdy and Safe Surge Protector!,Good,Perfect product.,Best quality</td></tr><tr><td>Worthy, best for bucket bathing:,Water heater that does the job right,Works as promised and the installation was quick..,All good,Good product.,Worthy product to buy.,Easy to install.,Nice product and good service</td></tr><tr><td>Good work,super quality,Good mouse. Handy for work from home.,Good Mouse for Laptop,very nice to use and soundless,Good,At this price, it's definitely best. Good working and functioning.,Good</td></tr><tr><td>Merges with the device, Ultra Thin, Smooth Sliding,Good for Privacy Concerns,Good product,RESEARCH PROPERLY BEFORE BUYING! NOT SUITABLE FOR MACBOOKS!</td></tr><tr><td>Merges with the device, Ultra Thin, Smooth Sliding,Good for Privacy Concerns,Good product,RESEARCH PROPERLY BEFORE BUYING! NOT SUITABLE FOR MACBOOKS!</td></tr><tr><td>Good product,Good Product,Very easy to use but my mom wanted a transparent one,Very good product,4 on 5,overall good,Nice,Elegant & Sturdy!</td></tr><tr><td>It’s a good product in this price.,Nice product,It's very good,Good for use,Velue for money product,Good product,Value for money purchase,It is worthy</td></tr><tr><td>Worth for money and best customer service.,Good buy,Helpful.. customer care amazing,Good performance with less space,Best suited for bachelors,Best mixer grinder for small daily kitchen requirement..,Happy with cookwell☺,Nice product</td></tr><tr><td>Excellent product,Great Quality,Good,V good product,Overall a good product,Money waste,Good kettle, but NOT for boiling milk,Gud</td></tr><tr><td>Good quality product, Best suitable storage for 4k videos,Perfect for nintendo switch oled,Best in the segmet...,Expensive,Product Is Good,Good,The delivered one was 90Mbps write property,Nice Write Speed But Read Speed Is not that much is giv..Read Speed goes to 90mbps Write 80to90mbps</td></tr><tr><td>It is a great product can be used to make dishes and curry too.,Nice and satisfied.,Good Product. Easy to use. Worth buying.,It works well.,Nice product,Its a beautiful product but very small.,Impressive product,Stylish</td></tr><tr><td>Noice,Love these.!,Good,Nice product,Good items,Drawing ke liye Maine mangvaya tha,Nice acrylic paint tubes. Good one,Smooth paste nice product</td></tr><tr><td>A beautiful experience in your budget. The volume controller was new for me but it works as a charm.,USB speakers,Nice for the price,Worth the money,Good product,No disable light feature,Please improve sound quality and more,Better at Price</td></tr><tr><td>quality is awesome trust me guys 👍,Nice to purchase,Aesthetic look but not sure about the reverse side,worth the money,Zipless and logoless but great product,Value for money product,Looks good,Size</td></tr><tr><td>good machine in budget,Very good product...,Over all experience is good with this product,Very good machine insuch a price range,Overall,Good product.easy to use,Good product compared to the price range..and performance is satifactory,Useful product with good build quality</td></tr><tr><td>No power butten to on and off.,Nothing,Product is Ok-Ok,It's auto close Green light is not working.,Good but cord length is short. Must be atleast 4 fts,Nice to use,Good,Good product</td></tr><tr><td>good product,Nice one,Product is gud but size could be little more,Best Buying,Good product,Material is good,Worth for cost,Sturdiness of Kuber Industries Waterproof Round Non Woven Laundry Bag</td></tr><tr><td>Utilitarian,Excellent product,Good features,Good product with reasonable price,Super,Nice one,Average product,Value for money</td></tr><tr><td>A Quality Sound-Signature but leaves craving for a decent bass.Quite fragile too.Compared with Senn.HD 202 II & Sony MDR XB50AP.,boAt 225 vs JBL CS100 vs Sennheisers cx180 | DETAILED Comparison after 1 YEAR of USE.</td></tr><tr><td>Nice product, a must have,It works like magic 💫💫,Useful and beneficial,Good,Good and useful,Easy to use,Go for it,Easy to use but expensive</td></tr><tr><td>Overall good purchase,Good,Good Purchase,Ok hi upar ka dhakkan bahut acchi quality ka nahi hi,Nice,A must have product for your home...gud capacity nice look,Decent buy,Good product</td></tr><tr><td>Coffee Filter,Just go for it!,Happy with the product,If you drink 1 or 2 cups of coffee a day, this's it,Works well! But pricey,Easy to make coffee with and sustainable.,GOOD FILTER,good for a person or two</td></tr><tr><td>Good Performing Air Purifier at a Decent Price,Value for money,Nothing earth shaking about this product!,It is good,Great product.,The product is working nicely and worth buying product.,Writing after 1.5 years pros cons solution and trics do read my reviews and vote,Works but no use</td></tr><tr><td>Clearly makes a difference,Good,Value for money,Good material,The ink of parker is very lite,Good,Good,Very good</td></tr><tr><td>Easy to use,Working fine - but errors while using USB and Ethernet adapter together.,Speed is just awesome go for it,Best price to buy,Awesome product,Overall good,Drains battery if you use on smartphones,Excellent product but it has 1 major and 1 minor inconvenience</td></tr><tr><td>Easy to use,Working fine - but errors while using USB and Ethernet adapter together.,Speed is just awesome go for it,Best price to buy,Awesome product,Overall good,Drains battery if you use on smartphones,Excellent product but it has 1 major and 1 minor inconvenience</td></tr><tr><td>Good,Made for special ones,Good Product,Awesome,Gift given in birthday and other,Good,good,Pen is Best Gift for Everyone.</td></tr><tr><td>Good,Good Product but Little expensive.,Happy with the purchase,Good buy in price range,Best travel companion,For instagram reels zoom in and zoom out switch is not available,MUST BUY FOR EVERY ONE WHO OWNS A MOBILE PHONE !!!,A good selfie stick</td></tr><tr><td>Good,Good Product but Little expensive.,Happy with the purchase,Good buy in price range,Best travel companion,For instagram reels zoom in and zoom out switch is not available,MUST BUY FOR EVERY ONE WHO OWNS A MOBILE PHONE !!!,A good selfie stick</td></tr><tr><td>Good,Heads up,Good product,Bright in color  good product 👍🏻,Nice dark colors...,black  and dark blue paper not supplied  as it should be also there making it 4x12,Quality is too good,Nice bright colour</td></tr><tr><td>Good one,Punchuality,Good product,Good quality,పర్వాలేదు,perfect for use,Good,👍</td></tr><tr><td>Good product,Very nice product,The product Is good according to its rate,The product is nice in its working. The only issue is handling product.,Just 30 Seconds and frothy coffee ready.,Nice product,Ok product,The product is by far good</td></tr><tr><td>Adhesion,Good product,Does not stick,Nice sticky note,good,Not up to the mark,Worth to sticky,GREAT....</td></tr><tr><td>Decent product for the price mentioned,Will recommend for gaming too.,Jakkas mouse pad,Ergonomically designed!,Premium Product !,Great to use,good product,Very comfortable</td></tr><tr><td>👍 nice,Lint removed instantly and effortlessly,Amazing product...worth the money,Best purchase till date,Good,Works as expected,Good quality,Must have product for Winter clothes</td></tr><tr><td>Not satisfied,Nice,Low quality,Amazing product,Best in its category,Very good sprayer,Good,Not sturdy</td></tr><tr><td>Nice,Good but screws are poor quality,Strong brackets,As required,Promt delivery,tlob ralugnA,Good,Quality of material is good but painting quality need to be improved in future product</td></tr><tr><td>Highly time consumption.....,Slowly,It's good.,The cord length is ok, but the jack point is different,Useful product,Good Product,Good,good</td></tr><tr><td>Product is good but huge noise,Good vaccum but too loud and noisy,The product was good,Good one,Super,Suction is awesome,Damage product received,A decent budget product for a clean house.</td></tr><tr><td>It's okay,A must have for coffee lovers,Perfect product for making a perfect cup of coffee.,Stopped working after minimal usage,Great Product,Amazing!,Awsome,Good</td></tr><tr><td>Good quality,Good quality product,Must Go For It 🥰,Great case to carry charger or manage cabled products,Good,Rugged, compact. Would have been better with a loop to hold.,best for your earphones,Good</td></tr><tr><td>Good,Its a good alternative apple pencil,Good,Value for money,Ok,Good performance,perfect fit for AMAZON BASICS (Pencil),Functional for casual use</td></tr><tr><td>Decent product,doesn't pick up sand,Ok ok,Must Buy,Good one for basic use with normal suction power,Super,First review,Perfect product for my car</td></tr><tr><td>Lint remover,So nice but takes longer then expected,Perfect,Works as promised,Very useful product,easy to use,Amazing product,Value for money</td></tr><tr><td>Worth the price,Mi Smart Tv 32\" :- 7/10 average.,Worth using since 1.5 years,expect more from mi,Worth for money.,Good product,It’s good,Go for it without thinking twice.</td></tr><tr><td>Worth the price,Mi Smart Tv 32\" :- 7/10 average.,Worth using since 1.5 years,expect more from mi,Worth for money.,Good product,It’s good,Go for it without thinking twice.</td></tr><tr><td>Worth the price,Mi Smart Tv 32\" :- 7/10 average.,Worth using since 1.5 years,expect more from mi,Worth for money.,Good product,It’s good,Go for it without thinking twice.</td></tr><tr><td>Worth the price,Mi Smart Tv 32\" :- 7/10 average.,Worth using since 1.5 years,expect more from mi,Worth for money.,Good product,It’s good,Go for it without thinking twice.</td></tr><tr><td>Excellent OTG and even excellent price range👌👌👍👍👍,Good product,Very Good Product at its Price Range,Great to use and makes tasty food,Awesome,Packaging was good, received the product at the right time.,Value for money,Worth</td></tr><tr><td>Android & IOS,About Mouse,Broke after two weeks - Update: Product replaced twice and it works now,Good,A perfect one,A decent device for daily use,Overall a good product,So far so good!</td></tr><tr><td>Product as describe,Good product,Good product but price high.,I miss my gas stove.... Induction sucks :(,Great value,No1,तेल गर्म करने में परेशानी,Good</td></tr><tr><td>ok,everything was good couldn't return bcoz I needed it in emergency,Don't buy this 1 litre Prestige rice cooker. Already replaced but still got damaged product,Ideal for a small family of two.,Nice but small,Read the leaflets before you start cooking. Learn to use optimum quantity of water.,Quality excellent,Very Good product</td></tr><tr><td>Good,Worth to buy,Great value for price,Good product,Nice product.,Reliable and worth it!,Much more sturdy and durable than Apple cable,Good</td></tr><tr><td>Good,Worth to buy,Great value for price,Good product,Nice product.,Reliable and worth it!,Much more sturdy and durable than Apple cable,Good</td></tr><tr><td>Good,Worth to buy,Great value for price,Good product,Nice product.,Reliable and worth it!,Much more sturdy and durable than Apple cable,Good</td></tr><tr><td>Good,Worth to buy,Great value for price,Good product,Nice product.,Reliable and worth it!,Much more sturdy and durable than Apple cable,Good</td></tr><tr><td>Good,Worth to buy,Great value for price,Good product,Nice product.,Reliable and worth it!,Much more sturdy and durable than Apple cable,Good</td></tr><tr><td>Easy to use, works really well.,Good experience so far,Good,Handy product,Looks great..,convenient and efficient to use,Time saving and effective.,Good</td></tr><tr><td>Nice looking and good finish deskmat,Premium product compared to other desk mats,Nice deal! Go for it,Good desk mat,Feels good,Best mat,Worth every penny,pretty good</td></tr><tr><td>Go for it,Good quality and price,good quality,Good to have instead of plastic one.,Looks good better to use than plastic,Good but can be better,Value for money,Good quality product</td></tr><tr><td>Decent Prodyuct,Normal,Good product,Great product,Good product,perfect,Built quality of product is excellent,Excellent</td></tr><tr><td>it's nice. simple and easy.,It's good but I ordered avengers printing I got other one,Not A4 size,Nice product but not value for money,Money not wasted.,Good For Day-To-Day use,medium size notebook,Good for note</td></tr><tr><td>It's good,Good,One of the few items on amazon that are original,Awesome!,Nice quality products 👍,Best price,Nice pen,Good pen</td></tr><tr><td>The best earphones you can find out there under 500 Bucks..??? Are they Comfortable..?? Let's find out.....,:( Not so good Not so bad :),Good but i don't recommend,Sexy,You can expect it to work for a year,Good buy but 1 side earphone stopped after 6-7 months,Vocals are good music is bit dizzy and there is a sound zzzzzzzzzz when everything is silent ..,Superb</td></tr><tr><td>Battery,Good buy,Bigger than expected,Best Battery for cooking stove,Great batteries,Good,GOOD,Wrong size</td></tr><tr><td>Demo Required,Nice product,Blower function not working. But in product name they have written both suction and blower both,Good,Great,No support from Eureka forbes,Cleaning is no more a tougher thing.,Great Product and good demo.</td></tr><tr><td>Replaced the first one.,It is very good product,Go for it,Nice Product,Simple and supper,Compact and Premium look product,Tiny but good,Best buy ever</td></tr><tr><td>Great Cable, Charging Speeds Could Be Better,Good,A good cable.,One of the best type c cable,Works as intended.,A good buy. The extra length helps a lot.,Good,Ok</td></tr><tr><td>Great Cable, Charging Speeds Could Be Better,Good,A good cable.,One of the best type c cable,Works as intended.,A good buy. The extra length helps a lot.,Good,Ok</td></tr><tr><td>Great Cable, Charging Speeds Could Be Better,Good,A good cable.,One of the best type c cable,Works as intended.,A good buy. The extra length helps a lot.,Good,Ok</td></tr><tr><td>Pathetic amazon delivery service,Decent Indoor Security Camera,Camera used by me,Other than initial hiccups, some (Mi Home app) software bugs, it is good for monitoring!,Works well,Nice camera but motion censor doesn't work,Good,Not up to mark</td></tr><tr><td>Good, but not fast enough,Excellent product,Very slow heating,A silent heater,Easy to operate and the performance is good.,Recived room heater of only 9 fins than 11.,It's nice,Heats the the room very well</td></tr><tr><td>It's good product for other company.,Value for money!,Not satisfy with the speed,Cleaning is problematic,Ok,Good,Good looking fan but motor fitted with fiber body.. Quality ok.,Good one, with bigger, not sure about dimension wise.</td></tr><tr><td>Bad servisec,a bit costly,Favourite,Thankyou amazon for brand product which I received in good condition,Good product,Good,Prestage induction,Till now going good</td></tr><tr><td>Amazing Product!,Good product at in this range.,Thik thak photo aa jata hai.,Good product,Review,Nice hd webcam,Not all of Logitech's products are excellent.,Decent buy for the price.</td></tr><tr><td>Good product, Cheap and works well,good one,Nice charging power.,Nice,Good,It's a cable,Durable,Laptop cord</td></tr><tr><td>Very useful product to organize cable,Great, but a piece missing,Must Have for WFH Setup,Value,Exactly what I expected,Great product with a neat finish,Love it . Little Expensive but can't complain,Very useful product</td></tr><tr><td>Click-Bet,The alphabet doesn't light up,It is good but sometimes button got stuck and ruin your game,dont get your hopes too hight up,Good and superb but the RGB modes are less but good u can go for it,Itz mouse is so smout,Good,Cool looking</td></tr><tr><td>Good product! But price is high,It's good but not bad.,Just Go For it,,It was good and strong and easy to use,RELIABLE, STRONG DESIGN,10/10,Good,It does the job. Better than the one we get with the tripod.</td></tr><tr><td>Good for the price,Good product,Good Deal,Defective,It is great to store laundry and looks good too. Good quality,Nice product.,Yes,Ok for the price, lacks structural support</td></tr><tr><td>Good product and budget price,I purchased this product from shop for Rs 1650 including everything so why to buy from Amazon,Worst product</td></tr><tr><td>Love it,Very good product quality,Awesome product,Phillips OTG,it has the maximum temperature of 230 last .,Looks Good, Easy and smart working,Good product,Good quality</td></tr><tr><td>Worth the proce,Can't complain for the price,Good product,An Affordable Mouse Pad,Office only,Badiya,Worth it just for the cost to quality ratio.,Good.. But could've been excellent.</td></tr><tr><td>Convenience product,K380 & M350 Lavender,Excellent keybaord,Very handy andneasy to use .. the quality is as expected from logitech,Cool keyboard,Not worth the hype, but manageable,A Robust, High-Quality, Ergonomic Keyboard.,The best Keyboard for a Mac Environment</td></tr><tr><td>Good product,Strong and powerful,Useful product.,Very nice 👌 👍 product,Good 👍🏻,Good,USB,Strong buid , study design , charging speed ☹️</td></tr><tr><td>Good product,Strong and powerful,Useful product.,Very nice 👌 👍 product,Good 👍🏻,Good,USB,Strong buid , study design , charging speed ☹️</td></tr><tr><td>Nice product,Ok,The lid could be more sturdier. Very thin plastic.,Not very good,Fine,Excellent product,Quality,Very good quality product,can store a week laundary</td></tr><tr><td>🌟🌟🌟🌟,Good product,Nice product,Product quality is good and price is also very good,Easy to install,Nice product at this rate,Not gona regret after buying it,Best caddy in the market</td></tr><tr><td>Serves the Purpose,GOOD TO USE but price is high,Does the job well,Go for it.,Good product,Very good product and life saver in winters,Easy to use,Solve the problem of lint on woollen fabrics</td></tr><tr><td>Best Product,It’s expansive but it works well upto 800sqft area,Great product</td></tr><tr><td>service is excellent,  installation guy is very professional,  I liked the service,Amazing,Value for money,Nice product,Water is clean and tasty also. Its cleans very well,Good. Happy with the installation,Nice product at affordable price.,Affordable and we'll functioning R.O.</td></tr><tr><td>Nice product,Nice iron,Wonderful product,Best product 👍,Good electric iron,As expected,Acch iron hai ap order kar sakte hai,GOOD</td></tr><tr><td>Good to go for small family. Indicater and installation issues.,Very nice product,Worth buying,Best gyser,Good,Goodwill,Bit costlier than other products in the market of its kind but quality is also very good.,Working is fine</td></tr><tr><td>Value for Money product,I didn't receive adaptor with my speakers..I'm disappointed,Sound,I can't AUX mode service,Good,Sound best Quality.,Very good,So sweet sound but subwoofer not good</td></tr><tr><td>Good,FITTING,Sealing of the product is faulty,5 Star ⭐,Best,Easy to install,Nice,Best filter</td></tr><tr><td>Good,Goos product which you can trust,Good,Cost effective,Good,Ok,Very good product,Quality</td></tr><tr><td>Sound Quality : Boat Stone 650 vs Nakamichi Speck vs Boat Stone 200,It's just a speaker with less sound,Okay to buy,Sound is not much loud in maximum volume,Boat rocks always,Excellent 👌,VFM PRODUCT BUT THERE'S MORE TO IT. READ ON!,Excellent sound quality, i like this speaker sooooooo much 👌👌👌</td></tr><tr><td>Best Budget Mechanical Gaming Keyboard Period!,AMAZING KEYBOARD! Premium, Affordable and neat layout.,Pretty good for basics,Value for money,  not very fancy but subtle!,Good keyboard but,My first mechanical keyboard!,Best mechanical keyboard,Modding is So easy!!</td></tr><tr><td>A perfect balance of price and performance,Great Suction and above average mopping | Good Buy</td></tr><tr><td>It is very good product value for your money go for it and save some money,Nice,Easy ro use for children as well,Less time more work,Must buy 😊 I would recommend just go for it,Super fast,No need to wait for a long time,It's a good product</td></tr><tr><td>Okay Okay kind of product,Good quality though bit expensive,Easy to use,Quality is good,Good quality product,Just Okay,Very thin steel.,Super</td></tr><tr><td>It is kinda heavy and i suggest u should use an mouse pad,I'm not a pro gamer but this mouse does the job well,Valuable mouse,Value for Money,Don't buy if you are planning to buy this for FPS Games,Good according to price and specification,Super looking and more featured mouse,Perfect Product</td></tr><tr><td>Good,Kind of too big.,Efficient one,good quality appliance,Nice product,Sturdy, well made,Fantastic product, I'm using it from last 10 days and it is working good. Value for money.,Quality product</td></tr><tr><td>Felt very useful 👌 but cable is short,Good in portable series of Geyser,Awesome product,Good quality,Product okay but no bill receive,Wrong Reviews uploaded for this product.,Good Product</td></tr><tr><td>mast mouse hain,Awesome and cheap for gaming mouse,sensitive as I expected,Mouse gaming,Build quality is very worst,awesome design from HP,Best Buy,Perfect 👍</td></tr><tr><td>Good product at this price,An excellent product experience. Does job well at this price range..,Ok,overall good at this price,The Steel around the handle gets hot too!,Light weight product,Nice,A good iron for the reasonable price, tepreture control..</td></tr><tr><td>Good,Genuine product,Not first charge this cabil,,Nice cable but known durability,Got a used type c to c cable and the xable was damaged,The product is Genuine and Good,Abdul kadir,Good</td></tr><tr><td>Good,Genuine product,Not first charge this cabil,,Nice cable but known durability,Got a used type c to c cable and the xable was damaged,The product is Genuine and Good,Abdul kadir,Good</td></tr><tr><td>Strudy, Awesome connectivity........but bass is NOT upto the mark,Good for home,Superb Product but no memory card slot,Good box as per range,Good,Good but battery drain fast...,Good,Very good</td></tr><tr><td>Nice .,very good batteries received,Longtevity,Good product, Good seller,Reasonable pricing,I liked the package and product is very good,Good,Value for money</td></tr><tr><td>Nice product,It works!,Indoor device, not for field use!,Does the job,Value for money product.,Good product,Till now...Using since 7 days..It's good,Useful USB multiplier</td></tr><tr><td>Healthy alternative to traditional deep frying,A new useful equipment for kitchen,Nice product. A must have for healthier cooking,Best in class Air fryer from Philips,Very nice product for Oil free cooking,Very useful product,Less Oil  food to eat,Quick snack machine</td></tr><tr><td>💥,Considering the price range, it’s a good one,Worthy,Good products,Good,Good as brand,Ok Product,Value for money,</td></tr><tr><td>Good product st this price,Good Product,Good product,Awesome product,Pipe is not there it's mentioned that pipe is with this order,Easy to install,best price.,Good,Good product</td></tr><tr><td>Good product,Quality is great but chuteney jar is not working well,Good,Superb,Very good item,Super purchase,Superb 👍,Sujata hi lena.</td></tr><tr><td>Just buy it dont even 2nd guess it,Quality is good,Nylon braided quiet sturdy,Amazing,Feels like steel harnessed wire - strong,Sturdy and durable. Useful for charging Power Banks,good,Nice quality</td></tr><tr><td>Just buy it dont even 2nd guess it,Quality is good,Nylon braided quiet sturdy,Amazing,Feels like steel harnessed wire - strong,Sturdy and durable. Useful for charging Power Banks,good,Nice quality</td></tr><tr><td>Just buy it dont even 2nd guess it,Quality is good,Nylon braided quiet sturdy,Amazing,Feels like steel harnessed wire - strong,Sturdy and durable. Useful for charging Power Banks,good,Nice quality</td></tr><tr><td>Just buy it dont even 2nd guess it,Quality is good,Nylon braided quiet sturdy,Amazing,Feels like steel harnessed wire - strong,Sturdy and durable. Useful for charging Power Banks,good,Nice quality</td></tr><tr><td>Nice product in this range,After 3 month of using ,,observed decorative ,less noise upto medium speed ,overall OK .,Best product,need to improve on noise,Good fan,Good,Noisy,Value for money spent</td></tr><tr><td>Good,Quite Good, just a little too costly, but worth it,Best in this budget segment,Table is good,, wood is hard, legs are strong, but plastic frame is broken at one corner,The product quality is good. The size is small. It is stable not bending while working on table.,Good 👍,Perfect for WFH !,Best buy</td></tr><tr><td>Good material, fast charging,Costly but good product,Support type c super fast charging,Good quality,Sturdy cable & has decent charging capabilities.,Good buy.,Gud product.,Very good product</td></tr><tr><td>Good material, fast charging,Costly but good product,Support type c super fast charging,Good quality,Sturdy cable & has decent charging capabilities.,Good buy.,Gud product.,Very good product</td></tr><tr><td>Good material, fast charging,Costly but good product,Support type c super fast charging,Good quality,Sturdy cable & has decent charging capabilities.,Good buy.,Gud product.,Very good product</td></tr><tr><td>Good material, fast charging,Costly but good product,Support type c super fast charging,Good quality,Sturdy cable & has decent charging capabilities.,Good buy.,Gud product.,Very good product</td></tr><tr><td>Good product,Decent,Highly recommended,Kids love colour,Most awesome choice for your little artist and you,Good product excellent quality,Good product,This give happiness to my students</td></tr><tr><td>Highly displayed,Very convenient for egg boiling,Good produvt,Good,Nice 👍👍👍👍👍,Fitting issue,Quality of item,Auto-cut stopped working after 10 days</td></tr><tr><td>Good,It's a good product. Go for it.,Easy to use,Good product, but quality is ok ok,Value for money,Gave new life to my old clothes-magical,I could not believe that this product is so good ✨✨,Good for woolen clothes</td></tr><tr><td>Very easy to use,Easy to use .,Best calculator for CA students,good performanace,Nice,Best,Very nice and steardy,Good product</td></tr><tr><td>Best Speaker at low price,Good quality,Very small compared to price.,Pocket dynamite,Cute one,LOUD AND GOOD BLUETOOTH SPEAKER,Portable and good one,Superb yet portable speaker</td></tr><tr><td>value for money,Great Product,Best charger,Genuine charger at a low price,Genuine and Good,It's Orginal Lenovo charger.. Should buy it,Same as original,Amazing charger , giving good charging in limited time. It really worth and nice product.</td></tr><tr><td>Best product,So good,Nice,Worth it,Used it for more than 3 months. No complaints so far,Working as expected,Battery use more,Overall satisfied</td></tr><tr><td>Good,Value for money,Good,Under 500 tds, it gets the job done.,Installation was delayed,Nice product,Worst product,NIce</td></tr><tr><td>Can be use as table lamp or emergency light for room,Very flexible 👍,Working perfect great,Value of the product,good product as per price,Good enough but no controls to dim,Excellent,Nice product</td></tr><tr><td>Egg boiler,Time efficient..easy to use,Good to use,Value for money,Very good product,Achha hai egg boil achhe hote hai,Best in Business,as the price product is good</td></tr><tr><td>Good product but attention needed in packing and shipping,Good Product,Installation Technician not good.,worth to money,Good Water Heater,Loved this…!!!!,Value for money,Good product</td></tr><tr><td>Need be careful,Excellent Product,Awesome Juicer with few issues,Best juicer ever , very strong and hard motor ,,Best mixer in India,Bang for the buck,Good product easy to use.,Best Juicer</td></tr><tr><td>Its ok product not too good not bad,Cheap and best,Performance,Works well,Not working with Fast Charger,This Type-C cable is awesome😍.,Does not support display,Good</td></tr><tr><td>Its ok product not too good not bad,Cheap and best,Performance,Works well,Not working with Fast Charger,This Type-C cable is awesome😍.,Does not support display,Good</td></tr><tr><td>Its ok product not too good not bad,Cheap and best,Performance,Works well,Not working with Fast Charger,This Type-C cable is awesome😍.,Does not support display,Good</td></tr><tr><td>Sleek , Silent and Effective,Good product,100 % satisfied and recommended....,Bad product. Fan makes lot of noise,Its good with a flaw,Overall best.,Number 1,works decently.</td></tr><tr><td>Amazing! Value for money!,Very easy to use,2 in 1,Good product,Easy to clean,Good product to buy and use,Easy to operate that is simple process,Worth</td></tr><tr><td>Gets the job done 👍👍👍,Original product,Good,THe ink is not full to the brim,Original cartridges,Nice,Excellent refill ink - original quality,Low quantity</td></tr><tr><td>Good!!,Came with a small scratch on the casing and box was not sealed,Heat fast, cut off once a while,Small sized griller which is not so bad,Size issues,Works fine. No issues, cord could have been longer,A must buy,Its good.</td></tr><tr><td>Good health product.,The best dry iron I have owned in last decade!,Value for money,Good,Bang on budget,Bad,light weight,Good for home use</td></tr><tr><td>👎Disappointed 👎Review after 1 year 3 months of usage,Good product and received latest V4,Good Budget Gigabit Router with Beamforming and multiple options in firmware,Range is issue for 5g every where,Value For Money,Go for it,Super 👍,Signal, support, install</td></tr><tr><td>Totally worth rs99,Best,Good,Valuable,Fulfil purpose, easy to carry,Good product,Good product,Good</td></tr><tr><td>Worst Quality Stand,Very productive product and value for money.,Good,It is functioning good,Product is good but RGB is of no use - RECOMMENDED FOR WHITE LIGHT,Nice,Worth for money,Good product for it's price range</td></tr><tr><td>Good,The smell....,fair enough looking at reasonable price,Amazing,value for money,For starter,Best as a buyer its pretty reliable,Smooth experience</td></tr><tr><td>Worth Every Square Inch.,VFM, Plastic build. Must buy,3 years of extensive usage , delivered the perfomance to its price,Still working after 2 years,Low in price but sound was high,Super head phone under 1300 rs,Wow nice this headphone Just like fall in love🥰 ye kuchh jyada hi ho gya😜,Good quality</td></tr><tr><td>Worth Every Square Inch.,VFM, Plastic build. Must buy,3 years of extensive usage , delivered the perfomance to its price,Still working after 2 years,Low in price but sound was high,Super head phone under 1300 rs,Wow nice this headphone Just like fall in love🥰 ye kuchh jyada hi ho gya😜,Good quality</td></tr><tr><td>Good product for beginners,Wonderful,Good,Rate is affordable,Nice will order again,Very good deal,Super,Drawing books</td></tr><tr><td>Super charger in lapster,Best among the rest,Classy product and authentic one,Excellent product,Worked fine ,thank you,Stylish and flexible cable,Amazing,Value for money product</td></tr><tr><td>Super charger in lapster,Best among the rest,Classy product and authentic one,Excellent product,Worked fine ,thank you,Stylish and flexible cable,Amazing,Value for money product</td></tr><tr><td>very good geyser and value for money,Only geyser comes with the box,Good may be very good,Good product,Accessories missing,Value for the money product,Excellent product,Worth For money</td></tr><tr><td>Nice,Heavy weight and good product.,Value for money,Looks good one but returned,I like it and good product,Super build quality,Nothing,Best iron box</td></tr><tr><td>Good product,4 star overall,Good, nice worth it,Good cable,Good product,Reasonable price, good quality.,amazing,PERFECT!!</td></tr><tr><td>Worthy,Love this product,Good,Good,It can be used for two years,👍,Best in this price, will serve the purpose you bought it for.,Good choice in budget Range</td></tr><tr><td>Nice iron box. Temperature control can be better.,Product quality,Very nice product,Great Product,It is gud for normal use...,Okk,It's good,Nice product</td></tr><tr><td>Very nice product,Damaged within 4 months,Wacom review,Value for Money,Nice,Recommend,Perfect to draw, sketch and doodle.,Nice product.</td></tr><tr><td>Very easy and handy to use,Good to have for boiled eggs.,Superb,Effortless,Wanderful,Good,Not good,Can consider for purchase</td></tr><tr><td>Nice Product,Good one,Nice to have!,5 star (i gave 4 btw) just 1 con and its huge for me,Good table to work from bed,Laptop Table.,Best stand available,Like it</td></tr><tr><td>Good,Good stand in this price,Stability,Product is good quality but it has scratchs on it.,Strong durability,nice product,Fantastic,Best light stand</td></tr><tr><td>Good 👍,Product is Good,VALUE FOR MONEY,Worth it,Notebook is good and paking in very bad,Very nice book and good packaging,Nice set of 12 Lovely 😍 Books 📚,The books are beautiful</td></tr><tr><td>Nice good,Easy to use,Good , however little costly,Good one,Its good.,Excellent egg boiler.,Product is so good bat the cabale length is short,Must buy</td></tr><tr><td>Good And Durable,Value for money product.,Right choice,Good product.,Charger is good,Cable is working as expected.,The best cable till now,Good 👍</td></tr><tr><td>Multipurpose and time-saving,Good notepad for travelers,Nice for the personal stuff,Super 👍,Most amazing product.,Too costly,Useful product,Good</td></tr><tr><td>Good maybe okay,Defective Product Delivered,Amazing Sound at Budget,Not for bass lover,Best one,Quality,Durability,Superb voice quality</td></tr><tr><td>Good maybe okay,Defective Product Delivered,Amazing Sound at Budget,Not for bass lover,Best one,Quality,Durability,Superb voice quality</td></tr><tr><td>Good maybe okay,Defective Product Delivered,Amazing Sound at Budget,Not for bass lover,Best one,Quality,Durability,Superb voice quality</td></tr><tr><td>Value for money but,functional,Good,Very easy to use,Good,Good product,Good,Cable protector</td></tr><tr><td>DETAILED REVIEW after 3 WEEKS of Usage !!!,Priceworthy.,It's a good product,Good,Vivid picture quality is stunning,SUPER DEAL,Value for money,Very nice</td></tr><tr><td>Quality is good,Just buy it dont even 2nd guess it,Nylon braided quiet sturdy,Sturdy and durable. Useful for charging Power Banks,Amazing,Feels like steel harnessed wire - strong,good,Nice quality</td></tr><tr><td>Worth Buying,Good one!!,Very nice seller service.,Nice cable,Nice product 👍,Does not work universally for all devices,so far good can be a bit lower,It's a good product you can buy and trust.</td></tr><tr><td>Not that faster.....,Good quality product,Nice product.,Beauty and the beast,♥️👌Super fast charging, 1 hour main full charge, dono mobile hi fast charge hote hai.,Nice product,Super fast charger,Very Good!!</td></tr><tr><td>Good Stand For Mobiles !,Nice produt,Useful,Affordable and Nicee,Good for the price,Value for money, write product.,Best thing that you need to buy if you have Mobile or tablet...😃,Value for money</td></tr><tr><td>Good cable,This amazon basics cable does the job perfectly well.,Good, sturdy cable,Necessary product connector HDMI,Best quality cable I have had,Male to Female HDMI Extension Cable,very nice wire,Ultimate connectivity.... Using more than couple of years...</td></tr><tr><td>Decent quality,Good for the price,Value buy,It's good value,Ok ok quality,It have enough thickness. Good quality,Easy and smooth,Fine</td></tr><tr><td>Almost Perfect!,Review After using 1month,Nice tv,Panel and video quality,Good Product,Worth for money,Nice,Good</td></tr><tr><td>Almost Perfect!,Review After using 1month,Nice tv,Panel and video quality,Good Product,Worth for money,Nice,Good</td></tr><tr><td>Awesome Product</td></tr><tr><td>Overall good,Sturdy,It turns yellow,No issues and yellowing as of now!,Not worthy,Awesome,Amazing,iPhone 13 back cover</td></tr><tr><td>Quality product,Excellent, it's fast charging,After 12 days not working 😔</td></tr><tr><td>Good TV for the price. (But my experience was not perfect),Good but not best  @!@,Decent tv for the price but misses on basic smart features,Perfect one in our budget. Speedy and customer friendly approach from vu</td></tr><tr><td>Good TV for the price. (But my experience was not perfect),Good but not best  @!@,Decent tv for the price but misses on basic smart features,Perfect one in our budget. Speedy and customer friendly approach from vu</td></tr><tr><td>Value for money smartwatch for those interested in tracking their physical activity.,Noise pulse2max smart watch is awesome and looks good,Paisa wasool,One of the best smartwatches in this segment,Noise,Touch,Good value for money,Best budget segment fitness watch</td></tr><tr><td>Wonderful smart watch,Value for money. Good for first time users,Awesome,Best in market,Good,Worst customer support noise,Calls and userinterface is nice,Noise</td></tr><tr><td>Nice,Good and light calculator,Cheap buttons,Good calculator,Good product thanks Amazon,Super dealing,Function,Ok</td></tr><tr><td>Good quality,Average product.,It fits perfectly on remote. Its Worth for the money I spent.,Good silicon cover for remote,It is perfect fit,Overall it a good product but little pricey,Great for fire stick 4k,Nice product</td></tr><tr><td>Good charging speed, supports well for Suzuki burgman also,Good car charger,It connects to apple lighting Cabel,Good car charger,Good product,Nice quality,It’s only a charger,excellent value for money</td></tr><tr><td>That's a nice one,Best services.,V good less price than that of market,As described,Value for money,Best battery cells out there,Quality yu,Good</td></tr><tr><td>On average is ok ok pricing,Good,Quality good.,Better,The original ink cartridges are always the best,Costly,Expensive but the product was good,Good</td></tr><tr><td>Wonderful TV and Awful installation service from amazon,Acer Television Review,It's a good product for that price.,Good for the price,Almost a complete package,Nice Product,Good product,Super designed</td></tr><tr><td>Wonderful TV and Awful installation service from amazon,Acer Television Review,It's a good product for that price.,Good for the price,Almost a complete package,Nice Product,Good product,Super designed</td></tr><tr><td>Wonderful TV and Awful installation service from amazon,Acer Television Review,It's a good product for that price.,Good for the price,Almost a complete package,Nice Product,Good product,Super designed</td></tr><tr><td>Wonderful TV and Awful installation service from amazon,Acer Television Review,It's a good product for that price.,Good for the price,Almost a complete package,Nice Product,Good product,Super designed</td></tr><tr><td>Wonderful TV and Awful installation service from amazon,Acer Television Review,It's a good product for that price.,Good for the price,Almost a complete package,Nice Product,Good product,Super designed</td></tr><tr><td>Great value for ultra hi speed HDMI!,thickness,material,Works well, just plug and play,Good,Good product,Perfect cable and I'm getting 120Hz 4k when connected to my freesync-certified TV 55Q80T,Good Cable,Little expensive</td></tr><tr><td>Sturdy and good quality,Small cable, works fine,Average,Good one,It affects iPhones’ battery health,Did not like,awesome product,Good</td></tr><tr><td>Highly recommended,Very flexible,Good,Very good product,Good,It's worth every penny,Good,Mobile stand</td></tr><tr><td>Best selfie stick,Decent product with one draw back,Best for Recording videos and photo shoot,Great Selfi stick using for 6months,Nice product in this rate,Overall ok but stability is not rock solid,Selfie stick,Nice</td></tr><tr><td>Big in size as comparison to other normal sized mouse but works very well,Good for office uses,worth the buy,Best mouse at this price,Item is good.  No issues,It's really worthwhile,Good for home or office use,Rough and affordable</td></tr><tr><td>First day impressions: A BEAST!,A decent all rounder.,All good but multiple pairing is awful,Good Product by BoAt,Good Product (but Not well-finished) at a Fair Price of 1599</td></tr><tr><td>Excellent offering from TP-Link,Signal disconnected,Bad packaging from Amazon,Good product for that money,The WiFi range got increased, compare to my old Router!,Very good router in this price segment,Good Product,Wifi router</td></tr><tr><td>It is the best tv if you are getting it in 10-12k,Good price but the OS lags,GARBAGE QUALITY,Good product.,Good quality,Great experience everything is fantastic 🤠,Super picture quality and sound quality,Awesome</td></tr><tr><td>It is the best tv if you are getting it in 10-12k,Good price but the OS lags,GARBAGE QUALITY,Good product.,Good quality,Great experience everything is fantastic 🤠,Super picture quality and sound quality,Awesome</td></tr><tr><td>It is the best tv if you are getting it in 10-12k,Good price but the OS lags,GARBAGE QUALITY,Good product.,Good quality,Great experience everything is fantastic 🤠,Super picture quality and sound quality,Awesome</td></tr><tr><td>It is the best tv if you are getting it in 10-12k,Good price but the OS lags,GARBAGE QUALITY,Good product.,Good quality,Great experience everything is fantastic 🤠,Super picture quality and sound quality,Awesome</td></tr><tr><td>It is the best tv if you are getting it in 10-12k,Good price but the OS lags,GARBAGE QUALITY,Good product.,Good quality,Great experience everything is fantastic 🤠,Super picture quality and sound quality,Awesome</td></tr><tr><td>VFM indoor use (living room/bedrrom) use and clear view upto 120sqft rooms,Best camera in its segment but the app lags,Best,You have to pay to avail all services,All good,I was sent a used product...,Good Product,Upto mark</td></tr><tr><td>Good TV in budget!,Excellent purchase.,A master piece fron sansui,Using good,Value for money 👍,Sound quality not good,Appropriate,Good</td></tr><tr><td>Good value for money,Good,Kodak Tv,One side of screen has blacked out,Kodak tv,Remote not working properly,Kodak TV,Kodak Tv</td></tr><tr><td>Decent Product,Very useful,Daljeet,***,Good,Working well but heated much while charging,Value For Money and Worthable,Good among all rechargable batree</td></tr><tr><td>Very good product,All items is really good,value money,Good,Worthy product,Ok,Quality and Price marks Top.,Delivery too late , but nice products</td></tr><tr><td>Decent mouse from trusted brand,Value for money,Good,Average mouse.,Good,Cute,Its a good mouse for normal usage... loved it.💕,HP X1000 Wired USB Mouse</td></tr><tr><td>Okay to use,Worthy product ...!!!!👍,Single band. 2.4 ghz only,Difficult,Valued for money,So far all is good,Ok,it’s for 2.4Ghz</td></tr><tr><td>Good product,Good one,Nice,Really nice product,Very first time change,Good,Fine product but could be better,Very nice it's charging like jet</td></tr><tr><td>Good product,Good one,Nice,Really nice product,Very first time change,Good,Fine product but could be better,Very nice it's charging like jet</td></tr><tr><td>Good product,Good one,Nice,Really nice product,Very first time change,Good,Fine product but could be better,Very nice it's charging like jet</td></tr><tr><td>Good product,Good one,Nice,Really nice product,Very first time change,Good,Fine product but could be better,Very nice it's charging like jet</td></tr><tr><td>Good product,Good one,Nice,Really nice product,Very first time change,Good,Fine product but could be better,Very nice it's charging like jet</td></tr><tr><td>Good product,Good one,Nice,Really nice product,Very first time change,Good,Fine product but could be better,Very nice it's charging like jet</td></tr><tr><td>Good product,Good one,Nice,Really nice product,Very first time change,Good,Fine product but could be better,Very nice it's charging like jet</td></tr><tr><td>Good one,Almost perfect,Go for it,Good product,It's folding system is good,Very good product,Great stand sturdy and good quality,Good quality</td></tr><tr><td>Good one,Almost perfect,Go for it,Good product,It's folding system is good,Very good product,Great stand sturdy and good quality,Good quality</td></tr><tr><td>Worth the price, expecting good performance on extended use,According to this price is value for money Good product,Good budget calling smart watch.,Just Go For It,It's a mind blowing watch,It's good product in this range,Very Good watch in this price Range,Good Product as per the price charged</td></tr><tr><td>Fake Product,Costly but excellent quality,Storage good but don't know how to Activate warantee??,Good for use,5 stas nahi diya kyuki capacity 477gb hi rahta hai,Speed not as advertise,Good one,It's ok</td></tr><tr><td>Fake Product,Costly but excellent quality,Storage good but don't know how to Activate warantee??,Good for use,5 stas nahi diya kyuki capacity 477gb hi rahta hai,Speed not as advertise,Good one,It's ok</td></tr><tr><td>Fake Product,Costly but excellent quality,Storage good but don't know how to Activate warantee??,Good for use,5 stas nahi diya kyuki capacity 477gb hi rahta hai,Speed not as advertise,Good one,It's ok</td></tr><tr><td>Fake Product,Costly but excellent quality,Storage good but don't know how to Activate warantee??,Good for use,5 stas nahi diya kyuki capacity 477gb hi rahta hai,Speed not as advertise,Good one,It's ok</td></tr><tr><td>Fake Product,Costly but excellent quality,Storage good but don't know how to Activate warantee??,Good for use,5 stas nahi diya kyuki capacity 477gb hi rahta hai,Speed not as advertise,Good one,It's ok</td></tr><tr><td>Fake Product,Costly but excellent quality,Storage good but don't know how to Activate warantee??,Good for use,5 stas nahi diya kyuki capacity 477gb hi rahta hai,Speed not as advertise,Good one,It's ok</td></tr><tr><td>Good product,using this product 8months It is done  I have not faced any problem so far, its build quality best,I really liked this one.,Very strong and support fast charging ,,Nice cable,Best data cable charging fast,Good job,Good but need some improvement</td></tr><tr><td>Good product,using this product 8months It is done  I have not faced any problem so far, its build quality best,I really liked this one.,Very strong and support fast charging ,,Nice cable,Best data cable charging fast,Good job,Good but need some improvement</td></tr><tr><td>Good product,using this product 8months It is done  I have not faced any problem so far, its build quality best,I really liked this one.,Very strong and support fast charging ,,Nice cable,Best data cable charging fast,Good job,Good but need some improvement</td></tr><tr><td>Good,Sound is very low another brand comparing in better,Service provider not meet my home refuse, tv i am not using bad service,Good product,Ok super,Floor stand does not come with it ...,Good,A budget friendly TV with a clumsy UI and Remote</td></tr><tr><td>Good,Sound is very low another brand comparing in better,Service provider not meet my home refuse, tv i am not using bad service,Good product,Ok super,Floor stand does not come with it ...,Good,A budget friendly TV with a clumsy UI and Remote</td></tr><tr><td>Good,Sound is very low another brand comparing in better,Service provider not meet my home refuse, tv i am not using bad service,Good product,Ok super,Floor stand does not come with it ...,Good,A budget friendly TV with a clumsy UI and Remote</td></tr><tr><td>Good for monitors and light weight TVs,Good adherness but adjustment screw is weak to adhere screen properly,Good,Quality is good,Good product, but has a fault,Space saver,DIY install a bit difficult,Very strong and sturdy</td></tr><tr><td>Totally worth rs99,Best,Valuable,Good,Fulfil purpose, easy to carry,Good product,Good product,Good</td></tr><tr><td>Worth buying it.,Nice,Good product,Good,Logitech is the best there - problem with the sroller,Very good product,Value for money product,Good quality</td></tr><tr><td>An unbiased look at the Kodak TV,Sound good,It's really worthy and the most affordable,Not bad!!!,a value TV for the price,Good in all respect,Kodak tv,Smart tv</td></tr><tr><td>Good product,Working,Something is better than nothing,Average,Good,good product,Good work,Good</td></tr><tr><td>Cheap product and same is the performance but does the job,Good,No Box!!!,Good,Value for money,A very good quality cable with rubust built, and it does the work.,Value money,Good product.</td></tr><tr><td>Cheap product and same is the performance but does the job,Good,No Box!!!,Good,Value for money,A very good quality cable with rubust built, and it does the work.,Value money,Good product.</td></tr><tr><td>Cheap product and same is the performance but does the job,Good,No Box!!!,Good,Value for money,A very good quality cable with rubust built, and it does the work.,Value money,Good product.</td></tr><tr><td>Product is very good , but delivery was not quite good,Overall good.,Average to good,Stability should have been better.,Price could be less,Best product in this price.,Mast,Value for money</td></tr><tr><td>Good,Good product,Small things looka zoomed out,GOOD PRODUCT,Good product,Good quality product,Little gap to hold the mobile. Struggling every time to keep the mobile in.,Excellent product</td></tr><tr><td>It is the best tv if you are getting it in 10-12k,Good price but the OS lags,GARBAGE QUALITY,Good product.,Good quality,Great experience everything is fantastic 🤠,Super picture quality and sound quality,Awesome</td></tr><tr><td>It is the best tv if you are getting it in 10-12k,Good price but the OS lags,GARBAGE QUALITY,Good product.,Good quality,Great experience everything is fantastic 🤠,Super picture quality and sound quality,Awesome</td></tr><tr><td>It is the best tv if you are getting it in 10-12k,Good price but the OS lags,GARBAGE QUALITY,Good product.,Good quality,Great experience everything is fantastic 🤠,Super picture quality and sound quality,Awesome</td></tr><tr><td>It is the best tv if you are getting it in 10-12k,Good price but the OS lags,GARBAGE QUALITY,Good product.,Good quality,Great experience everything is fantastic 🤠,Super picture quality and sound quality,Awesome</td></tr><tr><td>It is the best tv if you are getting it in 10-12k,Good price but the OS lags,GARBAGE QUALITY,Good product.,Good quality,Great experience everything is fantastic 🤠,Super picture quality and sound quality,Awesome</td></tr><tr><td>Big Bubble dont go away,Perfect tempered glass in given price,Nice,Overall good but difficult to install,Good quality and great price,Best Tempered Glass👌🏻,Good quality,Best tempered glass used till date</td></tr><tr><td>It is the best tv if you are getting it in 10-12k,Good price but the OS lags,GARBAGE QUALITY,Good product.,Good quality,Great experience everything is fantastic 🤠,Super picture quality and sound quality,Awesome</td></tr><tr><td>It is the best tv if you are getting it in 10-12k,Good price but the OS lags,GARBAGE QUALITY,Good product.,Good quality,Great experience everything is fantastic 🤠,Super picture quality and sound quality,Awesome</td></tr><tr><td>It is the best tv if you are getting it in 10-12k,Good price but the OS lags,GARBAGE QUALITY,Good product.,Good quality,Great experience everything is fantastic 🤠,Super picture quality and sound quality,Awesome</td></tr><tr><td>It is the best tv if you are getting it in 10-12k,Good price but the OS lags,GARBAGE QUALITY,Good product.,Good quality,Great experience everything is fantastic 🤠,Super picture quality and sound quality,Awesome</td></tr><tr><td>It is the best tv if you are getting it in 10-12k,Good price but the OS lags,GARBAGE QUALITY,Good product.,Good quality,Great experience everything is fantastic 🤠,Super picture quality and sound quality,Awesome</td></tr><tr><td>Decent product. Value for money.,Value for money,Improvements Needed,Everything thing good except the installation experience,Overall taking all aspects TV is good within the price point,Tv installation services,One among the good TVs in the market.,Picture</td></tr><tr><td>Decent product. Value for money.,Value for money,Improvements Needed,Everything thing good except the installation experience,Overall taking all aspects TV is good within the price point,Tv installation services,One among the good TVs in the market.,Picture</td></tr><tr><td>Good only for Charging,Well it's a great cable you can trust on,Another quality product from Belkin & Amazon,60W support not clear,Become a belkin fan,Happy with performance,The only competitor to original cables,good</td></tr><tr><td>Very good quality.,Nice product,Not a fast charger....,nice,A Good Type C adapter,Nice product,Value for money and easy to use.,Good</td></tr><tr><td>Very good quality.,Nice product,Not a fast charger....,nice,A Good Type C adapter,Nice product,Value for money and easy to use.,Good</td></tr><tr><td>Handsfree!,Recommended,Good product,It's heavy and stable.Good product but can't change as given in photo.,Good and Sturdy Smartphone Stand,Good and Sturdy,Ok,good</td></tr><tr><td>Good, Value for Money,Picture quality was nice....over all product nice,Till today everything okay,Y,Good,Outstanding Performance,Must buy,Value for money</td></tr><tr><td>Some improvement required,Not best for tracking sleep, calories burnt of heart rate.,Noise,Noise watch is good,NOISE,DOes everything well so far,Noises,Bluetooth calling</td></tr><tr><td>It's super,Value of money 💰,Display and build,Good Sound and pictures,Good product 👍,Good and smart tv for reasonable rate,Good for low budget,Good</td></tr><tr><td>Premium looking watch,Excellent Product,The Tracking and touch would be better,Bluetooth connectivity,Very good,The watch is good,Felt Good,Not bad</td></tr><tr><td>Premium looking watch,Excellent Product,The Tracking and touch would be better,Bluetooth connectivity,Very good,The watch is good,Felt Good,Not bad</td></tr><tr><td>Premium looking watch,Excellent Product,The Tracking and touch would be better,Bluetooth connectivity,Very good,The watch is good,Felt Good,Not bad</td></tr><tr><td>Premium looking watch,Excellent Product,The Tracking and touch would be better,Bluetooth connectivity,Very good,The watch is good,Felt Good,Not bad</td></tr><tr><td>Firestick plugging in issue, otherwise a good deal,Cheap & Best Product,Low budget led tv,Nice tv,Very. Good,Why is the installation guy asking for installation charge?,Good Budget Tv,Good TV but after using it for 9 days, has found a flaw</td></tr><tr><td>Firestick plugging in issue, otherwise a good deal,Cheap & Best Product,Low budget led tv,Nice tv,Very. Good,Why is the installation guy asking for installation charge?,Good Budget Tv,Good TV but after using it for 9 days, has found a flaw</td></tr><tr><td>Thank you,Satisfying product,Keeps disconnecting,Very nice product essy to use,Very nice,Nice and compatible product,Good,Solid product hai</td></tr><tr><td>Value for Money,As usual,Good,Best deal,Very reasonable,Great n cheap,Awesome,Not for camera</td></tr><tr><td>TV looks fine, however I see some lag while selecting the applications,Best TV in the Price range,Good for value,Good build quality,I am satisfied it's service till now if this will continue then it is very good,Affordable price for all,Very good tv,It's good</td></tr><tr><td>Good Looking Sturdy cover,Perfect fit for 14 pro max,Excellent fit and value for money must buy if using non mag charger,Excellent,Over priced,Awesome,Worth the money,Quality product</td></tr><tr><td>Wow,Good,Nice product with some issues with the battery port,Worthy,Good product,Ok but large size,Value for money,3 years warrenty vs 1 year</td></tr><tr><td>Worth the money spent,Nice product also the sterdiness good as expected.,Not the correct charger for Samsung S9,Nice product,Superb,Doubts on fast charging,One time purchase,Good Product</td></tr><tr><td>Worth the money spent,Nice product also the sterdiness good as expected.,Not the correct charger for Samsung S9,Nice product,Superb,Doubts on fast charging,One time purchase,Good Product</td></tr><tr><td>Cable is working properly,Sturdy,Ok,Its very slow in terms of speed,Good Cable,Plug fits little tight, but does the job fine,Good product,GOOD</td></tr><tr><td>Valume for money,Can’t turn off HDR in webOS while watching android apps,Webos, Magic remote & LG like UI at 19k,Satisfied,Good,Value for money,Exchange Offer AND Extended Warranty of 2 Yrsnot been Given,Overall a good product and Value for money</td></tr><tr><td>7-8/10, Decent, good for day to day use,Good choice under budget of Rs2000,Average product.,Budget friendly,Overall it's a good watch,Good product,Best in design, accuracy and looks fancy. A must buy for every person who is watch enthusiast.,Having a great experience</td></tr><tr><td>7-8/10, Decent, good for day to day use,Good choice under budget of Rs2000,Average product.,Budget friendly,Overall it's a good watch,Good product,Best in design, accuracy and looks fancy. A must buy for every person who is watch enthusiast.,Having a great experience</td></tr><tr><td>7-8/10, Decent, good for day to day use,Good choice under budget of Rs2000,Average product.,Budget friendly,Overall it's a good watch,Good product,Best in design, accuracy and looks fancy. A must buy for every person who is watch enthusiast.,Having a great experience</td></tr><tr><td>7-8/10, Decent, good for day to day use,Good choice under budget of Rs2000,Average product.,Budget friendly,Overall it's a good watch,Good product,Best in design, accuracy and looks fancy. A must buy for every person who is watch enthusiast.,Having a great experience</td></tr><tr><td>Above average phone,Worth For The Money 💰,Okie,Phone is excellent,Purchased in good budget at 12k,It can fulfill basic needs in affordable price range,Nice,About features</td></tr><tr><td>Above average phone,Worth For The Money 💰,Okie,Phone is excellent,Purchased in good budget at 12k,It can fulfill basic needs in affordable price range,Nice,About features</td></tr><tr><td>Above average phone,Worth For The Money 💰,Okie,Phone is excellent,Purchased in good budget at 12k,It can fulfill basic needs in affordable price range,Nice,About features</td></tr><tr><td>Above average phone,Worth For The Money 💰,Okie,Phone is excellent,Purchased in good budget at 12k,It can fulfill basic needs in affordable price range,Nice,About features</td></tr><tr><td>Above average phone,Worth For The Money 💰,Okie,Phone is excellent,Purchased in good budget at 12k,It can fulfill basic needs in affordable price range,Nice,About features</td></tr><tr><td>Above average phone,Worth For The Money 💰,Okie,Phone is excellent,Purchased in good budget at 12k,It can fulfill basic needs in affordable price range,Nice,About features</td></tr><tr><td>Satisfied,Charging is really fast,Value for money,Product review,Good quality,Good product,Good Product,As of now seems good</td></tr><tr><td>Satisfied,Charging is really fast,Value for money,Product review,Good quality,Good product,Good Product,As of now seems good</td></tr><tr><td>Satisfied,Charging is really fast,Value for money,Product review,Good quality,Good product,Good Product,As of now seems good</td></tr><tr><td>Satisfied,Charging is really fast,Value for money,Product review,Good quality,Good product,Good Product,As of now seems good</td></tr><tr><td>Satisfied,Charging is really fast,Value for money,Product review,Good quality,Good product,Good Product,As of now seems good</td></tr><tr><td>Satisfied,Charging is really fast,Value for money,Product review,Good quality,Good product,Good Product,As of now seems good</td></tr><tr><td>Satisfied,Charging is really fast,Value for money,Product review,Good quality,Good product,Good Product,As of now seems good</td></tr><tr><td>Satisfied,Charging is really fast,Value for money,Product review,Good quality,Good product,Good Product,As of now seems good</td></tr><tr><td>Fast, but heats up and throttles...,Its a Useful One.,Good product at this price range,It's looking good and fast,Storage issue,Worth,Good,Very good</td></tr><tr><td>Very good quality.,Nice product,Not a fast charger....,nice,A Good Type C adapter,Nice product,Value for money and easy to use.,Good</td></tr><tr><td>Very good quality.,Nice product,Not a fast charger....,nice,A Good Type C adapter,Nice product,Value for money and easy to use.,Good</td></tr><tr><td>Great Product,Very good and working very nice,Horrible user experience on account of poor hardware,Not worthy. Laggy sometimes</td></tr><tr><td>Got less storage.,Good deal,Looking is fake product... Storage capacity 58gb.. Menstion64gb.,A nice gadget.,Nice and good,Trusted brand,with adapter!,I liked it's performance and quality.,Good quality</td></tr><tr><td>I have been using this phone since 2month it's very good on problem,Nice products,nice product,I am giving  9 out of 10.,Ek dam mst,Tecno Spark 8T,Gud,Lag</td></tr><tr><td>Good,QUALITY IS GOOD,Value for money product,Very nice,Not supporting for CarPlay,Good,1 month review,strong enough</td></tr><tr><td>Super,Excellent structural rigidity,Durable and classy,Sturdy. Good quality,Good quality and durable.,Best,Good,Tough built quality and smooth movement of zip</td></tr><tr><td>Sumit Nath,For the price, it is a good purchase but can be better,Happy with product...,It's really smart with elegant design,Amazing,Noise,All good,Good</td></tr><tr><td>Sumit Nath,For the price, it is a good purchase but can be better,Happy with product...,It's really smart with elegant design,Amazing,Noise,All good,Good</td></tr><tr><td>Good,Genuine product,Not first charge this cabil,,Nice cable but known durability,Got a used type c to c cable and the xable was damaged,The product is Genuine and Good,Abdul kadir,Good</td></tr><tr><td>Good,Genuine product,Not first charge this cabil,,Nice cable but known durability,Got a used type c to c cable and the xable was damaged,The product is Genuine and Good,Abdul kadir,Good</td></tr><tr><td>Good,Superb quality,Good products  nice one,Working well with iphone11.,I always rely on this companys products , so very good. Thank you so much</td></tr><tr><td>Good,Good Quality,Amazing,Wire cost,Quality and performance is excellent.,Really Impressive,Good and cheap!,GOOD ONE</td></tr><tr><td>Does its Job fine,Working perfect,working fine,Disappointed,Does the job.,Nice product with good quality,Good product,Nice Product</td></tr><tr><td>Good ptoduct,Overall good product,, and good choice,, ☺️,Cable is short,Good,All channel  view nice,Very fast and good service,Ok,The product was 🙌</td></tr><tr><td>Good for charging and Data transfer,ਮਜ਼ਬੂਤ,Good Quality but less Power Delivery,Fantastic!,Good,Not useful,Doesn't fit properly,Can't support Oppo mobile for fast charging</td></tr><tr><td>Good product,Good,  work fine,Thickness of cable to be reduced.,Morho,This product is very good.,original product,USB ke pass or mjbuti Dena chahiye,Good product</td></tr><tr><td>Sturdy key-board for office use,Smooth keyboard,Good one,Low budget but good product,Good,Good product,Good,good</td></tr><tr><td>Easy to install but a bit slippery,Very good product, value for money,Expensive but for a reason,Best Screen Protector!,Best tempered glass to buy for your mobile,Clarity and adhesion is good,Perfect product,Great product and genuinely easy to install</td></tr><tr><td>Good product,Affordable,Good,Reding speed is only under 22mb/s,Good product 👍,good,Good product and value for money,All about it is very good product in suitable price.</td></tr><tr><td>Value for Money,Good product,Great excellent picture quality,value for money,Worth for the money,Good,100% Value for money,Value for money</td></tr><tr><td>Used for 10 months,Quality is good,Good Aftersale Service,Super fast charging suppurt,Superb Quality and value for money,Good small cable,Nice,Highly recommended</td></tr><tr><td>Used for 10 months,Quality is good,Good Aftersale Service,Super fast charging suppurt,Superb Quality and value for money,Good small cable,Nice,Highly recommended</td></tr><tr><td>Good for fast charge but not for data transfer,Good cable compares to local the brand.,good but doesnt last,Good product,Good Product,Good and worth it,very good material quality charging speed is 15 watt,Not a fast charger</td></tr><tr><td>Good for fast charge but not for data transfer,Good cable compares to local the brand.,good but doesnt last,Good product,Good Product,Good and worth it,very good material quality charging speed is 15 watt,Not a fast charger</td></tr><tr><td>Good for fast charge but not for data transfer,Good cable compares to local the brand.,good but doesnt last,Good product,Good Product,Good and worth it,very good material quality charging speed is 15 watt,Not a fast charger</td></tr><tr><td>Authentic review,Overall it's a good headset.,Not for me,Nice product,Best,Amazing product,It's a wonderful boat product,Good Product of boAt</td></tr><tr><td>Works as advertised,Good product,good,The Product works as described and is super useful,Not good range,Goog item,Does increases range and speed of Internet,ONE TIME INVESTMENT</td></tr><tr><td>Nice cover,Good quality,Dealfreez Full Wrap Silicone Remote Cover Case is an excellent product,Remote Cover,Loved it!,Soft,Best product for the price,Look's good</td></tr><tr><td>Very sturdy and convenient.,Good product,Very,Find summed up review below,Very Useful 🙂👍,Great product,Good product,Works well enough, it isn’t really stable and tend to vibrate</td></tr><tr><td>IFalcon 32inch smart TV,It's good,Good in Smart TV,Better,Smart android tv,Value for money,Meet expectations,Nice product .</td></tr><tr><td>Product installation was excellent  but delivery staff pathetic👌,TV Picture quality is good.,TV Picture quality is good,Very nice,Great picture and sound quality,One of the best big screen TV,Service is not good,Nice TV</td></tr><tr><td>AmazonBasics Product,Good,Very good,Value for money product,Nice product quantity is nice connective is fast,Product,Good Quality Product,Never thought it be would this good!!</td></tr><tr><td>Good Built Quality Product.,Good quality cable,Useful product but plz check the output ports in ur tV,Nice product,Good,Very good,Good Quality,Best ever</td></tr><tr><td>Really a Good Buy in this price range in 2022,Expected better Battery,Over-all a very balanced product.,Poor Battery life,Good,Temper glasses not istalle properly,It's 8 gb not working like 12gb,Apart from battery and sound quality, everything else is good.</td></tr><tr><td>Really a Good Buy in this price range in 2022,Expected better Battery,Over-all a very balanced product.,Poor Battery life,Good,Temper glasses not istalle properly,It's 8 gb not working like 12gb,Apart from battery and sound quality, everything else is good.</td></tr><tr><td>Really a Good Buy in this price range in 2022,Expected better Battery,Over-all a very balanced product.,Poor Battery life,Good,Temper glasses not istalle properly,It's 8 gb not working like 12gb,Apart from battery and sound quality, everything else is good.</td></tr><tr><td>The quality is surprisingly good! Happy with the purchase!!!,Perfect,Good,Good product! Original stuff with exp date 2024-05! Worth the money!,Could get used to it,Good,This product should not be played with fiddle with it or or open it roughly,Cool</td></tr><tr><td>Good,Good,Worth buying and easy to use,Good,Great product for Ipad Pro,Super,It was good to use and also its fasttt.,Best</td></tr><tr><td>Best value for money,HEAD PHONE POUCH NOT RECEIVED,Overall good in this pricerange,It's not working in my Phone properly Plz help me in exchange or return, I ll be thankful to you,Worth the money 🤑,Best,Nice sound,Wonderful product</td></tr><tr><td>Best value for money,HEAD PHONE POUCH NOT RECEIVED,Overall good in this pricerange,It's not working in my Phone properly Plz help me in exchange or return, I ll be thankful to you,Worth the money 🤑,Best,Nice sound,Wonderful product</td></tr><tr><td>Best value for money,HEAD PHONE POUCH NOT RECEIVED,Overall good in this pricerange,It's not working in my Phone properly Plz help me in exchange or return, I ll be thankful to you,Worth the money 🤑,Best,Nice sound,Wonderful product</td></tr><tr><td>Small, not too heavy, good looking.,Quality of material,Nice product,Good,One of the Best Mouse for the price,Good holding good dpi easy to use,Value for money,Nice mouse</td></tr><tr><td>It's quite good and value for money,Works well,Hdmi cable,Value for money,All good,Gets the job done,Delivery was good,This one was my need to purchase</td></tr><tr><td>It's quite good and value for money,Works well,Hdmi cable,Value for money,All good,Gets the job done,Delivery was good,This one was my need to purchase</td></tr><tr><td>It's quite good and value for money,Works well,Hdmi cable,Value for money,All good,Gets the job done,Delivery was good,This one was my need to purchase</td></tr><tr><td>It's quite good and value for money,Works well,Hdmi cable,Value for money,All good,Gets the job done,Delivery was good,This one was my need to purchase</td></tr><tr><td>Good one,Cannot set tha 90° vertical angle,Best,Nice to use,Avarage,Value for money.,IT DOES WHAT IT IS SUPPOSED TO,Good 👍</td></tr><tr><td>Good,gud,Hard disk,Good product,Serve the purpose,Seagate portable 1TB External Hard disc,Good,Good use</td></tr><tr><td>Worth the price, expecting good performance on extended use,According to this price is value for money Good product,Good budget calling smart watch.,Just Go For It,It's good product in this range,Very Good watch in this price Range,Good Product as per the price charged,Good in budget</td></tr><tr><td>Worth the price, expecting good performance on extended use,According to this price is value for money Good product,Good budget calling smart watch.,Just Go For It,It's good product in this range,Very Good watch in this price Range,Good Product as per the price charged,Good in budget</td></tr><tr><td>Good product at a affordable price point,Nice!,Very good n useful product..,Value for Money.!,It's great,Good 3 pin plug,Useful product,Works as expected.</td></tr><tr><td>Great but,Worked well for 6 six months that’s it,Compatible with Apple iPad 2nd generation and charging very well.,CABLE,The product is good but the phone gets disconnected at multiple occasions.,Not a fast charging cable,Good item. Value,Amazing product and value for money</td></tr><tr><td>Great but,Worked well for 6 six months that’s it,Compatible with Apple iPad 2nd generation and charging very well.,CABLE,The product is good but the phone gets disconnected at multiple occasions.,Not a fast charging cable,Good item. Value,Amazing product and value for money</td></tr><tr><td>Great but,Worked well for 6 six months that’s it,Compatible with Apple iPad 2nd generation and charging very well.,CABLE,The product is good but the phone gets disconnected at multiple occasions.,Not a fast charging cable,Good item. Value,Amazing product and value for money</td></tr><tr><td>Must Buy,Truly value for money at this price point get this type of quality charger cable.,Perfect fit for my Noise Colourfit NAV,Must try product,Product good,Good product,Value for money,Good product</td></tr><tr><td>Nice tv,Good product,Average,No operation button in television which is big irritate when the remote not working,Facing Sound/Audio Problem after 12 days of installation only - Please don't buy it,The after service is very good!,Good,........</td></tr><tr><td>Cover is Little loose for Fire remote cover,I ordered this for colour,Pricing,Nice Product,Overpriced but good quality.,Remote stops working after 3 months,Perfect fot,Perfect size for amazon firestick</td></tr><tr><td>Cover is Little loose for Fire remote cover,I ordered this for colour,Pricing,Nice Product,Overpriced but good quality.,Remote stops working after 3 months,Perfect fot,Perfect size for amazon firestick</td></tr><tr><td>Good,Good,Nice Product,Good looking 👌 good protection for remote control,It's a very good cover..I liked it.,Good,Expensive,Nice</td></tr><tr><td>Ok,Excellent product, must buy,Nice,Good product..i got this product rs 170,Good,Good Product. 5Meter cable. Purchase at 175.,Good product & service</td></tr><tr><td>As good as original,Decent,Good one for secondary use,Best quality,GOOD,Amazing product at a mind blowing price!,Nice Quality,Good product</td></tr><tr><td>As good as original,Decent,Good one for secondary use,Best quality,GOOD,Amazing product at a mind blowing price!,Nice Quality,Good product</td></tr><tr><td>As good as original,Decent,Good one for secondary use,Best quality,GOOD,Amazing product at a mind blowing price!,Nice Quality,Good product</td></tr><tr><td>Value for Money product.,Overall Tv is good,Good,Good performance so far… considering the price range,Received a defective piece,Nice,TV bundled with Google ecosystem gives a extra  boost,Good product</td></tr><tr><td>Best For It’s Money!🔥,Nice quality, but comes with a price!,Easiest to install,Easy to install,Worth every penny!,Worth it,Good but costly,Totally worth it</td></tr><tr><td>Great, best 4g phone for around 10,500Rs,Good midrange phone,SAMSUNG GALAXY M32 PRIME EDITION (Pros & Cons),Great Phone but slow performance.,Good one,Good phone,Jitters,Many issues in Samsung M series</td></tr><tr><td>Worthy and most affordable - Great TV,Good product,It's really worth the money but,Better product in this budget,Product review,nice tv,Best product,Budget friendly TV</td></tr><tr><td>Worthy and most affordable - Great TV,Good product,It's really worth the money but,Better product in this budget,Product review,nice tv,Best product,Budget friendly TV</td></tr><tr><td>Worthy and most affordable - Great TV,Good product,It's really worth the money but,Better product in this budget,Product review,nice tv,Best product,Budget friendly TV</td></tr><tr><td>Changing speed,Make it better,Superb Build Quality,Highly satisfied,Best Charging Cable Ever,Good value for money option,Cable quality,Nice</td></tr><tr><td>Changing speed,Make it better,Superb Build Quality,Highly satisfied,Best Charging Cable Ever,Good value for money option,Cable quality,Nice</td></tr><tr><td>Nice watch but some cons,Great device for the budget !! And amazing amazon service!!,Good watch in this price,Watch faces could have been better,Amoled Screen & Touch, Average Wrist Band.</td></tr><tr><td>Nice watch but some cons,Great device for the budget !! And amazing amazon service!!,Good watch in this price,Watch faces could have been better,Amoled Screen & Touch, Average Wrist Band.</td></tr><tr><td>Nice watch but some cons,Great device for the budget !! And amazing amazon service!!,Good watch in this price,Watch faces could have been better,Amoled Screen & Touch, Average Wrist Band.</td></tr><tr><td>Good.No Problem,Good Product,value for money purchase,Nice product,good product,Good,Ok ok product.,Go for it</td></tr><tr><td>The price should be less than 500, not a very great product.,Good earphones,Average,Good earphone,Good for common men.,Nice headphone,Good looks but bass is not good as aspected..,Nice product</td></tr><tr><td>Good product,Hdmi cable,Nice,Do buy without any doubt,Working as expected,Thanks Amazon for its premium choice,Good product,Works well and good quality</td></tr><tr><td>Works on linux for me. Get the model with antenna.,Does what it say but other brands available at lesser price,Easy Handle,Great product,Perfect working,Speed is perfect,Great Design, Build, Connectivity Range, Packaging and other features but no linux support since v2,Very good</td></tr><tr><td>Works on linux for me. Get the model with antenna.,Does what it say but other brands available at lesser price,Easy Handle,Great product,Perfect working,Speed is perfect,Great Design, Build, Connectivity Range, Packaging and other features but no linux support since v2,Very good</td></tr><tr><td>Works on linux for me. Get the model with antenna.,Does what it say but other brands available at lesser price,Easy Handle,Great product,Perfect working,Speed is perfect,Great Design, Build, Connectivity Range, Packaging and other features but no linux support since v2,Very good</td></tr><tr><td>Good tv and features in this budget.,Genuine products,Offers a lot of functionality for 32 inch,Best Buy under Rs. 16000/-,A perfect TV for your room,Super 👌 👍,Nice,It's amazing with this price 15.5K.</td></tr><tr><td>Good,Works with Samsung Fold 4 fast charge,Ok,Nice product,Great Cable for Charging,Charging problem seen a little bit,Best cable,A good contender for well known branded C2C cables.</td></tr><tr><td>Excellent Phone in the budget segment,Best value for money... But afraid of future MIUI updates.,Don't purchase it as camera phone 😤,Dependable & it's been a year.,Budget mobile,Good for basic use,Phone is nice , but software is not</td></tr><tr><td>Excellent Phone in the budget segment,Best value for money... But afraid of future MIUI updates.,Don't purchase it as camera phone 😤,Dependable & it's been a year.,Budget mobile,Good for basic use,Phone is nice , but software is not</td></tr><tr><td>Excellent Phone in the budget segment,Best value for money... But afraid of future MIUI updates.,Don't purchase it as camera phone 😤,Dependable & it's been a year.,Budget mobile,Good for basic use,Phone is nice , but software is not</td></tr><tr><td>Excellent Phone in the budget segment,Best value for money... But afraid of future MIUI updates.,Don't purchase it as camera phone 😤,Dependable & it's been a year.,Budget mobile,Good for basic use,Phone is nice , but software is not</td></tr><tr><td>Works well, but not for long,Good product,Good product,Good quality,Excellent.,Good,Average item,Try to improve</td></tr><tr><td>Works well, but not for long,Good product,Good product,Good quality,Excellent.,Good,Average item,Try to improve</td></tr><tr><td>Overall it's a good product for mobile charging.,Awesome 😎,Gud data cabel....,Very good USB C TO USB C Cable .The one does not entangle to develop fold leading to cracks and cuts,Best,Rigid and high quality,Super durable,Great i have been using for 6 month</td></tr><tr><td>Overall it's a good product for mobile charging.,Awesome 😎,Gud data cabel....,Very good USB C TO USB C Cable .The one does not entangle to develop fold leading to cracks and cuts,Best,Rigid and high quality,Super durable,Great i have been using for 6 month</td></tr><tr><td>Not bad,Good for engineers.,Good,its great !,Good,200,Good,Superb quality</td></tr><tr><td>Fitting issue,Perfect fit good quality product,good product,👌🏻Fit, 👍🏻cost wise, 👍🏻👍🏻material.,Wonderful product,Good for. New remote.,Nice product,Perfect for samsung frame series solar remote</td></tr><tr><td>Good product,using this product 8months It is done  I have not faced any problem so far, its build quality best,I really liked this one.,Very strong and support fast charging ,,Nice cable,Best data cable charging fast,Good job,Good but need some improvement</td></tr><tr><td>Good product,using this product 8months It is done  I have not faced any problem so far, its build quality best,I really liked this one.,Very strong and support fast charging ,,Nice cable,Best data cable charging fast,Good job,Good but need some improvement</td></tr><tr><td>Good product,using this product 8months It is done  I have not faced any problem so far, its build quality best,I really liked this one.,Very strong and support fast charging ,,Nice cable,Best data cable charging fast,Good job,Good but need some improvement</td></tr><tr><td>It's worth it,Very very nice product at this price.,Very good product,Good,Affordable,shouldnt keep it open for more than 15 minutes,Nice 👍 product...,Good quality</td></tr><tr><td>Decent Product at about right price.,Seems good.,Good Quality & Durable Powerbank in 1k range | Review,This is the second power bank from Ambrane India, i am happy,It’s heavy but good,Good product,Good power bank,The power is bulkier</td></tr><tr><td>Decent Product at about right price.,Seems good.,Good Quality & Durable Powerbank in 1k range | Review,This is the second power bank from Ambrane India, i am happy,It’s heavy but good,Good product,Good power bank,The power is bulkier</td></tr><tr><td>Very Good for Beginners,Light weight & sturdy,Product is good and light weight.,Excellent,Easy to use and light weight to carry,Superb tripod, I'm happy🙂,good product,Ok Good</td></tr><tr><td>Don't believe the other reviews,Awesome sound and clarity for like name JBL,Bass is ❤️,Quality,Excellent sound quality and bass,, gud battery life Best speaker for single room use,Sound is not protect,Good audio.,Not a significant upgrade from JBL Go</td></tr><tr><td>Cover is perfect size wise and it's exactly same as shown in picture.u can go for it.,Superb quality 👌,Price very high,Value for money,Perfect Snug Fit,Must buy,Nice,It's a good and solid fit</td></tr><tr><td>Good for charging and Data transfer,ਮਜ਼ਬੂਤ,Good Quality but less Power Delivery,Fantastic!,Good,Not useful,Doesn't fit properly,Boat ⛵ cables</td></tr><tr><td>Excellent solution for Sony TVs,Worth purchase,Very bad,Bad product,Remote,Good quality</td></tr><tr><td>Good,Amazing phone,Nice mobile ... But Amazon very low service.. every product,Value for money,Good prpduct,Good,Overal a good product,Best phone in this range</td></tr><tr><td>Good,Amazing phone,Nice mobile ... But Amazon very low service.. every product,Value for money,Good prpduct,Good,Overal a good product,Best phone in this range</td></tr><tr><td>Feature Wise OK at this Price But Sometimes call screen not come on the display of Watch,Problem with connection.,Good,Good watch,Worth ₹1799,Very nice product,Touch working smoothly.,Nice watch</td></tr><tr><td>Feature Wise OK at this Price But Sometimes call screen not come on the display of Watch,Problem with connection.,Good,Good watch,Worth ₹1799,Very nice product,Touch working smoothly.,Nice watch</td></tr><tr><td>It takes Forever - to transfer anything. Maybe I - misunderstood \"Ultra\" or somebody missed \"Ultra-Slow\" in the model tag line.,Comprehensive Review of Product, Company & Seller,Desigh and usage,Good purchase not best,Sd card,Good Quality product,Pendrive Quality to Aacchi H Par , Storage 64 Gb Ki jagah 61 Gb Hi Milta H 3Gb Kam Milta H,Good</td></tr><tr><td>Best one,Nice product,Nice Purchase,A nice TV,Good quality...i have a trust on TCL,Best survice,Good,value for money</td></tr><tr><td>WORTH BUY ! THE BEST,Good for the price.</td></tr><tr><td>You might be able to get away by using other usb too,Built well but there are flaws.,Good alternative for Apple cable,Good alternative,Best buy,Good,Value for Money,Works as advertised.</td></tr><tr><td>You might be able to get away by using other usb too,Built well but there are flaws.,Good alternative for Apple cable,Good alternative,Best buy,Good,Value for Money,Works as advertised.</td></tr><tr><td>Fine,Difference between this and a 15W is not that big,Original product,Fast charging👍,Good for Google Pixel 6a,Best a big charger as big as galaxy z flip 3,Great but little hot the mobile,Need to buy a wire seperately</td></tr><tr><td>good,Worth product,Good quality,Very good HDMI 2.1 cable,Best hdmi 2.1 cable 8k 60hz / 4k 120hz,Did not like the quality and when connected I see a red color picture,Value for money  must buy it for eArc</td></tr><tr><td>Works,Nice Product,Fast Charging as original,Good for data transfer,Average. Cost effective,Good quality,Great Product,Nice</td></tr><tr><td>Works,Nice Product,Fast Charging as original,Good for data transfer,Average. Cost effective,Good quality,Great Product,Nice</td></tr><tr><td>Works,Nice Product,Fast Charging as original,Good for data transfer,Average. Cost effective,Good quality,Great Product,Nice</td></tr><tr><td>Hisense Vivid 4K TV Initial Impressions,Picture quality,Best in class Audio & picture quality,Good products,Amazing,Good,Good product,Good size for small leaving room of 18'*9'6\" ,sound quality is also good for small leaving room.</td></tr><tr><td>Worst product wornout after 2 months,Good product,Awesome | great,Worth a buy,Best Product!,Great one compare to original cable,Worked for a month, the power supply isn't as mentioned.,Ehh bhut lambi haii</td></tr><tr><td>Go for it,Fast charging,Good product,Good,So Far So Good,Quality is good 👍 you can go for it ♥️,Excellent Product,Yup good in all over</td></tr><tr><td>Works perfect for connecting my Dslr to ipad & tethering. Seems like a durable cable,H,GOOD,USB,Supar,It's good,Very good cable,Okaysih</td></tr><tr><td>Good quality but not superb,Good,Good,Not working properly,Must buy,Authentic. Orignal. Excellent,Not so good,Worth every paisa</td></tr><tr><td>Concept is great but not at all value for money,Good product,You go for it,Perfect,Value for money but little bit expensive,Product is very useful, but very costly.,Nice but a little bit weak,100% satisfied 💐</td></tr><tr><td>Get it with bundled discounts.,Heating & Touch screen,Buy for normal usage. NOT FOR CAMERA,The phone is a good device and I am happy with the purchase.,Average quality.,Exlent mobile,Valueable buy,A GOOD AND AFFORDABLE PRODUCT</td></tr><tr><td>Get it with bundled discounts.,Heating & Touch screen,Buy for normal usage. NOT FOR CAMERA,The phone is a good device and I am happy with the purchase.,Average quality.,Exlent mobile,Valueable buy,A GOOD AND AFFORDABLE PRODUCT</td></tr><tr><td>Get it with bundled discounts.,Heating & Touch screen,Buy for normal usage. NOT FOR CAMERA,The phone is a good device and I am happy with the purchase.,Average quality.,Exlent mobile,Valueable buy,A GOOD AND AFFORDABLE PRODUCT</td></tr><tr><td>Good Stuff... Recommended!!!,Need better quality,एक मजबूत प्रोडक्ट है,Good,best buy of this cable,Best for,Tough,Nil</td></tr><tr><td>Good Stuff... Recommended!!!,Need better quality,एक मजबूत प्रोडक्ट है,Good,best buy of this cable,Best for,Tough,Nil</td></tr><tr><td>Excellent Product,Good,👍,Meets purpose,Nice battery,Good,Value for money,Works flawlessly</td></tr><tr><td>Value for money!! But don't expect Flagship quality.,Good,Good product,Good,God,Value for money,Nice product,Youtub is slow but all perform best</td></tr><tr><td>**UPDATE MARCH2021**Decent for a USB 2.0 Device but don't expect anything above SBC *FALSE*aptX,Works very well, for Linux too,Using it to connect with ps5 controller on pc, no issues !,Not bad,Nice product with some cons,Overall good product 👌,Okay if on tight budget,Nice</td></tr><tr><td>It's worth for money and satisfied.,Nice product,Not great but will do,Very good product I like this product.,Product is ok ok as it is too difficult to connect with phone or it not be able to with ios,Must buy,Good, watch was as expected,Good smart watch</td></tr><tr><td>Nad performance and no customer support. This model is not registered on zeb official web site,Good,Nice ✅,very good product in this price range. Look is beautiful, it's like a small pet.,A Good mouse to have while Playing Doom Eternal.,Over all good mouse for this price,Good,A good mouse</td></tr><tr><td>Love Amazon but lg is misleading,Amazing product,Worst service from LG,Good,Simply beautiful,Satisfied with the TV,Great deal,It is quite ok</td></tr><tr><td>Love Amazon but lg is misleading,Amazing product,Worst service from LG,Good,Simply beautiful,Satisfied with the TV,Great deal,It is quite ok</td></tr><tr><td>The first light  Is not working idk why,Pretty device,Good product,A GOOD INVESTMENT,Too bulky,This power bank full charge at 12 hour and I phone 12 will be 4 time full charged not 6 time,VERY GOOD PRODUCT.☆☆☆☆☆,Its too bulky and I would say not good for travelling</td></tr><tr><td>Noisy clicks - otherwise fine,nice one,Portronics \"An New Player in the Field\".,Good Built Quality & Smooth Experience,Good Pricing, Light Weight and Excellent Functionality,Effective Sleep Mode,good,Nice and comfortable</td></tr><tr><td>Ok product to buy,Better than any other power banks,👍,Nice product,Performance is OK,Very Slim & easy to carry,Decent product,GOAT</td></tr><tr><td>Ok product to buy,Better than any other power banks,👍,Nice product,Performance is OK,Very Slim & easy to carry,Decent product,GOAT</td></tr><tr><td>Ok product to buy,Better than any other power banks,👍,Nice product,Performance is OK,Very Slim & easy to carry,Decent product,GOAT</td></tr><tr><td>Best phone for below normal use,Good mobile for minimal usage , but technically highly worth,For simple use,Ok,Good quality product,Good unit,Good,Best Budget mobile</td></tr><tr><td>Best phone for below normal use,Good mobile for minimal usage , but technically highly worth,For simple use,Ok,Good quality product,Good unit,Good,Best Budget mobile</td></tr><tr><td>Best phone for below normal use,Good mobile for minimal usage , but technically highly worth,For simple use,Ok,Good quality product,Good unit,Good,Best Budget mobile</td></tr><tr><td>Best phone for below normal use,Good mobile for minimal usage , but technically highly worth,For simple use,Ok,Good quality product,Good unit,Good,Best Budget mobile</td></tr><tr><td>Good smart watch of the Year 2023,Value for money,Best product at the price group,Best smartwatch under Rs 4000,Amazing product under 3k,Best in segment smartwatch.,Need to update app,Worthy of money</td></tr><tr><td>Not same as original!,Good product,Original charger,Good,Good indeed,Good item,Authentic Samsung 25W type C fast charger,Good product</td></tr><tr><td>Really Satisfied with purchase.,DO NOT BELIEVE ANSWERS FOR QUESTIONS SAYING IT WORKS ON iPad Pro 10.5 inch (A1701),Does all the necessary stuff,No Double Tap Gesture,5 star product at this price,Very good product,Automatically off's itself,Value for money pen</td></tr><tr><td>Really Satisfied with purchase.,DO NOT BELIEVE ANSWERS FOR QUESTIONS SAYING IT WORKS ON iPad Pro 10.5 inch (A1701),Does all the necessary stuff,No Double Tap Gesture,5 star product at this price,Very good product,Automatically off's itself,Value for money pen</td></tr><tr><td>Speed is not as expected.,SanDisk Ultra 128 GB USB 3.0 Pen Drive,Good,Good,Nice product,Good but....,Nice but slow,some glich happening otherwise good</td></tr><tr><td>High price,Good quality,Go for it,3.0,Thank you Amazon,Awesome buy,Ok,Nice product</td></tr><tr><td>The rebel with a defect,Nice product,Really good product,Awesome charging backup 👍,Value for price,Value for money,Bluetooth service centre not available,good quality</td></tr><tr><td>Worth a Purchase. Good Quality product,Strong, Mutiple channel, Durable.. Worth it ...,Robust, Durable (Phone Holder is added but not mentioned in Product details),Really Liked It!,Mast h,Nice amazing product,IS GOOD BUT NOT RECEIVED MOBILE HOLDER AND THIS PRODUCT BUY ONLY VIDEO REIVIEW,very handy and build quality is good at this price point</td></tr><tr><td>It worked well for some days later it is not working , I want it to replace.,Extremely fine,Superb product,This is very decent, quality is super good!,Good,Awesome Product Quantity & Value For Money,Go for it..,Be(a)st in the market.</td></tr><tr><td>It worked well for some days later it is not working , I want it to replace.,Extremely fine,Superb product,This is very decent, quality is super good!,Good,Awesome Product Quantity & Value For Money,Go for it..,Be(a)st in the market.</td></tr><tr><td>Good Sound,Not bad,Best gaming earphone,Some what satisfied with the boat 242--- 4.5/5,Outstanding fantastic,Good purchase,Nice product,Good quality</td></tr><tr><td>Tiny helping hand,Good product,As a whole good product,It works,Used ,as of now satisfied with the product,beep sound while connected,Good product,USB to C adopter</td></tr><tr><td>Best(Branded) Budget TV,A high-quality 4k Smart TV from Samsung,Received Defective,Got Replacement,Nice product but,Tv is good,Best budget tv,Value for money. Samsung is always good,Value for money product</td></tr><tr><td>Best(Branded) Budget TV,A high-quality 4k Smart TV from Samsung,Received Defective,Got Replacement,Nice product but,Tv is good,Best budget tv,Value for money. Samsung is always good,Value for money product</td></tr><tr><td>Best(Branded) Budget TV,A high-quality 4k Smart TV from Samsung,Received Defective,Got Replacement,Nice product but,Tv is good,Best budget tv,Value for money. Samsung is always good,Value for money product</td></tr><tr><td>Best(Branded) Budget TV,A high-quality 4k Smart TV from Samsung,Received Defective,Got Replacement,Nice product but,Tv is good,Best budget tv,Value for money. Samsung is always good,Value for money product</td></tr><tr><td>No reasons to complain,Value for money,Nice,Works,Value for money,Go For It,Nice,It's fast charging good quality priduct</td></tr><tr><td>Good.,Low price & value for money,Value for money,As per price ,product is excellent 👌,The product is great but you might get scammed on Amazon,Very good 👍,Nice tv,Budget free</td></tr><tr><td>Best buy you will not regret,Fantastic product,Nice,Worth of money,It's working realy well and i am satisfied with the result,Good Earphones base and sound quality is good,Value for money,Very Good Product</td></tr><tr><td>Good Quality,Good one,Good,Decent buy,Value for money,Product worth buying,Lasted for 5 months,It fullfilled my expectations.. Looks awesome..</td></tr><tr><td>Got it for 280/309MRP in amazon sale,Easy Installation!,Original,Good,Orignal product,Ok,Excellent,Original</td></tr><tr><td>Good product,Value for money,Car charger,Good product,A good product- must have accessory for car,Good charger,Good,बहुत ही अच्छा चार्जर है</td></tr><tr><td>It's is working is super,one of the most good product,A good prduct.,Scroller,Fully satisfaction thank you so much,Usage is easy,Good product,Overall the mouse is good.</td></tr><tr><td>It's working perfectly for my mi stick,It's a genuine product,good items. value for money.,good,Good quality product,value for money,Nice picture quality,Good Product</td></tr><tr><td>Good 5g mobile,Overall good phone,The best phone in 2k22 I have purchased in 30sep,Works amazing and buttery smooth, design kinda boring though,Good,Overall good under this budget,not bad,Buy for normal daily use..</td></tr><tr><td>Good 5g mobile,Overall good phone,The best phone in 2k22 I have purchased in 30sep,Works amazing and buttery smooth, design kinda boring though,Good,Overall good under this budget,not bad,Buy for normal daily use..</td></tr><tr><td>Good 5g mobile,Overall good phone,The best phone in 2k22 I have purchased in 30sep,Works amazing and buttery smooth, design kinda boring though,Good,Overall good under this budget,not bad,Buy for normal daily use..</td></tr><tr><td>Good,Ok,Nice product in this range,1.Camera is not good. Not matching up to 13mp,Overall good,Good mobile at reasonable price !!,No Fingerprint reader,Too good</td></tr><tr><td>Some improvement required,Not best for tracking sleep, calories burnt of heart rate.,Noise,Noise watch is good,NOISE,Noises,Bluetooth calling,Noise</td></tr><tr><td>Works Good,Perfect replacement cell for trimmer,Wow,As they said in ad worth it,A good product,Fit for phillips trimmer.,Good,Good Product</td></tr><tr><td>Awesome Product,Good product,Good quality,Good but overpriced,Gud quality but expansive,Not bad,Ok,Worth product</td></tr><tr><td>Awesome Product,Good product,Good quality,Good but overpriced,Gud quality but expansive,Not bad,Ok,Worth product</td></tr><tr><td>Perfect cable for my use. Far better than the apple cable provided with my Ipad,Good buy,Good quality,Amazing build quality superb power full fast cable for my iPhone 11 pro,Good Product (Rated 5 star earlier but now reduced to 3 star as it stopped working within 6 months),Not so great,Good,Good product</td></tr><tr><td>Picture quality poor,Good,Very good product,Working fine till now,Good quality,Nice product,Nice picture quality,Nice sarvice</td></tr><tr><td>Works for LG 4K LED,Awesome product,Good copy Remote,This remote works!!! A relief!,Good replacement for the original remote control,Timely helped me for my TV,It will work(for me😊),Just works</td></tr><tr><td>Durable,Good Product,Okay 👌,So far so good,An absolute best,Good cable,Worth the money,Good for charging Not good for data transfer</td></tr><tr><td>Satisfied,Charging is really fast,Value for money,Product review,Good quality,Good product,Good Product,As of now seems good</td></tr><tr><td>Satisfied,Charging is really fast,Value for money,Product review,Good quality,Good product,Good Product,As of now seems good</td></tr><tr><td>Satisfied,Charging is really fast,Value for money,Product review,Good quality,Good product,Good Product,As of now seems good</td></tr><tr><td>Satisfied,Charging is really fast,Value for money,Product review,Good quality,Good product,Good Product,As of now seems good</td></tr><tr><td>Satisfied,Charging is really fast,Value for money,Product review,Good quality,Good product,Good Product,As of now seems good</td></tr><tr><td>Satisfied,Charging is really fast,Value for money,Product review,Good quality,Good product,Good Product,As of now seems good</td></tr><tr><td>Satisfied,Charging is really fast,Value for money,Product review,Good quality,Good product,Good Product,As of now seems good</td></tr><tr><td>Satisfied,Charging is really fast,Value for money,Product review,Good quality,Good product,Good Product,As of now seems good</td></tr><tr><td>Fast charging cable,Good product,Don't buy,Excellent design and Material quality,  Amazing Charging speed,it support's fast charging and also support android auto for car,Good type c cable in less price,Fast charging not support,NOT A FAST CHARGING CABLE</td></tr><tr><td>Longevity isn’t as long as I thought it would be,Good,Value for money,the expiry date and price covered by an external sticker. Can't make out anything,Good,Excellent customer service..,Good product,Good</td></tr><tr><td>Best for general use,Works well for basic usage,Good product in the budget,Ok product. Not so great.,Good,Good one to have,Great Product,Good.</td></tr><tr><td>A conditional beast,Overall satisfied but Wow factor is no missing,Honest one which might help.,Perfect one , You can buy</td></tr><tr><td>Reliability,Best non apple usb to lightning cable,Good,Good quality using since a year,Good,Very good product,Nice cable,Worth Your Money and best alternative</td></tr><tr><td>Worth the money,Good smart watch,the screen does not turn on and off on double tap, for that you have to press the button.,User friendly UI,Best Allrounder Budget SmartWatch Under 2K 🔥,This smart watch is awesome,Nice watch in budget,The step count is not that accurate but the call quality and other things are good</td></tr><tr><td>Worth the money,Good smart watch,the screen does not turn on and off on double tap, for that you have to press the button.,User friendly UI,Best Allrounder Budget SmartWatch Under 2K 🔥,This smart watch is awesome,Nice watch in budget,The step count is not that accurate but the call quality and other things are good</td></tr><tr><td>Worth the money,Good smart watch,the screen does not turn on and off on double tap, for that you have to press the button.,User friendly UI,Best Allrounder Budget SmartWatch Under 2K 🔥,This smart watch is awesome,Nice watch in budget,The step count is not that accurate but the call quality and other things are good</td></tr><tr><td>Worth the money,Good smart watch,the screen does not turn on and off on double tap, for that you have to press the button.,User friendly UI,Best Allrounder Budget SmartWatch Under 2K 🔥,This smart watch is awesome,Nice watch in budget,The step count is not that accurate but the call quality and other things are good</td></tr><tr><td>Worth the money,Good smart watch,the screen does not turn on and off on double tap, for that you have to press the button.,User friendly UI,Best Allrounder Budget SmartWatch Under 2K 🔥,This smart watch is awesome,Nice watch in budget,The step count is not that accurate but the call quality and other things are good</td></tr><tr><td>Good cable for car,Good substitute for orginal,Better Value for money Product,Way better than the original,Absolutely amazing.,Namm hi kafi hai,Very good,As the names say Durable cell it a durable cable ;-)</td></tr><tr><td>Good cable for car,Good substitute for orginal,Better Value for money Product,Way better than the original,Absolutely amazing.,Namm hi kafi hai,Very good,As the names say Durable cell it a durable cable ;-)</td></tr><tr><td>Good cable for car,Good substitute for orginal,Better Value for money Product,Way better than the original,Absolutely amazing.,Namm hi kafi hai,Very good,As the names say Durable cell it a durable cable ;-)</td></tr><tr><td>Data transfer not the best,Good cable for iphone,Working Good,Best quality,Fast charging,Genuine product,Nice product,Good</td></tr><tr><td>Solid and quality material,Good product, everything good to buy,Clear and Cristal clear sound,Good,Super,Value for money,Good cable but over priced,Decent quality and 4.6M long</td></tr><tr><td>Phone, camera, heating - works for me, may not for all,Good Mobile,Good but not excellent under this budget,Worth the price at 9499,Ok type phone... but unable to make videocall within same service provider.,Phone review,Budget king,Battery backup is good</td></tr><tr><td>Phone, camera, heating - works for me, may not for all,Good Mobile,Good but not excellent under this budget,Worth the price at 9499,Ok type phone... but unable to make videocall within same service provider.,Phone review,Budget king,Battery backup is good</td></tr><tr><td>Phone, camera, heating - works for me, may not for all,Good Mobile,Good but not excellent under this budget,Worth the price at 9499,Ok type phone... but unable to make videocall within same service provider.,Phone review,Budget king,Battery backup is good</td></tr><tr><td>Phone, camera, heating - works for me, may not for all,Good Mobile,Good but not excellent under this budget,Worth the price at 9499,Ok type phone... but unable to make videocall within same service provider.,Phone review,Budget king,Battery backup is good</td></tr><tr><td>Phone, camera, heating - works for me, may not for all,Good Mobile,Good but not excellent under this budget,Worth the price at 9499,Ok type phone... but unable to make videocall within same service provider.,Phone review,Budget king,Battery backup is good</td></tr><tr><td>Phone, camera, heating - works for me, may not for all,Good Mobile,Good but not excellent under this budget,Worth the price at 9499,Ok type phone... but unable to make videocall within same service provider.,Phone review,Budget king,Battery backup is good</td></tr><tr><td>Phone, camera, heating - works for me, may not for all,Good Mobile,Good but not excellent under this budget,Worth the price at 9499,Ok type phone... but unable to make videocall within same service provider.,Phone review,Budget king,Battery backup is good</td></tr><tr><td>Phone, camera, heating - works for me, may not for all,Good Mobile,Good but not excellent under this budget,Worth the price at 9499,Ok type phone... but unable to make videocall within same service provider.,Phone review,Budget king,Battery backup is good</td></tr><tr><td>Durability,Best one,Quality Product,Trustworthy Product,good,Good product in budget. Go for this adaptor,Good quality product,Good one working perfectly</td></tr><tr><td>Prompt service. Good quality,Product is good, but little over priced.,The best screen guard I’ve used in terms of ease of installation & product finish,Since there is no align master provided, it's nearly impossible to stick it in the right place.,Nice product and well priced,Great quality and 100% transparency,Good for the price,Excellent customer support with a perfect product</td></tr><tr><td>Good,I don’t like this product,Awesome product,Best cable for iphone xs .. works well with fast charging brick,Low quality pin but wire is fine,Excellent quality,Awesome quality and fast charging,Works fine</td></tr><tr><td>Good,I don’t like this product,Awesome product,Best cable for iphone xs .. works well with fast charging brick,Low quality pin but wire is fine,Excellent quality,Awesome quality and fast charging,Works fine</td></tr><tr><td>Boats are the best.,Just awesome,it is good in this range .....,Great product in the price range,Awesome product,Nice,Perfect,Quality</td></tr><tr><td>Perfect product,Better than the original cable,Better then original,Good,The Very Best,Works absolutely fine,Charging is very slow.,Best Product</td></tr><tr><td>Perfect product,Better than the original cable,Better then original,Good,The Very Best,Works absolutely fine,Charging is very slow.,Best Product</td></tr><tr><td>A Good Product overall and value for Money,Am not happy this product... Not completed installation... Am very dispointed this installation..,Tv not able to connect via bluetooth,Picture quality,Good tv on this price,Warranty mentioned 2 years but one year only show the card,Value for money!,Best Smart TV</td></tr><tr><td>Good pick for Galaxy Note 9,Durable and quality product,Best Cable for Android Auto,The cable I will always carry when I pack my stuff for a ride.,Good charging capacity and data transfers,I bought it for my bike,Excellent,👍</td></tr><tr><td>Good pick for Galaxy Note 9,Durable and quality product,Best Cable for Android Auto,The cable I will always carry when I pack my stuff for a ride.,Good charging capacity and data transfers,I bought it for my bike,Excellent,👍</td></tr><tr><td>Satisfied,Charging is really fast,Value for money,Product review,Good quality,Good product,Good Product,As of now seems good</td></tr><tr><td>Satisfied,Charging is really fast,Value for money,Product review,Good quality,Good product,Good Product,As of now seems good</td></tr><tr><td>Satisfied,Charging is really fast,Value for money,Product review,Good quality,Good product,Good Product,As of now seems good</td></tr><tr><td>Satisfied,Charging is really fast,Value for money,Product review,Good quality,Good product,Good Product,As of now seems good</td></tr><tr><td>Satisfied,Charging is really fast,Value for money,Product review,Good quality,Good product,Good Product,As of now seems good</td></tr><tr><td>Satisfied,Charging is really fast,Value for money,Product review,Good quality,Good product,Good Product,As of now seems good</td></tr><tr><td>Satisfied,Charging is really fast,Value for money,Product review,Good quality,Good product,Good Product,As of now seems good</td></tr><tr><td>Satisfied,Charging is really fast,Value for money,Product review,Good quality,Good product,Good Product,As of now seems good</td></tr><tr><td>Solid and stylish, but too tight in usb port, average performance.,Good product,Slow,It works everywhere except for car stereo,ONLY 57 GB,Good,Good,Nice pen drive</td></tr><tr><td>Good Sound,Not bad,Some what satisfied with the boat 242--- 4.5/5,Outstanding fantastic,Good purchase,Nice product,Good quality,Best gaming earphone</td></tr><tr><td>Sturdy,Super,Working good,Always go for quality,Not suitable for 4k,I do not want this product,Working well👍,Excellent one. Worth buying</td></tr><tr><td>Kodak tv,Kodak tv,Kodak tv,Very less features to control or configure picture, sound or other key features through remote.,Excellent,Kodak 32inh,Kodak tv,Good</td></tr><tr><td>Kodak tv,Kodak tv,Kodak tv,Very less features to control or configure picture, sound or other key features through remote.,Excellent,Kodak 32inh,Kodak tv,Good</td></tr><tr><td>Item is good.  No issues at all.,Charging is good but cable quality not good,Good,It does the job,Decent and durable fast charger,very nice  product,Working as expected.,best value for money</td></tr><tr><td>Very useful product - but hardware is not so sturdy,Great Customer Support,Overall a good Indian product.,Really good to help internet running during power cuts,Good product and effective customer support,Value for money,Does Not support 4 hours as per the description,No backup at all</td></tr><tr><td>LTE features (no other feature tested),Decent watch,Good not great,Great watch let down by battery life,Good fit, good apps,Wanted faster charging and better camera feed.,Mobile app Needs to be improved facing connectivity issues,Good</td></tr><tr><td>A nice & sturdy product.,Assembly,nyc hairdryee,Good,Fits perfectly!!,Not suitable for 50inch and above 😟,Worth buying,Worth</td></tr><tr><td>Best Budget watch,MERA WAQT BADAL KE RAKH DIYA!!,Nice product and user friendly compare to other smart watch,Nice watch...,Vikas,Nice,Not worth it,Grt</td></tr><tr><td>Best Budget watch,MERA WAQT BADAL KE RAKH DIYA!!,Nice product and user friendly compare to other smart watch,Nice watch...,Vikas,Nice,Not worth it,Grt</td></tr><tr><td>Awesome Product,Good product,Good quality,Good but overpriced,Gud quality but expansive,Not bad,Ok,Worth product</td></tr><tr><td>Awesome Product,Good product,Good quality,Good but overpriced,Gud quality but expansive,Not bad,Ok,Worth product</td></tr><tr><td>Superb,Reviewing after 3 months of use,Good braided cable.,The best cable. Very useful.,0k,Does The Job,superb  Product !!!,It's fast charging cable.</td></tr><tr><td>Quite firm and steady.,👍,good buy,Theft easy,Good product,Its work,Best in market,quality</td></tr><tr><td>Nice product,Size is not to big not to small,I liked it,Ok,Really good,Thinner but nice,Superb product as quality and comes at affordable price.,Costly mouse pad</td></tr><tr><td>Very nice and good product at this price,Nothing,Good product for the budget,It's Perfect! Must Buy!! 😊</td></tr><tr><td>Exchange of the cable,Go for it !!,It works and it is worth,Superab,Works Well and Durable,Very nice product.,Gud product,Stopped working in less than a month</td></tr><tr><td>Good product,Good product,Built and charge power,Nice product Happy to buy,Not recommended,Good quality but charge little slow,Stopped working within 6 months,Value for money</td></tr><tr><td>Worth of money,There is no 8 gb storage only 2.8 is there,Superb quality,Good product,Nice product for tcl android smart tv,TCL 32inch android tv good quality and rate,Nice smart Tv,Paisa vasul</td></tr><tr><td>Nice one,Nice 👍 I'm happy,Best buy in the reasonable price,Great product,product review MI charger!!,MI mobile charger,Top quality charger. Original MI brand. Do buy it if you need a B type charge,Good charger</td></tr><tr><td>Okay product,Descent product,Very Sturdy,Great protectione and design,Good Product !!,Excellent Case with Beauty,Awesome cover,Good quality</td></tr><tr><td>Cons that most youtubers won't tell you,It's good,Battery is normal,Good celphone,Nice phone,Phone is good at the price range,Affordable,Multi featured mobile at economical price.</td></tr><tr><td>Good monitor in this price range,My Best Buy in 2022,Average product for daily use. And some gaming.,its a good 1080 monitor,Nice product,price relaetd issue,Worth monitor this price,Decent monitor at this price with limitation</td></tr><tr><td>Good,Boss of premium note books 🏆,Didn't expected single binding!,Good purchase,Good Quality but paper could be thicker...,Worth the Money!,Good quality,Nice products</td></tr><tr><td>Long durable.,good,Does not charge Lenovo m8 tab,Best charging cable,good,Boat,Product was good,1.5 m का केबल मेरे लिए बहुत ही लाभदायक है ।</td></tr><tr><td>Long durable.,good,Does not charge Lenovo m8 tab,Best charging cable,good,Boat,Product was good,1.5 m का केबल मेरे लिए बहुत ही लाभदायक है ।</td></tr><tr><td>Long durable.,good,Does not charge Lenovo m8 tab,Best charging cable,good,Boat,Product was good,1.5 m का केबल मेरे लिए बहुत ही लाभदायक है ।</td></tr><tr><td>Real Monster 👽,Overall good,Good performance oriented phone,An all Rounder in the < 30k segment,All good, battery life could be better.,A good Phone with few disadvantages.,Value for Money product,❤️</td></tr><tr><td>Satisfactory,Superb88,Good hdmi cable for 1080p 60 fps,Hdmi cable received,Amazing Product!!! Liked it!!!,Good product,Best product for me.,I'll strongly recommend this product to others.</td></tr><tr><td>Good Product,Nice,Customer service support information not found on box.,Value for money,Good product,Nice 👍,Best the hdmi cable,Exactly as discribed, enchanced Quality</td></tr><tr><td>Very good power charger,Good and original item,Good and original,Power House !!,Good but not perfect,Best Charger,Value,Average</td></tr><tr><td>Sound quality,Very nice,Value for money,Good,Good for its price.,Good item,Budget friendly,Good</td></tr><tr><td>Sound quality,Very nice,Value for money,Good,Good for its price.,Good item,Budget friendly,Good</td></tr><tr><td>pocket friendly  smart watch for people who loves large  screen.,Value for money,Value for money product,My watch is not charging,Service,Good but it's not working now,GREAT PRODUCT....,Good product</td></tr><tr><td>pocket friendly  smart watch for people who loves large  screen.,Value for money,Value for money product,My watch is not charging,Service,Good but it's not working now,GREAT PRODUCT....,Good product</td></tr><tr><td>Ya Nice..value for money..,Overall decent Product,Great deal for 1200,Good but heats up a little and error issues,Fast and efficient loved it,Does the job,Very good,superb</td></tr><tr><td>This is best,It's okay for a naive user,Good for the price.,Good,Excellent Product. Easy to operates.,best features in phones which you dont find in apple like call recording,Good purchase at this price,Good</td></tr><tr><td>Easy to install,Best screen guard and the easiest to install!,Easy to install,Very easy to install and doesn't interfere with the case,Value for money,Good tempered glass,Value for money,Wonderfull wonderfull wonderfull</td></tr><tr><td>Good quality product and long lasting.,Ok,Really fast.,Yes good,Cable speed,Goid,Working fine,Just worth it</td></tr><tr><td>Best option in 35k category.,Terrific purchase,A highly priced smart phone.,Can't get better at this cost. Review after one month of use.,Oxygen OS is providing poor experience, overall device is okay.,Ammazing Product,Okay</td></tr><tr><td>Good but check the below mentioned things,Going to buy it again,Decent headphone,Good quality headphones,waste of money,Best product in this prize range. And the colour looks fabulous.,Size,After 1 year of usage</td></tr><tr><td>Good product,Is worth the money you are paying for it,Good quality cable,Go for it!,Nice product☑️,Good buy,You can trust Wayona,Quality product  , Life of product is good  .</td></tr><tr><td>Good product,Is worth the money you are paying for it,Good quality cable,Go for it!,Nice product☑️,Good buy,You can trust Wayona,Quality product  , Life of product is good  .</td></tr><tr><td>THE PERFECT PHONE – FOR MY REQUIREMENTS,Galaxy M33 5G a mixed bag of Affordability</td></tr><tr><td>THE PERFECT PHONE – FOR MY REQUIREMENTS,Galaxy M33 5G a mixed bag of Affordability</td></tr><tr><td>THE PERFECT PHONE – FOR MY REQUIREMENTS,Galaxy M33 5G a mixed bag of Affordability</td></tr><tr><td>Let's bust some myth,IQOO Neo 6 5G – A midrange model that offers virtually everything I want</td></tr><tr><td>Good quality but one defect,It fulfill its purpose,The laptop stand is good but could have been better with a grip in four sides!!,Height mentioned is wrong,Worth The Money, Good Quality, but wobbles only on bed,Damage in transportation,Good product.,Durability and easy to use</td></tr><tr><td>Osm,Very good build quality,supports fast charging,Worth the price.,Very nice,Quality,Durability King,Good quality at an affordable price.</td></tr><tr><td>Handy Mouse,Good quality mouse,Good one.,Good,Good cheap reliable,Gud quality mouse,Very comfortable,Quality + Less Price Makes it Best to buy.</td></tr><tr><td>Mediocre,Best in Budget and Beast in Quality,Best quality this product,Ear phone With Jack,Nice,good,Good sound quality,Value for money!</td></tr><tr><td>Nice ball pen,Good product,Average,Nice Pen,It's a good product,Smooth,It's writing like flowing silk.,good produced</td></tr><tr><td>Good 👍,Good,Cable length is ok , quality is not good . In this price it is ok,MFS 100 cable,Good Quality,Good product but cable thickness should be more,Quality is excellent,Super service</td></tr><tr><td>Value for Money,A good upgrade from stock cable.,GOOD CABLE,Value for the money,Great buy,Overall good,Awesome experience,Worked as expected</td></tr><tr><td>Value for Money,A good upgrade from stock cable.,GOOD CABLE,Value for the money,Great buy,Overall good,Awesome experience,Worked as expected</td></tr><tr><td>An Overall Good Product.,Great notebook, but..,Good,Awesome,Paper quality not nice,Very good copies,Design,Good product</td></tr><tr><td>Good quality screen protector,Well made basic screen protector,Good one,Good affordable tempered glass,Perfect for pixel 6a,Recommended,Perfect and budget screen guard for pixel 7,Okish</td></tr><tr><td>Perfect Value for money,Everything is great but you can increase battery backup,Worth the hype....simply good!,Ok product,I love tank so much . I bought it only before 10 days .i have charged it only once after buying .,Watch design is good,Overall Good Experience,Value for money.</td></tr><tr><td>BEST WITH BOAT & LG SMART TV,This product is overpriced,Good picture quality, sturdy,It worked when I connect with soundbar to the smart TV,Good 👍,Good quality product my solve screen onn off,Ok,This cable support HDMI arc, but each time we have to select port in TV</td></tr><tr><td>do not buy</td></tr><tr><td>Tv working good.,Value of money,Acer 32  Sound bar tv review,product is good but one lie by the seller (i.e. 16GB space),Cromecast not working in this smart TV.,Awesome clarity and sound,Awesome sound system like a sound bar picture quality is impressive and connected good,Budget friendly Smart TV</td></tr><tr><td>Tv working good.,Value of money,Acer 32  Sound bar tv review,product is good but one lie by the seller (i.e. 16GB space),Cromecast not working in this smart TV.,Awesome clarity and sound,Awesome sound system like a sound bar picture quality is impressive and connected good,Budget friendly Smart TV</td></tr><tr><td>Good Quality Product,Good Product,Good,Perfect HDMI coupler,Very Good Connector,Does the job,Product is good but not working with Fire tv stick.,Perfect</td></tr><tr><td>Great product if you don’t mind the edges,Recommended !!,Looks premium,Real value for money however I wish there would have been stronger adhesive,Its a genuine product,Precision!,Does the job perfectly,A perfect fit for iPhone 13 and has transparent edges too.</td></tr><tr><td>Best power bank on the market.,Small & Handy,Good Quality and functional and practical design,5v out put ravatam ledu 2or3v matrame vasthundi..,Good,Nice,Easy to carry,It is really good</td></tr><tr><td>Good phone , little expensive,Buyers Beware,I bought this mobile at 18k, worth on that price.,satisfied with the product,Single led flash light,Good product,Good not Excellent.,Good one</td></tr><tr><td>Good phone , little expensive,Buyers Beware,I bought this mobile at 18k, worth on that price.,satisfied with the product,Single led flash light,Good product,Good not Excellent.,Good one</td></tr><tr><td>Good phone , little expensive,Buyers Beware,I bought this mobile at 18k, worth on that price.,satisfied with the product,Single led flash light,Good product,Good not Excellent.,Good one</td></tr><tr><td>Fantastic Ultra High Speed HDMI cable,Amazing product,Regarding cable</td></tr><tr><td>Looks more durable,cheap n best,Good length and charging speed.,Works,Works like a charm,stopped working,Good,Excellent Product</td></tr><tr><td>Very fine product..,Good,Worth the money,Does what it says,Value for money product but brush is not good.,Easy to use,Good product,Worthable</td></tr><tr><td>Firestick plugging in issue, otherwise a good deal,Cheap & Best Product,Low budget led tv,Nice tv,Very. Good,Why is the installation guy asking for installation charge?,Good Budget Tv,Good TV but after using it for 9 days, has found a flaw</td></tr><tr><td>Firestick plugging in issue, otherwise a good deal,Cheap & Best Product,Low budget led tv,Nice tv,Very. Good,Why is the installation guy asking for installation charge?,Good Budget Tv,Good TV but after using it for 9 days, has found a flaw</td></tr><tr><td>NOt worth the money,Good budget smart watch with Alexa,👍,Good product,I don't have flashlight function and speaker is not working,Nice,It's little cost,Wach not working</td></tr><tr><td>NOt worth the money,Good budget smart watch with Alexa,👍,Good product,I don't have flashlight function and speaker is not working,Nice,It's little cost,Wach not working</td></tr><tr><td>Sensors burnt my wrist upon wearing overnight,Worst to buy,👍👍,It's  good,Low battery life and it's okay to buy,Superb 😘,Good,Good product</td></tr><tr><td>It's OK,Useful product,All peices arrived,Good product 👍,very nice quality and durable,Seems to be made of recycled material, serves the purpose,Worth to buy!,Terrific purchase</td></tr><tr><td>Good device and makes your laptop to utilize maximum wifi speed.,Good Product, worth of buying,Best to recieve 5g or fiber speed,Good,This is really a good Wifi-Adpater and a life saver,Wifi 5 speeds are amazing!,Booster speed,Best Product to Buy</td></tr><tr><td>It's super,Value of money 💰,Display and build,Good Sound and pictures,Good product 👍,Good and smart tv for reasonable rate,Good for low budget,Tv is good but after 3  month my tv screen gone</td></tr><tr><td>Best,Good,Fast Charging works better than original cable!!,Durable cable,Low performance compare to original data cable,Great!,Good product,Fast charging and length is 3 meters above</td></tr><tr><td>Awsome quality,Nice item,Better Display Port Cable,Works! GTX1650 Super, DELL 2520D (MST),Value for money,Not Vesa certified cable.,YOU CAN BUY IT UNDOUBTEDLY.,Check Display settings as soon as you install this cable.</td></tr><tr><td>Great pendrive,Value for money,Good,Kaafi slow hai, heating issue bhi hai,Good and fast drive,It is best pendrive at this prize.,Satisfactory with a bit heating issue.,Average</td></tr><tr><td>Worth for money - suitable for Android auto,Good Product,Length,Nice,Original,Very good quay Cable support fast charging.,Original MI cable for charging upto 33 watt,I am veri happy with this product as it provide turbo charging.</td></tr><tr><td>Worth for money - suitable for Android auto,Good Product,Length,Nice,Original,Very good quay Cable support fast charging.,Original MI cable for charging upto 33 watt,I am veri happy with this product as it provide turbo charging.</td></tr><tr><td>Worth for money - suitable for Android auto,Good Product,Length,Nice,Original,Very good quay Cable support fast charging.,Original MI cable for charging upto 33 watt,I am veri happy with this product as it provide turbo charging.</td></tr><tr><td>Worth for money - suitable for Android auto,Good Product,Length,Nice,Original,Very good quay Cable support fast charging.,Original MI cable for charging upto 33 watt,I am veri happy with this product as it provide turbo charging.</td></tr><tr><td>Good deal,Looking is fake product... Storage capacity 58gb.. Menstion64gb.,A nice gadget.,Nice and good,Trusted brand,with adapter!,I liked it's performance and quality.,Good quality,Worth it</td></tr><tr><td>Good deal,Looking is fake product... Storage capacity 58gb.. Menstion64gb.,A nice gadget.,Nice and good,Trusted brand,with adapter!,I liked it's performance and quality.,Good quality,Worth it</td></tr><tr><td>Very good.,Good one. Worth Buy.,Wonderful,Amazon USB C to Micro USB : It works,Good,Laptop with only USB C ports? Buy this cable.,A must buy accessory for all MacBook M1 owners,Good quality usb c to usb b adapter cable 8 inch</td></tr><tr><td>Product life ia short,Good,Waste,Value for money,Very nice product at a reasonable price. Value for money.,Good replacement cable at this price,Worst cable. Not working even after replacement. Dont buy guys Manufactured in China.,Not working</td></tr></tbody></table></div>"
      ]
     },
     "metadata": {
      "application/vnd.databricks.v1+output": {
       "addedWidgets": {},
       "aggData": [],
       "aggError": "",
       "aggOverflow": false,
       "aggSchema": [],
       "aggSeriesLimitReached": false,
       "aggType": "",
       "arguments": {},
       "columnCustomDisplayInfos": {},
       "data": [
        [
         "awesome,Good product,Product reviews ...,Best in budget,Very good according to price,Nice product data transmission  rate is 80 to 85MB/s,Works well. East to install HDD in this. Will recommend,Very nice product and easy install & use"
        ],
        [
         "Hassle free bagless vacuum cleaner | No more of maintaining/cleaning/replacing bags,Nice little vacuum cleaner but with a couple of drawbacks.,Simple and Effective,A,On the heavier side but satisfied with the product,Good quality, heavy noise,Great Product!,Awesome Cleaning Machine"
        ],
        [
         "Excellent to Use, Adequate Cord length but Too Expensive compared with other & Hope for Durability.,Easy to handle, hassle free,Good,Nice product 👍,Good product,Overall good product,Product not working more than 6months. At that time 797 rs now 999 rs. Too much,Not Shock proof at all"
        ],
        [
         "All fine but the cord is too short,Good quality,Great quality go and buy...,Stand nahi hota hai gir jata hai,Good iron at this price,Awesome,There was one scratch on the surface which was hide under the sticker,Superb quality"
        ],
        [
         "Decent product.,Good,Good quality,It is original hp 65w chrger,Right product,100% authentic,Good Quality,Decent"
        ],
        [
         "Does the stated purpose,Good,Good,Steam Iron,Light weight and easy to use iron,Functional & hard to Use,Overall a good product,Using it for a month. So far it is working well."
        ],
        [
         "Good & attractive,Very versatile,Good,Good Product....,Good night light at 5Volt.,Pretty good product,Good,Nice bt it should be in direct plug not in usb"
        ],
        [
         "It's working,It's gud 😳,Cable quality is good.,Durable and Works Well,Good data cable same as shown in pic,Portronics knonnect L 1.2 mtr Micro USB cable,Ok,Great quality"
        ],
        [
         "It's working,It's gud 😳,Cable quality is good.,Durable and Works Well,Good data cable same as shown in pic,Portronics knonnect L 1.2 mtr Micro USB cable,Ok,Great quality"
        ],
        [
         "Great for smoothies and shakes,Very good products,Very nice portable and easy to wash blender,Good product,Great build quality,Good,This  item made my day,Good product"
        ],
        [
         "I was skeptical at the beginning but now love it.,It is mechanical keyboard,Very Good Build quality, price of Rs.1500/- is justified.,Amazing,Great budget keyboard,Value for money,Very good performance,It is good if you get it under 2000 otherwise don't buy it"
        ],
        [
         "Best in this range,Product is gud but shipped damaged product but new 1 is gud,Good but should be more better from company,Average product,Does it's job well,Good product,Working this product very smoothly.,Very good much 🙏🙏"
        ],
        [
         "Nice product,Absolutely wonderful! Efficient and healthy,This is pretty good air fryer,Very good product,Very good quality product,Innovative design and good product,Best deal in this price,Cheap and best"
        ],
        [
         "Pretty good,I m happy 😊got 3 at 121rs.,Product is good, packaging is worst,Ok,Great product,Smooth pages.,Value for Money,Good"
        ],
        [
         "Good one,It’s effective,Amazing product for lint removal,Must for every household,Best use,Amazing product,Good product and easy to use,Easy to use"
        ],
        [
         "Good,Value of money,Good Product,Good,Product Provider is super responsive, as received my order within 2 days,Good product. Very useful. Highly recommended.,Honesty and transperancy of the seller was perfect,Poor"
        ],
        [
         "Early impression comparing MK215 with MK270  - bit underwhelmed,Lagging,It is working fine till now.,Does the job well,Excellent,Worth,To avoid lag, plug into USB port without neighboring connections,Good"
        ],
        [
         "No more time for heat .this is very awesome product,Light weight &easy to use,Ati Uttam,Awesome,Not upto the mark,essay to use value for mony,Always worst package, it was completely damaged,Good product"
        ],
        [
         "Nice product,Best product for use in winter season,Amazing product,This devie is portable that majes its design fantastic and easy to use!,Handy heater,Awesome product,Fantastic one,Portable and easy to use."
        ],
        [
         "Nice,Awesome,Quick not charger🤏,Expensive at this price,Multiple mobile can’t be charged at a time,THIS IS FAST CHARGING ON BOTH MY SAMSUNG PHONES AND IPHONE TOO. Go for it !!,Excellent quality!,CHARGING CABLE"
        ],
        [
         "Nice,Awesome,Quick not charger🤏,Expensive at this price,Multiple mobile can’t be charged at a time,THIS IS FAST CHARGING ON BOTH MY SAMSUNG PHONES AND IPHONE TOO. Go for it !!,Excellent quality!,CHARGING CABLE"
        ],
        [
         "FPS increased in games after installing it 😍,Worst Experience turned great,Very good product,Really increase performance,8gb ram r*8,It Worked,Good ram at good price.,Good RAM"
        ],
        [
         "Good product,Its good, but micro usb doesn't fit my phone.,Good and useful item,It is very best cable,good,2 in 1 Charging Cable.,Sturdy cable overall,Nice & Best Charger Cabel"
        ],
        [
         "Good product,Its good, but micro usb doesn't fit my phone.,Good and useful item,It is very best cable,good,2 in 1 Charging Cable.,Sturdy cable overall,Nice & Best Charger Cabel"
        ],
        [
         "Good product,Its good, but micro usb doesn't fit my phone.,Good and useful item,It is very best cable,good,2 in 1 Charging Cable.,Sturdy cable overall,Nice & Best Charger Cabel"
        ],
        [
         "Anyone can use it except your elderly folks. Does not come with instructions.,It’s good prodyct,Overall good,Works and gets out of your way,Water leakage after a 2 week of useage,Good reviews,Good product, delivering what was expected,mist is like a cloud"
        ],
        [
         "Very nice quality,Good one for office use,Good,Try na cool.,avearage,Nicee,अच्छा है,ABC"
        ],
        [
         "Fantastic,Spen works, will protect the screen.,Good,Not smudge proof at all!! But apart from that it's good.,Smooth surface, good protection, easy application.,Good,Goodbye for the tablet but not for the s pen stylus.,1 year of use"
        ],
        [
         "Good P3 Nvme for entry level,Awesome,Sometime not showing in laptop,Great product at good price,Unable to detect SSD? Funny but use \"mdsched.exe\".,Fantastic performance and reduced boot time with my Lenovo S145,Crucial SSD's are \"Bang for the Buck\" but it does not come with a screwdriver, hear me out.,Good product at this price point."
        ],
        [
         "Functionality as described,Working,Great USB in budget,Good,Good,It just works,Works with my Casio ct-x700 well,Still working after 3 months"
        ],
        [
         "Functionality as described,Working,Great USB in budget,Good,Good,It just works,Works with my Casio ct-x700 well,Still working after 3 months"
        ],
        [
         "Beyond expected,Good,Perfect Juicer - Very User Friendly in usage,User friendly and convenient to use for fresh juice,Excellent Little Juicer! Fast and Easy to Clean. Produces Very Good Quality Juice,Premium juicer,Good however...,Most effective and convinient juicer i Ever had"
        ],
        [
         "Very useful!,Good one for the price,Temperature,temparature controll is needed,Good product but price is too be very high,Quality of material,Best,Good product"
        ],
        [
         "Good quality scale but I got defective piece,Nice product....,Product is very good 👍,About product,Must buy,Great device for kitchen"
        ],
        [
         "Beautiful and functional, but could be improved (improvements written in review),Agaro kettle,Satisfied with the product,A royal black beauty.,Value for money.,Agaro kettle review,Review,Good looking  elegant, easy to use"
        ],
        [
         "Not a disappointment, but can be better,IT IS NOT A BAD IDEA TO SPEND YOUR MONEY ON THIS SMART WATCH,Nice quality,Display is awsome,Sleep tracking"
        ],
        [
         "Nice chopper,Small easy use n clean,Not good,Good,Good,Probably the best purchase for my mom!,String issues,Good product."
        ],
        [
         "Heavy duty mixer grinder, delivers what it promises,Works fast,It's not working good I had bought in 2020 and the motor is making,Good machine but cap locks can be much better,Good 👍,Great Mixer Grinder but not good for juices,Powerfull mixer grinder,Powerful but Pricey"
        ],
        [
         "Good👌,Good built quality,Quality Product under 3000,good price,Nice product,Good product,Exlent❤,Outlet is very slow"
        ],
        [
         "Go for it,Good steam iron,Plage big size,Good Product and worth Buying,Nice,Easy to use,Good,Going good so far"
        ],
        [
         "Just gets the job done. Not so fast as it says,Ok ok for value for money,Good product,Good quality at this price range,Good product,Good value for money.,Good product,Similar performance to Ultra series card"
        ],
        [
         "Good,It’s okay,Cheap quality product, not worth,Good and worth for money,Worth buy,Very nice from the seller as well as from Amazon.,superb,That's a good kitchen scalar machine must buy."
        ],
        [
         "Very easy to use curd maker,Excited to try it,Good product to settle hassle free yogurt,Checking now,Good Product at this Price,Good product,Good,Best yogurt maker at this price range"
        ],
        [
         "Worth Buying,It's a very good product at these price range go for it.,Camera SD card reader,A very handy gadget for transferring data between various devices,Product is good and working properly,Nice product,Reveewing after 3 weeks.,Use full product"
        ],
        [
         "Awesome speed,Speed in range 7** MBps to 9** MBps on MBP,Handy and fast,Great !,Simply wow,Overprice,very costaly,Speed is fast but....files get corrupt,Does what ot says!"
        ],
        [
         "Great Customer care experience..!!,Best in budget earbuds with some quality,Extremely high value for money,Worth for money and great listening experience.,Battery backup,A valuable product,So so,Great buy!"
        ],
        [
         "Degree of cleanliness of air achieved and the size of space covered,Excellent in every aspect,Very good,Love the control from the app,Purifier is good - but received a 'second hand' item,Works Well!,Good product 👍,Just works fine"
        ],
        [
         "Just go for it.👍🏻,3 PIN Plug should be there,Mixer is good as well as jar is good.But packing is very bad.,Too much noise,Good quality product......,Good,Nc,Useful"
        ],
        [
         "Good product 👌,5 bati,Charge seems to be very low.,Good batteries.,working fine with my car remote,Original Duracell,Great,SANTOSH PRASAD"
        ],
        [
         "Excellent product,Good product, very accurate and sleek design. Totally Recommended,Good product,Accurate with multiple unit setting option,Light weight scale machine ... It's good for me,Good little gadget for kitchen,Good product for house use.,Awesome product"
        ],
        [
         "Con = no bandwidth control,Setup is smooth and easy,Good coverage,as money as goods,The signal reach could be better,overall is ok,Product,Class product from TP-Link! A worthy investment."
        ],
        [
         "Using it with my QC 3 Charger .So far- So good.A Quality cable with a sturdy construction & troublefree performance.,Awesome product go for buy it 👍,Execellent,Sturdy micro USB cable for Old phones,Super,Product description says 3 feet it's hardly a foot length wire.,Good,Excellent quality cable"
        ],
        [
         "Using it with my QC 3 Charger .So far- So good.A Quality cable with a sturdy construction & troublefree performance.,Awesome product go for buy it 👍,Execellent,Sturdy micro USB cable for Old phones,Super,Product description says 3 feet it's hardly a foot length wire.,Good,Excellent quality cable"
        ],
        [
         "Using it with my QC 3 Charger .So far- So good.A Quality cable with a sturdy construction & troublefree performance.,Awesome product go for buy it 👍,Execellent,Sturdy micro USB cable for Old phones,Super,Product description says 3 feet it's hardly a foot length wire.,Good,Excellent quality cable"
        ],
        [
         "Warranty,Plug is not supporting,Good product,Great,Product is good,You can go for it but...... Read review,Fabulous,Good"
        ],
        [
         "Overall good product,Perfect,Amazing product for Laptop,Good product,Very good, can be better,Good product,Good product,Not worth the money!"
        ],
        [
         "Very light weight. Almost accurate measurements.,Easy to use and on point!,Highly recommend product..just need some minor advanced feature in measuring liquid,Received in a decent condition,Good machine with precision,Great product,Excellent scale,Good Product"
        ],
        [
         "My sister is very happy with the performance of this item . Good buy and good deal,Product is good,Good,Great product,Good product,Good quality product but price is too high,Value for money,Good"
        ],
        [
         "Better than I expected!,Good,Good product,Great durability and original products,Very Nice !,Good product,Good,Good product"
        ],
        [
         "Great Build Quality!,Great condition,Nice,Good experience,Good purchase,Just not A4.,GOOD ONE,It useful but buy it only when the price is under 100. Then u will get the profit."
        ],
        [
         "Good,Very lightweight and good looking,good,So far so good,Nice 👍,Average,I think is this 1000 watts? Produce 750 watts.....,Good"
        ],
        [
         "12V2A RouterUPS,Decent Product,Product quality,Effective and functional,Works with jio 12v 2.5A,Good product but not supported for my Wifi,Amazing product very helpful at times off power cut.,Good one to buy"
        ],
        [
         "Good Pen at Low Cost,... have been reading about this pen which I would like to answer,Decent (at this price),Very nice.,Not for speedy write...,Nice pen good quality could be more smoother,Smooth,Superb Fountain Pen for all types of users"
        ],
        [
         "Good Quality Mouse,good,Good product for its price and warranty.,Not the best but does the job,Okayish,Go for it,really a good mouse in 250,not proper size ,it should be Littel big"
        ],
        [
         "Original review 👍realme buds🎧,Please Read The Whole Review For All the Details & Decide Yourself...,Good,Ful HIGHHHHHHHHHHHHHHHH BASE,Amazing,Good"
        ],
        [
         "Nice product,Not bad,good sleev,Very Good Product At Rs 290,Good purchase,Ok,Good product,Good"
        ],
        [
         "A good heater for tiny spaces,Good purchase,Best room heater in budget especially power saving,Handle to carry & a bit high stand would have been better additions to the product.,Nice little room heater.,Metal body with carbon heating element,Needs some care to handle when carry and use,good"
        ],
        [
         "Value for money,Small-sized Notebook,Worthy for money,Quality,I think it is a normal product,Value for money,Quality,Quality Product"
        ],
        [
         "Good wifi extender,Value for money!,Nice Product,very satisfied,Does the job,The product seems to be decent and good.,Good for home use,Extender is good but no 5G"
        ],
        [
         "Little kitchen helper,An amazing product,Very good product nice to use,Handy gadget!,Easy to use and carry Great product 👌,Best product,Light weight,Will definitely save your time...."
        ],
        [
         "Easy installation,Product is good,Easy installation process,Good,Its going to be 6 months now, working great 👍,Nice product,nice,V guard water purifier"
        ],
        [
         "Very nice,Works as it should,Not the best but value for money,Value for money,Useful product,Good Kitchen Product,Good,Good"
        ],
        [
         "Superb,Very helpful and great quality,Exactly what it says on the tin,A must product for pet parents,Must purchase if u have pet...,Totally worth it,Good product,Easy to use and usefull prody"
        ],
        [
         "So good ,nice looking,Value for money and a nice product,Awesome Product,overrated,Really good,Good,It is very good 👍,Good"
        ],
        [
         "Good for typing, compact,Good product but bad packing,liked it,No caps lock light,All good, except the tiny dongle which has high chances of loosing.,Amazing product incredibly bad packaging,GOOD 👍,Mouse light is not working but it’s working"
        ],
        [
         "600 W heating kettle with warmer & temp control, half coil heating element looks odd,Overall a Good Electric Kettle,Overall good.,Good Multicooker within budget,Agaro esteem Multi kettle,Quality,Very nice product. Like it.❤,Nice one for hostellers. A must buy product."
        ],
        [
         "Good for small rooms,Better,Good quality,Nice product,Good product,Potable room heater,Room heater is useful,Good Heater"
        ],
        [
         "Good product,Nice product up to the mark,Good one,Excellent,Water purifier,Good,Super,Good it helping us"
        ],
        [
         "👍,Good quality product and value for money. Recommend for buy,Average product,Good product at good price,Smelling like sumting smoking"
        ],
        [
         "No visible change,Effective,Sensitivity, Simplicity and Support,Good product,Nice purifier,Minimal and Simple to use and great for people with allergies,Works well in Noida,Very easy to maintain"
        ],
        [
         "Good heater but digital temperature display is missed,Use intelligently for maximum outcome,Good product,13 fin oil heater has only 11 fins, wrongly advertised to fool public,Excellent product,Wonderful Product thandi me Garmi ka Ehsaas,Very nice,Nice product"
        ],
        [
         "You can trust on this one,The best usb cable,Wel build just like original .,Nice!!,Working perfectly,Basic,Good,No issues"
        ],
        [
         "You can trust on this one,The best usb cable,Wel build just like original .,Nice!!,Working perfectly,Basic,Good,No issues"
        ],
        [
         "You can trust on this one,The best usb cable,Wel build just like original .,Nice!!,Working perfectly,Basic,Good,No issues"
        ],
        [
         "Good.,Good product,Worth to have roti maker,Value for money,It is easy to use... time saving,Good value for money,Good,When you have Libra Chapati Maker, gathering guests is no more tension."
        ],
        [
         "Nice,Nice buy,Good,Very nice,Good 😊,Value for money,Good,Get heat very fast but cold very fast"
        ],
        [
         "product one time replace worthy product i got,Great,Works decently. Does have some issues,Best In Budget,Heavy and a bit easy to heat up.,No compromise,Super in low budget,Paisa Vasool product as per budget."
        ],
        [
         "Helthgenie product - Just received, as of now looks good.,Product seems good. The batteries packed separately inside leaked.,Wonderful, but ...,Good but it's plastic,Good for now.,Awesome product,Value for money,ONE IN A MILLION"
        ],
        [
         "Good product, set quickly on screen.,Go for it,Quality is Awesome,Seems okay,Good product,fingerprint magnet, great value for money though,Good,Simple to install and you get 2 of them, making it affordable price"
        ],
        [
         "Ha,Good product,Expensive,Good for price,This is a nice product !!,best quality,Laptop Cover bag,Unbelievable product in this Price Range"
        ],
        [
         "Nice,Good Quality,Good product,Product is good but some issues with it,Good,Good product.,Good and easy to use,Good one"
        ],
        [
         "Good,Power and performance,Very useful and powerful juicer,Best quality,WORLD CLASS JUCER MIXER GRINDER,Industrial grade,A better product,Good Juicer"
        ],
        [
         "Worth the money,It’s goog,Nice & Easy to use product,Not good,Wonder Product!,Good product,Right product at right price,Value for money"
        ],
        [
         "The Grill and Toaster is good,Ibell,Good product,Does what it claims.,Good product and valu for money spend,I thought Ibell sandwich maker is best brand and I can use use usually easy clean it now easy,Good Product,Good product"
        ],
        [
         "Very good performance,It's been more than a month and it's been working good till now,good quality,Good,Nice one,Excellent,Cable outer surface is oily based,Genuine and good cable👍"
        ],
        [
         "Good product in this range,Value for money,Nice,Nice one,Superb easy to use,Everything is great only issue is durability,Fabulous,The Cable is small"
        ],
        [
         "So far so good,Good,Good quality product,Fully satisfied.,Product Is Nice ,And Easy To Use,poor longevity,A good induction cook top,Good."
        ],
        [
         "Overall Nice Product,Must buy product,Product is good to use.,Tasty and Healthy juice,Good,Good product,material,Just got it"
        ],
        [
         "Quality is worth the price!,Good for holding,Packaging was not good,good product,Good Product,Built quality of product is excellent,Best in quality & look,BEST"
        ],
        [
         "Nice product,Not as effective as claimed, just an average product..,Good Product,bribing people for 5 star rating,Most worst machine i have ever seen,Just wow"
        ],
        [
         "It doesn't heat up,Value fir money,Ok,satisfied,Nice pic,Best iron so far,look,Ironbox stopped working after 4 months  of purchase"
        ],
        [
         "Quite Good,good pencil,Value for money,Brilliant,Value for moeny product,Must to buy this pencil,Problemsolver,It works as advertised"
        ],
        [
         "Quite Good,good pencil,Value for money,Brilliant,Value for moeny product,Must to buy this pencil,Problemsolver,It works as advertised"
        ],
        [
         "Good Handy Bluetooth Speaker,Very Nice,Medium,Worth to the money,4.5,Good,Value for money,Value for money is good...."
        ],
        [
         "Good,Decent purchase,Awesome product,Worth,Does exactly what it meant to do !!!,Good product,Good,Worth buying"
        ],
        [
         "nice design.,Worth the buy,Pretty good,Nice product.,Jordaar,The product is an averagely good product,Good enough,Awesome"
        ],
        [
         "Good Product But Spped Upto 30mbps,Nice,Regarding Card,Excellent SDCARD,Good,Fake product,Good,working fine read/write speed is good"
        ],
        [
         "Helpful product for students,Nice Product,Very good to write and erased,quite bright but have an excessive thick pointer which makes screen to fill up quick,Good product, struggling with erase button,it takes pressure also,Value for money,Its validity"
        ],
        [
         "Must have product,silent but not fully.,Good product,great product,Best value for money,Sleek & Smooth,Good buy,Just buy it !!!"
        ],
        [
         "Fine🤘🏻🙏🏻,Good,Best for kids,Easy clean and use,Nice product,bahut accha,Really liked this product,Erase button not working 🤬"
        ],
        [
         "Comparisingly slim fan but speed and air delivery is good 👍,This is quality product at given price and reliable.,My favourite fan,Correction needed to the product description,Good product,Nice👍👏😊,It is too good in this range,Have clicking sound under slow speed and installation nut & bolts are not in appropriate size"
        ],
        [
         "A1,AWESOME PRODUCT,Room heater2900watt need separate power connection,Not upto the mark.,Probably the best build in this category.,A good heater with some additional amazing features which make it a best buy,Not as expected,Nice product"
        ],
        [
         "Good quality, plz add 1 syringe with this kit,Original product,Genuine product,very good product,nice,good product,Good product no issues,ಉತ್ತಮ"
        ],
        [
         "👍,Good product,nice product,Satisfied,Value of money,Good filter,Excellent product,Overall this is a good product."
        ],
        [
         "Value to buy,Best quality,Nothing,It's Good,Perfect for making toasts,Great product.,Working fine as expected,Excellent"
        ],
        [
         "An affordable electric kettle with stylish look,Elegant looks, glass finish awesome, starts heating quickly,Great product,After three months it stopped working,Not a quality product and bogus customer service,Ok ok,Switch to Inalsa after Borosil,Fantastic kettle, makes life so easy and convenient."
        ],
        [
         "Hope it will last long,Superb product,This is new version, with safety locks.,Original and Good,One of the Best you can expect,Sujata chutney jar,Quality,Original Product at reasonable price"
        ],
        [
         "I like this product,Simple easy to use, but not much power to quickly heat-up a room,JALI GETS HEATED BUT A GOOD PRODUCT FROM USHA.,Productnis good and recommeded,Good Product. Worth its price. Thanks,A bit costly otherwise better than the competition,Useful for very small room only and consumes lot of energy,Doesn't heat Even small room"
        ],
        [
         "Nice cover,Value for money product.,Good,Worthy,Snug fit 😃,Fits perfectly | Looks stylish | Lightweight,Nice flip case,Beautiful product received"
        ],
        [
         "the only ANDROID tablet that makes sense in the non-sense tab market of India.,An impressive tablet for Android (at last),All good but miner bugs just don't upgrade it to 13.0.6.. New update details given,good tablet"
        ],
        [
         "It is value for money,No problem,Nice,Quality,GOOD QUALITY,Nice product,Good,SATISFACTORY"
        ],
        [
         "New user,Worthy at this price,Good at dis price when comparing with other brands it is having two years of warranty,But there is no proper owners manuel ..which  brief the end there operation and cooking Time.,Ignore negative reviews,Best product with a reasonable price,The best quality air fryer you can get for this price,Think before you buy"
        ],
        [
         "Good product,Delivery at door step,Price is greater than printed price.,Original spare part,Original product,Sediment filter,Good,Authentic product"
        ],
        [
         "Go for it, but there can be issues!,Amazing mouse but not for gaming.,Comfortable, precise & liggt weight,in 1499/- just perfect,Nice,One of the best mouse you can buy at this price range,Good mouse with bad wire,It’s little big"
        ],
        [
         "Good... 😊,Nice pen but it has some problems.,A great buy,Good pen but finished really quick,It's ink gets finished after using it only for 2 or 3 times,Very nice pen,Best for neat homework.,It's help me earn my bread butter"
        ],
        [
         "A must have addition to the kitchen.,Easy to use,Superb,Fast and sharp blades...quick work,Good product,Quality of motor is good, just doubt on jar, it's not so much strong,Inalsa Bullet Chopper,Very handy and good chopper"
        ],
        [
         "Grand price good product,Good quality, but not the best,Very good product.,Easy assembly, Easy Installation, PLUG N PLAY.,Good case with less sturdy body,An awesome product!,Good Product, My doubt is with the sturdiness,Great product"
        ],
        [
         "पैसा वसूल,Nice,Not a good dilvery by bajaj,Almost gud product but takes time for getting hot water,Uuummhh,Good product,Overall average to good product.,Good"
        ],
        [
         "good,Overall good product but got stop inbetween there is some gap for long term use.,Perfect,Useful,Must buy,Overall nice product,Good product,Amazing product"
        ],
        [
         "Lightweight Dry Iron,Best Iron on cheap rate,Simple and good,Good Product in this price range. However, I recevied a bit damaged product at the handle.,Good,Amazing product,Hot11,Not happy with performance"
        ],
        [
         "It is very good,Good product,Just go for it,Good product,Value For Money.,Good product easy to use,Pressure is very good but mtr shows 115bar,Nice Product."
        ],
        [
         "Value for money.,Value for money,Price could be lesser,Ideal for new MacBooks,Average and overpriced,Meet the expectations,So I got the product on 11th August 2022. This is the initial impression of the product.,Ok ok product"
        ],
        [
         "Bigger size,Superb.,Vacuum Bag,Price is reasonable and not available locally,Works perfect,Genuine Eureka Forbes,nice,Very good"
        ],
        [
         "Cute design,worth buying.,Not good for bathing bucket,I bought it recently. Only using it for 3 days . Its okay till now, heating properly.. Good product.,More useful for kitchen use,Good one,Good product,Nice product easy to install and easy to operate"
        ],
        [
         "Sound is pretty annoying,Best Normal Water Purifier,Good product,Good,Good,Perfect product for a small family..,It’s a nice mid budget by product.,Great product truely satisfied"
        ],
        [
         "Not sturdy enough but good.,Product looks good for the price,Good One,Good quality in this range....,Budget buy,Good,2 problems i noticed,Incorrect steps order"
        ],
        [
         "As this was my 2nd order for same product.2nd time jo product aaya uski packing bahut hi kharab thi.,Looks cool and variety of colors.,Good product,very colourfull,Budget friendly,Good one,The are easy to use and are comfortable,Good buy during sale"
        ],
        [
         "product good but service bad unexpected,Its good,Very nice product,Efficient Product,Nice,Very good and useful product as expected before buy.,Handle length is too good you can use whole dram,Very fast heating"
        ],
        [
         "Gud product and gud service,Good product in this range.,Useful,Good,Water taste is good and installation also done on prioritu basis worth for your money,Very good purifier in this range,Satisfactory performance,Installation charges extra"
        ],
        [
         "Good,Decent,Ok,Good product,Nice,Good product,Not good as per price,small & elegant hand mixer"
        ],
        [
         "BEST VALUE,Good product,Good,Good,Very good product by Kingston. But size of pen drive may reduce.,Nice product with 5 years warranty in 250 rupees,Good product,Not up to the it's Specs"
        ],
        [
         "I would have given it 5 stars.. but..,Quality product,Good product,Good,Good capacity but looks a bit cheap,Medium size,Affordable,Basket is good, problem is with the lid."
        ],
        [
         "Ok ok,Good one. Worth puechase,Average,Nice Product,Good product,Working perfectly, cord is small,Good,Has Thin plastic lid, which is not easy to clean"
        ],
        [
         "Average pendrive with mobile connectivity,2 in 1 type c and usb,Worth for money,Fine purchase,Great to store memories and notes,Nice,Value for Money.,Very good product"
        ],
        [
         "Worth the money..,Good product,This is Good,Super product,Good product,Average product but value for money,For daily use,Heat temprature very slow"
        ],
        [
         "Good  product,Ok. To. Use and good for this offered price 485rs,All over Quolity is Good.,Nice job,Nice,Its good but iron is not otuo disconnect.,Good product,Why package is very poor"
        ],
        [
         "Excellent coffee maker,Sturdy quality product!,Good product,Just go for it!,Mokapot's upward filteration is messy,i felt its more of a joy to prepare concoction in this espresso maker,Good product,Espresso quality"
        ],
        [
         "Does not fit the Duracell label,Very appropriate & long lasting cells,Uh should buy,Ok,Value for money,Great battery,Badhiya,Nice 👍"
        ],
        [
         "Nice product,Removes the lightest of lint,Very good,Product is good but price is high,very very god product,Super,Good...,Amazing product"
        ],
        [
         "Best mixer,Best value for money,सबसे जरूरी बात ये है के इसमे सब पिस्ता है चाहे पत्थर भी दाल दो।😂। https://youtu.be/WBPca3j306k,Noice is high compared to others,Five star product,BEST MIXI,Best in the market best in segment,Good but not best"
        ],
        [
         "iT'S VERY HEAVY,NICE PRESSURE & WORTH SPENDING:-),Recommend product for personal use.,Attractive product.,High noise and machine heating to high,Only Bucket filter  are missing..Please  send me the bucket filter only immediately.,Good Multipurpose Product.,Good product best in 5k segment .."
        ],
        [
         "Good product for this price...go for it,Nice,Very nice,Value for money,Electry consumption is high,Value for Money,Awesome.  Value for money , Writing after a week's use,Activa chalao thand bhagao"
        ],
        [
         "Sound and Bass,It's very nice,Good quality earphones,Best 👍,Super,Good,Good quality at that price,Sounds good and looks good"
        ],
        [
         "Good product,Very Useful in winter,Good product,Good product must buy.,Best for kitchen,Apperance,Best product😚,Good working"
        ],
        [
         "Very good mouse Under 500,pretty good gaming mouse,very good in this budget,Really comfortable,good mouse just plug and play,Good enough,Best budget gaming mouse,Too big too hold, but you will get around it."
        ],
        [
         "very nice design and long lasting,Good mouse,Long time user. This mouse is built like a tank,GAMING MASTERPIECE? *REVIEW AFTER 1 WEEK*,Amazing mouse, bad cable,Too Heavy for anything,Best gaming mouse on a budget,Amazing Mouse"
        ],
        [
         "good,Nice product,Worth for money,Good product,Very good,Does what is needed to do,Good product,Nice kettle in 699 rs"
        ],
        [
         "Steam irom,Good,Value for money,Amazing product😁😁,Very nice product.,Good product,Good product,It comes with 16Amps Plug"
        ],
        [
         "Value For Money But....,Compact and Budget friendly,Average,Nice product,Premium build but hoped it had more USB3.0,Decent product,Very useful for Mac users,Works fine with Macbook air M2"
        ],
        [
         "This is not suitable for 5.6 laptop,Laptop Stand,Very useful and worth product to buy,Nice good quality for laptop use upto 10-14 kg,Very good product at a reasonable price.,I believe that this will help my work better ergonomically.,Good and Comfortable stand,Satisfy"
        ],
        [
         "it s very nice and easy to use,Good quality...go and purchase,Good,Good quality,Good product 👍,Good,Value for money @600₹,Good"
        ],
        [
         "Good keyboard with some cons,Wrist pain,Worth buying....!,Acceptable,Value for money,The silver coating came off after 3days of using,Awesome keyboard,Budget friendly keyboard with 3years of warranty."
        ],
        [
         "Nice product,Product not Quality donot buy,Wonderful product,Power Indicator is Missing,Excellent product,Value for money product,rod water heater,पानी गर्म होने में 15 मिनट से ज्यादा टाइम लेता हैं"
        ],
        [
         "Good for office and watching movie,Product review,It's worthy to buy,It's fine,nice item,Overall Good,Best for Beginners,Small size but still sturdy strong . Useful for bigeners."
        ],
        [
         "WD not interrupt,good,Lightening fast,Package was good yet working fine. Need to check some more time,SDD for laptop,SSD + WD + attractive price,best product ,I personally recommend use best product.,Affordable price"
        ],
        [
         "They will charge you an additional ₹300/- for installation.,Good,yes,Er hardik trivedi,Noise problem due to magnets inside,Good,Easy to install like normal one,Ok 👍👍👍 ok"
        ],
        [
         "Fan is making sound. Whom do i contact.,Speed,Good quality,nice product,Fan wise excellent but little pricey,When it comes to electric appliances Havells never disappoints.,Not satisfied because the product has got dents,Good performance"
        ],
        [
         "Very good product..quality is good,A good product with superb buid quality,Not happy,Good,Good,Noisy but good,Remote control spoils the fan operation,Good performance"
        ],
        [
         "Good product,Best gel pens,👍👍👍,Decent,Feels cheated,Nice product,Good,Only 20 pens"
        ],
        [
         "Very easy to chop veggies in a very short time,Super clean chopper,Nice product,Mom lives it!,“ LOSING A BATTLE”. Because of  a shoe nail.,Very good chopper,Wow what a beautiful product for cutting onions n other veggies . Why did i delay for so long,I like it"
        ],
        [
         "Used almost for a month,User friendly product  worth the money.  The product working fast.,Very happy with cookwell services,Worth,Very good product...,Good product,Good Customer Service,Good one easy to use"
        ],
        [
         "Product is as expected,Cable has problem with samsung galaxy s8 ultra tablet,Quality and service is good.,It's perfect, definitely what i needed,Worth buying this cable,Just awesome 👌,fast charge, sturdy build quality, absolute value for money product, 2yrs warranty, just go for it,Good"
        ],
        [
         "Product is as expected,Cable has problem with samsung galaxy s8 ultra tablet,Quality and service is good.,It's perfect, definitely what i needed,Worth buying this cable,Just awesome 👌,fast charge, sturdy build quality, absolute value for money product, 2yrs warranty, just go for it,Good"
        ],
        [
         "Far better then expected,Dual Connectivity Not Present,Good One,good,Good product this price,Nice sound,best for bass,good"
        ],
        [
         "Loved it,Good product,Good product,It's easy to use.,Fine product,Awesome Product,Nice product & user friendly,Correct size and easy to use."
        ],
        [
         "It's good,Happy to purchase,Product is really good.,It was excellent,Very Good Product,Heater,The final finish product is not  elegant."
        ],
        [
         "Very good product,Good product.,Good quality,Excellent,Good quality,Good,fine,Lovely"
        ],
        [
         "Needs accessories,Gets water hot in under 10 mins,Slightly disappointed,Useful,Value for your money,Havells water heater is an excellent product.,v.nice,This product is very good and easy to use"
        ],
        [
         "Good product worth of money,It’s okay,Not so superb,Philips Always THE BEST,Heavy weight iron,Very good,Super nice,Good One iron. Value for money and best one to used it"
        ],
        [
         "Heats up,I just bought this product and my review based on my previous purchases are my in laws home,Easy to use,Nicee,Good product,Nice product..,Very Easy to use,Powerful Blender with 3in1 attachments"
        ],
        [
         "Very nice,Efficient but little costly.,Good product but disappointing after sales service,After 30 days review ⭐⭐⭐⭐⭐,Good Product, Expensive Installation,Good,Adequately quiet, cooling is good, features are more than sufficient.,Nice and quick cooling ."
        ],
        [
         "Easy to Use,Good at this price. Looks premium,Worth for price,Seems to be good,Easy to clean & i like its cool surface.,Good kettle at a Reasonable price,Good quality,Best Thing for Bachelora"
        ],
        [
         "Decent quality product for the price,Nice product,Sturdy,Nice companion,Need for those who has neck pain working on Laptops,Laptop stand,Good quality,Good product"
        ],
        [
         "Good enough for now.. Could be better..,Amzon better then Flipcart & Others,Compact and Reliable 2TB External HDD: A Must-Have for Storing and Backing Up Your Data,💝👍One of the best available mechanical external hard disks,Nice,Woth Money,Good product,Heating problem"
        ],
        [
         "Very good,WORTH TO BUY.,Writes neat but smells bad,Like ok ok,Nice,👍,Amajin!,One pen is missing. Silver colour pen is missing"
        ],
        [
         "Quality is too good,My laptop feels protected 🤣,Quality is Good but should cheaper as per matirial,Nice color and material, confirm the fit you want,Good product,AWESOME PRODUCT AT 2H,Warning - This sleeve is NOT WATERPROOF!!,Good choice under 400"
        ],
        [
         "Easy water boiling,Its fine... to use and easy to implement.,It's a good product.,improvement required,Good utility,Must Buy Product,Good product,It's just wow product, i used for a day and then i order for one more for my child hostel. L"
        ],
        [
         "Bht hi achi hai aur usefull b..thanx amazon....mgr aap delivery charges khatam karen, plzzzzzzp.,Good quality products,Good quality product,Go for it,Extremely useful and great quality!,Good 👍,It is what is told quality is also very good,Value for money"
        ],
        [
         "Best mixer juicer,Nice,Best product in this price,Good Product, can buy it.,Very easy to handle and very sturdy mixer,Realy great product... Noone providing such heavy motor.,Good product,Value for Money"
        ],
        [
         "Absolutely worth the price,Best product on low value, definitely gofor this,Works the way it says,Economical. Very light. Quite sleak. No good robust packing.,Good one!,The Best,As expected quality from a company like crucial. 4.5 Star Rating,Best in class ssd"
        ],
        [
         "Excellent CCTV WiFi Camera made in India,Great Camera for keeping an eye on pets...,Working Perfectly,Great product,Decent indoor camera!!,It is a good product in all,Face detection is not so good,Great product"
        ],
        [
         "Heats up after less time of usage.,Its is fine,Excellent product,You can go for it.,Worth of money n stylish look,Good,HIGH SPEED VERY GOOD WORKING,Nice product"
        ],
        [
         "Good but the scroll is now damaged,Nice,Noiseless...,It's a good one,Good.,Satisfied,Simply Superb !,Scroll wheel stopped working in 3 months"
        ],
        [
         "Dual Bandwidth,It's good,Simple and effective,Easy plug and play,Only 200mbps support,Great Device for Old Laptops,Good device but be careful for a defective one.,Excellent Speeds and Coverage!"
        ],
        [
         "Dual Bandwidth,It's good,Simple and effective,Easy plug and play,Only 200mbps support,Great Device for Old Laptops,Good device but be careful for a defective one.,Excellent Speeds and Coverage!"
        ],
        [
         "Good silent mouse,Too small to hold!,Reviewing after 8 months of with battery backup review,Its very small  do take note of that,** Nice product,Good product,Good Buy for normal use in office,Stylish mouse"
        ],
        [
         "Good rechargeable battery,Seems to be good,Nice,Build quality,Good,Met expectations,Good,Good charger"
        ],
        [
         "Very good product.,Using as a spare cable in car,Sturdy, Durable, Fast Charging!,Good brand,It’s like original apple cable,One of the best wire ..,Super well build. Quality product worth the money,Good product"
        ],
        [
         "Very good product.,Using as a spare cable in car,Sturdy, Durable, Fast Charging!,Good brand,It’s like original apple cable,One of the best wire ..,Super well build. Quality product worth the money,Good product"
        ],
        [
         "Very good product.,Using as a spare cable in car,Sturdy, Durable, Fast Charging!,Good brand,It’s like original apple cable,One of the best wire ..,Super well build. Quality product worth the money,Good product"
        ],
        [
         "Value for money Product,Watch start button,VALUE FOR MONEY,Budget smartwatch,Watch is good,Good watch.Lekin jab recive Kia,watch on tha.Alarm pm me set nhi hota hai,Only am me hota he,Good watch,Amazing watch amazing colour! Just bought yesterday, will share feedback again after the usage."
        ],
        [
         "Perfect For HP Laptop,Okay,Good,Worst Product by Seller,Above average,Product achha laga,Working fine,Worth the Price - Front Panel cover not included as shown in product description"
        ],
        [
         "Best in its price range,Best suction power,Domestic Beast,Very good suction power and efficient,Beast of a Vaccum Cleaner 🔥💯,Good built quality,Nice product with good suction power,Great Product"
        ],
        [
         "Sleek case,Perfect fit for iPad,Waluable product,Good quality,Go for it!,Its definitely worth it,Am glad I bought this.,Quality is good"
        ],
        [
         "sometimes writes are little slow, otherwise fine,great product,Worth 100%,The only thing I was being deprived of was it's color.Instead of blue,I got a grey one.,Good product,Good product,Not with password and mailio softwares  this product not work properly,In the what u expect go for it ...."
        ],
        [
         "Good product,I haven't received my warranty bill inside,Whisking attachment not received,Awesome,Great Product! Go for it!!!,Nice,Good product .,Must have for every kitchen"
        ],
        [
         "Good product,Excellent product,Good pruduct as of now.. 👍,Best product,Happy with the product,Compact product,Must buy item.,Havell’s Instant Geyser"
        ],
        [
         "If you’re a home baker, just go for it without doubt,Excellent👍,Nice product,Useful,Bhari,Too good,Good for cake,Useful"
        ],
        [
         "It worked well for some days later it is not working , I want it to replace.,Extremely fine,Superb product,This is very decent, quality is super good!,Good,Awesome Product Quantity & Value For Money,Go for it..,Be(a)st in the market."
        ],
        [
         "It worked well for some days later it is not working , I want it to replace.,Extremely fine,Superb product,This is very decent, quality is super good!,Good,Awesome Product Quantity & Value For Money,Go for it..,Be(a)st in the market."
        ],
        [
         "It is Okay.,Amazing product and fast shipping,Sturdy,Good, its Useful.,most useful products for every kitchen,value for money,Good Quality Product,Good clips"
        ],
        [
         "Product is always good ,but service is not properly packaging also dammage box . focus on service,Easy to clean,V good,Good product,I love product Usha,Best,Good for bachelors,Good 👍"
        ],
        [
         "Over all good,Good product, but power switch,Good product,Quality product by Borosil!,Awesome 👌,Easy to use,Excellent,Its a very user friendly product."
        ],
        [
         "Okay product in picture,Good for students,Nice product,Portability,Great product at this price,Just working,Nice,Good"
        ],
        [
         "Nice but few Cons (*that you must read*),Smooth,Nice,Somewhat good.,Its ok,Very nice pen,Nice product,Best parker pen with very cool design"
        ],
        [
         "Good,Good product,Heating is less,Good and quality product.,Excellent product,Very good,Easy to use, better in performance,Superb Project 🥰"
        ],
        [
         "Weight without the wait,Good,Good Product,Nice cute scale,Best weight machine,Must have for every kitchen,Value for money,Digital Luggage Scale with Target Value Setting"
        ],
        [
         "Value for money,Nice product,Good,Product is dirty,Very usefull but small size.,Attractive!!,Best product,Superb comfort"
        ],
        [
         "Value for money,Nice product, comfortable to use.,nice one,Good product with some areas of improvement.,Good and easy to use.,Best Vaccum cleaner in this range,Best vacuum cleaner for house hold use,Nice"
        ],
        [
         "No entanglement,Iron with freedom,Good Iron,Steam iron!,It’s wireless,Good,Wonderful,Light weight and very adjustable to ur family needs"
        ],
        [
         "Meets expectation,Good product,High quality product,Worth the spend!,Great product,A decent filter coffee maker.,Good product for an average user.,High quality"
        ],
        [
         "Could be better.,Nice for office use,Good,Nice but little small,Nice mouse for office work not for gaming.,Good,Performance i good...,sleek n smooth"
        ],
        [
         "Average,Value for money product,Nice product,very nice product... screen should be little bit more bright,Product looks Good,Nice product, easy to use and perfect delivery,Overall nice,Good"
        ],
        [
         "Great keyboard, average mouse.,Good for daily use,Mouse is too small in size to use and getting pain,Must buy this for normal use,Noisy and not Ergonomic,Great Product,Well suited for ordinary and official usage.,Nice Product"
        ],
        [
         "Good heater, and delivery and installation was easy,Good but comes without Plug,Nice,Bestbest,Good,Good product,Ok,Good"
        ],
        [
         "Good product,Working fine,Best hand blender,Good product,Nice product,Good Product,Nice gadget for simple use.,Defected product recieved have put it on replacement"
        ],
        [
         "Absolutely loving it!,Excellent product,Very nice,Compact way to make coffee,Good one for a Black coffee lover,Excellent purchase,Great Product!,Perfect French Press! I have got two of em!"
        ],
        [
         "Received used product requested replacement,Good product,Tiny bomb,Very nice,works well, but its a really small tank,Very good,Value for more,Instantly"
        ],
        [
         "Works flawlessly on Ubuntu 22.04 (if installed correctly),Best for kali. Do not read another review.,Nice product,From 0 to 70 …,Good External Wifi Signal Provider,Superb,Awesome and easy to use,Good product"
        ],
        [
         "Works flawlessly on Ubuntu 22.04 (if installed correctly),Best for kali. Do not read another review.,Nice product,From 0 to 70 …,Good External Wifi Signal Provider,Superb,Awesome and easy to use,Good product"
        ],
        [
         "Works flawlessly on Ubuntu 22.04 (if installed correctly),Best for kali. Do not read another review.,Nice product,From 0 to 70 …,Good External Wifi Signal Provider,Superb,Awesome and easy to use,Good product"
        ],
        [
         "Nice product .,Good quality Braided cable, VFM,Good cord, but has Earthing issue,Ok,Good product. Little bit fast charger for phones like redmi.,Fast charging is working properly,Money value product 👌,Cable a Nice product"
        ],
        [
         "Nice product .,Good quality Braided cable, VFM,Good cord, but has Earthing issue,Ok,Good product. Little bit fast charger for phones like redmi.,Fast charging is working properly,Money value product 👌,Cable a Nice product"
        ],
        [
         "Nice product .,Good quality Braided cable, VFM,Good cord, but has Earthing issue,Ok,Good product. Little bit fast charger for phones like redmi.,Fast charging is working properly,Money value product 👌,Cable a Nice product"
        ],
        [
         "Tools,Good product,Small yet powerful,Pretty good for the price,Good quality,More than price worthy,MUST BUY IT,Great product!"
        ],
        [
         "Good product  but has a misleading information about warranty,Value for money,4.5 ⭐ Small and Sturdy blender and versatile,Perfect for every kitchen,Awesome Product,Nice Product,Very nice blender,Worst product and service"
        ],
        [
         "Very good,Worth the Buy,Good,manufacturing date is old,Great,Good, but not Great,Genuine product,Cr2025"
        ],
        [
         "Overall Watch Review,Descent  looking, perfect working smart watch,There is a bit of snag in wake up mode,Battery is not good only one day it will come,Beginner friendly apple clone watch,elegant look,You can go for it!!,Nice product but the touchscreen and app could have been better"
        ],
        [
         "The Best Purchase,Very useful product,Good products,Very handy to remove lint,Good product,Good product,Good,It's worth it."
        ],
        [
         "Product is good but the installation provider team is pathetic,Mediocre performance with pathetic installation experience,Satisfaction,No invoice inside the cartoon for warranty claim,Ok,Happy  😊 😃,Good product,Good ... But some problems in installing"
        ],
        [
         "Livpure water filter reviews,Good product,overall good product, works great,Livepure Water purifier,Excellent.,Amazing product,Superb performance,Very good"
        ],
        [
         "Useful item,OVERALL NOT VERY BAD,Good quality,For the price ok.,GOOD PRODUCT,Review,Good quality,Short cord and narrow mouth."
        ],
        [
         "Cute n handy product for small family ☺️,Good for small items,Easy to work with,Good product.....,Very good product,Compact for travel,very good,Ok"
        ],
        [
         "It's a good product but it could have been better,OK ok,nice choice,Imou Ranger 2 WFi Camera,Very good,Two side communications are appreciated. Mobile app quite complicated to understand and control cam,Ordered grey , received white colour camera,Nice"
        ],
        [
         "Nice Product,Three options (toaster/grill/waffle maker) are  neatly packed into this readily usable device.,Product arrived in under 24 hrs...yet to test it,Good Quality,Very nice,Don't know why I waited so long to get this!,Value for money,Good quality, could have been somewhat lower in price"
        ],
        [
         "Cute one,Received today and installed.Observing performance.,Provides 1-30 to 2 hours backup,Perfect modem and router UPS,Nice product with some drawbacks,Shandaar Jabardast Zindaabad,As expected,Excellent product for apartments with DG backup."
        ],
        [
         "good tool to use for,Brand is always good,Overall good and a better experience,It is useful to me.,Works well with cpplus dvr,Good,Its not plug an play u need to install the driver and will support till 2.4 Ghz not above that,Surveillance Camera In My House"
        ],
        [
         "good tool to use for,Brand is always good,Overall good and a better experience,It is useful to me.,Works well with cpplus dvr,Good,Its not plug an play u need to install the driver and will support till 2.4 Ghz not above that,Surveillance Camera In My House"
        ],
        [
         "Nice iron . Heating earlist,Value for money,Nice product,सुपर,Good,Superb,Excellent product by Havells,Good"
        ],
        [
         "Nani's choice is still valid,Good,Value for money,Amazing,It looks great and Awesome.,Best product,Awesome 👌,Good working"
        ],
        [
         "Good for cooling,Not good for gaming,quality n performance,Good product,Nice performance,ABOVE AVERAGE,Good at this price (999),Works fine"
        ],
        [
         "Budget friendly watch,Good product at this price range,Ok,Satisfied,Watch ⌚️ Review,Nice,Display touch was good but screen bazales is too much,Nice watch under 2000"
        ],
        [
         "Budget friendly watch,Good product at this price range,Ok,Satisfied,Watch ⌚️ Review,Nice,Display touch was good but screen bazales is too much,Nice watch under 2000"
        ],
        [
         "worth buying this mouse!,Good,Traditional mouse that does the job,nice,GOOD PRODUCT AND GOOD QUALITY,Worth the price money and amazing built quality,Compact mouse,super comfortable"
        ],
        [
         "not perfect,Impressed,1 Major Problem,Good one.,Value for money product for short power cutoffs,Good products,Review,Great choice if you want a wi-fi UPS with good battery backup"
        ],
        [
         "Only for grill sandwich use cord length is too shorthort,Decent product, has some old flaws,Good 👍,Every home should have this,Weak body material,but overall good product,Good one with a small issue.,Trusted brand,Nice product but cord length had to be replaced..very short"
        ],
        [
         "Easy To Carry,Nice product,Handy and easy to use,Best,Very easy to make waffle. Best product from Amazon,easy to make,Disappointed,Very gud n very easy make waffers I love it this produt"
        ],
        [
         "Worth money,Average,Morden geyser , very nice, value for money,Value for money,Voltage issue after geyser installation,Model looks nice but charged for connection pipes.,Very good Geyser. Worth every penny.,Quick service"
        ],
        [
         "Received defective item update: better now,Good product,Good connectivity,Good 👍,Go 4 it.....,Easy to Install,Nice product.,Works good"
        ],
        [
         "Loved it.,Not smudge proof,Nice,Good purchase.,Good screen protector for MI 5 Tab.,glass,Ok for its price but the fitting is just perfect,Poor product and poor resolution to complaint"
        ],
        [
         "Good suction power, enough for most cleaning,Worth for the price given,Okayish,Budget vacuum cleaner.,Very nice product worth it 😄,Best vacuum cleaner,It's a really good worthy product,Simply superb"
        ],
        [
         "Good one,, bright!,Great product altogether,Good but there are better options,Good monitor but bad build quality with some dumb design choices,Very nice👌👌👌👌👌,Overall good. Value for money,Good,Perfect monitor for editing and casual gaming"
        ],
        [
         "Good Product,Nice product,Good product,Good,I made my sweaters look like brand new.,Nice product,Perfect to clean lints easily,Good Product"
        ],
        [
         "Good,Best Quality product you should go for,Prince Mondal,Very good product,Good quality!,Very dark,It's dark!,Received Black quink in bottle without plastic cover at bottle neck"
        ],
        [
         "It is nice ..and user-friendly,Really great product,Nice and easy to use,Good for light usage,Overall a valuable product in this range.,Good,Nice product,Nice product"
        ],
        [
         "Iphone User,Overall good,Perfect price, perfect fit,Good,Worth,Perfect replacement for Apple cable,At this price it's a steal.,Good cable with decent price"
        ],
        [
         "Iphone User,Overall good,Perfect price, perfect fit,Good,Worth,Perfect replacement for Apple cable,At this price it's a steal.,Good cable with decent price"
        ],
        [
         "Definitely good but wire is too short,Never expected an easy on pocket brand like BoAt winning heart the way apple does! Good product,Good headfone on budget,Nice,Quality is promised.,simply awesome,Value for money,Sound and mic quality good but not comfortable"
        ],
        [
         "Overall good performance,No things,Nice product,Good deal with Bajaj . It compact & less area coverage.,GOOD,Fast delivery,Not working,Quality product at affordable price"
        ],
        [
         "Good,Adequate and efficient are the most apt words.,Good product,Single rice bowl,Good,Gift of god,Nice,Looks elegant"
        ],
        [
         "Good product,Worth of cast and useful of batchelors,This product quality is very good,i like this product,Value for Money,Verry use ful,Good product and easy to use,Looks nice,Excellent product"
        ],
        [
         "Good performance,Good backup,Good,Slightly larger than ordinary AA,Good product,Good product,Less durable,2 Year Old Product Delivered.."
        ],
        [
         "Not for people who prefer taste over health.,Good product use easy,Not for big families,Good Purchase,Definitely a buy,ONE OF THE BEST BUY EVER....,Cooking awesome...,Sleek and elegant."
        ],
        [
         "It's very nice,Got the correct one, asked,Good product,Very good item,Awesome,Good,ok,Delivered on time"
        ],
        [
         "Happy that I chose this,Good product,Easy usage,Go for it!,After a lot of research I found this one a very gud nd useful.,Higher sound level,Good to use. Using for the past 6 months. I run a home bakery. Quality is good.,Excellent"
        ],
        [
         "Good quality,Bindaas watch,Good,Must buy,The LCD display is much better than shown in images or videos,Love to Noise Brand,Good product battery backup good,Nice one"
        ],
        [
         "Good water heater,Good quality,Good products,Good,Good,Good product,Good product,Brand value"
        ],
        [
         "Good product, removes lint efficiently.,Good product. Does job well.,A recommended product,Easy to use,Good product,The Product Is Very Useful Thanks To Agaro,Good lint remover,Nice product"
        ],
        [
         "Useful on winter / cold deasons,Socket required,nice,GOOD QUALITY,Handy,Handy and easy  to use,Liked it,Good"
        ],
        [
         "Superb,Quite efficient,Go for it,Very nice,Noisy but works good.,Powerful grinding,Satisfied for the time being.,Solid purchase"
        ],
        [
         "Good machine,Machine is very easy to use after watching the tutorial video,Good product but.....,Costly product only,Superb quality and handling,Usha janom super sewing machine,Worth to buy this,Didn't get warranty card and fabric is not moving"
        ],
        [
         "Rusty Steel beater,Product delivered in good condition but a little late than expected delivery date ..,Good product,It's good if used properly.,Nice....,Worth it Buy,gud one,KENT 16051 Hand Blender 300 W"
        ],
        [
         "Very responsive and stylish mouse,Simply Awesome,Satisfactory but OTG not working,Satisfied with this wireless mouse,Overall performance is good.,Overall very happy with the product,Strong build with silent click,Excellent mouse for the price"
        ],
        [
         "Price wise the best in Category,Laptop is not sitting properly on the stand.,Product Quality,A good product.,Awesome product,Not that good for heavy 17 inches laptops,Good product can be better,Value for money and compact"
        ],
        [
         "Good choice,No noise and all clean air. Very effective and the family noticed an improvement right away,Good product and easy to install,Go for it!!,Happy to use,How can I contact the manufacturer,Good,Excellent product"
        ],
        [
         "Okay to use,Good value for a well finished product - recommended,Do not buy this product,Better than expected.,Best carafe from amazon,Build quality is not that great,Replacement parts not available or sold for twice as much as the value of the entire product,Good product"
        ],
        [
         "Good quality fan,Good one...,Fraud,No remote control,Value for money,Easy to assemble,no remote control but I think worth for money(bcz low budget pedestal fan,Good,Nice fan"
        ],
        [
         "Nice,good,Paisa vassol,Sturdy and long.,Good for the price and great quality.,Works as expected,Good,Good"
        ],
        [
         "Nice,good,Paisa vassol,Sturdy and long.,Good for the price and great quality.,Works as expected,Good,Good"
        ],
        [
         "Nice,good,Paisa vassol,Sturdy and long.,Good for the price and great quality.,Works as expected,Good,Good"
        ],
        [
         "How to choose an iron ? This one-A decent combo of features & price.Cable quality not good though.,Quality Iron for power users with effective spray & steam function | Review | Guide | Tips,Doesn’t remove hard wrinkles.,Easyto use but it leaks water,Very easy to use,Good product,Quick warm up,Not good"
        ],
        [
         "no,Good and reliable product 👍,Overall very fine Quality,Useful product helped my family a lot in winter,Operating switch is too hard for aged person,Sabse badhiya,Good product,Good product at this price"
        ],
        [
         "Value for money,Very good.,Overall good but very fragile! KEYS STOPPED WORKING AFTER 3 MONTHS,Got what I wanted,good,Recommended I used wired version,slightly overpriced but worth it.,Product"
        ],
        [
         "Value for money,Ink,Great,Best in the Market,Value for money,It's Awesome,Very good ink as expected 😊,Very good product"
        ],
        [
         "It costs Rs 500 in local electric shop,Good product 👌,It's really a good product, required a better holding to pull it back from socket,Nice and excellent quality,Easy use,Nice product,Nice Product,Plug size"
        ],
        [
         "Nice product very easy clean,Don't buy it,nice,Multipurpose | little hard to clean,Absolutely perfect product,Must have product at home,Not good for any other use than boiler,Defective Model received - No refund, Only replace"
        ],
        [
         "Oratech Best Coffee Frother,Great,My review about Oratech Coffee Frother for milk,Good product,Easy to use 👍,Good product,best product,Easy to use"
        ],
        [
         "Good enough,Nice Choice,Best price and best quality. Just go for it.,Value for money,Steel is good.,Good,Worthy product,Good"
        ],
        [
         "Stone 180 is good as a portable speaker.,Good but not that much ok sound,Nice,Battery life,Poor battery life,Not have loud sound,Value for money...,Average"
        ],
        [
         "Wrong battery,It's working,Good,Ordinary product,Good,Poor packing not expected from a reputed brand like HUL😣😣😣,Water purifier,upset with product not good"
        ],
        [
         "Not to the mark.,Ok.,Good Product,Good but lack some features,Best quility,Nice,Good for money,Just as expected."
        ],
        [
         "Serves unlimited hot water instantly,Very good,Go for it,Instant heating,Just go for it.,Best for instant heat water,Amazing products,Instant got water, quite literally"
        ],
        [
         "Bottom Lid should have provided,Good product... Compact.... Battery has less strength....,Easy to use, to carry and quality 👌,Good for smoothies..,Nice one,Worth it for a person living in PG.,Good,Ok for the Price. Not something perfect"
        ],
        [
         "Working with some issues,Digital display faulty,Best in budget,Quick heating and good digital temperature display,Installation and Inlet Outlet Fees are 350+250,Good,Good performance,Geyser looks compact and easy to access"
        ],
        [
         "Very good,It does what it's supposed to do,Affordable,Not a original pakage,Good,Less speed,No issues,Not too much good"
        ],
        [
         "Good product,Metal but still the hinges can be made little stronger,Need to have slot to keep the stand more steady,Decent product,Good product,Just fine.,Nice,Costly but as per product description. You might get very cheaper in local market"
        ],
        [
         "Nice Gyser,Good child I am say,Great product in this budget,Good product,Good,Amazing Machine highly recommend,Good product,Working Great"
        ],
        [
         "Good product,Good quality,Good,Great mouse pad,Good worth the money.,Works flawlessly for many years,Nice mouse pad,Quality"
        ],
        [
         "Good product but costly,It’s really long n sturdy no homo 🔥,Takes longer to charge than the regular cable,Quality is really good,iPhone X pink charging cable long one ☝️,A good purchase,It charges fine for me,Absolutely fantastic USB👍👍👍"
        ],
        [
         "Good product but costly,It’s really long n sturdy no homo 🔥,Takes longer to charge than the regular cable,Quality is really good,iPhone X pink charging cable long one ☝️,A good purchase,It charges fine for me,Absolutely fantastic USB👍👍👍"
        ],
        [
         "Good product but costly,It’s really long n sturdy no homo 🔥,Takes longer to charge than the regular cable,Quality is really good,iPhone X pink charging cable long one ☝️,A good purchase,It charges fine for me,Absolutely fantastic USB👍👍👍"
        ],
        [
         "Good for my work,Worth it,Hard disc is not detecting,Good hdd with a 1.5 tb storage.....really cool and fast,Faster data transfer,Nice,Reasonable price,Sleek design"
        ],
        [
         "Average,I like the 'Pentonic' pens,which is why I had made the purchase.,Useful,Liked it,Nice,Penatoni pen is good work,worth it,Useful"
        ],
        [
         "Useful Product,Good product,Good,Most cutest color travel iron,Good quality product.,Great quality garment steamer,Superb,Superb supportive good for garment!"
        ],
        [
         "Nice,Perfect. Reliable. Standard size. Good suction for 10*10 bathroom,Good but got costly at 1600,Good exhaust for bathroom,Good product,Request to Return/Exchange,Easy to use,No bad"
        ],
        [
         "Sleek and battery efficient!,It's made for ergonomic and lighter use and a silent one.,Good one.,Great product,Cute, but colour mismatcg,Best for Daily use,Good product,This Pebble mouse is just mesmerising to use"
        ],
        [
         "minimum order quantity should be done away,Worthy,You can buy,300 pages = 150 sheets,Nothing,Awesome product,Nice product,It is a very nice notebook and worth buying and a very unique size(A5)"
        ],
        [
         "It is a dependable mixer one can buy without any hesitation,Good kitchen addition,It does not have light indicater,Nil,Noise is too much,Nice deal.,Nice product,😒"
        ],
        [
         "Great,Don't but space pencil,Ok,Best pencil,Nice pencil,It is ok,MRP on the box is 95,Best in its class!"
        ],
        [
         "Works perfect,Ok good product,Nice Product. Recommend it. But cleaning its exterior is cumbersome.,Excellent product✌,A good product for household use,मुझे बिल्कुल भी मजा नहीं आया और वापस कर दिया।,Best product,Good"
        ],
        [
         "Gud for the price, but adhesion quality is not very good,Nothing unique……,Attracts too much finger impressions,Perfect Fit (Almost),Easy to install,They provide tissues and wipes,Work well and easy to install,Gud product in budget"
        ],
        [
         "I like to draw on it,Best  writing pad,Great for Noting or Doodling,Good to go,The pen is too flowy and the strokes are coming out a bit thick,Magic Slate 15-inch LCD Writing Tablet,The quality and build seems good so far.,Very useful product"
        ],
        [
         "Good one,Nice,Wrong information provided by pigeon,Good product.,Best in class for this price,Best in this budget,Good product,Nice product"
        ],
        [
         "Value for money.,Good product,Good Purchase,It’s Nice,Material made of plastic,Broke in first use,Good quality,Low cost"
        ],
        [
         "Good note book,Five Star Product,Nothing,Not bad, decent buy,Amazing  quality,Good quality paper/binder/separator ( Value for money),Great for writing notes,One minus star is for one defective piece.."
        ],
        [
         "Better..!!,Charging speed is not guaranteed!,Exactly as advertised,Excellent warp charge cable,Nice,Amazing cable,Best fast charging cable,Really a good cable, Recommend"
        ],
        [
         "Better..!!,Charging speed is not guaranteed!,Exactly as advertised,Excellent warp charge cable,Nice,Amazing cable,Best fast charging cable,Really a good cable, Recommend"
        ],
        [
         "Better..!!,Charging speed is not guaranteed!,Exactly as advertised,Excellent warp charge cable,Nice,Amazing cable,Best fast charging cable,Really a good cable, Recommend"
        ],
        [
         "Good,Nice,Good product 👌,Get's the job done.,Kent 16068 Zoom vacuum cleaner is very good to use and easy to clean and charge as well.,Less durable,Preety easy to use,Awesome product"
        ],
        [
         "Affordable product but poor design,Amazing,Just barely serves the purpose of the wireless keyboard and mouse.,If your budget 1K - best of best,Good comfurt,Very useful 👍,very compact easy to carry,It's really good"
        ],
        [
         "Good toaster,Seamless. Undoubtedly the best,Good product,Everything,Nice and okayish to use at home.,Value for money,Good pop-up toaster. Bun warmer feature is a nice addition,Wonderful product."
        ],
        [
         "Packaging and look wise it is awesome 👍,Perfect fan,Good product,Good looking bit heavy,Nice product,Good,Good fan,Looks classy"
        ],
        [
         "Very very very good in terms of ergonomic,Good keyboard but have some cons,Good For Daily Use,Easy to use, hard to carry,nice,Excellent, Durable and connects to any gadgets including IPhone,Not suitable for all,Absolute Rubbish -> Moderately Good Product"
        ],
        [
         "Fine for beginners but brightness is low ...increase brightness ..,Good,Size and brightness,It is good for rough work,Very nice & satisfactory,Very low brightness,Na,Nice product for this price"
        ],
        [
         "Good Portable product,Product is good but within 3/4 uses battery is dead now have to change its battery(cell),Finally I got my item and it works fine.,Overall Very good products and value for money , go for it,Wonderful product,Nice,It was just osm,It's best"
        ],
        [
         "3,Sturdy and Works Flawlessly,Excellent 👍,Really Good Product,Cord is very small,Plug size is bigger now, comes with 15A! Please change the plug size to 5Amps,Broken material given,Good product"
        ],
        [
         "Unhappy with storage.. actual storage is 57Gb,Most amazing sound , Really unbeatable better than any  another similar products  .,Nice,Esy to use,Pendrive,Nice and small,Value for money,Good"
        ],
        [
         "Nice product ..,Lenovo 300 camera,Very nice in the pricecrange and in budget.,Not able to connect with android TV , can you please help me out.,Good for 4 group calling fot have focusing function,Good one..,Amazing,Good product"
        ],
        [
         "Works as expected but some things can improve,I am using this more than 1 year,Overall its a good product, very useful.Some minor drawbacks.,Great for vacuum, bad for mopping,Good product.,Product service issues,Good product,A helping hand for working women"
        ],
        [
         "Very useful,Very useful item to make your phone cables long lasting,Price can be reduced as this product is not worth for 80 rs,Value for money,It is useful,Good product,Good quality,Its good item in this money"
        ],
        [
         "Very useful,Very useful item to make your phone cables long lasting,Price can be reduced as this product is not worth for 80 rs,Value for money,It is useful,Good product,Good quality,Its good item in this money"
        ],
        [
         "Very useful,Very useful item to make your phone cables long lasting,Price can be reduced as this product is not worth for 80 rs,Value for money,It is useful,Good product,Good quality,Its good item in this money"
        ],
        [
         "Nice product but little bit costly,Is good,Value for money,Ok,Good product,Nice product,we can use it for every work like chatni, shake, blending, etc so you must try it.,Using it since 2019"
        ],
        [
         "Pages size is small but good quality,Okay,Quality,Best,Classmate pulse,Best paper,Good,I loved it..."
        ],
        [
         "Good.,Good product,Ultimate product,Good Product,Not that good. But ok for the price.,Fast cable,Fast charging 👍,Best Alternative to Original Cable"
        ],
        [
         "Good.,Good product,Ultimate product,Good Product,Not that good. But ok for the price.,Fast cable,Fast charging 👍,Best Alternative to Original Cable"
        ],
        [
         "Good product with bad resellers,Works great,Best in Class.,Best quality surge protector,Sturdy and Safe Surge Protector!,Good,Perfect product.,Best quality"
        ],
        [
         "Worthy, best for bucket bathing:,Water heater that does the job right,Works as promised and the installation was quick..,All good,Good product.,Worthy product to buy.,Easy to install.,Nice product and good service"
        ],
        [
         "Good work,super quality,Good mouse. Handy for work from home.,Good Mouse for Laptop,very nice to use and soundless,Good,At this price, it's definitely best. Good working and functioning.,Good"
        ],
        [
         "Merges with the device, Ultra Thin, Smooth Sliding,Good for Privacy Concerns,Good product,RESEARCH PROPERLY BEFORE BUYING! NOT SUITABLE FOR MACBOOKS!"
        ],
        [
         "Merges with the device, Ultra Thin, Smooth Sliding,Good for Privacy Concerns,Good product,RESEARCH PROPERLY BEFORE BUYING! NOT SUITABLE FOR MACBOOKS!"
        ],
        [
         "Good product,Good Product,Very easy to use but my mom wanted a transparent one,Very good product,4 on 5,overall good,Nice,Elegant & Sturdy!"
        ],
        [
         "It’s a good product in this price.,Nice product,It's very good,Good for use,Velue for money product,Good product,Value for money purchase,It is worthy"
        ],
        [
         "Worth for money and best customer service.,Good buy,Helpful.. customer care amazing,Good performance with less space,Best suited for bachelors,Best mixer grinder for small daily kitchen requirement..,Happy with cookwell☺,Nice product"
        ],
        [
         "Excellent product,Great Quality,Good,V good product,Overall a good product,Money waste,Good kettle, but NOT for boiling milk,Gud"
        ],
        [
         "Good quality product, Best suitable storage for 4k videos,Perfect for nintendo switch oled,Best in the segmet...,Expensive,Product Is Good,Good,The delivered one was 90Mbps write property,Nice Write Speed But Read Speed Is not that much is giv..Read Speed goes to 90mbps Write 80to90mbps"
        ],
        [
         "It is a great product can be used to make dishes and curry too.,Nice and satisfied.,Good Product. Easy to use. Worth buying.,It works well.,Nice product,Its a beautiful product but very small.,Impressive product,Stylish"
        ],
        [
         "Noice,Love these.!,Good,Nice product,Good items,Drawing ke liye Maine mangvaya tha,Nice acrylic paint tubes. Good one,Smooth paste nice product"
        ],
        [
         "A beautiful experience in your budget. The volume controller was new for me but it works as a charm.,USB speakers,Nice for the price,Worth the money,Good product,No disable light feature,Please improve sound quality and more,Better at Price"
        ],
        [
         "quality is awesome trust me guys 👍,Nice to purchase,Aesthetic look but not sure about the reverse side,worth the money,Zipless and logoless but great product,Value for money product,Looks good,Size"
        ],
        [
         "good machine in budget,Very good product...,Over all experience is good with this product,Very good machine insuch a price range,Overall,Good product.easy to use,Good product compared to the price range..and performance is satifactory,Useful product with good build quality"
        ],
        [
         "No power butten to on and off.,Nothing,Product is Ok-Ok,It's auto close Green light is not working.,Good but cord length is short. Must be atleast 4 fts,Nice to use,Good,Good product"
        ],
        [
         "good product,Nice one,Product is gud but size could be little more,Best Buying,Good product,Material is good,Worth for cost,Sturdiness of Kuber Industries Waterproof Round Non Woven Laundry Bag"
        ],
        [
         "Utilitarian,Excellent product,Good features,Good product with reasonable price,Super,Nice one,Average product,Value for money"
        ],
        [
         "A Quality Sound-Signature but leaves craving for a decent bass.Quite fragile too.Compared with Senn.HD 202 II & Sony MDR XB50AP.,boAt 225 vs JBL CS100 vs Sennheisers cx180 | DETAILED Comparison after 1 YEAR of USE."
        ],
        [
         "Nice product, a must have,It works like magic 💫💫,Useful and beneficial,Good,Good and useful,Easy to use,Go for it,Easy to use but expensive"
        ],
        [
         "Overall good purchase,Good,Good Purchase,Ok hi upar ka dhakkan bahut acchi quality ka nahi hi,Nice,A must have product for your home...gud capacity nice look,Decent buy,Good product"
        ],
        [
         "Coffee Filter,Just go for it!,Happy with the product,If you drink 1 or 2 cups of coffee a day, this's it,Works well! But pricey,Easy to make coffee with and sustainable.,GOOD FILTER,good for a person or two"
        ],
        [
         "Good Performing Air Purifier at a Decent Price,Value for money,Nothing earth shaking about this product!,It is good,Great product.,The product is working nicely and worth buying product.,Writing after 1.5 years pros cons solution and trics do read my reviews and vote,Works but no use"
        ],
        [
         "Clearly makes a difference,Good,Value for money,Good material,The ink of parker is very lite,Good,Good,Very good"
        ],
        [
         "Easy to use,Working fine - but errors while using USB and Ethernet adapter together.,Speed is just awesome go for it,Best price to buy,Awesome product,Overall good,Drains battery if you use on smartphones,Excellent product but it has 1 major and 1 minor inconvenience"
        ],
        [
         "Easy to use,Working fine - but errors while using USB and Ethernet adapter together.,Speed is just awesome go for it,Best price to buy,Awesome product,Overall good,Drains battery if you use on smartphones,Excellent product but it has 1 major and 1 minor inconvenience"
        ],
        [
         "Good,Made for special ones,Good Product,Awesome,Gift given in birthday and other,Good,good,Pen is Best Gift for Everyone."
        ],
        [
         "Good,Good Product but Little expensive.,Happy with the purchase,Good buy in price range,Best travel companion,For instagram reels zoom in and zoom out switch is not available,MUST BUY FOR EVERY ONE WHO OWNS A MOBILE PHONE !!!,A good selfie stick"
        ],
        [
         "Good,Good Product but Little expensive.,Happy with the purchase,Good buy in price range,Best travel companion,For instagram reels zoom in and zoom out switch is not available,MUST BUY FOR EVERY ONE WHO OWNS A MOBILE PHONE !!!,A good selfie stick"
        ],
        [
         "Good,Heads up,Good product,Bright in color  good product 👍🏻,Nice dark colors...,black  and dark blue paper not supplied  as it should be also there making it 4x12,Quality is too good,Nice bright colour"
        ],
        [
         "Good one,Punchuality,Good product,Good quality,పర్వాలేదు,perfect for use,Good,👍"
        ],
        [
         "Good product,Very nice product,The product Is good according to its rate,The product is nice in its working. The only issue is handling product.,Just 30 Seconds and frothy coffee ready.,Nice product,Ok product,The product is by far good"
        ],
        [
         "Adhesion,Good product,Does not stick,Nice sticky note,good,Not up to the mark,Worth to sticky,GREAT...."
        ],
        [
         "Decent product for the price mentioned,Will recommend for gaming too.,Jakkas mouse pad,Ergonomically designed!,Premium Product !,Great to use,good product,Very comfortable"
        ],
        [
         "👍 nice,Lint removed instantly and effortlessly,Amazing product...worth the money,Best purchase till date,Good,Works as expected,Good quality,Must have product for Winter clothes"
        ],
        [
         "Not satisfied,Nice,Low quality,Amazing product,Best in its category,Very good sprayer,Good,Not sturdy"
        ],
        [
         "Nice,Good but screws are poor quality,Strong brackets,As required,Promt delivery,tlob ralugnA,Good,Quality of material is good but painting quality need to be improved in future product"
        ],
        [
         "Highly time consumption.....,Slowly,It's good.,The cord length is ok, but the jack point is different,Useful product,Good Product,Good,good"
        ],
        [
         "Product is good but huge noise,Good vaccum but too loud and noisy,The product was good,Good one,Super,Suction is awesome,Damage product received,A decent budget product for a clean house."
        ],
        [
         "It's okay,A must have for coffee lovers,Perfect product for making a perfect cup of coffee.,Stopped working after minimal usage,Great Product,Amazing!,Awsome,Good"
        ],
        [
         "Good quality,Good quality product,Must Go For It 🥰,Great case to carry charger or manage cabled products,Good,Rugged, compact. Would have been better with a loop to hold.,best for your earphones,Good"
        ],
        [
         "Good,Its a good alternative apple pencil,Good,Value for money,Ok,Good performance,perfect fit for AMAZON BASICS (Pencil),Functional for casual use"
        ],
        [
         "Decent product,doesn't pick up sand,Ok ok,Must Buy,Good one for basic use with normal suction power,Super,First review,Perfect product for my car"
        ],
        [
         "Lint remover,So nice but takes longer then expected,Perfect,Works as promised,Very useful product,easy to use,Amazing product,Value for money"
        ],
        [
         "Worth the price,Mi Smart Tv 32\" :- 7/10 average.,Worth using since 1.5 years,expect more from mi,Worth for money.,Good product,It’s good,Go for it without thinking twice."
        ],
        [
         "Worth the price,Mi Smart Tv 32\" :- 7/10 average.,Worth using since 1.5 years,expect more from mi,Worth for money.,Good product,It’s good,Go for it without thinking twice."
        ],
        [
         "Worth the price,Mi Smart Tv 32\" :- 7/10 average.,Worth using since 1.5 years,expect more from mi,Worth for money.,Good product,It’s good,Go for it without thinking twice."
        ],
        [
         "Worth the price,Mi Smart Tv 32\" :- 7/10 average.,Worth using since 1.5 years,expect more from mi,Worth for money.,Good product,It’s good,Go for it without thinking twice."
        ],
        [
         "Excellent OTG and even excellent price range👌👌👍👍👍,Good product,Very Good Product at its Price Range,Great to use and makes tasty food,Awesome,Packaging was good, received the product at the right time.,Value for money,Worth"
        ],
        [
         "Android & IOS,About Mouse,Broke after two weeks - Update: Product replaced twice and it works now,Good,A perfect one,A decent device for daily use,Overall a good product,So far so good!"
        ],
        [
         "Product as describe,Good product,Good product but price high.,I miss my gas stove.... Induction sucks :(,Great value,No1,तेल गर्म करने में परेशानी,Good"
        ],
        [
         "ok,everything was good couldn't return bcoz I needed it in emergency,Don't buy this 1 litre Prestige rice cooker. Already replaced but still got damaged product,Ideal for a small family of two.,Nice but small,Read the leaflets before you start cooking. Learn to use optimum quantity of water.,Quality excellent,Very Good product"
        ],
        [
         "Good,Worth to buy,Great value for price,Good product,Nice product.,Reliable and worth it!,Much more sturdy and durable than Apple cable,Good"
        ],
        [
         "Good,Worth to buy,Great value for price,Good product,Nice product.,Reliable and worth it!,Much more sturdy and durable than Apple cable,Good"
        ],
        [
         "Good,Worth to buy,Great value for price,Good product,Nice product.,Reliable and worth it!,Much more sturdy and durable than Apple cable,Good"
        ],
        [
         "Good,Worth to buy,Great value for price,Good product,Nice product.,Reliable and worth it!,Much more sturdy and durable than Apple cable,Good"
        ],
        [
         "Good,Worth to buy,Great value for price,Good product,Nice product.,Reliable and worth it!,Much more sturdy and durable than Apple cable,Good"
        ],
        [
         "Easy to use, works really well.,Good experience so far,Good,Handy product,Looks great..,convenient and efficient to use,Time saving and effective.,Good"
        ],
        [
         "Nice looking and good finish deskmat,Premium product compared to other desk mats,Nice deal! Go for it,Good desk mat,Feels good,Best mat,Worth every penny,pretty good"
        ],
        [
         "Go for it,Good quality and price,good quality,Good to have instead of plastic one.,Looks good better to use than plastic,Good but can be better,Value for money,Good quality product"
        ],
        [
         "Decent Prodyuct,Normal,Good product,Great product,Good product,perfect,Built quality of product is excellent,Excellent"
        ],
        [
         "it's nice. simple and easy.,It's good but I ordered avengers printing I got other one,Not A4 size,Nice product but not value for money,Money not wasted.,Good For Day-To-Day use,medium size notebook,Good for note"
        ],
        [
         "It's good,Good,One of the few items on amazon that are original,Awesome!,Nice quality products 👍,Best price,Nice pen,Good pen"
        ],
        [
         "The best earphones you can find out there under 500 Bucks..??? Are they Comfortable..?? Let's find out.....,:( Not so good Not so bad :),Good but i don't recommend,Sexy,You can expect it to work for a year,Good buy but 1 side earphone stopped after 6-7 months,Vocals are good music is bit dizzy and there is a sound zzzzzzzzzz when everything is silent ..,Superb"
        ],
        [
         "Battery,Good buy,Bigger than expected,Best Battery for cooking stove,Great batteries,Good,GOOD,Wrong size"
        ],
        [
         "Demo Required,Nice product,Blower function not working. But in product name they have written both suction and blower both,Good,Great,No support from Eureka forbes,Cleaning is no more a tougher thing.,Great Product and good demo."
        ],
        [
         "Replaced the first one.,It is very good product,Go for it,Nice Product,Simple and supper,Compact and Premium look product,Tiny but good,Best buy ever"
        ],
        [
         "Great Cable, Charging Speeds Could Be Better,Good,A good cable.,One of the best type c cable,Works as intended.,A good buy. The extra length helps a lot.,Good,Ok"
        ],
        [
         "Great Cable, Charging Speeds Could Be Better,Good,A good cable.,One of the best type c cable,Works as intended.,A good buy. The extra length helps a lot.,Good,Ok"
        ],
        [
         "Great Cable, Charging Speeds Could Be Better,Good,A good cable.,One of the best type c cable,Works as intended.,A good buy. The extra length helps a lot.,Good,Ok"
        ],
        [
         "Pathetic amazon delivery service,Decent Indoor Security Camera,Camera used by me,Other than initial hiccups, some (Mi Home app) software bugs, it is good for monitoring!,Works well,Nice camera but motion censor doesn't work,Good,Not up to mark"
        ],
        [
         "Good, but not fast enough,Excellent product,Very slow heating,A silent heater,Easy to operate and the performance is good.,Recived room heater of only 9 fins than 11.,It's nice,Heats the the room very well"
        ],
        [
         "It's good product for other company.,Value for money!,Not satisfy with the speed,Cleaning is problematic,Ok,Good,Good looking fan but motor fitted with fiber body.. Quality ok.,Good one, with bigger, not sure about dimension wise."
        ],
        [
         "Bad servisec,a bit costly,Favourite,Thankyou amazon for brand product which I received in good condition,Good product,Good,Prestage induction,Till now going good"
        ],
        [
         "Amazing Product!,Good product at in this range.,Thik thak photo aa jata hai.,Good product,Review,Nice hd webcam,Not all of Logitech's products are excellent.,Decent buy for the price."
        ],
        [
         "Good product, Cheap and works well,good one,Nice charging power.,Nice,Good,It's a cable,Durable,Laptop cord"
        ],
        [
         "Very useful product to organize cable,Great, but a piece missing,Must Have for WFH Setup,Value,Exactly what I expected,Great product with a neat finish,Love it . Little Expensive but can't complain,Very useful product"
        ],
        [
         "Click-Bet,The alphabet doesn't light up,It is good but sometimes button got stuck and ruin your game,dont get your hopes too hight up,Good and superb but the RGB modes are less but good u can go for it,Itz mouse is so smout,Good,Cool looking"
        ],
        [
         "Good product! But price is high,It's good but not bad.,Just Go For it,,It was good and strong and easy to use,RELIABLE, STRONG DESIGN,10/10,Good,It does the job. Better than the one we get with the tripod."
        ],
        [
         "Good for the price,Good product,Good Deal,Defective,It is great to store laundry and looks good too. Good quality,Nice product.,Yes,Ok for the price, lacks structural support"
        ],
        [
         "Good product and budget price,I purchased this product from shop for Rs 1650 including everything so why to buy from Amazon,Worst product"
        ],
        [
         "Love it,Very good product quality,Awesome product,Phillips OTG,it has the maximum temperature of 230 last .,Looks Good, Easy and smart working,Good product,Good quality"
        ],
        [
         "Worth the proce,Can't complain for the price,Good product,An Affordable Mouse Pad,Office only,Badiya,Worth it just for the cost to quality ratio.,Good.. But could've been excellent."
        ],
        [
         "Convenience product,K380 & M350 Lavender,Excellent keybaord,Very handy andneasy to use .. the quality is as expected from logitech,Cool keyboard,Not worth the hype, but manageable,A Robust, High-Quality, Ergonomic Keyboard.,The best Keyboard for a Mac Environment"
        ],
        [
         "Good product,Strong and powerful,Useful product.,Very nice 👌 👍 product,Good 👍🏻,Good,USB,Strong buid , study design , charging speed ☹️"
        ],
        [
         "Good product,Strong and powerful,Useful product.,Very nice 👌 👍 product,Good 👍🏻,Good,USB,Strong buid , study design , charging speed ☹️"
        ],
        [
         "Nice product,Ok,The lid could be more sturdier. Very thin plastic.,Not very good,Fine,Excellent product,Quality,Very good quality product,can store a week laundary"
        ],
        [
         "🌟🌟🌟🌟,Good product,Nice product,Product quality is good and price is also very good,Easy to install,Nice product at this rate,Not gona regret after buying it,Best caddy in the market"
        ],
        [
         "Serves the Purpose,GOOD TO USE but price is high,Does the job well,Go for it.,Good product,Very good product and life saver in winters,Easy to use,Solve the problem of lint on woollen fabrics"
        ],
        [
         "Best Product,It’s expansive but it works well upto 800sqft area,Great product"
        ],
        [
         "service is excellent,  installation guy is very professional,  I liked the service,Amazing,Value for money,Nice product,Water is clean and tasty also. Its cleans very well,Good. Happy with the installation,Nice product at affordable price.,Affordable and we'll functioning R.O."
        ],
        [
         "Nice product,Nice iron,Wonderful product,Best product 👍,Good electric iron,As expected,Acch iron hai ap order kar sakte hai,GOOD"
        ],
        [
         "Good to go for small family. Indicater and installation issues.,Very nice product,Worth buying,Best gyser,Good,Goodwill,Bit costlier than other products in the market of its kind but quality is also very good.,Working is fine"
        ],
        [
         "Value for Money product,I didn't receive adaptor with my speakers..I'm disappointed,Sound,I can't AUX mode service,Good,Sound best Quality.,Very good,So sweet sound but subwoofer not good"
        ],
        [
         "Good,FITTING,Sealing of the product is faulty,5 Star ⭐,Best,Easy to install,Nice,Best filter"
        ],
        [
         "Good,Goos product which you can trust,Good,Cost effective,Good,Ok,Very good product,Quality"
        ],
        [
         "Sound Quality : Boat Stone 650 vs Nakamichi Speck vs Boat Stone 200,It's just a speaker with less sound,Okay to buy,Sound is not much loud in maximum volume,Boat rocks always,Excellent 👌,VFM PRODUCT BUT THERE'S MORE TO IT. READ ON!,Excellent sound quality, i like this speaker sooooooo much 👌👌👌"
        ],
        [
         "Best Budget Mechanical Gaming Keyboard Period!,AMAZING KEYBOARD! Premium, Affordable and neat layout.,Pretty good for basics,Value for money,  not very fancy but subtle!,Good keyboard but,My first mechanical keyboard!,Best mechanical keyboard,Modding is So easy!!"
        ],
        [
         "A perfect balance of price and performance,Great Suction and above average mopping | Good Buy"
        ],
        [
         "It is very good product value for your money go for it and save some money,Nice,Easy ro use for children as well,Less time more work,Must buy 😊 I would recommend just go for it,Super fast,No need to wait for a long time,It's a good product"
        ],
        [
         "Okay Okay kind of product,Good quality though bit expensive,Easy to use,Quality is good,Good quality product,Just Okay,Very thin steel.,Super"
        ],
        [
         "It is kinda heavy and i suggest u should use an mouse pad,I'm not a pro gamer but this mouse does the job well,Valuable mouse,Value for Money,Don't buy if you are planning to buy this for FPS Games,Good according to price and specification,Super looking and more featured mouse,Perfect Product"
        ],
        [
         "Good,Kind of too big.,Efficient one,good quality appliance,Nice product,Sturdy, well made,Fantastic product, I'm using it from last 10 days and it is working good. Value for money.,Quality product"
        ],
        [
         "Felt very useful 👌 but cable is short,Good in portable series of Geyser,Awesome product,Good quality,Product okay but no bill receive,Wrong Reviews uploaded for this product.,Good Product"
        ],
        [
         "mast mouse hain,Awesome and cheap for gaming mouse,sensitive as I expected,Mouse gaming,Build quality is very worst,awesome design from HP,Best Buy,Perfect 👍"
        ],
        [
         "Good product at this price,An excellent product experience. Does job well at this price range..,Ok,overall good at this price,The Steel around the handle gets hot too!,Light weight product,Nice,A good iron for the reasonable price, tepreture control.."
        ],
        [
         "Good,Genuine product,Not first charge this cabil,,Nice cable but known durability,Got a used type c to c cable and the xable was damaged,The product is Genuine and Good,Abdul kadir,Good"
        ],
        [
         "Good,Genuine product,Not first charge this cabil,,Nice cable but known durability,Got a used type c to c cable and the xable was damaged,The product is Genuine and Good,Abdul kadir,Good"
        ],
        [
         "Strudy, Awesome connectivity........but bass is NOT upto the mark,Good for home,Superb Product but no memory card slot,Good box as per range,Good,Good but battery drain fast...,Good,Very good"
        ],
        [
         "Nice .,very good batteries received,Longtevity,Good product, Good seller,Reasonable pricing,I liked the package and product is very good,Good,Value for money"
        ],
        [
         "Nice product,It works!,Indoor device, not for field use!,Does the job,Value for money product.,Good product,Till now...Using since 7 days..It's good,Useful USB multiplier"
        ],
        [
         "Healthy alternative to traditional deep frying,A new useful equipment for kitchen,Nice product. A must have for healthier cooking,Best in class Air fryer from Philips,Very nice product for Oil free cooking,Very useful product,Less Oil  food to eat,Quick snack machine"
        ],
        [
         "💥,Considering the price range, it’s a good one,Worthy,Good products,Good,Good as brand,Ok Product,Value for money,"
        ],
        [
         "Good product st this price,Good Product,Good product,Awesome product,Pipe is not there it's mentioned that pipe is with this order,Easy to install,best price.,Good,Good product"
        ],
        [
         "Good product,Quality is great but chuteney jar is not working well,Good,Superb,Very good item,Super purchase,Superb 👍,Sujata hi lena."
        ],
        [
         "Just buy it dont even 2nd guess it,Quality is good,Nylon braided quiet sturdy,Amazing,Feels like steel harnessed wire - strong,Sturdy and durable. Useful for charging Power Banks,good,Nice quality"
        ],
        [
         "Just buy it dont even 2nd guess it,Quality is good,Nylon braided quiet sturdy,Amazing,Feels like steel harnessed wire - strong,Sturdy and durable. Useful for charging Power Banks,good,Nice quality"
        ],
        [
         "Just buy it dont even 2nd guess it,Quality is good,Nylon braided quiet sturdy,Amazing,Feels like steel harnessed wire - strong,Sturdy and durable. Useful for charging Power Banks,good,Nice quality"
        ],
        [
         "Just buy it dont even 2nd guess it,Quality is good,Nylon braided quiet sturdy,Amazing,Feels like steel harnessed wire - strong,Sturdy and durable. Useful for charging Power Banks,good,Nice quality"
        ],
        [
         "Nice product in this range,After 3 month of using ,,observed decorative ,less noise upto medium speed ,overall OK .,Best product,need to improve on noise,Good fan,Good,Noisy,Value for money spent"
        ],
        [
         "Good,Quite Good, just a little too costly, but worth it,Best in this budget segment,Table is good,, wood is hard, legs are strong, but plastic frame is broken at one corner,The product quality is good. The size is small. It is stable not bending while working on table.,Good 👍,Perfect for WFH !,Best buy"
        ],
        [
         "Good material, fast charging,Costly but good product,Support type c super fast charging,Good quality,Sturdy cable & has decent charging capabilities.,Good buy.,Gud product.,Very good product"
        ],
        [
         "Good material, fast charging,Costly but good product,Support type c super fast charging,Good quality,Sturdy cable & has decent charging capabilities.,Good buy.,Gud product.,Very good product"
        ],
        [
         "Good material, fast charging,Costly but good product,Support type c super fast charging,Good quality,Sturdy cable & has decent charging capabilities.,Good buy.,Gud product.,Very good product"
        ],
        [
         "Good material, fast charging,Costly but good product,Support type c super fast charging,Good quality,Sturdy cable & has decent charging capabilities.,Good buy.,Gud product.,Very good product"
        ],
        [
         "Good product,Decent,Highly recommended,Kids love colour,Most awesome choice for your little artist and you,Good product excellent quality,Good product,This give happiness to my students"
        ],
        [
         "Highly displayed,Very convenient for egg boiling,Good produvt,Good,Nice 👍👍👍👍👍,Fitting issue,Quality of item,Auto-cut stopped working after 10 days"
        ],
        [
         "Good,It's a good product. Go for it.,Easy to use,Good product, but quality is ok ok,Value for money,Gave new life to my old clothes-magical,I could not believe that this product is so good ✨✨,Good for woolen clothes"
        ],
        [
         "Very easy to use,Easy to use .,Best calculator for CA students,good performanace,Nice,Best,Very nice and steardy,Good product"
        ],
        [
         "Best Speaker at low price,Good quality,Very small compared to price.,Pocket dynamite,Cute one,LOUD AND GOOD BLUETOOTH SPEAKER,Portable and good one,Superb yet portable speaker"
        ],
        [
         "value for money,Great Product,Best charger,Genuine charger at a low price,Genuine and Good,It's Orginal Lenovo charger.. Should buy it,Same as original,Amazing charger , giving good charging in limited time. It really worth and nice product."
        ],
        [
         "Best product,So good,Nice,Worth it,Used it for more than 3 months. No complaints so far,Working as expected,Battery use more,Overall satisfied"
        ],
        [
         "Good,Value for money,Good,Under 500 tds, it gets the job done.,Installation was delayed,Nice product,Worst product,NIce"
        ],
        [
         "Can be use as table lamp or emergency light for room,Very flexible 👍,Working perfect great,Value of the product,good product as per price,Good enough but no controls to dim,Excellent,Nice product"
        ],
        [
         "Egg boiler,Time efficient..easy to use,Good to use,Value for money,Very good product,Achha hai egg boil achhe hote hai,Best in Business,as the price product is good"
        ],
        [
         "Good product but attention needed in packing and shipping,Good Product,Installation Technician not good.,worth to money,Good Water Heater,Loved this…!!!!,Value for money,Good product"
        ],
        [
         "Need be careful,Excellent Product,Awesome Juicer with few issues,Best juicer ever , very strong and hard motor ,,Best mixer in India,Bang for the buck,Good product easy to use.,Best Juicer"
        ],
        [
         "Its ok product not too good not bad,Cheap and best,Performance,Works well,Not working with Fast Charger,This Type-C cable is awesome😍.,Does not support display,Good"
        ],
        [
         "Its ok product not too good not bad,Cheap and best,Performance,Works well,Not working with Fast Charger,This Type-C cable is awesome😍.,Does not support display,Good"
        ],
        [
         "Its ok product not too good not bad,Cheap and best,Performance,Works well,Not working with Fast Charger,This Type-C cable is awesome😍.,Does not support display,Good"
        ],
        [
         "Sleek , Silent and Effective,Good product,100 % satisfied and recommended....,Bad product. Fan makes lot of noise,Its good with a flaw,Overall best.,Number 1,works decently."
        ],
        [
         "Amazing! Value for money!,Very easy to use,2 in 1,Good product,Easy to clean,Good product to buy and use,Easy to operate that is simple process,Worth"
        ],
        [
         "Gets the job done 👍👍👍,Original product,Good,THe ink is not full to the brim,Original cartridges,Nice,Excellent refill ink - original quality,Low quantity"
        ],
        [
         "Good!!,Came with a small scratch on the casing and box was not sealed,Heat fast, cut off once a while,Small sized griller which is not so bad,Size issues,Works fine. No issues, cord could have been longer,A must buy,Its good."
        ],
        [
         "Good health product.,The best dry iron I have owned in last decade!,Value for money,Good,Bang on budget,Bad,light weight,Good for home use"
        ],
        [
         "👎Disappointed 👎Review after 1 year 3 months of usage,Good product and received latest V4,Good Budget Gigabit Router with Beamforming and multiple options in firmware,Range is issue for 5g every where,Value For Money,Go for it,Super 👍,Signal, support, install"
        ],
        [
         "Totally worth rs99,Best,Good,Valuable,Fulfil purpose, easy to carry,Good product,Good product,Good"
        ],
        [
         "Worst Quality Stand,Very productive product and value for money.,Good,It is functioning good,Product is good but RGB is of no use - RECOMMENDED FOR WHITE LIGHT,Nice,Worth for money,Good product for it's price range"
        ],
        [
         "Good,The smell....,fair enough looking at reasonable price,Amazing,value for money,For starter,Best as a buyer its pretty reliable,Smooth experience"
        ],
        [
         "Worth Every Square Inch.,VFM, Plastic build. Must buy,3 years of extensive usage , delivered the perfomance to its price,Still working after 2 years,Low in price but sound was high,Super head phone under 1300 rs,Wow nice this headphone Just like fall in love🥰 ye kuchh jyada hi ho gya😜,Good quality"
        ],
        [
         "Worth Every Square Inch.,VFM, Plastic build. Must buy,3 years of extensive usage , delivered the perfomance to its price,Still working after 2 years,Low in price but sound was high,Super head phone under 1300 rs,Wow nice this headphone Just like fall in love🥰 ye kuchh jyada hi ho gya😜,Good quality"
        ],
        [
         "Good product for beginners,Wonderful,Good,Rate is affordable,Nice will order again,Very good deal,Super,Drawing books"
        ],
        [
         "Super charger in lapster,Best among the rest,Classy product and authentic one,Excellent product,Worked fine ,thank you,Stylish and flexible cable,Amazing,Value for money product"
        ],
        [
         "Super charger in lapster,Best among the rest,Classy product and authentic one,Excellent product,Worked fine ,thank you,Stylish and flexible cable,Amazing,Value for money product"
        ],
        [
         "very good geyser and value for money,Only geyser comes with the box,Good may be very good,Good product,Accessories missing,Value for the money product,Excellent product,Worth For money"
        ],
        [
         "Nice,Heavy weight and good product.,Value for money,Looks good one but returned,I like it and good product,Super build quality,Nothing,Best iron box"
        ],
        [
         "Good product,4 star overall,Good, nice worth it,Good cable,Good product,Reasonable price, good quality.,amazing,PERFECT!!"
        ],
        [
         "Worthy,Love this product,Good,Good,It can be used for two years,👍,Best in this price, will serve the purpose you bought it for.,Good choice in budget Range"
        ],
        [
         "Nice iron box. Temperature control can be better.,Product quality,Very nice product,Great Product,It is gud for normal use...,Okk,It's good,Nice product"
        ],
        [
         "Very nice product,Damaged within 4 months,Wacom review,Value for Money,Nice,Recommend,Perfect to draw, sketch and doodle.,Nice product."
        ],
        [
         "Very easy and handy to use,Good to have for boiled eggs.,Superb,Effortless,Wanderful,Good,Not good,Can consider for purchase"
        ],
        [
         "Nice Product,Good one,Nice to have!,5 star (i gave 4 btw) just 1 con and its huge for me,Good table to work from bed,Laptop Table.,Best stand available,Like it"
        ],
        [
         "Good,Good stand in this price,Stability,Product is good quality but it has scratchs on it.,Strong durability,nice product,Fantastic,Best light stand"
        ],
        [
         "Good 👍,Product is Good,VALUE FOR MONEY,Worth it,Notebook is good and paking in very bad,Very nice book and good packaging,Nice set of 12 Lovely 😍 Books 📚,The books are beautiful"
        ],
        [
         "Nice good,Easy to use,Good , however little costly,Good one,Its good.,Excellent egg boiler.,Product is so good bat the cabale length is short,Must buy"
        ],
        [
         "Good And Durable,Value for money product.,Right choice,Good product.,Charger is good,Cable is working as expected.,The best cable till now,Good 👍"
        ],
        [
         "Multipurpose and time-saving,Good notepad for travelers,Nice for the personal stuff,Super 👍,Most amazing product.,Too costly,Useful product,Good"
        ],
        [
         "Good maybe okay,Defective Product Delivered,Amazing Sound at Budget,Not for bass lover,Best one,Quality,Durability,Superb voice quality"
        ],
        [
         "Good maybe okay,Defective Product Delivered,Amazing Sound at Budget,Not for bass lover,Best one,Quality,Durability,Superb voice quality"
        ],
        [
         "Good maybe okay,Defective Product Delivered,Amazing Sound at Budget,Not for bass lover,Best one,Quality,Durability,Superb voice quality"
        ],
        [
         "Value for money but,functional,Good,Very easy to use,Good,Good product,Good,Cable protector"
        ],
        [
         "DETAILED REVIEW after 3 WEEKS of Usage !!!,Priceworthy.,It's a good product,Good,Vivid picture quality is stunning,SUPER DEAL,Value for money,Very nice"
        ],
        [
         "Quality is good,Just buy it dont even 2nd guess it,Nylon braided quiet sturdy,Sturdy and durable. Useful for charging Power Banks,Amazing,Feels like steel harnessed wire - strong,good,Nice quality"
        ],
        [
         "Worth Buying,Good one!!,Very nice seller service.,Nice cable,Nice product 👍,Does not work universally for all devices,so far good can be a bit lower,It's a good product you can buy and trust."
        ],
        [
         "Not that faster.....,Good quality product,Nice product.,Beauty and the beast,♥️👌Super fast charging, 1 hour main full charge, dono mobile hi fast charge hote hai.,Nice product,Super fast charger,Very Good!!"
        ],
        [
         "Good Stand For Mobiles !,Nice produt,Useful,Affordable and Nicee,Good for the price,Value for money, write product.,Best thing that you need to buy if you have Mobile or tablet...😃,Value for money"
        ],
        [
         "Good cable,This amazon basics cable does the job perfectly well.,Good, sturdy cable,Necessary product connector HDMI,Best quality cable I have had,Male to Female HDMI Extension Cable,very nice wire,Ultimate connectivity.... Using more than couple of years..."
        ],
        [
         "Decent quality,Good for the price,Value buy,It's good value,Ok ok quality,It have enough thickness. Good quality,Easy and smooth,Fine"
        ],
        [
         "Almost Perfect!,Review After using 1month,Nice tv,Panel and video quality,Good Product,Worth for money,Nice,Good"
        ],
        [
         "Almost Perfect!,Review After using 1month,Nice tv,Panel and video quality,Good Product,Worth for money,Nice,Good"
        ],
        [
         "Awesome Product"
        ],
        [
         "Overall good,Sturdy,It turns yellow,No issues and yellowing as of now!,Not worthy,Awesome,Amazing,iPhone 13 back cover"
        ],
        [
         "Quality product,Excellent, it's fast charging,After 12 days not working 😔"
        ],
        [
         "Good TV for the price. (But my experience was not perfect),Good but not best  @!@,Decent tv for the price but misses on basic smart features,Perfect one in our budget. Speedy and customer friendly approach from vu"
        ],
        [
         "Good TV for the price. (But my experience was not perfect),Good but not best  @!@,Decent tv for the price but misses on basic smart features,Perfect one in our budget. Speedy and customer friendly approach from vu"
        ],
        [
         "Value for money smartwatch for those interested in tracking their physical activity.,Noise pulse2max smart watch is awesome and looks good,Paisa wasool,One of the best smartwatches in this segment,Noise,Touch,Good value for money,Best budget segment fitness watch"
        ],
        [
         "Wonderful smart watch,Value for money. Good for first time users,Awesome,Best in market,Good,Worst customer support noise,Calls and userinterface is nice,Noise"
        ],
        [
         "Nice,Good and light calculator,Cheap buttons,Good calculator,Good product thanks Amazon,Super dealing,Function,Ok"
        ],
        [
         "Good quality,Average product.,It fits perfectly on remote. Its Worth for the money I spent.,Good silicon cover for remote,It is perfect fit,Overall it a good product but little pricey,Great for fire stick 4k,Nice product"
        ],
        [
         "Good charging speed, supports well for Suzuki burgman also,Good car charger,It connects to apple lighting Cabel,Good car charger,Good product,Nice quality,It’s only a charger,excellent value for money"
        ],
        [
         "That's a nice one,Best services.,V good less price than that of market,As described,Value for money,Best battery cells out there,Quality yu,Good"
        ],
        [
         "On average is ok ok pricing,Good,Quality good.,Better,The original ink cartridges are always the best,Costly,Expensive but the product was good,Good"
        ],
        [
         "Wonderful TV and Awful installation service from amazon,Acer Television Review,It's a good product for that price.,Good for the price,Almost a complete package,Nice Product,Good product,Super designed"
        ],
        [
         "Wonderful TV and Awful installation service from amazon,Acer Television Review,It's a good product for that price.,Good for the price,Almost a complete package,Nice Product,Good product,Super designed"
        ],
        [
         "Wonderful TV and Awful installation service from amazon,Acer Television Review,It's a good product for that price.,Good for the price,Almost a complete package,Nice Product,Good product,Super designed"
        ],
        [
         "Wonderful TV and Awful installation service from amazon,Acer Television Review,It's a good product for that price.,Good for the price,Almost a complete package,Nice Product,Good product,Super designed"
        ],
        [
         "Wonderful TV and Awful installation service from amazon,Acer Television Review,It's a good product for that price.,Good for the price,Almost a complete package,Nice Product,Good product,Super designed"
        ],
        [
         "Great value for ultra hi speed HDMI!,thickness,material,Works well, just plug and play,Good,Good product,Perfect cable and I'm getting 120Hz 4k when connected to my freesync-certified TV 55Q80T,Good Cable,Little expensive"
        ],
        [
         "Sturdy and good quality,Small cable, works fine,Average,Good one,It affects iPhones’ battery health,Did not like,awesome product,Good"
        ],
        [
         "Highly recommended,Very flexible,Good,Very good product,Good,It's worth every penny,Good,Mobile stand"
        ],
        [
         "Best selfie stick,Decent product with one draw back,Best for Recording videos and photo shoot,Great Selfi stick using for 6months,Nice product in this rate,Overall ok but stability is not rock solid,Selfie stick,Nice"
        ],
        [
         "Big in size as comparison to other normal sized mouse but works very well,Good for office uses,worth the buy,Best mouse at this price,Item is good.  No issues,It's really worthwhile,Good for home or office use,Rough and affordable"
        ],
        [
         "First day impressions: A BEAST!,A decent all rounder.,All good but multiple pairing is awful,Good Product by BoAt,Good Product (but Not well-finished) at a Fair Price of 1599"
        ],
        [
         "Excellent offering from TP-Link,Signal disconnected,Bad packaging from Amazon,Good product for that money,The WiFi range got increased, compare to my old Router!,Very good router in this price segment,Good Product,Wifi router"
        ],
        [
         "It is the best tv if you are getting it in 10-12k,Good price but the OS lags,GARBAGE QUALITY,Good product.,Good quality,Great experience everything is fantastic 🤠,Super picture quality and sound quality,Awesome"
        ],
        [
         "It is the best tv if you are getting it in 10-12k,Good price but the OS lags,GARBAGE QUALITY,Good product.,Good quality,Great experience everything is fantastic 🤠,Super picture quality and sound quality,Awesome"
        ],
        [
         "It is the best tv if you are getting it in 10-12k,Good price but the OS lags,GARBAGE QUALITY,Good product.,Good quality,Great experience everything is fantastic 🤠,Super picture quality and sound quality,Awesome"
        ],
        [
         "It is the best tv if you are getting it in 10-12k,Good price but the OS lags,GARBAGE QUALITY,Good product.,Good quality,Great experience everything is fantastic 🤠,Super picture quality and sound quality,Awesome"
        ],
        [
         "It is the best tv if you are getting it in 10-12k,Good price but the OS lags,GARBAGE QUALITY,Good product.,Good quality,Great experience everything is fantastic 🤠,Super picture quality and sound quality,Awesome"
        ],
        [
         "VFM indoor use (living room/bedrrom) use and clear view upto 120sqft rooms,Best camera in its segment but the app lags,Best,You have to pay to avail all services,All good,I was sent a used product...,Good Product,Upto mark"
        ],
        [
         "Good TV in budget!,Excellent purchase.,A master piece fron sansui,Using good,Value for money 👍,Sound quality not good,Appropriate,Good"
        ],
        [
         "Good value for money,Good,Kodak Tv,One side of screen has blacked out,Kodak tv,Remote not working properly,Kodak TV,Kodak Tv"
        ],
        [
         "Decent Product,Very useful,Daljeet,***,Good,Working well but heated much while charging,Value For Money and Worthable,Good among all rechargable batree"
        ],
        [
         "Very good product,All items is really good,value money,Good,Worthy product,Ok,Quality and Price marks Top.,Delivery too late , but nice products"
        ],
        [
         "Decent mouse from trusted brand,Value for money,Good,Average mouse.,Good,Cute,Its a good mouse for normal usage... loved it.💕,HP X1000 Wired USB Mouse"
        ],
        [
         "Okay to use,Worthy product ...!!!!👍,Single band. 2.4 ghz only,Difficult,Valued for money,So far all is good,Ok,it’s for 2.4Ghz"
        ],
        [
         "Good product,Good one,Nice,Really nice product,Very first time change,Good,Fine product but could be better,Very nice it's charging like jet"
        ],
        [
         "Good product,Good one,Nice,Really nice product,Very first time change,Good,Fine product but could be better,Very nice it's charging like jet"
        ],
        [
         "Good product,Good one,Nice,Really nice product,Very first time change,Good,Fine product but could be better,Very nice it's charging like jet"
        ],
        [
         "Good product,Good one,Nice,Really nice product,Very first time change,Good,Fine product but could be better,Very nice it's charging like jet"
        ],
        [
         "Good product,Good one,Nice,Really nice product,Very first time change,Good,Fine product but could be better,Very nice it's charging like jet"
        ],
        [
         "Good product,Good one,Nice,Really nice product,Very first time change,Good,Fine product but could be better,Very nice it's charging like jet"
        ],
        [
         "Good product,Good one,Nice,Really nice product,Very first time change,Good,Fine product but could be better,Very nice it's charging like jet"
        ],
        [
         "Good one,Almost perfect,Go for it,Good product,It's folding system is good,Very good product,Great stand sturdy and good quality,Good quality"
        ],
        [
         "Good one,Almost perfect,Go for it,Good product,It's folding system is good,Very good product,Great stand sturdy and good quality,Good quality"
        ],
        [
         "Worth the price, expecting good performance on extended use,According to this price is value for money Good product,Good budget calling smart watch.,Just Go For It,It's a mind blowing watch,It's good product in this range,Very Good watch in this price Range,Good Product as per the price charged"
        ],
        [
         "Fake Product,Costly but excellent quality,Storage good but don't know how to Activate warantee??,Good for use,5 stas nahi diya kyuki capacity 477gb hi rahta hai,Speed not as advertise,Good one,It's ok"
        ],
        [
         "Fake Product,Costly but excellent quality,Storage good but don't know how to Activate warantee??,Good for use,5 stas nahi diya kyuki capacity 477gb hi rahta hai,Speed not as advertise,Good one,It's ok"
        ],
        [
         "Fake Product,Costly but excellent quality,Storage good but don't know how to Activate warantee??,Good for use,5 stas nahi diya kyuki capacity 477gb hi rahta hai,Speed not as advertise,Good one,It's ok"
        ],
        [
         "Fake Product,Costly but excellent quality,Storage good but don't know how to Activate warantee??,Good for use,5 stas nahi diya kyuki capacity 477gb hi rahta hai,Speed not as advertise,Good one,It's ok"
        ],
        [
         "Fake Product,Costly but excellent quality,Storage good but don't know how to Activate warantee??,Good for use,5 stas nahi diya kyuki capacity 477gb hi rahta hai,Speed not as advertise,Good one,It's ok"
        ],
        [
         "Fake Product,Costly but excellent quality,Storage good but don't know how to Activate warantee??,Good for use,5 stas nahi diya kyuki capacity 477gb hi rahta hai,Speed not as advertise,Good one,It's ok"
        ],
        [
         "Good product,using this product 8months It is done  I have not faced any problem so far, its build quality best,I really liked this one.,Very strong and support fast charging ,,Nice cable,Best data cable charging fast,Good job,Good but need some improvement"
        ],
        [
         "Good product,using this product 8months It is done  I have not faced any problem so far, its build quality best,I really liked this one.,Very strong and support fast charging ,,Nice cable,Best data cable charging fast,Good job,Good but need some improvement"
        ],
        [
         "Good product,using this product 8months It is done  I have not faced any problem so far, its build quality best,I really liked this one.,Very strong and support fast charging ,,Nice cable,Best data cable charging fast,Good job,Good but need some improvement"
        ],
        [
         "Good,Sound is very low another brand comparing in better,Service provider not meet my home refuse, tv i am not using bad service,Good product,Ok super,Floor stand does not come with it ...,Good,A budget friendly TV with a clumsy UI and Remote"
        ],
        [
         "Good,Sound is very low another brand comparing in better,Service provider not meet my home refuse, tv i am not using bad service,Good product,Ok super,Floor stand does not come with it ...,Good,A budget friendly TV with a clumsy UI and Remote"
        ],
        [
         "Good,Sound is very low another brand comparing in better,Service provider not meet my home refuse, tv i am not using bad service,Good product,Ok super,Floor stand does not come with it ...,Good,A budget friendly TV with a clumsy UI and Remote"
        ],
        [
         "Good for monitors and light weight TVs,Good adherness but adjustment screw is weak to adhere screen properly,Good,Quality is good,Good product, but has a fault,Space saver,DIY install a bit difficult,Very strong and sturdy"
        ],
        [
         "Totally worth rs99,Best,Valuable,Good,Fulfil purpose, easy to carry,Good product,Good product,Good"
        ],
        [
         "Worth buying it.,Nice,Good product,Good,Logitech is the best there - problem with the sroller,Very good product,Value for money product,Good quality"
        ],
        [
         "An unbiased look at the Kodak TV,Sound good,It's really worthy and the most affordable,Not bad!!!,a value TV for the price,Good in all respect,Kodak tv,Smart tv"
        ],
        [
         "Good product,Working,Something is better than nothing,Average,Good,good product,Good work,Good"
        ],
        [
         "Cheap product and same is the performance but does the job,Good,No Box!!!,Good,Value for money,A very good quality cable with rubust built, and it does the work.,Value money,Good product."
        ],
        [
         "Cheap product and same is the performance but does the job,Good,No Box!!!,Good,Value for money,A very good quality cable with rubust built, and it does the work.,Value money,Good product."
        ],
        [
         "Cheap product and same is the performance but does the job,Good,No Box!!!,Good,Value for money,A very good quality cable with rubust built, and it does the work.,Value money,Good product."
        ],
        [
         "Product is very good , but delivery was not quite good,Overall good.,Average to good,Stability should have been better.,Price could be less,Best product in this price.,Mast,Value for money"
        ],
        [
         "Good,Good product,Small things looka zoomed out,GOOD PRODUCT,Good product,Good quality product,Little gap to hold the mobile. Struggling every time to keep the mobile in.,Excellent product"
        ],
        [
         "It is the best tv if you are getting it in 10-12k,Good price but the OS lags,GARBAGE QUALITY,Good product.,Good quality,Great experience everything is fantastic 🤠,Super picture quality and sound quality,Awesome"
        ],
        [
         "It is the best tv if you are getting it in 10-12k,Good price but the OS lags,GARBAGE QUALITY,Good product.,Good quality,Great experience everything is fantastic 🤠,Super picture quality and sound quality,Awesome"
        ],
        [
         "It is the best tv if you are getting it in 10-12k,Good price but the OS lags,GARBAGE QUALITY,Good product.,Good quality,Great experience everything is fantastic 🤠,Super picture quality and sound quality,Awesome"
        ],
        [
         "It is the best tv if you are getting it in 10-12k,Good price but the OS lags,GARBAGE QUALITY,Good product.,Good quality,Great experience everything is fantastic 🤠,Super picture quality and sound quality,Awesome"
        ],
        [
         "It is the best tv if you are getting it in 10-12k,Good price but the OS lags,GARBAGE QUALITY,Good product.,Good quality,Great experience everything is fantastic 🤠,Super picture quality and sound quality,Awesome"
        ],
        [
         "Big Bubble dont go away,Perfect tempered glass in given price,Nice,Overall good but difficult to install,Good quality and great price,Best Tempered Glass👌🏻,Good quality,Best tempered glass used till date"
        ],
        [
         "It is the best tv if you are getting it in 10-12k,Good price but the OS lags,GARBAGE QUALITY,Good product.,Good quality,Great experience everything is fantastic 🤠,Super picture quality and sound quality,Awesome"
        ],
        [
         "It is the best tv if you are getting it in 10-12k,Good price but the OS lags,GARBAGE QUALITY,Good product.,Good quality,Great experience everything is fantastic 🤠,Super picture quality and sound quality,Awesome"
        ],
        [
         "It is the best tv if you are getting it in 10-12k,Good price but the OS lags,GARBAGE QUALITY,Good product.,Good quality,Great experience everything is fantastic 🤠,Super picture quality and sound quality,Awesome"
        ],
        [
         "It is the best tv if you are getting it in 10-12k,Good price but the OS lags,GARBAGE QUALITY,Good product.,Good quality,Great experience everything is fantastic 🤠,Super picture quality and sound quality,Awesome"
        ],
        [
         "It is the best tv if you are getting it in 10-12k,Good price but the OS lags,GARBAGE QUALITY,Good product.,Good quality,Great experience everything is fantastic 🤠,Super picture quality and sound quality,Awesome"
        ],
        [
         "Decent product. Value for money.,Value for money,Improvements Needed,Everything thing good except the installation experience,Overall taking all aspects TV is good within the price point,Tv installation services,One among the good TVs in the market.,Picture"
        ],
        [
         "Decent product. Value for money.,Value for money,Improvements Needed,Everything thing good except the installation experience,Overall taking all aspects TV is good within the price point,Tv installation services,One among the good TVs in the market.,Picture"
        ],
        [
         "Good only for Charging,Well it's a great cable you can trust on,Another quality product from Belkin & Amazon,60W support not clear,Become a belkin fan,Happy with performance,The only competitor to original cables,good"
        ],
        [
         "Very good quality.,Nice product,Not a fast charger....,nice,A Good Type C adapter,Nice product,Value for money and easy to use.,Good"
        ],
        [
         "Very good quality.,Nice product,Not a fast charger....,nice,A Good Type C adapter,Nice product,Value for money and easy to use.,Good"
        ],
        [
         "Handsfree!,Recommended,Good product,It's heavy and stable.Good product but can't change as given in photo.,Good and Sturdy Smartphone Stand,Good and Sturdy,Ok,good"
        ],
        [
         "Good, Value for Money,Picture quality was nice....over all product nice,Till today everything okay,Y,Good,Outstanding Performance,Must buy,Value for money"
        ],
        [
         "Some improvement required,Not best for tracking sleep, calories burnt of heart rate.,Noise,Noise watch is good,NOISE,DOes everything well so far,Noises,Bluetooth calling"
        ],
        [
         "It's super,Value of money 💰,Display and build,Good Sound and pictures,Good product 👍,Good and smart tv for reasonable rate,Good for low budget,Good"
        ],
        [
         "Premium looking watch,Excellent Product,The Tracking and touch would be better,Bluetooth connectivity,Very good,The watch is good,Felt Good,Not bad"
        ],
        [
         "Premium looking watch,Excellent Product,The Tracking and touch would be better,Bluetooth connectivity,Very good,The watch is good,Felt Good,Not bad"
        ],
        [
         "Premium looking watch,Excellent Product,The Tracking and touch would be better,Bluetooth connectivity,Very good,The watch is good,Felt Good,Not bad"
        ],
        [
         "Premium looking watch,Excellent Product,The Tracking and touch would be better,Bluetooth connectivity,Very good,The watch is good,Felt Good,Not bad"
        ],
        [
         "Firestick plugging in issue, otherwise a good deal,Cheap & Best Product,Low budget led tv,Nice tv,Very. Good,Why is the installation guy asking for installation charge?,Good Budget Tv,Good TV but after using it for 9 days, has found a flaw"
        ],
        [
         "Firestick plugging in issue, otherwise a good deal,Cheap & Best Product,Low budget led tv,Nice tv,Very. Good,Why is the installation guy asking for installation charge?,Good Budget Tv,Good TV but after using it for 9 days, has found a flaw"
        ],
        [
         "Thank you,Satisfying product,Keeps disconnecting,Very nice product essy to use,Very nice,Nice and compatible product,Good,Solid product hai"
        ],
        [
         "Value for Money,As usual,Good,Best deal,Very reasonable,Great n cheap,Awesome,Not for camera"
        ],
        [
         "TV looks fine, however I see some lag while selecting the applications,Best TV in the Price range,Good for value,Good build quality,I am satisfied it's service till now if this will continue then it is very good,Affordable price for all,Very good tv,It's good"
        ],
        [
         "Good Looking Sturdy cover,Perfect fit for 14 pro max,Excellent fit and value for money must buy if using non mag charger,Excellent,Over priced,Awesome,Worth the money,Quality product"
        ],
        [
         "Wow,Good,Nice product with some issues with the battery port,Worthy,Good product,Ok but large size,Value for money,3 years warrenty vs 1 year"
        ],
        [
         "Worth the money spent,Nice product also the sterdiness good as expected.,Not the correct charger for Samsung S9,Nice product,Superb,Doubts on fast charging,One time purchase,Good Product"
        ],
        [
         "Worth the money spent,Nice product also the sterdiness good as expected.,Not the correct charger for Samsung S9,Nice product,Superb,Doubts on fast charging,One time purchase,Good Product"
        ],
        [
         "Cable is working properly,Sturdy,Ok,Its very slow in terms of speed,Good Cable,Plug fits little tight, but does the job fine,Good product,GOOD"
        ],
        [
         "Valume for money,Can’t turn off HDR in webOS while watching android apps,Webos, Magic remote & LG like UI at 19k,Satisfied,Good,Value for money,Exchange Offer AND Extended Warranty of 2 Yrsnot been Given,Overall a good product and Value for money"
        ],
        [
         "7-8/10, Decent, good for day to day use,Good choice under budget of Rs2000,Average product.,Budget friendly,Overall it's a good watch,Good product,Best in design, accuracy and looks fancy. A must buy for every person who is watch enthusiast.,Having a great experience"
        ],
        [
         "7-8/10, Decent, good for day to day use,Good choice under budget of Rs2000,Average product.,Budget friendly,Overall it's a good watch,Good product,Best in design, accuracy and looks fancy. A must buy for every person who is watch enthusiast.,Having a great experience"
        ],
        [
         "7-8/10, Decent, good for day to day use,Good choice under budget of Rs2000,Average product.,Budget friendly,Overall it's a good watch,Good product,Best in design, accuracy and looks fancy. A must buy for every person who is watch enthusiast.,Having a great experience"
        ],
        [
         "7-8/10, Decent, good for day to day use,Good choice under budget of Rs2000,Average product.,Budget friendly,Overall it's a good watch,Good product,Best in design, accuracy and looks fancy. A must buy for every person who is watch enthusiast.,Having a great experience"
        ],
        [
         "Above average phone,Worth For The Money 💰,Okie,Phone is excellent,Purchased in good budget at 12k,It can fulfill basic needs in affordable price range,Nice,About features"
        ],
        [
         "Above average phone,Worth For The Money 💰,Okie,Phone is excellent,Purchased in good budget at 12k,It can fulfill basic needs in affordable price range,Nice,About features"
        ],
        [
         "Above average phone,Worth For The Money 💰,Okie,Phone is excellent,Purchased in good budget at 12k,It can fulfill basic needs in affordable price range,Nice,About features"
        ],
        [
         "Above average phone,Worth For The Money 💰,Okie,Phone is excellent,Purchased in good budget at 12k,It can fulfill basic needs in affordable price range,Nice,About features"
        ],
        [
         "Above average phone,Worth For The Money 💰,Okie,Phone is excellent,Purchased in good budget at 12k,It can fulfill basic needs in affordable price range,Nice,About features"
        ],
        [
         "Above average phone,Worth For The Money 💰,Okie,Phone is excellent,Purchased in good budget at 12k,It can fulfill basic needs in affordable price range,Nice,About features"
        ],
        [
         "Satisfied,Charging is really fast,Value for money,Product review,Good quality,Good product,Good Product,As of now seems good"
        ],
        [
         "Satisfied,Charging is really fast,Value for money,Product review,Good quality,Good product,Good Product,As of now seems good"
        ],
        [
         "Satisfied,Charging is really fast,Value for money,Product review,Good quality,Good product,Good Product,As of now seems good"
        ],
        [
         "Satisfied,Charging is really fast,Value for money,Product review,Good quality,Good product,Good Product,As of now seems good"
        ],
        [
         "Satisfied,Charging is really fast,Value for money,Product review,Good quality,Good product,Good Product,As of now seems good"
        ],
        [
         "Satisfied,Charging is really fast,Value for money,Product review,Good quality,Good product,Good Product,As of now seems good"
        ],
        [
         "Satisfied,Charging is really fast,Value for money,Product review,Good quality,Good product,Good Product,As of now seems good"
        ],
        [
         "Satisfied,Charging is really fast,Value for money,Product review,Good quality,Good product,Good Product,As of now seems good"
        ],
        [
         "Fast, but heats up and throttles...,Its a Useful One.,Good product at this price range,It's looking good and fast,Storage issue,Worth,Good,Very good"
        ],
        [
         "Very good quality.,Nice product,Not a fast charger....,nice,A Good Type C adapter,Nice product,Value for money and easy to use.,Good"
        ],
        [
         "Very good quality.,Nice product,Not a fast charger....,nice,A Good Type C adapter,Nice product,Value for money and easy to use.,Good"
        ],
        [
         "Great Product,Very good and working very nice,Horrible user experience on account of poor hardware,Not worthy. Laggy sometimes"
        ],
        [
         "Got less storage.,Good deal,Looking is fake product... Storage capacity 58gb.. Menstion64gb.,A nice gadget.,Nice and good,Trusted brand,with adapter!,I liked it's performance and quality.,Good quality"
        ],
        [
         "I have been using this phone since 2month it's very good on problem,Nice products,nice product,I am giving  9 out of 10.,Ek dam mst,Tecno Spark 8T,Gud,Lag"
        ],
        [
         "Good,QUALITY IS GOOD,Value for money product,Very nice,Not supporting for CarPlay,Good,1 month review,strong enough"
        ],
        [
         "Super,Excellent structural rigidity,Durable and classy,Sturdy. Good quality,Good quality and durable.,Best,Good,Tough built quality and smooth movement of zip"
        ],
        [
         "Sumit Nath,For the price, it is a good purchase but can be better,Happy with product...,It's really smart with elegant design,Amazing,Noise,All good,Good"
        ],
        [
         "Sumit Nath,For the price, it is a good purchase but can be better,Happy with product...,It's really smart with elegant design,Amazing,Noise,All good,Good"
        ],
        [
         "Good,Genuine product,Not first charge this cabil,,Nice cable but known durability,Got a used type c to c cable and the xable was damaged,The product is Genuine and Good,Abdul kadir,Good"
        ],
        [
         "Good,Genuine product,Not first charge this cabil,,Nice cable but known durability,Got a used type c to c cable and the xable was damaged,The product is Genuine and Good,Abdul kadir,Good"
        ],
        [
         "Good,Superb quality,Good products  nice one,Working well with iphone11.,I always rely on this companys products , so very good. Thank you so much"
        ],
        [
         "Good,Good Quality,Amazing,Wire cost,Quality and performance is excellent.,Really Impressive,Good and cheap!,GOOD ONE"
        ],
        [
         "Does its Job fine,Working perfect,working fine,Disappointed,Does the job.,Nice product with good quality,Good product,Nice Product"
        ],
        [
         "Good ptoduct,Overall good product,, and good choice,, ☺️,Cable is short,Good,All channel  view nice,Very fast and good service,Ok,The product was 🙌"
        ],
        [
         "Good for charging and Data transfer,ਮਜ਼ਬੂਤ,Good Quality but less Power Delivery,Fantastic!,Good,Not useful,Doesn't fit properly,Can't support Oppo mobile for fast charging"
        ],
        [
         "Good product,Good,  work fine,Thickness of cable to be reduced.,Morho,This product is very good.,original product,USB ke pass or mjbuti Dena chahiye,Good product"
        ],
        [
         "Sturdy key-board for office use,Smooth keyboard,Good one,Low budget but good product,Good,Good product,Good,good"
        ],
        [
         "Easy to install but a bit slippery,Very good product, value for money,Expensive but for a reason,Best Screen Protector!,Best tempered glass to buy for your mobile,Clarity and adhesion is good,Perfect product,Great product and genuinely easy to install"
        ],
        [
         "Good product,Affordable,Good,Reding speed is only under 22mb/s,Good product 👍,good,Good product and value for money,All about it is very good product in suitable price."
        ],
        [
         "Value for Money,Good product,Great excellent picture quality,value for money,Worth for the money,Good,100% Value for money,Value for money"
        ],
        [
         "Used for 10 months,Quality is good,Good Aftersale Service,Super fast charging suppurt,Superb Quality and value for money,Good small cable,Nice,Highly recommended"
        ],
        [
         "Used for 10 months,Quality is good,Good Aftersale Service,Super fast charging suppurt,Superb Quality and value for money,Good small cable,Nice,Highly recommended"
        ],
        [
         "Good for fast charge but not for data transfer,Good cable compares to local the brand.,good but doesnt last,Good product,Good Product,Good and worth it,very good material quality charging speed is 15 watt,Not a fast charger"
        ],
        [
         "Good for fast charge but not for data transfer,Good cable compares to local the brand.,good but doesnt last,Good product,Good Product,Good and worth it,very good material quality charging speed is 15 watt,Not a fast charger"
        ],
        [
         "Good for fast charge but not for data transfer,Good cable compares to local the brand.,good but doesnt last,Good product,Good Product,Good and worth it,very good material quality charging speed is 15 watt,Not a fast charger"
        ],
        [
         "Authentic review,Overall it's a good headset.,Not for me,Nice product,Best,Amazing product,It's a wonderful boat product,Good Product of boAt"
        ],
        [
         "Works as advertised,Good product,good,The Product works as described and is super useful,Not good range,Goog item,Does increases range and speed of Internet,ONE TIME INVESTMENT"
        ],
        [
         "Nice cover,Good quality,Dealfreez Full Wrap Silicone Remote Cover Case is an excellent product,Remote Cover,Loved it!,Soft,Best product for the price,Look's good"
        ],
        [
         "Very sturdy and convenient.,Good product,Very,Find summed up review below,Very Useful 🙂👍,Great product,Good product,Works well enough, it isn’t really stable and tend to vibrate"
        ],
        [
         "IFalcon 32inch smart TV,It's good,Good in Smart TV,Better,Smart android tv,Value for money,Meet expectations,Nice product ."
        ],
        [
         "Product installation was excellent  but delivery staff pathetic👌,TV Picture quality is good.,TV Picture quality is good,Very nice,Great picture and sound quality,One of the best big screen TV,Service is not good,Nice TV"
        ],
        [
         "AmazonBasics Product,Good,Very good,Value for money product,Nice product quantity is nice connective is fast,Product,Good Quality Product,Never thought it be would this good!!"
        ],
        [
         "Good Built Quality Product.,Good quality cable,Useful product but plz check the output ports in ur tV,Nice product,Good,Very good,Good Quality,Best ever"
        ],
        [
         "Really a Good Buy in this price range in 2022,Expected better Battery,Over-all a very balanced product.,Poor Battery life,Good,Temper glasses not istalle properly,It's 8 gb not working like 12gb,Apart from battery and sound quality, everything else is good."
        ],
        [
         "Really a Good Buy in this price range in 2022,Expected better Battery,Over-all a very balanced product.,Poor Battery life,Good,Temper glasses not istalle properly,It's 8 gb not working like 12gb,Apart from battery and sound quality, everything else is good."
        ],
        [
         "Really a Good Buy in this price range in 2022,Expected better Battery,Over-all a very balanced product.,Poor Battery life,Good,Temper glasses not istalle properly,It's 8 gb not working like 12gb,Apart from battery and sound quality, everything else is good."
        ],
        [
         "The quality is surprisingly good! Happy with the purchase!!!,Perfect,Good,Good product! Original stuff with exp date 2024-05! Worth the money!,Could get used to it,Good,This product should not be played with fiddle with it or or open it roughly,Cool"
        ],
        [
         "Good,Good,Worth buying and easy to use,Good,Great product for Ipad Pro,Super,It was good to use and also its fasttt.,Best"
        ],
        [
         "Best value for money,HEAD PHONE POUCH NOT RECEIVED,Overall good in this pricerange,It's not working in my Phone properly Plz help me in exchange or return, I ll be thankful to you,Worth the money 🤑,Best,Nice sound,Wonderful product"
        ],
        [
         "Best value for money,HEAD PHONE POUCH NOT RECEIVED,Overall good in this pricerange,It's not working in my Phone properly Plz help me in exchange or return, I ll be thankful to you,Worth the money 🤑,Best,Nice sound,Wonderful product"
        ],
        [
         "Best value for money,HEAD PHONE POUCH NOT RECEIVED,Overall good in this pricerange,It's not working in my Phone properly Plz help me in exchange or return, I ll be thankful to you,Worth the money 🤑,Best,Nice sound,Wonderful product"
        ],
        [
         "Small, not too heavy, good looking.,Quality of material,Nice product,Good,One of the Best Mouse for the price,Good holding good dpi easy to use,Value for money,Nice mouse"
        ],
        [
         "It's quite good and value for money,Works well,Hdmi cable,Value for money,All good,Gets the job done,Delivery was good,This one was my need to purchase"
        ],
        [
         "It's quite good and value for money,Works well,Hdmi cable,Value for money,All good,Gets the job done,Delivery was good,This one was my need to purchase"
        ],
        [
         "It's quite good and value for money,Works well,Hdmi cable,Value for money,All good,Gets the job done,Delivery was good,This one was my need to purchase"
        ],
        [
         "It's quite good and value for money,Works well,Hdmi cable,Value for money,All good,Gets the job done,Delivery was good,This one was my need to purchase"
        ],
        [
         "Good one,Cannot set tha 90° vertical angle,Best,Nice to use,Avarage,Value for money.,IT DOES WHAT IT IS SUPPOSED TO,Good 👍"
        ],
        [
         "Good,gud,Hard disk,Good product,Serve the purpose,Seagate portable 1TB External Hard disc,Good,Good use"
        ],
        [
         "Worth the price, expecting good performance on extended use,According to this price is value for money Good product,Good budget calling smart watch.,Just Go For It,It's good product in this range,Very Good watch in this price Range,Good Product as per the price charged,Good in budget"
        ],
        [
         "Worth the price, expecting good performance on extended use,According to this price is value for money Good product,Good budget calling smart watch.,Just Go For It,It's good product in this range,Very Good watch in this price Range,Good Product as per the price charged,Good in budget"
        ],
        [
         "Good product at a affordable price point,Nice!,Very good n useful product..,Value for Money.!,It's great,Good 3 pin plug,Useful product,Works as expected."
        ],
        [
         "Great but,Worked well for 6 six months that’s it,Compatible with Apple iPad 2nd generation and charging very well.,CABLE,The product is good but the phone gets disconnected at multiple occasions.,Not a fast charging cable,Good item. Value,Amazing product and value for money"
        ],
        [
         "Great but,Worked well for 6 six months that’s it,Compatible with Apple iPad 2nd generation and charging very well.,CABLE,The product is good but the phone gets disconnected at multiple occasions.,Not a fast charging cable,Good item. Value,Amazing product and value for money"
        ],
        [
         "Great but,Worked well for 6 six months that’s it,Compatible with Apple iPad 2nd generation and charging very well.,CABLE,The product is good but the phone gets disconnected at multiple occasions.,Not a fast charging cable,Good item. Value,Amazing product and value for money"
        ],
        [
         "Must Buy,Truly value for money at this price point get this type of quality charger cable.,Perfect fit for my Noise Colourfit NAV,Must try product,Product good,Good product,Value for money,Good product"
        ],
        [
         "Nice tv,Good product,Average,No operation button in television which is big irritate when the remote not working,Facing Sound/Audio Problem after 12 days of installation only - Please don't buy it,The after service is very good!,Good,........"
        ],
        [
         "Cover is Little loose for Fire remote cover,I ordered this for colour,Pricing,Nice Product,Overpriced but good quality.,Remote stops working after 3 months,Perfect fot,Perfect size for amazon firestick"
        ],
        [
         "Cover is Little loose for Fire remote cover,I ordered this for colour,Pricing,Nice Product,Overpriced but good quality.,Remote stops working after 3 months,Perfect fot,Perfect size for amazon firestick"
        ],
        [
         "Good,Good,Nice Product,Good looking 👌 good protection for remote control,It's a very good cover..I liked it.,Good,Expensive,Nice"
        ],
        [
         "Ok,Excellent product, must buy,Nice,Good product..i got this product rs 170,Good,Good Product. 5Meter cable. Purchase at 175.,Good product & service"
        ],
        [
         "As good as original,Decent,Good one for secondary use,Best quality,GOOD,Amazing product at a mind blowing price!,Nice Quality,Good product"
        ],
        [
         "As good as original,Decent,Good one for secondary use,Best quality,GOOD,Amazing product at a mind blowing price!,Nice Quality,Good product"
        ],
        [
         "As good as original,Decent,Good one for secondary use,Best quality,GOOD,Amazing product at a mind blowing price!,Nice Quality,Good product"
        ],
        [
         "Value for Money product.,Overall Tv is good,Good,Good performance so far… considering the price range,Received a defective piece,Nice,TV bundled with Google ecosystem gives a extra  boost,Good product"
        ],
        [
         "Best For It’s Money!🔥,Nice quality, but comes with a price!,Easiest to install,Easy to install,Worth every penny!,Worth it,Good but costly,Totally worth it"
        ],
        [
         "Great, best 4g phone for around 10,500Rs,Good midrange phone,SAMSUNG GALAXY M32 PRIME EDITION (Pros & Cons),Great Phone but slow performance.,Good one,Good phone,Jitters,Many issues in Samsung M series"
        ],
        [
         "Worthy and most affordable - Great TV,Good product,It's really worth the money but,Better product in this budget,Product review,nice tv,Best product,Budget friendly TV"
        ],
        [
         "Worthy and most affordable - Great TV,Good product,It's really worth the money but,Better product in this budget,Product review,nice tv,Best product,Budget friendly TV"
        ],
        [
         "Worthy and most affordable - Great TV,Good product,It's really worth the money but,Better product in this budget,Product review,nice tv,Best product,Budget friendly TV"
        ],
        [
         "Changing speed,Make it better,Superb Build Quality,Highly satisfied,Best Charging Cable Ever,Good value for money option,Cable quality,Nice"
        ],
        [
         "Changing speed,Make it better,Superb Build Quality,Highly satisfied,Best Charging Cable Ever,Good value for money option,Cable quality,Nice"
        ],
        [
         "Nice watch but some cons,Great device for the budget !! And amazing amazon service!!,Good watch in this price,Watch faces could have been better,Amoled Screen & Touch, Average Wrist Band."
        ],
        [
         "Nice watch but some cons,Great device for the budget !! And amazing amazon service!!,Good watch in this price,Watch faces could have been better,Amoled Screen & Touch, Average Wrist Band."
        ],
        [
         "Nice watch but some cons,Great device for the budget !! And amazing amazon service!!,Good watch in this price,Watch faces could have been better,Amoled Screen & Touch, Average Wrist Band."
        ],
        [
         "Good.No Problem,Good Product,value for money purchase,Nice product,good product,Good,Ok ok product.,Go for it"
        ],
        [
         "The price should be less than 500, not a very great product.,Good earphones,Average,Good earphone,Good for common men.,Nice headphone,Good looks but bass is not good as aspected..,Nice product"
        ],
        [
         "Good product,Hdmi cable,Nice,Do buy without any doubt,Working as expected,Thanks Amazon for its premium choice,Good product,Works well and good quality"
        ],
        [
         "Works on linux for me. Get the model with antenna.,Does what it say but other brands available at lesser price,Easy Handle,Great product,Perfect working,Speed is perfect,Great Design, Build, Connectivity Range, Packaging and other features but no linux support since v2,Very good"
        ],
        [
         "Works on linux for me. Get the model with antenna.,Does what it say but other brands available at lesser price,Easy Handle,Great product,Perfect working,Speed is perfect,Great Design, Build, Connectivity Range, Packaging and other features but no linux support since v2,Very good"
        ],
        [
         "Works on linux for me. Get the model with antenna.,Does what it say but other brands available at lesser price,Easy Handle,Great product,Perfect working,Speed is perfect,Great Design, Build, Connectivity Range, Packaging and other features but no linux support since v2,Very good"
        ],
        [
         "Good tv and features in this budget.,Genuine products,Offers a lot of functionality for 32 inch,Best Buy under Rs. 16000/-,A perfect TV for your room,Super 👌 👍,Nice,It's amazing with this price 15.5K."
        ],
        [
         "Good,Works with Samsung Fold 4 fast charge,Ok,Nice product,Great Cable for Charging,Charging problem seen a little bit,Best cable,A good contender for well known branded C2C cables."
        ],
        [
         "Excellent Phone in the budget segment,Best value for money... But afraid of future MIUI updates.,Don't purchase it as camera phone 😤,Dependable & it's been a year.,Budget mobile,Good for basic use,Phone is nice , but software is not"
        ],
        [
         "Excellent Phone in the budget segment,Best value for money... But afraid of future MIUI updates.,Don't purchase it as camera phone 😤,Dependable & it's been a year.,Budget mobile,Good for basic use,Phone is nice , but software is not"
        ],
        [
         "Excellent Phone in the budget segment,Best value for money... But afraid of future MIUI updates.,Don't purchase it as camera phone 😤,Dependable & it's been a year.,Budget mobile,Good for basic use,Phone is nice , but software is not"
        ],
        [
         "Excellent Phone in the budget segment,Best value for money... But afraid of future MIUI updates.,Don't purchase it as camera phone 😤,Dependable & it's been a year.,Budget mobile,Good for basic use,Phone is nice , but software is not"
        ],
        [
         "Works well, but not for long,Good product,Good product,Good quality,Excellent.,Good,Average item,Try to improve"
        ],
        [
         "Works well, but not for long,Good product,Good product,Good quality,Excellent.,Good,Average item,Try to improve"
        ],
        [
         "Overall it's a good product for mobile charging.,Awesome 😎,Gud data cabel....,Very good USB C TO USB C Cable .The one does not entangle to develop fold leading to cracks and cuts,Best,Rigid and high quality,Super durable,Great i have been using for 6 month"
        ],
        [
         "Overall it's a good product for mobile charging.,Awesome 😎,Gud data cabel....,Very good USB C TO USB C Cable .The one does not entangle to develop fold leading to cracks and cuts,Best,Rigid and high quality,Super durable,Great i have been using for 6 month"
        ],
        [
         "Not bad,Good for engineers.,Good,its great !,Good,200,Good,Superb quality"
        ],
        [
         "Fitting issue,Perfect fit good quality product,good product,👌🏻Fit, 👍🏻cost wise, 👍🏻👍🏻material.,Wonderful product,Good for. New remote.,Nice product,Perfect for samsung frame series solar remote"
        ],
        [
         "Good product,using this product 8months It is done  I have not faced any problem so far, its build quality best,I really liked this one.,Very strong and support fast charging ,,Nice cable,Best data cable charging fast,Good job,Good but need some improvement"
        ],
        [
         "Good product,using this product 8months It is done  I have not faced any problem so far, its build quality best,I really liked this one.,Very strong and support fast charging ,,Nice cable,Best data cable charging fast,Good job,Good but need some improvement"
        ],
        [
         "Good product,using this product 8months It is done  I have not faced any problem so far, its build quality best,I really liked this one.,Very strong and support fast charging ,,Nice cable,Best data cable charging fast,Good job,Good but need some improvement"
        ],
        [
         "It's worth it,Very very nice product at this price.,Very good product,Good,Affordable,shouldnt keep it open for more than 15 minutes,Nice 👍 product...,Good quality"
        ],
        [
         "Decent Product at about right price.,Seems good.,Good Quality & Durable Powerbank in 1k range | Review,This is the second power bank from Ambrane India, i am happy,It’s heavy but good,Good product,Good power bank,The power is bulkier"
        ],
        [
         "Decent Product at about right price.,Seems good.,Good Quality & Durable Powerbank in 1k range | Review,This is the second power bank from Ambrane India, i am happy,It’s heavy but good,Good product,Good power bank,The power is bulkier"
        ],
        [
         "Very Good for Beginners,Light weight & sturdy,Product is good and light weight.,Excellent,Easy to use and light weight to carry,Superb tripod, I'm happy🙂,good product,Ok Good"
        ],
        [
         "Don't believe the other reviews,Awesome sound and clarity for like name JBL,Bass is ❤️,Quality,Excellent sound quality and bass,, gud battery life Best speaker for single room use,Sound is not protect,Good audio.,Not a significant upgrade from JBL Go"
        ],
        [
         "Cover is perfect size wise and it's exactly same as shown in picture.u can go for it.,Superb quality 👌,Price very high,Value for money,Perfect Snug Fit,Must buy,Nice,It's a good and solid fit"
        ],
        [
         "Good for charging and Data transfer,ਮਜ਼ਬੂਤ,Good Quality but less Power Delivery,Fantastic!,Good,Not useful,Doesn't fit properly,Boat ⛵ cables"
        ],
        [
         "Excellent solution for Sony TVs,Worth purchase,Very bad,Bad product,Remote,Good quality"
        ],
        [
         "Good,Amazing phone,Nice mobile ... But Amazon very low service.. every product,Value for money,Good prpduct,Good,Overal a good product,Best phone in this range"
        ],
        [
         "Good,Amazing phone,Nice mobile ... But Amazon very low service.. every product,Value for money,Good prpduct,Good,Overal a good product,Best phone in this range"
        ],
        [
         "Feature Wise OK at this Price But Sometimes call screen not come on the display of Watch,Problem with connection.,Good,Good watch,Worth ₹1799,Very nice product,Touch working smoothly.,Nice watch"
        ],
        [
         "Feature Wise OK at this Price But Sometimes call screen not come on the display of Watch,Problem with connection.,Good,Good watch,Worth ₹1799,Very nice product,Touch working smoothly.,Nice watch"
        ],
        [
         "It takes Forever - to transfer anything. Maybe I - misunderstood \"Ultra\" or somebody missed \"Ultra-Slow\" in the model tag line.,Comprehensive Review of Product, Company & Seller,Desigh and usage,Good purchase not best,Sd card,Good Quality product,Pendrive Quality to Aacchi H Par , Storage 64 Gb Ki jagah 61 Gb Hi Milta H 3Gb Kam Milta H,Good"
        ],
        [
         "Best one,Nice product,Nice Purchase,A nice TV,Good quality...i have a trust on TCL,Best survice,Good,value for money"
        ],
        [
         "WORTH BUY ! THE BEST,Good for the price."
        ],
        [
         "You might be able to get away by using other usb too,Built well but there are flaws.,Good alternative for Apple cable,Good alternative,Best buy,Good,Value for Money,Works as advertised."
        ],
        [
         "You might be able to get away by using other usb too,Built well but there are flaws.,Good alternative for Apple cable,Good alternative,Best buy,Good,Value for Money,Works as advertised."
        ],
        [
         "Fine,Difference between this and a 15W is not that big,Original product,Fast charging👍,Good for Google Pixel 6a,Best a big charger as big as galaxy z flip 3,Great but little hot the mobile,Need to buy a wire seperately"
        ],
        [
         "good,Worth product,Good quality,Very good HDMI 2.1 cable,Best hdmi 2.1 cable 8k 60hz / 4k 120hz,Did not like the quality and when connected I see a red color picture,Value for money  must buy it for eArc"
        ],
        [
         "Works,Nice Product,Fast Charging as original,Good for data transfer,Average. Cost effective,Good quality,Great Product,Nice"
        ],
        [
         "Works,Nice Product,Fast Charging as original,Good for data transfer,Average. Cost effective,Good quality,Great Product,Nice"
        ],
        [
         "Works,Nice Product,Fast Charging as original,Good for data transfer,Average. Cost effective,Good quality,Great Product,Nice"
        ],
        [
         "Hisense Vivid 4K TV Initial Impressions,Picture quality,Best in class Audio & picture quality,Good products,Amazing,Good,Good product,Good size for small leaving room of 18'*9'6\" ,sound quality is also good for small leaving room."
        ],
        [
         "Worst product wornout after 2 months,Good product,Awesome | great,Worth a buy,Best Product!,Great one compare to original cable,Worked for a month, the power supply isn't as mentioned.,Ehh bhut lambi haii"
        ],
        [
         "Go for it,Fast charging,Good product,Good,So Far So Good,Quality is good 👍 you can go for it ♥️,Excellent Product,Yup good in all over"
        ],
        [
         "Works perfect for connecting my Dslr to ipad & tethering. Seems like a durable cable,H,GOOD,USB,Supar,It's good,Very good cable,Okaysih"
        ],
        [
         "Good quality but not superb,Good,Good,Not working properly,Must buy,Authentic. Orignal. Excellent,Not so good,Worth every paisa"
        ],
        [
         "Concept is great but not at all value for money,Good product,You go for it,Perfect,Value for money but little bit expensive,Product is very useful, but very costly.,Nice but a little bit weak,100% satisfied 💐"
        ],
        [
         "Get it with bundled discounts.,Heating & Touch screen,Buy for normal usage. NOT FOR CAMERA,The phone is a good device and I am happy with the purchase.,Average quality.,Exlent mobile,Valueable buy,A GOOD AND AFFORDABLE PRODUCT"
        ],
        [
         "Get it with bundled discounts.,Heating & Touch screen,Buy for normal usage. NOT FOR CAMERA,The phone is a good device and I am happy with the purchase.,Average quality.,Exlent mobile,Valueable buy,A GOOD AND AFFORDABLE PRODUCT"
        ],
        [
         "Get it with bundled discounts.,Heating & Touch screen,Buy for normal usage. NOT FOR CAMERA,The phone is a good device and I am happy with the purchase.,Average quality.,Exlent mobile,Valueable buy,A GOOD AND AFFORDABLE PRODUCT"
        ],
        [
         "Good Stuff... Recommended!!!,Need better quality,एक मजबूत प्रोडक्ट है,Good,best buy of this cable,Best for,Tough,Nil"
        ],
        [
         "Good Stuff... Recommended!!!,Need better quality,एक मजबूत प्रोडक्ट है,Good,best buy of this cable,Best for,Tough,Nil"
        ],
        [
         "Excellent Product,Good,👍,Meets purpose,Nice battery,Good,Value for money,Works flawlessly"
        ],
        [
         "Value for money!! But don't expect Flagship quality.,Good,Good product,Good,God,Value for money,Nice product,Youtub is slow but all perform best"
        ],
        [
         "**UPDATE MARCH2021**Decent for a USB 2.0 Device but don't expect anything above SBC *FALSE*aptX,Works very well, for Linux too,Using it to connect with ps5 controller on pc, no issues !,Not bad,Nice product with some cons,Overall good product 👌,Okay if on tight budget,Nice"
        ],
        [
         "It's worth for money and satisfied.,Nice product,Not great but will do,Very good product I like this product.,Product is ok ok as it is too difficult to connect with phone or it not be able to with ios,Must buy,Good, watch was as expected,Good smart watch"
        ],
        [
         "Nad performance and no customer support. This model is not registered on zeb official web site,Good,Nice ✅,very good product in this price range. Look is beautiful, it's like a small pet.,A Good mouse to have while Playing Doom Eternal.,Over all good mouse for this price,Good,A good mouse"
        ],
        [
         "Love Amazon but lg is misleading,Amazing product,Worst service from LG,Good,Simply beautiful,Satisfied with the TV,Great deal,It is quite ok"
        ],
        [
         "Love Amazon but lg is misleading,Amazing product,Worst service from LG,Good,Simply beautiful,Satisfied with the TV,Great deal,It is quite ok"
        ],
        [
         "The first light  Is not working idk why,Pretty device,Good product,A GOOD INVESTMENT,Too bulky,This power bank full charge at 12 hour and I phone 12 will be 4 time full charged not 6 time,VERY GOOD PRODUCT.☆☆☆☆☆,Its too bulky and I would say not good for travelling"
        ],
        [
         "Noisy clicks - otherwise fine,nice one,Portronics \"An New Player in the Field\".,Good Built Quality & Smooth Experience,Good Pricing, Light Weight and Excellent Functionality,Effective Sleep Mode,good,Nice and comfortable"
        ],
        [
         "Ok product to buy,Better than any other power banks,👍,Nice product,Performance is OK,Very Slim & easy to carry,Decent product,GOAT"
        ],
        [
         "Ok product to buy,Better than any other power banks,👍,Nice product,Performance is OK,Very Slim & easy to carry,Decent product,GOAT"
        ],
        [
         "Ok product to buy,Better than any other power banks,👍,Nice product,Performance is OK,Very Slim & easy to carry,Decent product,GOAT"
        ],
        [
         "Best phone for below normal use,Good mobile for minimal usage , but technically highly worth,For simple use,Ok,Good quality product,Good unit,Good,Best Budget mobile"
        ],
        [
         "Best phone for below normal use,Good mobile for minimal usage , but technically highly worth,For simple use,Ok,Good quality product,Good unit,Good,Best Budget mobile"
        ],
        [
         "Best phone for below normal use,Good mobile for minimal usage , but technically highly worth,For simple use,Ok,Good quality product,Good unit,Good,Best Budget mobile"
        ],
        [
         "Best phone for below normal use,Good mobile for minimal usage , but technically highly worth,For simple use,Ok,Good quality product,Good unit,Good,Best Budget mobile"
        ],
        [
         "Good smart watch of the Year 2023,Value for money,Best product at the price group,Best smartwatch under Rs 4000,Amazing product under 3k,Best in segment smartwatch.,Need to update app,Worthy of money"
        ],
        [
         "Not same as original!,Good product,Original charger,Good,Good indeed,Good item,Authentic Samsung 25W type C fast charger,Good product"
        ],
        [
         "Really Satisfied with purchase.,DO NOT BELIEVE ANSWERS FOR QUESTIONS SAYING IT WORKS ON iPad Pro 10.5 inch (A1701),Does all the necessary stuff,No Double Tap Gesture,5 star product at this price,Very good product,Automatically off's itself,Value for money pen"
        ],
        [
         "Really Satisfied with purchase.,DO NOT BELIEVE ANSWERS FOR QUESTIONS SAYING IT WORKS ON iPad Pro 10.5 inch (A1701),Does all the necessary stuff,No Double Tap Gesture,5 star product at this price,Very good product,Automatically off's itself,Value for money pen"
        ],
        [
         "Speed is not as expected.,SanDisk Ultra 128 GB USB 3.0 Pen Drive,Good,Good,Nice product,Good but....,Nice but slow,some glich happening otherwise good"
        ],
        [
         "High price,Good quality,Go for it,3.0,Thank you Amazon,Awesome buy,Ok,Nice product"
        ],
        [
         "The rebel with a defect,Nice product,Really good product,Awesome charging backup 👍,Value for price,Value for money,Bluetooth service centre not available,good quality"
        ],
        [
         "Worth a Purchase. Good Quality product,Strong, Mutiple channel, Durable.. Worth it ...,Robust, Durable (Phone Holder is added but not mentioned in Product details),Really Liked It!,Mast h,Nice amazing product,IS GOOD BUT NOT RECEIVED MOBILE HOLDER AND THIS PRODUCT BUY ONLY VIDEO REIVIEW,very handy and build quality is good at this price point"
        ],
        [
         "It worked well for some days later it is not working , I want it to replace.,Extremely fine,Superb product,This is very decent, quality is super good!,Good,Awesome Product Quantity & Value For Money,Go for it..,Be(a)st in the market."
        ],
        [
         "It worked well for some days later it is not working , I want it to replace.,Extremely fine,Superb product,This is very decent, quality is super good!,Good,Awesome Product Quantity & Value For Money,Go for it..,Be(a)st in the market."
        ],
        [
         "Good Sound,Not bad,Best gaming earphone,Some what satisfied with the boat 242--- 4.5/5,Outstanding fantastic,Good purchase,Nice product,Good quality"
        ],
        [
         "Tiny helping hand,Good product,As a whole good product,It works,Used ,as of now satisfied with the product,beep sound while connected,Good product,USB to C adopter"
        ],
        [
         "Best(Branded) Budget TV,A high-quality 4k Smart TV from Samsung,Received Defective,Got Replacement,Nice product but,Tv is good,Best budget tv,Value for money. Samsung is always good,Value for money product"
        ],
        [
         "Best(Branded) Budget TV,A high-quality 4k Smart TV from Samsung,Received Defective,Got Replacement,Nice product but,Tv is good,Best budget tv,Value for money. Samsung is always good,Value for money product"
        ],
        [
         "Best(Branded) Budget TV,A high-quality 4k Smart TV from Samsung,Received Defective,Got Replacement,Nice product but,Tv is good,Best budget tv,Value for money. Samsung is always good,Value for money product"
        ],
        [
         "Best(Branded) Budget TV,A high-quality 4k Smart TV from Samsung,Received Defective,Got Replacement,Nice product but,Tv is good,Best budget tv,Value for money. Samsung is always good,Value for money product"
        ],
        [
         "No reasons to complain,Value for money,Nice,Works,Value for money,Go For It,Nice,It's fast charging good quality priduct"
        ],
        [
         "Good.,Low price & value for money,Value for money,As per price ,product is excellent 👌,The product is great but you might get scammed on Amazon,Very good 👍,Nice tv,Budget free"
        ],
        [
         "Best buy you will not regret,Fantastic product,Nice,Worth of money,It's working realy well and i am satisfied with the result,Good Earphones base and sound quality is good,Value for money,Very Good Product"
        ],
        [
         "Good Quality,Good one,Good,Decent buy,Value for money,Product worth buying,Lasted for 5 months,It fullfilled my expectations.. Looks awesome.."
        ],
        [
         "Got it for 280/309MRP in amazon sale,Easy Installation!,Original,Good,Orignal product,Ok,Excellent,Original"
        ],
        [
         "Good product,Value for money,Car charger,Good product,A good product- must have accessory for car,Good charger,Good,बहुत ही अच्छा चार्जर है"
        ],
        [
         "It's is working is super,one of the most good product,A good prduct.,Scroller,Fully satisfaction thank you so much,Usage is easy,Good product,Overall the mouse is good."
        ],
        [
         "It's working perfectly for my mi stick,It's a genuine product,good items. value for money.,good,Good quality product,value for money,Nice picture quality,Good Product"
        ],
        [
         "Good 5g mobile,Overall good phone,The best phone in 2k22 I have purchased in 30sep,Works amazing and buttery smooth, design kinda boring though,Good,Overall good under this budget,not bad,Buy for normal daily use.."
        ],
        [
         "Good 5g mobile,Overall good phone,The best phone in 2k22 I have purchased in 30sep,Works amazing and buttery smooth, design kinda boring though,Good,Overall good under this budget,not bad,Buy for normal daily use.."
        ],
        [
         "Good 5g mobile,Overall good phone,The best phone in 2k22 I have purchased in 30sep,Works amazing and buttery smooth, design kinda boring though,Good,Overall good under this budget,not bad,Buy for normal daily use.."
        ],
        [
         "Good,Ok,Nice product in this range,1.Camera is not good. Not matching up to 13mp,Overall good,Good mobile at reasonable price !!,No Fingerprint reader,Too good"
        ],
        [
         "Some improvement required,Not best for tracking sleep, calories burnt of heart rate.,Noise,Noise watch is good,NOISE,Noises,Bluetooth calling,Noise"
        ],
        [
         "Works Good,Perfect replacement cell for trimmer,Wow,As they said in ad worth it,A good product,Fit for phillips trimmer.,Good,Good Product"
        ],
        [
         "Awesome Product,Good product,Good quality,Good but overpriced,Gud quality but expansive,Not bad,Ok,Worth product"
        ],
        [
         "Awesome Product,Good product,Good quality,Good but overpriced,Gud quality but expansive,Not bad,Ok,Worth product"
        ],
        [
         "Perfect cable for my use. Far better than the apple cable provided with my Ipad,Good buy,Good quality,Amazing build quality superb power full fast cable for my iPhone 11 pro,Good Product (Rated 5 star earlier but now reduced to 3 star as it stopped working within 6 months),Not so great,Good,Good product"
        ],
        [
         "Picture quality poor,Good,Very good product,Working fine till now,Good quality,Nice product,Nice picture quality,Nice sarvice"
        ],
        [
         "Works for LG 4K LED,Awesome product,Good copy Remote,This remote works!!! A relief!,Good replacement for the original remote control,Timely helped me for my TV,It will work(for me😊),Just works"
        ],
        [
         "Durable,Good Product,Okay 👌,So far so good,An absolute best,Good cable,Worth the money,Good for charging Not good for data transfer"
        ],
        [
         "Satisfied,Charging is really fast,Value for money,Product review,Good quality,Good product,Good Product,As of now seems good"
        ],
        [
         "Satisfied,Charging is really fast,Value for money,Product review,Good quality,Good product,Good Product,As of now seems good"
        ],
        [
         "Satisfied,Charging is really fast,Value for money,Product review,Good quality,Good product,Good Product,As of now seems good"
        ],
        [
         "Satisfied,Charging is really fast,Value for money,Product review,Good quality,Good product,Good Product,As of now seems good"
        ],
        [
         "Satisfied,Charging is really fast,Value for money,Product review,Good quality,Good product,Good Product,As of now seems good"
        ],
        [
         "Satisfied,Charging is really fast,Value for money,Product review,Good quality,Good product,Good Product,As of now seems good"
        ],
        [
         "Satisfied,Charging is really fast,Value for money,Product review,Good quality,Good product,Good Product,As of now seems good"
        ],
        [
         "Satisfied,Charging is really fast,Value for money,Product review,Good quality,Good product,Good Product,As of now seems good"
        ],
        [
         "Fast charging cable,Good product,Don't buy,Excellent design and Material quality,  Amazing Charging speed,it support's fast charging and also support android auto for car,Good type c cable in less price,Fast charging not support,NOT A FAST CHARGING CABLE"
        ],
        [
         "Longevity isn’t as long as I thought it would be,Good,Value for money,the expiry date and price covered by an external sticker. Can't make out anything,Good,Excellent customer service..,Good product,Good"
        ],
        [
         "Best for general use,Works well for basic usage,Good product in the budget,Ok product. Not so great.,Good,Good one to have,Great Product,Good."
        ],
        [
         "A conditional beast,Overall satisfied but Wow factor is no missing,Honest one which might help.,Perfect one , You can buy"
        ],
        [
         "Reliability,Best non apple usb to lightning cable,Good,Good quality using since a year,Good,Very good product,Nice cable,Worth Your Money and best alternative"
        ],
        [
         "Worth the money,Good smart watch,the screen does not turn on and off on double tap, for that you have to press the button.,User friendly UI,Best Allrounder Budget SmartWatch Under 2K 🔥,This smart watch is awesome,Nice watch in budget,The step count is not that accurate but the call quality and other things are good"
        ],
        [
         "Worth the money,Good smart watch,the screen does not turn on and off on double tap, for that you have to press the button.,User friendly UI,Best Allrounder Budget SmartWatch Under 2K 🔥,This smart watch is awesome,Nice watch in budget,The step count is not that accurate but the call quality and other things are good"
        ],
        [
         "Worth the money,Good smart watch,the screen does not turn on and off on double tap, for that you have to press the button.,User friendly UI,Best Allrounder Budget SmartWatch Under 2K 🔥,This smart watch is awesome,Nice watch in budget,The step count is not that accurate but the call quality and other things are good"
        ],
        [
         "Worth the money,Good smart watch,the screen does not turn on and off on double tap, for that you have to press the button.,User friendly UI,Best Allrounder Budget SmartWatch Under 2K 🔥,This smart watch is awesome,Nice watch in budget,The step count is not that accurate but the call quality and other things are good"
        ],
        [
         "Worth the money,Good smart watch,the screen does not turn on and off on double tap, for that you have to press the button.,User friendly UI,Best Allrounder Budget SmartWatch Under 2K 🔥,This smart watch is awesome,Nice watch in budget,The step count is not that accurate but the call quality and other things are good"
        ],
        [
         "Good cable for car,Good substitute for orginal,Better Value for money Product,Way better than the original,Absolutely amazing.,Namm hi kafi hai,Very good,As the names say Durable cell it a durable cable ;-)"
        ],
        [
         "Good cable for car,Good substitute for orginal,Better Value for money Product,Way better than the original,Absolutely amazing.,Namm hi kafi hai,Very good,As the names say Durable cell it a durable cable ;-)"
        ],
        [
         "Good cable for car,Good substitute for orginal,Better Value for money Product,Way better than the original,Absolutely amazing.,Namm hi kafi hai,Very good,As the names say Durable cell it a durable cable ;-)"
        ],
        [
         "Data transfer not the best,Good cable for iphone,Working Good,Best quality,Fast charging,Genuine product,Nice product,Good"
        ],
        [
         "Solid and quality material,Good product, everything good to buy,Clear and Cristal clear sound,Good,Super,Value for money,Good cable but over priced,Decent quality and 4.6M long"
        ],
        [
         "Phone, camera, heating - works for me, may not for all,Good Mobile,Good but not excellent under this budget,Worth the price at 9499,Ok type phone... but unable to make videocall within same service provider.,Phone review,Budget king,Battery backup is good"
        ],
        [
         "Phone, camera, heating - works for me, may not for all,Good Mobile,Good but not excellent under this budget,Worth the price at 9499,Ok type phone... but unable to make videocall within same service provider.,Phone review,Budget king,Battery backup is good"
        ],
        [
         "Phone, camera, heating - works for me, may not for all,Good Mobile,Good but not excellent under this budget,Worth the price at 9499,Ok type phone... but unable to make videocall within same service provider.,Phone review,Budget king,Battery backup is good"
        ],
        [
         "Phone, camera, heating - works for me, may not for all,Good Mobile,Good but not excellent under this budget,Worth the price at 9499,Ok type phone... but unable to make videocall within same service provider.,Phone review,Budget king,Battery backup is good"
        ],
        [
         "Phone, camera, heating - works for me, may not for all,Good Mobile,Good but not excellent under this budget,Worth the price at 9499,Ok type phone... but unable to make videocall within same service provider.,Phone review,Budget king,Battery backup is good"
        ],
        [
         "Phone, camera, heating - works for me, may not for all,Good Mobile,Good but not excellent under this budget,Worth the price at 9499,Ok type phone... but unable to make videocall within same service provider.,Phone review,Budget king,Battery backup is good"
        ],
        [
         "Phone, camera, heating - works for me, may not for all,Good Mobile,Good but not excellent under this budget,Worth the price at 9499,Ok type phone... but unable to make videocall within same service provider.,Phone review,Budget king,Battery backup is good"
        ],
        [
         "Phone, camera, heating - works for me, may not for all,Good Mobile,Good but not excellent under this budget,Worth the price at 9499,Ok type phone... but unable to make videocall within same service provider.,Phone review,Budget king,Battery backup is good"
        ],
        [
         "Durability,Best one,Quality Product,Trustworthy Product,good,Good product in budget. Go for this adaptor,Good quality product,Good one working perfectly"
        ],
        [
         "Prompt service. Good quality,Product is good, but little over priced.,The best screen guard I’ve used in terms of ease of installation & product finish,Since there is no align master provided, it's nearly impossible to stick it in the right place.,Nice product and well priced,Great quality and 100% transparency,Good for the price,Excellent customer support with a perfect product"
        ],
        [
         "Good,I don’t like this product,Awesome product,Best cable for iphone xs .. works well with fast charging brick,Low quality pin but wire is fine,Excellent quality,Awesome quality and fast charging,Works fine"
        ],
        [
         "Good,I don’t like this product,Awesome product,Best cable for iphone xs .. works well with fast charging brick,Low quality pin but wire is fine,Excellent quality,Awesome quality and fast charging,Works fine"
        ],
        [
         "Boats are the best.,Just awesome,it is good in this range .....,Great product in the price range,Awesome product,Nice,Perfect,Quality"
        ],
        [
         "Perfect product,Better than the original cable,Better then original,Good,The Very Best,Works absolutely fine,Charging is very slow.,Best Product"
        ],
        [
         "Perfect product,Better than the original cable,Better then original,Good,The Very Best,Works absolutely fine,Charging is very slow.,Best Product"
        ],
        [
         "A Good Product overall and value for Money,Am not happy this product... Not completed installation... Am very dispointed this installation..,Tv not able to connect via bluetooth,Picture quality,Good tv on this price,Warranty mentioned 2 years but one year only show the card,Value for money!,Best Smart TV"
        ],
        [
         "Good pick for Galaxy Note 9,Durable and quality product,Best Cable for Android Auto,The cable I will always carry when I pack my stuff for a ride.,Good charging capacity and data transfers,I bought it for my bike,Excellent,👍"
        ],
        [
         "Good pick for Galaxy Note 9,Durable and quality product,Best Cable for Android Auto,The cable I will always carry when I pack my stuff for a ride.,Good charging capacity and data transfers,I bought it for my bike,Excellent,👍"
        ],
        [
         "Satisfied,Charging is really fast,Value for money,Product review,Good quality,Good product,Good Product,As of now seems good"
        ],
        [
         "Satisfied,Charging is really fast,Value for money,Product review,Good quality,Good product,Good Product,As of now seems good"
        ],
        [
         "Satisfied,Charging is really fast,Value for money,Product review,Good quality,Good product,Good Product,As of now seems good"
        ],
        [
         "Satisfied,Charging is really fast,Value for money,Product review,Good quality,Good product,Good Product,As of now seems good"
        ],
        [
         "Satisfied,Charging is really fast,Value for money,Product review,Good quality,Good product,Good Product,As of now seems good"
        ],
        [
         "Satisfied,Charging is really fast,Value for money,Product review,Good quality,Good product,Good Product,As of now seems good"
        ],
        [
         "Satisfied,Charging is really fast,Value for money,Product review,Good quality,Good product,Good Product,As of now seems good"
        ],
        [
         "Satisfied,Charging is really fast,Value for money,Product review,Good quality,Good product,Good Product,As of now seems good"
        ],
        [
         "Solid and stylish, but too tight in usb port, average performance.,Good product,Slow,It works everywhere except for car stereo,ONLY 57 GB,Good,Good,Nice pen drive"
        ],
        [
         "Good Sound,Not bad,Some what satisfied with the boat 242--- 4.5/5,Outstanding fantastic,Good purchase,Nice product,Good quality,Best gaming earphone"
        ],
        [
         "Sturdy,Super,Working good,Always go for quality,Not suitable for 4k,I do not want this product,Working well👍,Excellent one. Worth buying"
        ],
        [
         "Kodak tv,Kodak tv,Kodak tv,Very less features to control or configure picture, sound or other key features through remote.,Excellent,Kodak 32inh,Kodak tv,Good"
        ],
        [
         "Kodak tv,Kodak tv,Kodak tv,Very less features to control or configure picture, sound or other key features through remote.,Excellent,Kodak 32inh,Kodak tv,Good"
        ],
        [
         "Item is good.  No issues at all.,Charging is good but cable quality not good,Good,It does the job,Decent and durable fast charger,very nice  product,Working as expected.,best value for money"
        ],
        [
         "Very useful product - but hardware is not so sturdy,Great Customer Support,Overall a good Indian product.,Really good to help internet running during power cuts,Good product and effective customer support,Value for money,Does Not support 4 hours as per the description,No backup at all"
        ],
        [
         "LTE features (no other feature tested),Decent watch,Good not great,Great watch let down by battery life,Good fit, good apps,Wanted faster charging and better camera feed.,Mobile app Needs to be improved facing connectivity issues,Good"
        ],
        [
         "A nice & sturdy product.,Assembly,nyc hairdryee,Good,Fits perfectly!!,Not suitable for 50inch and above 😟,Worth buying,Worth"
        ],
        [
         "Best Budget watch,MERA WAQT BADAL KE RAKH DIYA!!,Nice product and user friendly compare to other smart watch,Nice watch...,Vikas,Nice,Not worth it,Grt"
        ],
        [
         "Best Budget watch,MERA WAQT BADAL KE RAKH DIYA!!,Nice product and user friendly compare to other smart watch,Nice watch...,Vikas,Nice,Not worth it,Grt"
        ],
        [
         "Awesome Product,Good product,Good quality,Good but overpriced,Gud quality but expansive,Not bad,Ok,Worth product"
        ],
        [
         "Awesome Product,Good product,Good quality,Good but overpriced,Gud quality but expansive,Not bad,Ok,Worth product"
        ],
        [
         "Superb,Reviewing after 3 months of use,Good braided cable.,The best cable. Very useful.,0k,Does The Job,superb  Product !!!,It's fast charging cable."
        ],
        [
         "Quite firm and steady.,👍,good buy,Theft easy,Good product,Its work,Best in market,quality"
        ],
        [
         "Nice product,Size is not to big not to small,I liked it,Ok,Really good,Thinner but nice,Superb product as quality and comes at affordable price.,Costly mouse pad"
        ],
        [
         "Very nice and good product at this price,Nothing,Good product for the budget,It's Perfect! Must Buy!! 😊"
        ],
        [
         "Exchange of the cable,Go for it !!,It works and it is worth,Superab,Works Well and Durable,Very nice product.,Gud product,Stopped working in less than a month"
        ],
        [
         "Good product,Good product,Built and charge power,Nice product Happy to buy,Not recommended,Good quality but charge little slow,Stopped working within 6 months,Value for money"
        ],
        [
         "Worth of money,There is no 8 gb storage only 2.8 is there,Superb quality,Good product,Nice product for tcl android smart tv,TCL 32inch android tv good quality and rate,Nice smart Tv,Paisa vasul"
        ],
        [
         "Nice one,Nice 👍 I'm happy,Best buy in the reasonable price,Great product,product review MI charger!!,MI mobile charger,Top quality charger. Original MI brand. Do buy it if you need a B type charge,Good charger"
        ],
        [
         "Okay product,Descent product,Very Sturdy,Great protectione and design,Good Product !!,Excellent Case with Beauty,Awesome cover,Good quality"
        ],
        [
         "Cons that most youtubers won't tell you,It's good,Battery is normal,Good celphone,Nice phone,Phone is good at the price range,Affordable,Multi featured mobile at economical price."
        ],
        [
         "Good monitor in this price range,My Best Buy in 2022,Average product for daily use. And some gaming.,its a good 1080 monitor,Nice product,price relaetd issue,Worth monitor this price,Decent monitor at this price with limitation"
        ],
        [
         "Good,Boss of premium note books 🏆,Didn't expected single binding!,Good purchase,Good Quality but paper could be thicker...,Worth the Money!,Good quality,Nice products"
        ],
        [
         "Long durable.,good,Does not charge Lenovo m8 tab,Best charging cable,good,Boat,Product was good,1.5 m का केबल मेरे लिए बहुत ही लाभदायक है ।"
        ],
        [
         "Long durable.,good,Does not charge Lenovo m8 tab,Best charging cable,good,Boat,Product was good,1.5 m का केबल मेरे लिए बहुत ही लाभदायक है ।"
        ],
        [
         "Long durable.,good,Does not charge Lenovo m8 tab,Best charging cable,good,Boat,Product was good,1.5 m का केबल मेरे लिए बहुत ही लाभदायक है ।"
        ],
        [
         "Real Monster 👽,Overall good,Good performance oriented phone,An all Rounder in the < 30k segment,All good, battery life could be better.,A good Phone with few disadvantages.,Value for Money product,❤️"
        ],
        [
         "Satisfactory,Superb88,Good hdmi cable for 1080p 60 fps,Hdmi cable received,Amazing Product!!! Liked it!!!,Good product,Best product for me.,I'll strongly recommend this product to others."
        ],
        [
         "Good Product,Nice,Customer service support information not found on box.,Value for money,Good product,Nice 👍,Best the hdmi cable,Exactly as discribed, enchanced Quality"
        ],
        [
         "Very good power charger,Good and original item,Good and original,Power House !!,Good but not perfect,Best Charger,Value,Average"
        ],
        [
         "Sound quality,Very nice,Value for money,Good,Good for its price.,Good item,Budget friendly,Good"
        ],
        [
         "Sound quality,Very nice,Value for money,Good,Good for its price.,Good item,Budget friendly,Good"
        ],
        [
         "pocket friendly  smart watch for people who loves large  screen.,Value for money,Value for money product,My watch is not charging,Service,Good but it's not working now,GREAT PRODUCT....,Good product"
        ],
        [
         "pocket friendly  smart watch for people who loves large  screen.,Value for money,Value for money product,My watch is not charging,Service,Good but it's not working now,GREAT PRODUCT....,Good product"
        ],
        [
         "Ya Nice..value for money..,Overall decent Product,Great deal for 1200,Good but heats up a little and error issues,Fast and efficient loved it,Does the job,Very good,superb"
        ],
        [
         "This is best,It's okay for a naive user,Good for the price.,Good,Excellent Product. Easy to operates.,best features in phones which you dont find in apple like call recording,Good purchase at this price,Good"
        ],
        [
         "Easy to install,Best screen guard and the easiest to install!,Easy to install,Very easy to install and doesn't interfere with the case,Value for money,Good tempered glass,Value for money,Wonderfull wonderfull wonderfull"
        ],
        [
         "Good quality product and long lasting.,Ok,Really fast.,Yes good,Cable speed,Goid,Working fine,Just worth it"
        ],
        [
         "Best option in 35k category.,Terrific purchase,A highly priced smart phone.,Can't get better at this cost. Review after one month of use.,Oxygen OS is providing poor experience, overall device is okay.,Ammazing Product,Okay"
        ],
        [
         "Good but check the below mentioned things,Going to buy it again,Decent headphone,Good quality headphones,waste of money,Best product in this prize range. And the colour looks fabulous.,Size,After 1 year of usage"
        ],
        [
         "Good product,Is worth the money you are paying for it,Good quality cable,Go for it!,Nice product☑️,Good buy,You can trust Wayona,Quality product  , Life of product is good  ."
        ],
        [
         "Good product,Is worth the money you are paying for it,Good quality cable,Go for it!,Nice product☑️,Good buy,You can trust Wayona,Quality product  , Life of product is good  ."
        ],
        [
         "THE PERFECT PHONE – FOR MY REQUIREMENTS,Galaxy M33 5G a mixed bag of Affordability"
        ],
        [
         "THE PERFECT PHONE – FOR MY REQUIREMENTS,Galaxy M33 5G a mixed bag of Affordability"
        ],
        [
         "THE PERFECT PHONE – FOR MY REQUIREMENTS,Galaxy M33 5G a mixed bag of Affordability"
        ],
        [
         "Let's bust some myth,IQOO Neo 6 5G – A midrange model that offers virtually everything I want"
        ],
        [
         "Good quality but one defect,It fulfill its purpose,The laptop stand is good but could have been better with a grip in four sides!!,Height mentioned is wrong,Worth The Money, Good Quality, but wobbles only on bed,Damage in transportation,Good product.,Durability and easy to use"
        ],
        [
         "Osm,Very good build quality,supports fast charging,Worth the price.,Very nice,Quality,Durability King,Good quality at an affordable price."
        ],
        [
         "Handy Mouse,Good quality mouse,Good one.,Good,Good cheap reliable,Gud quality mouse,Very comfortable,Quality + Less Price Makes it Best to buy."
        ],
        [
         "Mediocre,Best in Budget and Beast in Quality,Best quality this product,Ear phone With Jack,Nice,good,Good sound quality,Value for money!"
        ],
        [
         "Nice ball pen,Good product,Average,Nice Pen,It's a good product,Smooth,It's writing like flowing silk.,good produced"
        ],
        [
         "Good 👍,Good,Cable length is ok , quality is not good . In this price it is ok,MFS 100 cable,Good Quality,Good product but cable thickness should be more,Quality is excellent,Super service"
        ],
        [
         "Value for Money,A good upgrade from stock cable.,GOOD CABLE,Value for the money,Great buy,Overall good,Awesome experience,Worked as expected"
        ],
        [
         "Value for Money,A good upgrade from stock cable.,GOOD CABLE,Value for the money,Great buy,Overall good,Awesome experience,Worked as expected"
        ],
        [
         "An Overall Good Product.,Great notebook, but..,Good,Awesome,Paper quality not nice,Very good copies,Design,Good product"
        ],
        [
         "Good quality screen protector,Well made basic screen protector,Good one,Good affordable tempered glass,Perfect for pixel 6a,Recommended,Perfect and budget screen guard for pixel 7,Okish"
        ],
        [
         "Perfect Value for money,Everything is great but you can increase battery backup,Worth the hype....simply good!,Ok product,I love tank so much . I bought it only before 10 days .i have charged it only once after buying .,Watch design is good,Overall Good Experience,Value for money."
        ],
        [
         "BEST WITH BOAT & LG SMART TV,This product is overpriced,Good picture quality, sturdy,It worked when I connect with soundbar to the smart TV,Good 👍,Good quality product my solve screen onn off,Ok,This cable support HDMI arc, but each time we have to select port in TV"
        ],
        [
         "do not buy"
        ],
        [
         "Tv working good.,Value of money,Acer 32  Sound bar tv review,product is good but one lie by the seller (i.e. 16GB space),Cromecast not working in this smart TV.,Awesome clarity and sound,Awesome sound system like a sound bar picture quality is impressive and connected good,Budget friendly Smart TV"
        ],
        [
         "Tv working good.,Value of money,Acer 32  Sound bar tv review,product is good but one lie by the seller (i.e. 16GB space),Cromecast not working in this smart TV.,Awesome clarity and sound,Awesome sound system like a sound bar picture quality is impressive and connected good,Budget friendly Smart TV"
        ],
        [
         "Good Quality Product,Good Product,Good,Perfect HDMI coupler,Very Good Connector,Does the job,Product is good but not working with Fire tv stick.,Perfect"
        ],
        [
         "Great product if you don’t mind the edges,Recommended !!,Looks premium,Real value for money however I wish there would have been stronger adhesive,Its a genuine product,Precision!,Does the job perfectly,A perfect fit for iPhone 13 and has transparent edges too."
        ],
        [
         "Best power bank on the market.,Small & Handy,Good Quality and functional and practical design,5v out put ravatam ledu 2or3v matrame vasthundi..,Good,Nice,Easy to carry,It is really good"
        ],
        [
         "Good phone , little expensive,Buyers Beware,I bought this mobile at 18k, worth on that price.,satisfied with the product,Single led flash light,Good product,Good not Excellent.,Good one"
        ],
        [
         "Good phone , little expensive,Buyers Beware,I bought this mobile at 18k, worth on that price.,satisfied with the product,Single led flash light,Good product,Good not Excellent.,Good one"
        ],
        [
         "Good phone , little expensive,Buyers Beware,I bought this mobile at 18k, worth on that price.,satisfied with the product,Single led flash light,Good product,Good not Excellent.,Good one"
        ],
        [
         "Fantastic Ultra High Speed HDMI cable,Amazing product,Regarding cable"
        ],
        [
         "Looks more durable,cheap n best,Good length and charging speed.,Works,Works like a charm,stopped working,Good,Excellent Product"
        ],
        [
         "Very fine product..,Good,Worth the money,Does what it says,Value for money product but brush is not good.,Easy to use,Good product,Worthable"
        ],
        [
         "Firestick plugging in issue, otherwise a good deal,Cheap & Best Product,Low budget led tv,Nice tv,Very. Good,Why is the installation guy asking for installation charge?,Good Budget Tv,Good TV but after using it for 9 days, has found a flaw"
        ],
        [
         "Firestick plugging in issue, otherwise a good deal,Cheap & Best Product,Low budget led tv,Nice tv,Very. Good,Why is the installation guy asking for installation charge?,Good Budget Tv,Good TV but after using it for 9 days, has found a flaw"
        ],
        [
         "NOt worth the money,Good budget smart watch with Alexa,👍,Good product,I don't have flashlight function and speaker is not working,Nice,It's little cost,Wach not working"
        ],
        [
         "NOt worth the money,Good budget smart watch with Alexa,👍,Good product,I don't have flashlight function and speaker is not working,Nice,It's little cost,Wach not working"
        ],
        [
         "Sensors burnt my wrist upon wearing overnight,Worst to buy,👍👍,It's  good,Low battery life and it's okay to buy,Superb 😘,Good,Good product"
        ],
        [
         "It's OK,Useful product,All peices arrived,Good product 👍,very nice quality and durable,Seems to be made of recycled material, serves the purpose,Worth to buy!,Terrific purchase"
        ],
        [
         "Good device and makes your laptop to utilize maximum wifi speed.,Good Product, worth of buying,Best to recieve 5g or fiber speed,Good,This is really a good Wifi-Adpater and a life saver,Wifi 5 speeds are amazing!,Booster speed,Best Product to Buy"
        ],
        [
         "It's super,Value of money 💰,Display and build,Good Sound and pictures,Good product 👍,Good and smart tv for reasonable rate,Good for low budget,Tv is good but after 3  month my tv screen gone"
        ],
        [
         "Best,Good,Fast Charging works better than original cable!!,Durable cable,Low performance compare to original data cable,Great!,Good product,Fast charging and length is 3 meters above"
        ],
        [
         "Awsome quality,Nice item,Better Display Port Cable,Works! GTX1650 Super, DELL 2520D (MST),Value for money,Not Vesa certified cable.,YOU CAN BUY IT UNDOUBTEDLY.,Check Display settings as soon as you install this cable."
        ],
        [
         "Great pendrive,Value for money,Good,Kaafi slow hai, heating issue bhi hai,Good and fast drive,It is best pendrive at this prize.,Satisfactory with a bit heating issue.,Average"
        ],
        [
         "Worth for money - suitable for Android auto,Good Product,Length,Nice,Original,Very good quay Cable support fast charging.,Original MI cable for charging upto 33 watt,I am veri happy with this product as it provide turbo charging."
        ],
        [
         "Worth for money - suitable for Android auto,Good Product,Length,Nice,Original,Very good quay Cable support fast charging.,Original MI cable for charging upto 33 watt,I am veri happy with this product as it provide turbo charging."
        ],
        [
         "Worth for money - suitable for Android auto,Good Product,Length,Nice,Original,Very good quay Cable support fast charging.,Original MI cable for charging upto 33 watt,I am veri happy with this product as it provide turbo charging."
        ],
        [
         "Worth for money - suitable for Android auto,Good Product,Length,Nice,Original,Very good quay Cable support fast charging.,Original MI cable for charging upto 33 watt,I am veri happy with this product as it provide turbo charging."
        ],
        [
         "Good deal,Looking is fake product... Storage capacity 58gb.. Menstion64gb.,A nice gadget.,Nice and good,Trusted brand,with adapter!,I liked it's performance and quality.,Good quality,Worth it"
        ],
        [
         "Good deal,Looking is fake product... Storage capacity 58gb.. Menstion64gb.,A nice gadget.,Nice and good,Trusted brand,with adapter!,I liked it's performance and quality.,Good quality,Worth it"
        ],
        [
         "Very good.,Good one. Worth Buy.,Wonderful,Amazon USB C to Micro USB : It works,Good,Laptop with only USB C ports? Buy this cable.,A must buy accessory for all MacBook M1 owners,Good quality usb c to usb b adapter cable 8 inch"
        ],
        [
         "Product life ia short,Good,Waste,Value for money,Very nice product at a reasonable price. Value for money.,Good replacement cable at this price,Worst cable. Not working even after replacement. Dont buy guys Manufactured in China.,Not working"
        ]
       ],
       "datasetInfos": [],
       "dbfsResultPath": null,
       "isJsonSchema": true,
       "metadata": {},
       "overflow": false,
       "plotOptions": {
        "customPlotOptions": {},
        "displayType": "table",
        "pivotAggregation": null,
        "pivotColumns": null,
        "xColumns": null,
        "yColumns": null
       },
       "removedWidgets": [],
       "schema": [
        {
         "metadata": "{\"__CHAR_VARCHAR_TYPE_STRING\":\"varchar(1000)\"}",
         "name": "review_title",
         "type": "\"string\""
        }
       ],
       "type": "table"
      }
     },
     "output_type": "display_data"
    }
   ],
   "source": [
    "\n",
    "%sql\n",
    "SELECT dr.review_title\n",
    "FROM dim_review dr\n",
    "JOIN fact_product_reviews fpr ON dr.review_id = fpr.review_id\n",
    "WHERE fpr.rating > 4;"
   ]
  },
  {
   "cell_type": "markdown",
   "metadata": {
    "application/vnd.databricks.v1+cell": {
     "cellMetadata": {
      "byteLimit": 2048000,
      "rowLimit": 10000
     },
     "inputWidgets": {},
     "nuid": "cf674dda-5d68-4ad4-9197-e06cc38d142d",
     "showTitle": false,
     "tableResultSettingsMap": {},
     "title": ""
    }
   },
   "source": [
    "##Procurar por nome de produtos na tabela dim_product com a palavra 'Iphone'"
   ]
  },
  {
   "cell_type": "code",
   "execution_count": 0,
   "metadata": {
    "application/vnd.databricks.v1+cell": {
     "cellMetadata": {
      "byteLimit": 2048000,
      "implicitDf": true,
      "rowLimit": 10000
     },
     "inputWidgets": {},
     "nuid": "5469abcc-53c6-4050-ad53-58c5e9657654",
     "showTitle": false,
     "tableResultSettingsMap": {},
     "title": ""
    }
   },
   "outputs": [
    {
     "output_type": "display_data",
     "data": {
      "text/html": [
       "<style scoped>\n",
       "  .table-result-container {\n",
       "    max-height: 300px;\n",
       "    overflow: auto;\n",
       "  }\n",
       "  table, th, td {\n",
       "    border: 1px solid black;\n",
       "    border-collapse: collapse;\n",
       "  }\n",
       "  th, td {\n",
       "    padding: 5px;\n",
       "  }\n",
       "  th {\n",
       "    text-align: left;\n",
       "  }\n",
       "</style><div class='table-result-container'><table class='table-result'><thead style='background-color: white'><tr><th>product_id</th><th>product_name</th><th>category</th><th>about_product</th><th>product_link</th><th>img_link</th></tr></thead><tbody><tr><td>B09W5XR9RT</td><td>Duracell USB C To Lightning Apple Certified (Mfi) Braided Sync & Charge Cable For Iphone, Ipad And Ipod. Fast Charging Lightning Cable, 3.9 Feet (1.2M) - Black</td><td>Computers&Accessories|Accessories&Peripherals|Cables&Accessories|Cables|USBCables</td><td>1.2M Tangle Free durable tough braiding sync & charge cable|Supports iOS devices with max output up to 2.4A|Ensure fast and stable data transmission up to 480 Mbps|Up to 10,000+ bend and 10,000+ plugging and unplugging test ensure this cable a longer lifespan|Compatible designed to work flawlessly with MFi or apple devices, iPhone, iMac, iPad etc.|2 Years Warranty</td><td>https://www.amazon.in/Duracell-Lightning-Certified-Braided-Charging/dp/B09W5XR9RT/ref=sr_1_219?qid=1672903006&s=computers&sr=1-219</td><td>https://m.media-amazon.com/images/I/4177nw8okbL._SX300_SY300_QL70_FMwebp_.jpg</td></tr><tr><td>B07XLCFSSN</td><td>Amazonbasics Nylon Braided Usb-C To Lightning Cable, Fast Charging Mfi Certified Smartphone, Iphone Charger (6-Foot, Dark Grey)</td><td>Computers&Accessories|Accessories&Peripherals|Cables&Accessories|Cables|USBCables</td><td>Fast Charge: When Used With An 18W Or Higher Usb-C Wall Charger With Power Delivery You Can Charge Your Iphone To 50% Battery In Just 30 Minutes - Supported Models Include Iphone 8, 8 Plus, X, Xs, Xr, Xs Max, 11, 11 Pro, 11 Pro Max, Ipads, And More. High-Speed Data Transfer: Up To 480 Mbps For Transferring Music, Movies, And More In Seconds|Durable Friendly Design: Built With Top Rated Materials And Tested To Withstand Up To X Bend Cycles And Features Textured Grooves On Connector Ends For Improved Grip|Certified Chip: Apple Mfi Certified Charging And Syncing Cable For Your Apple Devices With Improved Chipset To Ensure Full Compatibility|This Cable Is Not Compatible With Standard Usb Chargers / Laptop Ports. Works Only With Type C Adapters And Laptop Ports. Please Check The Port Of Your Adapter Before Buying The Cable.|Connector Type: Usb Type C</td><td>https://www.amazon.in/AmazonBasics-Apple-Certified-Lightning-Charging/dp/B07XLCFSSN/ref=sr_1_279?qid=1672903008&s=computers&sr=1-279</td><td>https://m.media-amazon.com/images/W/WEBP_402378-T2/images/I/3183iGEWksL._SX300_SY300_QL70_FMwebp_.jpg</td></tr><tr><td>B09C6HXFC1</td><td>Duracell USB Lightning Apple Certified (Mfi) Braided Sync & Charge Cable For Iphone, Ipad And Ipod. Fast Charging Lightning Cable, 3.9 Feet (1.2M) - Black</td><td>Computers&Accessories|Accessories&Peripherals|Cables&Accessories|Cables|USBCables</td><td>Supports Ios Devices With Max Output Up To 2.4A|Up To 10, 000+ Bend And 10, 000+ Plugging And Unplugging Test Ensure This Cable A Longer Lifespan|Ensure Fast And Stable Data Transmission Up To 480 Mbps|2 Years Warranty|Compatible Designed To Work Flawlessly With Mfi Or Apple Devices, Iphone, Imac, Ipad Etc|1.2M Tangle Free Durable Tough Braiding Sync & Charge Cable</td><td>https://www.amazon.in/DURACELL-Lightning-Certified-braided-Devices/dp/B09C6HXFC1/ref=sr_1_22?qid=1672909124&s=electronics&sr=1-22</td><td>https://m.media-amazon.com/images/W/WEBP_402378-T1/images/I/41TZJiPRRwL._SX300_SY300_QL70_FMwebp_.jpg</td></tr><tr><td>B09W5XR9RT</td><td>Duracell USB C To Lightning Apple Certified (Mfi) Braided Sync & Charge Cable For Iphone, Ipad And Ipod. Fast Charging Lightning Cable, 3.9 Feet (1.2M) - Black</td><td>Computers&Accessories|Accessories&Peripherals|Cables&Accessories|Cables|USBCables</td><td>1.2M Tangle Free durable tough braiding sync & charge cable|Supports iOS devices with max output up to 2.4A|Ensure fast and stable data transmission up to 480 Mbps|Up to 10,000+ bend and 10,000+ plugging and unplugging test ensure this cable a longer lifespan|Compatible designed to work flawlessly with MFi or apple devices, iPhone, iMac, iPad etc.|2 Years Warranty</td><td>https://www.amazon.in/Duracell-Lightning-Certified-Braided-Charging/dp/B09W5XR9RT/ref=sr_1_32?qid=1672909125&s=electronics&sr=1-32</td><td>https://m.media-amazon.com/images/W/WEBP_402378-T2/images/I/4177nw8okbL._SX300_SY300_QL70_FMwebp_.jpg</td></tr><tr><td>B07XLCFSSN</td><td>Amazonbasics Nylon Braided Usb-C To Lightning Cable, Fast Charging Mfi Certified Smartphone, Iphone Charger (6-Foot, Dark Grey)</td><td>Computers&Accessories|Accessories&Peripherals|Cables&Accessories|Cables|USBCables</td><td>Fast Charge: When Used With An 18W Or Higher Usb-C Wall Charger With Power Delivery You Can Charge Your Iphone To 50% Battery In Just 30 Minutes - Supported Models Include Iphone 8, 8 Plus, X, Xs, Xr, Xs Max, 11, 11 Pro, 11 Pro Max, Ipads, And More. High-Speed Data Transfer: Up To 480 Mbps For Transferring Music, Movies, And More In Seconds|Durable Friendly Design: Built With Top Rated Materials And Tested To Withstand Up To X Bend Cycles And Features Textured Grooves On Connector Ends For Improved Grip|Certified Chip: Apple Mfi Certified Charging And Syncing Cable For Your Apple Devices With Improved Chipset To Ensure Full Compatibility|This Cable Is Not Compatible With Standard Usb Chargers / Laptop Ports. Works Only With Type C Adapters And Laptop Ports. Please Check The Port Of Your Adapter Before Buying The Cable.|Connector Type: Usb Type C</td><td>https://www.amazon.in/AmazonBasics-Apple-Certified-Lightning-Charging/dp/B07XLCFSSN/ref=sr_1_40?qid=1672909125&s=electronics&sr=1-40</td><td>https://m.media-amazon.com/images/I/3183iGEWksL._SX300_SY300_QL70_FMwebp_.jpg</td></tr><tr><td>B07LGT55SJ</td><td>Wayona Usb Nylon Braided Data Sync And Charging Cable For Iphone, Ipad Tablet (Red, Black)</td><td>Computers&Accessories|Accessories&Peripherals|Cables&Accessories|Cables|USBCables</td><td>[High Compatibility] : Compatible For iPhone X/Xs Max/Xr, Phone 8/8 Plus,Phone 7/7 Plus,Phone 6s/6s Plus,Phone 6/6 Plus,5/5s/5c/SE,Pad Pro,Pad Air 1/2,Pad mini 1/2/3,Pod nano7,Pod touch and more devices.|[Fast Charge&Data Sync ] : It can charge and sync simultaneously at a rapid speed, Compatible with any charging adaptor, multi-port charging station or power bank.|[Durability] : Durable nylon braided design with premium aluminum housing and toughened nylon fiber wound tightly around the cord lending it superior durability and adding a bit to its flexibility.|[High Security Level ] : It is designed to fully protect your device from damaging excessive current.Copper core thick+Multilayer shielding, Anti-interference, Protective circuit equipment.|[WARRANTY] 12-months warranty and friendly customer services, ensures the long-time enjoyment of your purchase. If you meet any question or problem, please don't hesitate to contact us. (10am - 7pm Working days)</td><td>https://www.amazon.in/Wayona-Braided-Syncing-Charging-iPhone/dp/B07LGT55SJ/ref=sr_1_89?qid=1672909128&s=electronics&sr=1-89</td><td>https://m.media-amazon.com/images/W/WEBP_402378-T2/images/I/41xmv3WPs7L._SX300_SY300_QL70_FMwebp_.jpg</td></tr><tr><td>B07JH1C41D</td><td>Wayona Nylon Braided (2 Pack) Lightning Fast Usb Data Cable Fast Charger Cord For Iphone, Ipad Tablet (3 Ft Pack Of 2, Grey)</td><td>Computers&Accessories|Accessories&Peripherals|Cables&Accessories|Cables|USBCables</td><td>[High Compatibility] : iPhone X/XsMax/Xr ,iPhone 8/8 Plus,iPhone 7/7 Plus,iPhone 6s/6s Plus,iPhone 6/6 Plus,iPhone 5/5s/5c/se,iPad Pro,iPad Air 1/2,iPad mini 1/2/3,iPod nano7,iPod touch and more apple devices.|[Fast Charge&Data Sync ] : It can charge and sync simultaneously at a rapid speed, Compatible with any charging adaptor, multi-port charging station or power bank.|[Durability] : Durable nylon braided design with premium aluminum housing and toughened nylon fiber wound tightly around the cord lending it superior durability and adding a bit to its flexibility.|[High Security Level ] : It is designed to fully protect your device from damaging excessive current.Copper core thick+Multilayer shielding, Anti-interference, Protective circuit equipment.</td><td>https://www.amazon.in/Wayona-Braided-WN3LG2-Syncing-Charging/dp/B07JH1C41D/ref=sr_1_98?qid=1672909129&s=electronics&sr=1-98</td><td>https://m.media-amazon.com/images/I/412fvb7k2FL._SX300_SY300_QL70_FMwebp_.jpg</td></tr><tr><td>B07JGDB5M1</td><td>Wayona Nylon Braided 2M / 6Ft Fast Charge Usb To Lightning Data Sync And Charging Cable For Iphone, Ipad Tablet (6 Ft Pack Of 1, Grey)</td><td>Computers&Accessories|Accessories&Peripherals|Cables&Accessories|Cables|USBCables</td><td>[High Compatibility] : Phone X/XsMax/Xr ,Phone 8/8 Plus,Phone 7/7 Plus,Phone 6s/6s Plus,Phone 6/6 Plus,Phone 5/5s/5c/se,Pad Pro,Pad Air 1/2,Pad mini 1/2/3,Pod nano7,Pod touch and more devices.|[Fast Charge&Data Sync ] : It can charge and sync simultaneously at a rapid speed, Compatible with any charging adaptor, multi-port charging station or power bank.|[Durability] : Durable nylon braided design with premium aluminum housing and toughened nylon fiber wound tightly around the cord lending it superior durability and adding a bit to its flexibility.|[High Security Level ] : It is designed to fully protect your device from damaging excessive current.Copper core thick+Multilayer shielding, Anti-interference, Protective circuit equipment.|[WARRANTY] 12-months warranty and friendly customer services, ensures the long-time enjoyment of your purchase. If you meet any question or problem, please don't hesitate to contact us. (10am - 7pm Working days)</td><td>https://www.amazon.in/Wayona-Braided-WN6LG1-Syncing-Charging/dp/B07JGDB5M1/ref=sr_1_119?qid=1672909129&s=electronics&sr=1-119</td><td>https://m.media-amazon.com/images/W/WEBP_402378-T1/images/I/51UsScvHQNL._SX300_SY300_QL70_FMwebp_.jpg</td></tr><tr><td>B084MZXJNK</td><td>Belkin Apple Certified Lightning To Type C Cable, Tough Unbreakable Braided Fast Charging For Iphone, Ipad, Air Pods, 3.3 Feet (1 Meters)    White</td><td>Computers&Accessories|Accessories&Peripherals|Cables&Accessories|Cables|USBCables</td><td>Charges Usb-Pd Enabled Iphones/Ipads From Zero To 50% When Paired With 18W Or Higher Usb-C Charger</td><td>https://www.amazon.in/Belkin-Lightning-Unbreakable-Braided-Charging/dp/B084MZXJNK/ref=sr_1_134?qid=1672909130&s=electronics&sr=1-134</td><td>https://m.media-amazon.com/images/W/WEBP_402378-T2/images/I/31fQdrBOMvL._SY445_SX342_QL70_FMwebp_.jpg</td></tr><tr><td>B084N133Y7</td><td>Belkin Apple Certified Lightning To Type C Cable, Fast Charging For Iphone, Ipad, Air Pods, 3.3 Feet (1 Meters)    White</td><td>Computers&Accessories|Accessories&Peripherals|Cables&Accessories|Cables|USBCables</td><td>Lightning Speed Lightning Cable Connect Your Iphone Or Ipad To A Usb-C Fast Charger For A Quick Power Boost Or Sync Photos And Videos With Your Computer. With This Convenient 4-Foot Cable You Can Leverage The Latest Fast Charging Standard, Usb Power Delivery|Tested To Withstand 10,000+ Bends For Ultimate Longevity|Supports Usb Power Delivery Fast Charging Take Advantage Of The Fast Charge Feature On Your Iphone 8 Or Later??Charging Up To 50 Percent In 30 Minutes* When Paired With An 18W Or Higher Usb-C Power Adapter|Lightning To Usb-C Cable For Iphone Fast Charge Your Iphone 8 Or Later From 0-50% In 30 Minutes (When Paired With 18W Usb-Pd Charger) Fast Charge Compatible Iphone Models: Iphone 11, 11 Pro, 11 Pro Max, Xs, Xs Max, Xr, X, 8, 8 Plus Tested To Withstand 8,000+ Bends|The Belkin Difference: Pioneer In Technology And Innovation For Over 35 Years|Mfi Certified ??Made For Iphone\" And ??Made For Ipad\" Mean That An Electronic Accessory Has Been Designed To Connect Specifically To Iphone Or Ipad And Has Been Certified By The Developer To Meet Apple Performance Standards|Added Length Our 4-Foot Cable Is Longer Than The Standard 3-Foot Usb-C Cable With Lightning Connector, So You Can Connect And Charge Your Iphone In The Car, On The Nightstand, And More</td><td>https://www.amazon.in/Belkin-Lightning-iPhone-Charging-MFi-Certified/dp/B084N133Y7/ref=sr_1_175?qid=1672909133&s=electronics&sr=1-175</td><td>https://m.media-amazon.com/images/W/WEBP_402378-T2/images/I/21fnuilweNL._SY445_SX342_QL70_FMwebp_.jpg</td></tr><tr><td>B07JH1CBGW</td><td>Wayona Nylon Braided Usb Syncing And Charging Cable Sync And Charging Cable For Iphone, Ipad (3 Ft, Black) - Pack Of 2</td><td>Computers&Accessories|Accessories&Peripherals|Cables&Accessories|Cables|USBCables</td><td>[High Compatibility] : iPhone X/XsMax/Xr ,iPhone 8/8 Plus,iPhone 7/7 Plus,iPhone 6s/6s Plus,iPhone 6/6 Plus,iPhone 5/5s/5c/se,iPad Pro,iPad Air 1/2,iPad mini 1/2/3,iPod nano7,iPod touch and more apple devices.|[Fast Charge&Data Sync ] : It can charge and sync simultaneously at a rapid speed, Compatible with any charging adaptor, multi-port charging station or power bank.|[Durability] : Durable nylon braided design with premium aluminum housing and toughened nylon fiber wound tightly around the cord lending it superior durability and adding a bit to its flexibility.|[High Security Level ] : It is designed to fully protect your device from damaging excessive current.Copper core thick+Multilayer shielding, Anti-interference, Protective circuit equipment.|[WARRANTY] 12-months warranty and friendly customer services, ensures the long-time enjoyment of your purchase. If you meet any question or problem, please don't hesitate to contact us (10am - 7pm Working days)</td><td>https://www.amazon.in/Wayona-Braided-WN3LB2-Syncing-Charging/dp/B07JH1CBGW/ref=sr_1_241?qid=1672909136&s=electronics&sr=1-241</td><td>https://m.media-amazon.com/images/I/41eHLj-wfGL._SX300_SY300_QL70_FMwebp_.jpg</td></tr><tr><td>B08N1WL9XW</td><td>FLiX (Beetel) 3in1 (Type C|Micro|Iphone Lightening) Textured Pattern 3A Fast Charging Cable with QC & PD Support for Type C,Micro USB & Lightning Iphone Cable,Made in India,1.5 Meter Long Cable(T101)</td><td>Computers&Accessories|Accessories&Peripherals|Cables&Accessories|Cables|USBCables</td><td>Proudly Made In India|Blazing Charging - All combined 3 in 1 cable supports fast charging with the speed 3A to all your gadgets including mobiles, tablets, speakers and much more.|Ultra Durable - The cable is crafted with braided wire giving you an extra tough braided cable with 10000+ bends lifespan cycle|Universal Compatibility - The 3 in 1 cable gives you universal compatibility with its flexible and high-quality material that comes with a USB type C connector, micro USB connector and lightning connector.|Convenient Length - The durable and flexible cable comes with an ideal length of 1.5 meter which eliminates the struggle of finding nearby switch boards.</td><td>https://www.amazon.in/FLiX-Textured-charging-Lightning-Smartphones/dp/B08N1WL9XW/ref=sr_1_293?qid=1672909139&s=electronics&sr=1-293</td><td>https://m.media-amazon.com/images/W/WEBP_402378-T1/images/I/31-ACQj+oDL._SY445_SX342_.jpg</td></tr><tr><td>B09C6HXFC1</td><td>Duracell USB Lightning Apple Certified (Mfi) Braided Sync & Charge Cable For Iphone, Ipad And Ipod. Fast Charging Lightning Cable, 3.9 Feet (1.2M) - Black</td><td>Computers&Accessories|Accessories&Peripherals|Cables&Accessories|Cables|USBCables</td><td>Supports Ios Devices With Max Output Up To 2.4A|Up To 10, 000+ Bend And 10, 000+ Plugging And Unplugging Test Ensure This Cable A Longer Lifespan|Ensure Fast And Stable Data Transmission Up To 480 Mbps|2 Years Warranty|Compatible Designed To Work Flawlessly With Mfi Or Apple Devices, Iphone, Imac, Ipad Etc|1.2M Tangle Free Durable Tough Braiding Sync & Charge Cable</td><td>https://www.amazon.in/DURACELL-Lightning-Certified-braided-Devices/dp/B09C6HXFC1/ref=sr_1_138?qid=1672895784&s=electronics&sr=1-138</td><td>https://m.media-amazon.com/images/I/41TZJiPRRwL._SX300_SY300_QL70_ML2_.jpg</td></tr><tr><td>B09W5XR9RT</td><td>Duracell USB C To Lightning Apple Certified (Mfi) Braided Sync & Charge Cable For Iphone, Ipad And Ipod. Fast Charging Lightning Cable, 3.9 Feet (1.2M) - Black</td><td>Computers&Accessories|Accessories&Peripherals|Cables&Accessories|Cables|USBCables</td><td>1.2M Tangle Free durable tough braiding sync & charge cable|Supports iOS devices with max output up to 2.4A|Ensure fast and stable data transmission up to 480 Mbps|Up to 10,000+ bend and 10,000+ plugging and unplugging test ensure this cable a longer lifespan|Compatible designed to work flawlessly with MFi or apple devices, iPhone, iMac, iPad etc.|2 Years Warranty</td><td>https://www.amazon.in/Duracell-Lightning-Certified-Braided-Charging/dp/B09W5XR9RT/ref=sr_1_205?qid=1672895806&s=electronics&sr=1-205</td><td>https://m.media-amazon.com/images/I/4177nw8okbL._SX300_SY300_QL70_ML2_.jpg</td></tr><tr><td>B07XLCFSSN</td><td>Amazonbasics Nylon Braided Usb-C To Lightning Cable, Fast Charging Mfi Certified Smartphone, Iphone Charger (6-Foot, Dark Grey)</td><td>Computers&Accessories|Accessories&Peripherals|Cables&Accessories|Cables|USBCables</td><td>Fast Charge: When Used With An 18W Or Higher Usb-C Wall Charger With Power Delivery You Can Charge Your Iphone To 50% Battery In Just 30 Minutes - Supported Models Include Iphone 8, 8 Plus, X, Xs, Xr, Xs Max, 11, 11 Pro, 11 Pro Max, Ipads, And More. High-Speed Data Transfer: Up To 480 Mbps For Transferring Music, Movies, And More In Seconds|Durable Friendly Design: Built With Top Rated Materials And Tested To Withstand Up To X Bend Cycles And Features Textured Grooves On Connector Ends For Improved Grip|Certified Chip: Apple Mfi Certified Charging And Syncing Cable For Your Apple Devices With Improved Chipset To Ensure Full Compatibility|This Cable Is Not Compatible With Standard Usb Chargers / Laptop Ports. Works Only With Type C Adapters And Laptop Ports. Please Check The Port Of Your Adapter Before Buying The Cable.|Connector Type: Usb Type C</td><td>https://www.amazon.in/AmazonBasics-Apple-Certified-Lightning-Charging/dp/B07XLCFSSN/ref=sr_1_245?qid=1672895821&s=electronics&sr=1-245</td><td>https://m.media-amazon.com/images/I/3183iGEWksL._SX300_SY300_QL70_ML2_.jpg</td></tr><tr><td>B09T37CKQ5</td><td>FLiX Usb Charger,Flix (Beetel) Bolt 2.4 Dual Poart,5V/2.4A/12W Usb Wall Charger Fast Charging,Adapter For Android/Iphone 11/Xs/Xs Max/Xr/X/8/7/6/Plus,Ipad Pro/Air 2/Mini 3/4,Samsung S4/S5 & More-Black</td><td>Electronics|Mobiles&Accessories|MobileAccessories|Chargers|WallChargers</td><td>USB Charger with dual ports allow you to charge 2 devices at the same time with the total output of 2.4A current.|With the intelligent chip inside, dual USB wall charger matches the current as your device's need automatically. Over-current, over-voltage and short-circuit protection also effectively protect your smartphones from damage|Internal protection mechanisms offers multiple Protection against short-circuit, over-temperature, over-current, over-voltage and more|Robust textured casing and premium internal components ensure perfect performance|Power Source Type: Corded Electric; Specification Met: Bis</td><td>https://www.amazon.in/FLiX-Charger-Charging-Adapter-More-Black/dp/B09T37CKQ5/ref=sr_1_431?qid=1672895872&s=electronics&sr=1-431</td><td>https://m.media-amazon.com/images/I/31Iuz7jlfqL._SX300_SY300_QL70_ML2_.jpg</td></tr><tr><td>B09C6HXFC1</td><td>Duracell USB Lightning Apple Certified (Mfi) Braided Sync & Charge Cable For Iphone, Ipad And Ipod. Fast Charging Lightning Cable, 3.9 Feet (1.2M) - Black</td><td>Computers&Accessories|Accessories&Peripherals|Cables&Accessories|Cables|USBCables</td><td>Supports Ios Devices With Max Output Up To 2.4A|Up To 10, 000+ Bend And 10, 000+ Plugging And Unplugging Test Ensure This Cable A Longer Lifespan|Ensure Fast And Stable Data Transmission Up To 480 Mbps|2 Years Warranty|Compatible Designed To Work Flawlessly With Mfi Or Apple Devices, Iphone, Imac, Ipad Etc|1.2M Tangle Free Durable Tough Braiding Sync & Charge Cable</td><td>https://www.amazon.in/DURACELL-Lightning-Certified-braided-Devices/dp/B09C6HXFC1/ref=sr_1_126?qid=1672903001&s=computers&sr=1-126</td><td>https://m.media-amazon.com/images/I/41TZJiPRRwL._SX300_SY300_QL70_FMwebp_.jpg</td></tr></tbody></table></div>"
      ]
     },
     "metadata": {
      "application/vnd.databricks.v1+output": {
       "addedWidgets": {},
       "aggData": [],
       "aggError": "",
       "aggOverflow": false,
       "aggSchema": [],
       "aggSeriesLimitReached": false,
       "aggType": "",
       "arguments": {},
       "columnCustomDisplayInfos": {},
       "data": [
        [
         "B09W5XR9RT",
         "Duracell USB C To Lightning Apple Certified (Mfi) Braided Sync & Charge Cable For Iphone, Ipad And Ipod. Fast Charging Lightning Cable, 3.9 Feet (1.2M) - Black",
         "Computers&Accessories|Accessories&Peripherals|Cables&Accessories|Cables|USBCables",
         "1.2M Tangle Free durable tough braiding sync & charge cable|Supports iOS devices with max output up to 2.4A|Ensure fast and stable data transmission up to 480 Mbps|Up to 10,000+ bend and 10,000+ plugging and unplugging test ensure this cable a longer lifespan|Compatible designed to work flawlessly with MFi or apple devices, iPhone, iMac, iPad etc.|2 Years Warranty",
         "https://www.amazon.in/Duracell-Lightning-Certified-Braided-Charging/dp/B09W5XR9RT/ref=sr_1_219?qid=1672903006&s=computers&sr=1-219",
         "https://m.media-amazon.com/images/I/4177nw8okbL._SX300_SY300_QL70_FMwebp_.jpg"
        ],
        [
         "B07XLCFSSN",
         "Amazonbasics Nylon Braided Usb-C To Lightning Cable, Fast Charging Mfi Certified Smartphone, Iphone Charger (6-Foot, Dark Grey)",
         "Computers&Accessories|Accessories&Peripherals|Cables&Accessories|Cables|USBCables",
         "Fast Charge: When Used With An 18W Or Higher Usb-C Wall Charger With Power Delivery You Can Charge Your Iphone To 50% Battery In Just 30 Minutes - Supported Models Include Iphone 8, 8 Plus, X, Xs, Xr, Xs Max, 11, 11 Pro, 11 Pro Max, Ipads, And More. High-Speed Data Transfer: Up To 480 Mbps For Transferring Music, Movies, And More In Seconds|Durable Friendly Design: Built With Top Rated Materials And Tested To Withstand Up To X Bend Cycles And Features Textured Grooves On Connector Ends For Improved Grip|Certified Chip: Apple Mfi Certified Charging And Syncing Cable For Your Apple Devices With Improved Chipset To Ensure Full Compatibility|This Cable Is Not Compatible With Standard Usb Chargers / Laptop Ports. Works Only With Type C Adapters And Laptop Ports. Please Check The Port Of Your Adapter Before Buying The Cable.|Connector Type: Usb Type C",
         "https://www.amazon.in/AmazonBasics-Apple-Certified-Lightning-Charging/dp/B07XLCFSSN/ref=sr_1_279?qid=1672903008&s=computers&sr=1-279",
         "https://m.media-amazon.com/images/W/WEBP_402378-T2/images/I/3183iGEWksL._SX300_SY300_QL70_FMwebp_.jpg"
        ],
        [
         "B09C6HXFC1",
         "Duracell USB Lightning Apple Certified (Mfi) Braided Sync & Charge Cable For Iphone, Ipad And Ipod. Fast Charging Lightning Cable, 3.9 Feet (1.2M) - Black",
         "Computers&Accessories|Accessories&Peripherals|Cables&Accessories|Cables|USBCables",
         "Supports Ios Devices With Max Output Up To 2.4A|Up To 10, 000+ Bend And 10, 000+ Plugging And Unplugging Test Ensure This Cable A Longer Lifespan|Ensure Fast And Stable Data Transmission Up To 480 Mbps|2 Years Warranty|Compatible Designed To Work Flawlessly With Mfi Or Apple Devices, Iphone, Imac, Ipad Etc|1.2M Tangle Free Durable Tough Braiding Sync & Charge Cable",
         "https://www.amazon.in/DURACELL-Lightning-Certified-braided-Devices/dp/B09C6HXFC1/ref=sr_1_22?qid=1672909124&s=electronics&sr=1-22",
         "https://m.media-amazon.com/images/W/WEBP_402378-T1/images/I/41TZJiPRRwL._SX300_SY300_QL70_FMwebp_.jpg"
        ],
        [
         "B09W5XR9RT",
         "Duracell USB C To Lightning Apple Certified (Mfi) Braided Sync & Charge Cable For Iphone, Ipad And Ipod. Fast Charging Lightning Cable, 3.9 Feet (1.2M) - Black",
         "Computers&Accessories|Accessories&Peripherals|Cables&Accessories|Cables|USBCables",
         "1.2M Tangle Free durable tough braiding sync & charge cable|Supports iOS devices with max output up to 2.4A|Ensure fast and stable data transmission up to 480 Mbps|Up to 10,000+ bend and 10,000+ plugging and unplugging test ensure this cable a longer lifespan|Compatible designed to work flawlessly with MFi or apple devices, iPhone, iMac, iPad etc.|2 Years Warranty",
         "https://www.amazon.in/Duracell-Lightning-Certified-Braided-Charging/dp/B09W5XR9RT/ref=sr_1_32?qid=1672909125&s=electronics&sr=1-32",
         "https://m.media-amazon.com/images/W/WEBP_402378-T2/images/I/4177nw8okbL._SX300_SY300_QL70_FMwebp_.jpg"
        ],
        [
         "B07XLCFSSN",
         "Amazonbasics Nylon Braided Usb-C To Lightning Cable, Fast Charging Mfi Certified Smartphone, Iphone Charger (6-Foot, Dark Grey)",
         "Computers&Accessories|Accessories&Peripherals|Cables&Accessories|Cables|USBCables",
         "Fast Charge: When Used With An 18W Or Higher Usb-C Wall Charger With Power Delivery You Can Charge Your Iphone To 50% Battery In Just 30 Minutes - Supported Models Include Iphone 8, 8 Plus, X, Xs, Xr, Xs Max, 11, 11 Pro, 11 Pro Max, Ipads, And More. High-Speed Data Transfer: Up To 480 Mbps For Transferring Music, Movies, And More In Seconds|Durable Friendly Design: Built With Top Rated Materials And Tested To Withstand Up To X Bend Cycles And Features Textured Grooves On Connector Ends For Improved Grip|Certified Chip: Apple Mfi Certified Charging And Syncing Cable For Your Apple Devices With Improved Chipset To Ensure Full Compatibility|This Cable Is Not Compatible With Standard Usb Chargers / Laptop Ports. Works Only With Type C Adapters And Laptop Ports. Please Check The Port Of Your Adapter Before Buying The Cable.|Connector Type: Usb Type C",
         "https://www.amazon.in/AmazonBasics-Apple-Certified-Lightning-Charging/dp/B07XLCFSSN/ref=sr_1_40?qid=1672909125&s=electronics&sr=1-40",
         "https://m.media-amazon.com/images/I/3183iGEWksL._SX300_SY300_QL70_FMwebp_.jpg"
        ],
        [
         "B07LGT55SJ",
         "Wayona Usb Nylon Braided Data Sync And Charging Cable For Iphone, Ipad Tablet (Red, Black)",
         "Computers&Accessories|Accessories&Peripherals|Cables&Accessories|Cables|USBCables",
         "[High Compatibility] : Compatible For iPhone X/Xs Max/Xr, Phone 8/8 Plus,Phone 7/7 Plus,Phone 6s/6s Plus,Phone 6/6 Plus,5/5s/5c/SE,Pad Pro,Pad Air 1/2,Pad mini 1/2/3,Pod nano7,Pod touch and more devices.|[Fast Charge&Data Sync ] : It can charge and sync simultaneously at a rapid speed, Compatible with any charging adaptor, multi-port charging station or power bank.|[Durability] : Durable nylon braided design with premium aluminum housing and toughened nylon fiber wound tightly around the cord lending it superior durability and adding a bit to its flexibility.|[High Security Level ] : It is designed to fully protect your device from damaging excessive current.Copper core thick+Multilayer shielding, Anti-interference, Protective circuit equipment.|[WARRANTY] 12-months warranty and friendly customer services, ensures the long-time enjoyment of your purchase. If you meet any question or problem, please don't hesitate to contact us. (10am - 7pm Working days)",
         "https://www.amazon.in/Wayona-Braided-Syncing-Charging-iPhone/dp/B07LGT55SJ/ref=sr_1_89?qid=1672909128&s=electronics&sr=1-89",
         "https://m.media-amazon.com/images/W/WEBP_402378-T2/images/I/41xmv3WPs7L._SX300_SY300_QL70_FMwebp_.jpg"
        ],
        [
         "B07JH1C41D",
         "Wayona Nylon Braided (2 Pack) Lightning Fast Usb Data Cable Fast Charger Cord For Iphone, Ipad Tablet (3 Ft Pack Of 2, Grey)",
         "Computers&Accessories|Accessories&Peripherals|Cables&Accessories|Cables|USBCables",
         "[High Compatibility] : iPhone X/XsMax/Xr ,iPhone 8/8 Plus,iPhone 7/7 Plus,iPhone 6s/6s Plus,iPhone 6/6 Plus,iPhone 5/5s/5c/se,iPad Pro,iPad Air 1/2,iPad mini 1/2/3,iPod nano7,iPod touch and more apple devices.|[Fast Charge&Data Sync ] : It can charge and sync simultaneously at a rapid speed, Compatible with any charging adaptor, multi-port charging station or power bank.|[Durability] : Durable nylon braided design with premium aluminum housing and toughened nylon fiber wound tightly around the cord lending it superior durability and adding a bit to its flexibility.|[High Security Level ] : It is designed to fully protect your device from damaging excessive current.Copper core thick+Multilayer shielding, Anti-interference, Protective circuit equipment.",
         "https://www.amazon.in/Wayona-Braided-WN3LG2-Syncing-Charging/dp/B07JH1C41D/ref=sr_1_98?qid=1672909129&s=electronics&sr=1-98",
         "https://m.media-amazon.com/images/I/412fvb7k2FL._SX300_SY300_QL70_FMwebp_.jpg"
        ],
        [
         "B07JGDB5M1",
         "Wayona Nylon Braided 2M / 6Ft Fast Charge Usb To Lightning Data Sync And Charging Cable For Iphone, Ipad Tablet (6 Ft Pack Of 1, Grey)",
         "Computers&Accessories|Accessories&Peripherals|Cables&Accessories|Cables|USBCables",
         "[High Compatibility] : Phone X/XsMax/Xr ,Phone 8/8 Plus,Phone 7/7 Plus,Phone 6s/6s Plus,Phone 6/6 Plus,Phone 5/5s/5c/se,Pad Pro,Pad Air 1/2,Pad mini 1/2/3,Pod nano7,Pod touch and more devices.|[Fast Charge&Data Sync ] : It can charge and sync simultaneously at a rapid speed, Compatible with any charging adaptor, multi-port charging station or power bank.|[Durability] : Durable nylon braided design with premium aluminum housing and toughened nylon fiber wound tightly around the cord lending it superior durability and adding a bit to its flexibility.|[High Security Level ] : It is designed to fully protect your device from damaging excessive current.Copper core thick+Multilayer shielding, Anti-interference, Protective circuit equipment.|[WARRANTY] 12-months warranty and friendly customer services, ensures the long-time enjoyment of your purchase. If you meet any question or problem, please don't hesitate to contact us. (10am - 7pm Working days)",
         "https://www.amazon.in/Wayona-Braided-WN6LG1-Syncing-Charging/dp/B07JGDB5M1/ref=sr_1_119?qid=1672909129&s=electronics&sr=1-119",
         "https://m.media-amazon.com/images/W/WEBP_402378-T1/images/I/51UsScvHQNL._SX300_SY300_QL70_FMwebp_.jpg"
        ],
        [
         "B084MZXJNK",
         "Belkin Apple Certified Lightning To Type C Cable, Tough Unbreakable Braided Fast Charging For Iphone, Ipad, Air Pods, 3.3 Feet (1 Meters)    White",
         "Computers&Accessories|Accessories&Peripherals|Cables&Accessories|Cables|USBCables",
         "Charges Usb-Pd Enabled Iphones/Ipads From Zero To 50% When Paired With 18W Or Higher Usb-C Charger",
         "https://www.amazon.in/Belkin-Lightning-Unbreakable-Braided-Charging/dp/B084MZXJNK/ref=sr_1_134?qid=1672909130&s=electronics&sr=1-134",
         "https://m.media-amazon.com/images/W/WEBP_402378-T2/images/I/31fQdrBOMvL._SY445_SX342_QL70_FMwebp_.jpg"
        ],
        [
         "B084N133Y7",
         "Belkin Apple Certified Lightning To Type C Cable, Fast Charging For Iphone, Ipad, Air Pods, 3.3 Feet (1 Meters)    White",
         "Computers&Accessories|Accessories&Peripherals|Cables&Accessories|Cables|USBCables",
         "Lightning Speed Lightning Cable Connect Your Iphone Or Ipad To A Usb-C Fast Charger For A Quick Power Boost Or Sync Photos And Videos With Your Computer. With This Convenient 4-Foot Cable You Can Leverage The Latest Fast Charging Standard, Usb Power Delivery|Tested To Withstand 10,000+ Bends For Ultimate Longevity|Supports Usb Power Delivery Fast Charging Take Advantage Of The Fast Charge Feature On Your Iphone 8 Or Later??Charging Up To 50 Percent In 30 Minutes* When Paired With An 18W Or Higher Usb-C Power Adapter|Lightning To Usb-C Cable For Iphone Fast Charge Your Iphone 8 Or Later From 0-50% In 30 Minutes (When Paired With 18W Usb-Pd Charger) Fast Charge Compatible Iphone Models: Iphone 11, 11 Pro, 11 Pro Max, Xs, Xs Max, Xr, X, 8, 8 Plus Tested To Withstand 8,000+ Bends|The Belkin Difference: Pioneer In Technology And Innovation For Over 35 Years|Mfi Certified ??Made For Iphone\" And ??Made For Ipad\" Mean That An Electronic Accessory Has Been Designed To Connect Specifically To Iphone Or Ipad And Has Been Certified By The Developer To Meet Apple Performance Standards|Added Length Our 4-Foot Cable Is Longer Than The Standard 3-Foot Usb-C Cable With Lightning Connector, So You Can Connect And Charge Your Iphone In The Car, On The Nightstand, And More",
         "https://www.amazon.in/Belkin-Lightning-iPhone-Charging-MFi-Certified/dp/B084N133Y7/ref=sr_1_175?qid=1672909133&s=electronics&sr=1-175",
         "https://m.media-amazon.com/images/W/WEBP_402378-T2/images/I/21fnuilweNL._SY445_SX342_QL70_FMwebp_.jpg"
        ],
        [
         "B07JH1CBGW",
         "Wayona Nylon Braided Usb Syncing And Charging Cable Sync And Charging Cable For Iphone, Ipad (3 Ft, Black) - Pack Of 2",
         "Computers&Accessories|Accessories&Peripherals|Cables&Accessories|Cables|USBCables",
         "[High Compatibility] : iPhone X/XsMax/Xr ,iPhone 8/8 Plus,iPhone 7/7 Plus,iPhone 6s/6s Plus,iPhone 6/6 Plus,iPhone 5/5s/5c/se,iPad Pro,iPad Air 1/2,iPad mini 1/2/3,iPod nano7,iPod touch and more apple devices.|[Fast Charge&Data Sync ] : It can charge and sync simultaneously at a rapid speed, Compatible with any charging adaptor, multi-port charging station or power bank.|[Durability] : Durable nylon braided design with premium aluminum housing and toughened nylon fiber wound tightly around the cord lending it superior durability and adding a bit to its flexibility.|[High Security Level ] : It is designed to fully protect your device from damaging excessive current.Copper core thick+Multilayer shielding, Anti-interference, Protective circuit equipment.|[WARRANTY] 12-months warranty and friendly customer services, ensures the long-time enjoyment of your purchase. If you meet any question or problem, please don't hesitate to contact us (10am - 7pm Working days)",
         "https://www.amazon.in/Wayona-Braided-WN3LB2-Syncing-Charging/dp/B07JH1CBGW/ref=sr_1_241?qid=1672909136&s=electronics&sr=1-241",
         "https://m.media-amazon.com/images/I/41eHLj-wfGL._SX300_SY300_QL70_FMwebp_.jpg"
        ],
        [
         "B08N1WL9XW",
         "FLiX (Beetel) 3in1 (Type C|Micro|Iphone Lightening) Textured Pattern 3A Fast Charging Cable with QC & PD Support for Type C,Micro USB & Lightning Iphone Cable,Made in India,1.5 Meter Long Cable(T101)",
         "Computers&Accessories|Accessories&Peripherals|Cables&Accessories|Cables|USBCables",
         "Proudly Made In India|Blazing Charging - All combined 3 in 1 cable supports fast charging with the speed 3A to all your gadgets including mobiles, tablets, speakers and much more.|Ultra Durable - The cable is crafted with braided wire giving you an extra tough braided cable with 10000+ bends lifespan cycle|Universal Compatibility - The 3 in 1 cable gives you universal compatibility with its flexible and high-quality material that comes with a USB type C connector, micro USB connector and lightning connector.|Convenient Length - The durable and flexible cable comes with an ideal length of 1.5 meter which eliminates the struggle of finding nearby switch boards.",
         "https://www.amazon.in/FLiX-Textured-charging-Lightning-Smartphones/dp/B08N1WL9XW/ref=sr_1_293?qid=1672909139&s=electronics&sr=1-293",
         "https://m.media-amazon.com/images/W/WEBP_402378-T1/images/I/31-ACQj+oDL._SY445_SX342_.jpg"
        ],
        [
         "B09C6HXFC1",
         "Duracell USB Lightning Apple Certified (Mfi) Braided Sync & Charge Cable For Iphone, Ipad And Ipod. Fast Charging Lightning Cable, 3.9 Feet (1.2M) - Black",
         "Computers&Accessories|Accessories&Peripherals|Cables&Accessories|Cables|USBCables",
         "Supports Ios Devices With Max Output Up To 2.4A|Up To 10, 000+ Bend And 10, 000+ Plugging And Unplugging Test Ensure This Cable A Longer Lifespan|Ensure Fast And Stable Data Transmission Up To 480 Mbps|2 Years Warranty|Compatible Designed To Work Flawlessly With Mfi Or Apple Devices, Iphone, Imac, Ipad Etc|1.2M Tangle Free Durable Tough Braiding Sync & Charge Cable",
         "https://www.amazon.in/DURACELL-Lightning-Certified-braided-Devices/dp/B09C6HXFC1/ref=sr_1_138?qid=1672895784&s=electronics&sr=1-138",
         "https://m.media-amazon.com/images/I/41TZJiPRRwL._SX300_SY300_QL70_ML2_.jpg"
        ],
        [
         "B09W5XR9RT",
         "Duracell USB C To Lightning Apple Certified (Mfi) Braided Sync & Charge Cable For Iphone, Ipad And Ipod. Fast Charging Lightning Cable, 3.9 Feet (1.2M) - Black",
         "Computers&Accessories|Accessories&Peripherals|Cables&Accessories|Cables|USBCables",
         "1.2M Tangle Free durable tough braiding sync & charge cable|Supports iOS devices with max output up to 2.4A|Ensure fast and stable data transmission up to 480 Mbps|Up to 10,000+ bend and 10,000+ plugging and unplugging test ensure this cable a longer lifespan|Compatible designed to work flawlessly with MFi or apple devices, iPhone, iMac, iPad etc.|2 Years Warranty",
         "https://www.amazon.in/Duracell-Lightning-Certified-Braided-Charging/dp/B09W5XR9RT/ref=sr_1_205?qid=1672895806&s=electronics&sr=1-205",
         "https://m.media-amazon.com/images/I/4177nw8okbL._SX300_SY300_QL70_ML2_.jpg"
        ],
        [
         "B07XLCFSSN",
         "Amazonbasics Nylon Braided Usb-C To Lightning Cable, Fast Charging Mfi Certified Smartphone, Iphone Charger (6-Foot, Dark Grey)",
         "Computers&Accessories|Accessories&Peripherals|Cables&Accessories|Cables|USBCables",
         "Fast Charge: When Used With An 18W Or Higher Usb-C Wall Charger With Power Delivery You Can Charge Your Iphone To 50% Battery In Just 30 Minutes - Supported Models Include Iphone 8, 8 Plus, X, Xs, Xr, Xs Max, 11, 11 Pro, 11 Pro Max, Ipads, And More. High-Speed Data Transfer: Up To 480 Mbps For Transferring Music, Movies, And More In Seconds|Durable Friendly Design: Built With Top Rated Materials And Tested To Withstand Up To X Bend Cycles And Features Textured Grooves On Connector Ends For Improved Grip|Certified Chip: Apple Mfi Certified Charging And Syncing Cable For Your Apple Devices With Improved Chipset To Ensure Full Compatibility|This Cable Is Not Compatible With Standard Usb Chargers / Laptop Ports. Works Only With Type C Adapters And Laptop Ports. Please Check The Port Of Your Adapter Before Buying The Cable.|Connector Type: Usb Type C",
         "https://www.amazon.in/AmazonBasics-Apple-Certified-Lightning-Charging/dp/B07XLCFSSN/ref=sr_1_245?qid=1672895821&s=electronics&sr=1-245",
         "https://m.media-amazon.com/images/I/3183iGEWksL._SX300_SY300_QL70_ML2_.jpg"
        ],
        [
         "B09T37CKQ5",
         "FLiX Usb Charger,Flix (Beetel) Bolt 2.4 Dual Poart,5V/2.4A/12W Usb Wall Charger Fast Charging,Adapter For Android/Iphone 11/Xs/Xs Max/Xr/X/8/7/6/Plus,Ipad Pro/Air 2/Mini 3/4,Samsung S4/S5 & More-Black",
         "Electronics|Mobiles&Accessories|MobileAccessories|Chargers|WallChargers",
         "USB Charger with dual ports allow you to charge 2 devices at the same time with the total output of 2.4A current.|With the intelligent chip inside, dual USB wall charger matches the current as your device's need automatically. Over-current, over-voltage and short-circuit protection also effectively protect your smartphones from damage|Internal protection mechanisms offers multiple Protection against short-circuit, over-temperature, over-current, over-voltage and more|Robust textured casing and premium internal components ensure perfect performance|Power Source Type: Corded Electric; Specification Met: Bis",
         "https://www.amazon.in/FLiX-Charger-Charging-Adapter-More-Black/dp/B09T37CKQ5/ref=sr_1_431?qid=1672895872&s=electronics&sr=1-431",
         "https://m.media-amazon.com/images/I/31Iuz7jlfqL._SX300_SY300_QL70_ML2_.jpg"
        ],
        [
         "B09C6HXFC1",
         "Duracell USB Lightning Apple Certified (Mfi) Braided Sync & Charge Cable For Iphone, Ipad And Ipod. Fast Charging Lightning Cable, 3.9 Feet (1.2M) - Black",
         "Computers&Accessories|Accessories&Peripherals|Cables&Accessories|Cables|USBCables",
         "Supports Ios Devices With Max Output Up To 2.4A|Up To 10, 000+ Bend And 10, 000+ Plugging And Unplugging Test Ensure This Cable A Longer Lifespan|Ensure Fast And Stable Data Transmission Up To 480 Mbps|2 Years Warranty|Compatible Designed To Work Flawlessly With Mfi Or Apple Devices, Iphone, Imac, Ipad Etc|1.2M Tangle Free Durable Tough Braiding Sync & Charge Cable",
         "https://www.amazon.in/DURACELL-Lightning-Certified-braided-Devices/dp/B09C6HXFC1/ref=sr_1_126?qid=1672903001&s=computers&sr=1-126",
         "https://m.media-amazon.com/images/I/41TZJiPRRwL._SX300_SY300_QL70_FMwebp_.jpg"
        ]
       ],
       "datasetInfos": [],
       "dbfsResultPath": null,
       "isJsonSchema": true,
       "metadata": {},
       "overflow": false,
       "plotOptions": {
        "customPlotOptions": {},
        "displayType": "table",
        "pivotAggregation": null,
        "pivotColumns": null,
        "xColumns": null,
        "yColumns": null
       },
       "removedWidgets": [],
       "schema": [
        {
         "metadata": "{\"__CHAR_VARCHAR_TYPE_STRING\":\"varchar(255)\"}",
         "name": "product_id",
         "type": "\"string\""
        },
        {
         "metadata": "{\"__CHAR_VARCHAR_TYPE_STRING\":\"varchar(1000)\"}",
         "name": "product_name",
         "type": "\"string\""
        },
        {
         "metadata": "{\"__CHAR_VARCHAR_TYPE_STRING\":\"varchar(255)\"}",
         "name": "category",
         "type": "\"string\""
        },
        {
         "metadata": "{}",
         "name": "about_product",
         "type": "\"string\""
        },
        {
         "metadata": "{\"__CHAR_VARCHAR_TYPE_STRING\":\"varchar(255)\"}",
         "name": "product_link",
         "type": "\"string\""
        },
        {
         "metadata": "{\"__CHAR_VARCHAR_TYPE_STRING\":\"varchar(255)\"}",
         "name": "img_link",
         "type": "\"string\""
        }
       ],
       "type": "table"
      }
     },
     "output_type": "display_data"
    }
   ],
   "source": [
    "\n",
    "%sql \n",
    "    SELECT * \n",
    "    FROM dim_product \n",
    "    WHERE product_name LIKE '%Iphone%';\n",
    "\n",
    "\n"
   ]
  },
  {
   "cell_type": "markdown",
   "metadata": {
    "application/vnd.databricks.v1+cell": {
     "cellMetadata": {
      "byteLimit": 2048000,
      "rowLimit": 10000
     },
     "inputWidgets": {},
     "nuid": "6b7c1cf2-9591-4dc1-a166-2f1db1b41cd6",
     "showTitle": false,
     "tableResultSettingsMap": {},
     "title": ""
    }
   },
   "source": [
    "##Procurar por nomes de produtos na tabela dim_product com a palavra 'Gamepad'"
   ]
  },
  {
   "cell_type": "code",
   "execution_count": 0,
   "metadata": {
    "application/vnd.databricks.v1+cell": {
     "cellMetadata": {
      "byteLimit": 2048000,
      "implicitDf": true,
      "rowLimit": 10000
     },
     "inputWidgets": {},
     "nuid": "a2f70621-89f2-44f0-8347-4157c1379171",
     "showTitle": false,
     "tableResultSettingsMap": {},
     "title": ""
    }
   },
   "outputs": [
    {
     "output_type": "display_data",
     "data": {
      "text/html": [
       "<style scoped>\n",
       "  .table-result-container {\n",
       "    max-height: 300px;\n",
       "    overflow: auto;\n",
       "  }\n",
       "  table, th, td {\n",
       "    border: 1px solid black;\n",
       "    border-collapse: collapse;\n",
       "  }\n",
       "  th, td {\n",
       "    padding: 5px;\n",
       "  }\n",
       "  th {\n",
       "    text-align: left;\n",
       "  }\n",
       "</style><div class='table-result-container'><table class='table-result'><thead style='background-color: white'><tr><th>product_id</th><th>product_name</th><th>category</th><th>about_product</th><th>product_link</th><th>img_link</th></tr></thead><tbody><tr><td>B0756CLQWL</td><td>Redgear Pro Wireless Gamepad with 2.4GHz Wireless Technology, Integrated Dual Intensity Motor, Illuminated Keys for PC(Compatible with Windows 7/8/8.1/10 only)</td><td>Computers&Accessories|Accessories&Peripherals|PCGamingPeripherals|Gamepads</td><td>Gamepad comes equipped with2.4GHz wireless technology and supports up to 10 metres range, an ideal choice for those looking to enjoy your favourite games without the hassle of cables and wires.|The built-in lithium-ion battery in the gamepad can provide uninterrupted gameplay for up to 2 hours in a single charge for upto 30-minute|Integrated dual intensity motor which allows a realistic gaming experience.|Integrated force feedback. Reset : When an exception occurs, such as Keys disorder, or crash, unable to connect. Remove the USB connection from the gamepad and device and reconnect.|The gamepad comes with illuminated keys on the back which light up and allow visibility even in low light conditions.|1 year warranty from the date of purchase</td><td>https://www.amazon.in/Redgear-Pro-Wireless-Gamepad-Black/dp/B0756CLQWL/ref=sr_1_162?qid=1672903002&s=computers&sr=1-162</td><td>https://m.media-amazon.com/images/W/WEBP_402378-T1/images/I/41n2MqMIH5L._SX300_SY300_QL70_FMwebp_.jpg</td></tr></tbody></table></div>"
      ]
     },
     "metadata": {
      "application/vnd.databricks.v1+output": {
       "addedWidgets": {},
       "aggData": [],
       "aggError": "",
       "aggOverflow": false,
       "aggSchema": [],
       "aggSeriesLimitReached": false,
       "aggType": "",
       "arguments": {},
       "columnCustomDisplayInfos": {},
       "data": [
        [
         "B0756CLQWL",
         "Redgear Pro Wireless Gamepad with 2.4GHz Wireless Technology, Integrated Dual Intensity Motor, Illuminated Keys for PC(Compatible with Windows 7/8/8.1/10 only)",
         "Computers&Accessories|Accessories&Peripherals|PCGamingPeripherals|Gamepads",
         "Gamepad comes equipped with2.4GHz wireless technology and supports up to 10 metres range, an ideal choice for those looking to enjoy your favourite games without the hassle of cables and wires.|The built-in lithium-ion battery in the gamepad can provide uninterrupted gameplay for up to 2 hours in a single charge for upto 30-minute|Integrated dual intensity motor which allows a realistic gaming experience.|Integrated force feedback. Reset : When an exception occurs, such as Keys disorder, or crash, unable to connect. Remove the USB connection from the gamepad and device and reconnect.|The gamepad comes with illuminated keys on the back which light up and allow visibility even in low light conditions.|1 year warranty from the date of purchase",
         "https://www.amazon.in/Redgear-Pro-Wireless-Gamepad-Black/dp/B0756CLQWL/ref=sr_1_162?qid=1672903002&s=computers&sr=1-162",
         "https://m.media-amazon.com/images/W/WEBP_402378-T1/images/I/41n2MqMIH5L._SX300_SY300_QL70_FMwebp_.jpg"
        ]
       ],
       "datasetInfos": [],
       "dbfsResultPath": null,
       "isJsonSchema": true,
       "metadata": {},
       "overflow": false,
       "plotOptions": {
        "customPlotOptions": {},
        "displayType": "table",
        "pivotAggregation": null,
        "pivotColumns": null,
        "xColumns": null,
        "yColumns": null
       },
       "removedWidgets": [],
       "schema": [
        {
         "metadata": "{\"__CHAR_VARCHAR_TYPE_STRING\":\"varchar(255)\"}",
         "name": "product_id",
         "type": "\"string\""
        },
        {
         "metadata": "{\"__CHAR_VARCHAR_TYPE_STRING\":\"varchar(1000)\"}",
         "name": "product_name",
         "type": "\"string\""
        },
        {
         "metadata": "{\"__CHAR_VARCHAR_TYPE_STRING\":\"varchar(255)\"}",
         "name": "category",
         "type": "\"string\""
        },
        {
         "metadata": "{}",
         "name": "about_product",
         "type": "\"string\""
        },
        {
         "metadata": "{\"__CHAR_VARCHAR_TYPE_STRING\":\"varchar(255)\"}",
         "name": "product_link",
         "type": "\"string\""
        },
        {
         "metadata": "{\"__CHAR_VARCHAR_TYPE_STRING\":\"varchar(255)\"}",
         "name": "img_link",
         "type": "\"string\""
        }
       ],
       "type": "table"
      }
     },
     "output_type": "display_data"
    }
   ],
   "source": [
    "\n",
    "\n",
    "%sql\n",
    "SELECT * \n",
    "FROM dim_product \n",
    "WHERE product_name LIKE '%Gamepad%';\n",
    "\n",
    "\n"
   ]
  },
  {
   "cell_type": "markdown",
   "metadata": {
    "application/vnd.databricks.v1+cell": {
     "cellMetadata": {
      "byteLimit": 2048000,
      "rowLimit": 10000
     },
     "inputWidgets": {},
     "nuid": "04232440-981f-4272-bb7f-d4d0c93c141d",
     "showTitle": false,
     "tableResultSettingsMap": {},
     "title": ""
    }
   },
   "source": [
    "#Perguntas de Negócio"
   ]
  },
  {
   "cell_type": "markdown",
   "metadata": {
    "application/vnd.databricks.v1+cell": {
     "cellMetadata": {
      "byteLimit": 2048000,
      "rowLimit": 10000
     },
     "inputWidgets": {},
     "nuid": "56f1fe2c-7078-41d1-aa86-f6262650b4b7",
     "showTitle": false,
     "tableResultSettingsMap": {},
     "title": ""
    }
   },
   "source": [
    "##Qual é a relação entre o preço atual e o preço com desconto?\n"
   ]
  },
  {
   "cell_type": "code",
   "execution_count": 0,
   "metadata": {
    "application/vnd.databricks.v1+cell": {
     "cellMetadata": {
      "byteLimit": 2048000,
      "implicitDf": true,
      "rowLimit": 10000
     },
     "inputWidgets": {},
     "nuid": "3441211d-63b3-45aa-9ab7-987f70a917bf",
     "showTitle": false,
     "tableResultSettingsMap": {},
     "title": ""
    }
   },
   "outputs": [
    {
     "output_type": "display_data",
     "data": {
      "text/html": [
       "<style scoped>\n",
       "  .table-result-container {\n",
       "    max-height: 300px;\n",
       "    overflow: auto;\n",
       "  }\n",
       "  table, th, td {\n",
       "    border: 1px solid black;\n",
       "    border-collapse: collapse;\n",
       "  }\n",
       "  th, td {\n",
       "    padding: 5px;\n",
       "  }\n",
       "  th {\n",
       "    text-align: left;\n",
       "  }\n",
       "</style><div class='table-result-container'><table class='table-result'><thead style='background-color: white'><tr><th>media_preco_atual</th><th>media_preco_desconto</th></tr></thead><tbody><tr><td>5444.990635</td><td>3125.310874</td></tr></tbody></table></div>"
      ]
     },
     "metadata": {
      "application/vnd.databricks.v1+output": {
       "addedWidgets": {},
       "aggData": [],
       "aggError": "",
       "aggOverflow": false,
       "aggSchema": [],
       "aggSeriesLimitReached": false,
       "aggType": "",
       "arguments": {},
       "columnCustomDisplayInfos": {},
       "data": [
        [
         "5444.990635",
         "3125.310874"
        ]
       ],
       "datasetInfos": [],
       "dbfsResultPath": null,
       "isJsonSchema": true,
       "metadata": {},
       "overflow": false,
       "plotOptions": {
        "customPlotOptions": {},
        "displayType": "table",
        "pivotAggregation": null,
        "pivotColumns": null,
        "xColumns": null,
        "yColumns": null
       },
       "removedWidgets": [],
       "schema": [
        {
         "metadata": "{}",
         "name": "media_preco_atual",
         "type": "\"decimal(14,6)\""
        },
        {
         "metadata": "{}",
         "name": "media_preco_desconto",
         "type": "\"decimal(14,6)\""
        }
       ],
       "type": "table"
      }
     },
     "output_type": "display_data"
    }
   ],
   "source": [
    "%sql\n",
    "SELECT AVG(actual_price) AS media_preco_atual, AVG(discounted_price) AS media_preco_desconto\n",
    "FROM fact_product_reviews;"
   ]
  },
  {
   "cell_type": "markdown",
   "metadata": {
    "application/vnd.databricks.v1+cell": {
     "cellMetadata": {
      "byteLimit": 2048000,
      "rowLimit": 10000
     },
     "inputWidgets": {},
     "nuid": "a7a84673-d4b1-44b1-b79d-9a87e864f690",
     "showTitle": false,
     "tableResultSettingsMap": {},
     "title": ""
    }
   },
   "source": [
    "Essa consulta calcula a média dos preços atuais e com desconto, fornecendo uma visão geral da relação entre eles. O valor de 5444.990635 representa a média dos preços originais dos produtos e indica que, em média, os produtos na plataforma têm um preço original de aproximadamente 5445 unidades monetárias.O valor de 3125.310874 representa a média dos preços dos produtos após a aplicação de descontos.Isso indica que, em média, os produtos são vendidos por aproximadamente 3125 unidades monetárias após os descontos.A diferença entre a média do preço atual e a média do preço com desconto mostra que, em média, os produtos têm um desconto significativo. Isso sugere que os descontos desempenham um papel importante na estratégia de preços da plataforma."
   ]
  },
  {
   "cell_type": "markdown",
   "metadata": {
    "application/vnd.databricks.v1+cell": {
     "cellMetadata": {
      "byteLimit": 2048000,
      "rowLimit": 10000
     },
     "inputWidgets": {},
     "nuid": "27cec3a7-55bd-44db-a0bc-b5d5c4132c95",
     "showTitle": false,
     "tableResultSettingsMap": {},
     "title": ""
    }
   },
   "source": [
    "Quais categorias de produtos possuem os maiores descontos e as melhores avaliações?"
   ]
  },
  {
   "cell_type": "code",
   "execution_count": 0,
   "metadata": {
    "application/vnd.databricks.v1+cell": {
     "cellMetadata": {
      "byteLimit": 2048000,
      "implicitDf": true,
      "rowLimit": 10000
     },
     "inputWidgets": {},
     "nuid": "66d1693a-a59e-469b-add2-cd49365fa9de",
     "showTitle": false,
     "tableResultSettingsMap": {},
     "title": ""
    }
   },
   "outputs": [
    {
     "output_type": "display_data",
     "data": {
      "text/html": [
       "<style scoped>\n",
       "  .table-result-container {\n",
       "    max-height: 300px;\n",
       "    overflow: auto;\n",
       "  }\n",
       "  table, th, td {\n",
       "    border: 1px solid black;\n",
       "    border-collapse: collapse;\n",
       "  }\n",
       "  th, td {\n",
       "    padding: 5px;\n",
       "  }\n",
       "  th {\n",
       "    text-align: left;\n",
       "  }\n",
       "</style><div class='table-result-container'><table class='table-result'><thead style='background-color: white'><tr><th>category</th><th>media_desconto</th><th>media_avaliacao</th></tr></thead><tbody><tr><td>Electronics|Mobiles&Accessories|MobileAccessories|Décor|PhoneCharms</td><td>90.000000</td><td>4.400000</td></tr><tr><td>Computers&Accessories|Accessories&Peripherals|Cables&Accessories|CableConnectionProtectors</td><td>90.000000</td><td>4.020000</td></tr><tr><td>Electronics|Headphones,Earbuds&Accessories|Earpads</td><td>90.000000</td><td>3.800000</td></tr><tr><td>Electronics|Headphones,Earbuds&Accessories|Adapters</td><td>88.000000</td><td>3.900000</td></tr><tr><td>Computers&Accessories|Accessories&Peripherals|Keyboards,Mice&InputDevices|Keyboard&MiceAccessories|DustCovers</td><td>87.500000</td><td>3.400000</td></tr><tr><td>Electronics|Mobiles&Accessories|MobileAccessories|Mounts|Shower&WallMounts</td><td>82.000000</td><td>4.100000</td></tr><tr><td>Computers&Accessories|Components|InternalHardDrives</td><td>80.000000</td><td>4.200000</td></tr><tr><td>Computers&Accessories|Accessories&Peripherals|Adapters|USBtoUSBAdapters</td><td>78.500000</td><td>4.150000</td></tr><tr><td>Electronics|Mobiles&Accessories|MobileAccessories|Stands</td><td>76.400000</td><td>4.160000</td></tr><tr><td>Electronics|Headphones,Earbuds&Accessories|Cases</td><td>76.000000</td><td>4.300000</td></tr><tr><td>Computers&Accessories|Accessories&Peripherals|LaptopAccessories|NotebookComputerStands</td><td>75.666667</td><td>4.300000</td></tr><tr><td>Computers&Accessories|Accessories&Peripherals|HardDriveAccessories|Caddies</td><td>75.000000</td><td>4.100000</td></tr><tr><td>Electronics|Cameras&Photography|VideoCameras</td><td>75.000000</td><td>3.700000</td></tr><tr><td>Electronics|Mobiles&Accessories|MobileAccessories|Mounts|Bedstand&DeskMounts</td><td>74.500000</td><td>3.900000</td></tr><tr><td>Computers&Accessories|Printers,Inks&Accessories|Inks,Toners&Cartridges|InkjetInkRefills&Kits</td><td>73.000000</td><td>4.300000</td></tr><tr><td>Electronics|HomeAudio|Accessories|SpeakerAccessories|Mounts</td><td>73.000000</td><td>4.000000</td></tr><tr><td>Electronics|Mobiles&Accessories|MobileAccessories|Cables&Adapters|OTGAdapters</td><td>72.000000</td><td>4.250000</td></tr><tr><td>Electronics|Mobiles&Accessories|MobileAccessories|Décor</td><td>72.000000</td><td>4.155556</td></tr><tr><td>Electronics|Mobiles&Accessories|MobileAccessories|Cases&Covers|BasicCases</td><td>70.750000</td><td>4.200000</td></tr><tr><td>Computers&Accessories|Accessories&Peripherals|TabletAccessories|Bags,Cases&Sleeves|Cases</td><td>70.500000</td><td>4.300000</td></tr><tr><td>Computers&Accessories|Accessories&Peripherals|TabletAccessories|Stands</td><td>70.000000</td><td>4.100000</td></tr><tr><td>Electronics|WearableTechnology|SmartWatches</td><td>69.980769</td><td>4.045192</td></tr><tr><td>Electronics|Cameras&Photography|Accessories|Tripods&Monopods|Tabletop&TravelTripods</td><td>69.500000</td><td>4.350000</td></tr><tr><td>Electronics|Headphones,Earbuds&Accessories|Headphones|Over-Ear</td><td>69.000000</td><td>4.000000</td></tr><tr><td>Computers&Accessories|ExternalDevices&DataStorage|ExternalSolidStateDrives</td><td>68.000000</td><td>4.400000</td></tr><tr><td>Electronics|Mobiles&Accessories|MobileAccessories|Maintenance,Upkeep&Repairs|ScreenProtectors</td><td>66.857143</td><td>4.471429</td></tr><tr><td>Electronics|Mobiles&Accessories|MobileAccessories|Photo&VideoAccessories|SelfieSticks</td><td>66.333333</td><td>4.277778</td></tr><tr><td>Electronics|Mobiles&Accessories|MobileAccessories|Mounts|HandlebarMounts</td><td>66.000000</td><td>4.300000</td></tr><tr><td>Computers&Accessories|NetworkingDevices</td><td>66.000000</td><td>4.100000</td></tr><tr><td>Electronics|Mobiles&Accessories|MobileAccessories|Photo&VideoAccessories|Tripods</td><td>66.000000</td><td>3.800000</td></tr><tr><td>Electronics|HomeAudio|Accessories|Adapters</td><td>65.000000</td><td>4.400000</td></tr><tr><td>Computers&Accessories|Accessories&Peripherals|Cables&Accessories|Cables|SATACables</td><td>65.000000</td><td>3.900000</td></tr><tr><td>Electronics|Mobiles&Accessories|MobileAccessories|StylusPens</td><td>64.500000</td><td>4.171429</td></tr><tr><td>Computers&Accessories|Accessories&Peripherals|TabletAccessories|ScreenProtectors</td><td>63.800000</td><td>4.180000</td></tr><tr><td>Electronics|Cameras&Photography|Accessories|Tripods&Monopods|TripodLegs</td><td>62.500000</td><td>4.050000</td></tr><tr><td>Electronics|Mobiles&Accessories|MobileAccessories|Chargers|AutomobileChargers</td><td>62.285714</td><td>4.128571</td></tr><tr><td>OfficeProducts|OfficePaperProducts|Paper|Stationery|Notebooks,WritingPads&Diaries|Notepads&MemoBooks</td><td>62.000000</td><td>4.250000</td></tr><tr><td>Computers&Accessories|Accessories&Peripherals|LaptopAccessories|Bags&Sleeves|LaptopSleeves&Slipcases</td><td>61.833333</td><td>4.250000</td></tr><tr><td>Computers&Accessories|Accessories&Peripherals|Keyboards,Mice&InputDevices|Keyboard&MiceAccessories|MousePads</td><td>61.250000</td><td>4.375000</td></tr><tr><td>Computers&Accessories|Accessories&Peripherals|LaptopAccessories|LaptopChargers&PowerSupplies</td><td>61.000000</td><td>3.980000</td></tr><tr><td>Computers&Accessories|Accessories&Peripherals|Keyboards,Mice&InputDevices|GraphicTablets</td><td>60.818182</td><td>3.981818</td></tr><tr><td>Electronics|Accessories|MemoryCards|MicroSD</td><td>60.526316</td><td>4.300000</td></tr><tr><td>Electronics|Mobiles&Accessories|MobileAccessories|AutomobileAccessories|Cradles</td><td>60.333333</td><td>3.966667</td></tr><tr><td>Electronics|HomeTheater,TV&Video|Accessories|Cables|HDMICables</td><td>60.166667</td><td>4.223333</td></tr><tr><td>Electronics|HomeAudio|Speakers|SoundbarSpeakers</td><td>60.000000</td><td>4.200000</td></tr><tr><td>Home&Kitchen|HomeStorage&Organization|LaundryOrganization|LaundryBags</td><td>60.000000</td><td>4.200000</td></tr><tr><td>Home&Kitchen|Kitchen&Dining|KitchenTools|ManualChoppers&Chippers|Choppers</td><td>60.000000</td><td>4.100000</td></tr><tr><td>Electronics|Cameras&Photography|Flashes|Macro&RinglightFlashes</td><td>60.000000</td><td>3.800000</td></tr><tr><td>Electronics|HomeTheater,TV&Video|Accessories|RemoteControls</td><td>59.510204</td><td>3.800000</td></tr><tr><td>Computers&Accessories|Accessories&Peripherals|Cables&Accessories|Cables|USBCables</td><td>59.004751</td><td>4.159620</td></tr><tr><td>Home&Kitchen|Heating,Cooling&AirQuality|Parts&Accessories|FanParts&Accessories</td><td>59.000000</td><td>4.100000</td></tr><tr><td>Computers&Accessories|Accessories&Peripherals|LaptopAccessories|Lapdesks</td><td>58.928571</td><td>4.064286</td></tr><tr><td>HomeImprovement|Electrical|CordManagement</td><td>58.000000</td><td>4.500000</td></tr><tr><td>Electronics|Headphones,Earbuds&Accessories|Headphones|In-Ear</td><td>57.592593</td><td>3.905556</td></tr><tr><td>HomeImprovement|Electrical|Adapters&Multi-Outlets</td><td>57.000000</td><td>4.000000</td></tr><tr><td>Computers&Accessories|ExternalDevices&DataStorage|PenDrives</td><td>56.900000</td><td>4.260000</td></tr><tr><td>Computers&Accessories|Accessories&Peripherals|PCGamingPeripherals|Headsets</td><td>56.666667</td><td>4.033333</td></tr><tr><td>Computers&Accessories|Accessories&Peripherals|Audio&VideoAccessories|PCMicrophones</td><td>56.500000</td><td>3.600000</td></tr><tr><td>Home&Kitchen|Kitchen&HomeAppliances|Coffee,Tea&Espresso|CoffeeMakerAccessories|MeasuringSpoons</td><td>56.333333</td><td>4.200000</td></tr><tr><td>Electronics|HomeAudio|Speakers|OutdoorSpeakers</td><td>56.250000</td><td>4.000000</td></tr><tr><td>Computers&Accessories|Accessories&Peripherals|Cables&Accessories|Cables|DVICables</td><td>55.000000</td><td>4.400000</td></tr><tr><td>Home&Kitchen|Kitchen&HomeAppliances|SmallKitchenAppliances|YogurtMakers</td><td>55.000000</td><td>4.100000</td></tr><tr><td>Computers&Accessories|Accessories&Peripherals|HardDiskBags</td><td>54.333333</td><td>4.333333</td></tr><tr><td>Computers&Accessories|NetworkingDevices|Repeaters&Extenders</td><td>54.333333</td><td>4.200000</td></tr><tr><td>Computers&Accessories|Accessories&Peripherals|Cables&Accessories|Cables|EthernetCables</td><td>54.000000</td><td>4.400000</td></tr><tr><td>Home&Kitchen|Kitchen&HomeAppliances|Coffee,Tea&Espresso|StovetopEspressoPots</td><td>54.000000</td><td>4.200000</td></tr><tr><td>Home&Kitchen|Kitchen&HomeAppliances|SmallKitchenAppliances|DigitalKitchenScales</td><td>53.900000</td><td>4.080000</td></tr><tr><td>Home&Kitchen|Kitchen&HomeAppliances|SmallKitchenAppliances|WaffleMakers&Irons</td><td>53.333333</td><td>4.033333</td></tr><tr><td>OfficeProducts|OfficePaperProducts|Paper|Stationery|Notebooks,WritingPads&Diaries</td><td>53.000000</td><td>4.300000</td></tr><tr><td>Health&PersonalCare|HomeMedicalSupplies&Equipment|HealthMonitors|WeighingScales|DigitalBathroomScales</td><td>53.000000</td><td>4.000000</td></tr><tr><td>Home&Kitchen|Kitchen&HomeAppliances|SmallKitchenAppliances|EggBoilers</td><td>52.909091</td><td>4.290909</td></tr><tr><td>Electronics|Headphones,Earbuds&Accessories|Headphones|On-Ear</td><td>52.500000</td><td>4.070000</td></tr><tr><td>Home&Kitchen|Kitchen&HomeAppliances|SmallKitchenAppliances|Juicers</td><td>52.500000</td><td>3.700000</td></tr><tr><td>Computers&Accessories|Accessories&Peripherals|PCGamingPeripherals|Gamepads</td><td>52.333333</td><td>4.266667</td></tr><tr><td>Electronics|HomeTheater,TV&Video|Televisions|StandardTelevisions</td><td>52.166667</td><td>4.066667</td></tr><tr><td>Home&Kitchen|Heating,Cooling&AirQuality|RoomHeaters</td><td>51.500000</td><td>3.900000</td></tr><tr><td>Electronics|HomeTheater,TV&Video|SatelliteEquipment|SatelliteReceivers</td><td>51.333333</td><td>4.266667</td></tr><tr><td>Home&Kitchen|Kitchen&HomeAppliances|Vacuum,Cleaning&Ironing|Irons,Steamers&Accessories|LintShavers</td><td>51.318182</td><td>4.036364</td></tr><tr><td>Electronics|HomeTheater,TV&Video|Accessories|TVMounts,Stands&Turntables|TVWall&CeilingMounts</td><td>51.166667</td><td>4.033333</td></tr><tr><td>Electronics|Mobiles&Accessories|MobileAccessories|Photo&VideoAccessories|Flashes&SelfieLights|SelfieLights</td><td>51.000000</td><td>4.100000</td></tr><tr><td>Home&Kitchen|Kitchen&HomeAppliances|Coffee,Tea&Espresso|CoffeeGrinders|ElectricGrinders</td><td>51.000000</td><td>3.300000</td></tr><tr><td>Electronics|HomeTheater,TV&Video|Accessories|Cables|RCACables</td><td>50.500000</td><td>4.300000</td></tr><tr><td>Computers&Accessories|Monitors</td><td>50.500000</td><td>4.250000</td></tr><tr><td>Electronics|Mobiles&Accessories|MobileAccessories|Chargers|WallChargers</td><td>50.388889</td><td>4.127778</td></tr><tr><td>Electronics|HomeTheater,TV&Video|Accessories|Cables|SpeakerCables</td><td>50.000000</td><td>4.400000</td></tr><tr><td>Computers&Accessories|NetworkingDevices|NetworkAdapters|WirelessUSBAdapters</td><td>49.923077</td><td>4.096154</td></tr><tr><td>Computers&Accessories|Components|Memory</td><td>49.000000</td><td>4.500000</td></tr><tr><td>Home&Kitchen|Kitchen&HomeAppliances|Vacuum,Cleaning&Ironing|Vacuums&FloorCare|VacuumAccessories|VacuumBags|HandheldBags</td><td>49.000000</td><td>4.300000</td></tr><tr><td>Electronics|HomeAudio|Speakers|BluetoothSpeakers</td><td>48.500000</td><td>4.050000</td></tr><tr><td>Home&Kitchen|Heating,Cooling&AirQuality|WaterHeaters&Geysers|InstantWaterHeaters</td><td>48.043478</td><td>4.052174</td></tr><tr><td>Computers&Accessories|Components|InternalSolidStateDrives</td><td>48.000000</td><td>4.400000</td></tr><tr><td>Home&Kitchen|Kitchen&HomeAppliances|SmallKitchenAppliances|StandMixers</td><td>48.000000</td><td>4.300000</td></tr><tr><td>Computers&Accessories|Printers,Inks&Accessories|Inks,Toners&Cartridges|TonerCartridges</td><td>48.000000</td><td>4.100000</td></tr><tr><td>Home&Kitchen|Kitchen&HomeAppliances|SmallKitchenAppliances|Juicers|ColdPressJuicers</td><td>47.000000</td><td>4.400000</td></tr><tr><td>Home&Kitchen|HomeStorage&Organization|LaundryOrganization|IroningAccessories|SprayBottles</td><td>47.000000</td><td>4.150000</td></tr><tr><td>Computers&Accessories|Accessories&Peripherals|Audio&VideoAccessories|PCSpeakers</td><td>46.500000</td><td>4.050000</td></tr><tr><td>Electronics|HomeTheater,TV&Video|Accessories|Cables|OpticalCables</td><td>46.333333</td><td>4.133333</td></tr><tr><td>Electronics|Cameras&Photography|Accessories|PhotoStudio&Lighting|PhotoBackgroundAccessories|BackgroundSupports</td><td>46.000000</td><td>4.300000</td></tr><tr><td>MusicalInstruments|Microphones|Condenser</td><td>46.000000</td><td>3.900000</td></tr><tr><td>Home&Kitchen|Heating,Cooling&AirQuality|WaterHeaters&Geysers|StorageWaterHeaters</td><td>45.083333</td><td>4.141667</td></tr><tr><td>Computers&Accessories|ExternalDevices&DataStorage|ExternalMemoryCardReaders</td><td>45.000000</td><td>4.300000</td></tr><tr><td>Home&Kitchen|Kitchen&HomeAppliances|Vacuum,Cleaning&Ironing|Vacuums&FloorCare|Vacuums|RoboticVacuums</td><td>45.000000</td><td>4.250000</td></tr><tr><td>Computers&Accessories|Accessories&Peripherals|LaptopAccessories|CoolingPads</td><td>45.000000</td><td>4.100000</td></tr><tr><td>Home&Kitchen|Kitchen&HomeAppliances|SmallKitchenAppliances|InductionCooktop</td><td>44.900000</td><td>4.050000</td></tr><tr><td>Home&Kitchen|HomeStorage&Organization|LaundryOrganization|LaundryBaskets</td><td>44.846154</td><td>3.992308</td></tr><tr><td>Computers&Accessories|NetworkingDevices|Routers</td><td>44.666667</td><td>4.255556</td></tr><tr><td>Computers&Accessories|Accessories&Peripherals|Audio&VideoAccessories|Webcams&VoIPEquipment|Webcams</td><td>44.500000</td><td>4.200000</td></tr><tr><td>Home&Kitchen|Kitchen&HomeAppliances|Vacuum,Cleaning&Ironing|PressureWashers,Steam&WindowCleaners</td><td>44.333333</td><td>4.200000</td></tr><tr><td>Home&Kitchen|Kitchen&HomeAppliances|SmallKitchenAppliances|Kettles&HotWaterDispensers|Kettle&ToasterSets</td><td>44.230769</td><td>3.961538</td></tr><tr><td>Home&Kitchen|Kitchen&HomeAppliances|SmallKitchenAppliances|JuicerMixerGrinders</td><td>44.166667</td><td>3.891667</td></tr><tr><td>Home&Kitchen|Kitchen&HomeAppliances|SmallKitchenAppliances|DeepFatFryers|AirFryers</td><td>44.000000</td><td>4.460000</td></tr><tr><td>Electronics|Accessories|MemoryCards|SecureDigitalCards</td><td>44.000000</td><td>4.400000</td></tr><tr><td>Computers&Accessories|Accessories&Peripherals|LaptopAccessories</td><td>44.000000</td><td>4.300000</td></tr><tr><td>Home&Kitchen|Kitchen&HomeAppliances|SmallKitchenAppliances|MixerGrinders</td><td>43.962963</td><td>4.011111</td></tr><tr><td>Home&Kitchen|Kitchen&HomeAppliances|Vacuum,Cleaning&Ironing|Vacuums&FloorCare|Vacuums|Wet-DryVacuums</td><td>43.666667</td><td>4.033333</td></tr><tr><td>Computers&Accessories|Accessories&Peripherals|USBHubs</td><td>43.400000</td><td>3.940000</td></tr><tr><td>Home&Kitchen|Heating,Cooling&AirQuality|AirConditioners|Split-SystemAirConditioners</td><td>43.000000</td><td>4.300000</td></tr><tr><td>Electronics|HomeAudio|Speakers|TowerSpeakers</td><td>43.000000</td><td>3.800000</td></tr><tr><td>Electronics|HomeTheater,TV&Video|Projectors</td><td>42.666667</td><td>4.133333</td></tr><tr><td>Electronics|Cameras&Photography|SecurityCameras|DomeCameras</td><td>42.600000</td><td>4.100000</td></tr><tr><td>Home&Kitchen|Kitchen&HomeAppliances|WaterPurifiers&Accessories|WaterFilters&Purifiers</td><td>42.500000</td><td>4.175000</td></tr><tr><td>Home&Kitchen|Heating,Cooling&AirQuality|RoomHeaters|FanHeaters</td><td>42.450000</td><td>3.810000</td></tr><tr><td>Computers&Accessories|Accessories&Peripherals|Keyboards,Mice&InputDevices|Mice</td><td>42.041667</td><td>4.287500</td></tr><tr><td>Home&Kitchen|Kitchen&HomeAppliances|SmallKitchenAppliances|HandMixers</td><td>42.000000</td><td>4.233333</td></tr><tr><td>Home&Kitchen|Heating,Cooling&AirQuality|Fans|TableFans</td><td>42.000000</td><td>3.950000</td></tr><tr><td>Car&Motorbike|CarAccessories|InteriorAccessories|AirPurifiers&Ionizers</td><td>42.000000</td><td>3.800000</td></tr><tr><td>Home&Kitchen|Kitchen&HomeAppliances|SmallKitchenAppliances|MiniFoodProcessors&Choppers</td><td>41.875000</td><td>4.037500</td></tr><tr><td>Home&Kitchen|Kitchen&HomeAppliances|SmallKitchenAppliances|HandBlenders</td><td>41.684211</td><td>4.057895</td></tr><tr><td>Home&Kitchen|Kitchen&HomeAppliances|Coffee,Tea&Espresso|MilkFrothers</td><td>41.333333</td><td>3.733333</td></tr><tr><td>Home&Kitchen|Heating,Cooling&AirQuality|AirPurifiers|HEPAAirPurifiers</td><td>41.000000</td><td>4.275000</td></tr><tr><td>Home&Kitchen|Kitchen&HomeAppliances|WaterPurifiers&Accessories|WaterPurifierAccessories</td><td>40.818182</td><td>3.918182</td></tr><tr><td>Home&Kitchen|Kitchen&HomeAppliances|SewingMachines&Accessories|Sewing&EmbroideryMachines</td><td>40.500000</td><td>3.650000</td></tr><tr><td>Computers&Accessories|NetworkingDevices|NetworkAdapters|PowerLANAdapters</td><td>40.000000</td><td>4.500000</td></tr><tr><td>Electronics|Cameras&Photography|Accessories|Cleaners|CleaningKits</td><td>40.000000</td><td>4.200000</td></tr><tr><td>Home&Kitchen|Heating,Cooling&AirQuality|Fans|PedestalFans</td><td>40.000000</td><td>4.100000</td></tr><tr><td>Home&Kitchen|Heating,Cooling&AirQuality|Humidifiers</td><td>39.333333</td><td>3.966667</td></tr><tr><td>Home&Kitchen|Kitchen&HomeAppliances|SmallKitchenAppliances</td><td>39.000000</td><td>4.400000</td></tr><tr><td>Computers&Accessories|Accessories&Peripherals|PCGamingPeripherals|GamingKeyboards</td><td>39.000000</td><td>4.366667</td></tr><tr><td>Home&Kitchen|Kitchen&HomeAppliances|SmallKitchenAppliances|Kettles&HotWaterDispensers|ElectricKettles</td><td>39.000000</td><td>4.031579</td></tr><tr><td>Electronics|HomeTheater,TV&Video|Televisions|SmartTelevisions</td><td>38.550725</td><td>4.214493</td></tr><tr><td>Home&Kitchen|Heating,Cooling&AirQuality|Fans|CeilingFans</td><td>38.181818</td><td>4.109091</td></tr><tr><td>Electronics|Cameras&Photography|Accessories|Tripods&Monopods|CompleteTripodUnits</td><td>38.000000</td><td>4.400000</td></tr><tr><td>Computers&Accessories|Laptops|TraditionalLaptops</td><td>38.000000</td><td>4.000000</td></tr><tr><td>Electronics|HomeAudio|Speakers|MultimediaSpeakerSystems</td><td>38.000000</td><td>3.900000</td></tr><tr><td>Home&Kitchen|Kitchen&HomeAppliances|Vacuum,Cleaning&Ironing|Vacuums&FloorCare|Vacuums|HandheldVacuums</td><td>37.750000</td><td>3.962500</td></tr><tr><td>Home&Kitchen|Kitchen&HomeAppliances|Coffee,Tea&Espresso|DripCoffeeMachines</td><td>37.400000</td><td>4.080000</td></tr><tr><td>Electronics|Mobiles&Accessories|MobileAccessories|Chargers|PowerBanks</td><td>36.571429</td><td>4.121429</td></tr><tr><td>Electronics|HomeTheater,TV&Video|AVReceivers&Amplifiers</td><td>36.000000</td><td>4.000000</td></tr><tr><td>Home&Kitchen|Heating,Cooling&AirQuality|RoomHeaters|ElectricHeaters</td><td>36.000000</td><td>3.890000</td></tr><tr><td>Computers&Accessories|Accessories&Peripherals|Keyboards,Mice&InputDevices|Keyboards</td><td>35.000000</td><td>4.120000</td></tr><tr><td>Computers&Accessories|NetworkingDevices|DataCards&Dongles</td><td>35.000000</td><td>3.800000</td></tr><tr><td>Computers&Accessories|Accessories&Peripherals|Audio&VideoAccessories|PCHeadsets</td><td>35.000000</td><td>3.500000</td></tr><tr><td>Home&Kitchen|Kitchen&HomeAppliances|Vacuum,Cleaning&Ironing|Irons,Steamers&Accessories|Irons|DryIrons</td><td>34.250000</td><td>4.129167</td></tr><tr><td>Computers&Accessories|Accessories&Peripherals|PCGamingPeripherals|GamingMice</td><td>33.500000</td><td>4.383333</td></tr><tr><td>Home&Kitchen|Kitchen&HomeAppliances|SmallKitchenAppliances|RotiMakers</td><td>33.000000</td><td>4.400000</td></tr><tr><td>Computers&Accessories|NetworkingDevices|NetworkAdapters|BluetoothAdapters</td><td>33.000000</td><td>4.300000</td></tr><tr><td>Home&Kitchen|Kitchen&HomeAppliances|SmallKitchenAppliances|SandwichMakers</td><td>32.363636</td><td>4.100000</td></tr><tr><td>Computers&Accessories|Accessories&Peripherals|Keyboards,Mice&InputDevices|Keyboard&MouseSets</td><td>32.100000</td><td>4.050000</td></tr><tr><td>Home&Kitchen|Kitchen&HomeAppliances|SmallKitchenAppliances|Rice&PastaCookers</td><td>31.800000</td><td>3.960000</td></tr><tr><td>Home&Kitchen|Heating,Cooling&AirQuality|WaterHeaters&Geysers|ImmersionRods</td><td>31.777778</td><td>4.077778</td></tr><tr><td>Home&Kitchen|Kitchen&HomeAppliances|SmallKitchenAppliances|VacuumSealers</td><td>31.428571</td><td>3.671429</td></tr><tr><td>Home&Kitchen|Heating,Cooling&AirQuality|RoomHeaters|HalogenHeaters</td><td>29.500000</td><td>3.600000</td></tr><tr><td>Computers&Accessories|Tablets</td><td>29.000000</td><td>4.600000</td></tr><tr><td>Home&Kitchen|Kitchen&HomeAppliances|Vacuum,Cleaning&Ironing|Vacuums&FloorCare|Vacuums|CanisterVacuums</td><td>28.250000</td><td>4.175000</td></tr><tr><td>Home&Kitchen|Kitchen&HomeAppliances|Coffee,Tea&Espresso|CoffeePresses</td><td>27.000000</td><td>4.500000</td></tr><tr><td>Computers&Accessories|ExternalDevices&DataStorage|ExternalHardDisks</td><td>27.000000</td><td>4.400000</td></tr><tr><td>Home&Kitchen|Heating,Cooling&AirQuality|RoomHeaters|HeatConvectors</td><td>27.000000</td><td>3.700000</td></tr><tr><td>Electronics|Cameras&Photography|Accessories|Batteries&Chargers|BatteryChargers</td><td>25.000000</td><td>3.800000</td></tr><tr><td>Home&Kitchen|Heating,Cooling&AirQuality|Fans|ExhaustFans</td><td>24.666667</td><td>4.100000</td></tr><tr><td>Home&Kitchen|Kitchen&HomeAppliances|Vacuum,Cleaning&Ironing|Irons,Steamers&Accessories|Irons|SteamIrons</td><td>23.833333</td><td>4.033333</td></tr><tr><td>Electronics|GeneralPurposeBatteries&BatteryChargers</td><td>23.500000</td><td>4.375000</td></tr><tr><td>Home&Kitchen|Kitchen&HomeAppliances|SmallKitchenAppliances|DigitalKitchenScales|DigitalScales</td><td>23.500000</td><td>4.300000</td></tr><tr><td>Electronics|Mobiles&Accessories|Smartphones&BasicMobiles|Smartphones</td><td>23.294118</td><td>4.100000</td></tr><tr><td>Electronics|HomeTheater,TV&Video|Accessories|3DGlasses</td><td>23.000000</td><td>3.500000</td></tr><tr><td>Home&Kitchen|Kitchen&HomeAppliances|SmallKitchenAppliances|Mills&Grinders|WetGrinders</td><td>21.500000</td><td>3.800000</td></tr><tr><td>Home&Kitchen|CraftMaterials|Scrapbooking|Tape</td><td>21.000000</td><td>3.900000</td></tr><tr><td>Computers&Accessories|Accessories&Peripherals|UninterruptedPowerSupplies</td><td>20.000000</td><td>3.900000</td></tr><tr><td>Electronics|Mobiles&Accessories|Smartphones&BasicMobiles|BasicMobiles</td><td>18.555556</td><td>3.911111</td></tr><tr><td>OfficeProducts|OfficePaperProducts|Paper|Stationery|Pens,Pencils&WritingSupplies|Pens&Refills|RetractableBallpointPens</td><td>17.500000</td><td>4.300000</td></tr><tr><td>Home&Kitchen|Kitchen&HomeAppliances|Coffee,Tea&Espresso|EspressoMachines</td><td>17.000000</td><td>3.900000</td></tr><tr><td>Computers&Accessories|Accessories&Peripherals|USBGadgets|Lamps</td><td>16.000000</td><td>3.940000</td></tr><tr><td>Computers&Accessories|Accessories&Peripherals|LaptopAccessories|CameraPrivacyCovers</td><td>15.400000</td><td>4.300000</td></tr><tr><td>Electronics|GeneralPurposeBatteries&BatteryChargers|DisposableBatteries</td><td>14.285714</td><td>4.414286</td></tr><tr><td>Electronics|PowerAccessories|SurgeProtectors</td><td>14.000000</td><td>4.500000</td></tr><tr><td>Computers&Accessories|Printers,Inks&Accessories|Printers</td><td>13.666667</td><td>3.666667</td></tr><tr><td>Electronics|GeneralPurposeBatteries&BatteryChargers|RechargeableBatteries</td><td>13.333333</td><td>4.166667</td></tr><tr><td>Home&Kitchen|Kitchen&HomeAppliances|SmallKitchenAppliances|Pop-upToasters</td><td>13.000000</td><td>4.333333</td></tr><tr><td>Computers&Accessories|Printers,Inks&Accessories|Inks,Toners&Cartridges|InkjetInkCartridges</td><td>13.000000</td><td>4.250000</td></tr><tr><td>OfficeProducts|OfficePaperProducts|Paper|Stationery|Pens,Pencils&WritingSupplies|Pens&Refills|StickBallpointPens</td><td>13.000000</td><td>4.133333</td></tr><tr><td>OfficeProducts|OfficePaperProducts|Paper|Stationery|Notebooks,WritingPads&Diaries|CompositionNotebooks</td><td>12.000000</td><td>4.371429</td></tr><tr><td>Computers&Accessories|Printers,Inks&Accessories|Printers|InkjetPrinters</td><td>11.500000</td><td>3.600000</td></tr><tr><td>Home&Kitchen|CraftMaterials|DrawingMaterials|DrawingMedia|Pens</td><td>10.000000</td><td>4.400000</td></tr><tr><td>Home&Kitchen|Kitchen&HomeAppliances|SmallKitchenAppliances|OvenToasterGrills</td><td>9.500000</td><td>4.250000</td></tr><tr><td>Home&Kitchen|CraftMaterials|PaintingMaterials|Paints</td><td>9.333333</td><td>4.433333</td></tr><tr><td>Home&Kitchen|Kitchen&HomeAppliances|SmallKitchenAppliances|SmallApplianceParts&Accessories</td><td>8.000000</td><td>4.500000</td></tr><tr><td>OfficeProducts|OfficePaperProducts|Paper|Stationery|Notebooks,WritingPads&Diaries|WireboundNotebooks</td><td>5.750000</td><td>4.400000</td></tr><tr><td>OfficeProducts|OfficePaperProducts|Paper|Stationery|Pens,Pencils&WritingSupplies|Pens&Refills|BottledInk</td><td>5.000000</td><td>4.300000</td></tr><tr><td>OfficeProducts|OfficePaperProducts|Paper|Stationery|Pens,Pencils&WritingSupplies|Pens&Refills|LiquidInkRollerballPens</td><td>5.000000</td><td>4.150000</td></tr><tr><td>Home&Kitchen|Kitchen&HomeAppliances|WaterPurifiers&Accessories|WaterCartridges</td><td>3.000000</td><td>4.033333</td></tr><tr><td>OfficeProducts|OfficeElectronics|Calculators|Scientific</td><td>2.500000</td><td>4.450000</td></tr><tr><td>OfficeProducts|OfficeElectronics|Calculators|Basic</td><td>0.000000</td><td>4.500000</td></tr><tr><td>Home&Kitchen|CraftMaterials|PaintingMaterials</td><td>0.000000</td><td>4.500000</td></tr><tr><td>Electronics|Cameras&Photography|Accessories|Film</td><td>0.000000</td><td>4.500000</td></tr><tr><td>Electronics|HomeAudio|MediaStreamingDevices|StreamingClients</td><td>0.000000</td><td>4.500000</td></tr><tr><td>OfficeProducts|OfficeElectronics|Calculators|Financial&Business</td><td>0.000000</td><td>4.400000</td></tr><tr><td>Home&Kitchen|Kitchen&HomeAppliances|SmallKitchenAppliances|SmallApplianceParts&Accessories|StandMixerAccessories</td><td>0.000000</td><td>4.300000</td></tr><tr><td>Toys&Games|Arts&Crafts|Drawing&PaintingSupplies|ColouringPens&Markers</td><td>0.000000</td><td>4.300000</td></tr><tr><td>OfficeProducts|OfficePaperProducts|Paper|Copy&PrintingPaper|ColouredPaper</td><td>0.000000</td><td>4.300000</td></tr><tr><td>Home&Kitchen|CraftMaterials|DrawingMaterials|DrawingMedia|Pencils|WoodenPencils</td><td>0.000000</td><td>4.300000</td></tr><tr><td>OfficeProducts|OfficePaperProducts|Paper|Stationery|Pens,Pencils&WritingSupplies|Pens&Refills|GelInkRollerballPens</td><td>0.000000</td><td>4.250000</td></tr><tr><td>OfficeProducts|OfficePaperProducts|Paper|Stationery|Pens,Pencils&WritingSupplies|Pens&Refills|FountainPens</td><td>0.000000</td><td>4.100000</td></tr></tbody></table></div>"
      ]
     },
     "metadata": {
      "application/vnd.databricks.v1+output": {
       "addedWidgets": {},
       "aggData": [],
       "aggError": "",
       "aggOverflow": false,
       "aggSchema": [],
       "aggSeriesLimitReached": false,
       "aggType": "",
       "arguments": {},
       "columnCustomDisplayInfos": {},
       "data": [
        [
         "Electronics|Mobiles&Accessories|MobileAccessories|Décor|PhoneCharms",
         "90.000000",
         "4.400000"
        ],
        [
         "Computers&Accessories|Accessories&Peripherals|Cables&Accessories|CableConnectionProtectors",
         "90.000000",
         "4.020000"
        ],
        [
         "Electronics|Headphones,Earbuds&Accessories|Earpads",
         "90.000000",
         "3.800000"
        ],
        [
         "Electronics|Headphones,Earbuds&Accessories|Adapters",
         "88.000000",
         "3.900000"
        ],
        [
         "Computers&Accessories|Accessories&Peripherals|Keyboards,Mice&InputDevices|Keyboard&MiceAccessories|DustCovers",
         "87.500000",
         "3.400000"
        ],
        [
         "Electronics|Mobiles&Accessories|MobileAccessories|Mounts|Shower&WallMounts",
         "82.000000",
         "4.100000"
        ],
        [
         "Computers&Accessories|Components|InternalHardDrives",
         "80.000000",
         "4.200000"
        ],
        [
         "Computers&Accessories|Accessories&Peripherals|Adapters|USBtoUSBAdapters",
         "78.500000",
         "4.150000"
        ],
        [
         "Electronics|Mobiles&Accessories|MobileAccessories|Stands",
         "76.400000",
         "4.160000"
        ],
        [
         "Electronics|Headphones,Earbuds&Accessories|Cases",
         "76.000000",
         "4.300000"
        ],
        [
         "Computers&Accessories|Accessories&Peripherals|LaptopAccessories|NotebookComputerStands",
         "75.666667",
         "4.300000"
        ],
        [
         "Computers&Accessories|Accessories&Peripherals|HardDriveAccessories|Caddies",
         "75.000000",
         "4.100000"
        ],
        [
         "Electronics|Cameras&Photography|VideoCameras",
         "75.000000",
         "3.700000"
        ],
        [
         "Electronics|Mobiles&Accessories|MobileAccessories|Mounts|Bedstand&DeskMounts",
         "74.500000",
         "3.900000"
        ],
        [
         "Computers&Accessories|Printers,Inks&Accessories|Inks,Toners&Cartridges|InkjetInkRefills&Kits",
         "73.000000",
         "4.300000"
        ],
        [
         "Electronics|HomeAudio|Accessories|SpeakerAccessories|Mounts",
         "73.000000",
         "4.000000"
        ],
        [
         "Electronics|Mobiles&Accessories|MobileAccessories|Cables&Adapters|OTGAdapters",
         "72.000000",
         "4.250000"
        ],
        [
         "Electronics|Mobiles&Accessories|MobileAccessories|Décor",
         "72.000000",
         "4.155556"
        ],
        [
         "Electronics|Mobiles&Accessories|MobileAccessories|Cases&Covers|BasicCases",
         "70.750000",
         "4.200000"
        ],
        [
         "Computers&Accessories|Accessories&Peripherals|TabletAccessories|Bags,Cases&Sleeves|Cases",
         "70.500000",
         "4.300000"
        ],
        [
         "Computers&Accessories|Accessories&Peripherals|TabletAccessories|Stands",
         "70.000000",
         "4.100000"
        ],
        [
         "Electronics|WearableTechnology|SmartWatches",
         "69.980769",
         "4.045192"
        ],
        [
         "Electronics|Cameras&Photography|Accessories|Tripods&Monopods|Tabletop&TravelTripods",
         "69.500000",
         "4.350000"
        ],
        [
         "Electronics|Headphones,Earbuds&Accessories|Headphones|Over-Ear",
         "69.000000",
         "4.000000"
        ],
        [
         "Computers&Accessories|ExternalDevices&DataStorage|ExternalSolidStateDrives",
         "68.000000",
         "4.400000"
        ],
        [
         "Electronics|Mobiles&Accessories|MobileAccessories|Maintenance,Upkeep&Repairs|ScreenProtectors",
         "66.857143",
         "4.471429"
        ],
        [
         "Electronics|Mobiles&Accessories|MobileAccessories|Photo&VideoAccessories|SelfieSticks",
         "66.333333",
         "4.277778"
        ],
        [
         "Electronics|Mobiles&Accessories|MobileAccessories|Mounts|HandlebarMounts",
         "66.000000",
         "4.300000"
        ],
        [
         "Computers&Accessories|NetworkingDevices",
         "66.000000",
         "4.100000"
        ],
        [
         "Electronics|Mobiles&Accessories|MobileAccessories|Photo&VideoAccessories|Tripods",
         "66.000000",
         "3.800000"
        ],
        [
         "Electronics|HomeAudio|Accessories|Adapters",
         "65.000000",
         "4.400000"
        ],
        [
         "Computers&Accessories|Accessories&Peripherals|Cables&Accessories|Cables|SATACables",
         "65.000000",
         "3.900000"
        ],
        [
         "Electronics|Mobiles&Accessories|MobileAccessories|StylusPens",
         "64.500000",
         "4.171429"
        ],
        [
         "Computers&Accessories|Accessories&Peripherals|TabletAccessories|ScreenProtectors",
         "63.800000",
         "4.180000"
        ],
        [
         "Electronics|Cameras&Photography|Accessories|Tripods&Monopods|TripodLegs",
         "62.500000",
         "4.050000"
        ],
        [
         "Electronics|Mobiles&Accessories|MobileAccessories|Chargers|AutomobileChargers",
         "62.285714",
         "4.128571"
        ],
        [
         "OfficeProducts|OfficePaperProducts|Paper|Stationery|Notebooks,WritingPads&Diaries|Notepads&MemoBooks",
         "62.000000",
         "4.250000"
        ],
        [
         "Computers&Accessories|Accessories&Peripherals|LaptopAccessories|Bags&Sleeves|LaptopSleeves&Slipcases",
         "61.833333",
         "4.250000"
        ],
        [
         "Computers&Accessories|Accessories&Peripherals|Keyboards,Mice&InputDevices|Keyboard&MiceAccessories|MousePads",
         "61.250000",
         "4.375000"
        ],
        [
         "Computers&Accessories|Accessories&Peripherals|LaptopAccessories|LaptopChargers&PowerSupplies",
         "61.000000",
         "3.980000"
        ],
        [
         "Computers&Accessories|Accessories&Peripherals|Keyboards,Mice&InputDevices|GraphicTablets",
         "60.818182",
         "3.981818"
        ],
        [
         "Electronics|Accessories|MemoryCards|MicroSD",
         "60.526316",
         "4.300000"
        ],
        [
         "Electronics|Mobiles&Accessories|MobileAccessories|AutomobileAccessories|Cradles",
         "60.333333",
         "3.966667"
        ],
        [
         "Electronics|HomeTheater,TV&Video|Accessories|Cables|HDMICables",
         "60.166667",
         "4.223333"
        ],
        [
         "Electronics|HomeAudio|Speakers|SoundbarSpeakers",
         "60.000000",
         "4.200000"
        ],
        [
         "Home&Kitchen|HomeStorage&Organization|LaundryOrganization|LaundryBags",
         "60.000000",
         "4.200000"
        ],
        [
         "Home&Kitchen|Kitchen&Dining|KitchenTools|ManualChoppers&Chippers|Choppers",
         "60.000000",
         "4.100000"
        ],
        [
         "Electronics|Cameras&Photography|Flashes|Macro&RinglightFlashes",
         "60.000000",
         "3.800000"
        ],
        [
         "Electronics|HomeTheater,TV&Video|Accessories|RemoteControls",
         "59.510204",
         "3.800000"
        ],
        [
         "Computers&Accessories|Accessories&Peripherals|Cables&Accessories|Cables|USBCables",
         "59.004751",
         "4.159620"
        ],
        [
         "Home&Kitchen|Heating,Cooling&AirQuality|Parts&Accessories|FanParts&Accessories",
         "59.000000",
         "4.100000"
        ],
        [
         "Computers&Accessories|Accessories&Peripherals|LaptopAccessories|Lapdesks",
         "58.928571",
         "4.064286"
        ],
        [
         "HomeImprovement|Electrical|CordManagement",
         "58.000000",
         "4.500000"
        ],
        [
         "Electronics|Headphones,Earbuds&Accessories|Headphones|In-Ear",
         "57.592593",
         "3.905556"
        ],
        [
         "HomeImprovement|Electrical|Adapters&Multi-Outlets",
         "57.000000",
         "4.000000"
        ],
        [
         "Computers&Accessories|ExternalDevices&DataStorage|PenDrives",
         "56.900000",
         "4.260000"
        ],
        [
         "Computers&Accessories|Accessories&Peripherals|PCGamingPeripherals|Headsets",
         "56.666667",
         "4.033333"
        ],
        [
         "Computers&Accessories|Accessories&Peripherals|Audio&VideoAccessories|PCMicrophones",
         "56.500000",
         "3.600000"
        ],
        [
         "Home&Kitchen|Kitchen&HomeAppliances|Coffee,Tea&Espresso|CoffeeMakerAccessories|MeasuringSpoons",
         "56.333333",
         "4.200000"
        ],
        [
         "Electronics|HomeAudio|Speakers|OutdoorSpeakers",
         "56.250000",
         "4.000000"
        ],
        [
         "Computers&Accessories|Accessories&Peripherals|Cables&Accessories|Cables|DVICables",
         "55.000000",
         "4.400000"
        ],
        [
         "Home&Kitchen|Kitchen&HomeAppliances|SmallKitchenAppliances|YogurtMakers",
         "55.000000",
         "4.100000"
        ],
        [
         "Computers&Accessories|Accessories&Peripherals|HardDiskBags",
         "54.333333",
         "4.333333"
        ],
        [
         "Computers&Accessories|NetworkingDevices|Repeaters&Extenders",
         "54.333333",
         "4.200000"
        ],
        [
         "Computers&Accessories|Accessories&Peripherals|Cables&Accessories|Cables|EthernetCables",
         "54.000000",
         "4.400000"
        ],
        [
         "Home&Kitchen|Kitchen&HomeAppliances|Coffee,Tea&Espresso|StovetopEspressoPots",
         "54.000000",
         "4.200000"
        ],
        [
         "Home&Kitchen|Kitchen&HomeAppliances|SmallKitchenAppliances|DigitalKitchenScales",
         "53.900000",
         "4.080000"
        ],
        [
         "Home&Kitchen|Kitchen&HomeAppliances|SmallKitchenAppliances|WaffleMakers&Irons",
         "53.333333",
         "4.033333"
        ],
        [
         "OfficeProducts|OfficePaperProducts|Paper|Stationery|Notebooks,WritingPads&Diaries",
         "53.000000",
         "4.300000"
        ],
        [
         "Health&PersonalCare|HomeMedicalSupplies&Equipment|HealthMonitors|WeighingScales|DigitalBathroomScales",
         "53.000000",
         "4.000000"
        ],
        [
         "Home&Kitchen|Kitchen&HomeAppliances|SmallKitchenAppliances|EggBoilers",
         "52.909091",
         "4.290909"
        ],
        [
         "Electronics|Headphones,Earbuds&Accessories|Headphones|On-Ear",
         "52.500000",
         "4.070000"
        ],
        [
         "Home&Kitchen|Kitchen&HomeAppliances|SmallKitchenAppliances|Juicers",
         "52.500000",
         "3.700000"
        ],
        [
         "Computers&Accessories|Accessories&Peripherals|PCGamingPeripherals|Gamepads",
         "52.333333",
         "4.266667"
        ],
        [
         "Electronics|HomeTheater,TV&Video|Televisions|StandardTelevisions",
         "52.166667",
         "4.066667"
        ],
        [
         "Home&Kitchen|Heating,Cooling&AirQuality|RoomHeaters",
         "51.500000",
         "3.900000"
        ],
        [
         "Electronics|HomeTheater,TV&Video|SatelliteEquipment|SatelliteReceivers",
         "51.333333",
         "4.266667"
        ],
        [
         "Home&Kitchen|Kitchen&HomeAppliances|Vacuum,Cleaning&Ironing|Irons,Steamers&Accessories|LintShavers",
         "51.318182",
         "4.036364"
        ],
        [
         "Electronics|HomeTheater,TV&Video|Accessories|TVMounts,Stands&Turntables|TVWall&CeilingMounts",
         "51.166667",
         "4.033333"
        ],
        [
         "Electronics|Mobiles&Accessories|MobileAccessories|Photo&VideoAccessories|Flashes&SelfieLights|SelfieLights",
         "51.000000",
         "4.100000"
        ],
        [
         "Home&Kitchen|Kitchen&HomeAppliances|Coffee,Tea&Espresso|CoffeeGrinders|ElectricGrinders",
         "51.000000",
         "3.300000"
        ],
        [
         "Electronics|HomeTheater,TV&Video|Accessories|Cables|RCACables",
         "50.500000",
         "4.300000"
        ],
        [
         "Computers&Accessories|Monitors",
         "50.500000",
         "4.250000"
        ],
        [
         "Electronics|Mobiles&Accessories|MobileAccessories|Chargers|WallChargers",
         "50.388889",
         "4.127778"
        ],
        [
         "Electronics|HomeTheater,TV&Video|Accessories|Cables|SpeakerCables",
         "50.000000",
         "4.400000"
        ],
        [
         "Computers&Accessories|NetworkingDevices|NetworkAdapters|WirelessUSBAdapters",
         "49.923077",
         "4.096154"
        ],
        [
         "Computers&Accessories|Components|Memory",
         "49.000000",
         "4.500000"
        ],
        [
         "Home&Kitchen|Kitchen&HomeAppliances|Vacuum,Cleaning&Ironing|Vacuums&FloorCare|VacuumAccessories|VacuumBags|HandheldBags",
         "49.000000",
         "4.300000"
        ],
        [
         "Electronics|HomeAudio|Speakers|BluetoothSpeakers",
         "48.500000",
         "4.050000"
        ],
        [
         "Home&Kitchen|Heating,Cooling&AirQuality|WaterHeaters&Geysers|InstantWaterHeaters",
         "48.043478",
         "4.052174"
        ],
        [
         "Computers&Accessories|Components|InternalSolidStateDrives",
         "48.000000",
         "4.400000"
        ],
        [
         "Home&Kitchen|Kitchen&HomeAppliances|SmallKitchenAppliances|StandMixers",
         "48.000000",
         "4.300000"
        ],
        [
         "Computers&Accessories|Printers,Inks&Accessories|Inks,Toners&Cartridges|TonerCartridges",
         "48.000000",
         "4.100000"
        ],
        [
         "Home&Kitchen|Kitchen&HomeAppliances|SmallKitchenAppliances|Juicers|ColdPressJuicers",
         "47.000000",
         "4.400000"
        ],
        [
         "Home&Kitchen|HomeStorage&Organization|LaundryOrganization|IroningAccessories|SprayBottles",
         "47.000000",
         "4.150000"
        ],
        [
         "Computers&Accessories|Accessories&Peripherals|Audio&VideoAccessories|PCSpeakers",
         "46.500000",
         "4.050000"
        ],
        [
         "Electronics|HomeTheater,TV&Video|Accessories|Cables|OpticalCables",
         "46.333333",
         "4.133333"
        ],
        [
         "Electronics|Cameras&Photography|Accessories|PhotoStudio&Lighting|PhotoBackgroundAccessories|BackgroundSupports",
         "46.000000",
         "4.300000"
        ],
        [
         "MusicalInstruments|Microphones|Condenser",
         "46.000000",
         "3.900000"
        ],
        [
         "Home&Kitchen|Heating,Cooling&AirQuality|WaterHeaters&Geysers|StorageWaterHeaters",
         "45.083333",
         "4.141667"
        ],
        [
         "Computers&Accessories|ExternalDevices&DataStorage|ExternalMemoryCardReaders",
         "45.000000",
         "4.300000"
        ],
        [
         "Home&Kitchen|Kitchen&HomeAppliances|Vacuum,Cleaning&Ironing|Vacuums&FloorCare|Vacuums|RoboticVacuums",
         "45.000000",
         "4.250000"
        ],
        [
         "Computers&Accessories|Accessories&Peripherals|LaptopAccessories|CoolingPads",
         "45.000000",
         "4.100000"
        ],
        [
         "Home&Kitchen|Kitchen&HomeAppliances|SmallKitchenAppliances|InductionCooktop",
         "44.900000",
         "4.050000"
        ],
        [
         "Home&Kitchen|HomeStorage&Organization|LaundryOrganization|LaundryBaskets",
         "44.846154",
         "3.992308"
        ],
        [
         "Computers&Accessories|NetworkingDevices|Routers",
         "44.666667",
         "4.255556"
        ],
        [
         "Computers&Accessories|Accessories&Peripherals|Audio&VideoAccessories|Webcams&VoIPEquipment|Webcams",
         "44.500000",
         "4.200000"
        ],
        [
         "Home&Kitchen|Kitchen&HomeAppliances|Vacuum,Cleaning&Ironing|PressureWashers,Steam&WindowCleaners",
         "44.333333",
         "4.200000"
        ],
        [
         "Home&Kitchen|Kitchen&HomeAppliances|SmallKitchenAppliances|Kettles&HotWaterDispensers|Kettle&ToasterSets",
         "44.230769",
         "3.961538"
        ],
        [
         "Home&Kitchen|Kitchen&HomeAppliances|SmallKitchenAppliances|JuicerMixerGrinders",
         "44.166667",
         "3.891667"
        ],
        [
         "Home&Kitchen|Kitchen&HomeAppliances|SmallKitchenAppliances|DeepFatFryers|AirFryers",
         "44.000000",
         "4.460000"
        ],
        [
         "Electronics|Accessories|MemoryCards|SecureDigitalCards",
         "44.000000",
         "4.400000"
        ],
        [
         "Computers&Accessories|Accessories&Peripherals|LaptopAccessories",
         "44.000000",
         "4.300000"
        ],
        [
         "Home&Kitchen|Kitchen&HomeAppliances|SmallKitchenAppliances|MixerGrinders",
         "43.962963",
         "4.011111"
        ],
        [
         "Home&Kitchen|Kitchen&HomeAppliances|Vacuum,Cleaning&Ironing|Vacuums&FloorCare|Vacuums|Wet-DryVacuums",
         "43.666667",
         "4.033333"
        ],
        [
         "Computers&Accessories|Accessories&Peripherals|USBHubs",
         "43.400000",
         "3.940000"
        ],
        [
         "Home&Kitchen|Heating,Cooling&AirQuality|AirConditioners|Split-SystemAirConditioners",
         "43.000000",
         "4.300000"
        ],
        [
         "Electronics|HomeAudio|Speakers|TowerSpeakers",
         "43.000000",
         "3.800000"
        ],
        [
         "Electronics|HomeTheater,TV&Video|Projectors",
         "42.666667",
         "4.133333"
        ],
        [
         "Electronics|Cameras&Photography|SecurityCameras|DomeCameras",
         "42.600000",
         "4.100000"
        ],
        [
         "Home&Kitchen|Kitchen&HomeAppliances|WaterPurifiers&Accessories|WaterFilters&Purifiers",
         "42.500000",
         "4.175000"
        ],
        [
         "Home&Kitchen|Heating,Cooling&AirQuality|RoomHeaters|FanHeaters",
         "42.450000",
         "3.810000"
        ],
        [
         "Computers&Accessories|Accessories&Peripherals|Keyboards,Mice&InputDevices|Mice",
         "42.041667",
         "4.287500"
        ],
        [
         "Home&Kitchen|Kitchen&HomeAppliances|SmallKitchenAppliances|HandMixers",
         "42.000000",
         "4.233333"
        ],
        [
         "Home&Kitchen|Heating,Cooling&AirQuality|Fans|TableFans",
         "42.000000",
         "3.950000"
        ],
        [
         "Car&Motorbike|CarAccessories|InteriorAccessories|AirPurifiers&Ionizers",
         "42.000000",
         "3.800000"
        ],
        [
         "Home&Kitchen|Kitchen&HomeAppliances|SmallKitchenAppliances|MiniFoodProcessors&Choppers",
         "41.875000",
         "4.037500"
        ],
        [
         "Home&Kitchen|Kitchen&HomeAppliances|SmallKitchenAppliances|HandBlenders",
         "41.684211",
         "4.057895"
        ],
        [
         "Home&Kitchen|Kitchen&HomeAppliances|Coffee,Tea&Espresso|MilkFrothers",
         "41.333333",
         "3.733333"
        ],
        [
         "Home&Kitchen|Heating,Cooling&AirQuality|AirPurifiers|HEPAAirPurifiers",
         "41.000000",
         "4.275000"
        ],
        [
         "Home&Kitchen|Kitchen&HomeAppliances|WaterPurifiers&Accessories|WaterPurifierAccessories",
         "40.818182",
         "3.918182"
        ],
        [
         "Home&Kitchen|Kitchen&HomeAppliances|SewingMachines&Accessories|Sewing&EmbroideryMachines",
         "40.500000",
         "3.650000"
        ],
        [
         "Computers&Accessories|NetworkingDevices|NetworkAdapters|PowerLANAdapters",
         "40.000000",
         "4.500000"
        ],
        [
         "Electronics|Cameras&Photography|Accessories|Cleaners|CleaningKits",
         "40.000000",
         "4.200000"
        ],
        [
         "Home&Kitchen|Heating,Cooling&AirQuality|Fans|PedestalFans",
         "40.000000",
         "4.100000"
        ],
        [
         "Home&Kitchen|Heating,Cooling&AirQuality|Humidifiers",
         "39.333333",
         "3.966667"
        ],
        [
         "Home&Kitchen|Kitchen&HomeAppliances|SmallKitchenAppliances",
         "39.000000",
         "4.400000"
        ],
        [
         "Computers&Accessories|Accessories&Peripherals|PCGamingPeripherals|GamingKeyboards",
         "39.000000",
         "4.366667"
        ],
        [
         "Home&Kitchen|Kitchen&HomeAppliances|SmallKitchenAppliances|Kettles&HotWaterDispensers|ElectricKettles",
         "39.000000",
         "4.031579"
        ],
        [
         "Electronics|HomeTheater,TV&Video|Televisions|SmartTelevisions",
         "38.550725",
         "4.214493"
        ],
        [
         "Home&Kitchen|Heating,Cooling&AirQuality|Fans|CeilingFans",
         "38.181818",
         "4.109091"
        ],
        [
         "Electronics|Cameras&Photography|Accessories|Tripods&Monopods|CompleteTripodUnits",
         "38.000000",
         "4.400000"
        ],
        [
         "Computers&Accessories|Laptops|TraditionalLaptops",
         "38.000000",
         "4.000000"
        ],
        [
         "Electronics|HomeAudio|Speakers|MultimediaSpeakerSystems",
         "38.000000",
         "3.900000"
        ],
        [
         "Home&Kitchen|Kitchen&HomeAppliances|Vacuum,Cleaning&Ironing|Vacuums&FloorCare|Vacuums|HandheldVacuums",
         "37.750000",
         "3.962500"
        ],
        [
         "Home&Kitchen|Kitchen&HomeAppliances|Coffee,Tea&Espresso|DripCoffeeMachines",
         "37.400000",
         "4.080000"
        ],
        [
         "Electronics|Mobiles&Accessories|MobileAccessories|Chargers|PowerBanks",
         "36.571429",
         "4.121429"
        ],
        [
         "Electronics|HomeTheater,TV&Video|AVReceivers&Amplifiers",
         "36.000000",
         "4.000000"
        ],
        [
         "Home&Kitchen|Heating,Cooling&AirQuality|RoomHeaters|ElectricHeaters",
         "36.000000",
         "3.890000"
        ],
        [
         "Computers&Accessories|Accessories&Peripherals|Keyboards,Mice&InputDevices|Keyboards",
         "35.000000",
         "4.120000"
        ],
        [
         "Computers&Accessories|NetworkingDevices|DataCards&Dongles",
         "35.000000",
         "3.800000"
        ],
        [
         "Computers&Accessories|Accessories&Peripherals|Audio&VideoAccessories|PCHeadsets",
         "35.000000",
         "3.500000"
        ],
        [
         "Home&Kitchen|Kitchen&HomeAppliances|Vacuum,Cleaning&Ironing|Irons,Steamers&Accessories|Irons|DryIrons",
         "34.250000",
         "4.129167"
        ],
        [
         "Computers&Accessories|Accessories&Peripherals|PCGamingPeripherals|GamingMice",
         "33.500000",
         "4.383333"
        ],
        [
         "Home&Kitchen|Kitchen&HomeAppliances|SmallKitchenAppliances|RotiMakers",
         "33.000000",
         "4.400000"
        ],
        [
         "Computers&Accessories|NetworkingDevices|NetworkAdapters|BluetoothAdapters",
         "33.000000",
         "4.300000"
        ],
        [
         "Home&Kitchen|Kitchen&HomeAppliances|SmallKitchenAppliances|SandwichMakers",
         "32.363636",
         "4.100000"
        ],
        [
         "Computers&Accessories|Accessories&Peripherals|Keyboards,Mice&InputDevices|Keyboard&MouseSets",
         "32.100000",
         "4.050000"
        ],
        [
         "Home&Kitchen|Kitchen&HomeAppliances|SmallKitchenAppliances|Rice&PastaCookers",
         "31.800000",
         "3.960000"
        ],
        [
         "Home&Kitchen|Heating,Cooling&AirQuality|WaterHeaters&Geysers|ImmersionRods",
         "31.777778",
         "4.077778"
        ],
        [
         "Home&Kitchen|Kitchen&HomeAppliances|SmallKitchenAppliances|VacuumSealers",
         "31.428571",
         "3.671429"
        ],
        [
         "Home&Kitchen|Heating,Cooling&AirQuality|RoomHeaters|HalogenHeaters",
         "29.500000",
         "3.600000"
        ],
        [
         "Computers&Accessories|Tablets",
         "29.000000",
         "4.600000"
        ],
        [
         "Home&Kitchen|Kitchen&HomeAppliances|Vacuum,Cleaning&Ironing|Vacuums&FloorCare|Vacuums|CanisterVacuums",
         "28.250000",
         "4.175000"
        ],
        [
         "Home&Kitchen|Kitchen&HomeAppliances|Coffee,Tea&Espresso|CoffeePresses",
         "27.000000",
         "4.500000"
        ],
        [
         "Computers&Accessories|ExternalDevices&DataStorage|ExternalHardDisks",
         "27.000000",
         "4.400000"
        ],
        [
         "Home&Kitchen|Heating,Cooling&AirQuality|RoomHeaters|HeatConvectors",
         "27.000000",
         "3.700000"
        ],
        [
         "Electronics|Cameras&Photography|Accessories|Batteries&Chargers|BatteryChargers",
         "25.000000",
         "3.800000"
        ],
        [
         "Home&Kitchen|Heating,Cooling&AirQuality|Fans|ExhaustFans",
         "24.666667",
         "4.100000"
        ],
        [
         "Home&Kitchen|Kitchen&HomeAppliances|Vacuum,Cleaning&Ironing|Irons,Steamers&Accessories|Irons|SteamIrons",
         "23.833333",
         "4.033333"
        ],
        [
         "Electronics|GeneralPurposeBatteries&BatteryChargers",
         "23.500000",
         "4.375000"
        ],
        [
         "Home&Kitchen|Kitchen&HomeAppliances|SmallKitchenAppliances|DigitalKitchenScales|DigitalScales",
         "23.500000",
         "4.300000"
        ],
        [
         "Electronics|Mobiles&Accessories|Smartphones&BasicMobiles|Smartphones",
         "23.294118",
         "4.100000"
        ],
        [
         "Electronics|HomeTheater,TV&Video|Accessories|3DGlasses",
         "23.000000",
         "3.500000"
        ],
        [
         "Home&Kitchen|Kitchen&HomeAppliances|SmallKitchenAppliances|Mills&Grinders|WetGrinders",
         "21.500000",
         "3.800000"
        ],
        [
         "Home&Kitchen|CraftMaterials|Scrapbooking|Tape",
         "21.000000",
         "3.900000"
        ],
        [
         "Computers&Accessories|Accessories&Peripherals|UninterruptedPowerSupplies",
         "20.000000",
         "3.900000"
        ],
        [
         "Electronics|Mobiles&Accessories|Smartphones&BasicMobiles|BasicMobiles",
         "18.555556",
         "3.911111"
        ],
        [
         "OfficeProducts|OfficePaperProducts|Paper|Stationery|Pens,Pencils&WritingSupplies|Pens&Refills|RetractableBallpointPens",
         "17.500000",
         "4.300000"
        ],
        [
         "Home&Kitchen|Kitchen&HomeAppliances|Coffee,Tea&Espresso|EspressoMachines",
         "17.000000",
         "3.900000"
        ],
        [
         "Computers&Accessories|Accessories&Peripherals|USBGadgets|Lamps",
         "16.000000",
         "3.940000"
        ],
        [
         "Computers&Accessories|Accessories&Peripherals|LaptopAccessories|CameraPrivacyCovers",
         "15.400000",
         "4.300000"
        ],
        [
         "Electronics|GeneralPurposeBatteries&BatteryChargers|DisposableBatteries",
         "14.285714",
         "4.414286"
        ],
        [
         "Electronics|PowerAccessories|SurgeProtectors",
         "14.000000",
         "4.500000"
        ],
        [
         "Computers&Accessories|Printers,Inks&Accessories|Printers",
         "13.666667",
         "3.666667"
        ],
        [
         "Electronics|GeneralPurposeBatteries&BatteryChargers|RechargeableBatteries",
         "13.333333",
         "4.166667"
        ],
        [
         "Home&Kitchen|Kitchen&HomeAppliances|SmallKitchenAppliances|Pop-upToasters",
         "13.000000",
         "4.333333"
        ],
        [
         "Computers&Accessories|Printers,Inks&Accessories|Inks,Toners&Cartridges|InkjetInkCartridges",
         "13.000000",
         "4.250000"
        ],
        [
         "OfficeProducts|OfficePaperProducts|Paper|Stationery|Pens,Pencils&WritingSupplies|Pens&Refills|StickBallpointPens",
         "13.000000",
         "4.133333"
        ],
        [
         "OfficeProducts|OfficePaperProducts|Paper|Stationery|Notebooks,WritingPads&Diaries|CompositionNotebooks",
         "12.000000",
         "4.371429"
        ],
        [
         "Computers&Accessories|Printers,Inks&Accessories|Printers|InkjetPrinters",
         "11.500000",
         "3.600000"
        ],
        [
         "Home&Kitchen|CraftMaterials|DrawingMaterials|DrawingMedia|Pens",
         "10.000000",
         "4.400000"
        ],
        [
         "Home&Kitchen|Kitchen&HomeAppliances|SmallKitchenAppliances|OvenToasterGrills",
         "9.500000",
         "4.250000"
        ],
        [
         "Home&Kitchen|CraftMaterials|PaintingMaterials|Paints",
         "9.333333",
         "4.433333"
        ],
        [
         "Home&Kitchen|Kitchen&HomeAppliances|SmallKitchenAppliances|SmallApplianceParts&Accessories",
         "8.000000",
         "4.500000"
        ],
        [
         "OfficeProducts|OfficePaperProducts|Paper|Stationery|Notebooks,WritingPads&Diaries|WireboundNotebooks",
         "5.750000",
         "4.400000"
        ],
        [
         "OfficeProducts|OfficePaperProducts|Paper|Stationery|Pens,Pencils&WritingSupplies|Pens&Refills|BottledInk",
         "5.000000",
         "4.300000"
        ],
        [
         "OfficeProducts|OfficePaperProducts|Paper|Stationery|Pens,Pencils&WritingSupplies|Pens&Refills|LiquidInkRollerballPens",
         "5.000000",
         "4.150000"
        ],
        [
         "Home&Kitchen|Kitchen&HomeAppliances|WaterPurifiers&Accessories|WaterCartridges",
         "3.000000",
         "4.033333"
        ],
        [
         "OfficeProducts|OfficeElectronics|Calculators|Scientific",
         "2.500000",
         "4.450000"
        ],
        [
         "OfficeProducts|OfficeElectronics|Calculators|Basic",
         "0.000000",
         "4.500000"
        ],
        [
         "Home&Kitchen|CraftMaterials|PaintingMaterials",
         "0.000000",
         "4.500000"
        ],
        [
         "Electronics|Cameras&Photography|Accessories|Film",
         "0.000000",
         "4.500000"
        ],
        [
         "Electronics|HomeAudio|MediaStreamingDevices|StreamingClients",
         "0.000000",
         "4.500000"
        ],
        [
         "OfficeProducts|OfficeElectronics|Calculators|Financial&Business",
         "0.000000",
         "4.400000"
        ],
        [
         "Home&Kitchen|Kitchen&HomeAppliances|SmallKitchenAppliances|SmallApplianceParts&Accessories|StandMixerAccessories",
         "0.000000",
         "4.300000"
        ],
        [
         "Toys&Games|Arts&Crafts|Drawing&PaintingSupplies|ColouringPens&Markers",
         "0.000000",
         "4.300000"
        ],
        [
         "OfficeProducts|OfficePaperProducts|Paper|Copy&PrintingPaper|ColouredPaper",
         "0.000000",
         "4.300000"
        ],
        [
         "Home&Kitchen|CraftMaterials|DrawingMaterials|DrawingMedia|Pencils|WoodenPencils",
         "0.000000",
         "4.300000"
        ],
        [
         "OfficeProducts|OfficePaperProducts|Paper|Stationery|Pens,Pencils&WritingSupplies|Pens&Refills|GelInkRollerballPens",
         "0.000000",
         "4.250000"
        ],
        [
         "OfficeProducts|OfficePaperProducts|Paper|Stationery|Pens,Pencils&WritingSupplies|Pens&Refills|FountainPens",
         "0.000000",
         "4.100000"
        ]
       ],
       "datasetInfos": [],
       "dbfsResultPath": null,
       "isJsonSchema": true,
       "metadata": {},
       "overflow": false,
       "plotOptions": {
        "customPlotOptions": {},
        "displayType": "table",
        "pivotAggregation": null,
        "pivotColumns": null,
        "xColumns": null,
        "yColumns": null
       },
       "removedWidgets": [],
       "schema": [
        {
         "metadata": "{\"__CHAR_VARCHAR_TYPE_STRING\":\"varchar(255)\"}",
         "name": "category",
         "type": "\"string\""
        },
        {
         "metadata": "{}",
         "name": "media_desconto",
         "type": "\"decimal(9,6)\""
        },
        {
         "metadata": "{}",
         "name": "media_avaliacao",
         "type": "\"decimal(7,6)\""
        }
       ],
       "type": "table"
      }
     },
     "output_type": "display_data"
    }
   ],
   "source": [
    "%sql\n",
    "SELECT dp.category, AVG(fpr.discount_percentage) AS media_desconto, AVG(fpr.rating) AS media_avaliacao\n",
    "FROM dim_product dp\n",
    "JOIN fact_product_reviews fpr ON dp.product_id = fpr.product_id\n",
    "GROUP BY dp.category\n",
    "ORDER BY media_desconto DESC, media_avaliacao DESC;"
   ]
  },
  {
   "cell_type": "markdown",
   "metadata": {
    "application/vnd.databricks.v1+cell": {
     "cellMetadata": {
      "byteLimit": 2048000,
      "rowLimit": 10000
     },
     "inputWidgets": {},
     "nuid": "05480f95-4eed-4813-9dff-572b39573cd3",
     "showTitle": false,
     "tableResultSettingsMap": {},
     "title": ""
    }
   },
   "source": [
    "Os resultados mostram que os descontos variam significativamente entre as categorias de produtos.\n",
    "Os percentuais de desconto variam amplamente entre as categorias, desde 90% até produtos sem desconto. Isso sugere que as estratégias de desconto são diferentes para cada tipo de produto. Categorias de eletrônicos e acessórios tendem a ter os maiores descontos, enquanto categorias de materiais de escritório tendem a ter os menores. A análise dos descontos pode fornecer insights sobre as estratégias de preços, a concorrência no mercado e o ciclo de vida dos produtos.\n"
   ]
  },
  {
   "cell_type": "markdown",
   "metadata": {
    "application/vnd.databricks.v1+cell": {
     "cellMetadata": {
      "byteLimit": 2048000,
      "rowLimit": 10000
     },
     "inputWidgets": {},
     "nuid": "cc50728b-074b-48e3-81c1-6d9758ed842d",
     "showTitle": false,
     "tableResultSettingsMap": {},
     "title": ""
    }
   },
   "source": [
    "##Qual é a média de avaliações por categoria?"
   ]
  },
  {
   "cell_type": "code",
   "execution_count": 0,
   "metadata": {
    "application/vnd.databricks.v1+cell": {
     "cellMetadata": {
      "byteLimit": 2048000,
      "implicitDf": true,
      "rowLimit": 10000
     },
     "inputWidgets": {},
     "nuid": "ebf2e708-8edd-4733-b757-0fff93f31438",
     "showTitle": false,
     "tableResultSettingsMap": {},
     "title": ""
    }
   },
   "outputs": [
    {
     "output_type": "display_data",
     "data": {
      "text/html": [
       "<style scoped>\n",
       "  .table-result-container {\n",
       "    max-height: 300px;\n",
       "    overflow: auto;\n",
       "  }\n",
       "  table, th, td {\n",
       "    border: 1px solid black;\n",
       "    border-collapse: collapse;\n",
       "  }\n",
       "  th, td {\n",
       "    padding: 5px;\n",
       "  }\n",
       "  th {\n",
       "    text-align: left;\n",
       "  }\n",
       "</style><div class='table-result-container'><table class='table-result'><thead style='background-color: white'><tr><th>category</th><th>media_avaliacao</th></tr></thead><tbody><tr><td>Computers&Accessories|Accessories&Peripherals|HardDriveAccessories|Caddies</td><td>4.100000</td></tr><tr><td>OfficeProducts|OfficePaperProducts|Paper|Stationery|Notebooks,WritingPads&Diaries|WireboundNotebooks</td><td>4.400000</td></tr><tr><td>OfficeProducts|OfficePaperProducts|Paper|Stationery|Notebooks,WritingPads&Diaries|CompositionNotebooks</td><td>4.371429</td></tr><tr><td>Electronics|Cameras&Photography|Accessories|Batteries&Chargers|BatteryChargers</td><td>3.800000</td></tr><tr><td>Computers&Accessories|ExternalDevices&DataStorage|ExternalMemoryCardReaders</td><td>4.300000</td></tr><tr><td>Computers&Accessories|Accessories&Peripherals|TabletAccessories|ScreenProtectors</td><td>4.180000</td></tr><tr><td>Computers&Accessories|Accessories&Peripherals|Audio&VideoAccessories|PCSpeakers</td><td>4.050000</td></tr><tr><td>Computers&Accessories|Accessories&Peripherals|PCGamingPeripherals|Headsets</td><td>4.033333</td></tr><tr><td>Health&PersonalCare|HomeMedicalSupplies&Equipment|HealthMonitors|WeighingScales|DigitalBathroomScales</td><td>4.000000</td></tr><tr><td>Home&Kitchen|Kitchen&HomeAppliances|Vacuum,Cleaning&Ironing|Irons,Steamers&Accessories|LintShavers</td><td>4.036364</td></tr><tr><td>Home&Kitchen|Kitchen&HomeAppliances|SmallKitchenAppliances|VacuumSealers</td><td>3.671429</td></tr><tr><td>OfficeProducts|OfficePaperProducts|Paper|Stationery|Notebooks,WritingPads&Diaries</td><td>4.300000</td></tr><tr><td>Home&Kitchen|Heating,Cooling&AirQuality|Fans|TableFans</td><td>3.950000</td></tr><tr><td>Computers&Accessories|ExternalDevices&DataStorage|PenDrives</td><td>4.260000</td></tr><tr><td>Home&Kitchen|Kitchen&HomeAppliances|SmallKitchenAppliances|DigitalKitchenScales</td><td>4.080000</td></tr><tr><td>Computers&Accessories|Accessories&Peripherals|LaptopAccessories|Bags&Sleeves|LaptopSleeves&Slipcases</td><td>4.250000</td></tr><tr><td>Computers&Accessories|Accessories&Peripherals|Keyboards,Mice&InputDevices|Mice</td><td>4.287500</td></tr><tr><td>Computers&Accessories|NetworkingDevices|Routers</td><td>4.255556</td></tr><tr><td>Computers&Accessories|Printers,Inks&Accessories|Printers</td><td>3.666667</td></tr><tr><td>Computers&Accessories|NetworkingDevices|DataCards&Dongles</td><td>3.800000</td></tr><tr><td>Home&Kitchen|Kitchen&HomeAppliances|SmallKitchenAppliances|SandwichMakers</td><td>4.100000</td></tr><tr><td>Home&Kitchen|Kitchen&HomeAppliances|SmallKitchenAppliances|JuicerMixerGrinders</td><td>3.891667</td></tr><tr><td>Electronics|HomeAudio|Speakers|OutdoorSpeakers</td><td>4.000000</td></tr><tr><td>Home&Kitchen|Kitchen&HomeAppliances|SmallKitchenAppliances|Juicers|ColdPressJuicers</td><td>4.400000</td></tr><tr><td>Computers&Accessories|Accessories&Peripherals|Audio&VideoAccessories|PCHeadsets</td><td>3.500000</td></tr><tr><td>Home&Kitchen|Kitchen&HomeAppliances|SmallKitchenAppliances</td><td>4.400000</td></tr><tr><td>Home&Kitchen|Heating,Cooling&AirQuality|WaterHeaters&Geysers|StorageWaterHeaters</td><td>4.141667</td></tr><tr><td>Home&Kitchen|Heating,Cooling&AirQuality|Fans|PedestalFans</td><td>4.100000</td></tr><tr><td>Computers&Accessories|Accessories&Peripherals|HardDiskBags</td><td>4.333333</td></tr><tr><td>Electronics|HomeAudio|Speakers|MultimediaSpeakerSystems</td><td>3.900000</td></tr><tr><td>Computers&Accessories|NetworkingDevices|NetworkAdapters|PowerLANAdapters</td><td>4.500000</td></tr><tr><td>Home&Kitchen|Heating,Cooling&AirQuality|Parts&Accessories|FanParts&Accessories</td><td>4.100000</td></tr><tr><td>Computers&Accessories|Components|Memory</td><td>4.500000</td></tr><tr><td>Computers&Accessories|Accessories&Peripherals|USBGadgets|Lamps</td><td>3.940000</td></tr><tr><td>Electronics|Accessories|MemoryCards|SecureDigitalCards</td><td>4.400000</td></tr><tr><td>Electronics|Accessories|MemoryCards|MicroSD</td><td>4.300000</td></tr><tr><td>Home&Kitchen|Heating,Cooling&AirQuality|RoomHeaters|ElectricHeaters</td><td>3.890000</td></tr><tr><td>Home&Kitchen|Heating,Cooling&AirQuality|RoomHeaters|FanHeaters</td><td>3.810000</td></tr><tr><td>Home&Kitchen|Kitchen&HomeAppliances|Coffee,Tea&Espresso|StovetopEspressoPots</td><td>4.200000</td></tr><tr><td>Electronics|Cameras&Photography|Accessories|PhotoStudio&Lighting|PhotoBackgroundAccessories|BackgroundSupports</td><td>4.300000</td></tr><tr><td>Home&Kitchen|Kitchen&HomeAppliances|Vacuum,Cleaning&Ironing|PressureWashers,Steam&WindowCleaners</td><td>4.200000</td></tr><tr><td>Home&Kitchen|Kitchen&HomeAppliances|SmallKitchenAppliances|StandMixers</td><td>4.300000</td></tr><tr><td>Home&Kitchen|Kitchen&HomeAppliances|Coffee,Tea&Espresso|DripCoffeeMachines</td><td>4.080000</td></tr><tr><td>Electronics|WearableTechnology|SmartWatches</td><td>4.045192</td></tr><tr><td>OfficeProducts|OfficePaperProducts|Paper|Stationery|Pens,Pencils&WritingSupplies|Pens&Refills|RetractableBallpointPens</td><td>4.300000</td></tr><tr><td>Home&Kitchen|Heating,Cooling&AirQuality|RoomHeaters|HalogenHeaters</td><td>3.600000</td></tr><tr><td>OfficeProducts|OfficeElectronics|Calculators|Financial&Business</td><td>4.400000</td></tr><tr><td>Home&Kitchen|Heating,Cooling&AirQuality|Fans|ExhaustFans</td><td>4.100000</td></tr><tr><td>MusicalInstruments|Microphones|Condenser</td><td>3.900000</td></tr><tr><td>Electronics|HomeTheater,TV&Video|Televisions|SmartTelevisions</td><td>4.214493</td></tr><tr><td>Computers&Accessories|Accessories&Peripherals|LaptopAccessories|Lapdesks</td><td>4.064286</td></tr><tr><td>Home&Kitchen|Kitchen&Dining|KitchenTools|ManualChoppers&Chippers|Choppers</td><td>4.100000</td></tr><tr><td>Home&Kitchen|Kitchen&HomeAppliances|SmallKitchenAppliances|DigitalKitchenScales|DigitalScales</td><td>4.300000</td></tr><tr><td>Home&Kitchen|Kitchen&HomeAppliances|Coffee,Tea&Espresso|CoffeeGrinders|ElectricGrinders</td><td>3.300000</td></tr><tr><td>Computers&Accessories|Printers,Inks&Accessories|Inks,Toners&Cartridges|TonerCartridges</td><td>4.100000</td></tr><tr><td>Computers&Accessories|Accessories&Peripherals|PCGamingPeripherals|GamingKeyboards</td><td>4.366667</td></tr><tr><td>Electronics|Cameras&Photography|SecurityCameras|DomeCameras</td><td>4.100000</td></tr><tr><td>Home&Kitchen|Heating,Cooling&AirQuality|Fans|CeilingFans</td><td>4.109091</td></tr><tr><td>Home&Kitchen|Kitchen&HomeAppliances|Coffee,Tea&Espresso|CoffeePresses</td><td>4.500000</td></tr><tr><td>Computers&Accessories|NetworkingDevices|NetworkAdapters|WirelessUSBAdapters</td><td>4.096154</td></tr><tr><td>Computers&Accessories|Printers,Inks&Accessories|Inks,Toners&Cartridges|InkjetInkRefills&Kits</td><td>4.300000</td></tr><tr><td>Home&Kitchen|Kitchen&HomeAppliances|SmallKitchenAppliances|EggBoilers</td><td>4.290909</td></tr><tr><td>Home&Kitchen|Kitchen&HomeAppliances|Coffee,Tea&Espresso|CoffeeMakerAccessories|MeasuringSpoons</td><td>4.200000</td></tr><tr><td>Home&Kitchen|Kitchen&HomeAppliances|SmallKitchenAppliances|WaffleMakers&Irons</td><td>4.033333</td></tr><tr><td>Computers&Accessories|Accessories&Peripherals|LaptopAccessories|CameraPrivacyCovers</td><td>4.300000</td></tr><tr><td>Electronics|HomeAudio|Speakers|BluetoothSpeakers</td><td>4.050000</td></tr><tr><td>Home&Kitchen|HomeStorage&Organization|LaundryOrganization|IroningAccessories|SprayBottles</td><td>4.150000</td></tr><tr><td>Computers&Accessories|Accessories&Peripherals|Keyboards,Mice&InputDevices|Keyboard&MouseSets</td><td>4.050000</td></tr><tr><td>Electronics|Mobiles&Accessories|MobileAccessories|Photo&VideoAccessories|Flashes&SelfieLights|SelfieLights</td><td>4.100000</td></tr><tr><td>Home&Kitchen|Kitchen&HomeAppliances|SmallKitchenAppliances|YogurtMakers</td><td>4.100000</td></tr><tr><td>Home&Kitchen|Kitchen&HomeAppliances|SmallKitchenAppliances|SmallApplianceParts&Accessories|StandMixerAccessories</td><td>4.300000</td></tr><tr><td>Home&Kitchen|Kitchen&HomeAppliances|Vacuum,Cleaning&Ironing|Vacuums&FloorCare|Vacuums|HandheldVacuums</td><td>3.962500</td></tr><tr><td>Computers&Accessories|Accessories&Peripherals|Keyboards,Mice&InputDevices|GraphicTablets</td><td>3.981818</td></tr><tr><td>Electronics|Headphones,Earbuds&Accessories|Cases</td><td>4.300000</td></tr><tr><td>Home&Kitchen|Kitchen&HomeAppliances|Coffee,Tea&Espresso|MilkFrothers</td><td>3.733333</td></tr><tr><td>Home&Kitchen|Kitchen&HomeAppliances|Coffee,Tea&Espresso|EspressoMachines</td><td>3.900000</td></tr><tr><td>Computers&Accessories|Accessories&Peripherals|LaptopAccessories</td><td>4.300000</td></tr><tr><td>Electronics|GeneralPurposeBatteries&BatteryChargers</td><td>4.375000</td></tr><tr><td>Computers&Accessories|Accessories&Peripherals|Adapters|USBtoUSBAdapters</td><td>4.150000</td></tr><tr><td>Computers&Accessories|Components|InternalSolidStateDrives</td><td>4.400000</td></tr><tr><td>Home&Kitchen|CraftMaterials|DrawingMaterials|DrawingMedia|Pens</td><td>4.400000</td></tr><tr><td>OfficeProducts|OfficeElectronics|Calculators|Basic</td><td>4.500000</td></tr><tr><td>Home&Kitchen|Kitchen&HomeAppliances|Vacuum,Cleaning&Ironing|Irons,Steamers&Accessories|Irons|DryIrons</td><td>4.129167</td></tr><tr><td>OfficeProducts|OfficePaperProducts|Paper|Stationery|Pens,Pencils&WritingSupplies|Pens&Refills|LiquidInkRollerballPens</td><td>4.150000</td></tr><tr><td>Home&Kitchen|Kitchen&HomeAppliances|SmallKitchenAppliances|HandBlenders</td><td>4.057895</td></tr><tr><td>Electronics|Mobiles&Accessories|MobileAccessories|Stands</td><td>4.160000</td></tr><tr><td>OfficeProducts|OfficePaperProducts|Paper|Stationery|Pens,Pencils&WritingSupplies|Pens&Refills|FountainPens</td><td>4.100000</td></tr><tr><td>Home&Kitchen|Heating,Cooling&AirQuality|WaterHeaters&Geysers|InstantWaterHeaters</td><td>4.052174</td></tr><tr><td>Electronics|Mobiles&Accessories|MobileAccessories|Chargers|PowerBanks</td><td>4.121429</td></tr><tr><td>Home&Kitchen|Kitchen&HomeAppliances|SmallKitchenAppliances|MiniFoodProcessors&Choppers</td><td>4.037500</td></tr><tr><td>Home&Kitchen|Kitchen&HomeAppliances|Vacuum,Cleaning&Ironing|Vacuums&FloorCare|Vacuums|RoboticVacuums</td><td>4.250000</td></tr><tr><td>Home&Kitchen|Kitchen&HomeAppliances|Vacuum,Cleaning&Ironing|Vacuums&FloorCare|VacuumAccessories|VacuumBags|HandheldBags</td><td>4.300000</td></tr><tr><td>Computers&Accessories|Monitors</td><td>4.250000</td></tr><tr><td>Computers&Accessories|Accessories&Peripherals|UninterruptedPowerSupplies</td><td>3.900000</td></tr><tr><td>Computers&Accessories|Accessories&Peripherals|Keyboards,Mice&InputDevices|Keyboards</td><td>4.120000</td></tr><tr><td>Home&Kitchen|Kitchen&HomeAppliances|SmallKitchenAppliances|RotiMakers</td><td>4.400000</td></tr><tr><td>Home&Kitchen|Kitchen&HomeAppliances|SmallKitchenAppliances|Kettles&HotWaterDispensers|ElectricKettles</td><td>4.031579</td></tr><tr><td>Computers&Accessories|Accessories&Peripherals|LaptopAccessories|LaptopChargers&PowerSupplies</td><td>3.980000</td></tr><tr><td>Home&Kitchen|Kitchen&HomeAppliances|SmallKitchenAppliances|Pop-upToasters</td><td>4.333333</td></tr><tr><td>Electronics|Mobiles&Accessories|MobileAccessories|StylusPens</td><td>4.171429</td></tr><tr><td>OfficeProducts|OfficePaperProducts|Paper|Stationery|Pens,Pencils&WritingSupplies|Pens&Refills|BottledInk</td><td>4.300000</td></tr><tr><td>Home&Kitchen|Kitchen&HomeAppliances|SmallKitchenAppliances|Kettles&HotWaterDispensers|Kettle&ToasterSets</td><td>3.961538</td></tr><tr><td>Car&Motorbike|CarAccessories|InteriorAccessories|AirPurifiers&Ionizers</td><td>3.800000</td></tr><tr><td>Computers&Accessories|ExternalDevices&DataStorage|ExternalHardDisks</td><td>4.400000</td></tr><tr><td>Computers&Accessories|Components|InternalHardDrives</td><td>4.200000</td></tr><tr><td>Home&Kitchen|CraftMaterials|PaintingMaterials|Paints</td><td>4.433333</td></tr><tr><td>Toys&Games|Arts&Crafts|Drawing&PaintingSupplies|ColouringPens&Markers</td><td>4.300000</td></tr><tr><td>Home&Kitchen|Heating,Cooling&AirQuality|AirConditioners|Split-SystemAirConditioners</td><td>4.300000</td></tr><tr><td>Computers&Accessories|Accessories&Peripherals|LaptopAccessories|NotebookComputerStands</td><td>4.300000</td></tr><tr><td>Home&Kitchen|Kitchen&HomeAppliances|SmallKitchenAppliances|MixerGrinders</td><td>4.011111</td></tr><tr><td>Home&Kitchen|Kitchen&HomeAppliances|SmallKitchenAppliances|Rice&PastaCookers</td><td>3.960000</td></tr><tr><td>Computers&Accessories|Printers,Inks&Accessories|Printers|InkjetPrinters</td><td>3.600000</td></tr><tr><td>Home&Kitchen|Kitchen&HomeAppliances|SmallKitchenAppliances|Juicers</td><td>3.700000</td></tr><tr><td>HomeImprovement|Electrical|Adapters&Multi-Outlets</td><td>4.000000</td></tr><tr><td>Computers&Accessories|Accessories&Peripherals|Keyboards,Mice&InputDevices|Keyboard&MiceAccessories|DustCovers</td><td>3.400000</td></tr><tr><td>Computers&Accessories|Printers,Inks&Accessories|Inks,Toners&Cartridges|InkjetInkCartridges</td><td>4.250000</td></tr><tr><td>Electronics|Mobiles&Accessories|MobileAccessories|Photo&VideoAccessories|SelfieSticks</td><td>4.277778</td></tr><tr><td>Home&Kitchen|Heating,Cooling&AirQuality|RoomHeaters|HeatConvectors</td><td>3.700000</td></tr><tr><td>Computers&Accessories|ExternalDevices&DataStorage|ExternalSolidStateDrives</td><td>4.400000</td></tr><tr><td>Electronics|Headphones,Earbuds&Accessories|Headphones|Over-Ear</td><td>4.000000</td></tr><tr><td>Electronics|PowerAccessories|SurgeProtectors</td><td>4.500000</td></tr><tr><td>OfficeProducts|OfficePaperProducts|Paper|Copy&PrintingPaper|ColouredPaper</td><td>4.300000</td></tr><tr><td>Computers&Accessories|Accessories&Peripherals|Cables&Accessories|Cables|SATACables</td><td>3.900000</td></tr><tr><td>Electronics|GeneralPurposeBatteries&BatteryChargers|DisposableBatteries</td><td>4.414286</td></tr><tr><td>Electronics|Mobiles&Accessories|MobileAccessories|Décor</td><td>4.155556</td></tr><tr><td>Electronics|Cameras&Photography|Accessories|Tripods&Monopods|TripodLegs</td><td>4.050000</td></tr><tr><td>Home&Kitchen|Kitchen&HomeAppliances|SmallKitchenAppliances|Mills&Grinders|WetGrinders</td><td>3.800000</td></tr><tr><td>Electronics|GeneralPurposeBatteries&BatteryChargers|RechargeableBatteries</td><td>4.166667</td></tr><tr><td>Electronics|Headphones,Earbuds&Accessories|Headphones|On-Ear</td><td>4.070000</td></tr><tr><td>Computers&Accessories|NetworkingDevices|Repeaters&Extenders</td><td>4.200000</td></tr><tr><td>Home&Kitchen|Kitchen&HomeAppliances|SmallKitchenAppliances|OvenToasterGrills</td><td>4.250000</td></tr><tr><td>Computers&Accessories|Tablets</td><td>4.600000</td></tr><tr><td>Home&Kitchen|Kitchen&HomeAppliances|WaterPurifiers&Accessories|WaterPurifierAccessories</td><td>3.918182</td></tr><tr><td>Computers&Accessories|Accessories&Peripherals|TabletAccessories|Bags,Cases&Sleeves|Cases</td><td>4.300000</td></tr><tr><td>Home&Kitchen|Kitchen&HomeAppliances|SmallKitchenAppliances|DeepFatFryers|AirFryers</td><td>4.460000</td></tr><tr><td>Home&Kitchen|HomeStorage&Organization|LaundryOrganization|LaundryBaskets</td><td>3.992308</td></tr><tr><td>Computers&Accessories|Accessories&Peripherals|Audio&VideoAccessories|Webcams&VoIPEquipment|Webcams</td><td>4.200000</td></tr><tr><td>Computers&Accessories|Accessories&Peripherals|LaptopAccessories|CoolingPads</td><td>4.100000</td></tr><tr><td>Electronics|HomeAudio|Speakers|SoundbarSpeakers</td><td>4.200000</td></tr><tr><td>Home&Kitchen|HomeStorage&Organization|LaundryOrganization|LaundryBags</td><td>4.200000</td></tr><tr><td>Electronics|Headphones,Earbuds&Accessories|Adapters</td><td>3.900000</td></tr><tr><td>Computers&Accessories|Accessories&Peripherals|PCGamingPeripherals|Gamepads</td><td>4.266667</td></tr><tr><td>OfficeProducts|OfficePaperProducts|Paper|Stationery|Pens,Pencils&WritingSupplies|Pens&Refills|StickBallpointPens</td><td>4.133333</td></tr><tr><td>Home&Kitchen|Kitchen&HomeAppliances|Vacuum,Cleaning&Ironing|Irons,Steamers&Accessories|Irons|SteamIrons</td><td>4.033333</td></tr><tr><td>Computers&Accessories|Accessories&Peripherals|Cables&Accessories|Cables|USBCables</td><td>4.159620</td></tr><tr><td>Home&Kitchen|Kitchen&HomeAppliances|Vacuum,Cleaning&Ironing|Vacuums&FloorCare|Vacuums|CanisterVacuums</td><td>4.175000</td></tr><tr><td>Home&Kitchen|Kitchen&HomeAppliances|SmallKitchenAppliances|SmallApplianceParts&Accessories</td><td>4.500000</td></tr><tr><td>Electronics|Headphones,Earbuds&Accessories|Earpads</td><td>3.800000</td></tr><tr><td>Home&Kitchen|Kitchen&HomeAppliances|WaterPurifiers&Accessories|WaterCartridges</td><td>4.033333</td></tr><tr><td>Home&Kitchen|Kitchen&HomeAppliances|WaterPurifiers&Accessories|WaterFilters&Purifiers</td><td>4.175000</td></tr><tr><td>Electronics|Mobiles&Accessories|MobileAccessories|Chargers|WallChargers</td><td>4.127778</td></tr><tr><td>Computers&Accessories|Laptops|TraditionalLaptops</td><td>4.000000</td></tr><tr><td>Home&Kitchen|Heating,Cooling&AirQuality|Humidifiers</td><td>3.966667</td></tr><tr><td>OfficeProducts|OfficePaperProducts|Paper|Stationery|Pens,Pencils&WritingSupplies|Pens&Refills|GelInkRollerballPens</td><td>4.250000</td></tr><tr><td>Home&Kitchen|Kitchen&HomeAppliances|Vacuum,Cleaning&Ironing|Vacuums&FloorCare|Vacuums|Wet-DryVacuums</td><td>4.033333</td></tr><tr><td>Electronics|Cameras&Photography|Accessories|Tripods&Monopods|Tabletop&TravelTripods</td><td>4.350000</td></tr><tr><td>Home&Kitchen|Heating,Cooling&AirQuality|AirPurifiers|HEPAAirPurifiers</td><td>4.275000</td></tr><tr><td>Home&Kitchen|Heating,Cooling&AirQuality|RoomHeaters</td><td>3.900000</td></tr><tr><td>Home&Kitchen|Kitchen&HomeAppliances|SewingMachines&Accessories|Sewing&EmbroideryMachines</td><td>3.650000</td></tr><tr><td>Computers&Accessories|Accessories&Peripherals|PCGamingPeripherals|GamingMice</td><td>4.383333</td></tr><tr><td>Computers&Accessories|Accessories&Peripherals|Cables&Accessories|Cables|EthernetCables</td><td>4.400000</td></tr><tr><td>HomeImprovement|Electrical|CordManagement</td><td>4.500000</td></tr><tr><td>Computers&Accessories|Accessories&Peripherals|TabletAccessories|Stands</td><td>4.100000</td></tr><tr><td>Computers&Accessories|Accessories&Peripherals|USBHubs</td><td>3.940000</td></tr><tr><td>Home&Kitchen|CraftMaterials|PaintingMaterials</td><td>4.500000</td></tr><tr><td>Home&Kitchen|Heating,Cooling&AirQuality|WaterHeaters&Geysers|ImmersionRods</td><td>4.077778</td></tr><tr><td>Computers&Accessories|Accessories&Peripherals|Keyboards,Mice&InputDevices|Keyboard&MiceAccessories|MousePads</td><td>4.375000</td></tr><tr><td>Home&Kitchen|Kitchen&HomeAppliances|SmallKitchenAppliances|HandMixers</td><td>4.233333</td></tr><tr><td>Electronics|Headphones,Earbuds&Accessories|Headphones|In-Ear</td><td>3.905556</td></tr><tr><td>OfficeProducts|OfficePaperProducts|Paper|Stationery|Notebooks,WritingPads&Diaries|Notepads&MemoBooks</td><td>4.250000</td></tr><tr><td>Home&Kitchen|Kitchen&HomeAppliances|SmallKitchenAppliances|InductionCooktop</td><td>4.050000</td></tr><tr><td>Home&Kitchen|CraftMaterials|DrawingMaterials|DrawingMedia|Pencils|WoodenPencils</td><td>4.300000</td></tr><tr><td>Computers&Accessories|Accessories&Peripherals|Audio&VideoAccessories|PCMicrophones</td><td>3.600000</td></tr><tr><td>Electronics|Mobiles&Accessories|MobileAccessories|Mounts|HandlebarMounts</td><td>4.300000</td></tr><tr><td>Electronics|HomeTheater,TV&Video|AVReceivers&Amplifiers</td><td>4.000000</td></tr><tr><td>Electronics|Mobiles&Accessories|MobileAccessories|Maintenance,Upkeep&Repairs|ScreenProtectors</td><td>4.471429</td></tr><tr><td>Computers&Accessories|Accessories&Peripherals|Cables&Accessories|CableConnectionProtectors</td><td>4.020000</td></tr><tr><td>Electronics|Cameras&Photography|Flashes|Macro&RinglightFlashes</td><td>3.800000</td></tr><tr><td>Electronics|HomeAudio|Accessories|Adapters</td><td>4.400000</td></tr><tr><td>Electronics|HomeTheater,TV&Video|Accessories|TVMounts,Stands&Turntables|TVWall&CeilingMounts</td><td>4.033333</td></tr><tr><td>Electronics|Mobiles&Accessories|MobileAccessories|Cables&Adapters|OTGAdapters</td><td>4.250000</td></tr><tr><td>Computers&Accessories|NetworkingDevices</td><td>4.100000</td></tr><tr><td>Electronics|Mobiles&Accessories|Smartphones&BasicMobiles|BasicMobiles</td><td>3.911111</td></tr><tr><td>Electronics|HomeTheater,TV&Video|Accessories|Cables|OpticalCables</td><td>4.133333</td></tr><tr><td>Electronics|HomeTheater,TV&Video|SatelliteEquipment|SatelliteReceivers</td><td>4.266667</td></tr><tr><td>Electronics|Mobiles&Accessories|MobileAccessories|Cases&Covers|BasicCases</td><td>4.200000</td></tr><tr><td>Electronics|HomeAudio|Accessories|SpeakerAccessories|Mounts</td><td>4.000000</td></tr><tr><td>Electronics|Cameras&Photography|Accessories|Film</td><td>4.500000</td></tr><tr><td>OfficeProducts|OfficeElectronics|Calculators|Scientific</td><td>4.450000</td></tr><tr><td>Electronics|Mobiles&Accessories|Smartphones&BasicMobiles|Smartphones</td><td>4.100000</td></tr><tr><td>Electronics|HomeTheater,TV&Video|Televisions|StandardTelevisions</td><td>4.066667</td></tr><tr><td>Electronics|Mobiles&Accessories|MobileAccessories|AutomobileAccessories|Cradles</td><td>3.966667</td></tr><tr><td>Electronics|HomeTheater,TV&Video|Accessories|Cables|SpeakerCables</td><td>4.400000</td></tr><tr><td>Electronics|HomeTheater,TV&Video|Accessories|3DGlasses</td><td>3.500000</td></tr><tr><td>Electronics|Mobiles&Accessories|MobileAccessories|Décor|PhoneCharms</td><td>4.400000</td></tr><tr><td>Electronics|HomeTheater,TV&Video|Accessories|RemoteControls</td><td>3.800000</td></tr><tr><td>Electronics|Mobiles&Accessories|MobileAccessories|Photo&VideoAccessories|Tripods</td><td>3.800000</td></tr><tr><td>Electronics|Cameras&Photography|Accessories|Tripods&Monopods|CompleteTripodUnits</td><td>4.400000</td></tr><tr><td>Electronics|Cameras&Photography|VideoCameras</td><td>3.700000</td></tr><tr><td>Electronics|HomeTheater,TV&Video|Accessories|Cables|RCACables</td><td>4.300000</td></tr><tr><td>Electronics|Mobiles&Accessories|MobileAccessories|Mounts|Shower&WallMounts</td><td>4.100000</td></tr><tr><td>Electronics|Cameras&Photography|Accessories|Cleaners|CleaningKits</td><td>4.200000</td></tr><tr><td>Computers&Accessories|NetworkingDevices|NetworkAdapters|BluetoothAdapters</td><td>4.300000</td></tr><tr><td>Electronics|Mobiles&Accessories|MobileAccessories|Chargers|AutomobileChargers</td><td>4.128571</td></tr><tr><td>Computers&Accessories|Accessories&Peripherals|Cables&Accessories|Cables|DVICables</td><td>4.400000</td></tr><tr><td>Home&Kitchen|CraftMaterials|Scrapbooking|Tape</td><td>3.900000</td></tr><tr><td>Electronics|HomeAudio|MediaStreamingDevices|StreamingClients</td><td>4.500000</td></tr><tr><td>Electronics|HomeTheater,TV&Video|Accessories|Cables|HDMICables</td><td>4.223333</td></tr><tr><td>Electronics|HomeTheater,TV&Video|Projectors</td><td>4.133333</td></tr><tr><td>Electronics|Mobiles&Accessories|MobileAccessories|Mounts|Bedstand&DeskMounts</td><td>3.900000</td></tr><tr><td>Electronics|HomeAudio|Speakers|TowerSpeakers</td><td>3.800000</td></tr></tbody></table></div>"
      ]
     },
     "metadata": {
      "application/vnd.databricks.v1+output": {
       "addedWidgets": {},
       "aggData": [],
       "aggError": "",
       "aggOverflow": false,
       "aggSchema": [],
       "aggSeriesLimitReached": false,
       "aggType": "",
       "arguments": {},
       "columnCustomDisplayInfos": {},
       "data": [
        [
         "Computers&Accessories|Accessories&Peripherals|HardDriveAccessories|Caddies",
         "4.100000"
        ],
        [
         "OfficeProducts|OfficePaperProducts|Paper|Stationery|Notebooks,WritingPads&Diaries|WireboundNotebooks",
         "4.400000"
        ],
        [
         "OfficeProducts|OfficePaperProducts|Paper|Stationery|Notebooks,WritingPads&Diaries|CompositionNotebooks",
         "4.371429"
        ],
        [
         "Electronics|Cameras&Photography|Accessories|Batteries&Chargers|BatteryChargers",
         "3.800000"
        ],
        [
         "Computers&Accessories|ExternalDevices&DataStorage|ExternalMemoryCardReaders",
         "4.300000"
        ],
        [
         "Computers&Accessories|Accessories&Peripherals|TabletAccessories|ScreenProtectors",
         "4.180000"
        ],
        [
         "Computers&Accessories|Accessories&Peripherals|Audio&VideoAccessories|PCSpeakers",
         "4.050000"
        ],
        [
         "Computers&Accessories|Accessories&Peripherals|PCGamingPeripherals|Headsets",
         "4.033333"
        ],
        [
         "Health&PersonalCare|HomeMedicalSupplies&Equipment|HealthMonitors|WeighingScales|DigitalBathroomScales",
         "4.000000"
        ],
        [
         "Home&Kitchen|Kitchen&HomeAppliances|Vacuum,Cleaning&Ironing|Irons,Steamers&Accessories|LintShavers",
         "4.036364"
        ],
        [
         "Home&Kitchen|Kitchen&HomeAppliances|SmallKitchenAppliances|VacuumSealers",
         "3.671429"
        ],
        [
         "OfficeProducts|OfficePaperProducts|Paper|Stationery|Notebooks,WritingPads&Diaries",
         "4.300000"
        ],
        [
         "Home&Kitchen|Heating,Cooling&AirQuality|Fans|TableFans",
         "3.950000"
        ],
        [
         "Computers&Accessories|ExternalDevices&DataStorage|PenDrives",
         "4.260000"
        ],
        [
         "Home&Kitchen|Kitchen&HomeAppliances|SmallKitchenAppliances|DigitalKitchenScales",
         "4.080000"
        ],
        [
         "Computers&Accessories|Accessories&Peripherals|LaptopAccessories|Bags&Sleeves|LaptopSleeves&Slipcases",
         "4.250000"
        ],
        [
         "Computers&Accessories|Accessories&Peripherals|Keyboards,Mice&InputDevices|Mice",
         "4.287500"
        ],
        [
         "Computers&Accessories|NetworkingDevices|Routers",
         "4.255556"
        ],
        [
         "Computers&Accessories|Printers,Inks&Accessories|Printers",
         "3.666667"
        ],
        [
         "Computers&Accessories|NetworkingDevices|DataCards&Dongles",
         "3.800000"
        ],
        [
         "Home&Kitchen|Kitchen&HomeAppliances|SmallKitchenAppliances|SandwichMakers",
         "4.100000"
        ],
        [
         "Home&Kitchen|Kitchen&HomeAppliances|SmallKitchenAppliances|JuicerMixerGrinders",
         "3.891667"
        ],
        [
         "Electronics|HomeAudio|Speakers|OutdoorSpeakers",
         "4.000000"
        ],
        [
         "Home&Kitchen|Kitchen&HomeAppliances|SmallKitchenAppliances|Juicers|ColdPressJuicers",
         "4.400000"
        ],
        [
         "Computers&Accessories|Accessories&Peripherals|Audio&VideoAccessories|PCHeadsets",
         "3.500000"
        ],
        [
         "Home&Kitchen|Kitchen&HomeAppliances|SmallKitchenAppliances",
         "4.400000"
        ],
        [
         "Home&Kitchen|Heating,Cooling&AirQuality|WaterHeaters&Geysers|StorageWaterHeaters",
         "4.141667"
        ],
        [
         "Home&Kitchen|Heating,Cooling&AirQuality|Fans|PedestalFans",
         "4.100000"
        ],
        [
         "Computers&Accessories|Accessories&Peripherals|HardDiskBags",
         "4.333333"
        ],
        [
         "Electronics|HomeAudio|Speakers|MultimediaSpeakerSystems",
         "3.900000"
        ],
        [
         "Computers&Accessories|NetworkingDevices|NetworkAdapters|PowerLANAdapters",
         "4.500000"
        ],
        [
         "Home&Kitchen|Heating,Cooling&AirQuality|Parts&Accessories|FanParts&Accessories",
         "4.100000"
        ],
        [
         "Computers&Accessories|Components|Memory",
         "4.500000"
        ],
        [
         "Computers&Accessories|Accessories&Peripherals|USBGadgets|Lamps",
         "3.940000"
        ],
        [
         "Electronics|Accessories|MemoryCards|SecureDigitalCards",
         "4.400000"
        ],
        [
         "Electronics|Accessories|MemoryCards|MicroSD",
         "4.300000"
        ],
        [
         "Home&Kitchen|Heating,Cooling&AirQuality|RoomHeaters|ElectricHeaters",
         "3.890000"
        ],
        [
         "Home&Kitchen|Heating,Cooling&AirQuality|RoomHeaters|FanHeaters",
         "3.810000"
        ],
        [
         "Home&Kitchen|Kitchen&HomeAppliances|Coffee,Tea&Espresso|StovetopEspressoPots",
         "4.200000"
        ],
        [
         "Electronics|Cameras&Photography|Accessories|PhotoStudio&Lighting|PhotoBackgroundAccessories|BackgroundSupports",
         "4.300000"
        ],
        [
         "Home&Kitchen|Kitchen&HomeAppliances|Vacuum,Cleaning&Ironing|PressureWashers,Steam&WindowCleaners",
         "4.200000"
        ],
        [
         "Home&Kitchen|Kitchen&HomeAppliances|SmallKitchenAppliances|StandMixers",
         "4.300000"
        ],
        [
         "Home&Kitchen|Kitchen&HomeAppliances|Coffee,Tea&Espresso|DripCoffeeMachines",
         "4.080000"
        ],
        [
         "Electronics|WearableTechnology|SmartWatches",
         "4.045192"
        ],
        [
         "OfficeProducts|OfficePaperProducts|Paper|Stationery|Pens,Pencils&WritingSupplies|Pens&Refills|RetractableBallpointPens",
         "4.300000"
        ],
        [
         "Home&Kitchen|Heating,Cooling&AirQuality|RoomHeaters|HalogenHeaters",
         "3.600000"
        ],
        [
         "OfficeProducts|OfficeElectronics|Calculators|Financial&Business",
         "4.400000"
        ],
        [
         "Home&Kitchen|Heating,Cooling&AirQuality|Fans|ExhaustFans",
         "4.100000"
        ],
        [
         "MusicalInstruments|Microphones|Condenser",
         "3.900000"
        ],
        [
         "Electronics|HomeTheater,TV&Video|Televisions|SmartTelevisions",
         "4.214493"
        ],
        [
         "Computers&Accessories|Accessories&Peripherals|LaptopAccessories|Lapdesks",
         "4.064286"
        ],
        [
         "Home&Kitchen|Kitchen&Dining|KitchenTools|ManualChoppers&Chippers|Choppers",
         "4.100000"
        ],
        [
         "Home&Kitchen|Kitchen&HomeAppliances|SmallKitchenAppliances|DigitalKitchenScales|DigitalScales",
         "4.300000"
        ],
        [
         "Home&Kitchen|Kitchen&HomeAppliances|Coffee,Tea&Espresso|CoffeeGrinders|ElectricGrinders",
         "3.300000"
        ],
        [
         "Computers&Accessories|Printers,Inks&Accessories|Inks,Toners&Cartridges|TonerCartridges",
         "4.100000"
        ],
        [
         "Computers&Accessories|Accessories&Peripherals|PCGamingPeripherals|GamingKeyboards",
         "4.366667"
        ],
        [
         "Electronics|Cameras&Photography|SecurityCameras|DomeCameras",
         "4.100000"
        ],
        [
         "Home&Kitchen|Heating,Cooling&AirQuality|Fans|CeilingFans",
         "4.109091"
        ],
        [
         "Home&Kitchen|Kitchen&HomeAppliances|Coffee,Tea&Espresso|CoffeePresses",
         "4.500000"
        ],
        [
         "Computers&Accessories|NetworkingDevices|NetworkAdapters|WirelessUSBAdapters",
         "4.096154"
        ],
        [
         "Computers&Accessories|Printers,Inks&Accessories|Inks,Toners&Cartridges|InkjetInkRefills&Kits",
         "4.300000"
        ],
        [
         "Home&Kitchen|Kitchen&HomeAppliances|SmallKitchenAppliances|EggBoilers",
         "4.290909"
        ],
        [
         "Home&Kitchen|Kitchen&HomeAppliances|Coffee,Tea&Espresso|CoffeeMakerAccessories|MeasuringSpoons",
         "4.200000"
        ],
        [
         "Home&Kitchen|Kitchen&HomeAppliances|SmallKitchenAppliances|WaffleMakers&Irons",
         "4.033333"
        ],
        [
         "Computers&Accessories|Accessories&Peripherals|LaptopAccessories|CameraPrivacyCovers",
         "4.300000"
        ],
        [
         "Electronics|HomeAudio|Speakers|BluetoothSpeakers",
         "4.050000"
        ],
        [
         "Home&Kitchen|HomeStorage&Organization|LaundryOrganization|IroningAccessories|SprayBottles",
         "4.150000"
        ],
        [
         "Computers&Accessories|Accessories&Peripherals|Keyboards,Mice&InputDevices|Keyboard&MouseSets",
         "4.050000"
        ],
        [
         "Electronics|Mobiles&Accessories|MobileAccessories|Photo&VideoAccessories|Flashes&SelfieLights|SelfieLights",
         "4.100000"
        ],
        [
         "Home&Kitchen|Kitchen&HomeAppliances|SmallKitchenAppliances|YogurtMakers",
         "4.100000"
        ],
        [
         "Home&Kitchen|Kitchen&HomeAppliances|SmallKitchenAppliances|SmallApplianceParts&Accessories|StandMixerAccessories",
         "4.300000"
        ],
        [
         "Home&Kitchen|Kitchen&HomeAppliances|Vacuum,Cleaning&Ironing|Vacuums&FloorCare|Vacuums|HandheldVacuums",
         "3.962500"
        ],
        [
         "Computers&Accessories|Accessories&Peripherals|Keyboards,Mice&InputDevices|GraphicTablets",
         "3.981818"
        ],
        [
         "Electronics|Headphones,Earbuds&Accessories|Cases",
         "4.300000"
        ],
        [
         "Home&Kitchen|Kitchen&HomeAppliances|Coffee,Tea&Espresso|MilkFrothers",
         "3.733333"
        ],
        [
         "Home&Kitchen|Kitchen&HomeAppliances|Coffee,Tea&Espresso|EspressoMachines",
         "3.900000"
        ],
        [
         "Computers&Accessories|Accessories&Peripherals|LaptopAccessories",
         "4.300000"
        ],
        [
         "Electronics|GeneralPurposeBatteries&BatteryChargers",
         "4.375000"
        ],
        [
         "Computers&Accessories|Accessories&Peripherals|Adapters|USBtoUSBAdapters",
         "4.150000"
        ],
        [
         "Computers&Accessories|Components|InternalSolidStateDrives",
         "4.400000"
        ],
        [
         "Home&Kitchen|CraftMaterials|DrawingMaterials|DrawingMedia|Pens",
         "4.400000"
        ],
        [
         "OfficeProducts|OfficeElectronics|Calculators|Basic",
         "4.500000"
        ],
        [
         "Home&Kitchen|Kitchen&HomeAppliances|Vacuum,Cleaning&Ironing|Irons,Steamers&Accessories|Irons|DryIrons",
         "4.129167"
        ],
        [
         "OfficeProducts|OfficePaperProducts|Paper|Stationery|Pens,Pencils&WritingSupplies|Pens&Refills|LiquidInkRollerballPens",
         "4.150000"
        ],
        [
         "Home&Kitchen|Kitchen&HomeAppliances|SmallKitchenAppliances|HandBlenders",
         "4.057895"
        ],
        [
         "Electronics|Mobiles&Accessories|MobileAccessories|Stands",
         "4.160000"
        ],
        [
         "OfficeProducts|OfficePaperProducts|Paper|Stationery|Pens,Pencils&WritingSupplies|Pens&Refills|FountainPens",
         "4.100000"
        ],
        [
         "Home&Kitchen|Heating,Cooling&AirQuality|WaterHeaters&Geysers|InstantWaterHeaters",
         "4.052174"
        ],
        [
         "Electronics|Mobiles&Accessories|MobileAccessories|Chargers|PowerBanks",
         "4.121429"
        ],
        [
         "Home&Kitchen|Kitchen&HomeAppliances|SmallKitchenAppliances|MiniFoodProcessors&Choppers",
         "4.037500"
        ],
        [
         "Home&Kitchen|Kitchen&HomeAppliances|Vacuum,Cleaning&Ironing|Vacuums&FloorCare|Vacuums|RoboticVacuums",
         "4.250000"
        ],
        [
         "Home&Kitchen|Kitchen&HomeAppliances|Vacuum,Cleaning&Ironing|Vacuums&FloorCare|VacuumAccessories|VacuumBags|HandheldBags",
         "4.300000"
        ],
        [
         "Computers&Accessories|Monitors",
         "4.250000"
        ],
        [
         "Computers&Accessories|Accessories&Peripherals|UninterruptedPowerSupplies",
         "3.900000"
        ],
        [
         "Computers&Accessories|Accessories&Peripherals|Keyboards,Mice&InputDevices|Keyboards",
         "4.120000"
        ],
        [
         "Home&Kitchen|Kitchen&HomeAppliances|SmallKitchenAppliances|RotiMakers",
         "4.400000"
        ],
        [
         "Home&Kitchen|Kitchen&HomeAppliances|SmallKitchenAppliances|Kettles&HotWaterDispensers|ElectricKettles",
         "4.031579"
        ],
        [
         "Computers&Accessories|Accessories&Peripherals|LaptopAccessories|LaptopChargers&PowerSupplies",
         "3.980000"
        ],
        [
         "Home&Kitchen|Kitchen&HomeAppliances|SmallKitchenAppliances|Pop-upToasters",
         "4.333333"
        ],
        [
         "Electronics|Mobiles&Accessories|MobileAccessories|StylusPens",
         "4.171429"
        ],
        [
         "OfficeProducts|OfficePaperProducts|Paper|Stationery|Pens,Pencils&WritingSupplies|Pens&Refills|BottledInk",
         "4.300000"
        ],
        [
         "Home&Kitchen|Kitchen&HomeAppliances|SmallKitchenAppliances|Kettles&HotWaterDispensers|Kettle&ToasterSets",
         "3.961538"
        ],
        [
         "Car&Motorbike|CarAccessories|InteriorAccessories|AirPurifiers&Ionizers",
         "3.800000"
        ],
        [
         "Computers&Accessories|ExternalDevices&DataStorage|ExternalHardDisks",
         "4.400000"
        ],
        [
         "Computers&Accessories|Components|InternalHardDrives",
         "4.200000"
        ],
        [
         "Home&Kitchen|CraftMaterials|PaintingMaterials|Paints",
         "4.433333"
        ],
        [
         "Toys&Games|Arts&Crafts|Drawing&PaintingSupplies|ColouringPens&Markers",
         "4.300000"
        ],
        [
         "Home&Kitchen|Heating,Cooling&AirQuality|AirConditioners|Split-SystemAirConditioners",
         "4.300000"
        ],
        [
         "Computers&Accessories|Accessories&Peripherals|LaptopAccessories|NotebookComputerStands",
         "4.300000"
        ],
        [
         "Home&Kitchen|Kitchen&HomeAppliances|SmallKitchenAppliances|MixerGrinders",
         "4.011111"
        ],
        [
         "Home&Kitchen|Kitchen&HomeAppliances|SmallKitchenAppliances|Rice&PastaCookers",
         "3.960000"
        ],
        [
         "Computers&Accessories|Printers,Inks&Accessories|Printers|InkjetPrinters",
         "3.600000"
        ],
        [
         "Home&Kitchen|Kitchen&HomeAppliances|SmallKitchenAppliances|Juicers",
         "3.700000"
        ],
        [
         "HomeImprovement|Electrical|Adapters&Multi-Outlets",
         "4.000000"
        ],
        [
         "Computers&Accessories|Accessories&Peripherals|Keyboards,Mice&InputDevices|Keyboard&MiceAccessories|DustCovers",
         "3.400000"
        ],
        [
         "Computers&Accessories|Printers,Inks&Accessories|Inks,Toners&Cartridges|InkjetInkCartridges",
         "4.250000"
        ],
        [
         "Electronics|Mobiles&Accessories|MobileAccessories|Photo&VideoAccessories|SelfieSticks",
         "4.277778"
        ],
        [
         "Home&Kitchen|Heating,Cooling&AirQuality|RoomHeaters|HeatConvectors",
         "3.700000"
        ],
        [
         "Computers&Accessories|ExternalDevices&DataStorage|ExternalSolidStateDrives",
         "4.400000"
        ],
        [
         "Electronics|Headphones,Earbuds&Accessories|Headphones|Over-Ear",
         "4.000000"
        ],
        [
         "Electronics|PowerAccessories|SurgeProtectors",
         "4.500000"
        ],
        [
         "OfficeProducts|OfficePaperProducts|Paper|Copy&PrintingPaper|ColouredPaper",
         "4.300000"
        ],
        [
         "Computers&Accessories|Accessories&Peripherals|Cables&Accessories|Cables|SATACables",
         "3.900000"
        ],
        [
         "Electronics|GeneralPurposeBatteries&BatteryChargers|DisposableBatteries",
         "4.414286"
        ],
        [
         "Electronics|Mobiles&Accessories|MobileAccessories|Décor",
         "4.155556"
        ],
        [
         "Electronics|Cameras&Photography|Accessories|Tripods&Monopods|TripodLegs",
         "4.050000"
        ],
        [
         "Home&Kitchen|Kitchen&HomeAppliances|SmallKitchenAppliances|Mills&Grinders|WetGrinders",
         "3.800000"
        ],
        [
         "Electronics|GeneralPurposeBatteries&BatteryChargers|RechargeableBatteries",
         "4.166667"
        ],
        [
         "Electronics|Headphones,Earbuds&Accessories|Headphones|On-Ear",
         "4.070000"
        ],
        [
         "Computers&Accessories|NetworkingDevices|Repeaters&Extenders",
         "4.200000"
        ],
        [
         "Home&Kitchen|Kitchen&HomeAppliances|SmallKitchenAppliances|OvenToasterGrills",
         "4.250000"
        ],
        [
         "Computers&Accessories|Tablets",
         "4.600000"
        ],
        [
         "Home&Kitchen|Kitchen&HomeAppliances|WaterPurifiers&Accessories|WaterPurifierAccessories",
         "3.918182"
        ],
        [
         "Computers&Accessories|Accessories&Peripherals|TabletAccessories|Bags,Cases&Sleeves|Cases",
         "4.300000"
        ],
        [
         "Home&Kitchen|Kitchen&HomeAppliances|SmallKitchenAppliances|DeepFatFryers|AirFryers",
         "4.460000"
        ],
        [
         "Home&Kitchen|HomeStorage&Organization|LaundryOrganization|LaundryBaskets",
         "3.992308"
        ],
        [
         "Computers&Accessories|Accessories&Peripherals|Audio&VideoAccessories|Webcams&VoIPEquipment|Webcams",
         "4.200000"
        ],
        [
         "Computers&Accessories|Accessories&Peripherals|LaptopAccessories|CoolingPads",
         "4.100000"
        ],
        [
         "Electronics|HomeAudio|Speakers|SoundbarSpeakers",
         "4.200000"
        ],
        [
         "Home&Kitchen|HomeStorage&Organization|LaundryOrganization|LaundryBags",
         "4.200000"
        ],
        [
         "Electronics|Headphones,Earbuds&Accessories|Adapters",
         "3.900000"
        ],
        [
         "Computers&Accessories|Accessories&Peripherals|PCGamingPeripherals|Gamepads",
         "4.266667"
        ],
        [
         "OfficeProducts|OfficePaperProducts|Paper|Stationery|Pens,Pencils&WritingSupplies|Pens&Refills|StickBallpointPens",
         "4.133333"
        ],
        [
         "Home&Kitchen|Kitchen&HomeAppliances|Vacuum,Cleaning&Ironing|Irons,Steamers&Accessories|Irons|SteamIrons",
         "4.033333"
        ],
        [
         "Computers&Accessories|Accessories&Peripherals|Cables&Accessories|Cables|USBCables",
         "4.159620"
        ],
        [
         "Home&Kitchen|Kitchen&HomeAppliances|Vacuum,Cleaning&Ironing|Vacuums&FloorCare|Vacuums|CanisterVacuums",
         "4.175000"
        ],
        [
         "Home&Kitchen|Kitchen&HomeAppliances|SmallKitchenAppliances|SmallApplianceParts&Accessories",
         "4.500000"
        ],
        [
         "Electronics|Headphones,Earbuds&Accessories|Earpads",
         "3.800000"
        ],
        [
         "Home&Kitchen|Kitchen&HomeAppliances|WaterPurifiers&Accessories|WaterCartridges",
         "4.033333"
        ],
        [
         "Home&Kitchen|Kitchen&HomeAppliances|WaterPurifiers&Accessories|WaterFilters&Purifiers",
         "4.175000"
        ],
        [
         "Electronics|Mobiles&Accessories|MobileAccessories|Chargers|WallChargers",
         "4.127778"
        ],
        [
         "Computers&Accessories|Laptops|TraditionalLaptops",
         "4.000000"
        ],
        [
         "Home&Kitchen|Heating,Cooling&AirQuality|Humidifiers",
         "3.966667"
        ],
        [
         "OfficeProducts|OfficePaperProducts|Paper|Stationery|Pens,Pencils&WritingSupplies|Pens&Refills|GelInkRollerballPens",
         "4.250000"
        ],
        [
         "Home&Kitchen|Kitchen&HomeAppliances|Vacuum,Cleaning&Ironing|Vacuums&FloorCare|Vacuums|Wet-DryVacuums",
         "4.033333"
        ],
        [
         "Electronics|Cameras&Photography|Accessories|Tripods&Monopods|Tabletop&TravelTripods",
         "4.350000"
        ],
        [
         "Home&Kitchen|Heating,Cooling&AirQuality|AirPurifiers|HEPAAirPurifiers",
         "4.275000"
        ],
        [
         "Home&Kitchen|Heating,Cooling&AirQuality|RoomHeaters",
         "3.900000"
        ],
        [
         "Home&Kitchen|Kitchen&HomeAppliances|SewingMachines&Accessories|Sewing&EmbroideryMachines",
         "3.650000"
        ],
        [
         "Computers&Accessories|Accessories&Peripherals|PCGamingPeripherals|GamingMice",
         "4.383333"
        ],
        [
         "Computers&Accessories|Accessories&Peripherals|Cables&Accessories|Cables|EthernetCables",
         "4.400000"
        ],
        [
         "HomeImprovement|Electrical|CordManagement",
         "4.500000"
        ],
        [
         "Computers&Accessories|Accessories&Peripherals|TabletAccessories|Stands",
         "4.100000"
        ],
        [
         "Computers&Accessories|Accessories&Peripherals|USBHubs",
         "3.940000"
        ],
        [
         "Home&Kitchen|CraftMaterials|PaintingMaterials",
         "4.500000"
        ],
        [
         "Home&Kitchen|Heating,Cooling&AirQuality|WaterHeaters&Geysers|ImmersionRods",
         "4.077778"
        ],
        [
         "Computers&Accessories|Accessories&Peripherals|Keyboards,Mice&InputDevices|Keyboard&MiceAccessories|MousePads",
         "4.375000"
        ],
        [
         "Home&Kitchen|Kitchen&HomeAppliances|SmallKitchenAppliances|HandMixers",
         "4.233333"
        ],
        [
         "Electronics|Headphones,Earbuds&Accessories|Headphones|In-Ear",
         "3.905556"
        ],
        [
         "OfficeProducts|OfficePaperProducts|Paper|Stationery|Notebooks,WritingPads&Diaries|Notepads&MemoBooks",
         "4.250000"
        ],
        [
         "Home&Kitchen|Kitchen&HomeAppliances|SmallKitchenAppliances|InductionCooktop",
         "4.050000"
        ],
        [
         "Home&Kitchen|CraftMaterials|DrawingMaterials|DrawingMedia|Pencils|WoodenPencils",
         "4.300000"
        ],
        [
         "Computers&Accessories|Accessories&Peripherals|Audio&VideoAccessories|PCMicrophones",
         "3.600000"
        ],
        [
         "Electronics|Mobiles&Accessories|MobileAccessories|Mounts|HandlebarMounts",
         "4.300000"
        ],
        [
         "Electronics|HomeTheater,TV&Video|AVReceivers&Amplifiers",
         "4.000000"
        ],
        [
         "Electronics|Mobiles&Accessories|MobileAccessories|Maintenance,Upkeep&Repairs|ScreenProtectors",
         "4.471429"
        ],
        [
         "Computers&Accessories|Accessories&Peripherals|Cables&Accessories|CableConnectionProtectors",
         "4.020000"
        ],
        [
         "Electronics|Cameras&Photography|Flashes|Macro&RinglightFlashes",
         "3.800000"
        ],
        [
         "Electronics|HomeAudio|Accessories|Adapters",
         "4.400000"
        ],
        [
         "Electronics|HomeTheater,TV&Video|Accessories|TVMounts,Stands&Turntables|TVWall&CeilingMounts",
         "4.033333"
        ],
        [
         "Electronics|Mobiles&Accessories|MobileAccessories|Cables&Adapters|OTGAdapters",
         "4.250000"
        ],
        [
         "Computers&Accessories|NetworkingDevices",
         "4.100000"
        ],
        [
         "Electronics|Mobiles&Accessories|Smartphones&BasicMobiles|BasicMobiles",
         "3.911111"
        ],
        [
         "Electronics|HomeTheater,TV&Video|Accessories|Cables|OpticalCables",
         "4.133333"
        ],
        [
         "Electronics|HomeTheater,TV&Video|SatelliteEquipment|SatelliteReceivers",
         "4.266667"
        ],
        [
         "Electronics|Mobiles&Accessories|MobileAccessories|Cases&Covers|BasicCases",
         "4.200000"
        ],
        [
         "Electronics|HomeAudio|Accessories|SpeakerAccessories|Mounts",
         "4.000000"
        ],
        [
         "Electronics|Cameras&Photography|Accessories|Film",
         "4.500000"
        ],
        [
         "OfficeProducts|OfficeElectronics|Calculators|Scientific",
         "4.450000"
        ],
        [
         "Electronics|Mobiles&Accessories|Smartphones&BasicMobiles|Smartphones",
         "4.100000"
        ],
        [
         "Electronics|HomeTheater,TV&Video|Televisions|StandardTelevisions",
         "4.066667"
        ],
        [
         "Electronics|Mobiles&Accessories|MobileAccessories|AutomobileAccessories|Cradles",
         "3.966667"
        ],
        [
         "Electronics|HomeTheater,TV&Video|Accessories|Cables|SpeakerCables",
         "4.400000"
        ],
        [
         "Electronics|HomeTheater,TV&Video|Accessories|3DGlasses",
         "3.500000"
        ],
        [
         "Electronics|Mobiles&Accessories|MobileAccessories|Décor|PhoneCharms",
         "4.400000"
        ],
        [
         "Electronics|HomeTheater,TV&Video|Accessories|RemoteControls",
         "3.800000"
        ],
        [
         "Electronics|Mobiles&Accessories|MobileAccessories|Photo&VideoAccessories|Tripods",
         "3.800000"
        ],
        [
         "Electronics|Cameras&Photography|Accessories|Tripods&Monopods|CompleteTripodUnits",
         "4.400000"
        ],
        [
         "Electronics|Cameras&Photography|VideoCameras",
         "3.700000"
        ],
        [
         "Electronics|HomeTheater,TV&Video|Accessories|Cables|RCACables",
         "4.300000"
        ],
        [
         "Electronics|Mobiles&Accessories|MobileAccessories|Mounts|Shower&WallMounts",
         "4.100000"
        ],
        [
         "Electronics|Cameras&Photography|Accessories|Cleaners|CleaningKits",
         "4.200000"
        ],
        [
         "Computers&Accessories|NetworkingDevices|NetworkAdapters|BluetoothAdapters",
         "4.300000"
        ],
        [
         "Electronics|Mobiles&Accessories|MobileAccessories|Chargers|AutomobileChargers",
         "4.128571"
        ],
        [
         "Computers&Accessories|Accessories&Peripherals|Cables&Accessories|Cables|DVICables",
         "4.400000"
        ],
        [
         "Home&Kitchen|CraftMaterials|Scrapbooking|Tape",
         "3.900000"
        ],
        [
         "Electronics|HomeAudio|MediaStreamingDevices|StreamingClients",
         "4.500000"
        ],
        [
         "Electronics|HomeTheater,TV&Video|Accessories|Cables|HDMICables",
         "4.223333"
        ],
        [
         "Electronics|HomeTheater,TV&Video|Projectors",
         "4.133333"
        ],
        [
         "Electronics|Mobiles&Accessories|MobileAccessories|Mounts|Bedstand&DeskMounts",
         "3.900000"
        ],
        [
         "Electronics|HomeAudio|Speakers|TowerSpeakers",
         "3.800000"
        ]
       ],
       "datasetInfos": [],
       "dbfsResultPath": null,
       "isJsonSchema": true,
       "metadata": {},
       "overflow": false,
       "plotOptions": {
        "customPlotOptions": {},
        "displayType": "table",
        "pivotAggregation": null,
        "pivotColumns": null,
        "xColumns": null,
        "yColumns": null
       },
       "removedWidgets": [],
       "schema": [
        {
         "metadata": "{\"__CHAR_VARCHAR_TYPE_STRING\":\"varchar(255)\"}",
         "name": "category",
         "type": "\"string\""
        },
        {
         "metadata": "{}",
         "name": "media_avaliacao",
         "type": "\"decimal(7,6)\""
        }
       ],
       "type": "table"
      }
     },
     "output_type": "display_data"
    }
   ],
   "source": [
    "%sql\n",
    "SELECT dp.category, AVG(fpr.rating) AS media_avaliacao\n",
    "FROM dim_product dp\n",
    "JOIN fact_product_reviews fpr ON dp.product_id = fpr.product_id\n",
    "GROUP BY dp.category;"
   ]
  },
  {
   "cell_type": "markdown",
   "metadata": {
    "application/vnd.databricks.v1+cell": {
     "cellMetadata": {
      "byteLimit": 2048000,
      "rowLimit": 10000
     },
     "inputWidgets": {},
     "nuid": "7724ecac-a3d8-4f2a-89b4-cb4932b2b012",
     "showTitle": false,
     "tableResultSettingsMap": {},
     "title": ""
    }
   },
   "source": [
    "As médias de avaliação variam de 3.30 a 4.60, indicando que a satisfação dos clientes varia significativamente entre as categorias de produtos.Categorias de acessórios de computador, como tablets, tendem a ter avaliações muito boas.\n",
    "Produtos relacionados a materiais de pintura e organização elétrica também apresentam altas avaliações.\n",
    "Acessórios de memoria e produtos relacionados a rede, tambem tendem a ter uma boa avaliação.Produtos de áudio, como headsets e torres de som, tendem a ter avaliações mais baixas. Produtos de cozinha específicos, como moedores de café elétricos, também apresentam avaliações mais baixas. Acessórios 3d para televisões, tambem tendem a ter uma baixa avaliação."
   ]
  },
  {
   "cell_type": "markdown",
   "metadata": {
    "application/vnd.databricks.v1+cell": {
     "cellMetadata": {
      "byteLimit": 2048000,
      "rowLimit": 10000
     },
     "inputWidgets": {},
     "nuid": "09544a9c-b5a5-43e8-9c38-9f8f5e86aea5",
     "showTitle": false,
     "tableResultSettingsMap": {},
     "title": ""
    }
   },
   "source": [
    "##Como o desconto impacta a avaliação do produto? Produtos com maiores descontos têm avaliações mais altas?"
   ]
  },
  {
   "cell_type": "code",
   "execution_count": 0,
   "metadata": {
    "application/vnd.databricks.v1+cell": {
     "cellMetadata": {
      "byteLimit": 2048000,
      "implicitDf": true,
      "rowLimit": 10000
     },
     "inputWidgets": {},
     "nuid": "8205cf8c-210f-4d8e-8966-c3c483739123",
     "showTitle": false,
     "tableResultSettingsMap": {},
     "title": ""
    }
   },
   "outputs": [
    {
     "output_type": "display_data",
     "data": {
      "text/html": [
       "<style scoped>\n",
       "  .table-result-container {\n",
       "    max-height: 300px;\n",
       "    overflow: auto;\n",
       "  }\n",
       "  table, th, td {\n",
       "    border: 1px solid black;\n",
       "    border-collapse: collapse;\n",
       "  }\n",
       "  th, td {\n",
       "    padding: 5px;\n",
       "  }\n",
       "  th {\n",
       "    text-align: left;\n",
       "  }\n",
       "</style><div class='table-result-container'><table class='table-result'><thead style='background-color: white'><tr><th>discount_percentage</th><th>media_avaliacao</th></tr></thead><tbody><tr><td>0.00</td><td>4.240816</td></tr><tr><td>2.00</td><td>4.500000</td></tr><tr><td>3.00</td><td>4.200000</td></tr><tr><td>4.00</td><td>4.200000</td></tr><tr><td>5.00</td><td>4.300000</td></tr><tr><td>6.00</td><td>3.950000</td></tr><tr><td>7.00</td><td>4.200000</td></tr><tr><td>8.00</td><td>4.000000</td></tr><tr><td>9.00</td><td>4.200000</td></tr><tr><td>10.00</td><td>4.160000</td></tr><tr><td>11.00</td><td>4.037500</td></tr><tr><td>12.00</td><td>4.260000</td></tr><tr><td>13.00</td><td>4.122222</td></tr><tr><td>14.00</td><td>4.136364</td></tr><tr><td>15.00</td><td>4.222222</td></tr><tr><td>16.00</td><td>4.062500</td></tr><tr><td>17.00</td><td>4.118182</td></tr><tr><td>18.00</td><td>4.108333</td></tr><tr><td>19.00</td><td>4.133333</td></tr><tr><td>20.00</td><td>4.221429</td></tr><tr><td>21.00</td><td>4.157143</td></tr><tr><td>22.00</td><td>4.126667</td></tr><tr><td>23.00</td><td>4.154545</td></tr><tr><td>24.00</td><td>4.307143</td></tr><tr><td>25.00</td><td>4.147826</td></tr><tr><td>26.00</td><td>4.114286</td></tr><tr><td>27.00</td><td>4.213333</td></tr><tr><td>28.00</td><td>4.136667</td></tr><tr><td>29.00</td><td>4.075000</td></tr><tr><td>30.00</td><td>4.133333</td></tr><tr><td>31.00</td><td>4.228571</td></tr><tr><td>32.00</td><td>4.125000</td></tr><tr><td>33.00</td><td>4.136364</td></tr><tr><td>34.00</td><td>4.077778</td></tr><tr><td>35.00</td><td>4.016667</td></tr><tr><td>36.00</td><td>4.070000</td></tr><tr><td>37.00</td><td>4.121429</td></tr><tr><td>38.00</td><td>4.067647</td></tr><tr><td>39.00</td><td>4.146154</td></tr><tr><td>40.00</td><td>4.078571</td></tr><tr><td>41.00</td><td>4.152381</td></tr><tr><td>42.00</td><td>4.210000</td></tr><tr><td>43.00</td><td>4.087500</td></tr><tr><td>44.00</td><td>4.113043</td></tr><tr><td>45.00</td><td>3.988889</td></tr><tr><td>46.00</td><td>4.138095</td></tr><tr><td>47.00</td><td>4.166667</td></tr><tr><td>48.00</td><td>3.968000</td></tr><tr><td>49.00</td><td>4.040000</td></tr><tr><td>50.00</td><td>4.094643</td></tr><tr><td>51.00</td><td>4.082353</td></tr><tr><td>52.00</td><td>4.076923</td></tr><tr><td>53.00</td><td>4.110714</td></tr><tr><td>54.00</td><td>3.990909</td></tr><tr><td>55.00</td><td>4.125000</td></tr><tr><td>56.00</td><td>4.188235</td></tr><tr><td>57.00</td><td>4.036364</td></tr><tr><td>58.00</td><td>4.047826</td></tr><tr><td>59.00</td><td>4.081818</td></tr><tr><td>60.00</td><td>3.991071</td></tr><tr><td>61.00</td><td>4.125000</td></tr><tr><td>62.00</td><td>4.087500</td></tr><tr><td>63.00</td><td>4.125926</td></tr><tr><td>64.00</td><td>4.057143</td></tr><tr><td>65.00</td><td>4.074194</td></tr><tr><td>66.00</td><td>4.195455</td></tr><tr><td>67.00</td><td>3.908333</td></tr><tr><td>68.00</td><td>4.110000</td></tr><tr><td>69.00</td><td>4.182353</td></tr><tr><td>70.00</td><td>4.164286</td></tr><tr><td>71.00</td><td>4.010000</td></tr><tr><td>72.00</td><td>3.960000</td></tr><tr><td>73.00</td><td>4.156250</td></tr><tr><td>74.00</td><td>3.966667</td></tr><tr><td>75.00</td><td>4.068966</td></tr><tr><td>76.00</td><td>4.007143</td></tr><tr><td>77.00</td><td>3.888235</td></tr><tr><td>78.00</td><td>3.926667</td></tr><tr><td>79.00</td><td>4.025000</td></tr><tr><td>80.00</td><td>4.089189</td></tr><tr><td>81.00</td><td>4.185714</td></tr><tr><td>82.00</td><td>4.080000</td></tr><tr><td>83.00</td><td>3.960000</td></tr><tr><td>84.00</td><td>3.900000</td></tr><tr><td>85.00</td><td>3.900000</td></tr><tr><td>86.00</td><td>3.675000</td></tr><tr><td>87.00</td><td>3.866667</td></tr><tr><td>88.00</td><td>3.850000</td></tr><tr><td>89.00</td><td>3.900000</td></tr><tr><td>90.00</td><td>3.987500</td></tr><tr><td>91.00</td><td>4.200000</td></tr><tr><td>94.00</td><td>4.300000</td></tr></tbody></table></div>"
      ]
     },
     "metadata": {
      "application/vnd.databricks.v1+output": {
       "addedWidgets": {},
       "aggData": [],
       "aggError": "",
       "aggOverflow": false,
       "aggSchema": [],
       "aggSeriesLimitReached": false,
       "aggType": "",
       "arguments": {},
       "columnCustomDisplayInfos": {},
       "data": [
        [
         "0.00",
         "4.240816"
        ],
        [
         "2.00",
         "4.500000"
        ],
        [
         "3.00",
         "4.200000"
        ],
        [
         "4.00",
         "4.200000"
        ],
        [
         "5.00",
         "4.300000"
        ],
        [
         "6.00",
         "3.950000"
        ],
        [
         "7.00",
         "4.200000"
        ],
        [
         "8.00",
         "4.000000"
        ],
        [
         "9.00",
         "4.200000"
        ],
        [
         "10.00",
         "4.160000"
        ],
        [
         "11.00",
         "4.037500"
        ],
        [
         "12.00",
         "4.260000"
        ],
        [
         "13.00",
         "4.122222"
        ],
        [
         "14.00",
         "4.136364"
        ],
        [
         "15.00",
         "4.222222"
        ],
        [
         "16.00",
         "4.062500"
        ],
        [
         "17.00",
         "4.118182"
        ],
        [
         "18.00",
         "4.108333"
        ],
        [
         "19.00",
         "4.133333"
        ],
        [
         "20.00",
         "4.221429"
        ],
        [
         "21.00",
         "4.157143"
        ],
        [
         "22.00",
         "4.126667"
        ],
        [
         "23.00",
         "4.154545"
        ],
        [
         "24.00",
         "4.307143"
        ],
        [
         "25.00",
         "4.147826"
        ],
        [
         "26.00",
         "4.114286"
        ],
        [
         "27.00",
         "4.213333"
        ],
        [
         "28.00",
         "4.136667"
        ],
        [
         "29.00",
         "4.075000"
        ],
        [
         "30.00",
         "4.133333"
        ],
        [
         "31.00",
         "4.228571"
        ],
        [
         "32.00",
         "4.125000"
        ],
        [
         "33.00",
         "4.136364"
        ],
        [
         "34.00",
         "4.077778"
        ],
        [
         "35.00",
         "4.016667"
        ],
        [
         "36.00",
         "4.070000"
        ],
        [
         "37.00",
         "4.121429"
        ],
        [
         "38.00",
         "4.067647"
        ],
        [
         "39.00",
         "4.146154"
        ],
        [
         "40.00",
         "4.078571"
        ],
        [
         "41.00",
         "4.152381"
        ],
        [
         "42.00",
         "4.210000"
        ],
        [
         "43.00",
         "4.087500"
        ],
        [
         "44.00",
         "4.113043"
        ],
        [
         "45.00",
         "3.988889"
        ],
        [
         "46.00",
         "4.138095"
        ],
        [
         "47.00",
         "4.166667"
        ],
        [
         "48.00",
         "3.968000"
        ],
        [
         "49.00",
         "4.040000"
        ],
        [
         "50.00",
         "4.094643"
        ],
        [
         "51.00",
         "4.082353"
        ],
        [
         "52.00",
         "4.076923"
        ],
        [
         "53.00",
         "4.110714"
        ],
        [
         "54.00",
         "3.990909"
        ],
        [
         "55.00",
         "4.125000"
        ],
        [
         "56.00",
         "4.188235"
        ],
        [
         "57.00",
         "4.036364"
        ],
        [
         "58.00",
         "4.047826"
        ],
        [
         "59.00",
         "4.081818"
        ],
        [
         "60.00",
         "3.991071"
        ],
        [
         "61.00",
         "4.125000"
        ],
        [
         "62.00",
         "4.087500"
        ],
        [
         "63.00",
         "4.125926"
        ],
        [
         "64.00",
         "4.057143"
        ],
        [
         "65.00",
         "4.074194"
        ],
        [
         "66.00",
         "4.195455"
        ],
        [
         "67.00",
         "3.908333"
        ],
        [
         "68.00",
         "4.110000"
        ],
        [
         "69.00",
         "4.182353"
        ],
        [
         "70.00",
         "4.164286"
        ],
        [
         "71.00",
         "4.010000"
        ],
        [
         "72.00",
         "3.960000"
        ],
        [
         "73.00",
         "4.156250"
        ],
        [
         "74.00",
         "3.966667"
        ],
        [
         "75.00",
         "4.068966"
        ],
        [
         "76.00",
         "4.007143"
        ],
        [
         "77.00",
         "3.888235"
        ],
        [
         "78.00",
         "3.926667"
        ],
        [
         "79.00",
         "4.025000"
        ],
        [
         "80.00",
         "4.089189"
        ],
        [
         "81.00",
         "4.185714"
        ],
        [
         "82.00",
         "4.080000"
        ],
        [
         "83.00",
         "3.960000"
        ],
        [
         "84.00",
         "3.900000"
        ],
        [
         "85.00",
         "3.900000"
        ],
        [
         "86.00",
         "3.675000"
        ],
        [
         "87.00",
         "3.866667"
        ],
        [
         "88.00",
         "3.850000"
        ],
        [
         "89.00",
         "3.900000"
        ],
        [
         "90.00",
         "3.987500"
        ],
        [
         "91.00",
         "4.200000"
        ],
        [
         "94.00",
         "4.300000"
        ]
       ],
       "datasetInfos": [],
       "dbfsResultPath": null,
       "isJsonSchema": true,
       "metadata": {},
       "overflow": false,
       "plotOptions": {
        "customPlotOptions": {},
        "displayType": "table",
        "pivotAggregation": null,
        "pivotColumns": null,
        "xColumns": null,
        "yColumns": null
       },
       "removedWidgets": [],
       "schema": [
        {
         "metadata": "{}",
         "name": "discount_percentage",
         "type": "\"decimal(5,2)\""
        },
        {
         "metadata": "{}",
         "name": "media_avaliacao",
         "type": "\"decimal(7,6)\""
        }
       ],
       "type": "table"
      }
     },
     "output_type": "display_data"
    }
   ],
   "source": [
    "%sql\n",
    "SELECT fpr.discount_percentage, AVG(fpr.rating) AS media_avaliacao\n",
    "FROM fact_product_reviews fpr\n",
    "GROUP BY fpr.discount_percentage\n",
    "ORDER BY fpr.discount_percentage;"
   ]
  },
  {
   "cell_type": "markdown",
   "metadata": {
    "application/vnd.databricks.v1+cell": {
     "cellMetadata": {
      "byteLimit": 2048000,
      "rowLimit": 10000
     },
     "inputWidgets": {},
     "nuid": "030e8acf-30ef-40b0-adb7-7773293879e4",
     "showTitle": false,
     "tableResultSettingsMap": {},
     "title": ""
    }
   },
   "source": [
    "Conclusão:\n",
    "\n",
    "Os resultados sugerem que o percentual de desconto tem um impacto limitado na média de avaliação dos produtos. Mesmo com produtos sem descontos, a média de avaliação é de 4.24, o que é relativamente alto. Com descontos muito altos, como 90%, a média de avaliação é de 3.98, que ainda é uma avaliação razoável, mas chega a ter uma menor avaliação que os produtos sem desconto. Isso indica que o desconto não é o principal fator que influencia a avaliação.Outros fatores, como a qualidade do produto e a marca, provavelmente têm um impacto maior.\n",
    "É importante considerar outros fatores e realizar análises adicionais para obter uma compreensão mais completa da relação entre desconto e avaliação."
   ]
  },
  {
   "cell_type": "markdown",
   "metadata": {
    "application/vnd.databricks.v1+cell": {
     "cellMetadata": {
      "byteLimit": 2048000,
      "rowLimit": 10000
     },
     "inputWidgets": {},
     "nuid": "2c485e1a-38be-440b-a290-c42e7eba751c",
     "showTitle": false,
     "tableResultSettingsMap": {},
     "title": ""
    }
   },
   "source": [
    "##Quais são os produtos mais populares, baseados no número de avaliações e no rating?"
   ]
  },
  {
   "cell_type": "code",
   "execution_count": 0,
   "metadata": {
    "application/vnd.databricks.v1+cell": {
     "cellMetadata": {
      "byteLimit": 2048000,
      "implicitDf": true,
      "rowLimit": 10000
     },
     "inputWidgets": {},
     "nuid": "7de69a15-846a-482f-a8d0-2624b2f42d9d",
     "showTitle": false,
     "tableResultSettingsMap": {},
     "title": ""
    }
   },
   "outputs": [
    {
     "output_type": "display_data",
     "data": {
      "text/html": [
       "<style scoped>\n",
       "  .table-result-container {\n",
       "    max-height: 300px;\n",
       "    overflow: auto;\n",
       "  }\n",
       "  table, th, td {\n",
       "    border: 1px solid black;\n",
       "    border-collapse: collapse;\n",
       "  }\n",
       "  th, td {\n",
       "    padding: 5px;\n",
       "  }\n",
       "  th {\n",
       "    text-align: left;\n",
       "  }\n",
       "</style><div class='table-result-container'><table class='table-result'><thead style='background-color: white'><tr><th>product_name</th><th>rating</th><th>rating_count</th></tr></thead><tbody><tr><td>Eureka Forbes car Vac 100 Watts Powerful Suction Vacuum Cleaner with Washable HEPA Filter, 3 Accessories,Compact,Light Weight & Easy to use (Black and Red)</td><td>4.10</td><td>992</td></tr><tr><td>Eveready Red 1012 AAA Batteries - Pack of 10</td><td>4.30</td><td>989</td></tr><tr><td>Pigeon 1.5 litre Hot Kettle and Stainless Steel Water Bottle Combo used for boiling Water, Making Tea and Coffee, Instant Noodles, Soup, 1500 Watt with Auto Shut- off Feature - (Silver)</td><td>3.70</td><td>976</td></tr><tr><td>Zoul USB C 60W Fast Charging 3A 6ft/2M Long Type C Nylon Braided Data Cable Quick Charger Cable QC 3.0 for Samsung Galaxy M31S M30 S10 S9 S20 Plus, Note 10 9 8, A20e A40 A50 A70 (2M, Grey)</td><td>4.30</td><td>974</td></tr><tr><td>Zoul USB Type C Fast Charging 3A Nylon Braided Data Cable Quick Charger Cable QC 3.0 for Samsung Galaxy M31s M30 S10 S9 S20 Plus, Note 10 9 8, A20e A40 A50 A70 (1M, Grey)</td><td>4.30</td><td>974</td></tr><tr><td>Bajaj New Shakti Neo Plus 15 Litre 4 Star Rated Storage Water Heater (Geyser) with Multiple Safety System, White</td><td>3.90</td><td>959</td></tr><tr><td>Hindware Atlantic Xceed 5L 3kW Instant Water Heater with Copper Heating Element and High Grade Stainless Steel Tank</td><td>3.90</td><td>942</td></tr><tr><td>Crypo™ Universal Remote Compatible with Tata Sky Universal HD & SD Set top Box (Also Works with All TV)</td><td>3.80</td><td>928</td></tr><tr><td>iBELL Castor CTEK15L Premium 1.5 Litre Stainless Steel Electric Kettle,1500W Auto Cut-Off Feature,Silver</td><td>4.10</td><td>925</td></tr><tr><td>Ambrane Fast 100W Output Cable with Type-C to Type-C for Mobile, Laptop, Macbook & Table Charging, 480mbps Data Sync Speed, Braided Cable, 1.5m Length (ABCC-100, Black-Grey)</td><td>4.20</td><td>919</td></tr></tbody></table></div>"
      ]
     },
     "metadata": {
      "application/vnd.databricks.v1+output": {
       "addedWidgets": {},
       "aggData": [],
       "aggError": "",
       "aggOverflow": false,
       "aggSchema": [],
       "aggSeriesLimitReached": false,
       "aggType": "",
       "arguments": {},
       "columnCustomDisplayInfos": {},
       "data": [
        [
         "Eureka Forbes car Vac 100 Watts Powerful Suction Vacuum Cleaner with Washable HEPA Filter, 3 Accessories,Compact,Light Weight & Easy to use (Black and Red)",
         "4.10",
         992
        ],
        [
         "Eveready Red 1012 AAA Batteries - Pack of 10",
         "4.30",
         989
        ],
        [
         "Pigeon 1.5 litre Hot Kettle and Stainless Steel Water Bottle Combo used for boiling Water, Making Tea and Coffee, Instant Noodles, Soup, 1500 Watt with Auto Shut- off Feature - (Silver)",
         "3.70",
         976
        ],
        [
         "Zoul USB C 60W Fast Charging 3A 6ft/2M Long Type C Nylon Braided Data Cable Quick Charger Cable QC 3.0 for Samsung Galaxy M31S M30 S10 S9 S20 Plus, Note 10 9 8, A20e A40 A50 A70 (2M, Grey)",
         "4.30",
         974
        ],
        [
         "Zoul USB Type C Fast Charging 3A Nylon Braided Data Cable Quick Charger Cable QC 3.0 for Samsung Galaxy M31s M30 S10 S9 S20 Plus, Note 10 9 8, A20e A40 A50 A70 (1M, Grey)",
         "4.30",
         974
        ],
        [
         "Bajaj New Shakti Neo Plus 15 Litre 4 Star Rated Storage Water Heater (Geyser) with Multiple Safety System, White",
         "3.90",
         959
        ],
        [
         "Hindware Atlantic Xceed 5L 3kW Instant Water Heater with Copper Heating Element and High Grade Stainless Steel Tank",
         "3.90",
         942
        ],
        [
         "Crypo™ Universal Remote Compatible with Tata Sky Universal HD & SD Set top Box (Also Works with All TV)",
         "3.80",
         928
        ],
        [
         "iBELL Castor CTEK15L Premium 1.5 Litre Stainless Steel Electric Kettle,1500W Auto Cut-Off Feature,Silver",
         "4.10",
         925
        ],
        [
         "Ambrane Fast 100W Output Cable with Type-C to Type-C for Mobile, Laptop, Macbook & Table Charging, 480mbps Data Sync Speed, Braided Cable, 1.5m Length (ABCC-100, Black-Grey)",
         "4.20",
         919
        ]
       ],
       "datasetInfos": [],
       "dbfsResultPath": null,
       "isJsonSchema": true,
       "metadata": {},
       "overflow": false,
       "plotOptions": {
        "customPlotOptions": {},
        "displayType": "table",
        "pivotAggregation": null,
        "pivotColumns": null,
        "xColumns": null,
        "yColumns": null
       },
       "removedWidgets": [],
       "schema": [
        {
         "metadata": "{\"__CHAR_VARCHAR_TYPE_STRING\":\"varchar(1000)\"}",
         "name": "product_name",
         "type": "\"string\""
        },
        {
         "metadata": "{}",
         "name": "rating",
         "type": "\"decimal(3,2)\""
        },
        {
         "metadata": "{}",
         "name": "rating_count",
         "type": "\"integer\""
        }
       ],
       "type": "table"
      }
     },
     "output_type": "display_data"
    }
   ],
   "source": [
    "%sql\n",
    "SELECT DISTINCT dp.product_name, fpr.rating, fpr.rating_count\n",
    "FROM dim_product dp\n",
    "JOIN fact_product_reviews fpr ON dp.product_id = fpr.product_id\n",
    "ORDER BY fpr.rating_count DESC, fpr.rating DESC\n",
    "LIMIT 10;"
   ]
  },
  {
   "cell_type": "markdown",
   "metadata": {
    "application/vnd.databricks.v1+cell": {
     "cellMetadata": {
      "byteLimit": 2048000,
      "rowLimit": 10000
     },
     "inputWidgets": {},
     "nuid": "350c5f81-d81e-4efb-b256-7350f3037a62",
     "showTitle": false,
     "tableResultSettingsMap": {},
     "title": ""
    }
   },
   "source": [
    "\n",
    "\n",
    "A lista apresenta uma variedade de produtos, incluindo aspirador de carro, baterias, chaleira elétrica, cabos de carregamento, aquecedores de água, controle remoto e um cabo de carregamento para dispositivos de alta potência. Isso indica uma ampla gama de interesses e necessidades dos consumidores. Todos os produtos têm um número significativo de avaliações, variando de 919 a 992. Isso demonstra que esses produtos são populares e amplamente utilizados. A maioria dos produtos tem avaliações acima de 4.0, indicando um alto nível de satisfação dos clientes. Apenas dois produtos estão com avaliação abaixo de 4.0, o aquecedor de agua da bajaj, e o controle remoto. As descrições dos produtos fornecem informações detalhadas sobre suas características e funcionalidades, o que é útil para os consumidores tomarem decisões de compra informadas."
   ]
  },
  {
   "cell_type": "markdown",
   "metadata": {
    "application/vnd.databricks.v1+cell": {
     "cellMetadata": {
      "byteLimit": 2048000,
      "rowLimit": 10000
     },
     "inputWidgets": {},
     "nuid": "ce59f31e-dc85-41b7-a909-caf5ce91c573",
     "showTitle": false,
     "tableResultSettingsMap": {},
     "title": ""
    }
   },
   "source": [
    "Autoavaliação:\n",
    "\n",
    "Ao concluir o trabalho, acredito que consegui atingir os objetivos principais que defini no início do projeto. O foco estava em entender a relação entre preço, desconto e avaliação dos produtos na plataforma de e-commerce Amazon, e, ao longo da análise, obtive insights valiosos sobre essas variáveis. Consegui calcular a média dos preços originais e com desconto, o que permitiu observar que, em média, os produtos têm descontos significativos. Esse foi um ponto importante para entender a estratégia de precificação da Amazon. Realizamos uma análise dos descontos por categoria, destacando que produtos de diferentes categorias possuem políticas de descontos bastante variadas. Isso abriu caminho para um entendimento das estratégias de preços da plataforma, dependendo do tipo de produto. Também analisei as médias de avaliação por categoria de produto, identificando que a satisfação dos consumidores varia significativamente. Categorias como acessórios de computador e eletrônicos tiveram as melhores avaliações, enquanto produtos de áudio e cozinha receberam avaliações mais baixas.\n",
    "\n",
    "Durante a análise dos dados, percebi que, apesar dos descontos serem relevantes, eles não são os únicos fatores que afetam as avaliações. Em alguns casos, como os produtos com descontos muito altos, a média de avaliação foi ligeiramente inferior à de produtos sem desconto, o que indica que outras variáveis poderiam estar influenciando essas avaliações.\n",
    "Outro desafio foi a diferenciação das categorias de produtos, especialmente em categorias amplas como \"acessórios\", onde as subcategorias podem ter características muito distintas. Isso fez com que algumas análises se tornassem mais complexas do que o esperado.\n",
    "\n",
    "Para enriquecer a análise, seria interessante aprofundar a investigação sobre as relações entre outros fatores e as avaliações, como a marca, a qualidade do produto e a frequência de compra. Isso ajudaria a entender melhor como esses aspectos influenciam a percepção do consumidor.Outra análise relevante seria a segmentação dos dados por tipo de consumidor, por exemplo, consumidores que compram frequentemente e consumidores ocasionais, para ver como a lealdade à marca ou a experiência do usuário impacta as avaliações.\n",
    "\n",
    "O trabalho ajudou a entender as relações entre preço, desconto e avaliação, embora haja espaço para expandir a análise com mais variáveis. A descoberta de que o desconto não é o fator determinante para as avaliações reforça a importância de considerar uma gama mais ampla de fatores ao analisar o comportamento do consumidor em plataformas de e-commerce. Esse projeto contribuiu para o meu entendimento de estratégias de preços e mostrou como é possível usar dados para entender melhor o comportamento do consumidor.\n",
    "\n",
    "\n",
    "\n"
   ]
  }
 ],
 "metadata": {
  "application/vnd.databricks.v1+notebook": {
   "computePreferences": {
    "hardware": {
     "accelerator": null,
     "gpuPoolId": null,
     "memory": null
    }
   },
   "dashboards": [],
   "environmentMetadata": {
    "base_environment": "",
    "environment_version": "2"
   },
   "inputWidgetPreferences": null,
   "language": "python",
   "notebookMetadata": {
    "mostRecentlyExecutedCommandWithImplicitDF": {
     "commandId": 3754960539581422,
     "dataframes": [
      "_sqldf"
     ]
    },
    "pythonIndentUnit": 4
   },
   "notebookName": "amazon1",
   "widgets": {}
  },
  "language_info": {
   "name": "python"
  }
 },
 "nbformat": 4,
 "nbformat_minor": 0
}